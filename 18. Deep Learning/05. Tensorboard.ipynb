{
 "cells": [
  {
   "cell_type": "markdown",
   "metadata": {},
   "source": [
    "# Tensorboard\n",
    "\n",
    "---\n",
    "\n",
    "\n",
    "Let's explore the built in data visualization capabilities that come with Tensorboard.\n",
    "\n",
    "Full official tutorial available here: https://www.tensorflow.org/tensorboard/get_started\n",
    "\n",
    "## Data"
   ]
  },
  {
   "cell_type": "code",
   "execution_count": 1,
   "metadata": {},
   "outputs": [],
   "source": [
    "import pandas as pd\n",
    "import numpy as np"
   ]
  },
  {
   "cell_type": "code",
   "execution_count": 2,
   "metadata": {},
   "outputs": [],
   "source": [
    "df = pd.read_csv('Data/cancer_classification.csv')"
   ]
  },
  {
   "cell_type": "markdown",
   "metadata": {},
   "source": [
    "### Train Test Split"
   ]
  },
  {
   "cell_type": "code",
   "execution_count": 3,
   "metadata": {},
   "outputs": [],
   "source": [
    "X = df.drop('benign_0__mal_1',axis=1).values\n",
    "y = df['benign_0__mal_1'].values"
   ]
  },
  {
   "cell_type": "code",
   "execution_count": 4,
   "metadata": {},
   "outputs": [],
   "source": [
    "from sklearn.model_selection import train_test_split"
   ]
  },
  {
   "cell_type": "code",
   "execution_count": 6,
   "metadata": {},
   "outputs": [],
   "source": [
    "X_train, X_test, y_train, y_test = train_test_split(X, y, test_size=0.25, random_state=101)"
   ]
  },
  {
   "cell_type": "markdown",
   "metadata": {},
   "source": [
    "\n",
    "### Scaling Data"
   ]
  },
  {
   "cell_type": "code",
   "execution_count": 7,
   "metadata": {},
   "outputs": [],
   "source": [
    "from sklearn.preprocessing import MinMaxScaler"
   ]
  },
  {
   "cell_type": "code",
   "execution_count": 8,
   "metadata": {},
   "outputs": [],
   "source": [
    "scaler = MinMaxScaler()"
   ]
  },
  {
   "cell_type": "code",
   "execution_count": 9,
   "metadata": {},
   "outputs": [
    {
     "data": {
      "text/plain": [
       "MinMaxScaler(copy=True, feature_range=(0, 1))"
      ]
     },
     "execution_count": 9,
     "metadata": {},
     "output_type": "execute_result"
    }
   ],
   "source": [
    "scaler.fit(X_train)"
   ]
  },
  {
   "cell_type": "code",
   "execution_count": 10,
   "metadata": {},
   "outputs": [],
   "source": [
    "X_train = scaler.transform(X_train)\n",
    "X_test = scaler.transform(X_test)"
   ]
  },
  {
   "cell_type": "markdown",
   "metadata": {},
   "source": [
    "## Creating the Model"
   ]
  },
  {
   "cell_type": "code",
   "execution_count": 11,
   "metadata": {},
   "outputs": [],
   "source": [
    "import tensorflow as tf\n",
    "from tensorflow.keras.models import Sequential\n",
    "from tensorflow.keras.layers import Dense, Activation,Dropout"
   ]
  },
  {
   "cell_type": "code",
   "execution_count": 12,
   "metadata": {},
   "outputs": [],
   "source": [
    "from tensorflow.keras.callbacks import EarlyStopping,TensorBoard"
   ]
  },
  {
   "cell_type": "code",
   "execution_count": 13,
   "metadata": {},
   "outputs": [],
   "source": [
    "early_stop = EarlyStopping(monitor='val_loss', mode='min', verbose=1, patience=25)"
   ]
  },
  {
   "cell_type": "code",
   "execution_count": 14,
   "metadata": {},
   "outputs": [
    {
     "data": {
      "text/plain": [
       "'/Users/sahil/Extras/Data Science/Data-Science-and-Machine-Learning-Bootcamp/18. Deep Learning'"
      ]
     },
     "execution_count": 14,
     "metadata": {},
     "output_type": "execute_result"
    }
   ],
   "source": [
    "pwd"
   ]
  },
  {
   "cell_type": "markdown",
   "metadata": {},
   "source": [
    "## Creating the Tensorboard Callback\n",
    "\n",
    "TensorBoard is a visualization tool provided with TensorFlow.\n",
    "\n",
    "This callback logs events for TensorBoard, including:\n",
    "* Metrics summary plots\n",
    "* Training graph visualization\n",
    "* Activation histograms\n",
    "* Sampled profiling\n",
    "\n",
    "If you have installed TensorFlow with pip, you should be able\n",
    "to launch TensorBoard from the command line:\n",
    "\n",
    "```sh\n",
    "tensorboard --logdir=path_to_your_logs\n",
    "```\n",
    "\n",
    "You can find more information about TensorBoard\n",
    "[here](https://www.tensorflow.org/tensorboard/).\n",
    "\n",
    "    Arguments:\n",
    "        log_dir: the path of the directory where to save the log files to be\n",
    "          parsed by TensorBoard.\n",
    "        histogram_freq: frequency (in epochs) at which to compute activation and\n",
    "          weight histograms for the layers of the model. If set to 0, histograms\n",
    "          won't be computed. Validation data (or split) must be specified for\n",
    "          histogram visualizations.\n",
    "        write_graph: whether to visualize the graph in TensorBoard. The log file\n",
    "          can become quite large when write_graph is set to True.\n",
    "        write_images: whether to write model weights to visualize as image in\n",
    "          TensorBoard.\n",
    "        update_freq: `'batch'` or `'epoch'` or integer. When using `'batch'`,\n",
    "          writes the losses and metrics to TensorBoard after each batch. The same\n",
    "          applies for `'epoch'`. If using an integer, let's say `1000`, the\n",
    "          callback will write the metrics and losses to TensorBoard every 1000\n",
    "          samples. Note that writing too frequently to TensorBoard can slow down\n",
    "          your training.\n",
    "        profile_batch: Profile the batch to sample compute characteristics. By\n",
    "          default, it will profile the second batch. Set profile_batch=0 to\n",
    "          disable profiling. Must run in TensorFlow eager mode.\n",
    "        embeddings_freq: frequency (in epochs) at which embedding layers will\n",
    "          be visualized. If set to 0, embeddings won't be visualized.\n",
    "       "
   ]
  },
  {
   "cell_type": "code",
   "execution_count": 15,
   "metadata": {},
   "outputs": [],
   "source": [
    "from datetime import datetime"
   ]
  },
  {
   "cell_type": "code",
   "execution_count": 16,
   "metadata": {},
   "outputs": [
    {
     "data": {
      "text/plain": [
       "'2020-09-24--1726'"
      ]
     },
     "execution_count": 16,
     "metadata": {},
     "output_type": "execute_result"
    }
   ],
   "source": [
    "datetime.now().strftime(\"%Y-%m-%d--%H%M\")"
   ]
  },
  {
   "cell_type": "code",
   "execution_count": 21,
   "metadata": {},
   "outputs": [],
   "source": [
    "# WINDOWS: Use \"logs\\\\fit\"\n",
    "\n",
    "log_directory = 'logs/fit'\n",
    "\n",
    "# OPTIONAL: ADD A TIMESTAMP FOR UNIQUE FOLDER\n",
    "# timestamp = datetime.now().strftime(\"%Y-%m-%d--%H%M\")\n",
    "# log_directory = log_directory + '\\\\' + timestamp\n",
    "\n",
    "\n",
    "board = TensorBoard(log_dir=log_directory, histogram_freq=1, write_graph=True, write_images=True, update_freq='epoch',\n",
    "    profile_batch=2, embeddings_freq=1)"
   ]
  },
  {
   "cell_type": "markdown",
   "metadata": {},
   "source": [
    "Now create the model layers:"
   ]
  },
  {
   "cell_type": "code",
   "execution_count": 22,
   "metadata": {},
   "outputs": [],
   "source": [
    "model = Sequential()\n",
    "model.add(Dense(units=30,activation='relu'))\n",
    "model.add(Dropout(0.5))\n",
    "model.add(Dense(units=15,activation='relu'))\n",
    "model.add(Dropout(0.5))\n",
    "model.add(Dense(units=1,activation='sigmoid'))\n",
    "model.compile(loss='binary_crossentropy', optimizer='adam')"
   ]
  },
  {
   "cell_type": "markdown",
   "metadata": {},
   "source": [
    "## Train the Model"
   ]
  },
  {
   "cell_type": "code",
   "execution_count": 23,
   "metadata": {},
   "outputs": [
    {
     "name": "stdout",
     "output_type": "stream",
     "text": [
      "Train on 426 samples, validate on 143 samples\n",
      "Epoch 1/600\n",
      "426/426 [==============================] - 1s 2ms/sample - loss: 0.7251 - val_loss: 0.6835\n",
      "Epoch 2/600\n",
      "426/426 [==============================] - 0s 315us/sample - loss: 0.6957 - val_loss: 0.6694\n",
      "Epoch 3/600\n",
      "426/426 [==============================] - 0s 310us/sample - loss: 0.6707 - val_loss: 0.6531\n",
      "Epoch 4/600\n",
      "426/426 [==============================] - 0s 309us/sample - loss: 0.6616 - val_loss: 0.6343\n",
      "Epoch 5/600\n",
      "426/426 [==============================] - 0s 302us/sample - loss: 0.6292 - val_loss: 0.6072\n",
      "Epoch 6/600\n",
      "426/426 [==============================] - 0s 304us/sample - loss: 0.6111 - val_loss: 0.5800\n",
      "Epoch 7/600\n",
      "426/426 [==============================] - 0s 306us/sample - loss: 0.6073 - val_loss: 0.5539\n",
      "Epoch 8/600\n",
      "426/426 [==============================] - 0s 307us/sample - loss: 0.5804 - val_loss: 0.5321\n",
      "Epoch 9/600\n",
      "426/426 [==============================] - 0s 305us/sample - loss: 0.5616 - val_loss: 0.5043\n",
      "Epoch 10/600\n",
      "426/426 [==============================] - 0s 306us/sample - loss: 0.5308 - val_loss: 0.4782\n",
      "Epoch 11/600\n",
      "426/426 [==============================] - 0s 308us/sample - loss: 0.5186 - val_loss: 0.4532\n",
      "Epoch 12/600\n",
      "426/426 [==============================] - 0s 303us/sample - loss: 0.4955 - val_loss: 0.4321\n",
      "Epoch 13/600\n",
      "426/426 [==============================] - 0s 306us/sample - loss: 0.4655 - val_loss: 0.4008\n",
      "Epoch 14/600\n",
      "426/426 [==============================] - 0s 308us/sample - loss: 0.4748 - val_loss: 0.3800\n",
      "Epoch 15/600\n",
      "426/426 [==============================] - 0s 304us/sample - loss: 0.4532 - val_loss: 0.3592\n",
      "Epoch 16/600\n",
      "426/426 [==============================] - 0s 308us/sample - loss: 0.4042 - val_loss: 0.3380\n",
      "Epoch 17/600\n",
      "426/426 [==============================] - 0s 309us/sample - loss: 0.4235 - val_loss: 0.3160\n",
      "Epoch 18/600\n",
      "426/426 [==============================] - 0s 312us/sample - loss: 0.3679 - val_loss: 0.2939\n",
      "Epoch 19/600\n",
      "426/426 [==============================] - 0s 310us/sample - loss: 0.3680 - val_loss: 0.2733\n",
      "Epoch 20/600\n",
      "426/426 [==============================] - 0s 306us/sample - loss: 0.3558 - val_loss: 0.2572\n",
      "Epoch 21/600\n",
      "426/426 [==============================] - 0s 326us/sample - loss: 0.3534 - val_loss: 0.2429\n",
      "Epoch 22/600\n",
      "426/426 [==============================] - 0s 307us/sample - loss: 0.3443 - val_loss: 0.2454\n",
      "Epoch 23/600\n",
      "426/426 [==============================] - 0s 308us/sample - loss: 0.3051 - val_loss: 0.2234\n",
      "Epoch 24/600\n",
      "426/426 [==============================] - 0s 308us/sample - loss: 0.3140 - val_loss: 0.2118\n",
      "Epoch 25/600\n",
      "426/426 [==============================] - 0s 310us/sample - loss: 0.3327 - val_loss: 0.2072\n",
      "Epoch 26/600\n",
      "426/426 [==============================] - 0s 314us/sample - loss: 0.3077 - val_loss: 0.2012\n",
      "Epoch 27/600\n",
      "426/426 [==============================] - 0s 311us/sample - loss: 0.2812 - val_loss: 0.1898\n",
      "Epoch 28/600\n",
      "426/426 [==============================] - 0s 308us/sample - loss: 0.2701 - val_loss: 0.1801\n",
      "Epoch 29/600\n",
      "426/426 [==============================] - 0s 304us/sample - loss: 0.2449 - val_loss: 0.1707\n",
      "Epoch 30/600\n",
      "426/426 [==============================] - 0s 308us/sample - loss: 0.2640 - val_loss: 0.1708\n",
      "Epoch 31/600\n",
      "426/426 [==============================] - 0s 314us/sample - loss: 0.2293 - val_loss: 0.1589\n",
      "Epoch 32/600\n",
      "426/426 [==============================] - 0s 310us/sample - loss: 0.2509 - val_loss: 0.1572\n",
      "Epoch 33/600\n",
      "426/426 [==============================] - 0s 310us/sample - loss: 0.2242 - val_loss: 0.1475\n",
      "Epoch 34/600\n",
      "426/426 [==============================] - 0s 319us/sample - loss: 0.2332 - val_loss: 0.1427\n",
      "Epoch 35/600\n",
      "426/426 [==============================] - 0s 304us/sample - loss: 0.2153 - val_loss: 0.1489\n",
      "Epoch 36/600\n",
      "426/426 [==============================] - 0s 316us/sample - loss: 0.2398 - val_loss: 0.1360\n",
      "Epoch 37/600\n",
      "426/426 [==============================] - 0s 309us/sample - loss: 0.2228 - val_loss: 0.1348\n",
      "Epoch 38/600\n",
      "426/426 [==============================] - 0s 314us/sample - loss: 0.2203 - val_loss: 0.1385\n",
      "Epoch 39/600\n",
      "426/426 [==============================] - 0s 310us/sample - loss: 0.1903 - val_loss: 0.1503\n",
      "Epoch 40/600\n",
      "426/426 [==============================] - 0s 313us/sample - loss: 0.2182 - val_loss: 0.1324\n",
      "Epoch 41/600\n",
      "426/426 [==============================] - 0s 304us/sample - loss: 0.1977 - val_loss: 0.1243\n",
      "Epoch 42/600\n",
      "426/426 [==============================] - 0s 311us/sample - loss: 0.2036 - val_loss: 0.1236\n",
      "Epoch 43/600\n",
      "426/426 [==============================] - 0s 309us/sample - loss: 0.2017 - val_loss: 0.1184\n",
      "Epoch 44/600\n",
      "426/426 [==============================] - 0s 307us/sample - loss: 0.1819 - val_loss: 0.1189\n",
      "Epoch 45/600\n",
      "426/426 [==============================] - 0s 309us/sample - loss: 0.1995 - val_loss: 0.1147\n",
      "Epoch 46/600\n",
      "426/426 [==============================] - 0s 312us/sample - loss: 0.1812 - val_loss: 0.1128\n",
      "Epoch 47/600\n",
      "426/426 [==============================] - 0s 308us/sample - loss: 0.1720 - val_loss: 0.1081\n",
      "Epoch 48/600\n",
      "426/426 [==============================] - 0s 307us/sample - loss: 0.1750 - val_loss: 0.1068\n",
      "Epoch 49/600\n",
      "426/426 [==============================] - 0s 311us/sample - loss: 0.1689 - val_loss: 0.1080\n",
      "Epoch 50/600\n",
      "426/426 [==============================] - 0s 309us/sample - loss: 0.1587 - val_loss: 0.1053\n",
      "Epoch 51/600\n",
      "426/426 [==============================] - 0s 310us/sample - loss: 0.1673 - val_loss: 0.1024\n",
      "Epoch 52/600\n",
      "426/426 [==============================] - 0s 309us/sample - loss: 0.1545 - val_loss: 0.1028\n",
      "Epoch 53/600\n",
      "426/426 [==============================] - 0s 327us/sample - loss: 0.1604 - val_loss: 0.1038\n",
      "Epoch 54/600\n",
      "426/426 [==============================] - 0s 301us/sample - loss: 0.1770 - val_loss: 0.1094\n",
      "Epoch 55/600\n",
      "426/426 [==============================] - 0s 304us/sample - loss: 0.1625 - val_loss: 0.1014\n",
      "Epoch 56/600\n",
      "426/426 [==============================] - 0s 297us/sample - loss: 0.1728 - val_loss: 0.0999\n",
      "Epoch 57/600\n",
      "426/426 [==============================] - 0s 299us/sample - loss: 0.1636 - val_loss: 0.1034\n",
      "Epoch 58/600\n",
      "426/426 [==============================] - 0s 297us/sample - loss: 0.1558 - val_loss: 0.1027\n",
      "Epoch 59/600\n",
      "426/426 [==============================] - 0s 324us/sample - loss: 0.1334 - val_loss: 0.1036\n",
      "Epoch 60/600\n",
      "426/426 [==============================] - 0s 314us/sample - loss: 0.1299 - val_loss: 0.1014\n",
      "Epoch 61/600\n",
      "426/426 [==============================] - 0s 345us/sample - loss: 0.1380 - val_loss: 0.0921\n",
      "Epoch 62/600\n",
      "426/426 [==============================] - 0s 354us/sample - loss: 0.1518 - val_loss: 0.0935\n",
      "Epoch 63/600\n",
      "426/426 [==============================] - 0s 334us/sample - loss: 0.1416 - val_loss: 0.1108\n",
      "Epoch 64/600\n",
      "426/426 [==============================] - 0s 303us/sample - loss: 0.1559 - val_loss: 0.0905\n",
      "Epoch 65/600\n",
      "426/426 [==============================] - 0s 309us/sample - loss: 0.1333 - val_loss: 0.0912\n",
      "Epoch 66/600\n",
      "426/426 [==============================] - 0s 358us/sample - loss: 0.1211 - val_loss: 0.0937\n",
      "Epoch 67/600\n",
      "426/426 [==============================] - 0s 322us/sample - loss: 0.1312 - val_loss: 0.0925\n",
      "Epoch 68/600\n",
      "426/426 [==============================] - 0s 318us/sample - loss: 0.1341 - val_loss: 0.0952\n",
      "Epoch 69/600\n",
      "426/426 [==============================] - 0s 337us/sample - loss: 0.1485 - val_loss: 0.0875\n",
      "Epoch 70/600\n",
      "426/426 [==============================] - 0s 343us/sample - loss: 0.1139 - val_loss: 0.0880\n",
      "Epoch 71/600\n",
      "426/426 [==============================] - 0s 445us/sample - loss: 0.1303 - val_loss: 0.0935\n",
      "Epoch 72/600\n",
      "426/426 [==============================] - 0s 391us/sample - loss: 0.1053 - val_loss: 0.0905\n",
      "Epoch 73/600\n",
      "426/426 [==============================] - 0s 442us/sample - loss: 0.1129 - val_loss: 0.0865\n",
      "Epoch 74/600\n",
      "426/426 [==============================] - 0s 413us/sample - loss: 0.1288 - val_loss: 0.0919\n",
      "Epoch 75/600\n",
      "426/426 [==============================] - 0s 376us/sample - loss: 0.1243 - val_loss: 0.0894\n",
      "Epoch 76/600\n",
      "426/426 [==============================] - 0s 336us/sample - loss: 0.1143 - val_loss: 0.0945\n",
      "Epoch 77/600\n",
      "426/426 [==============================] - 0s 424us/sample - loss: 0.1242 - val_loss: 0.0851\n"
     ]
    },
    {
     "name": "stdout",
     "output_type": "stream",
     "text": [
      "Epoch 78/600\n",
      "426/426 [==============================] - 0s 395us/sample - loss: 0.1496 - val_loss: 0.0859\n",
      "Epoch 79/600\n",
      "426/426 [==============================] - 0s 349us/sample - loss: 0.1380 - val_loss: 0.0889\n",
      "Epoch 80/600\n",
      "426/426 [==============================] - 0s 372us/sample - loss: 0.1106 - val_loss: 0.0858\n",
      "Epoch 81/600\n",
      "426/426 [==============================] - 0s 325us/sample - loss: 0.1184 - val_loss: 0.0859\n",
      "Epoch 82/600\n",
      "426/426 [==============================] - 0s 299us/sample - loss: 0.1043 - val_loss: 0.0913\n",
      "Epoch 83/600\n",
      "426/426 [==============================] - 0s 296us/sample - loss: 0.1188 - val_loss: 0.0863\n",
      "Epoch 84/600\n",
      "426/426 [==============================] - 0s 288us/sample - loss: 0.1161 - val_loss: 0.0856\n",
      "Epoch 85/600\n",
      "426/426 [==============================] - 0s 285us/sample - loss: 0.1243 - val_loss: 0.0927\n",
      "Epoch 86/600\n",
      "426/426 [==============================] - 0s 326us/sample - loss: 0.1327 - val_loss: 0.0843\n",
      "Epoch 87/600\n",
      "426/426 [==============================] - 0s 284us/sample - loss: 0.1181 - val_loss: 0.0871\n",
      "Epoch 88/600\n",
      "426/426 [==============================] - 0s 278us/sample - loss: 0.0976 - val_loss: 0.0858\n",
      "Epoch 89/600\n",
      "426/426 [==============================] - 0s 292us/sample - loss: 0.1040 - val_loss: 0.0864\n",
      "Epoch 90/600\n",
      "426/426 [==============================] - 0s 286us/sample - loss: 0.1072 - val_loss: 0.0851\n",
      "Epoch 91/600\n",
      "426/426 [==============================] - 0s 290us/sample - loss: 0.1132 - val_loss: 0.0847\n",
      "Epoch 92/600\n",
      "426/426 [==============================] - 0s 287us/sample - loss: 0.1110 - val_loss: 0.0904\n",
      "Epoch 93/600\n",
      "426/426 [==============================] - 0s 290us/sample - loss: 0.1108 - val_loss: 0.0882\n",
      "Epoch 94/600\n",
      "426/426 [==============================] - 0s 291us/sample - loss: 0.1127 - val_loss: 0.0868\n",
      "Epoch 95/600\n",
      "426/426 [==============================] - 0s 275us/sample - loss: 0.1148 - val_loss: 0.0860\n",
      "Epoch 96/600\n",
      "426/426 [==============================] - 0s 280us/sample - loss: 0.0899 - val_loss: 0.0869\n",
      "Epoch 97/600\n",
      "426/426 [==============================] - 0s 307us/sample - loss: 0.1051 - val_loss: 0.0844\n",
      "Epoch 98/600\n",
      "426/426 [==============================] - 0s 366us/sample - loss: 0.1051 - val_loss: 0.0882\n",
      "Epoch 99/600\n",
      "426/426 [==============================] - 0s 309us/sample - loss: 0.0929 - val_loss: 0.0836\n",
      "Epoch 100/600\n",
      "426/426 [==============================] - 0s 306us/sample - loss: 0.1081 - val_loss: 0.0876\n",
      "Epoch 101/600\n",
      "426/426 [==============================] - 0s 303us/sample - loss: 0.1039 - val_loss: 0.0860\n",
      "Epoch 102/600\n",
      "426/426 [==============================] - 0s 295us/sample - loss: 0.0965 - val_loss: 0.0856\n",
      "Epoch 103/600\n",
      "426/426 [==============================] - 0s 280us/sample - loss: 0.0858 - val_loss: 0.0815\n",
      "Epoch 104/600\n",
      "426/426 [==============================] - 0s 291us/sample - loss: 0.1113 - val_loss: 0.0827\n",
      "Epoch 105/600\n",
      "426/426 [==============================] - 0s 292us/sample - loss: 0.0874 - val_loss: 0.0889\n",
      "Epoch 106/600\n",
      "426/426 [==============================] - 0s 289us/sample - loss: 0.1026 - val_loss: 0.0867\n",
      "Epoch 107/600\n",
      "426/426 [==============================] - 0s 340us/sample - loss: 0.1132 - val_loss: 0.0822\n",
      "Epoch 108/600\n",
      "426/426 [==============================] - 0s 284us/sample - loss: 0.0962 - val_loss: 0.1014\n",
      "Epoch 109/600\n",
      "426/426 [==============================] - 0s 283us/sample - loss: 0.0930 - val_loss: 0.0968\n",
      "Epoch 110/600\n",
      "426/426 [==============================] - 0s 293us/sample - loss: 0.1044 - val_loss: 0.0778\n",
      "Epoch 111/600\n",
      "426/426 [==============================] - 0s 298us/sample - loss: 0.0885 - val_loss: 0.0853\n",
      "Epoch 112/600\n",
      "426/426 [==============================] - 0s 290us/sample - loss: 0.0886 - val_loss: 0.0806\n",
      "Epoch 113/600\n",
      "426/426 [==============================] - 0s 296us/sample - loss: 0.0797 - val_loss: 0.0859\n",
      "Epoch 114/600\n",
      "426/426 [==============================] - 0s 291us/sample - loss: 0.1107 - val_loss: 0.0840\n",
      "Epoch 115/600\n",
      "426/426 [==============================] - 0s 292us/sample - loss: 0.0989 - val_loss: 0.0854\n",
      "Epoch 116/600\n",
      "426/426 [==============================] - 0s 295us/sample - loss: 0.0999 - val_loss: 0.0874\n",
      "Epoch 117/600\n",
      "426/426 [==============================] - 0s 284us/sample - loss: 0.0798 - val_loss: 0.0894\n",
      "Epoch 118/600\n",
      "426/426 [==============================] - 0s 310us/sample - loss: 0.0935 - val_loss: 0.0794\n",
      "Epoch 119/600\n",
      "426/426 [==============================] - 0s 285us/sample - loss: 0.0984 - val_loss: 0.0864\n",
      "Epoch 120/600\n",
      "426/426 [==============================] - 0s 334us/sample - loss: 0.1002 - val_loss: 0.0860\n",
      "Epoch 121/600\n",
      "426/426 [==============================] - 0s 288us/sample - loss: 0.0970 - val_loss: 0.0890\n",
      "Epoch 122/600\n",
      "426/426 [==============================] - 0s 292us/sample - loss: 0.0930 - val_loss: 0.0822\n",
      "Epoch 123/600\n",
      "426/426 [==============================] - 0s 300us/sample - loss: 0.0813 - val_loss: 0.0840\n",
      "Epoch 124/600\n",
      "426/426 [==============================] - 0s 285us/sample - loss: 0.0735 - val_loss: 0.0848\n",
      "Epoch 125/600\n",
      "426/426 [==============================] - 0s 293us/sample - loss: 0.0988 - val_loss: 0.0864\n",
      "Epoch 126/600\n",
      "426/426 [==============================] - 0s 296us/sample - loss: 0.0898 - val_loss: 0.0835\n",
      "Epoch 127/600\n",
      "426/426 [==============================] - 0s 308us/sample - loss: 0.0907 - val_loss: 0.0785\n",
      "Epoch 128/600\n",
      "426/426 [==============================] - 0s 316us/sample - loss: 0.0845 - val_loss: 0.0797\n",
      "Epoch 129/600\n",
      "426/426 [==============================] - 0s 298us/sample - loss: 0.0980 - val_loss: 0.0845\n",
      "Epoch 130/600\n",
      "426/426 [==============================] - 0s 285us/sample - loss: 0.0788 - val_loss: 0.0901\n",
      "Epoch 131/600\n",
      "426/426 [==============================] - 0s 290us/sample - loss: 0.1041 - val_loss: 0.0857\n",
      "Epoch 132/600\n",
      "426/426 [==============================] - 0s 281us/sample - loss: 0.0756 - val_loss: 0.0783\n",
      "Epoch 133/600\n",
      "426/426 [==============================] - 0s 282us/sample - loss: 0.0887 - val_loss: 0.0959\n",
      "Epoch 134/600\n",
      "426/426 [==============================] - 0s 281us/sample - loss: 0.0924 - val_loss: 0.0792\n",
      "Epoch 135/600\n",
      "426/426 [==============================] - 0s 283us/sample - loss: 0.0916 - val_loss: 0.0815\n",
      "Epoch 00135: early stopping\n"
     ]
    },
    {
     "data": {
      "text/plain": [
       "<tensorflow.python.keras.callbacks.History at 0x7fc4dd275490>"
      ]
     },
     "execution_count": 23,
     "metadata": {},
     "output_type": "execute_result"
    }
   ],
   "source": [
    "model.fit(x=X_train, \n",
    "          y=y_train, \n",
    "          epochs=600,\n",
    "          validation_data=(X_test, y_test), verbose=1,\n",
    "          callbacks=[early_stop,board]\n",
    "          )"
   ]
  },
  {
   "cell_type": "markdown",
   "metadata": {},
   "source": [
    "----\n",
    "\n",
    "# Running Tensorboard (through terminal)"
   ]
  },
  {
   "cell_type": "markdown",
   "metadata": {},
   "source": [
    "Tensorboard will run locally in your browser at [http://localhost:6006/](http://localhost:6006/)\n"
   ]
  },
  {
   "cell_type": "code",
   "execution_count": 24,
   "metadata": {},
   "outputs": [
    {
     "name": "stdout",
     "output_type": "stream",
     "text": [
      "logs/fit\n"
     ]
    }
   ],
   "source": [
    "print(log_directory)"
   ]
  },
  {
   "cell_type": "code",
   "execution_count": 25,
   "metadata": {},
   "outputs": [
    {
     "data": {
      "text/plain": [
       "'/Users/sahil/Extras/Data Science/Data-Science-and-Machine-Learning-Bootcamp/18. Deep Learning'"
      ]
     },
     "execution_count": 25,
     "metadata": {},
     "output_type": "execute_result"
    }
   ],
   "source": [
    "pwd"
   ]
  },
  {
   "cell_type": "markdown",
   "metadata": {},
   "source": [
    "### Change the directory in the terminal to the current .py file location and then run the following command"
   ]
  },
  {
   "cell_type": "code",
   "execution_count": null,
   "metadata": {},
   "outputs": [],
   "source": [
    "tensorboard --logdir logs/fit "
   ]
  },
  {
   "cell_type": "code",
   "execution_count": 26,
   "metadata": {},
   "outputs": [],
   "source": [
    "#conda install tensorflow=1.14.0 protobuf=3.8.0"
   ]
  }
 ],
 "metadata": {
  "kernelspec": {
   "display_name": "Python 3",
   "language": "python",
   "name": "python3"
  },
  "language_info": {
   "codemirror_mode": {
    "name": "ipython",
    "version": 3
   },
   "file_extension": ".py",
   "mimetype": "text/x-python",
   "name": "python",
   "nbconvert_exporter": "python",
   "pygments_lexer": "ipython3",
   "version": "3.7.6"
  }
 },
 "nbformat": 4,
 "nbformat_minor": 2
}
