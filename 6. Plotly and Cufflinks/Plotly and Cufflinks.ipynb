{
 "cells": [
  {
   "cell_type": "markdown",
   "metadata": {},
   "source": [
    "# Plotly and Cufflinks"
   ]
  },
  {
   "cell_type": "code",
   "execution_count": 1,
   "metadata": {},
   "outputs": [],
   "source": [
    "import pandas as pd\n",
    "import numpy as np"
   ]
  },
  {
   "cell_type": "code",
   "execution_count": 3,
   "metadata": {},
   "outputs": [],
   "source": [
    "from plotly import __version__"
   ]
  },
  {
   "cell_type": "code",
   "execution_count": 4,
   "metadata": {},
   "outputs": [
    {
     "name": "stdout",
     "output_type": "stream",
     "text": [
      "4.8.1\n"
     ]
    }
   ],
   "source": [
    "print(__version__)"
   ]
  },
  {
   "cell_type": "code",
   "execution_count": 5,
   "metadata": {},
   "outputs": [],
   "source": [
    "import cufflinks as cf"
   ]
  },
  {
   "cell_type": "code",
   "execution_count": 6,
   "metadata": {},
   "outputs": [],
   "source": [
    "from plotly.offline import download_plotlyjs, init_notebook_mode, plot, iplot"
   ]
  },
  {
   "cell_type": "markdown",
   "metadata": {},
   "source": [
    "##### Connects JS to the notebook. Essentially connects pandas and python to an interactive JS library."
   ]
  },
  {
   "cell_type": "code",
   "execution_count": 8,
   "metadata": {},
   "outputs": [
    {
     "data": {
      "text/html": [
       "        <script type=\"text/javascript\">\n",
       "        window.PlotlyConfig = {MathJaxConfig: 'local'};\n",
       "        if (window.MathJax) {MathJax.Hub.Config({SVG: {font: \"STIX-Web\"}});}\n",
       "        if (typeof require !== 'undefined') {\n",
       "        require.undef(\"plotly\");\n",
       "        requirejs.config({\n",
       "            paths: {\n",
       "                'plotly': ['https://cdn.plot.ly/plotly-latest.min']\n",
       "            }\n",
       "        });\n",
       "        require(['plotly'], function(Plotly) {\n",
       "            window._Plotly = Plotly;\n",
       "        });\n",
       "        }\n",
       "        </script>\n",
       "        "
      ]
     },
     "metadata": {},
     "output_type": "display_data"
    }
   ],
   "source": [
    "init_notebook_mode(connected=True)"
   ]
  },
  {
   "cell_type": "code",
   "execution_count": 9,
   "metadata": {},
   "outputs": [
    {
     "data": {
      "text/html": [
       "        <script type=\"text/javascript\">\n",
       "        window.PlotlyConfig = {MathJaxConfig: 'local'};\n",
       "        if (window.MathJax) {MathJax.Hub.Config({SVG: {font: \"STIX-Web\"}});}\n",
       "        if (typeof require !== 'undefined') {\n",
       "        require.undef(\"plotly\");\n",
       "        requirejs.config({\n",
       "            paths: {\n",
       "                'plotly': ['https://cdn.plot.ly/plotly-latest.min']\n",
       "            }\n",
       "        });\n",
       "        require(['plotly'], function(Plotly) {\n",
       "            window._Plotly = Plotly;\n",
       "        });\n",
       "        }\n",
       "        </script>\n",
       "        "
      ]
     },
     "metadata": {},
     "output_type": "display_data"
    }
   ],
   "source": [
    "cf.go_offline()"
   ]
  },
  {
   "cell_type": "code",
   "execution_count": 10,
   "metadata": {},
   "outputs": [],
   "source": [
    "df = pd.DataFrame(np.random.randn(100,4), columns='A B C D'.split())"
   ]
  },
  {
   "cell_type": "code",
   "execution_count": 11,
   "metadata": {},
   "outputs": [
    {
     "data": {
      "text/html": [
       "<div>\n",
       "<style scoped>\n",
       "    .dataframe tbody tr th:only-of-type {\n",
       "        vertical-align: middle;\n",
       "    }\n",
       "\n",
       "    .dataframe tbody tr th {\n",
       "        vertical-align: top;\n",
       "    }\n",
       "\n",
       "    .dataframe thead th {\n",
       "        text-align: right;\n",
       "    }\n",
       "</style>\n",
       "<table border=\"1\" class=\"dataframe\">\n",
       "  <thead>\n",
       "    <tr style=\"text-align: right;\">\n",
       "      <th></th>\n",
       "      <th>A</th>\n",
       "      <th>B</th>\n",
       "      <th>C</th>\n",
       "      <th>D</th>\n",
       "    </tr>\n",
       "  </thead>\n",
       "  <tbody>\n",
       "    <tr>\n",
       "      <th>0</th>\n",
       "      <td>-0.133329</td>\n",
       "      <td>0.877873</td>\n",
       "      <td>-0.194933</td>\n",
       "      <td>-0.082706</td>\n",
       "    </tr>\n",
       "    <tr>\n",
       "      <th>1</th>\n",
       "      <td>0.604916</td>\n",
       "      <td>-0.887186</td>\n",
       "      <td>1.287472</td>\n",
       "      <td>0.572129</td>\n",
       "    </tr>\n",
       "    <tr>\n",
       "      <th>2</th>\n",
       "      <td>-0.161775</td>\n",
       "      <td>-0.877937</td>\n",
       "      <td>1.034829</td>\n",
       "      <td>1.069313</td>\n",
       "    </tr>\n",
       "    <tr>\n",
       "      <th>3</th>\n",
       "      <td>0.290426</td>\n",
       "      <td>0.167080</td>\n",
       "      <td>-1.250206</td>\n",
       "      <td>1.553499</td>\n",
       "    </tr>\n",
       "    <tr>\n",
       "      <th>4</th>\n",
       "      <td>1.156284</td>\n",
       "      <td>0.977057</td>\n",
       "      <td>-2.314081</td>\n",
       "      <td>0.194066</td>\n",
       "    </tr>\n",
       "  </tbody>\n",
       "</table>\n",
       "</div>"
      ],
      "text/plain": [
       "          A         B         C         D\n",
       "0 -0.133329  0.877873 -0.194933 -0.082706\n",
       "1  0.604916 -0.887186  1.287472  0.572129\n",
       "2 -0.161775 -0.877937  1.034829  1.069313\n",
       "3  0.290426  0.167080 -1.250206  1.553499\n",
       "4  1.156284  0.977057 -2.314081  0.194066"
      ]
     },
     "execution_count": 11,
     "metadata": {},
     "output_type": "execute_result"
    }
   ],
   "source": [
    "df.head()"
   ]
  },
  {
   "cell_type": "code",
   "execution_count": 12,
   "metadata": {},
   "outputs": [],
   "source": [
    "df2 = pd.DataFrame({'Category': ['A','B','C'], 'Values':[32,43,50]})"
   ]
  },
  {
   "cell_type": "code",
   "execution_count": 13,
   "metadata": {},
   "outputs": [
    {
     "data": {
      "text/html": [
       "<div>\n",
       "<style scoped>\n",
       "    .dataframe tbody tr th:only-of-type {\n",
       "        vertical-align: middle;\n",
       "    }\n",
       "\n",
       "    .dataframe tbody tr th {\n",
       "        vertical-align: top;\n",
       "    }\n",
       "\n",
       "    .dataframe thead th {\n",
       "        text-align: right;\n",
       "    }\n",
       "</style>\n",
       "<table border=\"1\" class=\"dataframe\">\n",
       "  <thead>\n",
       "    <tr style=\"text-align: right;\">\n",
       "      <th></th>\n",
       "      <th>Category</th>\n",
       "      <th>Values</th>\n",
       "    </tr>\n",
       "  </thead>\n",
       "  <tbody>\n",
       "    <tr>\n",
       "      <th>0</th>\n",
       "      <td>A</td>\n",
       "      <td>32</td>\n",
       "    </tr>\n",
       "    <tr>\n",
       "      <th>1</th>\n",
       "      <td>B</td>\n",
       "      <td>43</td>\n",
       "    </tr>\n",
       "    <tr>\n",
       "      <th>2</th>\n",
       "      <td>C</td>\n",
       "      <td>50</td>\n",
       "    </tr>\n",
       "  </tbody>\n",
       "</table>\n",
       "</div>"
      ],
      "text/plain": [
       "  Category  Values\n",
       "0        A      32\n",
       "1        B      43\n",
       "2        C      50"
      ]
     },
     "execution_count": 13,
     "metadata": {},
     "output_type": "execute_result"
    }
   ],
   "source": [
    "df2"
   ]
  },
  {
   "cell_type": "code",
   "execution_count": 14,
   "metadata": {},
   "outputs": [],
   "source": [
    "%matplotlib inline"
   ]
  },
  {
   "cell_type": "code",
   "execution_count": 15,
   "metadata": {},
   "outputs": [
    {
     "data": {
      "text/plain": [
       "<matplotlib.axes._subplots.AxesSubplot at 0x1a1f00fd90>"
      ]
     },
     "execution_count": 15,
     "metadata": {},
     "output_type": "execute_result"
    },
    {
     "data": {
      "image/png": "[encoded data removed]",
      "text/plain": [
       "<Figure size 432x288 with 1 Axes>"
      ]
     },
     "metadata": {
      "needs_background": "light"
     },
     "output_type": "display_data"
    }
   ],
   "source": [
    "df.plot()"
   ]
  },
  {
   "cell_type": "code",
   "execution_count": 16,
   "metadata": {},
   "outputs": [
    {
     "data": {
      "application/vnd.plotly.v1+json": {
       "config": {
        "linkText": "Export to plot.ly",
        "plotlyServerURL": "https://plot.ly",
        "showLink": true
       },
       "data": [
        {
         "line": {
          "color": "rgba(255, 153, 51, 1.0)",
          "dash": "solid",
          "shape": "linear",
          "width": 1.3
         },
         "mode": "lines",
         "name": "A",
         "text": "",
         "type": "scatter",
         "x": [
          0,
          1,
          2,
          3,
          4,
          5,
          6,
          7,
          8,
          9,
          10,
          11,
          12,
          13,
          14,
          15,
          16,
          17,
          18,
          19,
          20,
          21,
          22,
          23,
          24,
          25,
          26,
          27,
          28,
          29,
          30,
          31,
          32,
          33,
          34,
          35,
          36,
          37,
          38,
          39,
          40,
          41,
          42,
          43,
          44,
          45,
          46,
          47,
          48,
          49,
          50,
          51,
          52,
          53,
          54,
          55,
          56,
          57,
          58,
          59,
          60,
          61,
          62,
          63,
          64,
          65,
          66,
          67,
          68,
          69,
          70,
          71,
          72,
          73,
          74,
          75,
          76,
          77,
          78,
          79,
          80,
          81,
          82,
          83,
          84,
          85,
          86,
          87,
          88,
          89,
          90,
          91,
          92,
          93,
          94,
          95,
          96,
          97,
          98,
          99
         ],
         "y": [
          -0.13332898728486217,
          0.6049162173562118,
          -0.16177503105113158,
          0.2904262389514051,
          1.1562838099089574,
          -1.1848532417977728,
          0.8982273761327372,
          0.028278257948029965,
          -0.9868512173336761,
          0.6840821635822759,
          -0.7608168905347923,
          -0.4849772912292263,
          1.4103246726026462,
          -0.8217680536926046,
          -0.10584387485756273,
          0.0915326999720717,
          1.5868812487818433,
          1.4610332716855279,
          -0.296010479607427,
          -1.636326733107384,
          -0.494075647778116,
          1.254407911954291,
          -1.3259794161261163,
          0.46662695049174047,
          0.9930619033922193,
          -0.5176556953346497,
          0.4923565746528598,
          -0.30148014268246154,
          -0.4809887648149414,
          0.4820761832548575,
          0.9795666811263533,
          0.2290842534017007,
          0.36752354492950984,
          0.6168940590624284,
          0.4114722975292953,
          -0.20855183114206602,
          1.132181985806202,
          0.9935469114025697,
          0.016836190438973112,
          0.961885915997291,
          -1.783903976137237,
          -0.9587206963745689,
          -1.5379896533002744,
          -0.7128492071354146,
          -0.42738557738685895,
          0.4026918235878419,
          1.1185123034948807,
          1.1653431112356398,
          0.5260806281991431,
          0.2603131849043691,
          1.1467886882959684,
          -0.40965228755670074,
          0.7133917959352619,
          1.1250831270878798,
          0.817216553655222,
          1.4917512529186387,
          -0.5125131549706918,
          0.14776577406804275,
          0.21713674429031635,
          0.5477373667964758,
          -0.08254668451697868,
          -0.750904913226693,
          -0.48210838498018804,
          0.9105294888876799,
          0.8690776970323018,
          -0.95756608003841,
          -0.6806140558632705,
          -0.5565517022643965,
          -0.14106813094953835,
          0.17396554387381946,
          -2.041059568986403,
          -0.06075202622890458,
          -1.2553721922271923,
          0.740004930068497,
          0.6323495961138877,
          0.3758072565623964,
          0.3121515525987599,
          1.2167344648060452,
          -0.8148129555263465,
          -1.0423994099522742,
          -1.053758446029795,
          1.0591205959040673,
          0.624547701537553,
          0.4113627954704313,
          1.1811178417779826,
          1.0245574869849703,
          -0.09182695658014851,
          0.12237334974580312,
          -0.8312689468801848,
          0.31971330737792997,
          0.3882652757412495,
          -0.24487556089373985,
          1.211015675419331,
          0.2265724142315915,
          -0.6340086051558401,
          0.789035760998447,
          -0.428508620713086,
          -1.2083999122326243,
          -2.442220579365496,
          0.6181020168836062
         ]
        },
        {
         "line": {
          "color": "rgba(55, 128, 191, 1.0)",
          "dash": "solid",
          "shape": "linear",
          "width": 1.3
         },
         "mode": "lines",
         "name": "B",
         "text": "",
         "type": "scatter",
         "x": [
          0,
          1,
          2,
          3,
          4,
          5,
          6,
          7,
          8,
          9,
          10,
          11,
          12,
          13,
          14,
          15,
          16,
          17,
          18,
          19,
          20,
          21,
          22,
          23,
          24,
          25,
          26,
          27,
          28,
          29,
          30,
          31,
          32,
          33,
          34,
          35,
          36,
          37,
          38,
          39,
          40,
          41,
          42,
          43,
          44,
          45,
          46,
          47,
          48,
          49,
          50,
          51,
          52,
          53,
          54,
          55,
          56,
          57,
          58,
          59,
          60,
          61,
          62,
          63,
          64,
          65,
          66,
          67,
          68,
          69,
          70,
          71,
          72,
          73,
          74,
          75,
          76,
          77,
          78,
          79,
          80,
          81,
          82,
          83,
          84,
          85,
          86,
          87,
          88,
          89,
          90,
          91,
          92,
          93,
          94,
          95,
          96,
          97,
          98,
          99
         ],
         "y": [
          0.877873119201991,
          -0.8871864835711982,
          -0.8779365085710115,
          0.16707982521148182,
          0.9770570964405164,
          -1.0210807539641042,
          -0.21179137664286418,
          -0.025274265344616083,
          -1.1092078640172551,
          -1.1521829664006475,
          -1.0678537312032441,
          0.881399073284442,
          -1.5472658310039031,
          0.42894438694587583,
          -0.5847667949359995,
          0.5861364661033456,
          -0.04141568970211862,
          1.6330695985806374,
          0.9136833206359156,
          2.0233395926138007,
          1.101142592370221,
          -0.5682038376230117,
          0.042882304288209314,
          -0.4047854558570145,
          -0.20925108081337035,
          0.7529358997543051,
          0.7407450265436628,
          -1.3607933912602541,
          0.3411301947962091,
          1.3151839384818036,
          0.3575314753592644,
          -1.3118340501498933,
          1.4279165133867213,
          -0.2559157130428562,
          0.4464527395079081,
          0.6658948694956442,
          0.7259355144620822,
          0.8235263881423511,
          -0.08484654956607927,
          1.8343974103662948,
          -0.4713263219195928,
          -0.8960723024860888,
          -0.30064987887889344,
          -0.4316502480055467,
          0.2857158451321729,
          -0.5736274210697178,
          2.5697362447985554,
          0.6277843390429633,
          -0.49445184097626804,
          0.8499163415546525,
          1.5785939994794886,
          -0.9821279273371802,
          -0.4739870836956822,
          -1.3416687809494725,
          0.984719136622916,
          -0.2741650591388619,
          1.4972102529508924,
          0.17436161357051014,
          -0.7460530393643999,
          0.4081345878441793,
          0.7508643479924706,
          0.007458631298474343,
          -2.356211944871521,
          1.2434124482978255,
          -0.9764707565302257,
          -0.9003187532037691,
          -0.6552946312368383,
          1.01863556348232,
          2.5093706224495755,
          -0.04773433274440632,
          1.0449119076216544,
          0.408730882028547,
          -0.11919913738978115,
          0.38587853161043395,
          -1.1517321753523175,
          1.6165054269845633,
          2.320370989305167,
          -0.97030489009854,
          0.03428818309439457,
          -0.567194415289803,
          -1.6004626492305494,
          0.7941768603034315,
          0.7850386433665631,
          1.5710577492336988,
          0.5925013415374528,
          1.3388239018740202,
          -1.493035583334954,
          0.8131093233548212,
          -0.06253088379133223,
          1.0761370002087423,
          1.6009510396615159,
          1.0372091416050686,
          0.24796801351280354,
          1.1619363392738358,
          -0.3941704306660358,
          -0.7976663790741948,
          1.7838229422786538,
          -1.6143395792946713,
          0.2445066278672296,
          -0.19001794744455636
         ]
        },
        {
         "line": {
          "color": "rgba(50, 171, 96, 1.0)",
          "dash": "solid",
          "shape": "linear",
          "width": 1.3
         },
         "mode": "lines",
         "name": "C",
         "text": "",
         "type": "scatter",
         "x": [
          0,
          1,
          2,
          3,
          4,
          5,
          6,
          7,
          8,
          9,
          10,
          11,
          12,
          13,
          14,
          15,
          16,
          17,
          18,
          19,
          20,
          21,
          22,
          23,
          24,
          25,
          26,
          27,
          28,
          29,
          30,
          31,
          32,
          33,
          34,
          35,
          36,
          37,
          38,
          39,
          40,
          41,
          42,
          43,
          44,
          45,
          46,
          47,
          48,
          49,
          50,
          51,
          52,
          53,
          54,
          55,
          56,
          57,
          58,
          59,
          60,
          61,
          62,
          63,
          64,
          65,
          66,
          67,
          68,
          69,
          70,
          71,
          72,
          73,
          74,
          75,
          76,
          77,
          78,
          79,
          80,
          81,
          82,
          83,
          84,
          85,
          86,
          87,
          88,
          89,
          90,
          91,
          92,
          93,
          94,
          95,
          96,
          97,
          98,
          99
         ],
         "y": [
          -0.1949333377808265,
          1.2874718857137506,
          1.034828960634043,
          -1.250205626820457,
          -2.3140814312960223,
          0.4672105757577219,
          0.9336583380187081,
          -0.899465178637077,
          -0.23100800292281237,
          -0.4233280963663838,
          -0.8789825347499383,
          -0.23272103414254033,
          -0.687275448055291,
          -1.351898514290019,
          -0.29152858366285617,
          -0.5384074094042292,
          1.0899255578983433,
          0.3632462942202497,
          -0.31347150317497907,
          -0.6239556756762389,
          -0.5039547444225779,
          0.7470989284312591,
          0.5669270767827191,
          0.4053962663362149,
          0.7470319881233176,
          -0.7121268908435755,
          1.3781094180709663,
          0.4374773497359336,
          0.4200860244282493,
          0.7053171544932973,
          -0.6008008456387155,
          1.114826092770562,
          0.5183437897032463,
          -1.6875410078176634,
          -0.14119371767260377,
          -1.2318315718081576,
          1.094246490855967,
          -0.9357325966232735,
          -1.687124220557086,
          0.02834226044932334,
          -0.43635878228827285,
          0.19203209266547921,
          1.5017344421595056,
          -0.758789965263754,
          -0.48496529798553106,
          0.9112791466103329,
          -0.9065257161127248,
          0.15779465541686052,
          0.32598660502669086,
          -0.7494680676971873,
          0.8369842300027271,
          -0.1852978110964879,
          -0.8537190052680307,
          -1.328453836121312,
          0.8883999662666356,
          0.6745108463283488,
          -0.039512731797237334,
          -0.15152265482386013,
          -0.4053422246549689,
          1.091898283200699,
          0.3523894167516524,
          -0.8234261540482228,
          -0.3877115538256855,
          2.334372769081094,
          -1.2790254406427777,
          -0.05124559254107892,
          1.6034395642054087,
          -0.9702203612312997,
          -2.986537403890035,
          0.8768333360508807,
          -1.0955398315132059,
          -1.3184810057926308,
          0.4811947683684202,
          -0.9413875287749689,
          -0.09428344821563733,
          0.24313378679796052,
          -0.8705367986795014,
          0.33500633048508377,
          -0.23050141623667522,
          -0.4987736876364225,
          1.7595674249869988,
          -1.371365312362017,
          1.5153198832203851,
          -2.136172527562396,
          0.13909291969410825,
          -0.6749023176385337,
          0.280617133701145,
          -1.8513701473257176,
          -0.6285511875260519,
          1.0104658535811069,
          -0.005853284057386029,
          0.1096869174311675,
          -0.9210250890711749,
          1.7413864500446388,
          0.660042296473798,
          -1.3547562182632082,
          -0.9333532783173327,
          -0.1645621664866537,
          0.08988391435312298,
          -0.3005702765173331
         ]
        },
        {
         "line": {
          "color": "rgba(128, 0, 128, 1.0)",
          "dash": "solid",
          "shape": "linear",
          "width": 1.3
         },
         "mode": "lines",
         "name": "D",
         "text": "",
         "type": "scatter",
         "x": [
          0,
          1,
          2,
          3,
          4,
          5,
          6,
          7,
          8,
          9,
          10,
          11,
          12,
          13,
          14,
          15,
          16,
          17,
          18,
          19,
          20,
          21,
          22,
          23,
          24,
          25,
          26,
          27,
          28,
          29,
          30,
          31,
          32,
          33,
          34,
          35,
          36,
          37,
          38,
          39,
          40,
          41,
          42,
          43,
          44,
          45,
          46,
          47,
          48,
          49,
          50,
          51,
          52,
          53,
          54,
          55,
          56,
          57,
          58,
          59,
          60,
          61,
          62,
          63,
          64,
          65,
          66,
          67,
          68,
          69,
          70,
          71,
          72,
          73,
          74,
          75,
          76,
          77,
          78,
          79,
          80,
          81,
          82,
          83,
          84,
          85,
          86,
          87,
          88,
          89,
          90,
          91,
          92,
          93,
          94,
          95,
          96,
          97,
          98,
          99
         ],
         "y": [
          -0.08270575823628525,
          0.5721288881350668,
          1.0693127747928544,
          1.5534994107776754,
          0.19406633148953562,
          -0.26233500689833983,
          1.5655280754438046,
          -0.18114075584586906,
          -0.009619968905033204,
          -0.9027686346935858,
          -0.214812512368609,
          -0.7364379842187003,
          -0.19198476000138007,
          0.18702643707197159,
          0.0433781027486577,
          -0.29137810972437495,
          -1.1978306132083452,
          0.41923085497089585,
          -0.31918684064943975,
          1.128602606672595,
          -1.7825520771222159,
          0.6030731735378128,
          -0.3564898191817619,
          -1.7844575714167668,
          -1.5335276217022513,
          -0.23179194788496277,
          1.0021641098970262,
          -0.6909673306044203,
          -1.6223983671173798,
          0.9163321161767722,
          -0.16823263095738714,
          -0.08943816895035614,
          0.29775873555054044,
          0.12574099999810487,
          -0.09456630256447097,
          -0.6611620609872069,
          0.21652645180452904,
          0.7244403439630475,
          0.6954520634005963,
          -1.5499491574713065,
          0.11562111541713081,
          -1.1221872789710325,
          1.6563204328441237,
          0.2952248151470929,
          -1.5686691986603534,
          -0.013048810598643025,
          -0.0742857139038019,
          0.7150980179301154,
          -0.7395795234598608,
          0.5989185284645229,
          -0.3093583703760894,
          -0.5115294388754472,
          -0.2561361894198458,
          -1.4477826014600563,
          0.5220337678598486,
          -2.0151186397299794,
          0.5886751789306843,
          -0.2327764475170766,
          0.5212684750945968,
          -0.3863966203198103,
          1.104088962904185,
          1.7129532254736584,
          0.44128179880332474,
          0.14979679828882936,
          -0.2519819766582173,
          0.6073456327874504,
          0.5990539129529934,
          0.41172165954198053,
          -0.93461312400278,
          1.6191205319381616,
          -0.7132980745026403,
          -0.6055073499449021,
          0.43331854221063015,
          1.312027745736751,
          0.22528511601214957,
          1.6434145615909932,
          0.3924455136917064,
          -0.44644815502010077,
          0.3990194329299282,
          0.3291683995399519,
          -0.9125345281980742,
          0.3008990483570197,
          0.10284225567393888,
          0.45990273680458116,
          0.5490036543010519,
          -0.5263979924439908,
          -0.9350994613038845,
          1.418678192436831,
          -0.3039213118658567,
          -1.3956681081474906,
          0.3520550174745357,
          -0.9795833300527587,
          0.7951530232992107,
          -1.1695000184850353,
          -1.9272619586717148,
          -0.7952510560311679,
          -1.146988594289629,
          -0.18338757979591955,
          -0.3083681940970879,
          -0.23394117014428933
         ]
        }
       ],
       "layout": {
        "legend": {
         "bgcolor": "#F5F6F9",
         "font": {
          "color": "#4D5663"
         }
        },
        "paper_bgcolor": "#F5F6F9",
        "plot_bgcolor": "#F5F6F9",
        "template": {
         "data": {
          "bar": [
           {
            "error_x": {
             "color": "#2a3f5f"
            },
            "error_y": {
             "color": "#2a3f5f"
            },
            "marker": {
             "line": {
              "color": "#E5ECF6",
              "width": 0.5
             }
            },
            "type": "bar"
           }
          ],
          "barpolar": [
           {
            "marker": {
             "line": {
              "color": "#E5ECF6",
              "width": 0.5
             }
            },
            "type": "barpolar"
           }
          ],
          "carpet": [
           {
            "aaxis": {
             "endlinecolor": "#2a3f5f",
             "gridcolor": "white",
             "linecolor": "white",
             "minorgridcolor": "white",
             "startlinecolor": "#2a3f5f"
            },
            "baxis": {
             "endlinecolor": "#2a3f5f",
             "gridcolor": "white",
             "linecolor": "white",
             "minorgridcolor": "white",
             "startlinecolor": "#2a3f5f"
            },
            "type": "carpet"
           }
          ],
          "choropleth": [
           {
            "colorbar": {
             "outlinewidth": 0,
             "ticks": ""
            },
            "type": "choropleth"
           }
          ],
          "contour": [
           {
            "colorbar": {
             "outlinewidth": 0,
             "ticks": ""
            },
            "colorscale": [
             [
              0,
              "#0d0887"
             ],
             [
              0.1111111111111111,
              "#46039f"
             ],
             [
              0.2222222222222222,
              "#7201a8"
             ],
             [
              0.3333333333333333,
              "#9c179e"
             ],
             [
              0.4444444444444444,
              "#bd3786"
             ],
             [
              0.5555555555555556,
              "#d8576b"
             ],
             [
              0.6666666666666666,
              "#ed7953"
             ],
             [
              0.7777777777777778,
              "#fb9f3a"
             ],
             [
              0.8888888888888888,
              "#fdca26"
             ],
             [
              1,
              "#f0f921"
             ]
            ],
            "type": "contour"
           }
          ],
          "contourcarpet": [
           {
            "colorbar": {
             "outlinewidth": 0,
             "ticks": ""
            },
            "type": "contourcarpet"
           }
          ],
          "heatmap": [
           {
            "colorbar": {
             "outlinewidth": 0,
             "ticks": ""
            },
            "colorscale": [
             [
              0,
              "#0d0887"
             ],
             [
              0.1111111111111111,
              "#46039f"
             ],
             [
              0.2222222222222222,
              "#7201a8"
             ],
             [
              0.3333333333333333,
              "#9c179e"
             ],
             [
              0.4444444444444444,
              "#bd3786"
             ],
             [
              0.5555555555555556,
              "#d8576b"
             ],
             [
              0.6666666666666666,
              "#ed7953"
             ],
             [
              0.7777777777777778,
              "#fb9f3a"
             ],
             [
              0.8888888888888888,
              "#fdca26"
             ],
             [
              1,
              "#f0f921"
             ]
            ],
            "type": "heatmap"
           }
          ],
          "heatmapgl": [
           {
            "colorbar": {
             "outlinewidth": 0,
             "ticks": ""
            },
            "colorscale": [
             [
              0,
              "#0d0887"
             ],
             [
              0.1111111111111111,
              "#46039f"
             ],
             [
              0.2222222222222222,
              "#7201a8"
             ],
             [
              0.3333333333333333,
              "#9c179e"
             ],
             [
              0.4444444444444444,
              "#bd3786"
             ],
             [
              0.5555555555555556,
              "#d8576b"
             ],
             [
              0.6666666666666666,
              "#ed7953"
             ],
             [
              0.7777777777777778,
              "#fb9f3a"
             ],
             [
              0.8888888888888888,
              "#fdca26"
             ],
             [
              1,
              "#f0f921"
             ]
            ],
            "type": "heatmapgl"
           }
          ],
          "histogram": [
           {
            "marker": {
             "colorbar": {
              "outlinewidth": 0,
              "ticks": ""
             }
            },
            "type": "histogram"
           }
          ],
          "histogram2d": [
           {
            "colorbar": {
             "outlinewidth": 0,
             "ticks": ""
            },
            "colorscale": [
             [
              0,
              "#0d0887"
             ],
             [
              0.1111111111111111,
              "#46039f"
             ],
             [
              0.2222222222222222,
              "#7201a8"
             ],
             [
              0.3333333333333333,
              "#9c179e"
             ],
             [
              0.4444444444444444,
              "#bd3786"
             ],
             [
              0.5555555555555556,
              "#d8576b"
             ],
             [
              0.6666666666666666,
              "#ed7953"
             ],
             [
              0.7777777777777778,
              "#fb9f3a"
             ],
             [
              0.8888888888888888,
              "#fdca26"
             ],
             [
              1,
              "#f0f921"
             ]
            ],
            "type": "histogram2d"
           }
          ],
          "histogram2dcontour": [
           {
            "colorbar": {
             "outlinewidth": 0,
             "ticks": ""
            },
            "colorscale": [
             [
              0,
              "#0d0887"
             ],
             [
              0.1111111111111111,
              "#46039f"
             ],
             [
              0.2222222222222222,
              "#7201a8"
             ],
             [
              0.3333333333333333,
              "#9c179e"
             ],
             [
              0.4444444444444444,
              "#bd3786"
             ],
             [
              0.5555555555555556,
              "#d8576b"
             ],
             [
              0.6666666666666666,
              "#ed7953"
             ],
             [
              0.7777777777777778,
              "#fb9f3a"
             ],
             [
              0.8888888888888888,
              "#fdca26"
             ],
             [
              1,
              "#f0f921"
             ]
            ],
            "type": "histogram2dcontour"
           }
          ],
          "mesh3d": [
           {
            "colorbar": {
             "outlinewidth": 0,
             "ticks": ""
            },
            "type": "mesh3d"
           }
          ],
          "parcoords": [
           {
            "line": {
             "colorbar": {
              "outlinewidth": 0,
              "ticks": ""
             }
            },
            "type": "parcoords"
           }
          ],
          "pie": [
           {
            "automargin": true,
            "type": "pie"
           }
          ],
          "scatter": [
           {
            "marker": {
             "colorbar": {
              "outlinewidth": 0,
              "ticks": ""
             }
            },
            "type": "scatter"
           }
          ],
          "scatter3d": [
           {
            "line": {
             "colorbar": {
              "outlinewidth": 0,
              "ticks": ""
             }
            },
            "marker": {
             "colorbar": {
              "outlinewidth": 0,
              "ticks": ""
             }
            },
            "type": "scatter3d"
           }
          ],
          "scattercarpet": [
           {
            "marker": {
             "colorbar": {
              "outlinewidth": 0,
              "ticks": ""
             }
            },
            "type": "scattercarpet"
           }
          ],
          "scattergeo": [
           {
            "marker": {
             "colorbar": {
              "outlinewidth": 0,
              "ticks": ""
             }
            },
            "type": "scattergeo"
           }
          ],
          "scattergl": [
           {
            "marker": {
             "colorbar": {
              "outlinewidth": 0,
              "ticks": ""
             }
            },
            "type": "scattergl"
           }
          ],
          "scattermapbox": [
           {
            "marker": {
             "colorbar": {
              "outlinewidth": 0,
              "ticks": ""
             }
            },
            "type": "scattermapbox"
           }
          ],
          "scatterpolar": [
           {
            "marker": {
             "colorbar": {
              "outlinewidth": 0,
              "ticks": ""
             }
            },
            "type": "scatterpolar"
           }
          ],
          "scatterpolargl": [
           {
            "marker": {
             "colorbar": {
              "outlinewidth": 0,
              "ticks": ""
             }
            },
            "type": "scatterpolargl"
           }
          ],
          "scatterternary": [
           {
            "marker": {
             "colorbar": {
              "outlinewidth": 0,
              "ticks": ""
             }
            },
            "type": "scatterternary"
           }
          ],
          "surface": [
           {
            "colorbar": {
             "outlinewidth": 0,
             "ticks": ""
            },
            "colorscale": [
             [
              0,
              "#0d0887"
             ],
             [
              0.1111111111111111,
              "#46039f"
             ],
             [
              0.2222222222222222,
              "#7201a8"
             ],
             [
              0.3333333333333333,
              "#9c179e"
             ],
             [
              0.4444444444444444,
              "#bd3786"
             ],
             [
              0.5555555555555556,
              "#d8576b"
             ],
             [
              0.6666666666666666,
              "#ed7953"
             ],
             [
              0.7777777777777778,
              "#fb9f3a"
             ],
             [
              0.8888888888888888,
              "#fdca26"
             ],
             [
              1,
              "#f0f921"
             ]
            ],
            "type": "surface"
           }
          ],
          "table": [
           {
            "cells": {
             "fill": {
              "color": "#EBF0F8"
             },
             "line": {
              "color": "white"
             }
            },
            "header": {
             "fill": {
              "color": "#C8D4E3"
             },
             "line": {
              "color": "white"
             }
            },
            "type": "table"
           }
          ]
         },
         "layout": {
          "annotationdefaults": {
           "arrowcolor": "#2a3f5f",
           "arrowhead": 0,
           "arrowwidth": 1
          },
          "coloraxis": {
           "colorbar": {
            "outlinewidth": 0,
            "ticks": ""
           }
          },
          "colorscale": {
           "diverging": [
            [
             0,
             "#8e0152"
            ],
            [
             0.1,
             "#c51b7d"
            ],
            [
             0.2,
             "#de77ae"
            ],
            [
             0.3,
             "#f1b6da"
            ],
            [
             0.4,
             "#fde0ef"
            ],
            [
             0.5,
             "#f7f7f7"
            ],
            [
             0.6,
             "#e6f5d0"
            ],
            [
             0.7,
             "#b8e186"
            ],
            [
             0.8,
             "#7fbc41"
            ],
            [
             0.9,
             "#4d9221"
            ],
            [
             1,
             "#276419"
            ]
           ],
           "sequential": [
            [
             0,
             "#0d0887"
            ],
            [
             0.1111111111111111,
             "#46039f"
            ],
            [
             0.2222222222222222,
             "#7201a8"
            ],
            [
             0.3333333333333333,
             "#9c179e"
            ],
            [
             0.4444444444444444,
             "#bd3786"
            ],
            [
             0.5555555555555556,
             "#d8576b"
            ],
            [
             0.6666666666666666,
             "#ed7953"
            ],
            [
             0.7777777777777778,
             "#fb9f3a"
            ],
            [
             0.8888888888888888,
             "#fdca26"
            ],
            [
             1,
             "#f0f921"
            ]
           ],
           "sequentialminus": [
            [
             0,
             "#0d0887"
            ],
            [
             0.1111111111111111,
             "#46039f"
            ],
            [
             0.2222222222222222,
             "#7201a8"
            ],
            [
             0.3333333333333333,
             "#9c179e"
            ],
            [
             0.4444444444444444,
             "#bd3786"
            ],
            [
             0.5555555555555556,
             "#d8576b"
            ],
            [
             0.6666666666666666,
             "#ed7953"
            ],
            [
             0.7777777777777778,
             "#fb9f3a"
            ],
            [
             0.8888888888888888,
             "#fdca26"
            ],
            [
             1,
             "#f0f921"
            ]
           ]
          },
          "colorway": [
           "#636efa",
           "#EF553B",
           "#00cc96",
           "#ab63fa",
           "#FFA15A",
           "#19d3f3",
           "#FF6692",
           "#B6E880",
           "#FF97FF",
           "#FECB52"
          ],
          "font": {
           "color": "#2a3f5f"
          },
          "geo": {
           "bgcolor": "white",
           "lakecolor": "white",
           "landcolor": "#E5ECF6",
           "showlakes": true,
           "showland": true,
           "subunitcolor": "white"
          },
          "hoverlabel": {
           "align": "left"
          },
          "hovermode": "closest",
          "mapbox": {
           "style": "light"
          },
          "paper_bgcolor": "white",
          "plot_bgcolor": "#E5ECF6",
          "polar": {
           "angularaxis": {
            "gridcolor": "white",
            "linecolor": "white",
            "ticks": ""
           },
           "bgcolor": "#E5ECF6",
           "radialaxis": {
            "gridcolor": "white",
            "linecolor": "white",
            "ticks": ""
           }
          },
          "scene": {
           "xaxis": {
            "backgroundcolor": "#E5ECF6",
            "gridcolor": "white",
            "gridwidth": 2,
            "linecolor": "white",
            "showbackground": true,
            "ticks": "",
            "zerolinecolor": "white"
           },
           "yaxis": {
            "backgroundcolor": "#E5ECF6",
            "gridcolor": "white",
            "gridwidth": 2,
            "linecolor": "white",
            "showbackground": true,
            "ticks": "",
            "zerolinecolor": "white"
           },
           "zaxis": {
            "backgroundcolor": "#E5ECF6",
            "gridcolor": "white",
            "gridwidth": 2,
            "linecolor": "white",
            "showbackground": true,
            "ticks": "",
            "zerolinecolor": "white"
           }
          },
          "shapedefaults": {
           "line": {
            "color": "#2a3f5f"
           }
          },
          "ternary": {
           "aaxis": {
            "gridcolor": "white",
            "linecolor": "white",
            "ticks": ""
           },
           "baxis": {
            "gridcolor": "white",
            "linecolor": "white",
            "ticks": ""
           },
           "bgcolor": "#E5ECF6",
           "caxis": {
            "gridcolor": "white",
            "linecolor": "white",
            "ticks": ""
           }
          },
          "title": {
           "x": 0.05
          },
          "xaxis": {
           "automargin": true,
           "gridcolor": "white",
           "linecolor": "white",
           "ticks": "",
           "title": {
            "standoff": 15
           },
           "zerolinecolor": "white",
           "zerolinewidth": 2
          },
          "yaxis": {
           "automargin": true,
           "gridcolor": "white",
           "linecolor": "white",
           "ticks": "",
           "title": {
            "standoff": 15
           },
           "zerolinecolor": "white",
           "zerolinewidth": 2
          }
         }
        },
        "title": {
         "font": {
          "color": "#4D5663"
         }
        },
        "xaxis": {
         "gridcolor": "#E1E5ED",
         "showgrid": true,
         "tickfont": {
          "color": "#4D5663"
         },
         "title": {
          "font": {
           "color": "#4D5663"
          },
          "text": ""
         },
         "zerolinecolor": "#E1E5ED"
        },
        "yaxis": {
         "gridcolor": "#E1E5ED",
         "showgrid": true,
         "tickfont": {
          "color": "#4D5663"
         },
         "title": {
          "font": {
           "color": "#4D5663"
          },
          "text": ""
         },
         "zerolinecolor": "#E1E5ED"
        }
       }
      },
      "text/html": [
       "<div>\n",
       "        \n",
       "        \n",
       "            <div id=\"1a0f7f42-b7e5-4c6f-86ce-83f58aae04ea\" class=\"plotly-graph-div\" style=\"height:525px; width:100%;\"></div>\n",
       "            <script type=\"text/javascript\">\n",
       "                require([\"plotly\"], function(Plotly) {\n",
       "                    window.PLOTLYENV=window.PLOTLYENV || {};\n",
       "                    window.PLOTLYENV.BASE_URL='https://plot.ly';\n",
       "                    \n",
       "                if (document.getElementById(\"1a0f7f42-b7e5-4c6f-86ce-83f58aae04ea\")) {\n",
       "                    Plotly.newPlot(\n",
       "                        '1a0f7f42-b7e5-4c6f-86ce-83f58aae04ea',\n",
       "                        [{\"line\": {\"color\": \"rgba(255, 153, 51, 1.0)\", \"dash\": \"solid\", \"shape\": \"linear\", \"width\": 1.3}, \"mode\": \"lines\", \"name\": \"A\", \"text\": \"\", \"type\": \"scatter\", \"x\": [0, 1, 2, 3, 4, 5, 6, 7, 8, 9, 10, 11, 12, 13, 14, 15, 16, 17, 18, 19, 20, 21, 22, 23, 24, 25, 26, 27, 28, 29, 30, 31, 32, 33, 34, 35, 36, 37, 38, 39, 40, 41, 42, 43, 44, 45, 46, 47, 48, 49, 50, 51, 52, 53, 54, 55, 56, 57, 58, 59, 60, 61, 62, 63, 64, 65, 66, 67, 68, 69, 70, 71, 72, 73, 74, 75, 76, 77, 78, 79, 80, 81, 82, 83, 84, 85, 86, 87, 88, 89, 90, 91, 92, 93, 94, 95, 96, 97, 98, 99], \"y\": [-0.13332898728486217, 0.6049162173562118, -0.16177503105113158, 0.2904262389514051, 1.1562838099089574, -1.1848532417977728, 0.8982273761327372, 0.028278257948029965, -0.9868512173336761, 0.6840821635822759, -0.7608168905347923, -0.4849772912292263, 1.4103246726026462, -0.8217680536926046, -0.10584387485756273, 0.0915326999720717, 1.5868812487818433, 1.4610332716855279, -0.296010479607427, -1.636326733107384, -0.494075647778116, 1.254407911954291, -1.3259794161261163, 0.46662695049174047, 0.9930619033922193, -0.5176556953346497, 0.4923565746528598, -0.30148014268246154, -0.4809887648149414, 0.4820761832548575, 0.9795666811263533, 0.2290842534017007, 0.36752354492950984, 0.6168940590624284, 0.4114722975292953, -0.20855183114206602, 1.132181985806202, 0.9935469114025697, 0.016836190438973112, 0.961885915997291, -1.783903976137237, -0.9587206963745689, -1.5379896533002744, -0.7128492071354146, -0.42738557738685895, 0.4026918235878419, 1.1185123034948807, 1.1653431112356398, 0.5260806281991431, 0.2603131849043691, 1.1467886882959684, -0.40965228755670074, 0.7133917959352619, 1.1250831270878798, 0.817216553655222, 1.4917512529186387, -0.5125131549706918, 0.14776577406804275, 0.21713674429031635, 0.5477373667964758, -0.08254668451697868, -0.750904913226693, -0.48210838498018804, 0.9105294888876799, 0.8690776970323018, -0.95756608003841, -0.6806140558632705, -0.5565517022643965, -0.14106813094953835, 0.17396554387381946, -2.041059568986403, -0.06075202622890458, -1.2553721922271923, 0.740004930068497, 0.6323495961138877, 0.3758072565623964, 0.3121515525987599, 1.2167344648060452, -0.8148129555263465, -1.0423994099522742, -1.053758446029795, 1.0591205959040673, 0.624547701537553, 0.4113627954704313, 1.1811178417779826, 1.0245574869849703, -0.09182695658014851, 0.12237334974580312, -0.8312689468801848, 0.31971330737792997, 0.3882652757412495, -0.24487556089373985, 1.211015675419331, 0.2265724142315915, -0.6340086051558401, 0.789035760998447, -0.428508620713086, -1.2083999122326243, -2.442220579365496, 0.6181020168836062]}, {\"line\": {\"color\": \"rgba(55, 128, 191, 1.0)\", \"dash\": \"solid\", \"shape\": \"linear\", \"width\": 1.3}, \"mode\": \"lines\", \"name\": \"B\", \"text\": \"\", \"type\": \"scatter\", \"x\": [0, 1, 2, 3, 4, 5, 6, 7, 8, 9, 10, 11, 12, 13, 14, 15, 16, 17, 18, 19, 20, 21, 22, 23, 24, 25, 26, 27, 28, 29, 30, 31, 32, 33, 34, 35, 36, 37, 38, 39, 40, 41, 42, 43, 44, 45, 46, 47, 48, 49, 50, 51, 52, 53, 54, 55, 56, 57, 58, 59, 60, 61, 62, 63, 64, 65, 66, 67, 68, 69, 70, 71, 72, 73, 74, 75, 76, 77, 78, 79, 80, 81, 82, 83, 84, 85, 86, 87, 88, 89, 90, 91, 92, 93, 94, 95, 96, 97, 98, 99], \"y\": [0.877873119201991, -0.8871864835711982, -0.8779365085710115, 0.16707982521148182, 0.9770570964405164, -1.0210807539641042, -0.21179137664286418, -0.025274265344616083, -1.1092078640172551, -1.1521829664006475, -1.0678537312032441, 0.881399073284442, -1.5472658310039031, 0.42894438694587583, -0.5847667949359995, 0.5861364661033456, -0.04141568970211862, 1.6330695985806374, 0.9136833206359156, 2.0233395926138007, 1.101142592370221, -0.5682038376230117, 0.042882304288209314, -0.4047854558570145, -0.20925108081337035, 0.7529358997543051, 0.7407450265436628, -1.3607933912602541, 0.3411301947962091, 1.3151839384818036, 0.3575314753592644, -1.3118340501498933, 1.4279165133867213, -0.2559157130428562, 0.4464527395079081, 0.6658948694956442, 0.7259355144620822, 0.8235263881423511, -0.08484654956607927, 1.8343974103662948, -0.4713263219195928, -0.8960723024860888, -0.30064987887889344, -0.4316502480055467, 0.2857158451321729, -0.5736274210697178, 2.5697362447985554, 0.6277843390429633, -0.49445184097626804, 0.8499163415546525, 1.5785939994794886, -0.9821279273371802, -0.4739870836956822, -1.3416687809494725, 0.984719136622916, -0.2741650591388619, 1.4972102529508924, 0.17436161357051014, -0.7460530393643999, 0.4081345878441793, 0.7508643479924706, 0.007458631298474343, -2.356211944871521, 1.2434124482978255, -0.9764707565302257, -0.9003187532037691, -0.6552946312368383, 1.01863556348232, 2.5093706224495755, -0.04773433274440632, 1.0449119076216544, 0.408730882028547, -0.11919913738978115, 0.38587853161043395, -1.1517321753523175, 1.6165054269845633, 2.320370989305167, -0.97030489009854, 0.03428818309439457, -0.567194415289803, -1.6004626492305494, 0.7941768603034315, 0.7850386433665631, 1.5710577492336988, 0.5925013415374528, 1.3388239018740202, -1.493035583334954, 0.8131093233548212, -0.06253088379133223, 1.0761370002087423, 1.6009510396615159, 1.0372091416050686, 0.24796801351280354, 1.1619363392738358, -0.3941704306660358, -0.7976663790741948, 1.7838229422786538, -1.6143395792946713, 0.2445066278672296, -0.19001794744455636]}, {\"line\": {\"color\": \"rgba(50, 171, 96, 1.0)\", \"dash\": \"solid\", \"shape\": \"linear\", \"width\": 1.3}, \"mode\": \"lines\", \"name\": \"C\", \"text\": \"\", \"type\": \"scatter\", \"x\": [0, 1, 2, 3, 4, 5, 6, 7, 8, 9, 10, 11, 12, 13, 14, 15, 16, 17, 18, 19, 20, 21, 22, 23, 24, 25, 26, 27, 28, 29, 30, 31, 32, 33, 34, 35, 36, 37, 38, 39, 40, 41, 42, 43, 44, 45, 46, 47, 48, 49, 50, 51, 52, 53, 54, 55, 56, 57, 58, 59, 60, 61, 62, 63, 64, 65, 66, 67, 68, 69, 70, 71, 72, 73, 74, 75, 76, 77, 78, 79, 80, 81, 82, 83, 84, 85, 86, 87, 88, 89, 90, 91, 92, 93, 94, 95, 96, 97, 98, 99], \"y\": [-0.1949333377808265, 1.2874718857137506, 1.034828960634043, -1.250205626820457, -2.3140814312960223, 0.4672105757577219, 0.9336583380187081, -0.899465178637077, -0.23100800292281237, -0.4233280963663838, -0.8789825347499383, -0.23272103414254033, -0.687275448055291, -1.351898514290019, -0.29152858366285617, -0.5384074094042292, 1.0899255578983433, 0.3632462942202497, -0.31347150317497907, -0.6239556756762389, -0.5039547444225779, 0.7470989284312591, 0.5669270767827191, 0.4053962663362149, 0.7470319881233176, -0.7121268908435755, 1.3781094180709663, 0.4374773497359336, 0.4200860244282493, 0.7053171544932973, -0.6008008456387155, 1.114826092770562, 0.5183437897032463, -1.6875410078176634, -0.14119371767260377, -1.2318315718081576, 1.094246490855967, -0.9357325966232735, -1.687124220557086, 0.02834226044932334, -0.43635878228827285, 0.19203209266547921, 1.5017344421595056, -0.758789965263754, -0.48496529798553106, 0.9112791466103329, -0.9065257161127248, 0.15779465541686052, 0.32598660502669086, -0.7494680676971873, 0.8369842300027271, -0.1852978110964879, -0.8537190052680307, -1.328453836121312, 0.8883999662666356, 0.6745108463283488, -0.039512731797237334, -0.15152265482386013, -0.4053422246549689, 1.091898283200699, 0.3523894167516524, -0.8234261540482228, -0.3877115538256855, 2.334372769081094, -1.2790254406427777, -0.05124559254107892, 1.6034395642054087, -0.9702203612312997, -2.986537403890035, 0.8768333360508807, -1.0955398315132059, -1.3184810057926308, 0.4811947683684202, -0.9413875287749689, -0.09428344821563733, 0.24313378679796052, -0.8705367986795014, 0.33500633048508377, -0.23050141623667522, -0.4987736876364225, 1.7595674249869988, -1.371365312362017, 1.5153198832203851, -2.136172527562396, 0.13909291969410825, -0.6749023176385337, 0.280617133701145, -1.8513701473257176, -0.6285511875260519, 1.0104658535811069, -0.005853284057386029, 0.1096869174311675, -0.9210250890711749, 1.7413864500446388, 0.660042296473798, -1.3547562182632082, -0.9333532783173327, -0.1645621664866537, 0.08988391435312298, -0.3005702765173331]}, {\"line\": {\"color\": \"rgba(128, 0, 128, 1.0)\", \"dash\": \"solid\", \"shape\": \"linear\", \"width\": 1.3}, \"mode\": \"lines\", \"name\": \"D\", \"text\": \"\", \"type\": \"scatter\", \"x\": [0, 1, 2, 3, 4, 5, 6, 7, 8, 9, 10, 11, 12, 13, 14, 15, 16, 17, 18, 19, 20, 21, 22, 23, 24, 25, 26, 27, 28, 29, 30, 31, 32, 33, 34, 35, 36, 37, 38, 39, 40, 41, 42, 43, 44, 45, 46, 47, 48, 49, 50, 51, 52, 53, 54, 55, 56, 57, 58, 59, 60, 61, 62, 63, 64, 65, 66, 67, 68, 69, 70, 71, 72, 73, 74, 75, 76, 77, 78, 79, 80, 81, 82, 83, 84, 85, 86, 87, 88, 89, 90, 91, 92, 93, 94, 95, 96, 97, 98, 99], \"y\": [-0.08270575823628525, 0.5721288881350668, 1.0693127747928544, 1.5534994107776754, 0.19406633148953562, -0.26233500689833983, 1.5655280754438046, -0.18114075584586906, -0.009619968905033204, -0.9027686346935858, -0.214812512368609, -0.7364379842187003, -0.19198476000138007, 0.18702643707197159, 0.0433781027486577, -0.29137810972437495, -1.1978306132083452, 0.41923085497089585, -0.31918684064943975, 1.128602606672595, -1.7825520771222159, 0.6030731735378128, -0.3564898191817619, -1.7844575714167668, -1.5335276217022513, -0.23179194788496277, 1.0021641098970262, -0.6909673306044203, -1.6223983671173798, 0.9163321161767722, -0.16823263095738714, -0.08943816895035614, 0.29775873555054044, 0.12574099999810487, -0.09456630256447097, -0.6611620609872069, 0.21652645180452904, 0.7244403439630475, 0.6954520634005963, -1.5499491574713065, 0.11562111541713081, -1.1221872789710325, 1.6563204328441237, 0.2952248151470929, -1.5686691986603534, -0.013048810598643025, -0.0742857139038019, 0.7150980179301154, -0.7395795234598608, 0.5989185284645229, -0.3093583703760894, -0.5115294388754472, -0.2561361894198458, -1.4477826014600563, 0.5220337678598486, -2.0151186397299794, 0.5886751789306843, -0.2327764475170766, 0.5212684750945968, -0.3863966203198103, 1.104088962904185, 1.7129532254736584, 0.44128179880332474, 0.14979679828882936, -0.2519819766582173, 0.6073456327874504, 0.5990539129529934, 0.41172165954198053, -0.93461312400278, 1.6191205319381616, -0.7132980745026403, -0.6055073499449021, 0.43331854221063015, 1.312027745736751, 0.22528511601214957, 1.6434145615909932, 0.3924455136917064, -0.44644815502010077, 0.3990194329299282, 0.3291683995399519, -0.9125345281980742, 0.3008990483570197, 0.10284225567393888, 0.45990273680458116, 0.5490036543010519, -0.5263979924439908, -0.9350994613038845, 1.418678192436831, -0.3039213118658567, -1.3956681081474906, 0.3520550174745357, -0.9795833300527587, 0.7951530232992107, -1.1695000184850353, -1.9272619586717148, -0.7952510560311679, -1.146988594289629, -0.18338757979591955, -0.3083681940970879, -0.23394117014428933]}],\n",
       "                        {\"legend\": {\"bgcolor\": \"#F5F6F9\", \"font\": {\"color\": \"#4D5663\"}}, \"paper_bgcolor\": \"#F5F6F9\", \"plot_bgcolor\": \"#F5F6F9\", \"template\": {\"data\": {\"bar\": [{\"error_x\": {\"color\": \"#2a3f5f\"}, \"error_y\": {\"color\": \"#2a3f5f\"}, \"marker\": {\"line\": {\"color\": \"#E5ECF6\", \"width\": 0.5}}, \"type\": \"bar\"}], \"barpolar\": [{\"marker\": {\"line\": {\"color\": \"#E5ECF6\", \"width\": 0.5}}, \"type\": \"barpolar\"}], \"carpet\": [{\"aaxis\": {\"endlinecolor\": \"#2a3f5f\", \"gridcolor\": \"white\", \"linecolor\": \"white\", \"minorgridcolor\": \"white\", \"startlinecolor\": \"#2a3f5f\"}, \"baxis\": {\"endlinecolor\": \"#2a3f5f\", \"gridcolor\": \"white\", \"linecolor\": \"white\", \"minorgridcolor\": \"white\", \"startlinecolor\": \"#2a3f5f\"}, \"type\": \"carpet\"}], \"choropleth\": [{\"colorbar\": {\"outlinewidth\": 0, \"ticks\": \"\"}, \"type\": \"choropleth\"}], \"contour\": [{\"colorbar\": {\"outlinewidth\": 0, \"ticks\": \"\"}, \"colorscale\": [[0.0, \"#0d0887\"], [0.1111111111111111, \"#46039f\"], [0.2222222222222222, \"#7201a8\"], [0.3333333333333333, \"#9c179e\"], [0.4444444444444444, \"#bd3786\"], [0.5555555555555556, \"#d8576b\"], [0.6666666666666666, \"#ed7953\"], [0.7777777777777778, \"#fb9f3a\"], [0.8888888888888888, \"#fdca26\"], [1.0, \"#f0f921\"]], \"type\": \"contour\"}], \"contourcarpet\": [{\"colorbar\": {\"outlinewidth\": 0, \"ticks\": \"\"}, \"type\": \"contourcarpet\"}], \"heatmap\": [{\"colorbar\": {\"outlinewidth\": 0, \"ticks\": \"\"}, \"colorscale\": [[0.0, \"#0d0887\"], [0.1111111111111111, \"#46039f\"], [0.2222222222222222, \"#7201a8\"], [0.3333333333333333, \"#9c179e\"], [0.4444444444444444, \"#bd3786\"], [0.5555555555555556, \"#d8576b\"], [0.6666666666666666, \"#ed7953\"], [0.7777777777777778, \"#fb9f3a\"], [0.8888888888888888, \"#fdca26\"], [1.0, \"#f0f921\"]], \"type\": \"heatmap\"}], \"heatmapgl\": [{\"colorbar\": {\"outlinewidth\": 0, \"ticks\": \"\"}, \"colorscale\": [[0.0, \"#0d0887\"], [0.1111111111111111, \"#46039f\"], [0.2222222222222222, \"#7201a8\"], [0.3333333333333333, \"#9c179e\"], [0.4444444444444444, \"#bd3786\"], [0.5555555555555556, \"#d8576b\"], [0.6666666666666666, \"#ed7953\"], [0.7777777777777778, \"#fb9f3a\"], [0.8888888888888888, \"#fdca26\"], [1.0, \"#f0f921\"]], \"type\": \"heatmapgl\"}], \"histogram\": [{\"marker\": {\"colorbar\": {\"outlinewidth\": 0, \"ticks\": \"\"}}, \"type\": \"histogram\"}], \"histogram2d\": [{\"colorbar\": {\"outlinewidth\": 0, \"ticks\": \"\"}, \"colorscale\": [[0.0, \"#0d0887\"], [0.1111111111111111, \"#46039f\"], [0.2222222222222222, \"#7201a8\"], [0.3333333333333333, \"#9c179e\"], [0.4444444444444444, \"#bd3786\"], [0.5555555555555556, \"#d8576b\"], [0.6666666666666666, \"#ed7953\"], [0.7777777777777778, \"#fb9f3a\"], [0.8888888888888888, \"#fdca26\"], [1.0, \"#f0f921\"]], \"type\": \"histogram2d\"}], \"histogram2dcontour\": [{\"colorbar\": {\"outlinewidth\": 0, \"ticks\": \"\"}, \"colorscale\": [[0.0, \"#0d0887\"], [0.1111111111111111, \"#46039f\"], [0.2222222222222222, \"#7201a8\"], [0.3333333333333333, \"#9c179e\"], [0.4444444444444444, \"#bd3786\"], [0.5555555555555556, \"#d8576b\"], [0.6666666666666666, \"#ed7953\"], [0.7777777777777778, \"#fb9f3a\"], [0.8888888888888888, \"#fdca26\"], [1.0, \"#f0f921\"]], \"type\": \"histogram2dcontour\"}], \"mesh3d\": [{\"colorbar\": {\"outlinewidth\": 0, \"ticks\": \"\"}, \"type\": \"mesh3d\"}], \"parcoords\": [{\"line\": {\"colorbar\": {\"outlinewidth\": 0, \"ticks\": \"\"}}, \"type\": \"parcoords\"}], \"pie\": [{\"automargin\": true, \"type\": \"pie\"}], \"scatter\": [{\"marker\": {\"colorbar\": {\"outlinewidth\": 0, \"ticks\": \"\"}}, \"type\": \"scatter\"}], \"scatter3d\": [{\"line\": {\"colorbar\": {\"outlinewidth\": 0, \"ticks\": \"\"}}, \"marker\": {\"colorbar\": {\"outlinewidth\": 0, \"ticks\": \"\"}}, \"type\": \"scatter3d\"}], \"scattercarpet\": [{\"marker\": {\"colorbar\": {\"outlinewidth\": 0, \"ticks\": \"\"}}, \"type\": \"scattercarpet\"}], \"scattergeo\": [{\"marker\": {\"colorbar\": {\"outlinewidth\": 0, \"ticks\": \"\"}}, \"type\": \"scattergeo\"}], \"scattergl\": [{\"marker\": {\"colorbar\": {\"outlinewidth\": 0, \"ticks\": \"\"}}, \"type\": \"scattergl\"}], \"scattermapbox\": [{\"marker\": {\"colorbar\": {\"outlinewidth\": 0, \"ticks\": \"\"}}, \"type\": \"scattermapbox\"}], \"scatterpolar\": [{\"marker\": {\"colorbar\": {\"outlinewidth\": 0, \"ticks\": \"\"}}, \"type\": \"scatterpolar\"}], \"scatterpolargl\": [{\"marker\": {\"colorbar\": {\"outlinewidth\": 0, \"ticks\": \"\"}}, \"type\": \"scatterpolargl\"}], \"scatterternary\": [{\"marker\": {\"colorbar\": {\"outlinewidth\": 0, \"ticks\": \"\"}}, \"type\": \"scatterternary\"}], \"surface\": [{\"colorbar\": {\"outlinewidth\": 0, \"ticks\": \"\"}, \"colorscale\": [[0.0, \"#0d0887\"], [0.1111111111111111, \"#46039f\"], [0.2222222222222222, \"#7201a8\"], [0.3333333333333333, \"#9c179e\"], [0.4444444444444444, \"#bd3786\"], [0.5555555555555556, \"#d8576b\"], [0.6666666666666666, \"#ed7953\"], [0.7777777777777778, \"#fb9f3a\"], [0.8888888888888888, \"#fdca26\"], [1.0, \"#f0f921\"]], \"type\": \"surface\"}], \"table\": [{\"cells\": {\"fill\": {\"color\": \"#EBF0F8\"}, \"line\": {\"color\": \"white\"}}, \"header\": {\"fill\": {\"color\": \"#C8D4E3\"}, \"line\": {\"color\": \"white\"}}, \"type\": \"table\"}]}, \"layout\": {\"annotationdefaults\": {\"arrowcolor\": \"#2a3f5f\", \"arrowhead\": 0, \"arrowwidth\": 1}, \"coloraxis\": {\"colorbar\": {\"outlinewidth\": 0, \"ticks\": \"\"}}, \"colorscale\": {\"diverging\": [[0, \"#8e0152\"], [0.1, \"#c51b7d\"], [0.2, \"#de77ae\"], [0.3, \"#f1b6da\"], [0.4, \"#fde0ef\"], [0.5, \"#f7f7f7\"], [0.6, \"#e6f5d0\"], [0.7, \"#b8e186\"], [0.8, \"#7fbc41\"], [0.9, \"#4d9221\"], [1, \"#276419\"]], \"sequential\": [[0.0, \"#0d0887\"], [0.1111111111111111, \"#46039f\"], [0.2222222222222222, \"#7201a8\"], [0.3333333333333333, \"#9c179e\"], [0.4444444444444444, \"#bd3786\"], [0.5555555555555556, \"#d8576b\"], [0.6666666666666666, \"#ed7953\"], [0.7777777777777778, \"#fb9f3a\"], [0.8888888888888888, \"#fdca26\"], [1.0, \"#f0f921\"]], \"sequentialminus\": [[0.0, \"#0d0887\"], [0.1111111111111111, \"#46039f\"], [0.2222222222222222, \"#7201a8\"], [0.3333333333333333, \"#9c179e\"], [0.4444444444444444, \"#bd3786\"], [0.5555555555555556, \"#d8576b\"], [0.6666666666666666, \"#ed7953\"], [0.7777777777777778, \"#fb9f3a\"], [0.8888888888888888, \"#fdca26\"], [1.0, \"#f0f921\"]]}, \"colorway\": [\"#636efa\", \"#EF553B\", \"#00cc96\", \"#ab63fa\", \"#FFA15A\", \"#19d3f3\", \"#FF6692\", \"#B6E880\", \"#FF97FF\", \"#FECB52\"], \"font\": {\"color\": \"#2a3f5f\"}, \"geo\": {\"bgcolor\": \"white\", \"lakecolor\": \"white\", \"landcolor\": \"#E5ECF6\", \"showlakes\": true, \"showland\": true, \"subunitcolor\": \"white\"}, \"hoverlabel\": {\"align\": \"left\"}, \"hovermode\": \"closest\", \"mapbox\": {\"style\": \"light\"}, \"paper_bgcolor\": \"white\", \"plot_bgcolor\": \"#E5ECF6\", \"polar\": {\"angularaxis\": {\"gridcolor\": \"white\", \"linecolor\": \"white\", \"ticks\": \"\"}, \"bgcolor\": \"#E5ECF6\", \"radialaxis\": {\"gridcolor\": \"white\", \"linecolor\": \"white\", \"ticks\": \"\"}}, \"scene\": {\"xaxis\": {\"backgroundcolor\": \"#E5ECF6\", \"gridcolor\": \"white\", \"gridwidth\": 2, \"linecolor\": \"white\", \"showbackground\": true, \"ticks\": \"\", \"zerolinecolor\": \"white\"}, \"yaxis\": {\"backgroundcolor\": \"#E5ECF6\", \"gridcolor\": \"white\", \"gridwidth\": 2, \"linecolor\": \"white\", \"showbackground\": true, \"ticks\": \"\", \"zerolinecolor\": \"white\"}, \"zaxis\": {\"backgroundcolor\": \"#E5ECF6\", \"gridcolor\": \"white\", \"gridwidth\": 2, \"linecolor\": \"white\", \"showbackground\": true, \"ticks\": \"\", \"zerolinecolor\": \"white\"}}, \"shapedefaults\": {\"line\": {\"color\": \"#2a3f5f\"}}, \"ternary\": {\"aaxis\": {\"gridcolor\": \"white\", \"linecolor\": \"white\", \"ticks\": \"\"}, \"baxis\": {\"gridcolor\": \"white\", \"linecolor\": \"white\", \"ticks\": \"\"}, \"bgcolor\": \"#E5ECF6\", \"caxis\": {\"gridcolor\": \"white\", \"linecolor\": \"white\", \"ticks\": \"\"}}, \"title\": {\"x\": 0.05}, \"xaxis\": {\"automargin\": true, \"gridcolor\": \"white\", \"linecolor\": \"white\", \"ticks\": \"\", \"title\": {\"standoff\": 15}, \"zerolinecolor\": \"white\", \"zerolinewidth\": 2}, \"yaxis\": {\"automargin\": true, \"gridcolor\": \"white\", \"linecolor\": \"white\", \"ticks\": \"\", \"title\": {\"standoff\": 15}, \"zerolinecolor\": \"white\", \"zerolinewidth\": 2}}}, \"title\": {\"font\": {\"color\": \"#4D5663\"}}, \"xaxis\": {\"gridcolor\": \"#E1E5ED\", \"showgrid\": true, \"tickfont\": {\"color\": \"#4D5663\"}, \"title\": {\"font\": {\"color\": \"#4D5663\"}, \"text\": \"\"}, \"zerolinecolor\": \"#E1E5ED\"}, \"yaxis\": {\"gridcolor\": \"#E1E5ED\", \"showgrid\": true, \"tickfont\": {\"color\": \"#4D5663\"}, \"title\": {\"font\": {\"color\": \"#4D5663\"}, \"text\": \"\"}, \"zerolinecolor\": \"#E1E5ED\"}},\n",
       "                        {\"showLink\": true, \"linkText\": \"Export to plot.ly\", \"plotlyServerURL\": \"https://plot.ly\", \"responsive\": true}\n",
       "                    ).then(function(){\n",
       "                            \n",
       "var gd = document.getElementById('1a0f7f42-b7e5-4c6f-86ce-83f58aae04ea');\n",
       "var x = new MutationObserver(function (mutations, observer) {{\n",
       "        var display = window.getComputedStyle(gd).display;\n",
       "        if (!display || display === 'none') {{\n",
       "            console.log([gd, 'removed!']);\n",
       "            Plotly.purge(gd);\n",
       "            observer.disconnect();\n",
       "        }}\n",
       "}});\n",
       "\n",
       "// Listen for the removal of the full notebook cells\n",
       "var notebookContainer = gd.closest('#notebook-container');\n",
       "if (notebookContainer) {{\n",
       "    x.observe(notebookContainer, {childList: true});\n",
       "}}\n",
       "\n",
       "// Listen for the clearing of the current output cell\n",
       "var outputEl = gd.closest('.output');\n",
       "if (outputEl) {{\n",
       "    x.observe(outputEl, {childList: true});\n",
       "}}\n",
       "\n",
       "                        })\n",
       "                };\n",
       "                });\n",
       "            </script>\n",
       "        </div>"
      ]
     },
     "metadata": {},
     "output_type": "display_data"
    }
   ],
   "source": [
    "df.iplot()"
   ]
  },
  {
   "cell_type": "code",
   "execution_count": 20,
   "metadata": {},
   "outputs": [
    {
     "data": {
      "application/vnd.plotly.v1+json": {
       "config": {
        "linkText": "Export to plot.ly",
        "plotlyServerURL": "https://plot.ly",
        "showLink": true
       },
       "data": [
        {
         "line": {
          "color": "rgba(255, 153, 51, 1.0)",
          "dash": "solid",
          "shape": "linear",
          "width": 1.3
         },
         "mode": "lines",
         "name": "B",
         "text": "",
         "type": "scatter",
         "x": [
          -0.13332898728486217,
          0.6049162173562118,
          -0.16177503105113158,
          0.2904262389514051,
          1.1562838099089574,
          -1.1848532417977728,
          0.8982273761327372,
          0.028278257948029965,
          -0.9868512173336761,
          0.6840821635822759,
          -0.7608168905347923,
          -0.4849772912292263,
          1.4103246726026462,
          -0.8217680536926046,
          -0.10584387485756273,
          0.0915326999720717,
          1.5868812487818433,
          1.4610332716855279,
          -0.296010479607427,
          -1.636326733107384,
          -0.494075647778116,
          1.254407911954291,
          -1.3259794161261163,
          0.46662695049174047,
          0.9930619033922193,
          -0.5176556953346497,
          0.4923565746528598,
          -0.30148014268246154,
          -0.4809887648149414,
          0.4820761832548575,
          0.9795666811263533,
          0.2290842534017007,
          0.36752354492950984,
          0.6168940590624284,
          0.4114722975292953,
          -0.20855183114206602,
          1.132181985806202,
          0.9935469114025697,
          0.016836190438973112,
          0.961885915997291,
          -1.783903976137237,
          -0.9587206963745689,
          -1.5379896533002744,
          -0.7128492071354146,
          -0.42738557738685895,
          0.4026918235878419,
          1.1185123034948807,
          1.1653431112356398,
          0.5260806281991431,
          0.2603131849043691,
          1.1467886882959684,
          -0.40965228755670074,
          0.7133917959352619,
          1.1250831270878798,
          0.817216553655222,
          1.4917512529186387,
          -0.5125131549706918,
          0.14776577406804275,
          0.21713674429031635,
          0.5477373667964758,
          -0.08254668451697868,
          -0.750904913226693,
          -0.48210838498018804,
          0.9105294888876799,
          0.8690776970323018,
          -0.95756608003841,
          -0.6806140558632705,
          -0.5565517022643965,
          -0.14106813094953835,
          0.17396554387381946,
          -2.041059568986403,
          -0.06075202622890458,
          -1.2553721922271923,
          0.740004930068497,
          0.6323495961138877,
          0.3758072565623964,
          0.3121515525987599,
          1.2167344648060452,
          -0.8148129555263465,
          -1.0423994099522742,
          -1.053758446029795,
          1.0591205959040673,
          0.624547701537553,
          0.4113627954704313,
          1.1811178417779826,
          1.0245574869849703,
          -0.09182695658014851,
          0.12237334974580312,
          -0.8312689468801848,
          0.31971330737792997,
          0.3882652757412495,
          -0.24487556089373985,
          1.211015675419331,
          0.2265724142315915,
          -0.6340086051558401,
          0.789035760998447,
          -0.428508620713086,
          -1.2083999122326243,
          -2.442220579365496,
          0.6181020168836062
         ],
         "y": [
          0.877873119201991,
          -0.8871864835711982,
          -0.8779365085710115,
          0.16707982521148182,
          0.9770570964405164,
          -1.0210807539641042,
          -0.21179137664286418,
          -0.025274265344616083,
          -1.1092078640172551,
          -1.1521829664006475,
          -1.0678537312032441,
          0.881399073284442,
          -1.5472658310039031,
          0.42894438694587583,
          -0.5847667949359995,
          0.5861364661033456,
          -0.04141568970211862,
          1.6330695985806374,
          0.9136833206359156,
          2.0233395926138007,
          1.101142592370221,
          -0.5682038376230117,
          0.042882304288209314,
          -0.4047854558570145,
          -0.20925108081337035,
          0.7529358997543051,
          0.7407450265436628,
          -1.3607933912602541,
          0.3411301947962091,
          1.3151839384818036,
          0.3575314753592644,
          -1.3118340501498933,
          1.4279165133867213,
          -0.2559157130428562,
          0.4464527395079081,
          0.6658948694956442,
          0.7259355144620822,
          0.8235263881423511,
          -0.08484654956607927,
          1.8343974103662948,
          -0.4713263219195928,
          -0.8960723024860888,
          -0.30064987887889344,
          -0.4316502480055467,
          0.2857158451321729,
          -0.5736274210697178,
          2.5697362447985554,
          0.6277843390429633,
          -0.49445184097626804,
          0.8499163415546525,
          1.5785939994794886,
          -0.9821279273371802,
          -0.4739870836956822,
          -1.3416687809494725,
          0.984719136622916,
          -0.2741650591388619,
          1.4972102529508924,
          0.17436161357051014,
          -0.7460530393643999,
          0.4081345878441793,
          0.7508643479924706,
          0.007458631298474343,
          -2.356211944871521,
          1.2434124482978255,
          -0.9764707565302257,
          -0.9003187532037691,
          -0.6552946312368383,
          1.01863556348232,
          2.5093706224495755,
          -0.04773433274440632,
          1.0449119076216544,
          0.408730882028547,
          -0.11919913738978115,
          0.38587853161043395,
          -1.1517321753523175,
          1.6165054269845633,
          2.320370989305167,
          -0.97030489009854,
          0.03428818309439457,
          -0.567194415289803,
          -1.6004626492305494,
          0.7941768603034315,
          0.7850386433665631,
          1.5710577492336988,
          0.5925013415374528,
          1.3388239018740202,
          -1.493035583334954,
          0.8131093233548212,
          -0.06253088379133223,
          1.0761370002087423,
          1.6009510396615159,
          1.0372091416050686,
          0.24796801351280354,
          1.1619363392738358,
          -0.3941704306660358,
          -0.7976663790741948,
          1.7838229422786538,
          -1.6143395792946713,
          0.2445066278672296,
          -0.19001794744455636
         ]
        }
       ],
       "layout": {
        "legend": {
         "bgcolor": "#F5F6F9",
         "font": {
          "color": "#4D5663"
         }
        },
        "paper_bgcolor": "#F5F6F9",
        "plot_bgcolor": "#F5F6F9",
        "template": {
         "data": {
          "bar": [
           {
            "error_x": {
             "color": "#2a3f5f"
            },
            "error_y": {
             "color": "#2a3f5f"
            },
            "marker": {
             "line": {
              "color": "#E5ECF6",
              "width": 0.5
             }
            },
            "type": "bar"
           }
          ],
          "barpolar": [
           {
            "marker": {
             "line": {
              "color": "#E5ECF6",
              "width": 0.5
             }
            },
            "type": "barpolar"
           }
          ],
          "carpet": [
           {
            "aaxis": {
             "endlinecolor": "#2a3f5f",
             "gridcolor": "white",
             "linecolor": "white",
             "minorgridcolor": "white",
             "startlinecolor": "#2a3f5f"
            },
            "baxis": {
             "endlinecolor": "#2a3f5f",
             "gridcolor": "white",
             "linecolor": "white",
             "minorgridcolor": "white",
             "startlinecolor": "#2a3f5f"
            },
            "type": "carpet"
           }
          ],
          "choropleth": [
           {
            "colorbar": {
             "outlinewidth": 0,
             "ticks": ""
            },
            "type": "choropleth"
           }
          ],
          "contour": [
           {
            "colorbar": {
             "outlinewidth": 0,
             "ticks": ""
            },
            "colorscale": [
             [
              0,
              "#0d0887"
             ],
             [
              0.1111111111111111,
              "#46039f"
             ],
             [
              0.2222222222222222,
              "#7201a8"
             ],
             [
              0.3333333333333333,
              "#9c179e"
             ],
             [
              0.4444444444444444,
              "#bd3786"
             ],
             [
              0.5555555555555556,
              "#d8576b"
             ],
             [
              0.6666666666666666,
              "#ed7953"
             ],
             [
              0.7777777777777778,
              "#fb9f3a"
             ],
             [
              0.8888888888888888,
              "#fdca26"
             ],
             [
              1,
              "#f0f921"
             ]
            ],
            "type": "contour"
           }
          ],
          "contourcarpet": [
           {
            "colorbar": {
             "outlinewidth": 0,
             "ticks": ""
            },
            "type": "contourcarpet"
           }
          ],
          "heatmap": [
           {
            "colorbar": {
             "outlinewidth": 0,
             "ticks": ""
            },
            "colorscale": [
             [
              0,
              "#0d0887"
             ],
             [
              0.1111111111111111,
              "#46039f"
             ],
             [
              0.2222222222222222,
              "#7201a8"
             ],
             [
              0.3333333333333333,
              "#9c179e"
             ],
             [
              0.4444444444444444,
              "#bd3786"
             ],
             [
              0.5555555555555556,
              "#d8576b"
             ],
             [
              0.6666666666666666,
              "#ed7953"
             ],
             [
              0.7777777777777778,
              "#fb9f3a"
             ],
             [
              0.8888888888888888,
              "#fdca26"
             ],
             [
              1,
              "#f0f921"
             ]
            ],
            "type": "heatmap"
           }
          ],
          "heatmapgl": [
           {
            "colorbar": {
             "outlinewidth": 0,
             "ticks": ""
            },
            "colorscale": [
             [
              0,
              "#0d0887"
             ],
             [
              0.1111111111111111,
              "#46039f"
             ],
             [
              0.2222222222222222,
              "#7201a8"
             ],
             [
              0.3333333333333333,
              "#9c179e"
             ],
             [
              0.4444444444444444,
              "#bd3786"
             ],
             [
              0.5555555555555556,
              "#d8576b"
             ],
             [
              0.6666666666666666,
              "#ed7953"
             ],
             [
              0.7777777777777778,
              "#fb9f3a"
             ],
             [
              0.8888888888888888,
              "#fdca26"
             ],
             [
              1,
              "#f0f921"
             ]
            ],
            "type": "heatmapgl"
           }
          ],
          "histogram": [
           {
            "marker": {
             "colorbar": {
              "outlinewidth": 0,
              "ticks": ""
             }
            },
            "type": "histogram"
           }
          ],
          "histogram2d": [
           {
            "colorbar": {
             "outlinewidth": 0,
             "ticks": ""
            },
            "colorscale": [
             [
              0,
              "#0d0887"
             ],
             [
              0.1111111111111111,
              "#46039f"
             ],
             [
              0.2222222222222222,
              "#7201a8"
             ],
             [
              0.3333333333333333,
              "#9c179e"
             ],
             [
              0.4444444444444444,
              "#bd3786"
             ],
             [
              0.5555555555555556,
              "#d8576b"
             ],
             [
              0.6666666666666666,
              "#ed7953"
             ],
             [
              0.7777777777777778,
              "#fb9f3a"
             ],
             [
              0.8888888888888888,
              "#fdca26"
             ],
             [
              1,
              "#f0f921"
             ]
            ],
            "type": "histogram2d"
           }
          ],
          "histogram2dcontour": [
           {
            "colorbar": {
             "outlinewidth": 0,
             "ticks": ""
            },
            "colorscale": [
             [
              0,
              "#0d0887"
             ],
             [
              0.1111111111111111,
              "#46039f"
             ],
             [
              0.2222222222222222,
              "#7201a8"
             ],
             [
              0.3333333333333333,
              "#9c179e"
             ],
             [
              0.4444444444444444,
              "#bd3786"
             ],
             [
              0.5555555555555556,
              "#d8576b"
             ],
             [
              0.6666666666666666,
              "#ed7953"
             ],
             [
              0.7777777777777778,
              "#fb9f3a"
             ],
             [
              0.8888888888888888,
              "#fdca26"
             ],
             [
              1,
              "#f0f921"
             ]
            ],
            "type": "histogram2dcontour"
           }
          ],
          "mesh3d": [
           {
            "colorbar": {
             "outlinewidth": 0,
             "ticks": ""
            },
            "type": "mesh3d"
           }
          ],
          "parcoords": [
           {
            "line": {
             "colorbar": {
              "outlinewidth": 0,
              "ticks": ""
             }
            },
            "type": "parcoords"
           }
          ],
          "pie": [
           {
            "automargin": true,
            "type": "pie"
           }
          ],
          "scatter": [
           {
            "marker": {
             "colorbar": {
              "outlinewidth": 0,
              "ticks": ""
             }
            },
            "type": "scatter"
           }
          ],
          "scatter3d": [
           {
            "line": {
             "colorbar": {
              "outlinewidth": 0,
              "ticks": ""
             }
            },
            "marker": {
             "colorbar": {
              "outlinewidth": 0,
              "ticks": ""
             }
            },
            "type": "scatter3d"
           }
          ],
          "scattercarpet": [
           {
            "marker": {
             "colorbar": {
              "outlinewidth": 0,
              "ticks": ""
             }
            },
            "type": "scattercarpet"
           }
          ],
          "scattergeo": [
           {
            "marker": {
             "colorbar": {
              "outlinewidth": 0,
              "ticks": ""
             }
            },
            "type": "scattergeo"
           }
          ],
          "scattergl": [
           {
            "marker": {
             "colorbar": {
              "outlinewidth": 0,
              "ticks": ""
             }
            },
            "type": "scattergl"
           }
          ],
          "scattermapbox": [
           {
            "marker": {
             "colorbar": {
              "outlinewidth": 0,
              "ticks": ""
             }
            },
            "type": "scattermapbox"
           }
          ],
          "scatterpolar": [
           {
            "marker": {
             "colorbar": {
              "outlinewidth": 0,
              "ticks": ""
             }
            },
            "type": "scatterpolar"
           }
          ],
          "scatterpolargl": [
           {
            "marker": {
             "colorbar": {
              "outlinewidth": 0,
              "ticks": ""
             }
            },
            "type": "scatterpolargl"
           }
          ],
          "scatterternary": [
           {
            "marker": {
             "colorbar": {
              "outlinewidth": 0,
              "ticks": ""
             }
            },
            "type": "scatterternary"
           }
          ],
          "surface": [
           {
            "colorbar": {
             "outlinewidth": 0,
             "ticks": ""
            },
            "colorscale": [
             [
              0,
              "#0d0887"
             ],
             [
              0.1111111111111111,
              "#46039f"
             ],
             [
              0.2222222222222222,
              "#7201a8"
             ],
             [
              0.3333333333333333,
              "#9c179e"
             ],
             [
              0.4444444444444444,
              "#bd3786"
             ],
             [
              0.5555555555555556,
              "#d8576b"
             ],
             [
              0.6666666666666666,
              "#ed7953"
             ],
             [
              0.7777777777777778,
              "#fb9f3a"
             ],
             [
              0.8888888888888888,
              "#fdca26"
             ],
             [
              1,
              "#f0f921"
             ]
            ],
            "type": "surface"
           }
          ],
          "table": [
           {
            "cells": {
             "fill": {
              "color": "#EBF0F8"
             },
             "line": {
              "color": "white"
             }
            },
            "header": {
             "fill": {
              "color": "#C8D4E3"
             },
             "line": {
              "color": "white"
             }
            },
            "type": "table"
           }
          ]
         },
         "layout": {
          "annotationdefaults": {
           "arrowcolor": "#2a3f5f",
           "arrowhead": 0,
           "arrowwidth": 1
          },
          "coloraxis": {
           "colorbar": {
            "outlinewidth": 0,
            "ticks": ""
           }
          },
          "colorscale": {
           "diverging": [
            [
             0,
             "#8e0152"
            ],
            [
             0.1,
             "#c51b7d"
            ],
            [
             0.2,
             "#de77ae"
            ],
            [
             0.3,
             "#f1b6da"
            ],
            [
             0.4,
             "#fde0ef"
            ],
            [
             0.5,
             "#f7f7f7"
            ],
            [
             0.6,
             "#e6f5d0"
            ],
            [
             0.7,
             "#b8e186"
            ],
            [
             0.8,
             "#7fbc41"
            ],
            [
             0.9,
             "#4d9221"
            ],
            [
             1,
             "#276419"
            ]
           ],
           "sequential": [
            [
             0,
             "#0d0887"
            ],
            [
             0.1111111111111111,
             "#46039f"
            ],
            [
             0.2222222222222222,
             "#7201a8"
            ],
            [
             0.3333333333333333,
             "#9c179e"
            ],
            [
             0.4444444444444444,
             "#bd3786"
            ],
            [
             0.5555555555555556,
             "#d8576b"
            ],
            [
             0.6666666666666666,
             "#ed7953"
            ],
            [
             0.7777777777777778,
             "#fb9f3a"
            ],
            [
             0.8888888888888888,
             "#fdca26"
            ],
            [
             1,
             "#f0f921"
            ]
           ],
           "sequentialminus": [
            [
             0,
             "#0d0887"
            ],
            [
             0.1111111111111111,
             "#46039f"
            ],
            [
             0.2222222222222222,
             "#7201a8"
            ],
            [
             0.3333333333333333,
             "#9c179e"
            ],
            [
             0.4444444444444444,
             "#bd3786"
            ],
            [
             0.5555555555555556,
             "#d8576b"
            ],
            [
             0.6666666666666666,
             "#ed7953"
            ],
            [
             0.7777777777777778,
             "#fb9f3a"
            ],
            [
             0.8888888888888888,
             "#fdca26"
            ],
            [
             1,
             "#f0f921"
            ]
           ]
          },
          "colorway": [
           "#636efa",
           "#EF553B",
           "#00cc96",
           "#ab63fa",
           "#FFA15A",
           "#19d3f3",
           "#FF6692",
           "#B6E880",
           "#FF97FF",
           "#FECB52"
          ],
          "font": {
           "color": "#2a3f5f"
          },
          "geo": {
           "bgcolor": "white",
           "lakecolor": "white",
           "landcolor": "#E5ECF6",
           "showlakes": true,
           "showland": true,
           "subunitcolor": "white"
          },
          "hoverlabel": {
           "align": "left"
          },
          "hovermode": "closest",
          "mapbox": {
           "style": "light"
          },
          "paper_bgcolor": "white",
          "plot_bgcolor": "#E5ECF6",
          "polar": {
           "angularaxis": {
            "gridcolor": "white",
            "linecolor": "white",
            "ticks": ""
           },
           "bgcolor": "#E5ECF6",
           "radialaxis": {
            "gridcolor": "white",
            "linecolor": "white",
            "ticks": ""
           }
          },
          "scene": {
           "xaxis": {
            "backgroundcolor": "#E5ECF6",
            "gridcolor": "white",
            "gridwidth": 2,
            "linecolor": "white",
            "showbackground": true,
            "ticks": "",
            "zerolinecolor": "white"
           },
           "yaxis": {
            "backgroundcolor": "#E5ECF6",
            "gridcolor": "white",
            "gridwidth": 2,
            "linecolor": "white",
            "showbackground": true,
            "ticks": "",
            "zerolinecolor": "white"
           },
           "zaxis": {
            "backgroundcolor": "#E5ECF6",
            "gridcolor": "white",
            "gridwidth": 2,
            "linecolor": "white",
            "showbackground": true,
            "ticks": "",
            "zerolinecolor": "white"
           }
          },
          "shapedefaults": {
           "line": {
            "color": "#2a3f5f"
           }
          },
          "ternary": {
           "aaxis": {
            "gridcolor": "white",
            "linecolor": "white",
            "ticks": ""
           },
           "baxis": {
            "gridcolor": "white",
            "linecolor": "white",
            "ticks": ""
           },
           "bgcolor": "#E5ECF6",
           "caxis": {
            "gridcolor": "white",
            "linecolor": "white",
            "ticks": ""
           }
          },
          "title": {
           "x": 0.05
          },
          "xaxis": {
           "automargin": true,
           "gridcolor": "white",
           "linecolor": "white",
           "ticks": "",
           "title": {
            "standoff": 15
           },
           "zerolinecolor": "white",
           "zerolinewidth": 2
          },
          "yaxis": {
           "automargin": true,
           "gridcolor": "white",
           "linecolor": "white",
           "ticks": "",
           "title": {
            "standoff": 15
           },
           "zerolinecolor": "white",
           "zerolinewidth": 2
          }
         }
        },
        "title": {
         "font": {
          "color": "#4D5663"
         }
        },
        "xaxis": {
         "gridcolor": "#E1E5ED",
         "showgrid": true,
         "tickfont": {
          "color": "#4D5663"
         },
         "title": {
          "font": {
           "color": "#4D5663"
          },
          "text": ""
         },
         "zerolinecolor": "#E1E5ED"
        },
        "yaxis": {
         "gridcolor": "#E1E5ED",
         "showgrid": true,
         "tickfont": {
          "color": "#4D5663"
         },
         "title": {
          "font": {
           "color": "#4D5663"
          },
          "text": ""
         },
         "zerolinecolor": "#E1E5ED"
        }
       }
      },
      "text/html": [
       "<div>\n",
       "        \n",
       "        \n",
       "            <div id=\"db4fd6c4-c8ad-4480-a911-a8314e2aa597\" class=\"plotly-graph-div\" style=\"height:525px; width:100%;\"></div>\n",
       "            <script type=\"text/javascript\">\n",
       "                require([\"plotly\"], function(Plotly) {\n",
       "                    window.PLOTLYENV=window.PLOTLYENV || {};\n",
       "                    window.PLOTLYENV.BASE_URL='https://plot.ly';\n",
       "                    \n",
       "                if (document.getElementById(\"db4fd6c4-c8ad-4480-a911-a8314e2aa597\")) {\n",
       "                    Plotly.newPlot(\n",
       "                        'db4fd6c4-c8ad-4480-a911-a8314e2aa597',\n",
       "                        [{\"line\": {\"color\": \"rgba(255, 153, 51, 1.0)\", \"dash\": \"solid\", \"shape\": \"linear\", \"width\": 1.3}, \"mode\": \"lines\", \"name\": \"B\", \"text\": \"\", \"type\": \"scatter\", \"x\": [-0.13332898728486217, 0.6049162173562118, -0.16177503105113158, 0.2904262389514051, 1.1562838099089574, -1.1848532417977728, 0.8982273761327372, 0.028278257948029965, -0.9868512173336761, 0.6840821635822759, -0.7608168905347923, -0.4849772912292263, 1.4103246726026462, -0.8217680536926046, -0.10584387485756273, 0.0915326999720717, 1.5868812487818433, 1.4610332716855279, -0.296010479607427, -1.636326733107384, -0.494075647778116, 1.254407911954291, -1.3259794161261163, 0.46662695049174047, 0.9930619033922193, -0.5176556953346497, 0.4923565746528598, -0.30148014268246154, -0.4809887648149414, 0.4820761832548575, 0.9795666811263533, 0.2290842534017007, 0.36752354492950984, 0.6168940590624284, 0.4114722975292953, -0.20855183114206602, 1.132181985806202, 0.9935469114025697, 0.016836190438973112, 0.961885915997291, -1.783903976137237, -0.9587206963745689, -1.5379896533002744, -0.7128492071354146, -0.42738557738685895, 0.4026918235878419, 1.1185123034948807, 1.1653431112356398, 0.5260806281991431, 0.2603131849043691, 1.1467886882959684, -0.40965228755670074, 0.7133917959352619, 1.1250831270878798, 0.817216553655222, 1.4917512529186387, -0.5125131549706918, 0.14776577406804275, 0.21713674429031635, 0.5477373667964758, -0.08254668451697868, -0.750904913226693, -0.48210838498018804, 0.9105294888876799, 0.8690776970323018, -0.95756608003841, -0.6806140558632705, -0.5565517022643965, -0.14106813094953835, 0.17396554387381946, -2.041059568986403, -0.06075202622890458, -1.2553721922271923, 0.740004930068497, 0.6323495961138877, 0.3758072565623964, 0.3121515525987599, 1.2167344648060452, -0.8148129555263465, -1.0423994099522742, -1.053758446029795, 1.0591205959040673, 0.624547701537553, 0.4113627954704313, 1.1811178417779826, 1.0245574869849703, -0.09182695658014851, 0.12237334974580312, -0.8312689468801848, 0.31971330737792997, 0.3882652757412495, -0.24487556089373985, 1.211015675419331, 0.2265724142315915, -0.6340086051558401, 0.789035760998447, -0.428508620713086, -1.2083999122326243, -2.442220579365496, 0.6181020168836062], \"y\": [0.877873119201991, -0.8871864835711982, -0.8779365085710115, 0.16707982521148182, 0.9770570964405164, -1.0210807539641042, -0.21179137664286418, -0.025274265344616083, -1.1092078640172551, -1.1521829664006475, -1.0678537312032441, 0.881399073284442, -1.5472658310039031, 0.42894438694587583, -0.5847667949359995, 0.5861364661033456, -0.04141568970211862, 1.6330695985806374, 0.9136833206359156, 2.0233395926138007, 1.101142592370221, -0.5682038376230117, 0.042882304288209314, -0.4047854558570145, -0.20925108081337035, 0.7529358997543051, 0.7407450265436628, -1.3607933912602541, 0.3411301947962091, 1.3151839384818036, 0.3575314753592644, -1.3118340501498933, 1.4279165133867213, -0.2559157130428562, 0.4464527395079081, 0.6658948694956442, 0.7259355144620822, 0.8235263881423511, -0.08484654956607927, 1.8343974103662948, -0.4713263219195928, -0.8960723024860888, -0.30064987887889344, -0.4316502480055467, 0.2857158451321729, -0.5736274210697178, 2.5697362447985554, 0.6277843390429633, -0.49445184097626804, 0.8499163415546525, 1.5785939994794886, -0.9821279273371802, -0.4739870836956822, -1.3416687809494725, 0.984719136622916, -0.2741650591388619, 1.4972102529508924, 0.17436161357051014, -0.7460530393643999, 0.4081345878441793, 0.7508643479924706, 0.007458631298474343, -2.356211944871521, 1.2434124482978255, -0.9764707565302257, -0.9003187532037691, -0.6552946312368383, 1.01863556348232, 2.5093706224495755, -0.04773433274440632, 1.0449119076216544, 0.408730882028547, -0.11919913738978115, 0.38587853161043395, -1.1517321753523175, 1.6165054269845633, 2.320370989305167, -0.97030489009854, 0.03428818309439457, -0.567194415289803, -1.6004626492305494, 0.7941768603034315, 0.7850386433665631, 1.5710577492336988, 0.5925013415374528, 1.3388239018740202, -1.493035583334954, 0.8131093233548212, -0.06253088379133223, 1.0761370002087423, 1.6009510396615159, 1.0372091416050686, 0.24796801351280354, 1.1619363392738358, -0.3941704306660358, -0.7976663790741948, 1.7838229422786538, -1.6143395792946713, 0.2445066278672296, -0.19001794744455636]}],\n",
       "                        {\"legend\": {\"bgcolor\": \"#F5F6F9\", \"font\": {\"color\": \"#4D5663\"}}, \"paper_bgcolor\": \"#F5F6F9\", \"plot_bgcolor\": \"#F5F6F9\", \"template\": {\"data\": {\"bar\": [{\"error_x\": {\"color\": \"#2a3f5f\"}, \"error_y\": {\"color\": \"#2a3f5f\"}, \"marker\": {\"line\": {\"color\": \"#E5ECF6\", \"width\": 0.5}}, \"type\": \"bar\"}], \"barpolar\": [{\"marker\": {\"line\": {\"color\": \"#E5ECF6\", \"width\": 0.5}}, \"type\": \"barpolar\"}], \"carpet\": [{\"aaxis\": {\"endlinecolor\": \"#2a3f5f\", \"gridcolor\": \"white\", \"linecolor\": \"white\", \"minorgridcolor\": \"white\", \"startlinecolor\": \"#2a3f5f\"}, \"baxis\": {\"endlinecolor\": \"#2a3f5f\", \"gridcolor\": \"white\", \"linecolor\": \"white\", \"minorgridcolor\": \"white\", \"startlinecolor\": \"#2a3f5f\"}, \"type\": \"carpet\"}], \"choropleth\": [{\"colorbar\": {\"outlinewidth\": 0, \"ticks\": \"\"}, \"type\": \"choropleth\"}], \"contour\": [{\"colorbar\": {\"outlinewidth\": 0, \"ticks\": \"\"}, \"colorscale\": [[0.0, \"#0d0887\"], [0.1111111111111111, \"#46039f\"], [0.2222222222222222, \"#7201a8\"], [0.3333333333333333, \"#9c179e\"], [0.4444444444444444, \"#bd3786\"], [0.5555555555555556, \"#d8576b\"], [0.6666666666666666, \"#ed7953\"], [0.7777777777777778, \"#fb9f3a\"], [0.8888888888888888, \"#fdca26\"], [1.0, \"#f0f921\"]], \"type\": \"contour\"}], \"contourcarpet\": [{\"colorbar\": {\"outlinewidth\": 0, \"ticks\": \"\"}, \"type\": \"contourcarpet\"}], \"heatmap\": [{\"colorbar\": {\"outlinewidth\": 0, \"ticks\": \"\"}, \"colorscale\": [[0.0, \"#0d0887\"], [0.1111111111111111, \"#46039f\"], [0.2222222222222222, \"#7201a8\"], [0.3333333333333333, \"#9c179e\"], [0.4444444444444444, \"#bd3786\"], [0.5555555555555556, \"#d8576b\"], [0.6666666666666666, \"#ed7953\"], [0.7777777777777778, \"#fb9f3a\"], [0.8888888888888888, \"#fdca26\"], [1.0, \"#f0f921\"]], \"type\": \"heatmap\"}], \"heatmapgl\": [{\"colorbar\": {\"outlinewidth\": 0, \"ticks\": \"\"}, \"colorscale\": [[0.0, \"#0d0887\"], [0.1111111111111111, \"#46039f\"], [0.2222222222222222, \"#7201a8\"], [0.3333333333333333, \"#9c179e\"], [0.4444444444444444, \"#bd3786\"], [0.5555555555555556, \"#d8576b\"], [0.6666666666666666, \"#ed7953\"], [0.7777777777777778, \"#fb9f3a\"], [0.8888888888888888, \"#fdca26\"], [1.0, \"#f0f921\"]], \"type\": \"heatmapgl\"}], \"histogram\": [{\"marker\": {\"colorbar\": {\"outlinewidth\": 0, \"ticks\": \"\"}}, \"type\": \"histogram\"}], \"histogram2d\": [{\"colorbar\": {\"outlinewidth\": 0, \"ticks\": \"\"}, \"colorscale\": [[0.0, \"#0d0887\"], [0.1111111111111111, \"#46039f\"], [0.2222222222222222, \"#7201a8\"], [0.3333333333333333, \"#9c179e\"], [0.4444444444444444, \"#bd3786\"], [0.5555555555555556, \"#d8576b\"], [0.6666666666666666, \"#ed7953\"], [0.7777777777777778, \"#fb9f3a\"], [0.8888888888888888, \"#fdca26\"], [1.0, \"#f0f921\"]], \"type\": \"histogram2d\"}], \"histogram2dcontour\": [{\"colorbar\": {\"outlinewidth\": 0, \"ticks\": \"\"}, \"colorscale\": [[0.0, \"#0d0887\"], [0.1111111111111111, \"#46039f\"], [0.2222222222222222, \"#7201a8\"], [0.3333333333333333, \"#9c179e\"], [0.4444444444444444, \"#bd3786\"], [0.5555555555555556, \"#d8576b\"], [0.6666666666666666, \"#ed7953\"], [0.7777777777777778, \"#fb9f3a\"], [0.8888888888888888, \"#fdca26\"], [1.0, \"#f0f921\"]], \"type\": \"histogram2dcontour\"}], \"mesh3d\": [{\"colorbar\": {\"outlinewidth\": 0, \"ticks\": \"\"}, \"type\": \"mesh3d\"}], \"parcoords\": [{\"line\": {\"colorbar\": {\"outlinewidth\": 0, \"ticks\": \"\"}}, \"type\": \"parcoords\"}], \"pie\": [{\"automargin\": true, \"type\": \"pie\"}], \"scatter\": [{\"marker\": {\"colorbar\": {\"outlinewidth\": 0, \"ticks\": \"\"}}, \"type\": \"scatter\"}], \"scatter3d\": [{\"line\": {\"colorbar\": {\"outlinewidth\": 0, \"ticks\": \"\"}}, \"marker\": {\"colorbar\": {\"outlinewidth\": 0, \"ticks\": \"\"}}, \"type\": \"scatter3d\"}], \"scattercarpet\": [{\"marker\": {\"colorbar\": {\"outlinewidth\": 0, \"ticks\": \"\"}}, \"type\": \"scattercarpet\"}], \"scattergeo\": [{\"marker\": {\"colorbar\": {\"outlinewidth\": 0, \"ticks\": \"\"}}, \"type\": \"scattergeo\"}], \"scattergl\": [{\"marker\": {\"colorbar\": {\"outlinewidth\": 0, \"ticks\": \"\"}}, \"type\": \"scattergl\"}], \"scattermapbox\": [{\"marker\": {\"colorbar\": {\"outlinewidth\": 0, \"ticks\": \"\"}}, \"type\": \"scattermapbox\"}], \"scatterpolar\": [{\"marker\": {\"colorbar\": {\"outlinewidth\": 0, \"ticks\": \"\"}}, \"type\": \"scatterpolar\"}], \"scatterpolargl\": [{\"marker\": {\"colorbar\": {\"outlinewidth\": 0, \"ticks\": \"\"}}, \"type\": \"scatterpolargl\"}], \"scatterternary\": [{\"marker\": {\"colorbar\": {\"outlinewidth\": 0, \"ticks\": \"\"}}, \"type\": \"scatterternary\"}], \"surface\": [{\"colorbar\": {\"outlinewidth\": 0, \"ticks\": \"\"}, \"colorscale\": [[0.0, \"#0d0887\"], [0.1111111111111111, \"#46039f\"], [0.2222222222222222, \"#7201a8\"], [0.3333333333333333, \"#9c179e\"], [0.4444444444444444, \"#bd3786\"], [0.5555555555555556, \"#d8576b\"], [0.6666666666666666, \"#ed7953\"], [0.7777777777777778, \"#fb9f3a\"], [0.8888888888888888, \"#fdca26\"], [1.0, \"#f0f921\"]], \"type\": \"surface\"}], \"table\": [{\"cells\": {\"fill\": {\"color\": \"#EBF0F8\"}, \"line\": {\"color\": \"white\"}}, \"header\": {\"fill\": {\"color\": \"#C8D4E3\"}, \"line\": {\"color\": \"white\"}}, \"type\": \"table\"}]}, \"layout\": {\"annotationdefaults\": {\"arrowcolor\": \"#2a3f5f\", \"arrowhead\": 0, \"arrowwidth\": 1}, \"coloraxis\": {\"colorbar\": {\"outlinewidth\": 0, \"ticks\": \"\"}}, \"colorscale\": {\"diverging\": [[0, \"#8e0152\"], [0.1, \"#c51b7d\"], [0.2, \"#de77ae\"], [0.3, \"#f1b6da\"], [0.4, \"#fde0ef\"], [0.5, \"#f7f7f7\"], [0.6, \"#e6f5d0\"], [0.7, \"#b8e186\"], [0.8, \"#7fbc41\"], [0.9, \"#4d9221\"], [1, \"#276419\"]], \"sequential\": [[0.0, \"#0d0887\"], [0.1111111111111111, \"#46039f\"], [0.2222222222222222, \"#7201a8\"], [0.3333333333333333, \"#9c179e\"], [0.4444444444444444, \"#bd3786\"], [0.5555555555555556, \"#d8576b\"], [0.6666666666666666, \"#ed7953\"], [0.7777777777777778, \"#fb9f3a\"], [0.8888888888888888, \"#fdca26\"], [1.0, \"#f0f921\"]], \"sequentialminus\": [[0.0, \"#0d0887\"], [0.1111111111111111, \"#46039f\"], [0.2222222222222222, \"#7201a8\"], [0.3333333333333333, \"#9c179e\"], [0.4444444444444444, \"#bd3786\"], [0.5555555555555556, \"#d8576b\"], [0.6666666666666666, \"#ed7953\"], [0.7777777777777778, \"#fb9f3a\"], [0.8888888888888888, \"#fdca26\"], [1.0, \"#f0f921\"]]}, \"colorway\": [\"#636efa\", \"#EF553B\", \"#00cc96\", \"#ab63fa\", \"#FFA15A\", \"#19d3f3\", \"#FF6692\", \"#B6E880\", \"#FF97FF\", \"#FECB52\"], \"font\": {\"color\": \"#2a3f5f\"}, \"geo\": {\"bgcolor\": \"white\", \"lakecolor\": \"white\", \"landcolor\": \"#E5ECF6\", \"showlakes\": true, \"showland\": true, \"subunitcolor\": \"white\"}, \"hoverlabel\": {\"align\": \"left\"}, \"hovermode\": \"closest\", \"mapbox\": {\"style\": \"light\"}, \"paper_bgcolor\": \"white\", \"plot_bgcolor\": \"#E5ECF6\", \"polar\": {\"angularaxis\": {\"gridcolor\": \"white\", \"linecolor\": \"white\", \"ticks\": \"\"}, \"bgcolor\": \"#E5ECF6\", \"radialaxis\": {\"gridcolor\": \"white\", \"linecolor\": \"white\", \"ticks\": \"\"}}, \"scene\": {\"xaxis\": {\"backgroundcolor\": \"#E5ECF6\", \"gridcolor\": \"white\", \"gridwidth\": 2, \"linecolor\": \"white\", \"showbackground\": true, \"ticks\": \"\", \"zerolinecolor\": \"white\"}, \"yaxis\": {\"backgroundcolor\": \"#E5ECF6\", \"gridcolor\": \"white\", \"gridwidth\": 2, \"linecolor\": \"white\", \"showbackground\": true, \"ticks\": \"\", \"zerolinecolor\": \"white\"}, \"zaxis\": {\"backgroundcolor\": \"#E5ECF6\", \"gridcolor\": \"white\", \"gridwidth\": 2, \"linecolor\": \"white\", \"showbackground\": true, \"ticks\": \"\", \"zerolinecolor\": \"white\"}}, \"shapedefaults\": {\"line\": {\"color\": \"#2a3f5f\"}}, \"ternary\": {\"aaxis\": {\"gridcolor\": \"white\", \"linecolor\": \"white\", \"ticks\": \"\"}, \"baxis\": {\"gridcolor\": \"white\", \"linecolor\": \"white\", \"ticks\": \"\"}, \"bgcolor\": \"#E5ECF6\", \"caxis\": {\"gridcolor\": \"white\", \"linecolor\": \"white\", \"ticks\": \"\"}}, \"title\": {\"x\": 0.05}, \"xaxis\": {\"automargin\": true, \"gridcolor\": \"white\", \"linecolor\": \"white\", \"ticks\": \"\", \"title\": {\"standoff\": 15}, \"zerolinecolor\": \"white\", \"zerolinewidth\": 2}, \"yaxis\": {\"automargin\": true, \"gridcolor\": \"white\", \"linecolor\": \"white\", \"ticks\": \"\", \"title\": {\"standoff\": 15}, \"zerolinecolor\": \"white\", \"zerolinewidth\": 2}}}, \"title\": {\"font\": {\"color\": \"#4D5663\"}}, \"xaxis\": {\"gridcolor\": \"#E1E5ED\", \"showgrid\": true, \"tickfont\": {\"color\": \"#4D5663\"}, \"title\": {\"font\": {\"color\": \"#4D5663\"}, \"text\": \"\"}, \"zerolinecolor\": \"#E1E5ED\"}, \"yaxis\": {\"gridcolor\": \"#E1E5ED\", \"showgrid\": true, \"tickfont\": {\"color\": \"#4D5663\"}, \"title\": {\"font\": {\"color\": \"#4D5663\"}, \"text\": \"\"}, \"zerolinecolor\": \"#E1E5ED\"}},\n",
       "                        {\"showLink\": true, \"linkText\": \"Export to plot.ly\", \"plotlyServerURL\": \"https://plot.ly\", \"responsive\": true}\n",
       "                    ).then(function(){\n",
       "                            \n",
       "var gd = document.getElementById('db4fd6c4-c8ad-4480-a911-a8314e2aa597');\n",
       "var x = new MutationObserver(function (mutations, observer) {{\n",
       "        var display = window.getComputedStyle(gd).display;\n",
       "        if (!display || display === 'none') {{\n",
       "            console.log([gd, 'removed!']);\n",
       "            Plotly.purge(gd);\n",
       "            observer.disconnect();\n",
       "        }}\n",
       "}});\n",
       "\n",
       "// Listen for the removal of the full notebook cells\n",
       "var notebookContainer = gd.closest('#notebook-container');\n",
       "if (notebookContainer) {{\n",
       "    x.observe(notebookContainer, {childList: true});\n",
       "}}\n",
       "\n",
       "// Listen for the clearing of the current output cell\n",
       "var outputEl = gd.closest('.output');\n",
       "if (outputEl) {{\n",
       "    x.observe(outputEl, {childList: true});\n",
       "}}\n",
       "\n",
       "                        })\n",
       "                };\n",
       "                });\n",
       "            </script>\n",
       "        </div>"
      ]
     },
     "metadata": {},
     "output_type": "display_data"
    }
   ],
   "source": [
    "df.iplot(kind='scatter', x='A', y='B')"
   ]
  },
  {
   "cell_type": "code",
   "execution_count": 22,
   "metadata": {},
   "outputs": [
    {
     "data": {
      "application/vnd.plotly.v1+json": {
       "config": {
        "linkText": "Export to plot.ly",
        "plotlyServerURL": "https://plot.ly",
        "showLink": true
       },
       "data": [
        {
         "line": {
          "color": "rgba(255, 153, 51, 1.0)",
          "dash": "solid",
          "shape": "linear",
          "width": 1.3
         },
         "marker": {
          "size": 12,
          "symbol": "circle"
         },
         "mode": "markers",
         "name": "B",
         "text": "",
         "type": "scatter",
         "x": [
          -0.13332898728486217,
          0.6049162173562118,
          -0.16177503105113158,
          0.2904262389514051,
          1.1562838099089574,
          -1.1848532417977728,
          0.8982273761327372,
          0.028278257948029965,
          -0.9868512173336761,
          0.6840821635822759,
          -0.7608168905347923,
          -0.4849772912292263,
          1.4103246726026462,
          -0.8217680536926046,
          -0.10584387485756273,
          0.0915326999720717,
          1.5868812487818433,
          1.4610332716855279,
          -0.296010479607427,
          -1.636326733107384,
          -0.494075647778116,
          1.254407911954291,
          -1.3259794161261163,
          0.46662695049174047,
          0.9930619033922193,
          -0.5176556953346497,
          0.4923565746528598,
          -0.30148014268246154,
          -0.4809887648149414,
          0.4820761832548575,
          0.9795666811263533,
          0.2290842534017007,
          0.36752354492950984,
          0.6168940590624284,
          0.4114722975292953,
          -0.20855183114206602,
          1.132181985806202,
          0.9935469114025697,
          0.016836190438973112,
          0.961885915997291,
          -1.783903976137237,
          -0.9587206963745689,
          -1.5379896533002744,
          -0.7128492071354146,
          -0.42738557738685895,
          0.4026918235878419,
          1.1185123034948807,
          1.1653431112356398,
          0.5260806281991431,
          0.2603131849043691,
          1.1467886882959684,
          -0.40965228755670074,
          0.7133917959352619,
          1.1250831270878798,
          0.817216553655222,
          1.4917512529186387,
          -0.5125131549706918,
          0.14776577406804275,
          0.21713674429031635,
          0.5477373667964758,
          -0.08254668451697868,
          -0.750904913226693,
          -0.48210838498018804,
          0.9105294888876799,
          0.8690776970323018,
          -0.95756608003841,
          -0.6806140558632705,
          -0.5565517022643965,
          -0.14106813094953835,
          0.17396554387381946,
          -2.041059568986403,
          -0.06075202622890458,
          -1.2553721922271923,
          0.740004930068497,
          0.6323495961138877,
          0.3758072565623964,
          0.3121515525987599,
          1.2167344648060452,
          -0.8148129555263465,
          -1.0423994099522742,
          -1.053758446029795,
          1.0591205959040673,
          0.624547701537553,
          0.4113627954704313,
          1.1811178417779826,
          1.0245574869849703,
          -0.09182695658014851,
          0.12237334974580312,
          -0.8312689468801848,
          0.31971330737792997,
          0.3882652757412495,
          -0.24487556089373985,
          1.211015675419331,
          0.2265724142315915,
          -0.6340086051558401,
          0.789035760998447,
          -0.428508620713086,
          -1.2083999122326243,
          -2.442220579365496,
          0.6181020168836062
         ],
         "y": [
          0.877873119201991,
          -0.8871864835711982,
          -0.8779365085710115,
          0.16707982521148182,
          0.9770570964405164,
          -1.0210807539641042,
          -0.21179137664286418,
          -0.025274265344616083,
          -1.1092078640172551,
          -1.1521829664006475,
          -1.0678537312032441,
          0.881399073284442,
          -1.5472658310039031,
          0.42894438694587583,
          -0.5847667949359995,
          0.5861364661033456,
          -0.04141568970211862,
          1.6330695985806374,
          0.9136833206359156,
          2.0233395926138007,
          1.101142592370221,
          -0.5682038376230117,
          0.042882304288209314,
          -0.4047854558570145,
          -0.20925108081337035,
          0.7529358997543051,
          0.7407450265436628,
          -1.3607933912602541,
          0.3411301947962091,
          1.3151839384818036,
          0.3575314753592644,
          -1.3118340501498933,
          1.4279165133867213,
          -0.2559157130428562,
          0.4464527395079081,
          0.6658948694956442,
          0.7259355144620822,
          0.8235263881423511,
          -0.08484654956607927,
          1.8343974103662948,
          -0.4713263219195928,
          -0.8960723024860888,
          -0.30064987887889344,
          -0.4316502480055467,
          0.2857158451321729,
          -0.5736274210697178,
          2.5697362447985554,
          0.6277843390429633,
          -0.49445184097626804,
          0.8499163415546525,
          1.5785939994794886,
          -0.9821279273371802,
          -0.4739870836956822,
          -1.3416687809494725,
          0.984719136622916,
          -0.2741650591388619,
          1.4972102529508924,
          0.17436161357051014,
          -0.7460530393643999,
          0.4081345878441793,
          0.7508643479924706,
          0.007458631298474343,
          -2.356211944871521,
          1.2434124482978255,
          -0.9764707565302257,
          -0.9003187532037691,
          -0.6552946312368383,
          1.01863556348232,
          2.5093706224495755,
          -0.04773433274440632,
          1.0449119076216544,
          0.408730882028547,
          -0.11919913738978115,
          0.38587853161043395,
          -1.1517321753523175,
          1.6165054269845633,
          2.320370989305167,
          -0.97030489009854,
          0.03428818309439457,
          -0.567194415289803,
          -1.6004626492305494,
          0.7941768603034315,
          0.7850386433665631,
          1.5710577492336988,
          0.5925013415374528,
          1.3388239018740202,
          -1.493035583334954,
          0.8131093233548212,
          -0.06253088379133223,
          1.0761370002087423,
          1.6009510396615159,
          1.0372091416050686,
          0.24796801351280354,
          1.1619363392738358,
          -0.3941704306660358,
          -0.7976663790741948,
          1.7838229422786538,
          -1.6143395792946713,
          0.2445066278672296,
          -0.19001794744455636
         ]
        }
       ],
       "layout": {
        "legend": {
         "bgcolor": "#F5F6F9",
         "font": {
          "color": "#4D5663"
         }
        },
        "paper_bgcolor": "#F5F6F9",
        "plot_bgcolor": "#F5F6F9",
        "template": {
         "data": {
          "bar": [
           {
            "error_x": {
             "color": "#2a3f5f"
            },
            "error_y": {
             "color": "#2a3f5f"
            },
            "marker": {
             "line": {
              "color": "#E5ECF6",
              "width": 0.5
             }
            },
            "type": "bar"
           }
          ],
          "barpolar": [
           {
            "marker": {
             "line": {
              "color": "#E5ECF6",
              "width": 0.5
             }
            },
            "type": "barpolar"
           }
          ],
          "carpet": [
           {
            "aaxis": {
             "endlinecolor": "#2a3f5f",
             "gridcolor": "white",
             "linecolor": "white",
             "minorgridcolor": "white",
             "startlinecolor": "#2a3f5f"
            },
            "baxis": {
             "endlinecolor": "#2a3f5f",
             "gridcolor": "white",
             "linecolor": "white",
             "minorgridcolor": "white",
             "startlinecolor": "#2a3f5f"
            },
            "type": "carpet"
           }
          ],
          "choropleth": [
           {
            "colorbar": {
             "outlinewidth": 0,
             "ticks": ""
            },
            "type": "choropleth"
           }
          ],
          "contour": [
           {
            "colorbar": {
             "outlinewidth": 0,
             "ticks": ""
            },
            "colorscale": [
             [
              0,
              "#0d0887"
             ],
             [
              0.1111111111111111,
              "#46039f"
             ],
             [
              0.2222222222222222,
              "#7201a8"
             ],
             [
              0.3333333333333333,
              "#9c179e"
             ],
             [
              0.4444444444444444,
              "#bd3786"
             ],
             [
              0.5555555555555556,
              "#d8576b"
             ],
             [
              0.6666666666666666,
              "#ed7953"
             ],
             [
              0.7777777777777778,
              "#fb9f3a"
             ],
             [
              0.8888888888888888,
              "#fdca26"
             ],
             [
              1,
              "#f0f921"
             ]
            ],
            "type": "contour"
           }
          ],
          "contourcarpet": [
           {
            "colorbar": {
             "outlinewidth": 0,
             "ticks": ""
            },
            "type": "contourcarpet"
           }
          ],
          "heatmap": [
           {
            "colorbar": {
             "outlinewidth": 0,
             "ticks": ""
            },
            "colorscale": [
             [
              0,
              "#0d0887"
             ],
             [
              0.1111111111111111,
              "#46039f"
             ],
             [
              0.2222222222222222,
              "#7201a8"
             ],
             [
              0.3333333333333333,
              "#9c179e"
             ],
             [
              0.4444444444444444,
              "#bd3786"
             ],
             [
              0.5555555555555556,
              "#d8576b"
             ],
             [
              0.6666666666666666,
              "#ed7953"
             ],
             [
              0.7777777777777778,
              "#fb9f3a"
             ],
             [
              0.8888888888888888,
              "#fdca26"
             ],
             [
              1,
              "#f0f921"
             ]
            ],
            "type": "heatmap"
           }
          ],
          "heatmapgl": [
           {
            "colorbar": {
             "outlinewidth": 0,
             "ticks": ""
            },
            "colorscale": [
             [
              0,
              "#0d0887"
             ],
             [
              0.1111111111111111,
              "#46039f"
             ],
             [
              0.2222222222222222,
              "#7201a8"
             ],
             [
              0.3333333333333333,
              "#9c179e"
             ],
             [
              0.4444444444444444,
              "#bd3786"
             ],
             [
              0.5555555555555556,
              "#d8576b"
             ],
             [
              0.6666666666666666,
              "#ed7953"
             ],
             [
              0.7777777777777778,
              "#fb9f3a"
             ],
             [
              0.8888888888888888,
              "#fdca26"
             ],
             [
              1,
              "#f0f921"
             ]
            ],
            "type": "heatmapgl"
           }
          ],
          "histogram": [
           {
            "marker": {
             "colorbar": {
              "outlinewidth": 0,
              "ticks": ""
             }
            },
            "type": "histogram"
           }
          ],
          "histogram2d": [
           {
            "colorbar": {
             "outlinewidth": 0,
             "ticks": ""
            },
            "colorscale": [
             [
              0,
              "#0d0887"
             ],
             [
              0.1111111111111111,
              "#46039f"
             ],
             [
              0.2222222222222222,
              "#7201a8"
             ],
             [
              0.3333333333333333,
              "#9c179e"
             ],
             [
              0.4444444444444444,
              "#bd3786"
             ],
             [
              0.5555555555555556,
              "#d8576b"
             ],
             [
              0.6666666666666666,
              "#ed7953"
             ],
             [
              0.7777777777777778,
              "#fb9f3a"
             ],
             [
              0.8888888888888888,
              "#fdca26"
             ],
             [
              1,
              "#f0f921"
             ]
            ],
            "type": "histogram2d"
           }
          ],
          "histogram2dcontour": [
           {
            "colorbar": {
             "outlinewidth": 0,
             "ticks": ""
            },
            "colorscale": [
             [
              0,
              "#0d0887"
             ],
             [
              0.1111111111111111,
              "#46039f"
             ],
             [
              0.2222222222222222,
              "#7201a8"
             ],
             [
              0.3333333333333333,
              "#9c179e"
             ],
             [
              0.4444444444444444,
              "#bd3786"
             ],
             [
              0.5555555555555556,
              "#d8576b"
             ],
             [
              0.6666666666666666,
              "#ed7953"
             ],
             [
              0.7777777777777778,
              "#fb9f3a"
             ],
             [
              0.8888888888888888,
              "#fdca26"
             ],
             [
              1,
              "#f0f921"
             ]
            ],
            "type": "histogram2dcontour"
           }
          ],
          "mesh3d": [
           {
            "colorbar": {
             "outlinewidth": 0,
             "ticks": ""
            },
            "type": "mesh3d"
           }
          ],
          "parcoords": [
           {
            "line": {
             "colorbar": {
              "outlinewidth": 0,
              "ticks": ""
             }
            },
            "type": "parcoords"
           }
          ],
          "pie": [
           {
            "automargin": true,
            "type": "pie"
           }
          ],
          "scatter": [
           {
            "marker": {
             "colorbar": {
              "outlinewidth": 0,
              "ticks": ""
             }
            },
            "type": "scatter"
           }
          ],
          "scatter3d": [
           {
            "line": {
             "colorbar": {
              "outlinewidth": 0,
              "ticks": ""
             }
            },
            "marker": {
             "colorbar": {
              "outlinewidth": 0,
              "ticks": ""
             }
            },
            "type": "scatter3d"
           }
          ],
          "scattercarpet": [
           {
            "marker": {
             "colorbar": {
              "outlinewidth": 0,
              "ticks": ""
             }
            },
            "type": "scattercarpet"
           }
          ],
          "scattergeo": [
           {
            "marker": {
             "colorbar": {
              "outlinewidth": 0,
              "ticks": ""
             }
            },
            "type": "scattergeo"
           }
          ],
          "scattergl": [
           {
            "marker": {
             "colorbar": {
              "outlinewidth": 0,
              "ticks": ""
             }
            },
            "type": "scattergl"
           }
          ],
          "scattermapbox": [
           {
            "marker": {
             "colorbar": {
              "outlinewidth": 0,
              "ticks": ""
             }
            },
            "type": "scattermapbox"
           }
          ],
          "scatterpolar": [
           {
            "marker": {
             "colorbar": {
              "outlinewidth": 0,
              "ticks": ""
             }
            },
            "type": "scatterpolar"
           }
          ],
          "scatterpolargl": [
           {
            "marker": {
             "colorbar": {
              "outlinewidth": 0,
              "ticks": ""
             }
            },
            "type": "scatterpolargl"
           }
          ],
          "scatterternary": [
           {
            "marker": {
             "colorbar": {
              "outlinewidth": 0,
              "ticks": ""
             }
            },
            "type": "scatterternary"
           }
          ],
          "surface": [
           {
            "colorbar": {
             "outlinewidth": 0,
             "ticks": ""
            },
            "colorscale": [
             [
              0,
              "#0d0887"
             ],
             [
              0.1111111111111111,
              "#46039f"
             ],
             [
              0.2222222222222222,
              "#7201a8"
             ],
             [
              0.3333333333333333,
              "#9c179e"
             ],
             [
              0.4444444444444444,
              "#bd3786"
             ],
             [
              0.5555555555555556,
              "#d8576b"
             ],
             [
              0.6666666666666666,
              "#ed7953"
             ],
             [
              0.7777777777777778,
              "#fb9f3a"
             ],
             [
              0.8888888888888888,
              "#fdca26"
             ],
             [
              1,
              "#f0f921"
             ]
            ],
            "type": "surface"
           }
          ],
          "table": [
           {
            "cells": {
             "fill": {
              "color": "#EBF0F8"
             },
             "line": {
              "color": "white"
             }
            },
            "header": {
             "fill": {
              "color": "#C8D4E3"
             },
             "line": {
              "color": "white"
             }
            },
            "type": "table"
           }
          ]
         },
         "layout": {
          "annotationdefaults": {
           "arrowcolor": "#2a3f5f",
           "arrowhead": 0,
           "arrowwidth": 1
          },
          "coloraxis": {
           "colorbar": {
            "outlinewidth": 0,
            "ticks": ""
           }
          },
          "colorscale": {
           "diverging": [
            [
             0,
             "#8e0152"
            ],
            [
             0.1,
             "#c51b7d"
            ],
            [
             0.2,
             "#de77ae"
            ],
            [
             0.3,
             "#f1b6da"
            ],
            [
             0.4,
             "#fde0ef"
            ],
            [
             0.5,
             "#f7f7f7"
            ],
            [
             0.6,
             "#e6f5d0"
            ],
            [
             0.7,
             "#b8e186"
            ],
            [
             0.8,
             "#7fbc41"
            ],
            [
             0.9,
             "#4d9221"
            ],
            [
             1,
             "#276419"
            ]
           ],
           "sequential": [
            [
             0,
             "#0d0887"
            ],
            [
             0.1111111111111111,
             "#46039f"
            ],
            [
             0.2222222222222222,
             "#7201a8"
            ],
            [
             0.3333333333333333,
             "#9c179e"
            ],
            [
             0.4444444444444444,
             "#bd3786"
            ],
            [
             0.5555555555555556,
             "#d8576b"
            ],
            [
             0.6666666666666666,
             "#ed7953"
            ],
            [
             0.7777777777777778,
             "#fb9f3a"
            ],
            [
             0.8888888888888888,
             "#fdca26"
            ],
            [
             1,
             "#f0f921"
            ]
           ],
           "sequentialminus": [
            [
             0,
             "#0d0887"
            ],
            [
             0.1111111111111111,
             "#46039f"
            ],
            [
             0.2222222222222222,
             "#7201a8"
            ],
            [
             0.3333333333333333,
             "#9c179e"
            ],
            [
             0.4444444444444444,
             "#bd3786"
            ],
            [
             0.5555555555555556,
             "#d8576b"
            ],
            [
             0.6666666666666666,
             "#ed7953"
            ],
            [
             0.7777777777777778,
             "#fb9f3a"
            ],
            [
             0.8888888888888888,
             "#fdca26"
            ],
            [
             1,
             "#f0f921"
            ]
           ]
          },
          "colorway": [
           "#636efa",
           "#EF553B",
           "#00cc96",
           "#ab63fa",
           "#FFA15A",
           "#19d3f3",
           "#FF6692",
           "#B6E880",
           "#FF97FF",
           "#FECB52"
          ],
          "font": {
           "color": "#2a3f5f"
          },
          "geo": {
           "bgcolor": "white",
           "lakecolor": "white",
           "landcolor": "#E5ECF6",
           "showlakes": true,
           "showland": true,
           "subunitcolor": "white"
          },
          "hoverlabel": {
           "align": "left"
          },
          "hovermode": "closest",
          "mapbox": {
           "style": "light"
          },
          "paper_bgcolor": "white",
          "plot_bgcolor": "#E5ECF6",
          "polar": {
           "angularaxis": {
            "gridcolor": "white",
            "linecolor": "white",
            "ticks": ""
           },
           "bgcolor": "#E5ECF6",
           "radialaxis": {
            "gridcolor": "white",
            "linecolor": "white",
            "ticks": ""
           }
          },
          "scene": {
           "xaxis": {
            "backgroundcolor": "#E5ECF6",
            "gridcolor": "white",
            "gridwidth": 2,
            "linecolor": "white",
            "showbackground": true,
            "ticks": "",
            "zerolinecolor": "white"
           },
           "yaxis": {
            "backgroundcolor": "#E5ECF6",
            "gridcolor": "white",
            "gridwidth": 2,
            "linecolor": "white",
            "showbackground": true,
            "ticks": "",
            "zerolinecolor": "white"
           },
           "zaxis": {
            "backgroundcolor": "#E5ECF6",
            "gridcolor": "white",
            "gridwidth": 2,
            "linecolor": "white",
            "showbackground": true,
            "ticks": "",
            "zerolinecolor": "white"
           }
          },
          "shapedefaults": {
           "line": {
            "color": "#2a3f5f"
           }
          },
          "ternary": {
           "aaxis": {
            "gridcolor": "white",
            "linecolor": "white",
            "ticks": ""
           },
           "baxis": {
            "gridcolor": "white",
            "linecolor": "white",
            "ticks": ""
           },
           "bgcolor": "#E5ECF6",
           "caxis": {
            "gridcolor": "white",
            "linecolor": "white",
            "ticks": ""
           }
          },
          "title": {
           "x": 0.05
          },
          "xaxis": {
           "automargin": true,
           "gridcolor": "white",
           "linecolor": "white",
           "ticks": "",
           "title": {
            "standoff": 15
           },
           "zerolinecolor": "white",
           "zerolinewidth": 2
          },
          "yaxis": {
           "automargin": true,
           "gridcolor": "white",
           "linecolor": "white",
           "ticks": "",
           "title": {
            "standoff": 15
           },
           "zerolinecolor": "white",
           "zerolinewidth": 2
          }
         }
        },
        "title": {
         "font": {
          "color": "#4D5663"
         }
        },
        "xaxis": {
         "gridcolor": "#E1E5ED",
         "showgrid": true,
         "tickfont": {
          "color": "#4D5663"
         },
         "title": {
          "font": {
           "color": "#4D5663"
          },
          "text": ""
         },
         "zerolinecolor": "#E1E5ED"
        },
        "yaxis": {
         "gridcolor": "#E1E5ED",
         "showgrid": true,
         "tickfont": {
          "color": "#4D5663"
         },
         "title": {
          "font": {
           "color": "#4D5663"
          },
          "text": ""
         },
         "zerolinecolor": "#E1E5ED"
        }
       }
      },
      "text/html": [
       "<div>\n",
       "        \n",
       "        \n",
       "            <div id=\"9bb31fc9-8c33-4a6f-a9a1-ccb6193d799e\" class=\"plotly-graph-div\" style=\"height:525px; width:100%;\"></div>\n",
       "            <script type=\"text/javascript\">\n",
       "                require([\"plotly\"], function(Plotly) {\n",
       "                    window.PLOTLYENV=window.PLOTLYENV || {};\n",
       "                    window.PLOTLYENV.BASE_URL='https://plot.ly';\n",
       "                    \n",
       "                if (document.getElementById(\"9bb31fc9-8c33-4a6f-a9a1-ccb6193d799e\")) {\n",
       "                    Plotly.newPlot(\n",
       "                        '9bb31fc9-8c33-4a6f-a9a1-ccb6193d799e',\n",
       "                        [{\"line\": {\"color\": \"rgba(255, 153, 51, 1.0)\", \"dash\": \"solid\", \"shape\": \"linear\", \"width\": 1.3}, \"marker\": {\"size\": 12, \"symbol\": \"circle\"}, \"mode\": \"markers\", \"name\": \"B\", \"text\": \"\", \"type\": \"scatter\", \"x\": [-0.13332898728486217, 0.6049162173562118, -0.16177503105113158, 0.2904262389514051, 1.1562838099089574, -1.1848532417977728, 0.8982273761327372, 0.028278257948029965, -0.9868512173336761, 0.6840821635822759, -0.7608168905347923, -0.4849772912292263, 1.4103246726026462, -0.8217680536926046, -0.10584387485756273, 0.0915326999720717, 1.5868812487818433, 1.4610332716855279, -0.296010479607427, -1.636326733107384, -0.494075647778116, 1.254407911954291, -1.3259794161261163, 0.46662695049174047, 0.9930619033922193, -0.5176556953346497, 0.4923565746528598, -0.30148014268246154, -0.4809887648149414, 0.4820761832548575, 0.9795666811263533, 0.2290842534017007, 0.36752354492950984, 0.6168940590624284, 0.4114722975292953, -0.20855183114206602, 1.132181985806202, 0.9935469114025697, 0.016836190438973112, 0.961885915997291, -1.783903976137237, -0.9587206963745689, -1.5379896533002744, -0.7128492071354146, -0.42738557738685895, 0.4026918235878419, 1.1185123034948807, 1.1653431112356398, 0.5260806281991431, 0.2603131849043691, 1.1467886882959684, -0.40965228755670074, 0.7133917959352619, 1.1250831270878798, 0.817216553655222, 1.4917512529186387, -0.5125131549706918, 0.14776577406804275, 0.21713674429031635, 0.5477373667964758, -0.08254668451697868, -0.750904913226693, -0.48210838498018804, 0.9105294888876799, 0.8690776970323018, -0.95756608003841, -0.6806140558632705, -0.5565517022643965, -0.14106813094953835, 0.17396554387381946, -2.041059568986403, -0.06075202622890458, -1.2553721922271923, 0.740004930068497, 0.6323495961138877, 0.3758072565623964, 0.3121515525987599, 1.2167344648060452, -0.8148129555263465, -1.0423994099522742, -1.053758446029795, 1.0591205959040673, 0.624547701537553, 0.4113627954704313, 1.1811178417779826, 1.0245574869849703, -0.09182695658014851, 0.12237334974580312, -0.8312689468801848, 0.31971330737792997, 0.3882652757412495, -0.24487556089373985, 1.211015675419331, 0.2265724142315915, -0.6340086051558401, 0.789035760998447, -0.428508620713086, -1.2083999122326243, -2.442220579365496, 0.6181020168836062], \"y\": [0.877873119201991, -0.8871864835711982, -0.8779365085710115, 0.16707982521148182, 0.9770570964405164, -1.0210807539641042, -0.21179137664286418, -0.025274265344616083, -1.1092078640172551, -1.1521829664006475, -1.0678537312032441, 0.881399073284442, -1.5472658310039031, 0.42894438694587583, -0.5847667949359995, 0.5861364661033456, -0.04141568970211862, 1.6330695985806374, 0.9136833206359156, 2.0233395926138007, 1.101142592370221, -0.5682038376230117, 0.042882304288209314, -0.4047854558570145, -0.20925108081337035, 0.7529358997543051, 0.7407450265436628, -1.3607933912602541, 0.3411301947962091, 1.3151839384818036, 0.3575314753592644, -1.3118340501498933, 1.4279165133867213, -0.2559157130428562, 0.4464527395079081, 0.6658948694956442, 0.7259355144620822, 0.8235263881423511, -0.08484654956607927, 1.8343974103662948, -0.4713263219195928, -0.8960723024860888, -0.30064987887889344, -0.4316502480055467, 0.2857158451321729, -0.5736274210697178, 2.5697362447985554, 0.6277843390429633, -0.49445184097626804, 0.8499163415546525, 1.5785939994794886, -0.9821279273371802, -0.4739870836956822, -1.3416687809494725, 0.984719136622916, -0.2741650591388619, 1.4972102529508924, 0.17436161357051014, -0.7460530393643999, 0.4081345878441793, 0.7508643479924706, 0.007458631298474343, -2.356211944871521, 1.2434124482978255, -0.9764707565302257, -0.9003187532037691, -0.6552946312368383, 1.01863556348232, 2.5093706224495755, -0.04773433274440632, 1.0449119076216544, 0.408730882028547, -0.11919913738978115, 0.38587853161043395, -1.1517321753523175, 1.6165054269845633, 2.320370989305167, -0.97030489009854, 0.03428818309439457, -0.567194415289803, -1.6004626492305494, 0.7941768603034315, 0.7850386433665631, 1.5710577492336988, 0.5925013415374528, 1.3388239018740202, -1.493035583334954, 0.8131093233548212, -0.06253088379133223, 1.0761370002087423, 1.6009510396615159, 1.0372091416050686, 0.24796801351280354, 1.1619363392738358, -0.3941704306660358, -0.7976663790741948, 1.7838229422786538, -1.6143395792946713, 0.2445066278672296, -0.19001794744455636]}],\n",
       "                        {\"legend\": {\"bgcolor\": \"#F5F6F9\", \"font\": {\"color\": \"#4D5663\"}}, \"paper_bgcolor\": \"#F5F6F9\", \"plot_bgcolor\": \"#F5F6F9\", \"template\": {\"data\": {\"bar\": [{\"error_x\": {\"color\": \"#2a3f5f\"}, \"error_y\": {\"color\": \"#2a3f5f\"}, \"marker\": {\"line\": {\"color\": \"#E5ECF6\", \"width\": 0.5}}, \"type\": \"bar\"}], \"barpolar\": [{\"marker\": {\"line\": {\"color\": \"#E5ECF6\", \"width\": 0.5}}, \"type\": \"barpolar\"}], \"carpet\": [{\"aaxis\": {\"endlinecolor\": \"#2a3f5f\", \"gridcolor\": \"white\", \"linecolor\": \"white\", \"minorgridcolor\": \"white\", \"startlinecolor\": \"#2a3f5f\"}, \"baxis\": {\"endlinecolor\": \"#2a3f5f\", \"gridcolor\": \"white\", \"linecolor\": \"white\", \"minorgridcolor\": \"white\", \"startlinecolor\": \"#2a3f5f\"}, \"type\": \"carpet\"}], \"choropleth\": [{\"colorbar\": {\"outlinewidth\": 0, \"ticks\": \"\"}, \"type\": \"choropleth\"}], \"contour\": [{\"colorbar\": {\"outlinewidth\": 0, \"ticks\": \"\"}, \"colorscale\": [[0.0, \"#0d0887\"], [0.1111111111111111, \"#46039f\"], [0.2222222222222222, \"#7201a8\"], [0.3333333333333333, \"#9c179e\"], [0.4444444444444444, \"#bd3786\"], [0.5555555555555556, \"#d8576b\"], [0.6666666666666666, \"#ed7953\"], [0.7777777777777778, \"#fb9f3a\"], [0.8888888888888888, \"#fdca26\"], [1.0, \"#f0f921\"]], \"type\": \"contour\"}], \"contourcarpet\": [{\"colorbar\": {\"outlinewidth\": 0, \"ticks\": \"\"}, \"type\": \"contourcarpet\"}], \"heatmap\": [{\"colorbar\": {\"outlinewidth\": 0, \"ticks\": \"\"}, \"colorscale\": [[0.0, \"#0d0887\"], [0.1111111111111111, \"#46039f\"], [0.2222222222222222, \"#7201a8\"], [0.3333333333333333, \"#9c179e\"], [0.4444444444444444, \"#bd3786\"], [0.5555555555555556, \"#d8576b\"], [0.6666666666666666, \"#ed7953\"], [0.7777777777777778, \"#fb9f3a\"], [0.8888888888888888, \"#fdca26\"], [1.0, \"#f0f921\"]], \"type\": \"heatmap\"}], \"heatmapgl\": [{\"colorbar\": {\"outlinewidth\": 0, \"ticks\": \"\"}, \"colorscale\": [[0.0, \"#0d0887\"], [0.1111111111111111, \"#46039f\"], [0.2222222222222222, \"#7201a8\"], [0.3333333333333333, \"#9c179e\"], [0.4444444444444444, \"#bd3786\"], [0.5555555555555556, \"#d8576b\"], [0.6666666666666666, \"#ed7953\"], [0.7777777777777778, \"#fb9f3a\"], [0.8888888888888888, \"#fdca26\"], [1.0, \"#f0f921\"]], \"type\": \"heatmapgl\"}], \"histogram\": [{\"marker\": {\"colorbar\": {\"outlinewidth\": 0, \"ticks\": \"\"}}, \"type\": \"histogram\"}], \"histogram2d\": [{\"colorbar\": {\"outlinewidth\": 0, \"ticks\": \"\"}, \"colorscale\": [[0.0, \"#0d0887\"], [0.1111111111111111, \"#46039f\"], [0.2222222222222222, \"#7201a8\"], [0.3333333333333333, \"#9c179e\"], [0.4444444444444444, \"#bd3786\"], [0.5555555555555556, \"#d8576b\"], [0.6666666666666666, \"#ed7953\"], [0.7777777777777778, \"#fb9f3a\"], [0.8888888888888888, \"#fdca26\"], [1.0, \"#f0f921\"]], \"type\": \"histogram2d\"}], \"histogram2dcontour\": [{\"colorbar\": {\"outlinewidth\": 0, \"ticks\": \"\"}, \"colorscale\": [[0.0, \"#0d0887\"], [0.1111111111111111, \"#46039f\"], [0.2222222222222222, \"#7201a8\"], [0.3333333333333333, \"#9c179e\"], [0.4444444444444444, \"#bd3786\"], [0.5555555555555556, \"#d8576b\"], [0.6666666666666666, \"#ed7953\"], [0.7777777777777778, \"#fb9f3a\"], [0.8888888888888888, \"#fdca26\"], [1.0, \"#f0f921\"]], \"type\": \"histogram2dcontour\"}], \"mesh3d\": [{\"colorbar\": {\"outlinewidth\": 0, \"ticks\": \"\"}, \"type\": \"mesh3d\"}], \"parcoords\": [{\"line\": {\"colorbar\": {\"outlinewidth\": 0, \"ticks\": \"\"}}, \"type\": \"parcoords\"}], \"pie\": [{\"automargin\": true, \"type\": \"pie\"}], \"scatter\": [{\"marker\": {\"colorbar\": {\"outlinewidth\": 0, \"ticks\": \"\"}}, \"type\": \"scatter\"}], \"scatter3d\": [{\"line\": {\"colorbar\": {\"outlinewidth\": 0, \"ticks\": \"\"}}, \"marker\": {\"colorbar\": {\"outlinewidth\": 0, \"ticks\": \"\"}}, \"type\": \"scatter3d\"}], \"scattercarpet\": [{\"marker\": {\"colorbar\": {\"outlinewidth\": 0, \"ticks\": \"\"}}, \"type\": \"scattercarpet\"}], \"scattergeo\": [{\"marker\": {\"colorbar\": {\"outlinewidth\": 0, \"ticks\": \"\"}}, \"type\": \"scattergeo\"}], \"scattergl\": [{\"marker\": {\"colorbar\": {\"outlinewidth\": 0, \"ticks\": \"\"}}, \"type\": \"scattergl\"}], \"scattermapbox\": [{\"marker\": {\"colorbar\": {\"outlinewidth\": 0, \"ticks\": \"\"}}, \"type\": \"scattermapbox\"}], \"scatterpolar\": [{\"marker\": {\"colorbar\": {\"outlinewidth\": 0, \"ticks\": \"\"}}, \"type\": \"scatterpolar\"}], \"scatterpolargl\": [{\"marker\": {\"colorbar\": {\"outlinewidth\": 0, \"ticks\": \"\"}}, \"type\": \"scatterpolargl\"}], \"scatterternary\": [{\"marker\": {\"colorbar\": {\"outlinewidth\": 0, \"ticks\": \"\"}}, \"type\": \"scatterternary\"}], \"surface\": [{\"colorbar\": {\"outlinewidth\": 0, \"ticks\": \"\"}, \"colorscale\": [[0.0, \"#0d0887\"], [0.1111111111111111, \"#46039f\"], [0.2222222222222222, \"#7201a8\"], [0.3333333333333333, \"#9c179e\"], [0.4444444444444444, \"#bd3786\"], [0.5555555555555556, \"#d8576b\"], [0.6666666666666666, \"#ed7953\"], [0.7777777777777778, \"#fb9f3a\"], [0.8888888888888888, \"#fdca26\"], [1.0, \"#f0f921\"]], \"type\": \"surface\"}], \"table\": [{\"cells\": {\"fill\": {\"color\": \"#EBF0F8\"}, \"line\": {\"color\": \"white\"}}, \"header\": {\"fill\": {\"color\": \"#C8D4E3\"}, \"line\": {\"color\": \"white\"}}, \"type\": \"table\"}]}, \"layout\": {\"annotationdefaults\": {\"arrowcolor\": \"#2a3f5f\", \"arrowhead\": 0, \"arrowwidth\": 1}, \"coloraxis\": {\"colorbar\": {\"outlinewidth\": 0, \"ticks\": \"\"}}, \"colorscale\": {\"diverging\": [[0, \"#8e0152\"], [0.1, \"#c51b7d\"], [0.2, \"#de77ae\"], [0.3, \"#f1b6da\"], [0.4, \"#fde0ef\"], [0.5, \"#f7f7f7\"], [0.6, \"#e6f5d0\"], [0.7, \"#b8e186\"], [0.8, \"#7fbc41\"], [0.9, \"#4d9221\"], [1, \"#276419\"]], \"sequential\": [[0.0, \"#0d0887\"], [0.1111111111111111, \"#46039f\"], [0.2222222222222222, \"#7201a8\"], [0.3333333333333333, \"#9c179e\"], [0.4444444444444444, \"#bd3786\"], [0.5555555555555556, \"#d8576b\"], [0.6666666666666666, \"#ed7953\"], [0.7777777777777778, \"#fb9f3a\"], [0.8888888888888888, \"#fdca26\"], [1.0, \"#f0f921\"]], \"sequentialminus\": [[0.0, \"#0d0887\"], [0.1111111111111111, \"#46039f\"], [0.2222222222222222, \"#7201a8\"], [0.3333333333333333, \"#9c179e\"], [0.4444444444444444, \"#bd3786\"], [0.5555555555555556, \"#d8576b\"], [0.6666666666666666, \"#ed7953\"], [0.7777777777777778, \"#fb9f3a\"], [0.8888888888888888, \"#fdca26\"], [1.0, \"#f0f921\"]]}, \"colorway\": [\"#636efa\", \"#EF553B\", \"#00cc96\", \"#ab63fa\", \"#FFA15A\", \"#19d3f3\", \"#FF6692\", \"#B6E880\", \"#FF97FF\", \"#FECB52\"], \"font\": {\"color\": \"#2a3f5f\"}, \"geo\": {\"bgcolor\": \"white\", \"lakecolor\": \"white\", \"landcolor\": \"#E5ECF6\", \"showlakes\": true, \"showland\": true, \"subunitcolor\": \"white\"}, \"hoverlabel\": {\"align\": \"left\"}, \"hovermode\": \"closest\", \"mapbox\": {\"style\": \"light\"}, \"paper_bgcolor\": \"white\", \"plot_bgcolor\": \"#E5ECF6\", \"polar\": {\"angularaxis\": {\"gridcolor\": \"white\", \"linecolor\": \"white\", \"ticks\": \"\"}, \"bgcolor\": \"#E5ECF6\", \"radialaxis\": {\"gridcolor\": \"white\", \"linecolor\": \"white\", \"ticks\": \"\"}}, \"scene\": {\"xaxis\": {\"backgroundcolor\": \"#E5ECF6\", \"gridcolor\": \"white\", \"gridwidth\": 2, \"linecolor\": \"white\", \"showbackground\": true, \"ticks\": \"\", \"zerolinecolor\": \"white\"}, \"yaxis\": {\"backgroundcolor\": \"#E5ECF6\", \"gridcolor\": \"white\", \"gridwidth\": 2, \"linecolor\": \"white\", \"showbackground\": true, \"ticks\": \"\", \"zerolinecolor\": \"white\"}, \"zaxis\": {\"backgroundcolor\": \"#E5ECF6\", \"gridcolor\": \"white\", \"gridwidth\": 2, \"linecolor\": \"white\", \"showbackground\": true, \"ticks\": \"\", \"zerolinecolor\": \"white\"}}, \"shapedefaults\": {\"line\": {\"color\": \"#2a3f5f\"}}, \"ternary\": {\"aaxis\": {\"gridcolor\": \"white\", \"linecolor\": \"white\", \"ticks\": \"\"}, \"baxis\": {\"gridcolor\": \"white\", \"linecolor\": \"white\", \"ticks\": \"\"}, \"bgcolor\": \"#E5ECF6\", \"caxis\": {\"gridcolor\": \"white\", \"linecolor\": \"white\", \"ticks\": \"\"}}, \"title\": {\"x\": 0.05}, \"xaxis\": {\"automargin\": true, \"gridcolor\": \"white\", \"linecolor\": \"white\", \"ticks\": \"\", \"title\": {\"standoff\": 15}, \"zerolinecolor\": \"white\", \"zerolinewidth\": 2}, \"yaxis\": {\"automargin\": true, \"gridcolor\": \"white\", \"linecolor\": \"white\", \"ticks\": \"\", \"title\": {\"standoff\": 15}, \"zerolinecolor\": \"white\", \"zerolinewidth\": 2}}}, \"title\": {\"font\": {\"color\": \"#4D5663\"}}, \"xaxis\": {\"gridcolor\": \"#E1E5ED\", \"showgrid\": true, \"tickfont\": {\"color\": \"#4D5663\"}, \"title\": {\"font\": {\"color\": \"#4D5663\"}, \"text\": \"\"}, \"zerolinecolor\": \"#E1E5ED\"}, \"yaxis\": {\"gridcolor\": \"#E1E5ED\", \"showgrid\": true, \"tickfont\": {\"color\": \"#4D5663\"}, \"title\": {\"font\": {\"color\": \"#4D5663\"}, \"text\": \"\"}, \"zerolinecolor\": \"#E1E5ED\"}},\n",
       "                        {\"showLink\": true, \"linkText\": \"Export to plot.ly\", \"plotlyServerURL\": \"https://plot.ly\", \"responsive\": true}\n",
       "                    ).then(function(){\n",
       "                            \n",
       "var gd = document.getElementById('9bb31fc9-8c33-4a6f-a9a1-ccb6193d799e');\n",
       "var x = new MutationObserver(function (mutations, observer) {{\n",
       "        var display = window.getComputedStyle(gd).display;\n",
       "        if (!display || display === 'none') {{\n",
       "            console.log([gd, 'removed!']);\n",
       "            Plotly.purge(gd);\n",
       "            observer.disconnect();\n",
       "        }}\n",
       "}});\n",
       "\n",
       "// Listen for the removal of the full notebook cells\n",
       "var notebookContainer = gd.closest('#notebook-container');\n",
       "if (notebookContainer) {{\n",
       "    x.observe(notebookContainer, {childList: true});\n",
       "}}\n",
       "\n",
       "// Listen for the clearing of the current output cell\n",
       "var outputEl = gd.closest('.output');\n",
       "if (outputEl) {{\n",
       "    x.observe(outputEl, {childList: true});\n",
       "}}\n",
       "\n",
       "                        })\n",
       "                };\n",
       "                });\n",
       "            </script>\n",
       "        </div>"
      ]
     },
     "metadata": {},
     "output_type": "display_data"
    }
   ],
   "source": [
    "df.iplot(kind='scatter', x='A', y='B', mode='markers') # size parameter can also be added here"
   ]
  },
  {
   "cell_type": "code",
   "execution_count": 23,
   "metadata": {},
   "outputs": [
    {
     "data": {
      "application/vnd.plotly.v1+json": {
       "config": {
        "linkText": "Export to plot.ly",
        "plotlyServerURL": "https://plot.ly",
        "showLink": true
       },
       "data": [
        {
         "marker": {
          "color": "rgba(255, 153, 51, 0.6)",
          "line": {
           "color": "rgba(255, 153, 51, 1.0)",
           "width": 1
          }
         },
         "name": "Values",
         "orientation": "v",
         "text": "",
         "type": "bar",
         "x": [
          "A",
          "B",
          "C"
         ],
         "y": [
          32,
          43,
          50
         ]
        }
       ],
       "layout": {
        "legend": {
         "bgcolor": "#F5F6F9",
         "font": {
          "color": "#4D5663"
         }
        },
        "paper_bgcolor": "#F5F6F9",
        "plot_bgcolor": "#F5F6F9",
        "template": {
         "data": {
          "bar": [
           {
            "error_x": {
             "color": "#2a3f5f"
            },
            "error_y": {
             "color": "#2a3f5f"
            },
            "marker": {
             "line": {
              "color": "#E5ECF6",
              "width": 0.5
             }
            },
            "type": "bar"
           }
          ],
          "barpolar": [
           {
            "marker": {
             "line": {
              "color": "#E5ECF6",
              "width": 0.5
             }
            },
            "type": "barpolar"
           }
          ],
          "carpet": [
           {
            "aaxis": {
             "endlinecolor": "#2a3f5f",
             "gridcolor": "white",
             "linecolor": "white",
             "minorgridcolor": "white",
             "startlinecolor": "#2a3f5f"
            },
            "baxis": {
             "endlinecolor": "#2a3f5f",
             "gridcolor": "white",
             "linecolor": "white",
             "minorgridcolor": "white",
             "startlinecolor": "#2a3f5f"
            },
            "type": "carpet"
           }
          ],
          "choropleth": [
           {
            "colorbar": {
             "outlinewidth": 0,
             "ticks": ""
            },
            "type": "choropleth"
           }
          ],
          "contour": [
           {
            "colorbar": {
             "outlinewidth": 0,
             "ticks": ""
            },
            "colorscale": [
             [
              0,
              "#0d0887"
             ],
             [
              0.1111111111111111,
              "#46039f"
             ],
             [
              0.2222222222222222,
              "#7201a8"
             ],
             [
              0.3333333333333333,
              "#9c179e"
             ],
             [
              0.4444444444444444,
              "#bd3786"
             ],
             [
              0.5555555555555556,
              "#d8576b"
             ],
             [
              0.6666666666666666,
              "#ed7953"
             ],
             [
              0.7777777777777778,
              "#fb9f3a"
             ],
             [
              0.8888888888888888,
              "#fdca26"
             ],
             [
              1,
              "#f0f921"
             ]
            ],
            "type": "contour"
           }
          ],
          "contourcarpet": [
           {
            "colorbar": {
             "outlinewidth": 0,
             "ticks": ""
            },
            "type": "contourcarpet"
           }
          ],
          "heatmap": [
           {
            "colorbar": {
             "outlinewidth": 0,
             "ticks": ""
            },
            "colorscale": [
             [
              0,
              "#0d0887"
             ],
             [
              0.1111111111111111,
              "#46039f"
             ],
             [
              0.2222222222222222,
              "#7201a8"
             ],
             [
              0.3333333333333333,
              "#9c179e"
             ],
             [
              0.4444444444444444,
              "#bd3786"
             ],
             [
              0.5555555555555556,
              "#d8576b"
             ],
             [
              0.6666666666666666,
              "#ed7953"
             ],
             [
              0.7777777777777778,
              "#fb9f3a"
             ],
             [
              0.8888888888888888,
              "#fdca26"
             ],
             [
              1,
              "#f0f921"
             ]
            ],
            "type": "heatmap"
           }
          ],
          "heatmapgl": [
           {
            "colorbar": {
             "outlinewidth": 0,
             "ticks": ""
            },
            "colorscale": [
             [
              0,
              "#0d0887"
             ],
             [
              0.1111111111111111,
              "#46039f"
             ],
             [
              0.2222222222222222,
              "#7201a8"
             ],
             [
              0.3333333333333333,
              "#9c179e"
             ],
             [
              0.4444444444444444,
              "#bd3786"
             ],
             [
              0.5555555555555556,
              "#d8576b"
             ],
             [
              0.6666666666666666,
              "#ed7953"
             ],
             [
              0.7777777777777778,
              "#fb9f3a"
             ],
             [
              0.8888888888888888,
              "#fdca26"
             ],
             [
              1,
              "#f0f921"
             ]
            ],
            "type": "heatmapgl"
           }
          ],
          "histogram": [
           {
            "marker": {
             "colorbar": {
              "outlinewidth": 0,
              "ticks": ""
             }
            },
            "type": "histogram"
           }
          ],
          "histogram2d": [
           {
            "colorbar": {
             "outlinewidth": 0,
             "ticks": ""
            },
            "colorscale": [
             [
              0,
              "#0d0887"
             ],
             [
              0.1111111111111111,
              "#46039f"
             ],
             [
              0.2222222222222222,
              "#7201a8"
             ],
             [
              0.3333333333333333,
              "#9c179e"
             ],
             [
              0.4444444444444444,
              "#bd3786"
             ],
             [
              0.5555555555555556,
              "#d8576b"
             ],
             [
              0.6666666666666666,
              "#ed7953"
             ],
             [
              0.7777777777777778,
              "#fb9f3a"
             ],
             [
              0.8888888888888888,
              "#fdca26"
             ],
             [
              1,
              "#f0f921"
             ]
            ],
            "type": "histogram2d"
           }
          ],
          "histogram2dcontour": [
           {
            "colorbar": {
             "outlinewidth": 0,
             "ticks": ""
            },
            "colorscale": [
             [
              0,
              "#0d0887"
             ],
             [
              0.1111111111111111,
              "#46039f"
             ],
             [
              0.2222222222222222,
              "#7201a8"
             ],
             [
              0.3333333333333333,
              "#9c179e"
             ],
             [
              0.4444444444444444,
              "#bd3786"
             ],
             [
              0.5555555555555556,
              "#d8576b"
             ],
             [
              0.6666666666666666,
              "#ed7953"
             ],
             [
              0.7777777777777778,
              "#fb9f3a"
             ],
             [
              0.8888888888888888,
              "#fdca26"
             ],
             [
              1,
              "#f0f921"
             ]
            ],
            "type": "histogram2dcontour"
           }
          ],
          "mesh3d": [
           {
            "colorbar": {
             "outlinewidth": 0,
             "ticks": ""
            },
            "type": "mesh3d"
           }
          ],
          "parcoords": [
           {
            "line": {
             "colorbar": {
              "outlinewidth": 0,
              "ticks": ""
             }
            },
            "type": "parcoords"
           }
          ],
          "pie": [
           {
            "automargin": true,
            "type": "pie"
           }
          ],
          "scatter": [
           {
            "marker": {
             "colorbar": {
              "outlinewidth": 0,
              "ticks": ""
             }
            },
            "type": "scatter"
           }
          ],
          "scatter3d": [
           {
            "line": {
             "colorbar": {
              "outlinewidth": 0,
              "ticks": ""
             }
            },
            "marker": {
             "colorbar": {
              "outlinewidth": 0,
              "ticks": ""
             }
            },
            "type": "scatter3d"
           }
          ],
          "scattercarpet": [
           {
            "marker": {
             "colorbar": {
              "outlinewidth": 0,
              "ticks": ""
             }
            },
            "type": "scattercarpet"
           }
          ],
          "scattergeo": [
           {
            "marker": {
             "colorbar": {
              "outlinewidth": 0,
              "ticks": ""
             }
            },
            "type": "scattergeo"
           }
          ],
          "scattergl": [
           {
            "marker": {
             "colorbar": {
              "outlinewidth": 0,
              "ticks": ""
             }
            },
            "type": "scattergl"
           }
          ],
          "scattermapbox": [
           {
            "marker": {
             "colorbar": {
              "outlinewidth": 0,
              "ticks": ""
             }
            },
            "type": "scattermapbox"
           }
          ],
          "scatterpolar": [
           {
            "marker": {
             "colorbar": {
              "outlinewidth": 0,
              "ticks": ""
             }
            },
            "type": "scatterpolar"
           }
          ],
          "scatterpolargl": [
           {
            "marker": {
             "colorbar": {
              "outlinewidth": 0,
              "ticks": ""
             }
            },
            "type": "scatterpolargl"
           }
          ],
          "scatterternary": [
           {
            "marker": {
             "colorbar": {
              "outlinewidth": 0,
              "ticks": ""
             }
            },
            "type": "scatterternary"
           }
          ],
          "surface": [
           {
            "colorbar": {
             "outlinewidth": 0,
             "ticks": ""
            },
            "colorscale": [
             [
              0,
              "#0d0887"
             ],
             [
              0.1111111111111111,
              "#46039f"
             ],
             [
              0.2222222222222222,
              "#7201a8"
             ],
             [
              0.3333333333333333,
              "#9c179e"
             ],
             [
              0.4444444444444444,
              "#bd3786"
             ],
             [
              0.5555555555555556,
              "#d8576b"
             ],
             [
              0.6666666666666666,
              "#ed7953"
             ],
             [
              0.7777777777777778,
              "#fb9f3a"
             ],
             [
              0.8888888888888888,
              "#fdca26"
             ],
             [
              1,
              "#f0f921"
             ]
            ],
            "type": "surface"
           }
          ],
          "table": [
           {
            "cells": {
             "fill": {
              "color": "#EBF0F8"
             },
             "line": {
              "color": "white"
             }
            },
            "header": {
             "fill": {
              "color": "#C8D4E3"
             },
             "line": {
              "color": "white"
             }
            },
            "type": "table"
           }
          ]
         },
         "layout": {
          "annotationdefaults": {
           "arrowcolor": "#2a3f5f",
           "arrowhead": 0,
           "arrowwidth": 1
          },
          "coloraxis": {
           "colorbar": {
            "outlinewidth": 0,
            "ticks": ""
           }
          },
          "colorscale": {
           "diverging": [
            [
             0,
             "#8e0152"
            ],
            [
             0.1,
             "#c51b7d"
            ],
            [
             0.2,
             "#de77ae"
            ],
            [
             0.3,
             "#f1b6da"
            ],
            [
             0.4,
             "#fde0ef"
            ],
            [
             0.5,
             "#f7f7f7"
            ],
            [
             0.6,
             "#e6f5d0"
            ],
            [
             0.7,
             "#b8e186"
            ],
            [
             0.8,
             "#7fbc41"
            ],
            [
             0.9,
             "#4d9221"
            ],
            [
             1,
             "#276419"
            ]
           ],
           "sequential": [
            [
             0,
             "#0d0887"
            ],
            [
             0.1111111111111111,
             "#46039f"
            ],
            [
             0.2222222222222222,
             "#7201a8"
            ],
            [
             0.3333333333333333,
             "#9c179e"
            ],
            [
             0.4444444444444444,
             "#bd3786"
            ],
            [
             0.5555555555555556,
             "#d8576b"
            ],
            [
             0.6666666666666666,
             "#ed7953"
            ],
            [
             0.7777777777777778,
             "#fb9f3a"
            ],
            [
             0.8888888888888888,
             "#fdca26"
            ],
            [
             1,
             "#f0f921"
            ]
           ],
           "sequentialminus": [
            [
             0,
             "#0d0887"
            ],
            [
             0.1111111111111111,
             "#46039f"
            ],
            [
             0.2222222222222222,
             "#7201a8"
            ],
            [
             0.3333333333333333,
             "#9c179e"
            ],
            [
             0.4444444444444444,
             "#bd3786"
            ],
            [
             0.5555555555555556,
             "#d8576b"
            ],
            [
             0.6666666666666666,
             "#ed7953"
            ],
            [
             0.7777777777777778,
             "#fb9f3a"
            ],
            [
             0.8888888888888888,
             "#fdca26"
            ],
            [
             1,
             "#f0f921"
            ]
           ]
          },
          "colorway": [
           "#636efa",
           "#EF553B",
           "#00cc96",
           "#ab63fa",
           "#FFA15A",
           "#19d3f3",
           "#FF6692",
           "#B6E880",
           "#FF97FF",
           "#FECB52"
          ],
          "font": {
           "color": "#2a3f5f"
          },
          "geo": {
           "bgcolor": "white",
           "lakecolor": "white",
           "landcolor": "#E5ECF6",
           "showlakes": true,
           "showland": true,
           "subunitcolor": "white"
          },
          "hoverlabel": {
           "align": "left"
          },
          "hovermode": "closest",
          "mapbox": {
           "style": "light"
          },
          "paper_bgcolor": "white",
          "plot_bgcolor": "#E5ECF6",
          "polar": {
           "angularaxis": {
            "gridcolor": "white",
            "linecolor": "white",
            "ticks": ""
           },
           "bgcolor": "#E5ECF6",
           "radialaxis": {
            "gridcolor": "white",
            "linecolor": "white",
            "ticks": ""
           }
          },
          "scene": {
           "xaxis": {
            "backgroundcolor": "#E5ECF6",
            "gridcolor": "white",
            "gridwidth": 2,
            "linecolor": "white",
            "showbackground": true,
            "ticks": "",
            "zerolinecolor": "white"
           },
           "yaxis": {
            "backgroundcolor": "#E5ECF6",
            "gridcolor": "white",
            "gridwidth": 2,
            "linecolor": "white",
            "showbackground": true,
            "ticks": "",
            "zerolinecolor": "white"
           },
           "zaxis": {
            "backgroundcolor": "#E5ECF6",
            "gridcolor": "white",
            "gridwidth": 2,
            "linecolor": "white",
            "showbackground": true,
            "ticks": "",
            "zerolinecolor": "white"
           }
          },
          "shapedefaults": {
           "line": {
            "color": "#2a3f5f"
           }
          },
          "ternary": {
           "aaxis": {
            "gridcolor": "white",
            "linecolor": "white",
            "ticks": ""
           },
           "baxis": {
            "gridcolor": "white",
            "linecolor": "white",
            "ticks": ""
           },
           "bgcolor": "#E5ECF6",
           "caxis": {
            "gridcolor": "white",
            "linecolor": "white",
            "ticks": ""
           }
          },
          "title": {
           "x": 0.05
          },
          "xaxis": {
           "automargin": true,
           "gridcolor": "white",
           "linecolor": "white",
           "ticks": "",
           "title": {
            "standoff": 15
           },
           "zerolinecolor": "white",
           "zerolinewidth": 2
          },
          "yaxis": {
           "automargin": true,
           "gridcolor": "white",
           "linecolor": "white",
           "ticks": "",
           "title": {
            "standoff": 15
           },
           "zerolinecolor": "white",
           "zerolinewidth": 2
          }
         }
        },
        "title": {
         "font": {
          "color": "#4D5663"
         }
        },
        "xaxis": {
         "gridcolor": "#E1E5ED",
         "showgrid": true,
         "tickfont": {
          "color": "#4D5663"
         },
         "title": {
          "font": {
           "color": "#4D5663"
          },
          "text": ""
         },
         "zerolinecolor": "#E1E5ED"
        },
        "yaxis": {
         "gridcolor": "#E1E5ED",
         "showgrid": true,
         "tickfont": {
          "color": "#4D5663"
         },
         "title": {
          "font": {
           "color": "#4D5663"
          },
          "text": ""
         },
         "zerolinecolor": "#E1E5ED"
        }
       }
      },
      "text/html": [
       "<div>\n",
       "        \n",
       "        \n",
       "            <div id=\"a8cfe0ed-4f10-4065-8f34-b884dccffccd\" class=\"plotly-graph-div\" style=\"height:525px; width:100%;\"></div>\n",
       "            <script type=\"text/javascript\">\n",
       "                require([\"plotly\"], function(Plotly) {\n",
       "                    window.PLOTLYENV=window.PLOTLYENV || {};\n",
       "                    window.PLOTLYENV.BASE_URL='https://plot.ly';\n",
       "                    \n",
       "                if (document.getElementById(\"a8cfe0ed-4f10-4065-8f34-b884dccffccd\")) {\n",
       "                    Plotly.newPlot(\n",
       "                        'a8cfe0ed-4f10-4065-8f34-b884dccffccd',\n",
       "                        [{\"marker\": {\"color\": \"rgba(255, 153, 51, 0.6)\", \"line\": {\"color\": \"rgba(255, 153, 51, 1.0)\", \"width\": 1}}, \"name\": \"Values\", \"orientation\": \"v\", \"text\": \"\", \"type\": \"bar\", \"x\": [\"A\", \"B\", \"C\"], \"y\": [32, 43, 50]}],\n",
       "                        {\"legend\": {\"bgcolor\": \"#F5F6F9\", \"font\": {\"color\": \"#4D5663\"}}, \"paper_bgcolor\": \"#F5F6F9\", \"plot_bgcolor\": \"#F5F6F9\", \"template\": {\"data\": {\"bar\": [{\"error_x\": {\"color\": \"#2a3f5f\"}, \"error_y\": {\"color\": \"#2a3f5f\"}, \"marker\": {\"line\": {\"color\": \"#E5ECF6\", \"width\": 0.5}}, \"type\": \"bar\"}], \"barpolar\": [{\"marker\": {\"line\": {\"color\": \"#E5ECF6\", \"width\": 0.5}}, \"type\": \"barpolar\"}], \"carpet\": [{\"aaxis\": {\"endlinecolor\": \"#2a3f5f\", \"gridcolor\": \"white\", \"linecolor\": \"white\", \"minorgridcolor\": \"white\", \"startlinecolor\": \"#2a3f5f\"}, \"baxis\": {\"endlinecolor\": \"#2a3f5f\", \"gridcolor\": \"white\", \"linecolor\": \"white\", \"minorgridcolor\": \"white\", \"startlinecolor\": \"#2a3f5f\"}, \"type\": \"carpet\"}], \"choropleth\": [{\"colorbar\": {\"outlinewidth\": 0, \"ticks\": \"\"}, \"type\": \"choropleth\"}], \"contour\": [{\"colorbar\": {\"outlinewidth\": 0, \"ticks\": \"\"}, \"colorscale\": [[0.0, \"#0d0887\"], [0.1111111111111111, \"#46039f\"], [0.2222222222222222, \"#7201a8\"], [0.3333333333333333, \"#9c179e\"], [0.4444444444444444, \"#bd3786\"], [0.5555555555555556, \"#d8576b\"], [0.6666666666666666, \"#ed7953\"], [0.7777777777777778, \"#fb9f3a\"], [0.8888888888888888, \"#fdca26\"], [1.0, \"#f0f921\"]], \"type\": \"contour\"}], \"contourcarpet\": [{\"colorbar\": {\"outlinewidth\": 0, \"ticks\": \"\"}, \"type\": \"contourcarpet\"}], \"heatmap\": [{\"colorbar\": {\"outlinewidth\": 0, \"ticks\": \"\"}, \"colorscale\": [[0.0, \"#0d0887\"], [0.1111111111111111, \"#46039f\"], [0.2222222222222222, \"#7201a8\"], [0.3333333333333333, \"#9c179e\"], [0.4444444444444444, \"#bd3786\"], [0.5555555555555556, \"#d8576b\"], [0.6666666666666666, \"#ed7953\"], [0.7777777777777778, \"#fb9f3a\"], [0.8888888888888888, \"#fdca26\"], [1.0, \"#f0f921\"]], \"type\": \"heatmap\"}], \"heatmapgl\": [{\"colorbar\": {\"outlinewidth\": 0, \"ticks\": \"\"}, \"colorscale\": [[0.0, \"#0d0887\"], [0.1111111111111111, \"#46039f\"], [0.2222222222222222, \"#7201a8\"], [0.3333333333333333, \"#9c179e\"], [0.4444444444444444, \"#bd3786\"], [0.5555555555555556, \"#d8576b\"], [0.6666666666666666, \"#ed7953\"], [0.7777777777777778, \"#fb9f3a\"], [0.8888888888888888, \"#fdca26\"], [1.0, \"#f0f921\"]], \"type\": \"heatmapgl\"}], \"histogram\": [{\"marker\": {\"colorbar\": {\"outlinewidth\": 0, \"ticks\": \"\"}}, \"type\": \"histogram\"}], \"histogram2d\": [{\"colorbar\": {\"outlinewidth\": 0, \"ticks\": \"\"}, \"colorscale\": [[0.0, \"#0d0887\"], [0.1111111111111111, \"#46039f\"], [0.2222222222222222, \"#7201a8\"], [0.3333333333333333, \"#9c179e\"], [0.4444444444444444, \"#bd3786\"], [0.5555555555555556, \"#d8576b\"], [0.6666666666666666, \"#ed7953\"], [0.7777777777777778, \"#fb9f3a\"], [0.8888888888888888, \"#fdca26\"], [1.0, \"#f0f921\"]], \"type\": \"histogram2d\"}], \"histogram2dcontour\": [{\"colorbar\": {\"outlinewidth\": 0, \"ticks\": \"\"}, \"colorscale\": [[0.0, \"#0d0887\"], [0.1111111111111111, \"#46039f\"], [0.2222222222222222, \"#7201a8\"], [0.3333333333333333, \"#9c179e\"], [0.4444444444444444, \"#bd3786\"], [0.5555555555555556, \"#d8576b\"], [0.6666666666666666, \"#ed7953\"], [0.7777777777777778, \"#fb9f3a\"], [0.8888888888888888, \"#fdca26\"], [1.0, \"#f0f921\"]], \"type\": \"histogram2dcontour\"}], \"mesh3d\": [{\"colorbar\": {\"outlinewidth\": 0, \"ticks\": \"\"}, \"type\": \"mesh3d\"}], \"parcoords\": [{\"line\": {\"colorbar\": {\"outlinewidth\": 0, \"ticks\": \"\"}}, \"type\": \"parcoords\"}], \"pie\": [{\"automargin\": true, \"type\": \"pie\"}], \"scatter\": [{\"marker\": {\"colorbar\": {\"outlinewidth\": 0, \"ticks\": \"\"}}, \"type\": \"scatter\"}], \"scatter3d\": [{\"line\": {\"colorbar\": {\"outlinewidth\": 0, \"ticks\": \"\"}}, \"marker\": {\"colorbar\": {\"outlinewidth\": 0, \"ticks\": \"\"}}, \"type\": \"scatter3d\"}], \"scattercarpet\": [{\"marker\": {\"colorbar\": {\"outlinewidth\": 0, \"ticks\": \"\"}}, \"type\": \"scattercarpet\"}], \"scattergeo\": [{\"marker\": {\"colorbar\": {\"outlinewidth\": 0, \"ticks\": \"\"}}, \"type\": \"scattergeo\"}], \"scattergl\": [{\"marker\": {\"colorbar\": {\"outlinewidth\": 0, \"ticks\": \"\"}}, \"type\": \"scattergl\"}], \"scattermapbox\": [{\"marker\": {\"colorbar\": {\"outlinewidth\": 0, \"ticks\": \"\"}}, \"type\": \"scattermapbox\"}], \"scatterpolar\": [{\"marker\": {\"colorbar\": {\"outlinewidth\": 0, \"ticks\": \"\"}}, \"type\": \"scatterpolar\"}], \"scatterpolargl\": [{\"marker\": {\"colorbar\": {\"outlinewidth\": 0, \"ticks\": \"\"}}, \"type\": \"scatterpolargl\"}], \"scatterternary\": [{\"marker\": {\"colorbar\": {\"outlinewidth\": 0, \"ticks\": \"\"}}, \"type\": \"scatterternary\"}], \"surface\": [{\"colorbar\": {\"outlinewidth\": 0, \"ticks\": \"\"}, \"colorscale\": [[0.0, \"#0d0887\"], [0.1111111111111111, \"#46039f\"], [0.2222222222222222, \"#7201a8\"], [0.3333333333333333, \"#9c179e\"], [0.4444444444444444, \"#bd3786\"], [0.5555555555555556, \"#d8576b\"], [0.6666666666666666, \"#ed7953\"], [0.7777777777777778, \"#fb9f3a\"], [0.8888888888888888, \"#fdca26\"], [1.0, \"#f0f921\"]], \"type\": \"surface\"}], \"table\": [{\"cells\": {\"fill\": {\"color\": \"#EBF0F8\"}, \"line\": {\"color\": \"white\"}}, \"header\": {\"fill\": {\"color\": \"#C8D4E3\"}, \"line\": {\"color\": \"white\"}}, \"type\": \"table\"}]}, \"layout\": {\"annotationdefaults\": {\"arrowcolor\": \"#2a3f5f\", \"arrowhead\": 0, \"arrowwidth\": 1}, \"coloraxis\": {\"colorbar\": {\"outlinewidth\": 0, \"ticks\": \"\"}}, \"colorscale\": {\"diverging\": [[0, \"#8e0152\"], [0.1, \"#c51b7d\"], [0.2, \"#de77ae\"], [0.3, \"#f1b6da\"], [0.4, \"#fde0ef\"], [0.5, \"#f7f7f7\"], [0.6, \"#e6f5d0\"], [0.7, \"#b8e186\"], [0.8, \"#7fbc41\"], [0.9, \"#4d9221\"], [1, \"#276419\"]], \"sequential\": [[0.0, \"#0d0887\"], [0.1111111111111111, \"#46039f\"], [0.2222222222222222, \"#7201a8\"], [0.3333333333333333, \"#9c179e\"], [0.4444444444444444, \"#bd3786\"], [0.5555555555555556, \"#d8576b\"], [0.6666666666666666, \"#ed7953\"], [0.7777777777777778, \"#fb9f3a\"], [0.8888888888888888, \"#fdca26\"], [1.0, \"#f0f921\"]], \"sequentialminus\": [[0.0, \"#0d0887\"], [0.1111111111111111, \"#46039f\"], [0.2222222222222222, \"#7201a8\"], [0.3333333333333333, \"#9c179e\"], [0.4444444444444444, \"#bd3786\"], [0.5555555555555556, \"#d8576b\"], [0.6666666666666666, \"#ed7953\"], [0.7777777777777778, \"#fb9f3a\"], [0.8888888888888888, \"#fdca26\"], [1.0, \"#f0f921\"]]}, \"colorway\": [\"#636efa\", \"#EF553B\", \"#00cc96\", \"#ab63fa\", \"#FFA15A\", \"#19d3f3\", \"#FF6692\", \"#B6E880\", \"#FF97FF\", \"#FECB52\"], \"font\": {\"color\": \"#2a3f5f\"}, \"geo\": {\"bgcolor\": \"white\", \"lakecolor\": \"white\", \"landcolor\": \"#E5ECF6\", \"showlakes\": true, \"showland\": true, \"subunitcolor\": \"white\"}, \"hoverlabel\": {\"align\": \"left\"}, \"hovermode\": \"closest\", \"mapbox\": {\"style\": \"light\"}, \"paper_bgcolor\": \"white\", \"plot_bgcolor\": \"#E5ECF6\", \"polar\": {\"angularaxis\": {\"gridcolor\": \"white\", \"linecolor\": \"white\", \"ticks\": \"\"}, \"bgcolor\": \"#E5ECF6\", \"radialaxis\": {\"gridcolor\": \"white\", \"linecolor\": \"white\", \"ticks\": \"\"}}, \"scene\": {\"xaxis\": {\"backgroundcolor\": \"#E5ECF6\", \"gridcolor\": \"white\", \"gridwidth\": 2, \"linecolor\": \"white\", \"showbackground\": true, \"ticks\": \"\", \"zerolinecolor\": \"white\"}, \"yaxis\": {\"backgroundcolor\": \"#E5ECF6\", \"gridcolor\": \"white\", \"gridwidth\": 2, \"linecolor\": \"white\", \"showbackground\": true, \"ticks\": \"\", \"zerolinecolor\": \"white\"}, \"zaxis\": {\"backgroundcolor\": \"#E5ECF6\", \"gridcolor\": \"white\", \"gridwidth\": 2, \"linecolor\": \"white\", \"showbackground\": true, \"ticks\": \"\", \"zerolinecolor\": \"white\"}}, \"shapedefaults\": {\"line\": {\"color\": \"#2a3f5f\"}}, \"ternary\": {\"aaxis\": {\"gridcolor\": \"white\", \"linecolor\": \"white\", \"ticks\": \"\"}, \"baxis\": {\"gridcolor\": \"white\", \"linecolor\": \"white\", \"ticks\": \"\"}, \"bgcolor\": \"#E5ECF6\", \"caxis\": {\"gridcolor\": \"white\", \"linecolor\": \"white\", \"ticks\": \"\"}}, \"title\": {\"x\": 0.05}, \"xaxis\": {\"automargin\": true, \"gridcolor\": \"white\", \"linecolor\": \"white\", \"ticks\": \"\", \"title\": {\"standoff\": 15}, \"zerolinecolor\": \"white\", \"zerolinewidth\": 2}, \"yaxis\": {\"automargin\": true, \"gridcolor\": \"white\", \"linecolor\": \"white\", \"ticks\": \"\", \"title\": {\"standoff\": 15}, \"zerolinecolor\": \"white\", \"zerolinewidth\": 2}}}, \"title\": {\"font\": {\"color\": \"#4D5663\"}}, \"xaxis\": {\"gridcolor\": \"#E1E5ED\", \"showgrid\": true, \"tickfont\": {\"color\": \"#4D5663\"}, \"title\": {\"font\": {\"color\": \"#4D5663\"}, \"text\": \"\"}, \"zerolinecolor\": \"#E1E5ED\"}, \"yaxis\": {\"gridcolor\": \"#E1E5ED\", \"showgrid\": true, \"tickfont\": {\"color\": \"#4D5663\"}, \"title\": {\"font\": {\"color\": \"#4D5663\"}, \"text\": \"\"}, \"zerolinecolor\": \"#E1E5ED\"}},\n",
       "                        {\"showLink\": true, \"linkText\": \"Export to plot.ly\", \"plotlyServerURL\": \"https://plot.ly\", \"responsive\": true}\n",
       "                    ).then(function(){\n",
       "                            \n",
       "var gd = document.getElementById('a8cfe0ed-4f10-4065-8f34-b884dccffccd');\n",
       "var x = new MutationObserver(function (mutations, observer) {{\n",
       "        var display = window.getComputedStyle(gd).display;\n",
       "        if (!display || display === 'none') {{\n",
       "            console.log([gd, 'removed!']);\n",
       "            Plotly.purge(gd);\n",
       "            observer.disconnect();\n",
       "        }}\n",
       "}});\n",
       "\n",
       "// Listen for the removal of the full notebook cells\n",
       "var notebookContainer = gd.closest('#notebook-container');\n",
       "if (notebookContainer) {{\n",
       "    x.observe(notebookContainer, {childList: true});\n",
       "}}\n",
       "\n",
       "// Listen for the clearing of the current output cell\n",
       "var outputEl = gd.closest('.output');\n",
       "if (outputEl) {{\n",
       "    x.observe(outputEl, {childList: true});\n",
       "}}\n",
       "\n",
       "                        })\n",
       "                };\n",
       "                });\n",
       "            </script>\n",
       "        </div>"
      ]
     },
     "metadata": {},
     "output_type": "display_data"
    }
   ],
   "source": [
    "df2.iplot(kind='bar',x='Category',y='Values')"
   ]
  },
  {
   "cell_type": "markdown",
   "metadata": {},
   "source": [
    "##### Caliing aggregate function along with iplot "
   ]
  },
  {
   "cell_type": "code",
   "execution_count": 24,
   "metadata": {},
   "outputs": [
    {
     "data": {
      "application/vnd.plotly.v1+json": {
       "config": {
        "linkText": "Export to plot.ly",
        "plotlyServerURL": "https://plot.ly",
        "showLink": true
       },
       "data": [
        {
         "marker": {
          "color": "rgba(255, 153, 51, 0.6)",
          "line": {
           "color": "rgba(255, 153, 51, 1.0)",
           "width": 1
          }
         },
         "name": "A",
         "orientation": "v",
         "text": "",
         "type": "bar",
         "x": [
          0,
          1,
          2,
          3,
          4,
          5,
          6,
          7,
          8,
          9,
          10,
          11,
          12,
          13,
          14,
          15,
          16,
          17,
          18,
          19,
          20,
          21,
          22,
          23,
          24,
          25,
          26,
          27,
          28,
          29,
          30,
          31,
          32,
          33,
          34,
          35,
          36,
          37,
          38,
          39,
          40,
          41,
          42,
          43,
          44,
          45,
          46,
          47,
          48,
          49,
          50,
          51,
          52,
          53,
          54,
          55,
          56,
          57,
          58,
          59,
          60,
          61,
          62,
          63,
          64,
          65,
          66,
          67,
          68,
          69,
          70,
          71,
          72,
          73,
          74,
          75,
          76,
          77,
          78,
          79,
          80,
          81,
          82,
          83,
          84,
          85,
          86,
          87,
          88,
          89,
          90,
          91,
          92,
          93,
          94,
          95,
          96,
          97,
          98,
          99
         ],
         "y": [
          -0.13332898728486217,
          0.6049162173562118,
          -0.16177503105113158,
          0.2904262389514051,
          1.1562838099089574,
          -1.1848532417977728,
          0.8982273761327372,
          0.028278257948029965,
          -0.9868512173336761,
          0.6840821635822759,
          -0.7608168905347923,
          -0.4849772912292263,
          1.4103246726026462,
          -0.8217680536926046,
          -0.10584387485756273,
          0.0915326999720717,
          1.5868812487818433,
          1.4610332716855279,
          -0.296010479607427,
          -1.636326733107384,
          -0.494075647778116,
          1.254407911954291,
          -1.3259794161261163,
          0.46662695049174047,
          0.9930619033922193,
          -0.5176556953346497,
          0.4923565746528598,
          -0.30148014268246154,
          -0.4809887648149414,
          0.4820761832548575,
          0.9795666811263533,
          0.2290842534017007,
          0.36752354492950984,
          0.6168940590624284,
          0.4114722975292953,
          -0.20855183114206602,
          1.132181985806202,
          0.9935469114025697,
          0.016836190438973112,
          0.961885915997291,
          -1.783903976137237,
          -0.9587206963745689,
          -1.5379896533002744,
          -0.7128492071354146,
          -0.42738557738685895,
          0.4026918235878419,
          1.1185123034948807,
          1.1653431112356398,
          0.5260806281991431,
          0.2603131849043691,
          1.1467886882959684,
          -0.40965228755670074,
          0.7133917959352619,
          1.1250831270878798,
          0.817216553655222,
          1.4917512529186387,
          -0.5125131549706918,
          0.14776577406804275,
          0.21713674429031635,
          0.5477373667964758,
          -0.08254668451697868,
          -0.750904913226693,
          -0.48210838498018804,
          0.9105294888876799,
          0.8690776970323018,
          -0.95756608003841,
          -0.6806140558632705,
          -0.5565517022643965,
          -0.14106813094953835,
          0.17396554387381946,
          -2.041059568986403,
          -0.06075202622890458,
          -1.2553721922271923,
          0.740004930068497,
          0.6323495961138877,
          0.3758072565623964,
          0.3121515525987599,
          1.2167344648060452,
          -0.8148129555263465,
          -1.0423994099522742,
          -1.053758446029795,
          1.0591205959040673,
          0.624547701537553,
          0.4113627954704313,
          1.1811178417779826,
          1.0245574869849703,
          -0.09182695658014851,
          0.12237334974580312,
          -0.8312689468801848,
          0.31971330737792997,
          0.3882652757412495,
          -0.24487556089373985,
          1.211015675419331,
          0.2265724142315915,
          -0.6340086051558401,
          0.789035760998447,
          -0.428508620713086,
          -1.2083999122326243,
          -2.442220579365496,
          0.6181020168836062
         ]
        },
        {
         "marker": {
          "color": "rgba(55, 128, 191, 0.6)",
          "line": {
           "color": "rgba(55, 128, 191, 1.0)",
           "width": 1
          }
         },
         "name": "B",
         "orientation": "v",
         "text": "",
         "type": "bar",
         "x": [
          0,
          1,
          2,
          3,
          4,
          5,
          6,
          7,
          8,
          9,
          10,
          11,
          12,
          13,
          14,
          15,
          16,
          17,
          18,
          19,
          20,
          21,
          22,
          23,
          24,
          25,
          26,
          27,
          28,
          29,
          30,
          31,
          32,
          33,
          34,
          35,
          36,
          37,
          38,
          39,
          40,
          41,
          42,
          43,
          44,
          45,
          46,
          47,
          48,
          49,
          50,
          51,
          52,
          53,
          54,
          55,
          56,
          57,
          58,
          59,
          60,
          61,
          62,
          63,
          64,
          65,
          66,
          67,
          68,
          69,
          70,
          71,
          72,
          73,
          74,
          75,
          76,
          77,
          78,
          79,
          80,
          81,
          82,
          83,
          84,
          85,
          86,
          87,
          88,
          89,
          90,
          91,
          92,
          93,
          94,
          95,
          96,
          97,
          98,
          99
         ],
         "y": [
          0.877873119201991,
          -0.8871864835711982,
          -0.8779365085710115,
          0.16707982521148182,
          0.9770570964405164,
          -1.0210807539641042,
          -0.21179137664286418,
          -0.025274265344616083,
          -1.1092078640172551,
          -1.1521829664006475,
          -1.0678537312032441,
          0.881399073284442,
          -1.5472658310039031,
          0.42894438694587583,
          -0.5847667949359995,
          0.5861364661033456,
          -0.04141568970211862,
          1.6330695985806374,
          0.9136833206359156,
          2.0233395926138007,
          1.101142592370221,
          -0.5682038376230117,
          0.042882304288209314,
          -0.4047854558570145,
          -0.20925108081337035,
          0.7529358997543051,
          0.7407450265436628,
          -1.3607933912602541,
          0.3411301947962091,
          1.3151839384818036,
          0.3575314753592644,
          -1.3118340501498933,
          1.4279165133867213,
          -0.2559157130428562,
          0.4464527395079081,
          0.6658948694956442,
          0.7259355144620822,
          0.8235263881423511,
          -0.08484654956607927,
          1.8343974103662948,
          -0.4713263219195928,
          -0.8960723024860888,
          -0.30064987887889344,
          -0.4316502480055467,
          0.2857158451321729,
          -0.5736274210697178,
          2.5697362447985554,
          0.6277843390429633,
          -0.49445184097626804,
          0.8499163415546525,
          1.5785939994794886,
          -0.9821279273371802,
          -0.4739870836956822,
          -1.3416687809494725,
          0.984719136622916,
          -0.2741650591388619,
          1.4972102529508924,
          0.17436161357051014,
          -0.7460530393643999,
          0.4081345878441793,
          0.7508643479924706,
          0.007458631298474343,
          -2.356211944871521,
          1.2434124482978255,
          -0.9764707565302257,
          -0.9003187532037691,
          -0.6552946312368383,
          1.01863556348232,
          2.5093706224495755,
          -0.04773433274440632,
          1.0449119076216544,
          0.408730882028547,
          -0.11919913738978115,
          0.38587853161043395,
          -1.1517321753523175,
          1.6165054269845633,
          2.320370989305167,
          -0.97030489009854,
          0.03428818309439457,
          -0.567194415289803,
          -1.6004626492305494,
          0.7941768603034315,
          0.7850386433665631,
          1.5710577492336988,
          0.5925013415374528,
          1.3388239018740202,
          -1.493035583334954,
          0.8131093233548212,
          -0.06253088379133223,
          1.0761370002087423,
          1.6009510396615159,
          1.0372091416050686,
          0.24796801351280354,
          1.1619363392738358,
          -0.3941704306660358,
          -0.7976663790741948,
          1.7838229422786538,
          -1.6143395792946713,
          0.2445066278672296,
          -0.19001794744455636
         ]
        },
        {
         "marker": {
          "color": "rgba(50, 171, 96, 0.6)",
          "line": {
           "color": "rgba(50, 171, 96, 1.0)",
           "width": 1
          }
         },
         "name": "C",
         "orientation": "v",
         "text": "",
         "type": "bar",
         "x": [
          0,
          1,
          2,
          3,
          4,
          5,
          6,
          7,
          8,
          9,
          10,
          11,
          12,
          13,
          14,
          15,
          16,
          17,
          18,
          19,
          20,
          21,
          22,
          23,
          24,
          25,
          26,
          27,
          28,
          29,
          30,
          31,
          32,
          33,
          34,
          35,
          36,
          37,
          38,
          39,
          40,
          41,
          42,
          43,
          44,
          45,
          46,
          47,
          48,
          49,
          50,
          51,
          52,
          53,
          54,
          55,
          56,
          57,
          58,
          59,
          60,
          61,
          62,
          63,
          64,
          65,
          66,
          67,
          68,
          69,
          70,
          71,
          72,
          73,
          74,
          75,
          76,
          77,
          78,
          79,
          80,
          81,
          82,
          83,
          84,
          85,
          86,
          87,
          88,
          89,
          90,
          91,
          92,
          93,
          94,
          95,
          96,
          97,
          98,
          99
         ],
         "y": [
          -0.1949333377808265,
          1.2874718857137506,
          1.034828960634043,
          -1.250205626820457,
          -2.3140814312960223,
          0.4672105757577219,
          0.9336583380187081,
          -0.899465178637077,
          -0.23100800292281237,
          -0.4233280963663838,
          -0.8789825347499383,
          -0.23272103414254033,
          -0.687275448055291,
          -1.351898514290019,
          -0.29152858366285617,
          -0.5384074094042292,
          1.0899255578983433,
          0.3632462942202497,
          -0.31347150317497907,
          -0.6239556756762389,
          -0.5039547444225779,
          0.7470989284312591,
          0.5669270767827191,
          0.4053962663362149,
          0.7470319881233176,
          -0.7121268908435755,
          1.3781094180709663,
          0.4374773497359336,
          0.4200860244282493,
          0.7053171544932973,
          -0.6008008456387155,
          1.114826092770562,
          0.5183437897032463,
          -1.6875410078176634,
          -0.14119371767260377,
          -1.2318315718081576,
          1.094246490855967,
          -0.9357325966232735,
          -1.687124220557086,
          0.02834226044932334,
          -0.43635878228827285,
          0.19203209266547921,
          1.5017344421595056,
          -0.758789965263754,
          -0.48496529798553106,
          0.9112791466103329,
          -0.9065257161127248,
          0.15779465541686052,
          0.32598660502669086,
          -0.7494680676971873,
          0.8369842300027271,
          -0.1852978110964879,
          -0.8537190052680307,
          -1.328453836121312,
          0.8883999662666356,
          0.6745108463283488,
          -0.039512731797237334,
          -0.15152265482386013,
          -0.4053422246549689,
          1.091898283200699,
          0.3523894167516524,
          -0.8234261540482228,
          -0.3877115538256855,
          2.334372769081094,
          -1.2790254406427777,
          -0.05124559254107892,
          1.6034395642054087,
          -0.9702203612312997,
          -2.986537403890035,
          0.8768333360508807,
          -1.0955398315132059,
          -1.3184810057926308,
          0.4811947683684202,
          -0.9413875287749689,
          -0.09428344821563733,
          0.24313378679796052,
          -0.8705367986795014,
          0.33500633048508377,
          -0.23050141623667522,
          -0.4987736876364225,
          1.7595674249869988,
          -1.371365312362017,
          1.5153198832203851,
          -2.136172527562396,
          0.13909291969410825,
          -0.6749023176385337,
          0.280617133701145,
          -1.8513701473257176,
          -0.6285511875260519,
          1.0104658535811069,
          -0.005853284057386029,
          0.1096869174311675,
          -0.9210250890711749,
          1.7413864500446388,
          0.660042296473798,
          -1.3547562182632082,
          -0.9333532783173327,
          -0.1645621664866537,
          0.08988391435312298,
          -0.3005702765173331
         ]
        },
        {
         "marker": {
          "color": "rgba(128, 0, 128, 0.6)",
          "line": {
           "color": "rgba(128, 0, 128, 1.0)",
           "width": 1
          }
         },
         "name": "D",
         "orientation": "v",
         "text": "",
         "type": "bar",
         "x": [
          0,
          1,
          2,
          3,
          4,
          5,
          6,
          7,
          8,
          9,
          10,
          11,
          12,
          13,
          14,
          15,
          16,
          17,
          18,
          19,
          20,
          21,
          22,
          23,
          24,
          25,
          26,
          27,
          28,
          29,
          30,
          31,
          32,
          33,
          34,
          35,
          36,
          37,
          38,
          39,
          40,
          41,
          42,
          43,
          44,
          45,
          46,
          47,
          48,
          49,
          50,
          51,
          52,
          53,
          54,
          55,
          56,
          57,
          58,
          59,
          60,
          61,
          62,
          63,
          64,
          65,
          66,
          67,
          68,
          69,
          70,
          71,
          72,
          73,
          74,
          75,
          76,
          77,
          78,
          79,
          80,
          81,
          82,
          83,
          84,
          85,
          86,
          87,
          88,
          89,
          90,
          91,
          92,
          93,
          94,
          95,
          96,
          97,
          98,
          99
         ],
         "y": [
          -0.08270575823628525,
          0.5721288881350668,
          1.0693127747928544,
          1.5534994107776754,
          0.19406633148953562,
          -0.26233500689833983,
          1.5655280754438046,
          -0.18114075584586906,
          -0.009619968905033204,
          -0.9027686346935858,
          -0.214812512368609,
          -0.7364379842187003,
          -0.19198476000138007,
          0.18702643707197159,
          0.0433781027486577,
          -0.29137810972437495,
          -1.1978306132083452,
          0.41923085497089585,
          -0.31918684064943975,
          1.128602606672595,
          -1.7825520771222159,
          0.6030731735378128,
          -0.3564898191817619,
          -1.7844575714167668,
          -1.5335276217022513,
          -0.23179194788496277,
          1.0021641098970262,
          -0.6909673306044203,
          -1.6223983671173798,
          0.9163321161767722,
          -0.16823263095738714,
          -0.08943816895035614,
          0.29775873555054044,
          0.12574099999810487,
          -0.09456630256447097,
          -0.6611620609872069,
          0.21652645180452904,
          0.7244403439630475,
          0.6954520634005963,
          -1.5499491574713065,
          0.11562111541713081,
          -1.1221872789710325,
          1.6563204328441237,
          0.2952248151470929,
          -1.5686691986603534,
          -0.013048810598643025,
          -0.0742857139038019,
          0.7150980179301154,
          -0.7395795234598608,
          0.5989185284645229,
          -0.3093583703760894,
          -0.5115294388754472,
          -0.2561361894198458,
          -1.4477826014600563,
          0.5220337678598486,
          -2.0151186397299794,
          0.5886751789306843,
          -0.2327764475170766,
          0.5212684750945968,
          -0.3863966203198103,
          1.104088962904185,
          1.7129532254736584,
          0.44128179880332474,
          0.14979679828882936,
          -0.2519819766582173,
          0.6073456327874504,
          0.5990539129529934,
          0.41172165954198053,
          -0.93461312400278,
          1.6191205319381616,
          -0.7132980745026403,
          -0.6055073499449021,
          0.43331854221063015,
          1.312027745736751,
          0.22528511601214957,
          1.6434145615909932,
          0.3924455136917064,
          -0.44644815502010077,
          0.3990194329299282,
          0.3291683995399519,
          -0.9125345281980742,
          0.3008990483570197,
          0.10284225567393888,
          0.45990273680458116,
          0.5490036543010519,
          -0.5263979924439908,
          -0.9350994613038845,
          1.418678192436831,
          -0.3039213118658567,
          -1.3956681081474906,
          0.3520550174745357,
          -0.9795833300527587,
          0.7951530232992107,
          -1.1695000184850353,
          -1.9272619586717148,
          -0.7952510560311679,
          -1.146988594289629,
          -0.18338757979591955,
          -0.3083681940970879,
          -0.23394117014428933
         ]
        }
       ],
       "layout": {
        "legend": {
         "bgcolor": "#F5F6F9",
         "font": {
          "color": "#4D5663"
         }
        },
        "paper_bgcolor": "#F5F6F9",
        "plot_bgcolor": "#F5F6F9",
        "template": {
         "data": {
          "bar": [
           {
            "error_x": {
             "color": "#2a3f5f"
            },
            "error_y": {
             "color": "#2a3f5f"
            },
            "marker": {
             "line": {
              "color": "#E5ECF6",
              "width": 0.5
             }
            },
            "type": "bar"
           }
          ],
          "barpolar": [
           {
            "marker": {
             "line": {
              "color": "#E5ECF6",
              "width": 0.5
             }
            },
            "type": "barpolar"
           }
          ],
          "carpet": [
           {
            "aaxis": {
             "endlinecolor": "#2a3f5f",
             "gridcolor": "white",
             "linecolor": "white",
             "minorgridcolor": "white",
             "startlinecolor": "#2a3f5f"
            },
            "baxis": {
             "endlinecolor": "#2a3f5f",
             "gridcolor": "white",
             "linecolor": "white",
             "minorgridcolor": "white",
             "startlinecolor": "#2a3f5f"
            },
            "type": "carpet"
           }
          ],
          "choropleth": [
           {
            "colorbar": {
             "outlinewidth": 0,
             "ticks": ""
            },
            "type": "choropleth"
           }
          ],
          "contour": [
           {
            "colorbar": {
             "outlinewidth": 0,
             "ticks": ""
            },
            "colorscale": [
             [
              0,
              "#0d0887"
             ],
             [
              0.1111111111111111,
              "#46039f"
             ],
             [
              0.2222222222222222,
              "#7201a8"
             ],
             [
              0.3333333333333333,
              "#9c179e"
             ],
             [
              0.4444444444444444,
              "#bd3786"
             ],
             [
              0.5555555555555556,
              "#d8576b"
             ],
             [
              0.6666666666666666,
              "#ed7953"
             ],
             [
              0.7777777777777778,
              "#fb9f3a"
             ],
             [
              0.8888888888888888,
              "#fdca26"
             ],
             [
              1,
              "#f0f921"
             ]
            ],
            "type": "contour"
           }
          ],
          "contourcarpet": [
           {
            "colorbar": {
             "outlinewidth": 0,
             "ticks": ""
            },
            "type": "contourcarpet"
           }
          ],
          "heatmap": [
           {
            "colorbar": {
             "outlinewidth": 0,
             "ticks": ""
            },
            "colorscale": [
             [
              0,
              "#0d0887"
             ],
             [
              0.1111111111111111,
              "#46039f"
             ],
             [
              0.2222222222222222,
              "#7201a8"
             ],
             [
              0.3333333333333333,
              "#9c179e"
             ],
             [
              0.4444444444444444,
              "#bd3786"
             ],
             [
              0.5555555555555556,
              "#d8576b"
             ],
             [
              0.6666666666666666,
              "#ed7953"
             ],
             [
              0.7777777777777778,
              "#fb9f3a"
             ],
             [
              0.8888888888888888,
              "#fdca26"
             ],
             [
              1,
              "#f0f921"
             ]
            ],
            "type": "heatmap"
           }
          ],
          "heatmapgl": [
           {
            "colorbar": {
             "outlinewidth": 0,
             "ticks": ""
            },
            "colorscale": [
             [
              0,
              "#0d0887"
             ],
             [
              0.1111111111111111,
              "#46039f"
             ],
             [
              0.2222222222222222,
              "#7201a8"
             ],
             [
              0.3333333333333333,
              "#9c179e"
             ],
             [
              0.4444444444444444,
              "#bd3786"
             ],
             [
              0.5555555555555556,
              "#d8576b"
             ],
             [
              0.6666666666666666,
              "#ed7953"
             ],
             [
              0.7777777777777778,
              "#fb9f3a"
             ],
             [
              0.8888888888888888,
              "#fdca26"
             ],
             [
              1,
              "#f0f921"
             ]
            ],
            "type": "heatmapgl"
           }
          ],
          "histogram": [
           {
            "marker": {
             "colorbar": {
              "outlinewidth": 0,
              "ticks": ""
             }
            },
            "type": "histogram"
           }
          ],
          "histogram2d": [
           {
            "colorbar": {
             "outlinewidth": 0,
             "ticks": ""
            },
            "colorscale": [
             [
              0,
              "#0d0887"
             ],
             [
              0.1111111111111111,
              "#46039f"
             ],
             [
              0.2222222222222222,
              "#7201a8"
             ],
             [
              0.3333333333333333,
              "#9c179e"
             ],
             [
              0.4444444444444444,
              "#bd3786"
             ],
             [
              0.5555555555555556,
              "#d8576b"
             ],
             [
              0.6666666666666666,
              "#ed7953"
             ],
             [
              0.7777777777777778,
              "#fb9f3a"
             ],
             [
              0.8888888888888888,
              "#fdca26"
             ],
             [
              1,
              "#f0f921"
             ]
            ],
            "type": "histogram2d"
           }
          ],
          "histogram2dcontour": [
           {
            "colorbar": {
             "outlinewidth": 0,
             "ticks": ""
            },
            "colorscale": [
             [
              0,
              "#0d0887"
             ],
             [
              0.1111111111111111,
              "#46039f"
             ],
             [
              0.2222222222222222,
              "#7201a8"
             ],
             [
              0.3333333333333333,
              "#9c179e"
             ],
             [
              0.4444444444444444,
              "#bd3786"
             ],
             [
              0.5555555555555556,
              "#d8576b"
             ],
             [
              0.6666666666666666,
              "#ed7953"
             ],
             [
              0.7777777777777778,
              "#fb9f3a"
             ],
             [
              0.8888888888888888,
              "#fdca26"
             ],
             [
              1,
              "#f0f921"
             ]
            ],
            "type": "histogram2dcontour"
           }
          ],
          "mesh3d": [
           {
            "colorbar": {
             "outlinewidth": 0,
             "ticks": ""
            },
            "type": "mesh3d"
           }
          ],
          "parcoords": [
           {
            "line": {
             "colorbar": {
              "outlinewidth": 0,
              "ticks": ""
             }
            },
            "type": "parcoords"
           }
          ],
          "pie": [
           {
            "automargin": true,
            "type": "pie"
           }
          ],
          "scatter": [
           {
            "marker": {
             "colorbar": {
              "outlinewidth": 0,
              "ticks": ""
             }
            },
            "type": "scatter"
           }
          ],
          "scatter3d": [
           {
            "line": {
             "colorbar": {
              "outlinewidth": 0,
              "ticks": ""
             }
            },
            "marker": {
             "colorbar": {
              "outlinewidth": 0,
              "ticks": ""
             }
            },
            "type": "scatter3d"
           }
          ],
          "scattercarpet": [
           {
            "marker": {
             "colorbar": {
              "outlinewidth": 0,
              "ticks": ""
             }
            },
            "type": "scattercarpet"
           }
          ],
          "scattergeo": [
           {
            "marker": {
             "colorbar": {
              "outlinewidth": 0,
              "ticks": ""
             }
            },
            "type": "scattergeo"
           }
          ],
          "scattergl": [
           {
            "marker": {
             "colorbar": {
              "outlinewidth": 0,
              "ticks": ""
             }
            },
            "type": "scattergl"
           }
          ],
          "scattermapbox": [
           {
            "marker": {
             "colorbar": {
              "outlinewidth": 0,
              "ticks": ""
             }
            },
            "type": "scattermapbox"
           }
          ],
          "scatterpolar": [
           {
            "marker": {
             "colorbar": {
              "outlinewidth": 0,
              "ticks": ""
             }
            },
            "type": "scatterpolar"
           }
          ],
          "scatterpolargl": [
           {
            "marker": {
             "colorbar": {
              "outlinewidth": 0,
              "ticks": ""
             }
            },
            "type": "scatterpolargl"
           }
          ],
          "scatterternary": [
           {
            "marker": {
             "colorbar": {
              "outlinewidth": 0,
              "ticks": ""
             }
            },
            "type": "scatterternary"
           }
          ],
          "surface": [
           {
            "colorbar": {
             "outlinewidth": 0,
             "ticks": ""
            },
            "colorscale": [
             [
              0,
              "#0d0887"
             ],
             [
              0.1111111111111111,
              "#46039f"
             ],
             [
              0.2222222222222222,
              "#7201a8"
             ],
             [
              0.3333333333333333,
              "#9c179e"
             ],
             [
              0.4444444444444444,
              "#bd3786"
             ],
             [
              0.5555555555555556,
              "#d8576b"
             ],
             [
              0.6666666666666666,
              "#ed7953"
             ],
             [
              0.7777777777777778,
              "#fb9f3a"
             ],
             [
              0.8888888888888888,
              "#fdca26"
             ],
             [
              1,
              "#f0f921"
             ]
            ],
            "type": "surface"
           }
          ],
          "table": [
           {
            "cells": {
             "fill": {
              "color": "#EBF0F8"
             },
             "line": {
              "color": "white"
             }
            },
            "header": {
             "fill": {
              "color": "#C8D4E3"
             },
             "line": {
              "color": "white"
             }
            },
            "type": "table"
           }
          ]
         },
         "layout": {
          "annotationdefaults": {
           "arrowcolor": "#2a3f5f",
           "arrowhead": 0,
           "arrowwidth": 1
          },
          "coloraxis": {
           "colorbar": {
            "outlinewidth": 0,
            "ticks": ""
           }
          },
          "colorscale": {
           "diverging": [
            [
             0,
             "#8e0152"
            ],
            [
             0.1,
             "#c51b7d"
            ],
            [
             0.2,
             "#de77ae"
            ],
            [
             0.3,
             "#f1b6da"
            ],
            [
             0.4,
             "#fde0ef"
            ],
            [
             0.5,
             "#f7f7f7"
            ],
            [
             0.6,
             "#e6f5d0"
            ],
            [
             0.7,
             "#b8e186"
            ],
            [
             0.8,
             "#7fbc41"
            ],
            [
             0.9,
             "#4d9221"
            ],
            [
             1,
             "#276419"
            ]
           ],
           "sequential": [
            [
             0,
             "#0d0887"
            ],
            [
             0.1111111111111111,
             "#46039f"
            ],
            [
             0.2222222222222222,
             "#7201a8"
            ],
            [
             0.3333333333333333,
             "#9c179e"
            ],
            [
             0.4444444444444444,
             "#bd3786"
            ],
            [
             0.5555555555555556,
             "#d8576b"
            ],
            [
             0.6666666666666666,
             "#ed7953"
            ],
            [
             0.7777777777777778,
             "#fb9f3a"
            ],
            [
             0.8888888888888888,
             "#fdca26"
            ],
            [
             1,
             "#f0f921"
            ]
           ],
           "sequentialminus": [
            [
             0,
             "#0d0887"
            ],
            [
             0.1111111111111111,
             "#46039f"
            ],
            [
             0.2222222222222222,
             "#7201a8"
            ],
            [
             0.3333333333333333,
             "#9c179e"
            ],
            [
             0.4444444444444444,
             "#bd3786"
            ],
            [
             0.5555555555555556,
             "#d8576b"
            ],
            [
             0.6666666666666666,
             "#ed7953"
            ],
            [
             0.7777777777777778,
             "#fb9f3a"
            ],
            [
             0.8888888888888888,
             "#fdca26"
            ],
            [
             1,
             "#f0f921"
            ]
           ]
          },
          "colorway": [
           "#636efa",
           "#EF553B",
           "#00cc96",
           "#ab63fa",
           "#FFA15A",
           "#19d3f3",
           "#FF6692",
           "#B6E880",
           "#FF97FF",
           "#FECB52"
          ],
          "font": {
           "color": "#2a3f5f"
          },
          "geo": {
           "bgcolor": "white",
           "lakecolor": "white",
           "landcolor": "#E5ECF6",
           "showlakes": true,
           "showland": true,
           "subunitcolor": "white"
          },
          "hoverlabel": {
           "align": "left"
          },
          "hovermode": "closest",
          "mapbox": {
           "style": "light"
          },
          "paper_bgcolor": "white",
          "plot_bgcolor": "#E5ECF6",
          "polar": {
           "angularaxis": {
            "gridcolor": "white",
            "linecolor": "white",
            "ticks": ""
           },
           "bgcolor": "#E5ECF6",
           "radialaxis": {
            "gridcolor": "white",
            "linecolor": "white",
            "ticks": ""
           }
          },
          "scene": {
           "xaxis": {
            "backgroundcolor": "#E5ECF6",
            "gridcolor": "white",
            "gridwidth": 2,
            "linecolor": "white",
            "showbackground": true,
            "ticks": "",
            "zerolinecolor": "white"
           },
           "yaxis": {
            "backgroundcolor": "#E5ECF6",
            "gridcolor": "white",
            "gridwidth": 2,
            "linecolor": "white",
            "showbackground": true,
            "ticks": "",
            "zerolinecolor": "white"
           },
           "zaxis": {
            "backgroundcolor": "#E5ECF6",
            "gridcolor": "white",
            "gridwidth": 2,
            "linecolor": "white",
            "showbackground": true,
            "ticks": "",
            "zerolinecolor": "white"
           }
          },
          "shapedefaults": {
           "line": {
            "color": "#2a3f5f"
           }
          },
          "ternary": {
           "aaxis": {
            "gridcolor": "white",
            "linecolor": "white",
            "ticks": ""
           },
           "baxis": {
            "gridcolor": "white",
            "linecolor": "white",
            "ticks": ""
           },
           "bgcolor": "#E5ECF6",
           "caxis": {
            "gridcolor": "white",
            "linecolor": "white",
            "ticks": ""
           }
          },
          "title": {
           "x": 0.05
          },
          "xaxis": {
           "automargin": true,
           "gridcolor": "white",
           "linecolor": "white",
           "ticks": "",
           "title": {
            "standoff": 15
           },
           "zerolinecolor": "white",
           "zerolinewidth": 2
          },
          "yaxis": {
           "automargin": true,
           "gridcolor": "white",
           "linecolor": "white",
           "ticks": "",
           "title": {
            "standoff": 15
           },
           "zerolinecolor": "white",
           "zerolinewidth": 2
          }
         }
        },
        "title": {
         "font": {
          "color": "#4D5663"
         }
        },
        "xaxis": {
         "gridcolor": "#E1E5ED",
         "showgrid": true,
         "tickfont": {
          "color": "#4D5663"
         },
         "title": {
          "font": {
           "color": "#4D5663"
          },
          "text": ""
         },
         "zerolinecolor": "#E1E5ED"
        },
        "yaxis": {
         "gridcolor": "#E1E5ED",
         "showgrid": true,
         "tickfont": {
          "color": "#4D5663"
         },
         "title": {
          "font": {
           "color": "#4D5663"
          },
          "text": ""
         },
         "zerolinecolor": "#E1E5ED"
        }
       }
      },
      "text/html": [
       "<div>\n",
       "        \n",
       "        \n",
       "            <div id=\"cfad0e1d-28d0-4caa-9e72-75c269723e12\" class=\"plotly-graph-div\" style=\"height:525px; width:100%;\"></div>\n",
       "            <script type=\"text/javascript\">\n",
       "                require([\"plotly\"], function(Plotly) {\n",
       "                    window.PLOTLYENV=window.PLOTLYENV || {};\n",
       "                    window.PLOTLYENV.BASE_URL='https://plot.ly';\n",
       "                    \n",
       "                if (document.getElementById(\"cfad0e1d-28d0-4caa-9e72-75c269723e12\")) {\n",
       "                    Plotly.newPlot(\n",
       "                        'cfad0e1d-28d0-4caa-9e72-75c269723e12',\n",
       "                        [{\"marker\": {\"color\": \"rgba(255, 153, 51, 0.6)\", \"line\": {\"color\": \"rgba(255, 153, 51, 1.0)\", \"width\": 1}}, \"name\": \"A\", \"orientation\": \"v\", \"text\": \"\", \"type\": \"bar\", \"x\": [0, 1, 2, 3, 4, 5, 6, 7, 8, 9, 10, 11, 12, 13, 14, 15, 16, 17, 18, 19, 20, 21, 22, 23, 24, 25, 26, 27, 28, 29, 30, 31, 32, 33, 34, 35, 36, 37, 38, 39, 40, 41, 42, 43, 44, 45, 46, 47, 48, 49, 50, 51, 52, 53, 54, 55, 56, 57, 58, 59, 60, 61, 62, 63, 64, 65, 66, 67, 68, 69, 70, 71, 72, 73, 74, 75, 76, 77, 78, 79, 80, 81, 82, 83, 84, 85, 86, 87, 88, 89, 90, 91, 92, 93, 94, 95, 96, 97, 98, 99], \"y\": [-0.13332898728486217, 0.6049162173562118, -0.16177503105113158, 0.2904262389514051, 1.1562838099089574, -1.1848532417977728, 0.8982273761327372, 0.028278257948029965, -0.9868512173336761, 0.6840821635822759, -0.7608168905347923, -0.4849772912292263, 1.4103246726026462, -0.8217680536926046, -0.10584387485756273, 0.0915326999720717, 1.5868812487818433, 1.4610332716855279, -0.296010479607427, -1.636326733107384, -0.494075647778116, 1.254407911954291, -1.3259794161261163, 0.46662695049174047, 0.9930619033922193, -0.5176556953346497, 0.4923565746528598, -0.30148014268246154, -0.4809887648149414, 0.4820761832548575, 0.9795666811263533, 0.2290842534017007, 0.36752354492950984, 0.6168940590624284, 0.4114722975292953, -0.20855183114206602, 1.132181985806202, 0.9935469114025697, 0.016836190438973112, 0.961885915997291, -1.783903976137237, -0.9587206963745689, -1.5379896533002744, -0.7128492071354146, -0.42738557738685895, 0.4026918235878419, 1.1185123034948807, 1.1653431112356398, 0.5260806281991431, 0.2603131849043691, 1.1467886882959684, -0.40965228755670074, 0.7133917959352619, 1.1250831270878798, 0.817216553655222, 1.4917512529186387, -0.5125131549706918, 0.14776577406804275, 0.21713674429031635, 0.5477373667964758, -0.08254668451697868, -0.750904913226693, -0.48210838498018804, 0.9105294888876799, 0.8690776970323018, -0.95756608003841, -0.6806140558632705, -0.5565517022643965, -0.14106813094953835, 0.17396554387381946, -2.041059568986403, -0.06075202622890458, -1.2553721922271923, 0.740004930068497, 0.6323495961138877, 0.3758072565623964, 0.3121515525987599, 1.2167344648060452, -0.8148129555263465, -1.0423994099522742, -1.053758446029795, 1.0591205959040673, 0.624547701537553, 0.4113627954704313, 1.1811178417779826, 1.0245574869849703, -0.09182695658014851, 0.12237334974580312, -0.8312689468801848, 0.31971330737792997, 0.3882652757412495, -0.24487556089373985, 1.211015675419331, 0.2265724142315915, -0.6340086051558401, 0.789035760998447, -0.428508620713086, -1.2083999122326243, -2.442220579365496, 0.6181020168836062]}, {\"marker\": {\"color\": \"rgba(55, 128, 191, 0.6)\", \"line\": {\"color\": \"rgba(55, 128, 191, 1.0)\", \"width\": 1}}, \"name\": \"B\", \"orientation\": \"v\", \"text\": \"\", \"type\": \"bar\", \"x\": [0, 1, 2, 3, 4, 5, 6, 7, 8, 9, 10, 11, 12, 13, 14, 15, 16, 17, 18, 19, 20, 21, 22, 23, 24, 25, 26, 27, 28, 29, 30, 31, 32, 33, 34, 35, 36, 37, 38, 39, 40, 41, 42, 43, 44, 45, 46, 47, 48, 49, 50, 51, 52, 53, 54, 55, 56, 57, 58, 59, 60, 61, 62, 63, 64, 65, 66, 67, 68, 69, 70, 71, 72, 73, 74, 75, 76, 77, 78, 79, 80, 81, 82, 83, 84, 85, 86, 87, 88, 89, 90, 91, 92, 93, 94, 95, 96, 97, 98, 99], \"y\": [0.877873119201991, -0.8871864835711982, -0.8779365085710115, 0.16707982521148182, 0.9770570964405164, -1.0210807539641042, -0.21179137664286418, -0.025274265344616083, -1.1092078640172551, -1.1521829664006475, -1.0678537312032441, 0.881399073284442, -1.5472658310039031, 0.42894438694587583, -0.5847667949359995, 0.5861364661033456, -0.04141568970211862, 1.6330695985806374, 0.9136833206359156, 2.0233395926138007, 1.101142592370221, -0.5682038376230117, 0.042882304288209314, -0.4047854558570145, -0.20925108081337035, 0.7529358997543051, 0.7407450265436628, -1.3607933912602541, 0.3411301947962091, 1.3151839384818036, 0.3575314753592644, -1.3118340501498933, 1.4279165133867213, -0.2559157130428562, 0.4464527395079081, 0.6658948694956442, 0.7259355144620822, 0.8235263881423511, -0.08484654956607927, 1.8343974103662948, -0.4713263219195928, -0.8960723024860888, -0.30064987887889344, -0.4316502480055467, 0.2857158451321729, -0.5736274210697178, 2.5697362447985554, 0.6277843390429633, -0.49445184097626804, 0.8499163415546525, 1.5785939994794886, -0.9821279273371802, -0.4739870836956822, -1.3416687809494725, 0.984719136622916, -0.2741650591388619, 1.4972102529508924, 0.17436161357051014, -0.7460530393643999, 0.4081345878441793, 0.7508643479924706, 0.007458631298474343, -2.356211944871521, 1.2434124482978255, -0.9764707565302257, -0.9003187532037691, -0.6552946312368383, 1.01863556348232, 2.5093706224495755, -0.04773433274440632, 1.0449119076216544, 0.408730882028547, -0.11919913738978115, 0.38587853161043395, -1.1517321753523175, 1.6165054269845633, 2.320370989305167, -0.97030489009854, 0.03428818309439457, -0.567194415289803, -1.6004626492305494, 0.7941768603034315, 0.7850386433665631, 1.5710577492336988, 0.5925013415374528, 1.3388239018740202, -1.493035583334954, 0.8131093233548212, -0.06253088379133223, 1.0761370002087423, 1.6009510396615159, 1.0372091416050686, 0.24796801351280354, 1.1619363392738358, -0.3941704306660358, -0.7976663790741948, 1.7838229422786538, -1.6143395792946713, 0.2445066278672296, -0.19001794744455636]}, {\"marker\": {\"color\": \"rgba(50, 171, 96, 0.6)\", \"line\": {\"color\": \"rgba(50, 171, 96, 1.0)\", \"width\": 1}}, \"name\": \"C\", \"orientation\": \"v\", \"text\": \"\", \"type\": \"bar\", \"x\": [0, 1, 2, 3, 4, 5, 6, 7, 8, 9, 10, 11, 12, 13, 14, 15, 16, 17, 18, 19, 20, 21, 22, 23, 24, 25, 26, 27, 28, 29, 30, 31, 32, 33, 34, 35, 36, 37, 38, 39, 40, 41, 42, 43, 44, 45, 46, 47, 48, 49, 50, 51, 52, 53, 54, 55, 56, 57, 58, 59, 60, 61, 62, 63, 64, 65, 66, 67, 68, 69, 70, 71, 72, 73, 74, 75, 76, 77, 78, 79, 80, 81, 82, 83, 84, 85, 86, 87, 88, 89, 90, 91, 92, 93, 94, 95, 96, 97, 98, 99], \"y\": [-0.1949333377808265, 1.2874718857137506, 1.034828960634043, -1.250205626820457, -2.3140814312960223, 0.4672105757577219, 0.9336583380187081, -0.899465178637077, -0.23100800292281237, -0.4233280963663838, -0.8789825347499383, -0.23272103414254033, -0.687275448055291, -1.351898514290019, -0.29152858366285617, -0.5384074094042292, 1.0899255578983433, 0.3632462942202497, -0.31347150317497907, -0.6239556756762389, -0.5039547444225779, 0.7470989284312591, 0.5669270767827191, 0.4053962663362149, 0.7470319881233176, -0.7121268908435755, 1.3781094180709663, 0.4374773497359336, 0.4200860244282493, 0.7053171544932973, -0.6008008456387155, 1.114826092770562, 0.5183437897032463, -1.6875410078176634, -0.14119371767260377, -1.2318315718081576, 1.094246490855967, -0.9357325966232735, -1.687124220557086, 0.02834226044932334, -0.43635878228827285, 0.19203209266547921, 1.5017344421595056, -0.758789965263754, -0.48496529798553106, 0.9112791466103329, -0.9065257161127248, 0.15779465541686052, 0.32598660502669086, -0.7494680676971873, 0.8369842300027271, -0.1852978110964879, -0.8537190052680307, -1.328453836121312, 0.8883999662666356, 0.6745108463283488, -0.039512731797237334, -0.15152265482386013, -0.4053422246549689, 1.091898283200699, 0.3523894167516524, -0.8234261540482228, -0.3877115538256855, 2.334372769081094, -1.2790254406427777, -0.05124559254107892, 1.6034395642054087, -0.9702203612312997, -2.986537403890035, 0.8768333360508807, -1.0955398315132059, -1.3184810057926308, 0.4811947683684202, -0.9413875287749689, -0.09428344821563733, 0.24313378679796052, -0.8705367986795014, 0.33500633048508377, -0.23050141623667522, -0.4987736876364225, 1.7595674249869988, -1.371365312362017, 1.5153198832203851, -2.136172527562396, 0.13909291969410825, -0.6749023176385337, 0.280617133701145, -1.8513701473257176, -0.6285511875260519, 1.0104658535811069, -0.005853284057386029, 0.1096869174311675, -0.9210250890711749, 1.7413864500446388, 0.660042296473798, -1.3547562182632082, -0.9333532783173327, -0.1645621664866537, 0.08988391435312298, -0.3005702765173331]}, {\"marker\": {\"color\": \"rgba(128, 0, 128, 0.6)\", \"line\": {\"color\": \"rgba(128, 0, 128, 1.0)\", \"width\": 1}}, \"name\": \"D\", \"orientation\": \"v\", \"text\": \"\", \"type\": \"bar\", \"x\": [0, 1, 2, 3, 4, 5, 6, 7, 8, 9, 10, 11, 12, 13, 14, 15, 16, 17, 18, 19, 20, 21, 22, 23, 24, 25, 26, 27, 28, 29, 30, 31, 32, 33, 34, 35, 36, 37, 38, 39, 40, 41, 42, 43, 44, 45, 46, 47, 48, 49, 50, 51, 52, 53, 54, 55, 56, 57, 58, 59, 60, 61, 62, 63, 64, 65, 66, 67, 68, 69, 70, 71, 72, 73, 74, 75, 76, 77, 78, 79, 80, 81, 82, 83, 84, 85, 86, 87, 88, 89, 90, 91, 92, 93, 94, 95, 96, 97, 98, 99], \"y\": [-0.08270575823628525, 0.5721288881350668, 1.0693127747928544, 1.5534994107776754, 0.19406633148953562, -0.26233500689833983, 1.5655280754438046, -0.18114075584586906, -0.009619968905033204, -0.9027686346935858, -0.214812512368609, -0.7364379842187003, -0.19198476000138007, 0.18702643707197159, 0.0433781027486577, -0.29137810972437495, -1.1978306132083452, 0.41923085497089585, -0.31918684064943975, 1.128602606672595, -1.7825520771222159, 0.6030731735378128, -0.3564898191817619, -1.7844575714167668, -1.5335276217022513, -0.23179194788496277, 1.0021641098970262, -0.6909673306044203, -1.6223983671173798, 0.9163321161767722, -0.16823263095738714, -0.08943816895035614, 0.29775873555054044, 0.12574099999810487, -0.09456630256447097, -0.6611620609872069, 0.21652645180452904, 0.7244403439630475, 0.6954520634005963, -1.5499491574713065, 0.11562111541713081, -1.1221872789710325, 1.6563204328441237, 0.2952248151470929, -1.5686691986603534, -0.013048810598643025, -0.0742857139038019, 0.7150980179301154, -0.7395795234598608, 0.5989185284645229, -0.3093583703760894, -0.5115294388754472, -0.2561361894198458, -1.4477826014600563, 0.5220337678598486, -2.0151186397299794, 0.5886751789306843, -0.2327764475170766, 0.5212684750945968, -0.3863966203198103, 1.104088962904185, 1.7129532254736584, 0.44128179880332474, 0.14979679828882936, -0.2519819766582173, 0.6073456327874504, 0.5990539129529934, 0.41172165954198053, -0.93461312400278, 1.6191205319381616, -0.7132980745026403, -0.6055073499449021, 0.43331854221063015, 1.312027745736751, 0.22528511601214957, 1.6434145615909932, 0.3924455136917064, -0.44644815502010077, 0.3990194329299282, 0.3291683995399519, -0.9125345281980742, 0.3008990483570197, 0.10284225567393888, 0.45990273680458116, 0.5490036543010519, -0.5263979924439908, -0.9350994613038845, 1.418678192436831, -0.3039213118658567, -1.3956681081474906, 0.3520550174745357, -0.9795833300527587, 0.7951530232992107, -1.1695000184850353, -1.9272619586717148, -0.7952510560311679, -1.146988594289629, -0.18338757979591955, -0.3083681940970879, -0.23394117014428933]}],\n",
       "                        {\"legend\": {\"bgcolor\": \"#F5F6F9\", \"font\": {\"color\": \"#4D5663\"}}, \"paper_bgcolor\": \"#F5F6F9\", \"plot_bgcolor\": \"#F5F6F9\", \"template\": {\"data\": {\"bar\": [{\"error_x\": {\"color\": \"#2a3f5f\"}, \"error_y\": {\"color\": \"#2a3f5f\"}, \"marker\": {\"line\": {\"color\": \"#E5ECF6\", \"width\": 0.5}}, \"type\": \"bar\"}], \"barpolar\": [{\"marker\": {\"line\": {\"color\": \"#E5ECF6\", \"width\": 0.5}}, \"type\": \"barpolar\"}], \"carpet\": [{\"aaxis\": {\"endlinecolor\": \"#2a3f5f\", \"gridcolor\": \"white\", \"linecolor\": \"white\", \"minorgridcolor\": \"white\", \"startlinecolor\": \"#2a3f5f\"}, \"baxis\": {\"endlinecolor\": \"#2a3f5f\", \"gridcolor\": \"white\", \"linecolor\": \"white\", \"minorgridcolor\": \"white\", \"startlinecolor\": \"#2a3f5f\"}, \"type\": \"carpet\"}], \"choropleth\": [{\"colorbar\": {\"outlinewidth\": 0, \"ticks\": \"\"}, \"type\": \"choropleth\"}], \"contour\": [{\"colorbar\": {\"outlinewidth\": 0, \"ticks\": \"\"}, \"colorscale\": [[0.0, \"#0d0887\"], [0.1111111111111111, \"#46039f\"], [0.2222222222222222, \"#7201a8\"], [0.3333333333333333, \"#9c179e\"], [0.4444444444444444, \"#bd3786\"], [0.5555555555555556, \"#d8576b\"], [0.6666666666666666, \"#ed7953\"], [0.7777777777777778, \"#fb9f3a\"], [0.8888888888888888, \"#fdca26\"], [1.0, \"#f0f921\"]], \"type\": \"contour\"}], \"contourcarpet\": [{\"colorbar\": {\"outlinewidth\": 0, \"ticks\": \"\"}, \"type\": \"contourcarpet\"}], \"heatmap\": [{\"colorbar\": {\"outlinewidth\": 0, \"ticks\": \"\"}, \"colorscale\": [[0.0, \"#0d0887\"], [0.1111111111111111, \"#46039f\"], [0.2222222222222222, \"#7201a8\"], [0.3333333333333333, \"#9c179e\"], [0.4444444444444444, \"#bd3786\"], [0.5555555555555556, \"#d8576b\"], [0.6666666666666666, \"#ed7953\"], [0.7777777777777778, \"#fb9f3a\"], [0.8888888888888888, \"#fdca26\"], [1.0, \"#f0f921\"]], \"type\": \"heatmap\"}], \"heatmapgl\": [{\"colorbar\": {\"outlinewidth\": 0, \"ticks\": \"\"}, \"colorscale\": [[0.0, \"#0d0887\"], [0.1111111111111111, \"#46039f\"], [0.2222222222222222, \"#7201a8\"], [0.3333333333333333, \"#9c179e\"], [0.4444444444444444, \"#bd3786\"], [0.5555555555555556, \"#d8576b\"], [0.6666666666666666, \"#ed7953\"], [0.7777777777777778, \"#fb9f3a\"], [0.8888888888888888, \"#fdca26\"], [1.0, \"#f0f921\"]], \"type\": \"heatmapgl\"}], \"histogram\": [{\"marker\": {\"colorbar\": {\"outlinewidth\": 0, \"ticks\": \"\"}}, \"type\": \"histogram\"}], \"histogram2d\": [{\"colorbar\": {\"outlinewidth\": 0, \"ticks\": \"\"}, \"colorscale\": [[0.0, \"#0d0887\"], [0.1111111111111111, \"#46039f\"], [0.2222222222222222, \"#7201a8\"], [0.3333333333333333, \"#9c179e\"], [0.4444444444444444, \"#bd3786\"], [0.5555555555555556, \"#d8576b\"], [0.6666666666666666, \"#ed7953\"], [0.7777777777777778, \"#fb9f3a\"], [0.8888888888888888, \"#fdca26\"], [1.0, \"#f0f921\"]], \"type\": \"histogram2d\"}], \"histogram2dcontour\": [{\"colorbar\": {\"outlinewidth\": 0, \"ticks\": \"\"}, \"colorscale\": [[0.0, \"#0d0887\"], [0.1111111111111111, \"#46039f\"], [0.2222222222222222, \"#7201a8\"], [0.3333333333333333, \"#9c179e\"], [0.4444444444444444, \"#bd3786\"], [0.5555555555555556, \"#d8576b\"], [0.6666666666666666, \"#ed7953\"], [0.7777777777777778, \"#fb9f3a\"], [0.8888888888888888, \"#fdca26\"], [1.0, \"#f0f921\"]], \"type\": \"histogram2dcontour\"}], \"mesh3d\": [{\"colorbar\": {\"outlinewidth\": 0, \"ticks\": \"\"}, \"type\": \"mesh3d\"}], \"parcoords\": [{\"line\": {\"colorbar\": {\"outlinewidth\": 0, \"ticks\": \"\"}}, \"type\": \"parcoords\"}], \"pie\": [{\"automargin\": true, \"type\": \"pie\"}], \"scatter\": [{\"marker\": {\"colorbar\": {\"outlinewidth\": 0, \"ticks\": \"\"}}, \"type\": \"scatter\"}], \"scatter3d\": [{\"line\": {\"colorbar\": {\"outlinewidth\": 0, \"ticks\": \"\"}}, \"marker\": {\"colorbar\": {\"outlinewidth\": 0, \"ticks\": \"\"}}, \"type\": \"scatter3d\"}], \"scattercarpet\": [{\"marker\": {\"colorbar\": {\"outlinewidth\": 0, \"ticks\": \"\"}}, \"type\": \"scattercarpet\"}], \"scattergeo\": [{\"marker\": {\"colorbar\": {\"outlinewidth\": 0, \"ticks\": \"\"}}, \"type\": \"scattergeo\"}], \"scattergl\": [{\"marker\": {\"colorbar\": {\"outlinewidth\": 0, \"ticks\": \"\"}}, \"type\": \"scattergl\"}], \"scattermapbox\": [{\"marker\": {\"colorbar\": {\"outlinewidth\": 0, \"ticks\": \"\"}}, \"type\": \"scattermapbox\"}], \"scatterpolar\": [{\"marker\": {\"colorbar\": {\"outlinewidth\": 0, \"ticks\": \"\"}}, \"type\": \"scatterpolar\"}], \"scatterpolargl\": [{\"marker\": {\"colorbar\": {\"outlinewidth\": 0, \"ticks\": \"\"}}, \"type\": \"scatterpolargl\"}], \"scatterternary\": [{\"marker\": {\"colorbar\": {\"outlinewidth\": 0, \"ticks\": \"\"}}, \"type\": \"scatterternary\"}], \"surface\": [{\"colorbar\": {\"outlinewidth\": 0, \"ticks\": \"\"}, \"colorscale\": [[0.0, \"#0d0887\"], [0.1111111111111111, \"#46039f\"], [0.2222222222222222, \"#7201a8\"], [0.3333333333333333, \"#9c179e\"], [0.4444444444444444, \"#bd3786\"], [0.5555555555555556, \"#d8576b\"], [0.6666666666666666, \"#ed7953\"], [0.7777777777777778, \"#fb9f3a\"], [0.8888888888888888, \"#fdca26\"], [1.0, \"#f0f921\"]], \"type\": \"surface\"}], \"table\": [{\"cells\": {\"fill\": {\"color\": \"#EBF0F8\"}, \"line\": {\"color\": \"white\"}}, \"header\": {\"fill\": {\"color\": \"#C8D4E3\"}, \"line\": {\"color\": \"white\"}}, \"type\": \"table\"}]}, \"layout\": {\"annotationdefaults\": {\"arrowcolor\": \"#2a3f5f\", \"arrowhead\": 0, \"arrowwidth\": 1}, \"coloraxis\": {\"colorbar\": {\"outlinewidth\": 0, \"ticks\": \"\"}}, \"colorscale\": {\"diverging\": [[0, \"#8e0152\"], [0.1, \"#c51b7d\"], [0.2, \"#de77ae\"], [0.3, \"#f1b6da\"], [0.4, \"#fde0ef\"], [0.5, \"#f7f7f7\"], [0.6, \"#e6f5d0\"], [0.7, \"#b8e186\"], [0.8, \"#7fbc41\"], [0.9, \"#4d9221\"], [1, \"#276419\"]], \"sequential\": [[0.0, \"#0d0887\"], [0.1111111111111111, \"#46039f\"], [0.2222222222222222, \"#7201a8\"], [0.3333333333333333, \"#9c179e\"], [0.4444444444444444, \"#bd3786\"], [0.5555555555555556, \"#d8576b\"], [0.6666666666666666, \"#ed7953\"], [0.7777777777777778, \"#fb9f3a\"], [0.8888888888888888, \"#fdca26\"], [1.0, \"#f0f921\"]], \"sequentialminus\": [[0.0, \"#0d0887\"], [0.1111111111111111, \"#46039f\"], [0.2222222222222222, \"#7201a8\"], [0.3333333333333333, \"#9c179e\"], [0.4444444444444444, \"#bd3786\"], [0.5555555555555556, \"#d8576b\"], [0.6666666666666666, \"#ed7953\"], [0.7777777777777778, \"#fb9f3a\"], [0.8888888888888888, \"#fdca26\"], [1.0, \"#f0f921\"]]}, \"colorway\": [\"#636efa\", \"#EF553B\", \"#00cc96\", \"#ab63fa\", \"#FFA15A\", \"#19d3f3\", \"#FF6692\", \"#B6E880\", \"#FF97FF\", \"#FECB52\"], \"font\": {\"color\": \"#2a3f5f\"}, \"geo\": {\"bgcolor\": \"white\", \"lakecolor\": \"white\", \"landcolor\": \"#E5ECF6\", \"showlakes\": true, \"showland\": true, \"subunitcolor\": \"white\"}, \"hoverlabel\": {\"align\": \"left\"}, \"hovermode\": \"closest\", \"mapbox\": {\"style\": \"light\"}, \"paper_bgcolor\": \"white\", \"plot_bgcolor\": \"#E5ECF6\", \"polar\": {\"angularaxis\": {\"gridcolor\": \"white\", \"linecolor\": \"white\", \"ticks\": \"\"}, \"bgcolor\": \"#E5ECF6\", \"radialaxis\": {\"gridcolor\": \"white\", \"linecolor\": \"white\", \"ticks\": \"\"}}, \"scene\": {\"xaxis\": {\"backgroundcolor\": \"#E5ECF6\", \"gridcolor\": \"white\", \"gridwidth\": 2, \"linecolor\": \"white\", \"showbackground\": true, \"ticks\": \"\", \"zerolinecolor\": \"white\"}, \"yaxis\": {\"backgroundcolor\": \"#E5ECF6\", \"gridcolor\": \"white\", \"gridwidth\": 2, \"linecolor\": \"white\", \"showbackground\": true, \"ticks\": \"\", \"zerolinecolor\": \"white\"}, \"zaxis\": {\"backgroundcolor\": \"#E5ECF6\", \"gridcolor\": \"white\", \"gridwidth\": 2, \"linecolor\": \"white\", \"showbackground\": true, \"ticks\": \"\", \"zerolinecolor\": \"white\"}}, \"shapedefaults\": {\"line\": {\"color\": \"#2a3f5f\"}}, \"ternary\": {\"aaxis\": {\"gridcolor\": \"white\", \"linecolor\": \"white\", \"ticks\": \"\"}, \"baxis\": {\"gridcolor\": \"white\", \"linecolor\": \"white\", \"ticks\": \"\"}, \"bgcolor\": \"#E5ECF6\", \"caxis\": {\"gridcolor\": \"white\", \"linecolor\": \"white\", \"ticks\": \"\"}}, \"title\": {\"x\": 0.05}, \"xaxis\": {\"automargin\": true, \"gridcolor\": \"white\", \"linecolor\": \"white\", \"ticks\": \"\", \"title\": {\"standoff\": 15}, \"zerolinecolor\": \"white\", \"zerolinewidth\": 2}, \"yaxis\": {\"automargin\": true, \"gridcolor\": \"white\", \"linecolor\": \"white\", \"ticks\": \"\", \"title\": {\"standoff\": 15}, \"zerolinecolor\": \"white\", \"zerolinewidth\": 2}}}, \"title\": {\"font\": {\"color\": \"#4D5663\"}}, \"xaxis\": {\"gridcolor\": \"#E1E5ED\", \"showgrid\": true, \"tickfont\": {\"color\": \"#4D5663\"}, \"title\": {\"font\": {\"color\": \"#4D5663\"}, \"text\": \"\"}, \"zerolinecolor\": \"#E1E5ED\"}, \"yaxis\": {\"gridcolor\": \"#E1E5ED\", \"showgrid\": true, \"tickfont\": {\"color\": \"#4D5663\"}, \"title\": {\"font\": {\"color\": \"#4D5663\"}, \"text\": \"\"}, \"zerolinecolor\": \"#E1E5ED\"}},\n",
       "                        {\"showLink\": true, \"linkText\": \"Export to plot.ly\", \"plotlyServerURL\": \"https://plot.ly\", \"responsive\": true}\n",
       "                    ).then(function(){\n",
       "                            \n",
       "var gd = document.getElementById('cfad0e1d-28d0-4caa-9e72-75c269723e12');\n",
       "var x = new MutationObserver(function (mutations, observer) {{\n",
       "        var display = window.getComputedStyle(gd).display;\n",
       "        if (!display || display === 'none') {{\n",
       "            console.log([gd, 'removed!']);\n",
       "            Plotly.purge(gd);\n",
       "            observer.disconnect();\n",
       "        }}\n",
       "}});\n",
       "\n",
       "// Listen for the removal of the full notebook cells\n",
       "var notebookContainer = gd.closest('#notebook-container');\n",
       "if (notebookContainer) {{\n",
       "    x.observe(notebookContainer, {childList: true});\n",
       "}}\n",
       "\n",
       "// Listen for the clearing of the current output cell\n",
       "var outputEl = gd.closest('.output');\n",
       "if (outputEl) {{\n",
       "    x.observe(outputEl, {childList: true});\n",
       "}}\n",
       "\n",
       "                        })\n",
       "                };\n",
       "                });\n",
       "            </script>\n",
       "        </div>"
      ]
     },
     "metadata": {},
     "output_type": "display_data"
    }
   ],
   "source": [
    "df.iplot(kind='bar')"
   ]
  },
  {
   "cell_type": "code",
   "execution_count": 25,
   "metadata": {},
   "outputs": [
    {
     "data": {
      "application/vnd.plotly.v1+json": {
       "config": {
        "linkText": "Export to plot.ly",
        "plotlyServerURL": "https://plot.ly",
        "showLink": true
       },
       "data": [
        {
         "marker": {
          "color": "rgba(255, 153, 51, 0.6)",
          "line": {
           "color": "rgba(255, 153, 51, 1.0)",
           "width": 1
          }
         },
         "name": "None",
         "orientation": "v",
         "text": "",
         "type": "bar",
         "x": [
          "A",
          "B",
          "C",
          "D"
         ],
         "y": [
          8.450802842999986,
          18.824039428167634,
          -12.469078608300512,
          -5.7163572467885215
         ]
        }
       ],
       "layout": {
        "legend": {
         "bgcolor": "#F5F6F9",
         "font": {
          "color": "#4D5663"
         }
        },
        "paper_bgcolor": "#F5F6F9",
        "plot_bgcolor": "#F5F6F9",
        "template": {
         "data": {
          "bar": [
           {
            "error_x": {
             "color": "#2a3f5f"
            },
            "error_y": {
             "color": "#2a3f5f"
            },
            "marker": {
             "line": {
              "color": "#E5ECF6",
              "width": 0.5
             }
            },
            "type": "bar"
           }
          ],
          "barpolar": [
           {
            "marker": {
             "line": {
              "color": "#E5ECF6",
              "width": 0.5
             }
            },
            "type": "barpolar"
           }
          ],
          "carpet": [
           {
            "aaxis": {
             "endlinecolor": "#2a3f5f",
             "gridcolor": "white",
             "linecolor": "white",
             "minorgridcolor": "white",
             "startlinecolor": "#2a3f5f"
            },
            "baxis": {
             "endlinecolor": "#2a3f5f",
             "gridcolor": "white",
             "linecolor": "white",
             "minorgridcolor": "white",
             "startlinecolor": "#2a3f5f"
            },
            "type": "carpet"
           }
          ],
          "choropleth": [
           {
            "colorbar": {
             "outlinewidth": 0,
             "ticks": ""
            },
            "type": "choropleth"
           }
          ],
          "contour": [
           {
            "colorbar": {
             "outlinewidth": 0,
             "ticks": ""
            },
            "colorscale": [
             [
              0,
              "#0d0887"
             ],
             [
              0.1111111111111111,
              "#46039f"
             ],
             [
              0.2222222222222222,
              "#7201a8"
             ],
             [
              0.3333333333333333,
              "#9c179e"
             ],
             [
              0.4444444444444444,
              "#bd3786"
             ],
             [
              0.5555555555555556,
              "#d8576b"
             ],
             [
              0.6666666666666666,
              "#ed7953"
             ],
             [
              0.7777777777777778,
              "#fb9f3a"
             ],
             [
              0.8888888888888888,
              "#fdca26"
             ],
             [
              1,
              "#f0f921"
             ]
            ],
            "type": "contour"
           }
          ],
          "contourcarpet": [
           {
            "colorbar": {
             "outlinewidth": 0,
             "ticks": ""
            },
            "type": "contourcarpet"
           }
          ],
          "heatmap": [
           {
            "colorbar": {
             "outlinewidth": 0,
             "ticks": ""
            },
            "colorscale": [
             [
              0,
              "#0d0887"
             ],
             [
              0.1111111111111111,
              "#46039f"
             ],
             [
              0.2222222222222222,
              "#7201a8"
             ],
             [
              0.3333333333333333,
              "#9c179e"
             ],
             [
              0.4444444444444444,
              "#bd3786"
             ],
             [
              0.5555555555555556,
              "#d8576b"
             ],
             [
              0.6666666666666666,
              "#ed7953"
             ],
             [
              0.7777777777777778,
              "#fb9f3a"
             ],
             [
              0.8888888888888888,
              "#fdca26"
             ],
             [
              1,
              "#f0f921"
             ]
            ],
            "type": "heatmap"
           }
          ],
          "heatmapgl": [
           {
            "colorbar": {
             "outlinewidth": 0,
             "ticks": ""
            },
            "colorscale": [
             [
              0,
              "#0d0887"
             ],
             [
              0.1111111111111111,
              "#46039f"
             ],
             [
              0.2222222222222222,
              "#7201a8"
             ],
             [
              0.3333333333333333,
              "#9c179e"
             ],
             [
              0.4444444444444444,
              "#bd3786"
             ],
             [
              0.5555555555555556,
              "#d8576b"
             ],
             [
              0.6666666666666666,
              "#ed7953"
             ],
             [
              0.7777777777777778,
              "#fb9f3a"
             ],
             [
              0.8888888888888888,
              "#fdca26"
             ],
             [
              1,
              "#f0f921"
             ]
            ],
            "type": "heatmapgl"
           }
          ],
          "histogram": [
           {
            "marker": {
             "colorbar": {
              "outlinewidth": 0,
              "ticks": ""
             }
            },
            "type": "histogram"
           }
          ],
          "histogram2d": [
           {
            "colorbar": {
             "outlinewidth": 0,
             "ticks": ""
            },
            "colorscale": [
             [
              0,
              "#0d0887"
             ],
             [
              0.1111111111111111,
              "#46039f"
             ],
             [
              0.2222222222222222,
              "#7201a8"
             ],
             [
              0.3333333333333333,
              "#9c179e"
             ],
             [
              0.4444444444444444,
              "#bd3786"
             ],
             [
              0.5555555555555556,
              "#d8576b"
             ],
             [
              0.6666666666666666,
              "#ed7953"
             ],
             [
              0.7777777777777778,
              "#fb9f3a"
             ],
             [
              0.8888888888888888,
              "#fdca26"
             ],
             [
              1,
              "#f0f921"
             ]
            ],
            "type": "histogram2d"
           }
          ],
          "histogram2dcontour": [
           {
            "colorbar": {
             "outlinewidth": 0,
             "ticks": ""
            },
            "colorscale": [
             [
              0,
              "#0d0887"
             ],
             [
              0.1111111111111111,
              "#46039f"
             ],
             [
              0.2222222222222222,
              "#7201a8"
             ],
             [
              0.3333333333333333,
              "#9c179e"
             ],
             [
              0.4444444444444444,
              "#bd3786"
             ],
             [
              0.5555555555555556,
              "#d8576b"
             ],
             [
              0.6666666666666666,
              "#ed7953"
             ],
             [
              0.7777777777777778,
              "#fb9f3a"
             ],
             [
              0.8888888888888888,
              "#fdca26"
             ],
             [
              1,
              "#f0f921"
             ]
            ],
            "type": "histogram2dcontour"
           }
          ],
          "mesh3d": [
           {
            "colorbar": {
             "outlinewidth": 0,
             "ticks": ""
            },
            "type": "mesh3d"
           }
          ],
          "parcoords": [
           {
            "line": {
             "colorbar": {
              "outlinewidth": 0,
              "ticks": ""
             }
            },
            "type": "parcoords"
           }
          ],
          "pie": [
           {
            "automargin": true,
            "type": "pie"
           }
          ],
          "scatter": [
           {
            "marker": {
             "colorbar": {
              "outlinewidth": 0,
              "ticks": ""
             }
            },
            "type": "scatter"
           }
          ],
          "scatter3d": [
           {
            "line": {
             "colorbar": {
              "outlinewidth": 0,
              "ticks": ""
             }
            },
            "marker": {
             "colorbar": {
              "outlinewidth": 0,
              "ticks": ""
             }
            },
            "type": "scatter3d"
           }
          ],
          "scattercarpet": [
           {
            "marker": {
             "colorbar": {
              "outlinewidth": 0,
              "ticks": ""
             }
            },
            "type": "scattercarpet"
           }
          ],
          "scattergeo": [
           {
            "marker": {
             "colorbar": {
              "outlinewidth": 0,
              "ticks": ""
             }
            },
            "type": "scattergeo"
           }
          ],
          "scattergl": [
           {
            "marker": {
             "colorbar": {
              "outlinewidth": 0,
              "ticks": ""
             }
            },
            "type": "scattergl"
           }
          ],
          "scattermapbox": [
           {
            "marker": {
             "colorbar": {
              "outlinewidth": 0,
              "ticks": ""
             }
            },
            "type": "scattermapbox"
           }
          ],
          "scatterpolar": [
           {
            "marker": {
             "colorbar": {
              "outlinewidth": 0,
              "ticks": ""
             }
            },
            "type": "scatterpolar"
           }
          ],
          "scatterpolargl": [
           {
            "marker": {
             "colorbar": {
              "outlinewidth": 0,
              "ticks": ""
             }
            },
            "type": "scatterpolargl"
           }
          ],
          "scatterternary": [
           {
            "marker": {
             "colorbar": {
              "outlinewidth": 0,
              "ticks": ""
             }
            },
            "type": "scatterternary"
           }
          ],
          "surface": [
           {
            "colorbar": {
             "outlinewidth": 0,
             "ticks": ""
            },
            "colorscale": [
             [
              0,
              "#0d0887"
             ],
             [
              0.1111111111111111,
              "#46039f"
             ],
             [
              0.2222222222222222,
              "#7201a8"
             ],
             [
              0.3333333333333333,
              "#9c179e"
             ],
             [
              0.4444444444444444,
              "#bd3786"
             ],
             [
              0.5555555555555556,
              "#d8576b"
             ],
             [
              0.6666666666666666,
              "#ed7953"
             ],
             [
              0.7777777777777778,
              "#fb9f3a"
             ],
             [
              0.8888888888888888,
              "#fdca26"
             ],
             [
              1,
              "#f0f921"
             ]
            ],
            "type": "surface"
           }
          ],
          "table": [
           {
            "cells": {
             "fill": {
              "color": "#EBF0F8"
             },
             "line": {
              "color": "white"
             }
            },
            "header": {
             "fill": {
              "color": "#C8D4E3"
             },
             "line": {
              "color": "white"
             }
            },
            "type": "table"
           }
          ]
         },
         "layout": {
          "annotationdefaults": {
           "arrowcolor": "#2a3f5f",
           "arrowhead": 0,
           "arrowwidth": 1
          },
          "coloraxis": {
           "colorbar": {
            "outlinewidth": 0,
            "ticks": ""
           }
          },
          "colorscale": {
           "diverging": [
            [
             0,
             "#8e0152"
            ],
            [
             0.1,
             "#c51b7d"
            ],
            [
             0.2,
             "#de77ae"
            ],
            [
             0.3,
             "#f1b6da"
            ],
            [
             0.4,
             "#fde0ef"
            ],
            [
             0.5,
             "#f7f7f7"
            ],
            [
             0.6,
             "#e6f5d0"
            ],
            [
             0.7,
             "#b8e186"
            ],
            [
             0.8,
             "#7fbc41"
            ],
            [
             0.9,
             "#4d9221"
            ],
            [
             1,
             "#276419"
            ]
           ],
           "sequential": [
            [
             0,
             "#0d0887"
            ],
            [
             0.1111111111111111,
             "#46039f"
            ],
            [
             0.2222222222222222,
             "#7201a8"
            ],
            [
             0.3333333333333333,
             "#9c179e"
            ],
            [
             0.4444444444444444,
             "#bd3786"
            ],
            [
             0.5555555555555556,
             "#d8576b"
            ],
            [
             0.6666666666666666,
             "#ed7953"
            ],
            [
             0.7777777777777778,
             "#fb9f3a"
            ],
            [
             0.8888888888888888,
             "#fdca26"
            ],
            [
             1,
             "#f0f921"
            ]
           ],
           "sequentialminus": [
            [
             0,
             "#0d0887"
            ],
            [
             0.1111111111111111,
             "#46039f"
            ],
            [
             0.2222222222222222,
             "#7201a8"
            ],
            [
             0.3333333333333333,
             "#9c179e"
            ],
            [
             0.4444444444444444,
             "#bd3786"
            ],
            [
             0.5555555555555556,
             "#d8576b"
            ],
            [
             0.6666666666666666,
             "#ed7953"
            ],
            [
             0.7777777777777778,
             "#fb9f3a"
            ],
            [
             0.8888888888888888,
             "#fdca26"
            ],
            [
             1,
             "#f0f921"
            ]
           ]
          },
          "colorway": [
           "#636efa",
           "#EF553B",
           "#00cc96",
           "#ab63fa",
           "#FFA15A",
           "#19d3f3",
           "#FF6692",
           "#B6E880",
           "#FF97FF",
           "#FECB52"
          ],
          "font": {
           "color": "#2a3f5f"
          },
          "geo": {
           "bgcolor": "white",
           "lakecolor": "white",
           "landcolor": "#E5ECF6",
           "showlakes": true,
           "showland": true,
           "subunitcolor": "white"
          },
          "hoverlabel": {
           "align": "left"
          },
          "hovermode": "closest",
          "mapbox": {
           "style": "light"
          },
          "paper_bgcolor": "white",
          "plot_bgcolor": "#E5ECF6",
          "polar": {
           "angularaxis": {
            "gridcolor": "white",
            "linecolor": "white",
            "ticks": ""
           },
           "bgcolor": "#E5ECF6",
           "radialaxis": {
            "gridcolor": "white",
            "linecolor": "white",
            "ticks": ""
           }
          },
          "scene": {
           "xaxis": {
            "backgroundcolor": "#E5ECF6",
            "gridcolor": "white",
            "gridwidth": 2,
            "linecolor": "white",
            "showbackground": true,
            "ticks": "",
            "zerolinecolor": "white"
           },
           "yaxis": {
            "backgroundcolor": "#E5ECF6",
            "gridcolor": "white",
            "gridwidth": 2,
            "linecolor": "white",
            "showbackground": true,
            "ticks": "",
            "zerolinecolor": "white"
           },
           "zaxis": {
            "backgroundcolor": "#E5ECF6",
            "gridcolor": "white",
            "gridwidth": 2,
            "linecolor": "white",
            "showbackground": true,
            "ticks": "",
            "zerolinecolor": "white"
           }
          },
          "shapedefaults": {
           "line": {
            "color": "#2a3f5f"
           }
          },
          "ternary": {
           "aaxis": {
            "gridcolor": "white",
            "linecolor": "white",
            "ticks": ""
           },
           "baxis": {
            "gridcolor": "white",
            "linecolor": "white",
            "ticks": ""
           },
           "bgcolor": "#E5ECF6",
           "caxis": {
            "gridcolor": "white",
            "linecolor": "white",
            "ticks": ""
           }
          },
          "title": {
           "x": 0.05
          },
          "xaxis": {
           "automargin": true,
           "gridcolor": "white",
           "linecolor": "white",
           "ticks": "",
           "title": {
            "standoff": 15
           },
           "zerolinecolor": "white",
           "zerolinewidth": 2
          },
          "yaxis": {
           "automargin": true,
           "gridcolor": "white",
           "linecolor": "white",
           "ticks": "",
           "title": {
            "standoff": 15
           },
           "zerolinecolor": "white",
           "zerolinewidth": 2
          }
         }
        },
        "title": {
         "font": {
          "color": "#4D5663"
         }
        },
        "xaxis": {
         "gridcolor": "#E1E5ED",
         "showgrid": true,
         "tickfont": {
          "color": "#4D5663"
         },
         "title": {
          "font": {
           "color": "#4D5663"
          },
          "text": ""
         },
         "zerolinecolor": "#E1E5ED"
        },
        "yaxis": {
         "gridcolor": "#E1E5ED",
         "showgrid": true,
         "tickfont": {
          "color": "#4D5663"
         },
         "title": {
          "font": {
           "color": "#4D5663"
          },
          "text": ""
         },
         "zerolinecolor": "#E1E5ED"
        }
       }
      },
      "text/html": [
       "<div>\n",
       "        \n",
       "        \n",
       "            <div id=\"39ce807b-a460-47e3-bbeb-9cf04cb4cfa6\" class=\"plotly-graph-div\" style=\"height:525px; width:100%;\"></div>\n",
       "            <script type=\"text/javascript\">\n",
       "                require([\"plotly\"], function(Plotly) {\n",
       "                    window.PLOTLYENV=window.PLOTLYENV || {};\n",
       "                    window.PLOTLYENV.BASE_URL='https://plot.ly';\n",
       "                    \n",
       "                if (document.getElementById(\"39ce807b-a460-47e3-bbeb-9cf04cb4cfa6\")) {\n",
       "                    Plotly.newPlot(\n",
       "                        '39ce807b-a460-47e3-bbeb-9cf04cb4cfa6',\n",
       "                        [{\"marker\": {\"color\": \"rgba(255, 153, 51, 0.6)\", \"line\": {\"color\": \"rgba(255, 153, 51, 1.0)\", \"width\": 1}}, \"name\": \"None\", \"orientation\": \"v\", \"text\": \"\", \"type\": \"bar\", \"x\": [\"A\", \"B\", \"C\", \"D\"], \"y\": [8.450802842999986, 18.824039428167634, -12.469078608300512, -5.7163572467885215]}],\n",
       "                        {\"legend\": {\"bgcolor\": \"#F5F6F9\", \"font\": {\"color\": \"#4D5663\"}}, \"paper_bgcolor\": \"#F5F6F9\", \"plot_bgcolor\": \"#F5F6F9\", \"template\": {\"data\": {\"bar\": [{\"error_x\": {\"color\": \"#2a3f5f\"}, \"error_y\": {\"color\": \"#2a3f5f\"}, \"marker\": {\"line\": {\"color\": \"#E5ECF6\", \"width\": 0.5}}, \"type\": \"bar\"}], \"barpolar\": [{\"marker\": {\"line\": {\"color\": \"#E5ECF6\", \"width\": 0.5}}, \"type\": \"barpolar\"}], \"carpet\": [{\"aaxis\": {\"endlinecolor\": \"#2a3f5f\", \"gridcolor\": \"white\", \"linecolor\": \"white\", \"minorgridcolor\": \"white\", \"startlinecolor\": \"#2a3f5f\"}, \"baxis\": {\"endlinecolor\": \"#2a3f5f\", \"gridcolor\": \"white\", \"linecolor\": \"white\", \"minorgridcolor\": \"white\", \"startlinecolor\": \"#2a3f5f\"}, \"type\": \"carpet\"}], \"choropleth\": [{\"colorbar\": {\"outlinewidth\": 0, \"ticks\": \"\"}, \"type\": \"choropleth\"}], \"contour\": [{\"colorbar\": {\"outlinewidth\": 0, \"ticks\": \"\"}, \"colorscale\": [[0.0, \"#0d0887\"], [0.1111111111111111, \"#46039f\"], [0.2222222222222222, \"#7201a8\"], [0.3333333333333333, \"#9c179e\"], [0.4444444444444444, \"#bd3786\"], [0.5555555555555556, \"#d8576b\"], [0.6666666666666666, \"#ed7953\"], [0.7777777777777778, \"#fb9f3a\"], [0.8888888888888888, \"#fdca26\"], [1.0, \"#f0f921\"]], \"type\": \"contour\"}], \"contourcarpet\": [{\"colorbar\": {\"outlinewidth\": 0, \"ticks\": \"\"}, \"type\": \"contourcarpet\"}], \"heatmap\": [{\"colorbar\": {\"outlinewidth\": 0, \"ticks\": \"\"}, \"colorscale\": [[0.0, \"#0d0887\"], [0.1111111111111111, \"#46039f\"], [0.2222222222222222, \"#7201a8\"], [0.3333333333333333, \"#9c179e\"], [0.4444444444444444, \"#bd3786\"], [0.5555555555555556, \"#d8576b\"], [0.6666666666666666, \"#ed7953\"], [0.7777777777777778, \"#fb9f3a\"], [0.8888888888888888, \"#fdca26\"], [1.0, \"#f0f921\"]], \"type\": \"heatmap\"}], \"heatmapgl\": [{\"colorbar\": {\"outlinewidth\": 0, \"ticks\": \"\"}, \"colorscale\": [[0.0, \"#0d0887\"], [0.1111111111111111, \"#46039f\"], [0.2222222222222222, \"#7201a8\"], [0.3333333333333333, \"#9c179e\"], [0.4444444444444444, \"#bd3786\"], [0.5555555555555556, \"#d8576b\"], [0.6666666666666666, \"#ed7953\"], [0.7777777777777778, \"#fb9f3a\"], [0.8888888888888888, \"#fdca26\"], [1.0, \"#f0f921\"]], \"type\": \"heatmapgl\"}], \"histogram\": [{\"marker\": {\"colorbar\": {\"outlinewidth\": 0, \"ticks\": \"\"}}, \"type\": \"histogram\"}], \"histogram2d\": [{\"colorbar\": {\"outlinewidth\": 0, \"ticks\": \"\"}, \"colorscale\": [[0.0, \"#0d0887\"], [0.1111111111111111, \"#46039f\"], [0.2222222222222222, \"#7201a8\"], [0.3333333333333333, \"#9c179e\"], [0.4444444444444444, \"#bd3786\"], [0.5555555555555556, \"#d8576b\"], [0.6666666666666666, \"#ed7953\"], [0.7777777777777778, \"#fb9f3a\"], [0.8888888888888888, \"#fdca26\"], [1.0, \"#f0f921\"]], \"type\": \"histogram2d\"}], \"histogram2dcontour\": [{\"colorbar\": {\"outlinewidth\": 0, \"ticks\": \"\"}, \"colorscale\": [[0.0, \"#0d0887\"], [0.1111111111111111, \"#46039f\"], [0.2222222222222222, \"#7201a8\"], [0.3333333333333333, \"#9c179e\"], [0.4444444444444444, \"#bd3786\"], [0.5555555555555556, \"#d8576b\"], [0.6666666666666666, \"#ed7953\"], [0.7777777777777778, \"#fb9f3a\"], [0.8888888888888888, \"#fdca26\"], [1.0, \"#f0f921\"]], \"type\": \"histogram2dcontour\"}], \"mesh3d\": [{\"colorbar\": {\"outlinewidth\": 0, \"ticks\": \"\"}, \"type\": \"mesh3d\"}], \"parcoords\": [{\"line\": {\"colorbar\": {\"outlinewidth\": 0, \"ticks\": \"\"}}, \"type\": \"parcoords\"}], \"pie\": [{\"automargin\": true, \"type\": \"pie\"}], \"scatter\": [{\"marker\": {\"colorbar\": {\"outlinewidth\": 0, \"ticks\": \"\"}}, \"type\": \"scatter\"}], \"scatter3d\": [{\"line\": {\"colorbar\": {\"outlinewidth\": 0, \"ticks\": \"\"}}, \"marker\": {\"colorbar\": {\"outlinewidth\": 0, \"ticks\": \"\"}}, \"type\": \"scatter3d\"}], \"scattercarpet\": [{\"marker\": {\"colorbar\": {\"outlinewidth\": 0, \"ticks\": \"\"}}, \"type\": \"scattercarpet\"}], \"scattergeo\": [{\"marker\": {\"colorbar\": {\"outlinewidth\": 0, \"ticks\": \"\"}}, \"type\": \"scattergeo\"}], \"scattergl\": [{\"marker\": {\"colorbar\": {\"outlinewidth\": 0, \"ticks\": \"\"}}, \"type\": \"scattergl\"}], \"scattermapbox\": [{\"marker\": {\"colorbar\": {\"outlinewidth\": 0, \"ticks\": \"\"}}, \"type\": \"scattermapbox\"}], \"scatterpolar\": [{\"marker\": {\"colorbar\": {\"outlinewidth\": 0, \"ticks\": \"\"}}, \"type\": \"scatterpolar\"}], \"scatterpolargl\": [{\"marker\": {\"colorbar\": {\"outlinewidth\": 0, \"ticks\": \"\"}}, \"type\": \"scatterpolargl\"}], \"scatterternary\": [{\"marker\": {\"colorbar\": {\"outlinewidth\": 0, \"ticks\": \"\"}}, \"type\": \"scatterternary\"}], \"surface\": [{\"colorbar\": {\"outlinewidth\": 0, \"ticks\": \"\"}, \"colorscale\": [[0.0, \"#0d0887\"], [0.1111111111111111, \"#46039f\"], [0.2222222222222222, \"#7201a8\"], [0.3333333333333333, \"#9c179e\"], [0.4444444444444444, \"#bd3786\"], [0.5555555555555556, \"#d8576b\"], [0.6666666666666666, \"#ed7953\"], [0.7777777777777778, \"#fb9f3a\"], [0.8888888888888888, \"#fdca26\"], [1.0, \"#f0f921\"]], \"type\": \"surface\"}], \"table\": [{\"cells\": {\"fill\": {\"color\": \"#EBF0F8\"}, \"line\": {\"color\": \"white\"}}, \"header\": {\"fill\": {\"color\": \"#C8D4E3\"}, \"line\": {\"color\": \"white\"}}, \"type\": \"table\"}]}, \"layout\": {\"annotationdefaults\": {\"arrowcolor\": \"#2a3f5f\", \"arrowhead\": 0, \"arrowwidth\": 1}, \"coloraxis\": {\"colorbar\": {\"outlinewidth\": 0, \"ticks\": \"\"}}, \"colorscale\": {\"diverging\": [[0, \"#8e0152\"], [0.1, \"#c51b7d\"], [0.2, \"#de77ae\"], [0.3, \"#f1b6da\"], [0.4, \"#fde0ef\"], [0.5, \"#f7f7f7\"], [0.6, \"#e6f5d0\"], [0.7, \"#b8e186\"], [0.8, \"#7fbc41\"], [0.9, \"#4d9221\"], [1, \"#276419\"]], \"sequential\": [[0.0, \"#0d0887\"], [0.1111111111111111, \"#46039f\"], [0.2222222222222222, \"#7201a8\"], [0.3333333333333333, \"#9c179e\"], [0.4444444444444444, \"#bd3786\"], [0.5555555555555556, \"#d8576b\"], [0.6666666666666666, \"#ed7953\"], [0.7777777777777778, \"#fb9f3a\"], [0.8888888888888888, \"#fdca26\"], [1.0, \"#f0f921\"]], \"sequentialminus\": [[0.0, \"#0d0887\"], [0.1111111111111111, \"#46039f\"], [0.2222222222222222, \"#7201a8\"], [0.3333333333333333, \"#9c179e\"], [0.4444444444444444, \"#bd3786\"], [0.5555555555555556, \"#d8576b\"], [0.6666666666666666, \"#ed7953\"], [0.7777777777777778, \"#fb9f3a\"], [0.8888888888888888, \"#fdca26\"], [1.0, \"#f0f921\"]]}, \"colorway\": [\"#636efa\", \"#EF553B\", \"#00cc96\", \"#ab63fa\", \"#FFA15A\", \"#19d3f3\", \"#FF6692\", \"#B6E880\", \"#FF97FF\", \"#FECB52\"], \"font\": {\"color\": \"#2a3f5f\"}, \"geo\": {\"bgcolor\": \"white\", \"lakecolor\": \"white\", \"landcolor\": \"#E5ECF6\", \"showlakes\": true, \"showland\": true, \"subunitcolor\": \"white\"}, \"hoverlabel\": {\"align\": \"left\"}, \"hovermode\": \"closest\", \"mapbox\": {\"style\": \"light\"}, \"paper_bgcolor\": \"white\", \"plot_bgcolor\": \"#E5ECF6\", \"polar\": {\"angularaxis\": {\"gridcolor\": \"white\", \"linecolor\": \"white\", \"ticks\": \"\"}, \"bgcolor\": \"#E5ECF6\", \"radialaxis\": {\"gridcolor\": \"white\", \"linecolor\": \"white\", \"ticks\": \"\"}}, \"scene\": {\"xaxis\": {\"backgroundcolor\": \"#E5ECF6\", \"gridcolor\": \"white\", \"gridwidth\": 2, \"linecolor\": \"white\", \"showbackground\": true, \"ticks\": \"\", \"zerolinecolor\": \"white\"}, \"yaxis\": {\"backgroundcolor\": \"#E5ECF6\", \"gridcolor\": \"white\", \"gridwidth\": 2, \"linecolor\": \"white\", \"showbackground\": true, \"ticks\": \"\", \"zerolinecolor\": \"white\"}, \"zaxis\": {\"backgroundcolor\": \"#E5ECF6\", \"gridcolor\": \"white\", \"gridwidth\": 2, \"linecolor\": \"white\", \"showbackground\": true, \"ticks\": \"\", \"zerolinecolor\": \"white\"}}, \"shapedefaults\": {\"line\": {\"color\": \"#2a3f5f\"}}, \"ternary\": {\"aaxis\": {\"gridcolor\": \"white\", \"linecolor\": \"white\", \"ticks\": \"\"}, \"baxis\": {\"gridcolor\": \"white\", \"linecolor\": \"white\", \"ticks\": \"\"}, \"bgcolor\": \"#E5ECF6\", \"caxis\": {\"gridcolor\": \"white\", \"linecolor\": \"white\", \"ticks\": \"\"}}, \"title\": {\"x\": 0.05}, \"xaxis\": {\"automargin\": true, \"gridcolor\": \"white\", \"linecolor\": \"white\", \"ticks\": \"\", \"title\": {\"standoff\": 15}, \"zerolinecolor\": \"white\", \"zerolinewidth\": 2}, \"yaxis\": {\"automargin\": true, \"gridcolor\": \"white\", \"linecolor\": \"white\", \"ticks\": \"\", \"title\": {\"standoff\": 15}, \"zerolinecolor\": \"white\", \"zerolinewidth\": 2}}}, \"title\": {\"font\": {\"color\": \"#4D5663\"}}, \"xaxis\": {\"gridcolor\": \"#E1E5ED\", \"showgrid\": true, \"tickfont\": {\"color\": \"#4D5663\"}, \"title\": {\"font\": {\"color\": \"#4D5663\"}, \"text\": \"\"}, \"zerolinecolor\": \"#E1E5ED\"}, \"yaxis\": {\"gridcolor\": \"#E1E5ED\", \"showgrid\": true, \"tickfont\": {\"color\": \"#4D5663\"}, \"title\": {\"font\": {\"color\": \"#4D5663\"}, \"text\": \"\"}, \"zerolinecolor\": \"#E1E5ED\"}},\n",
       "                        {\"showLink\": true, \"linkText\": \"Export to plot.ly\", \"plotlyServerURL\": \"https://plot.ly\", \"responsive\": true}\n",
       "                    ).then(function(){\n",
       "                            \n",
       "var gd = document.getElementById('39ce807b-a460-47e3-bbeb-9cf04cb4cfa6');\n",
       "var x = new MutationObserver(function (mutations, observer) {{\n",
       "        var display = window.getComputedStyle(gd).display;\n",
       "        if (!display || display === 'none') {{\n",
       "            console.log([gd, 'removed!']);\n",
       "            Plotly.purge(gd);\n",
       "            observer.disconnect();\n",
       "        }}\n",
       "}});\n",
       "\n",
       "// Listen for the removal of the full notebook cells\n",
       "var notebookContainer = gd.closest('#notebook-container');\n",
       "if (notebookContainer) {{\n",
       "    x.observe(notebookContainer, {childList: true});\n",
       "}}\n",
       "\n",
       "// Listen for the clearing of the current output cell\n",
       "var outputEl = gd.closest('.output');\n",
       "if (outputEl) {{\n",
       "    x.observe(outputEl, {childList: true});\n",
       "}}\n",
       "\n",
       "                        })\n",
       "                };\n",
       "                });\n",
       "            </script>\n",
       "        </div>"
      ]
     },
     "metadata": {},
     "output_type": "display_data"
    }
   ],
   "source": [
    "df.sum().iplot(kind='bar')"
   ]
  },
  {
   "cell_type": "code",
   "execution_count": 26,
   "metadata": {},
   "outputs": [
    {
     "data": {
      "application/vnd.plotly.v1+json": {
       "config": {
        "linkText": "Export to plot.ly",
        "plotlyServerURL": "https://plot.ly",
        "showLink": true
       },
       "data": [
        {
         "marker": {
          "color": "rgba(255, 153, 51, 0.6)",
          "line": {
           "color": "rgba(255, 153, 51, 1.0)",
           "width": 1
          }
         },
         "name": "None",
         "orientation": "v",
         "text": "",
         "type": "bar",
         "x": [
          "A",
          "B",
          "C",
          "D"
         ],
         "y": [
          100,
          100,
          100,
          100
         ]
        }
       ],
       "layout": {
        "legend": {
         "bgcolor": "#F5F6F9",
         "font": {
          "color": "#4D5663"
         }
        },
        "paper_bgcolor": "#F5F6F9",
        "plot_bgcolor": "#F5F6F9",
        "template": {
         "data": {
          "bar": [
           {
            "error_x": {
             "color": "#2a3f5f"
            },
            "error_y": {
             "color": "#2a3f5f"
            },
            "marker": {
             "line": {
              "color": "#E5ECF6",
              "width": 0.5
             }
            },
            "type": "bar"
           }
          ],
          "barpolar": [
           {
            "marker": {
             "line": {
              "color": "#E5ECF6",
              "width": 0.5
             }
            },
            "type": "barpolar"
           }
          ],
          "carpet": [
           {
            "aaxis": {
             "endlinecolor": "#2a3f5f",
             "gridcolor": "white",
             "linecolor": "white",
             "minorgridcolor": "white",
             "startlinecolor": "#2a3f5f"
            },
            "baxis": {
             "endlinecolor": "#2a3f5f",
             "gridcolor": "white",
             "linecolor": "white",
             "minorgridcolor": "white",
             "startlinecolor": "#2a3f5f"
            },
            "type": "carpet"
           }
          ],
          "choropleth": [
           {
            "colorbar": {
             "outlinewidth": 0,
             "ticks": ""
            },
            "type": "choropleth"
           }
          ],
          "contour": [
           {
            "colorbar": {
             "outlinewidth": 0,
             "ticks": ""
            },
            "colorscale": [
             [
              0,
              "#0d0887"
             ],
             [
              0.1111111111111111,
              "#46039f"
             ],
             [
              0.2222222222222222,
              "#7201a8"
             ],
             [
              0.3333333333333333,
              "#9c179e"
             ],
             [
              0.4444444444444444,
              "#bd3786"
             ],
             [
              0.5555555555555556,
              "#d8576b"
             ],
             [
              0.6666666666666666,
              "#ed7953"
             ],
             [
              0.7777777777777778,
              "#fb9f3a"
             ],
             [
              0.8888888888888888,
              "#fdca26"
             ],
             [
              1,
              "#f0f921"
             ]
            ],
            "type": "contour"
           }
          ],
          "contourcarpet": [
           {
            "colorbar": {
             "outlinewidth": 0,
             "ticks": ""
            },
            "type": "contourcarpet"
           }
          ],
          "heatmap": [
           {
            "colorbar": {
             "outlinewidth": 0,
             "ticks": ""
            },
            "colorscale": [
             [
              0,
              "#0d0887"
             ],
             [
              0.1111111111111111,
              "#46039f"
             ],
             [
              0.2222222222222222,
              "#7201a8"
             ],
             [
              0.3333333333333333,
              "#9c179e"
             ],
             [
              0.4444444444444444,
              "#bd3786"
             ],
             [
              0.5555555555555556,
              "#d8576b"
             ],
             [
              0.6666666666666666,
              "#ed7953"
             ],
             [
              0.7777777777777778,
              "#fb9f3a"
             ],
             [
              0.8888888888888888,
              "#fdca26"
             ],
             [
              1,
              "#f0f921"
             ]
            ],
            "type": "heatmap"
           }
          ],
          "heatmapgl": [
           {
            "colorbar": {
             "outlinewidth": 0,
             "ticks": ""
            },
            "colorscale": [
             [
              0,
              "#0d0887"
             ],
             [
              0.1111111111111111,
              "#46039f"
             ],
             [
              0.2222222222222222,
              "#7201a8"
             ],
             [
              0.3333333333333333,
              "#9c179e"
             ],
             [
              0.4444444444444444,
              "#bd3786"
             ],
             [
              0.5555555555555556,
              "#d8576b"
             ],
             [
              0.6666666666666666,
              "#ed7953"
             ],
             [
              0.7777777777777778,
              "#fb9f3a"
             ],
             [
              0.8888888888888888,
              "#fdca26"
             ],
             [
              1,
              "#f0f921"
             ]
            ],
            "type": "heatmapgl"
           }
          ],
          "histogram": [
           {
            "marker": {
             "colorbar": {
              "outlinewidth": 0,
              "ticks": ""
             }
            },
            "type": "histogram"
           }
          ],
          "histogram2d": [
           {
            "colorbar": {
             "outlinewidth": 0,
             "ticks": ""
            },
            "colorscale": [
             [
              0,
              "#0d0887"
             ],
             [
              0.1111111111111111,
              "#46039f"
             ],
             [
              0.2222222222222222,
              "#7201a8"
             ],
             [
              0.3333333333333333,
              "#9c179e"
             ],
             [
              0.4444444444444444,
              "#bd3786"
             ],
             [
              0.5555555555555556,
              "#d8576b"
             ],
             [
              0.6666666666666666,
              "#ed7953"
             ],
             [
              0.7777777777777778,
              "#fb9f3a"
             ],
             [
              0.8888888888888888,
              "#fdca26"
             ],
             [
              1,
              "#f0f921"
             ]
            ],
            "type": "histogram2d"
           }
          ],
          "histogram2dcontour": [
           {
            "colorbar": {
             "outlinewidth": 0,
             "ticks": ""
            },
            "colorscale": [
             [
              0,
              "#0d0887"
             ],
             [
              0.1111111111111111,
              "#46039f"
             ],
             [
              0.2222222222222222,
              "#7201a8"
             ],
             [
              0.3333333333333333,
              "#9c179e"
             ],
             [
              0.4444444444444444,
              "#bd3786"
             ],
             [
              0.5555555555555556,
              "#d8576b"
             ],
             [
              0.6666666666666666,
              "#ed7953"
             ],
             [
              0.7777777777777778,
              "#fb9f3a"
             ],
             [
              0.8888888888888888,
              "#fdca26"
             ],
             [
              1,
              "#f0f921"
             ]
            ],
            "type": "histogram2dcontour"
           }
          ],
          "mesh3d": [
           {
            "colorbar": {
             "outlinewidth": 0,
             "ticks": ""
            },
            "type": "mesh3d"
           }
          ],
          "parcoords": [
           {
            "line": {
             "colorbar": {
              "outlinewidth": 0,
              "ticks": ""
             }
            },
            "type": "parcoords"
           }
          ],
          "pie": [
           {
            "automargin": true,
            "type": "pie"
           }
          ],
          "scatter": [
           {
            "marker": {
             "colorbar": {
              "outlinewidth": 0,
              "ticks": ""
             }
            },
            "type": "scatter"
           }
          ],
          "scatter3d": [
           {
            "line": {
             "colorbar": {
              "outlinewidth": 0,
              "ticks": ""
             }
            },
            "marker": {
             "colorbar": {
              "outlinewidth": 0,
              "ticks": ""
             }
            },
            "type": "scatter3d"
           }
          ],
          "scattercarpet": [
           {
            "marker": {
             "colorbar": {
              "outlinewidth": 0,
              "ticks": ""
             }
            },
            "type": "scattercarpet"
           }
          ],
          "scattergeo": [
           {
            "marker": {
             "colorbar": {
              "outlinewidth": 0,
              "ticks": ""
             }
            },
            "type": "scattergeo"
           }
          ],
          "scattergl": [
           {
            "marker": {
             "colorbar": {
              "outlinewidth": 0,
              "ticks": ""
             }
            },
            "type": "scattergl"
           }
          ],
          "scattermapbox": [
           {
            "marker": {
             "colorbar": {
              "outlinewidth": 0,
              "ticks": ""
             }
            },
            "type": "scattermapbox"
           }
          ],
          "scatterpolar": [
           {
            "marker": {
             "colorbar": {
              "outlinewidth": 0,
              "ticks": ""
             }
            },
            "type": "scatterpolar"
           }
          ],
          "scatterpolargl": [
           {
            "marker": {
             "colorbar": {
              "outlinewidth": 0,
              "ticks": ""
             }
            },
            "type": "scatterpolargl"
           }
          ],
          "scatterternary": [
           {
            "marker": {
             "colorbar": {
              "outlinewidth": 0,
              "ticks": ""
             }
            },
            "type": "scatterternary"
           }
          ],
          "surface": [
           {
            "colorbar": {
             "outlinewidth": 0,
             "ticks": ""
            },
            "colorscale": [
             [
              0,
              "#0d0887"
             ],
             [
              0.1111111111111111,
              "#46039f"
             ],
             [
              0.2222222222222222,
              "#7201a8"
             ],
             [
              0.3333333333333333,
              "#9c179e"
             ],
             [
              0.4444444444444444,
              "#bd3786"
             ],
             [
              0.5555555555555556,
              "#d8576b"
             ],
             [
              0.6666666666666666,
              "#ed7953"
             ],
             [
              0.7777777777777778,
              "#fb9f3a"
             ],
             [
              0.8888888888888888,
              "#fdca26"
             ],
             [
              1,
              "#f0f921"
             ]
            ],
            "type": "surface"
           }
          ],
          "table": [
           {
            "cells": {
             "fill": {
              "color": "#EBF0F8"
             },
             "line": {
              "color": "white"
             }
            },
            "header": {
             "fill": {
              "color": "#C8D4E3"
             },
             "line": {
              "color": "white"
             }
            },
            "type": "table"
           }
          ]
         },
         "layout": {
          "annotationdefaults": {
           "arrowcolor": "#2a3f5f",
           "arrowhead": 0,
           "arrowwidth": 1
          },
          "coloraxis": {
           "colorbar": {
            "outlinewidth": 0,
            "ticks": ""
           }
          },
          "colorscale": {
           "diverging": [
            [
             0,
             "#8e0152"
            ],
            [
             0.1,
             "#c51b7d"
            ],
            [
             0.2,
             "#de77ae"
            ],
            [
             0.3,
             "#f1b6da"
            ],
            [
             0.4,
             "#fde0ef"
            ],
            [
             0.5,
             "#f7f7f7"
            ],
            [
             0.6,
             "#e6f5d0"
            ],
            [
             0.7,
             "#b8e186"
            ],
            [
             0.8,
             "#7fbc41"
            ],
            [
             0.9,
             "#4d9221"
            ],
            [
             1,
             "#276419"
            ]
           ],
           "sequential": [
            [
             0,
             "#0d0887"
            ],
            [
             0.1111111111111111,
             "#46039f"
            ],
            [
             0.2222222222222222,
             "#7201a8"
            ],
            [
             0.3333333333333333,
             "#9c179e"
            ],
            [
             0.4444444444444444,
             "#bd3786"
            ],
            [
             0.5555555555555556,
             "#d8576b"
            ],
            [
             0.6666666666666666,
             "#ed7953"
            ],
            [
             0.7777777777777778,
             "#fb9f3a"
            ],
            [
             0.8888888888888888,
             "#fdca26"
            ],
            [
             1,
             "#f0f921"
            ]
           ],
           "sequentialminus": [
            [
             0,
             "#0d0887"
            ],
            [
             0.1111111111111111,
             "#46039f"
            ],
            [
             0.2222222222222222,
             "#7201a8"
            ],
            [
             0.3333333333333333,
             "#9c179e"
            ],
            [
             0.4444444444444444,
             "#bd3786"
            ],
            [
             0.5555555555555556,
             "#d8576b"
            ],
            [
             0.6666666666666666,
             "#ed7953"
            ],
            [
             0.7777777777777778,
             "#fb9f3a"
            ],
            [
             0.8888888888888888,
             "#fdca26"
            ],
            [
             1,
             "#f0f921"
            ]
           ]
          },
          "colorway": [
           "#636efa",
           "#EF553B",
           "#00cc96",
           "#ab63fa",
           "#FFA15A",
           "#19d3f3",
           "#FF6692",
           "#B6E880",
           "#FF97FF",
           "#FECB52"
          ],
          "font": {
           "color": "#2a3f5f"
          },
          "geo": {
           "bgcolor": "white",
           "lakecolor": "white",
           "landcolor": "#E5ECF6",
           "showlakes": true,
           "showland": true,
           "subunitcolor": "white"
          },
          "hoverlabel": {
           "align": "left"
          },
          "hovermode": "closest",
          "mapbox": {
           "style": "light"
          },
          "paper_bgcolor": "white",
          "plot_bgcolor": "#E5ECF6",
          "polar": {
           "angularaxis": {
            "gridcolor": "white",
            "linecolor": "white",
            "ticks": ""
           },
           "bgcolor": "#E5ECF6",
           "radialaxis": {
            "gridcolor": "white",
            "linecolor": "white",
            "ticks": ""
           }
          },
          "scene": {
           "xaxis": {
            "backgroundcolor": "#E5ECF6",
            "gridcolor": "white",
            "gridwidth": 2,
            "linecolor": "white",
            "showbackground": true,
            "ticks": "",
            "zerolinecolor": "white"
           },
           "yaxis": {
            "backgroundcolor": "#E5ECF6",
            "gridcolor": "white",
            "gridwidth": 2,
            "linecolor": "white",
            "showbackground": true,
            "ticks": "",
            "zerolinecolor": "white"
           },
           "zaxis": {
            "backgroundcolor": "#E5ECF6",
            "gridcolor": "white",
            "gridwidth": 2,
            "linecolor": "white",
            "showbackground": true,
            "ticks": "",
            "zerolinecolor": "white"
           }
          },
          "shapedefaults": {
           "line": {
            "color": "#2a3f5f"
           }
          },
          "ternary": {
           "aaxis": {
            "gridcolor": "white",
            "linecolor": "white",
            "ticks": ""
           },
           "baxis": {
            "gridcolor": "white",
            "linecolor": "white",
            "ticks": ""
           },
           "bgcolor": "#E5ECF6",
           "caxis": {
            "gridcolor": "white",
            "linecolor": "white",
            "ticks": ""
           }
          },
          "title": {
           "x": 0.05
          },
          "xaxis": {
           "automargin": true,
           "gridcolor": "white",
           "linecolor": "white",
           "ticks": "",
           "title": {
            "standoff": 15
           },
           "zerolinecolor": "white",
           "zerolinewidth": 2
          },
          "yaxis": {
           "automargin": true,
           "gridcolor": "white",
           "linecolor": "white",
           "ticks": "",
           "title": {
            "standoff": 15
           },
           "zerolinecolor": "white",
           "zerolinewidth": 2
          }
         }
        },
        "title": {
         "font": {
          "color": "#4D5663"
         }
        },
        "xaxis": {
         "gridcolor": "#E1E5ED",
         "showgrid": true,
         "tickfont": {
          "color": "#4D5663"
         },
         "title": {
          "font": {
           "color": "#4D5663"
          },
          "text": ""
         },
         "zerolinecolor": "#E1E5ED"
        },
        "yaxis": {
         "gridcolor": "#E1E5ED",
         "showgrid": true,
         "tickfont": {
          "color": "#4D5663"
         },
         "title": {
          "font": {
           "color": "#4D5663"
          },
          "text": ""
         },
         "zerolinecolor": "#E1E5ED"
        }
       }
      },
      "text/html": [
       "<div>\n",
       "        \n",
       "        \n",
       "            <div id=\"026d2f15-cd07-47d9-8180-d231ad8d5cae\" class=\"plotly-graph-div\" style=\"height:525px; width:100%;\"></div>\n",
       "            <script type=\"text/javascript\">\n",
       "                require([\"plotly\"], function(Plotly) {\n",
       "                    window.PLOTLYENV=window.PLOTLYENV || {};\n",
       "                    window.PLOTLYENV.BASE_URL='https://plot.ly';\n",
       "                    \n",
       "                if (document.getElementById(\"026d2f15-cd07-47d9-8180-d231ad8d5cae\")) {\n",
       "                    Plotly.newPlot(\n",
       "                        '026d2f15-cd07-47d9-8180-d231ad8d5cae',\n",
       "                        [{\"marker\": {\"color\": \"rgba(255, 153, 51, 0.6)\", \"line\": {\"color\": \"rgba(255, 153, 51, 1.0)\", \"width\": 1}}, \"name\": \"None\", \"orientation\": \"v\", \"text\": \"\", \"type\": \"bar\", \"x\": [\"A\", \"B\", \"C\", \"D\"], \"y\": [100, 100, 100, 100]}],\n",
       "                        {\"legend\": {\"bgcolor\": \"#F5F6F9\", \"font\": {\"color\": \"#4D5663\"}}, \"paper_bgcolor\": \"#F5F6F9\", \"plot_bgcolor\": \"#F5F6F9\", \"template\": {\"data\": {\"bar\": [{\"error_x\": {\"color\": \"#2a3f5f\"}, \"error_y\": {\"color\": \"#2a3f5f\"}, \"marker\": {\"line\": {\"color\": \"#E5ECF6\", \"width\": 0.5}}, \"type\": \"bar\"}], \"barpolar\": [{\"marker\": {\"line\": {\"color\": \"#E5ECF6\", \"width\": 0.5}}, \"type\": \"barpolar\"}], \"carpet\": [{\"aaxis\": {\"endlinecolor\": \"#2a3f5f\", \"gridcolor\": \"white\", \"linecolor\": \"white\", \"minorgridcolor\": \"white\", \"startlinecolor\": \"#2a3f5f\"}, \"baxis\": {\"endlinecolor\": \"#2a3f5f\", \"gridcolor\": \"white\", \"linecolor\": \"white\", \"minorgridcolor\": \"white\", \"startlinecolor\": \"#2a3f5f\"}, \"type\": \"carpet\"}], \"choropleth\": [{\"colorbar\": {\"outlinewidth\": 0, \"ticks\": \"\"}, \"type\": \"choropleth\"}], \"contour\": [{\"colorbar\": {\"outlinewidth\": 0, \"ticks\": \"\"}, \"colorscale\": [[0.0, \"#0d0887\"], [0.1111111111111111, \"#46039f\"], [0.2222222222222222, \"#7201a8\"], [0.3333333333333333, \"#9c179e\"], [0.4444444444444444, \"#bd3786\"], [0.5555555555555556, \"#d8576b\"], [0.6666666666666666, \"#ed7953\"], [0.7777777777777778, \"#fb9f3a\"], [0.8888888888888888, \"#fdca26\"], [1.0, \"#f0f921\"]], \"type\": \"contour\"}], \"contourcarpet\": [{\"colorbar\": {\"outlinewidth\": 0, \"ticks\": \"\"}, \"type\": \"contourcarpet\"}], \"heatmap\": [{\"colorbar\": {\"outlinewidth\": 0, \"ticks\": \"\"}, \"colorscale\": [[0.0, \"#0d0887\"], [0.1111111111111111, \"#46039f\"], [0.2222222222222222, \"#7201a8\"], [0.3333333333333333, \"#9c179e\"], [0.4444444444444444, \"#bd3786\"], [0.5555555555555556, \"#d8576b\"], [0.6666666666666666, \"#ed7953\"], [0.7777777777777778, \"#fb9f3a\"], [0.8888888888888888, \"#fdca26\"], [1.0, \"#f0f921\"]], \"type\": \"heatmap\"}], \"heatmapgl\": [{\"colorbar\": {\"outlinewidth\": 0, \"ticks\": \"\"}, \"colorscale\": [[0.0, \"#0d0887\"], [0.1111111111111111, \"#46039f\"], [0.2222222222222222, \"#7201a8\"], [0.3333333333333333, \"#9c179e\"], [0.4444444444444444, \"#bd3786\"], [0.5555555555555556, \"#d8576b\"], [0.6666666666666666, \"#ed7953\"], [0.7777777777777778, \"#fb9f3a\"], [0.8888888888888888, \"#fdca26\"], [1.0, \"#f0f921\"]], \"type\": \"heatmapgl\"}], \"histogram\": [{\"marker\": {\"colorbar\": {\"outlinewidth\": 0, \"ticks\": \"\"}}, \"type\": \"histogram\"}], \"histogram2d\": [{\"colorbar\": {\"outlinewidth\": 0, \"ticks\": \"\"}, \"colorscale\": [[0.0, \"#0d0887\"], [0.1111111111111111, \"#46039f\"], [0.2222222222222222, \"#7201a8\"], [0.3333333333333333, \"#9c179e\"], [0.4444444444444444, \"#bd3786\"], [0.5555555555555556, \"#d8576b\"], [0.6666666666666666, \"#ed7953\"], [0.7777777777777778, \"#fb9f3a\"], [0.8888888888888888, \"#fdca26\"], [1.0, \"#f0f921\"]], \"type\": \"histogram2d\"}], \"histogram2dcontour\": [{\"colorbar\": {\"outlinewidth\": 0, \"ticks\": \"\"}, \"colorscale\": [[0.0, \"#0d0887\"], [0.1111111111111111, \"#46039f\"], [0.2222222222222222, \"#7201a8\"], [0.3333333333333333, \"#9c179e\"], [0.4444444444444444, \"#bd3786\"], [0.5555555555555556, \"#d8576b\"], [0.6666666666666666, \"#ed7953\"], [0.7777777777777778, \"#fb9f3a\"], [0.8888888888888888, \"#fdca26\"], [1.0, \"#f0f921\"]], \"type\": \"histogram2dcontour\"}], \"mesh3d\": [{\"colorbar\": {\"outlinewidth\": 0, \"ticks\": \"\"}, \"type\": \"mesh3d\"}], \"parcoords\": [{\"line\": {\"colorbar\": {\"outlinewidth\": 0, \"ticks\": \"\"}}, \"type\": \"parcoords\"}], \"pie\": [{\"automargin\": true, \"type\": \"pie\"}], \"scatter\": [{\"marker\": {\"colorbar\": {\"outlinewidth\": 0, \"ticks\": \"\"}}, \"type\": \"scatter\"}], \"scatter3d\": [{\"line\": {\"colorbar\": {\"outlinewidth\": 0, \"ticks\": \"\"}}, \"marker\": {\"colorbar\": {\"outlinewidth\": 0, \"ticks\": \"\"}}, \"type\": \"scatter3d\"}], \"scattercarpet\": [{\"marker\": {\"colorbar\": {\"outlinewidth\": 0, \"ticks\": \"\"}}, \"type\": \"scattercarpet\"}], \"scattergeo\": [{\"marker\": {\"colorbar\": {\"outlinewidth\": 0, \"ticks\": \"\"}}, \"type\": \"scattergeo\"}], \"scattergl\": [{\"marker\": {\"colorbar\": {\"outlinewidth\": 0, \"ticks\": \"\"}}, \"type\": \"scattergl\"}], \"scattermapbox\": [{\"marker\": {\"colorbar\": {\"outlinewidth\": 0, \"ticks\": \"\"}}, \"type\": \"scattermapbox\"}], \"scatterpolar\": [{\"marker\": {\"colorbar\": {\"outlinewidth\": 0, \"ticks\": \"\"}}, \"type\": \"scatterpolar\"}], \"scatterpolargl\": [{\"marker\": {\"colorbar\": {\"outlinewidth\": 0, \"ticks\": \"\"}}, \"type\": \"scatterpolargl\"}], \"scatterternary\": [{\"marker\": {\"colorbar\": {\"outlinewidth\": 0, \"ticks\": \"\"}}, \"type\": \"scatterternary\"}], \"surface\": [{\"colorbar\": {\"outlinewidth\": 0, \"ticks\": \"\"}, \"colorscale\": [[0.0, \"#0d0887\"], [0.1111111111111111, \"#46039f\"], [0.2222222222222222, \"#7201a8\"], [0.3333333333333333, \"#9c179e\"], [0.4444444444444444, \"#bd3786\"], [0.5555555555555556, \"#d8576b\"], [0.6666666666666666, \"#ed7953\"], [0.7777777777777778, \"#fb9f3a\"], [0.8888888888888888, \"#fdca26\"], [1.0, \"#f0f921\"]], \"type\": \"surface\"}], \"table\": [{\"cells\": {\"fill\": {\"color\": \"#EBF0F8\"}, \"line\": {\"color\": \"white\"}}, \"header\": {\"fill\": {\"color\": \"#C8D4E3\"}, \"line\": {\"color\": \"white\"}}, \"type\": \"table\"}]}, \"layout\": {\"annotationdefaults\": {\"arrowcolor\": \"#2a3f5f\", \"arrowhead\": 0, \"arrowwidth\": 1}, \"coloraxis\": {\"colorbar\": {\"outlinewidth\": 0, \"ticks\": \"\"}}, \"colorscale\": {\"diverging\": [[0, \"#8e0152\"], [0.1, \"#c51b7d\"], [0.2, \"#de77ae\"], [0.3, \"#f1b6da\"], [0.4, \"#fde0ef\"], [0.5, \"#f7f7f7\"], [0.6, \"#e6f5d0\"], [0.7, \"#b8e186\"], [0.8, \"#7fbc41\"], [0.9, \"#4d9221\"], [1, \"#276419\"]], \"sequential\": [[0.0, \"#0d0887\"], [0.1111111111111111, \"#46039f\"], [0.2222222222222222, \"#7201a8\"], [0.3333333333333333, \"#9c179e\"], [0.4444444444444444, \"#bd3786\"], [0.5555555555555556, \"#d8576b\"], [0.6666666666666666, \"#ed7953\"], [0.7777777777777778, \"#fb9f3a\"], [0.8888888888888888, \"#fdca26\"], [1.0, \"#f0f921\"]], \"sequentialminus\": [[0.0, \"#0d0887\"], [0.1111111111111111, \"#46039f\"], [0.2222222222222222, \"#7201a8\"], [0.3333333333333333, \"#9c179e\"], [0.4444444444444444, \"#bd3786\"], [0.5555555555555556, \"#d8576b\"], [0.6666666666666666, \"#ed7953\"], [0.7777777777777778, \"#fb9f3a\"], [0.8888888888888888, \"#fdca26\"], [1.0, \"#f0f921\"]]}, \"colorway\": [\"#636efa\", \"#EF553B\", \"#00cc96\", \"#ab63fa\", \"#FFA15A\", \"#19d3f3\", \"#FF6692\", \"#B6E880\", \"#FF97FF\", \"#FECB52\"], \"font\": {\"color\": \"#2a3f5f\"}, \"geo\": {\"bgcolor\": \"white\", \"lakecolor\": \"white\", \"landcolor\": \"#E5ECF6\", \"showlakes\": true, \"showland\": true, \"subunitcolor\": \"white\"}, \"hoverlabel\": {\"align\": \"left\"}, \"hovermode\": \"closest\", \"mapbox\": {\"style\": \"light\"}, \"paper_bgcolor\": \"white\", \"plot_bgcolor\": \"#E5ECF6\", \"polar\": {\"angularaxis\": {\"gridcolor\": \"white\", \"linecolor\": \"white\", \"ticks\": \"\"}, \"bgcolor\": \"#E5ECF6\", \"radialaxis\": {\"gridcolor\": \"white\", \"linecolor\": \"white\", \"ticks\": \"\"}}, \"scene\": {\"xaxis\": {\"backgroundcolor\": \"#E5ECF6\", \"gridcolor\": \"white\", \"gridwidth\": 2, \"linecolor\": \"white\", \"showbackground\": true, \"ticks\": \"\", \"zerolinecolor\": \"white\"}, \"yaxis\": {\"backgroundcolor\": \"#E5ECF6\", \"gridcolor\": \"white\", \"gridwidth\": 2, \"linecolor\": \"white\", \"showbackground\": true, \"ticks\": \"\", \"zerolinecolor\": \"white\"}, \"zaxis\": {\"backgroundcolor\": \"#E5ECF6\", \"gridcolor\": \"white\", \"gridwidth\": 2, \"linecolor\": \"white\", \"showbackground\": true, \"ticks\": \"\", \"zerolinecolor\": \"white\"}}, \"shapedefaults\": {\"line\": {\"color\": \"#2a3f5f\"}}, \"ternary\": {\"aaxis\": {\"gridcolor\": \"white\", \"linecolor\": \"white\", \"ticks\": \"\"}, \"baxis\": {\"gridcolor\": \"white\", \"linecolor\": \"white\", \"ticks\": \"\"}, \"bgcolor\": \"#E5ECF6\", \"caxis\": {\"gridcolor\": \"white\", \"linecolor\": \"white\", \"ticks\": \"\"}}, \"title\": {\"x\": 0.05}, \"xaxis\": {\"automargin\": true, \"gridcolor\": \"white\", \"linecolor\": \"white\", \"ticks\": \"\", \"title\": {\"standoff\": 15}, \"zerolinecolor\": \"white\", \"zerolinewidth\": 2}, \"yaxis\": {\"automargin\": true, \"gridcolor\": \"white\", \"linecolor\": \"white\", \"ticks\": \"\", \"title\": {\"standoff\": 15}, \"zerolinecolor\": \"white\", \"zerolinewidth\": 2}}}, \"title\": {\"font\": {\"color\": \"#4D5663\"}}, \"xaxis\": {\"gridcolor\": \"#E1E5ED\", \"showgrid\": true, \"tickfont\": {\"color\": \"#4D5663\"}, \"title\": {\"font\": {\"color\": \"#4D5663\"}, \"text\": \"\"}, \"zerolinecolor\": \"#E1E5ED\"}, \"yaxis\": {\"gridcolor\": \"#E1E5ED\", \"showgrid\": true, \"tickfont\": {\"color\": \"#4D5663\"}, \"title\": {\"font\": {\"color\": \"#4D5663\"}, \"text\": \"\"}, \"zerolinecolor\": \"#E1E5ED\"}},\n",
       "                        {\"showLink\": true, \"linkText\": \"Export to plot.ly\", \"plotlyServerURL\": \"https://plot.ly\", \"responsive\": true}\n",
       "                    ).then(function(){\n",
       "                            \n",
       "var gd = document.getElementById('026d2f15-cd07-47d9-8180-d231ad8d5cae');\n",
       "var x = new MutationObserver(function (mutations, observer) {{\n",
       "        var display = window.getComputedStyle(gd).display;\n",
       "        if (!display || display === 'none') {{\n",
       "            console.log([gd, 'removed!']);\n",
       "            Plotly.purge(gd);\n",
       "            observer.disconnect();\n",
       "        }}\n",
       "}});\n",
       "\n",
       "// Listen for the removal of the full notebook cells\n",
       "var notebookContainer = gd.closest('#notebook-container');\n",
       "if (notebookContainer) {{\n",
       "    x.observe(notebookContainer, {childList: true});\n",
       "}}\n",
       "\n",
       "// Listen for the clearing of the current output cell\n",
       "var outputEl = gd.closest('.output');\n",
       "if (outputEl) {{\n",
       "    x.observe(outputEl, {childList: true});\n",
       "}}\n",
       "\n",
       "                        })\n",
       "                };\n",
       "                });\n",
       "            </script>\n",
       "        </div>"
      ]
     },
     "metadata": {},
     "output_type": "display_data"
    }
   ],
   "source": [
    "df.count().iplot(kind='bar')"
   ]
  },
  {
   "cell_type": "code",
   "execution_count": 27,
   "metadata": {},
   "outputs": [
    {
     "data": {
      "application/vnd.plotly.v1+json": {
       "config": {
        "linkText": "Export to plot.ly",
        "plotlyServerURL": "https://plot.ly",
        "showLink": true
       },
       "data": [
        {
         "boxpoints": false,
         "line": {
          "width": 1.3
         },
         "marker": {
          "color": "rgba(255, 153, 51, 1.0)"
         },
         "name": "A",
         "orientation": "v",
         "type": "box",
         "y": [
          -0.13332898728486217,
          0.6049162173562118,
          -0.16177503105113158,
          0.2904262389514051,
          1.1562838099089574,
          -1.1848532417977728,
          0.8982273761327372,
          0.028278257948029965,
          -0.9868512173336761,
          0.6840821635822759,
          -0.7608168905347923,
          -0.4849772912292263,
          1.4103246726026462,
          -0.8217680536926046,
          -0.10584387485756273,
          0.0915326999720717,
          1.5868812487818433,
          1.4610332716855279,
          -0.296010479607427,
          -1.636326733107384,
          -0.494075647778116,
          1.254407911954291,
          -1.3259794161261163,
          0.46662695049174047,
          0.9930619033922193,
          -0.5176556953346497,
          0.4923565746528598,
          -0.30148014268246154,
          -0.4809887648149414,
          0.4820761832548575,
          0.9795666811263533,
          0.2290842534017007,
          0.36752354492950984,
          0.6168940590624284,
          0.4114722975292953,
          -0.20855183114206602,
          1.132181985806202,
          0.9935469114025697,
          0.016836190438973112,
          0.961885915997291,
          -1.783903976137237,
          -0.9587206963745689,
          -1.5379896533002744,
          -0.7128492071354146,
          -0.42738557738685895,
          0.4026918235878419,
          1.1185123034948807,
          1.1653431112356398,
          0.5260806281991431,
          0.2603131849043691,
          1.1467886882959684,
          -0.40965228755670074,
          0.7133917959352619,
          1.1250831270878798,
          0.817216553655222,
          1.4917512529186387,
          -0.5125131549706918,
          0.14776577406804275,
          0.21713674429031635,
          0.5477373667964758,
          -0.08254668451697868,
          -0.750904913226693,
          -0.48210838498018804,
          0.9105294888876799,
          0.8690776970323018,
          -0.95756608003841,
          -0.6806140558632705,
          -0.5565517022643965,
          -0.14106813094953835,
          0.17396554387381946,
          -2.041059568986403,
          -0.06075202622890458,
          -1.2553721922271923,
          0.740004930068497,
          0.6323495961138877,
          0.3758072565623964,
          0.3121515525987599,
          1.2167344648060452,
          -0.8148129555263465,
          -1.0423994099522742,
          -1.053758446029795,
          1.0591205959040673,
          0.624547701537553,
          0.4113627954704313,
          1.1811178417779826,
          1.0245574869849703,
          -0.09182695658014851,
          0.12237334974580312,
          -0.8312689468801848,
          0.31971330737792997,
          0.3882652757412495,
          -0.24487556089373985,
          1.211015675419331,
          0.2265724142315915,
          -0.6340086051558401,
          0.789035760998447,
          -0.428508620713086,
          -1.2083999122326243,
          -2.442220579365496,
          0.6181020168836062
         ]
        },
        {
         "boxpoints": false,
         "line": {
          "width": 1.3
         },
         "marker": {
          "color": "rgba(55, 128, 191, 1.0)"
         },
         "name": "B",
         "orientation": "v",
         "type": "box",
         "y": [
          0.877873119201991,
          -0.8871864835711982,
          -0.8779365085710115,
          0.16707982521148182,
          0.9770570964405164,
          -1.0210807539641042,
          -0.21179137664286418,
          -0.025274265344616083,
          -1.1092078640172551,
          -1.1521829664006475,
          -1.0678537312032441,
          0.881399073284442,
          -1.5472658310039031,
          0.42894438694587583,
          -0.5847667949359995,
          0.5861364661033456,
          -0.04141568970211862,
          1.6330695985806374,
          0.9136833206359156,
          2.0233395926138007,
          1.101142592370221,
          -0.5682038376230117,
          0.042882304288209314,
          -0.4047854558570145,
          -0.20925108081337035,
          0.7529358997543051,
          0.7407450265436628,
          -1.3607933912602541,
          0.3411301947962091,
          1.3151839384818036,
          0.3575314753592644,
          -1.3118340501498933,
          1.4279165133867213,
          -0.2559157130428562,
          0.4464527395079081,
          0.6658948694956442,
          0.7259355144620822,
          0.8235263881423511,
          -0.08484654956607927,
          1.8343974103662948,
          -0.4713263219195928,
          -0.8960723024860888,
          -0.30064987887889344,
          -0.4316502480055467,
          0.2857158451321729,
          -0.5736274210697178,
          2.5697362447985554,
          0.6277843390429633,
          -0.49445184097626804,
          0.8499163415546525,
          1.5785939994794886,
          -0.9821279273371802,
          -0.4739870836956822,
          -1.3416687809494725,
          0.984719136622916,
          -0.2741650591388619,
          1.4972102529508924,
          0.17436161357051014,
          -0.7460530393643999,
          0.4081345878441793,
          0.7508643479924706,
          0.007458631298474343,
          -2.356211944871521,
          1.2434124482978255,
          -0.9764707565302257,
          -0.9003187532037691,
          -0.6552946312368383,
          1.01863556348232,
          2.5093706224495755,
          -0.04773433274440632,
          1.0449119076216544,
          0.408730882028547,
          -0.11919913738978115,
          0.38587853161043395,
          -1.1517321753523175,
          1.6165054269845633,
          2.320370989305167,
          -0.97030489009854,
          0.03428818309439457,
          -0.567194415289803,
          -1.6004626492305494,
          0.7941768603034315,
          0.7850386433665631,
          1.5710577492336988,
          0.5925013415374528,
          1.3388239018740202,
          -1.493035583334954,
          0.8131093233548212,
          -0.06253088379133223,
          1.0761370002087423,
          1.6009510396615159,
          1.0372091416050686,
          0.24796801351280354,
          1.1619363392738358,
          -0.3941704306660358,
          -0.7976663790741948,
          1.7838229422786538,
          -1.6143395792946713,
          0.2445066278672296,
          -0.19001794744455636
         ]
        },
        {
         "boxpoints": false,
         "line": {
          "width": 1.3
         },
         "marker": {
          "color": "rgba(50, 171, 96, 1.0)"
         },
         "name": "C",
         "orientation": "v",
         "type": "box",
         "y": [
          -0.1949333377808265,
          1.2874718857137506,
          1.034828960634043,
          -1.250205626820457,
          -2.3140814312960223,
          0.4672105757577219,
          0.9336583380187081,
          -0.899465178637077,
          -0.23100800292281237,
          -0.4233280963663838,
          -0.8789825347499383,
          -0.23272103414254033,
          -0.687275448055291,
          -1.351898514290019,
          -0.29152858366285617,
          -0.5384074094042292,
          1.0899255578983433,
          0.3632462942202497,
          -0.31347150317497907,
          -0.6239556756762389,
          -0.5039547444225779,
          0.7470989284312591,
          0.5669270767827191,
          0.4053962663362149,
          0.7470319881233176,
          -0.7121268908435755,
          1.3781094180709663,
          0.4374773497359336,
          0.4200860244282493,
          0.7053171544932973,
          -0.6008008456387155,
          1.114826092770562,
          0.5183437897032463,
          -1.6875410078176634,
          -0.14119371767260377,
          -1.2318315718081576,
          1.094246490855967,
          -0.9357325966232735,
          -1.687124220557086,
          0.02834226044932334,
          -0.43635878228827285,
          0.19203209266547921,
          1.5017344421595056,
          -0.758789965263754,
          -0.48496529798553106,
          0.9112791466103329,
          -0.9065257161127248,
          0.15779465541686052,
          0.32598660502669086,
          -0.7494680676971873,
          0.8369842300027271,
          -0.1852978110964879,
          -0.8537190052680307,
          -1.328453836121312,
          0.8883999662666356,
          0.6745108463283488,
          -0.039512731797237334,
          -0.15152265482386013,
          -0.4053422246549689,
          1.091898283200699,
          0.3523894167516524,
          -0.8234261540482228,
          -0.3877115538256855,
          2.334372769081094,
          -1.2790254406427777,
          -0.05124559254107892,
          1.6034395642054087,
          -0.9702203612312997,
          -2.986537403890035,
          0.8768333360508807,
          -1.0955398315132059,
          -1.3184810057926308,
          0.4811947683684202,
          -0.9413875287749689,
          -0.09428344821563733,
          0.24313378679796052,
          -0.8705367986795014,
          0.33500633048508377,
          -0.23050141623667522,
          -0.4987736876364225,
          1.7595674249869988,
          -1.371365312362017,
          1.5153198832203851,
          -2.136172527562396,
          0.13909291969410825,
          -0.6749023176385337,
          0.280617133701145,
          -1.8513701473257176,
          -0.6285511875260519,
          1.0104658535811069,
          -0.005853284057386029,
          0.1096869174311675,
          -0.9210250890711749,
          1.7413864500446388,
          0.660042296473798,
          -1.3547562182632082,
          -0.9333532783173327,
          -0.1645621664866537,
          0.08988391435312298,
          -0.3005702765173331
         ]
        },
        {
         "boxpoints": false,
         "line": {
          "width": 1.3
         },
         "marker": {
          "color": "rgba(128, 0, 128, 1.0)"
         },
         "name": "D",
         "orientation": "v",
         "type": "box",
         "y": [
          -0.08270575823628525,
          0.5721288881350668,
          1.0693127747928544,
          1.5534994107776754,
          0.19406633148953562,
          -0.26233500689833983,
          1.5655280754438046,
          -0.18114075584586906,
          -0.009619968905033204,
          -0.9027686346935858,
          -0.214812512368609,
          -0.7364379842187003,
          -0.19198476000138007,
          0.18702643707197159,
          0.0433781027486577,
          -0.29137810972437495,
          -1.1978306132083452,
          0.41923085497089585,
          -0.31918684064943975,
          1.128602606672595,
          -1.7825520771222159,
          0.6030731735378128,
          -0.3564898191817619,
          -1.7844575714167668,
          -1.5335276217022513,
          -0.23179194788496277,
          1.0021641098970262,
          -0.6909673306044203,
          -1.6223983671173798,
          0.9163321161767722,
          -0.16823263095738714,
          -0.08943816895035614,
          0.29775873555054044,
          0.12574099999810487,
          -0.09456630256447097,
          -0.6611620609872069,
          0.21652645180452904,
          0.7244403439630475,
          0.6954520634005963,
          -1.5499491574713065,
          0.11562111541713081,
          -1.1221872789710325,
          1.6563204328441237,
          0.2952248151470929,
          -1.5686691986603534,
          -0.013048810598643025,
          -0.0742857139038019,
          0.7150980179301154,
          -0.7395795234598608,
          0.5989185284645229,
          -0.3093583703760894,
          -0.5115294388754472,
          -0.2561361894198458,
          -1.4477826014600563,
          0.5220337678598486,
          -2.0151186397299794,
          0.5886751789306843,
          -0.2327764475170766,
          0.5212684750945968,
          -0.3863966203198103,
          1.104088962904185,
          1.7129532254736584,
          0.44128179880332474,
          0.14979679828882936,
          -0.2519819766582173,
          0.6073456327874504,
          0.5990539129529934,
          0.41172165954198053,
          -0.93461312400278,
          1.6191205319381616,
          -0.7132980745026403,
          -0.6055073499449021,
          0.43331854221063015,
          1.312027745736751,
          0.22528511601214957,
          1.6434145615909932,
          0.3924455136917064,
          -0.44644815502010077,
          0.3990194329299282,
          0.3291683995399519,
          -0.9125345281980742,
          0.3008990483570197,
          0.10284225567393888,
          0.45990273680458116,
          0.5490036543010519,
          -0.5263979924439908,
          -0.9350994613038845,
          1.418678192436831,
          -0.3039213118658567,
          -1.3956681081474906,
          0.3520550174745357,
          -0.9795833300527587,
          0.7951530232992107,
          -1.1695000184850353,
          -1.9272619586717148,
          -0.7952510560311679,
          -1.146988594289629,
          -0.18338757979591955,
          -0.3083681940970879,
          -0.23394117014428933
         ]
        }
       ],
       "layout": {
        "legend": {
         "bgcolor": "#F5F6F9",
         "font": {
          "color": "#4D5663"
         }
        },
        "paper_bgcolor": "#F5F6F9",
        "plot_bgcolor": "#F5F6F9",
        "template": {
         "data": {
          "bar": [
           {
            "error_x": {
             "color": "#2a3f5f"
            },
            "error_y": {
             "color": "#2a3f5f"
            },
            "marker": {
             "line": {
              "color": "#E5ECF6",
              "width": 0.5
             }
            },
            "type": "bar"
           }
          ],
          "barpolar": [
           {
            "marker": {
             "line": {
              "color": "#E5ECF6",
              "width": 0.5
             }
            },
            "type": "barpolar"
           }
          ],
          "carpet": [
           {
            "aaxis": {
             "endlinecolor": "#2a3f5f",
             "gridcolor": "white",
             "linecolor": "white",
             "minorgridcolor": "white",
             "startlinecolor": "#2a3f5f"
            },
            "baxis": {
             "endlinecolor": "#2a3f5f",
             "gridcolor": "white",
             "linecolor": "white",
             "minorgridcolor": "white",
             "startlinecolor": "#2a3f5f"
            },
            "type": "carpet"
           }
          ],
          "choropleth": [
           {
            "colorbar": {
             "outlinewidth": 0,
             "ticks": ""
            },
            "type": "choropleth"
           }
          ],
          "contour": [
           {
            "colorbar": {
             "outlinewidth": 0,
             "ticks": ""
            },
            "colorscale": [
             [
              0,
              "#0d0887"
             ],
             [
              0.1111111111111111,
              "#46039f"
             ],
             [
              0.2222222222222222,
              "#7201a8"
             ],
             [
              0.3333333333333333,
              "#9c179e"
             ],
             [
              0.4444444444444444,
              "#bd3786"
             ],
             [
              0.5555555555555556,
              "#d8576b"
             ],
             [
              0.6666666666666666,
              "#ed7953"
             ],
             [
              0.7777777777777778,
              "#fb9f3a"
             ],
             [
              0.8888888888888888,
              "#fdca26"
             ],
             [
              1,
              "#f0f921"
             ]
            ],
            "type": "contour"
           }
          ],
          "contourcarpet": [
           {
            "colorbar": {
             "outlinewidth": 0,
             "ticks": ""
            },
            "type": "contourcarpet"
           }
          ],
          "heatmap": [
           {
            "colorbar": {
             "outlinewidth": 0,
             "ticks": ""
            },
            "colorscale": [
             [
              0,
              "#0d0887"
             ],
             [
              0.1111111111111111,
              "#46039f"
             ],
             [
              0.2222222222222222,
              "#7201a8"
             ],
             [
              0.3333333333333333,
              "#9c179e"
             ],
             [
              0.4444444444444444,
              "#bd3786"
             ],
             [
              0.5555555555555556,
              "#d8576b"
             ],
             [
              0.6666666666666666,
              "#ed7953"
             ],
             [
              0.7777777777777778,
              "#fb9f3a"
             ],
             [
              0.8888888888888888,
              "#fdca26"
             ],
             [
              1,
              "#f0f921"
             ]
            ],
            "type": "heatmap"
           }
          ],
          "heatmapgl": [
           {
            "colorbar": {
             "outlinewidth": 0,
             "ticks": ""
            },
            "colorscale": [
             [
              0,
              "#0d0887"
             ],
             [
              0.1111111111111111,
              "#46039f"
             ],
             [
              0.2222222222222222,
              "#7201a8"
             ],
             [
              0.3333333333333333,
              "#9c179e"
             ],
             [
              0.4444444444444444,
              "#bd3786"
             ],
             [
              0.5555555555555556,
              "#d8576b"
             ],
             [
              0.6666666666666666,
              "#ed7953"
             ],
             [
              0.7777777777777778,
              "#fb9f3a"
             ],
             [
              0.8888888888888888,
              "#fdca26"
             ],
             [
              1,
              "#f0f921"
             ]
            ],
            "type": "heatmapgl"
           }
          ],
          "histogram": [
           {
            "marker": {
             "colorbar": {
              "outlinewidth": 0,
              "ticks": ""
             }
            },
            "type": "histogram"
           }
          ],
          "histogram2d": [
           {
            "colorbar": {
             "outlinewidth": 0,
             "ticks": ""
            },
            "colorscale": [
             [
              0,
              "#0d0887"
             ],
             [
              0.1111111111111111,
              "#46039f"
             ],
             [
              0.2222222222222222,
              "#7201a8"
             ],
             [
              0.3333333333333333,
              "#9c179e"
             ],
             [
              0.4444444444444444,
              "#bd3786"
             ],
             [
              0.5555555555555556,
              "#d8576b"
             ],
             [
              0.6666666666666666,
              "#ed7953"
             ],
             [
              0.7777777777777778,
              "#fb9f3a"
             ],
             [
              0.8888888888888888,
              "#fdca26"
             ],
             [
              1,
              "#f0f921"
             ]
            ],
            "type": "histogram2d"
           }
          ],
          "histogram2dcontour": [
           {
            "colorbar": {
             "outlinewidth": 0,
             "ticks": ""
            },
            "colorscale": [
             [
              0,
              "#0d0887"
             ],
             [
              0.1111111111111111,
              "#46039f"
             ],
             [
              0.2222222222222222,
              "#7201a8"
             ],
             [
              0.3333333333333333,
              "#9c179e"
             ],
             [
              0.4444444444444444,
              "#bd3786"
             ],
             [
              0.5555555555555556,
              "#d8576b"
             ],
             [
              0.6666666666666666,
              "#ed7953"
             ],
             [
              0.7777777777777778,
              "#fb9f3a"
             ],
             [
              0.8888888888888888,
              "#fdca26"
             ],
             [
              1,
              "#f0f921"
             ]
            ],
            "type": "histogram2dcontour"
           }
          ],
          "mesh3d": [
           {
            "colorbar": {
             "outlinewidth": 0,
             "ticks": ""
            },
            "type": "mesh3d"
           }
          ],
          "parcoords": [
           {
            "line": {
             "colorbar": {
              "outlinewidth": 0,
              "ticks": ""
             }
            },
            "type": "parcoords"
           }
          ],
          "pie": [
           {
            "automargin": true,
            "type": "pie"
           }
          ],
          "scatter": [
           {
            "marker": {
             "colorbar": {
              "outlinewidth": 0,
              "ticks": ""
             }
            },
            "type": "scatter"
           }
          ],
          "scatter3d": [
           {
            "line": {
             "colorbar": {
              "outlinewidth": 0,
              "ticks": ""
             }
            },
            "marker": {
             "colorbar": {
              "outlinewidth": 0,
              "ticks": ""
             }
            },
            "type": "scatter3d"
           }
          ],
          "scattercarpet": [
           {
            "marker": {
             "colorbar": {
              "outlinewidth": 0,
              "ticks": ""
             }
            },
            "type": "scattercarpet"
           }
          ],
          "scattergeo": [
           {
            "marker": {
             "colorbar": {
              "outlinewidth": 0,
              "ticks": ""
             }
            },
            "type": "scattergeo"
           }
          ],
          "scattergl": [
           {
            "marker": {
             "colorbar": {
              "outlinewidth": 0,
              "ticks": ""
             }
            },
            "type": "scattergl"
           }
          ],
          "scattermapbox": [
           {
            "marker": {
             "colorbar": {
              "outlinewidth": 0,
              "ticks": ""
             }
            },
            "type": "scattermapbox"
           }
          ],
          "scatterpolar": [
           {
            "marker": {
             "colorbar": {
              "outlinewidth": 0,
              "ticks": ""
             }
            },
            "type": "scatterpolar"
           }
          ],
          "scatterpolargl": [
           {
            "marker": {
             "colorbar": {
              "outlinewidth": 0,
              "ticks": ""
             }
            },
            "type": "scatterpolargl"
           }
          ],
          "scatterternary": [
           {
            "marker": {
             "colorbar": {
              "outlinewidth": 0,
              "ticks": ""
             }
            },
            "type": "scatterternary"
           }
          ],
          "surface": [
           {
            "colorbar": {
             "outlinewidth": 0,
             "ticks": ""
            },
            "colorscale": [
             [
              0,
              "#0d0887"
             ],
             [
              0.1111111111111111,
              "#46039f"
             ],
             [
              0.2222222222222222,
              "#7201a8"
             ],
             [
              0.3333333333333333,
              "#9c179e"
             ],
             [
              0.4444444444444444,
              "#bd3786"
             ],
             [
              0.5555555555555556,
              "#d8576b"
             ],
             [
              0.6666666666666666,
              "#ed7953"
             ],
             [
              0.7777777777777778,
              "#fb9f3a"
             ],
             [
              0.8888888888888888,
              "#fdca26"
             ],
             [
              1,
              "#f0f921"
             ]
            ],
            "type": "surface"
           }
          ],
          "table": [
           {
            "cells": {
             "fill": {
              "color": "#EBF0F8"
             },
             "line": {
              "color": "white"
             }
            },
            "header": {
             "fill": {
              "color": "#C8D4E3"
             },
             "line": {
              "color": "white"
             }
            },
            "type": "table"
           }
          ]
         },
         "layout": {
          "annotationdefaults": {
           "arrowcolor": "#2a3f5f",
           "arrowhead": 0,
           "arrowwidth": 1
          },
          "coloraxis": {
           "colorbar": {
            "outlinewidth": 0,
            "ticks": ""
           }
          },
          "colorscale": {
           "diverging": [
            [
             0,
             "#8e0152"
            ],
            [
             0.1,
             "#c51b7d"
            ],
            [
             0.2,
             "#de77ae"
            ],
            [
             0.3,
             "#f1b6da"
            ],
            [
             0.4,
             "#fde0ef"
            ],
            [
             0.5,
             "#f7f7f7"
            ],
            [
             0.6,
             "#e6f5d0"
            ],
            [
             0.7,
             "#b8e186"
            ],
            [
             0.8,
             "#7fbc41"
            ],
            [
             0.9,
             "#4d9221"
            ],
            [
             1,
             "#276419"
            ]
           ],
           "sequential": [
            [
             0,
             "#0d0887"
            ],
            [
             0.1111111111111111,
             "#46039f"
            ],
            [
             0.2222222222222222,
             "#7201a8"
            ],
            [
             0.3333333333333333,
             "#9c179e"
            ],
            [
             0.4444444444444444,
             "#bd3786"
            ],
            [
             0.5555555555555556,
             "#d8576b"
            ],
            [
             0.6666666666666666,
             "#ed7953"
            ],
            [
             0.7777777777777778,
             "#fb9f3a"
            ],
            [
             0.8888888888888888,
             "#fdca26"
            ],
            [
             1,
             "#f0f921"
            ]
           ],
           "sequentialminus": [
            [
             0,
             "#0d0887"
            ],
            [
             0.1111111111111111,
             "#46039f"
            ],
            [
             0.2222222222222222,
             "#7201a8"
            ],
            [
             0.3333333333333333,
             "#9c179e"
            ],
            [
             0.4444444444444444,
             "#bd3786"
            ],
            [
             0.5555555555555556,
             "#d8576b"
            ],
            [
             0.6666666666666666,
             "#ed7953"
            ],
            [
             0.7777777777777778,
             "#fb9f3a"
            ],
            [
             0.8888888888888888,
             "#fdca26"
            ],
            [
             1,
             "#f0f921"
            ]
           ]
          },
          "colorway": [
           "#636efa",
           "#EF553B",
           "#00cc96",
           "#ab63fa",
           "#FFA15A",
           "#19d3f3",
           "#FF6692",
           "#B6E880",
           "#FF97FF",
           "#FECB52"
          ],
          "font": {
           "color": "#2a3f5f"
          },
          "geo": {
           "bgcolor": "white",
           "lakecolor": "white",
           "landcolor": "#E5ECF6",
           "showlakes": true,
           "showland": true,
           "subunitcolor": "white"
          },
          "hoverlabel": {
           "align": "left"
          },
          "hovermode": "closest",
          "mapbox": {
           "style": "light"
          },
          "paper_bgcolor": "white",
          "plot_bgcolor": "#E5ECF6",
          "polar": {
           "angularaxis": {
            "gridcolor": "white",
            "linecolor": "white",
            "ticks": ""
           },
           "bgcolor": "#E5ECF6",
           "radialaxis": {
            "gridcolor": "white",
            "linecolor": "white",
            "ticks": ""
           }
          },
          "scene": {
           "xaxis": {
            "backgroundcolor": "#E5ECF6",
            "gridcolor": "white",
            "gridwidth": 2,
            "linecolor": "white",
            "showbackground": true,
            "ticks": "",
            "zerolinecolor": "white"
           },
           "yaxis": {
            "backgroundcolor": "#E5ECF6",
            "gridcolor": "white",
            "gridwidth": 2,
            "linecolor": "white",
            "showbackground": true,
            "ticks": "",
            "zerolinecolor": "white"
           },
           "zaxis": {
            "backgroundcolor": "#E5ECF6",
            "gridcolor": "white",
            "gridwidth": 2,
            "linecolor": "white",
            "showbackground": true,
            "ticks": "",
            "zerolinecolor": "white"
           }
          },
          "shapedefaults": {
           "line": {
            "color": "#2a3f5f"
           }
          },
          "ternary": {
           "aaxis": {
            "gridcolor": "white",
            "linecolor": "white",
            "ticks": ""
           },
           "baxis": {
            "gridcolor": "white",
            "linecolor": "white",
            "ticks": ""
           },
           "bgcolor": "#E5ECF6",
           "caxis": {
            "gridcolor": "white",
            "linecolor": "white",
            "ticks": ""
           }
          },
          "title": {
           "x": 0.05
          },
          "xaxis": {
           "automargin": true,
           "gridcolor": "white",
           "linecolor": "white",
           "ticks": "",
           "title": {
            "standoff": 15
           },
           "zerolinecolor": "white",
           "zerolinewidth": 2
          },
          "yaxis": {
           "automargin": true,
           "gridcolor": "white",
           "linecolor": "white",
           "ticks": "",
           "title": {
            "standoff": 15
           },
           "zerolinecolor": "white",
           "zerolinewidth": 2
          }
         }
        },
        "title": {
         "font": {
          "color": "#4D5663"
         }
        },
        "xaxis": {
         "gridcolor": "#E1E5ED",
         "showgrid": true,
         "tickfont": {
          "color": "#4D5663"
         },
         "title": {
          "font": {
           "color": "#4D5663"
          },
          "text": ""
         },
         "zerolinecolor": "#E1E5ED"
        },
        "yaxis": {
         "gridcolor": "#E1E5ED",
         "showgrid": true,
         "tickfont": {
          "color": "#4D5663"
         },
         "title": {
          "font": {
           "color": "#4D5663"
          },
          "text": ""
         },
         "zerolinecolor": "#E1E5ED"
        }
       }
      },
      "text/html": [
       "<div>\n",
       "        \n",
       "        \n",
       "            <div id=\"1ce9f930-cb79-43c4-b2eb-62b2a1353a15\" class=\"plotly-graph-div\" style=\"height:525px; width:100%;\"></div>\n",
       "            <script type=\"text/javascript\">\n",
       "                require([\"plotly\"], function(Plotly) {\n",
       "                    window.PLOTLYENV=window.PLOTLYENV || {};\n",
       "                    window.PLOTLYENV.BASE_URL='https://plot.ly';\n",
       "                    \n",
       "                if (document.getElementById(\"1ce9f930-cb79-43c4-b2eb-62b2a1353a15\")) {\n",
       "                    Plotly.newPlot(\n",
       "                        '1ce9f930-cb79-43c4-b2eb-62b2a1353a15',\n",
       "                        [{\"boxpoints\": false, \"line\": {\"width\": 1.3}, \"marker\": {\"color\": \"rgba(255, 153, 51, 1.0)\"}, \"name\": \"A\", \"orientation\": \"v\", \"type\": \"box\", \"y\": [-0.13332898728486217, 0.6049162173562118, -0.16177503105113158, 0.2904262389514051, 1.1562838099089574, -1.1848532417977728, 0.8982273761327372, 0.028278257948029965, -0.9868512173336761, 0.6840821635822759, -0.7608168905347923, -0.4849772912292263, 1.4103246726026462, -0.8217680536926046, -0.10584387485756273, 0.0915326999720717, 1.5868812487818433, 1.4610332716855279, -0.296010479607427, -1.636326733107384, -0.494075647778116, 1.254407911954291, -1.3259794161261163, 0.46662695049174047, 0.9930619033922193, -0.5176556953346497, 0.4923565746528598, -0.30148014268246154, -0.4809887648149414, 0.4820761832548575, 0.9795666811263533, 0.2290842534017007, 0.36752354492950984, 0.6168940590624284, 0.4114722975292953, -0.20855183114206602, 1.132181985806202, 0.9935469114025697, 0.016836190438973112, 0.961885915997291, -1.783903976137237, -0.9587206963745689, -1.5379896533002744, -0.7128492071354146, -0.42738557738685895, 0.4026918235878419, 1.1185123034948807, 1.1653431112356398, 0.5260806281991431, 0.2603131849043691, 1.1467886882959684, -0.40965228755670074, 0.7133917959352619, 1.1250831270878798, 0.817216553655222, 1.4917512529186387, -0.5125131549706918, 0.14776577406804275, 0.21713674429031635, 0.5477373667964758, -0.08254668451697868, -0.750904913226693, -0.48210838498018804, 0.9105294888876799, 0.8690776970323018, -0.95756608003841, -0.6806140558632705, -0.5565517022643965, -0.14106813094953835, 0.17396554387381946, -2.041059568986403, -0.06075202622890458, -1.2553721922271923, 0.740004930068497, 0.6323495961138877, 0.3758072565623964, 0.3121515525987599, 1.2167344648060452, -0.8148129555263465, -1.0423994099522742, -1.053758446029795, 1.0591205959040673, 0.624547701537553, 0.4113627954704313, 1.1811178417779826, 1.0245574869849703, -0.09182695658014851, 0.12237334974580312, -0.8312689468801848, 0.31971330737792997, 0.3882652757412495, -0.24487556089373985, 1.211015675419331, 0.2265724142315915, -0.6340086051558401, 0.789035760998447, -0.428508620713086, -1.2083999122326243, -2.442220579365496, 0.6181020168836062]}, {\"boxpoints\": false, \"line\": {\"width\": 1.3}, \"marker\": {\"color\": \"rgba(55, 128, 191, 1.0)\"}, \"name\": \"B\", \"orientation\": \"v\", \"type\": \"box\", \"y\": [0.877873119201991, -0.8871864835711982, -0.8779365085710115, 0.16707982521148182, 0.9770570964405164, -1.0210807539641042, -0.21179137664286418, -0.025274265344616083, -1.1092078640172551, -1.1521829664006475, -1.0678537312032441, 0.881399073284442, -1.5472658310039031, 0.42894438694587583, -0.5847667949359995, 0.5861364661033456, -0.04141568970211862, 1.6330695985806374, 0.9136833206359156, 2.0233395926138007, 1.101142592370221, -0.5682038376230117, 0.042882304288209314, -0.4047854558570145, -0.20925108081337035, 0.7529358997543051, 0.7407450265436628, -1.3607933912602541, 0.3411301947962091, 1.3151839384818036, 0.3575314753592644, -1.3118340501498933, 1.4279165133867213, -0.2559157130428562, 0.4464527395079081, 0.6658948694956442, 0.7259355144620822, 0.8235263881423511, -0.08484654956607927, 1.8343974103662948, -0.4713263219195928, -0.8960723024860888, -0.30064987887889344, -0.4316502480055467, 0.2857158451321729, -0.5736274210697178, 2.5697362447985554, 0.6277843390429633, -0.49445184097626804, 0.8499163415546525, 1.5785939994794886, -0.9821279273371802, -0.4739870836956822, -1.3416687809494725, 0.984719136622916, -0.2741650591388619, 1.4972102529508924, 0.17436161357051014, -0.7460530393643999, 0.4081345878441793, 0.7508643479924706, 0.007458631298474343, -2.356211944871521, 1.2434124482978255, -0.9764707565302257, -0.9003187532037691, -0.6552946312368383, 1.01863556348232, 2.5093706224495755, -0.04773433274440632, 1.0449119076216544, 0.408730882028547, -0.11919913738978115, 0.38587853161043395, -1.1517321753523175, 1.6165054269845633, 2.320370989305167, -0.97030489009854, 0.03428818309439457, -0.567194415289803, -1.6004626492305494, 0.7941768603034315, 0.7850386433665631, 1.5710577492336988, 0.5925013415374528, 1.3388239018740202, -1.493035583334954, 0.8131093233548212, -0.06253088379133223, 1.0761370002087423, 1.6009510396615159, 1.0372091416050686, 0.24796801351280354, 1.1619363392738358, -0.3941704306660358, -0.7976663790741948, 1.7838229422786538, -1.6143395792946713, 0.2445066278672296, -0.19001794744455636]}, {\"boxpoints\": false, \"line\": {\"width\": 1.3}, \"marker\": {\"color\": \"rgba(50, 171, 96, 1.0)\"}, \"name\": \"C\", \"orientation\": \"v\", \"type\": \"box\", \"y\": [-0.1949333377808265, 1.2874718857137506, 1.034828960634043, -1.250205626820457, -2.3140814312960223, 0.4672105757577219, 0.9336583380187081, -0.899465178637077, -0.23100800292281237, -0.4233280963663838, -0.8789825347499383, -0.23272103414254033, -0.687275448055291, -1.351898514290019, -0.29152858366285617, -0.5384074094042292, 1.0899255578983433, 0.3632462942202497, -0.31347150317497907, -0.6239556756762389, -0.5039547444225779, 0.7470989284312591, 0.5669270767827191, 0.4053962663362149, 0.7470319881233176, -0.7121268908435755, 1.3781094180709663, 0.4374773497359336, 0.4200860244282493, 0.7053171544932973, -0.6008008456387155, 1.114826092770562, 0.5183437897032463, -1.6875410078176634, -0.14119371767260377, -1.2318315718081576, 1.094246490855967, -0.9357325966232735, -1.687124220557086, 0.02834226044932334, -0.43635878228827285, 0.19203209266547921, 1.5017344421595056, -0.758789965263754, -0.48496529798553106, 0.9112791466103329, -0.9065257161127248, 0.15779465541686052, 0.32598660502669086, -0.7494680676971873, 0.8369842300027271, -0.1852978110964879, -0.8537190052680307, -1.328453836121312, 0.8883999662666356, 0.6745108463283488, -0.039512731797237334, -0.15152265482386013, -0.4053422246549689, 1.091898283200699, 0.3523894167516524, -0.8234261540482228, -0.3877115538256855, 2.334372769081094, -1.2790254406427777, -0.05124559254107892, 1.6034395642054087, -0.9702203612312997, -2.986537403890035, 0.8768333360508807, -1.0955398315132059, -1.3184810057926308, 0.4811947683684202, -0.9413875287749689, -0.09428344821563733, 0.24313378679796052, -0.8705367986795014, 0.33500633048508377, -0.23050141623667522, -0.4987736876364225, 1.7595674249869988, -1.371365312362017, 1.5153198832203851, -2.136172527562396, 0.13909291969410825, -0.6749023176385337, 0.280617133701145, -1.8513701473257176, -0.6285511875260519, 1.0104658535811069, -0.005853284057386029, 0.1096869174311675, -0.9210250890711749, 1.7413864500446388, 0.660042296473798, -1.3547562182632082, -0.9333532783173327, -0.1645621664866537, 0.08988391435312298, -0.3005702765173331]}, {\"boxpoints\": false, \"line\": {\"width\": 1.3}, \"marker\": {\"color\": \"rgba(128, 0, 128, 1.0)\"}, \"name\": \"D\", \"orientation\": \"v\", \"type\": \"box\", \"y\": [-0.08270575823628525, 0.5721288881350668, 1.0693127747928544, 1.5534994107776754, 0.19406633148953562, -0.26233500689833983, 1.5655280754438046, -0.18114075584586906, -0.009619968905033204, -0.9027686346935858, -0.214812512368609, -0.7364379842187003, -0.19198476000138007, 0.18702643707197159, 0.0433781027486577, -0.29137810972437495, -1.1978306132083452, 0.41923085497089585, -0.31918684064943975, 1.128602606672595, -1.7825520771222159, 0.6030731735378128, -0.3564898191817619, -1.7844575714167668, -1.5335276217022513, -0.23179194788496277, 1.0021641098970262, -0.6909673306044203, -1.6223983671173798, 0.9163321161767722, -0.16823263095738714, -0.08943816895035614, 0.29775873555054044, 0.12574099999810487, -0.09456630256447097, -0.6611620609872069, 0.21652645180452904, 0.7244403439630475, 0.6954520634005963, -1.5499491574713065, 0.11562111541713081, -1.1221872789710325, 1.6563204328441237, 0.2952248151470929, -1.5686691986603534, -0.013048810598643025, -0.0742857139038019, 0.7150980179301154, -0.7395795234598608, 0.5989185284645229, -0.3093583703760894, -0.5115294388754472, -0.2561361894198458, -1.4477826014600563, 0.5220337678598486, -2.0151186397299794, 0.5886751789306843, -0.2327764475170766, 0.5212684750945968, -0.3863966203198103, 1.104088962904185, 1.7129532254736584, 0.44128179880332474, 0.14979679828882936, -0.2519819766582173, 0.6073456327874504, 0.5990539129529934, 0.41172165954198053, -0.93461312400278, 1.6191205319381616, -0.7132980745026403, -0.6055073499449021, 0.43331854221063015, 1.312027745736751, 0.22528511601214957, 1.6434145615909932, 0.3924455136917064, -0.44644815502010077, 0.3990194329299282, 0.3291683995399519, -0.9125345281980742, 0.3008990483570197, 0.10284225567393888, 0.45990273680458116, 0.5490036543010519, -0.5263979924439908, -0.9350994613038845, 1.418678192436831, -0.3039213118658567, -1.3956681081474906, 0.3520550174745357, -0.9795833300527587, 0.7951530232992107, -1.1695000184850353, -1.9272619586717148, -0.7952510560311679, -1.146988594289629, -0.18338757979591955, -0.3083681940970879, -0.23394117014428933]}],\n",
       "                        {\"legend\": {\"bgcolor\": \"#F5F6F9\", \"font\": {\"color\": \"#4D5663\"}}, \"paper_bgcolor\": \"#F5F6F9\", \"plot_bgcolor\": \"#F5F6F9\", \"template\": {\"data\": {\"bar\": [{\"error_x\": {\"color\": \"#2a3f5f\"}, \"error_y\": {\"color\": \"#2a3f5f\"}, \"marker\": {\"line\": {\"color\": \"#E5ECF6\", \"width\": 0.5}}, \"type\": \"bar\"}], \"barpolar\": [{\"marker\": {\"line\": {\"color\": \"#E5ECF6\", \"width\": 0.5}}, \"type\": \"barpolar\"}], \"carpet\": [{\"aaxis\": {\"endlinecolor\": \"#2a3f5f\", \"gridcolor\": \"white\", \"linecolor\": \"white\", \"minorgridcolor\": \"white\", \"startlinecolor\": \"#2a3f5f\"}, \"baxis\": {\"endlinecolor\": \"#2a3f5f\", \"gridcolor\": \"white\", \"linecolor\": \"white\", \"minorgridcolor\": \"white\", \"startlinecolor\": \"#2a3f5f\"}, \"type\": \"carpet\"}], \"choropleth\": [{\"colorbar\": {\"outlinewidth\": 0, \"ticks\": \"\"}, \"type\": \"choropleth\"}], \"contour\": [{\"colorbar\": {\"outlinewidth\": 0, \"ticks\": \"\"}, \"colorscale\": [[0.0, \"#0d0887\"], [0.1111111111111111, \"#46039f\"], [0.2222222222222222, \"#7201a8\"], [0.3333333333333333, \"#9c179e\"], [0.4444444444444444, \"#bd3786\"], [0.5555555555555556, \"#d8576b\"], [0.6666666666666666, \"#ed7953\"], [0.7777777777777778, \"#fb9f3a\"], [0.8888888888888888, \"#fdca26\"], [1.0, \"#f0f921\"]], \"type\": \"contour\"}], \"contourcarpet\": [{\"colorbar\": {\"outlinewidth\": 0, \"ticks\": \"\"}, \"type\": \"contourcarpet\"}], \"heatmap\": [{\"colorbar\": {\"outlinewidth\": 0, \"ticks\": \"\"}, \"colorscale\": [[0.0, \"#0d0887\"], [0.1111111111111111, \"#46039f\"], [0.2222222222222222, \"#7201a8\"], [0.3333333333333333, \"#9c179e\"], [0.4444444444444444, \"#bd3786\"], [0.5555555555555556, \"#d8576b\"], [0.6666666666666666, \"#ed7953\"], [0.7777777777777778, \"#fb9f3a\"], [0.8888888888888888, \"#fdca26\"], [1.0, \"#f0f921\"]], \"type\": \"heatmap\"}], \"heatmapgl\": [{\"colorbar\": {\"outlinewidth\": 0, \"ticks\": \"\"}, \"colorscale\": [[0.0, \"#0d0887\"], [0.1111111111111111, \"#46039f\"], [0.2222222222222222, \"#7201a8\"], [0.3333333333333333, \"#9c179e\"], [0.4444444444444444, \"#bd3786\"], [0.5555555555555556, \"#d8576b\"], [0.6666666666666666, \"#ed7953\"], [0.7777777777777778, \"#fb9f3a\"], [0.8888888888888888, \"#fdca26\"], [1.0, \"#f0f921\"]], \"type\": \"heatmapgl\"}], \"histogram\": [{\"marker\": {\"colorbar\": {\"outlinewidth\": 0, \"ticks\": \"\"}}, \"type\": \"histogram\"}], \"histogram2d\": [{\"colorbar\": {\"outlinewidth\": 0, \"ticks\": \"\"}, \"colorscale\": [[0.0, \"#0d0887\"], [0.1111111111111111, \"#46039f\"], [0.2222222222222222, \"#7201a8\"], [0.3333333333333333, \"#9c179e\"], [0.4444444444444444, \"#bd3786\"], [0.5555555555555556, \"#d8576b\"], [0.6666666666666666, \"#ed7953\"], [0.7777777777777778, \"#fb9f3a\"], [0.8888888888888888, \"#fdca26\"], [1.0, \"#f0f921\"]], \"type\": \"histogram2d\"}], \"histogram2dcontour\": [{\"colorbar\": {\"outlinewidth\": 0, \"ticks\": \"\"}, \"colorscale\": [[0.0, \"#0d0887\"], [0.1111111111111111, \"#46039f\"], [0.2222222222222222, \"#7201a8\"], [0.3333333333333333, \"#9c179e\"], [0.4444444444444444, \"#bd3786\"], [0.5555555555555556, \"#d8576b\"], [0.6666666666666666, \"#ed7953\"], [0.7777777777777778, \"#fb9f3a\"], [0.8888888888888888, \"#fdca26\"], [1.0, \"#f0f921\"]], \"type\": \"histogram2dcontour\"}], \"mesh3d\": [{\"colorbar\": {\"outlinewidth\": 0, \"ticks\": \"\"}, \"type\": \"mesh3d\"}], \"parcoords\": [{\"line\": {\"colorbar\": {\"outlinewidth\": 0, \"ticks\": \"\"}}, \"type\": \"parcoords\"}], \"pie\": [{\"automargin\": true, \"type\": \"pie\"}], \"scatter\": [{\"marker\": {\"colorbar\": {\"outlinewidth\": 0, \"ticks\": \"\"}}, \"type\": \"scatter\"}], \"scatter3d\": [{\"line\": {\"colorbar\": {\"outlinewidth\": 0, \"ticks\": \"\"}}, \"marker\": {\"colorbar\": {\"outlinewidth\": 0, \"ticks\": \"\"}}, \"type\": \"scatter3d\"}], \"scattercarpet\": [{\"marker\": {\"colorbar\": {\"outlinewidth\": 0, \"ticks\": \"\"}}, \"type\": \"scattercarpet\"}], \"scattergeo\": [{\"marker\": {\"colorbar\": {\"outlinewidth\": 0, \"ticks\": \"\"}}, \"type\": \"scattergeo\"}], \"scattergl\": [{\"marker\": {\"colorbar\": {\"outlinewidth\": 0, \"ticks\": \"\"}}, \"type\": \"scattergl\"}], \"scattermapbox\": [{\"marker\": {\"colorbar\": {\"outlinewidth\": 0, \"ticks\": \"\"}}, \"type\": \"scattermapbox\"}], \"scatterpolar\": [{\"marker\": {\"colorbar\": {\"outlinewidth\": 0, \"ticks\": \"\"}}, \"type\": \"scatterpolar\"}], \"scatterpolargl\": [{\"marker\": {\"colorbar\": {\"outlinewidth\": 0, \"ticks\": \"\"}}, \"type\": \"scatterpolargl\"}], \"scatterternary\": [{\"marker\": {\"colorbar\": {\"outlinewidth\": 0, \"ticks\": \"\"}}, \"type\": \"scatterternary\"}], \"surface\": [{\"colorbar\": {\"outlinewidth\": 0, \"ticks\": \"\"}, \"colorscale\": [[0.0, \"#0d0887\"], [0.1111111111111111, \"#46039f\"], [0.2222222222222222, \"#7201a8\"], [0.3333333333333333, \"#9c179e\"], [0.4444444444444444, \"#bd3786\"], [0.5555555555555556, \"#d8576b\"], [0.6666666666666666, \"#ed7953\"], [0.7777777777777778, \"#fb9f3a\"], [0.8888888888888888, \"#fdca26\"], [1.0, \"#f0f921\"]], \"type\": \"surface\"}], \"table\": [{\"cells\": {\"fill\": {\"color\": \"#EBF0F8\"}, \"line\": {\"color\": \"white\"}}, \"header\": {\"fill\": {\"color\": \"#C8D4E3\"}, \"line\": {\"color\": \"white\"}}, \"type\": \"table\"}]}, \"layout\": {\"annotationdefaults\": {\"arrowcolor\": \"#2a3f5f\", \"arrowhead\": 0, \"arrowwidth\": 1}, \"coloraxis\": {\"colorbar\": {\"outlinewidth\": 0, \"ticks\": \"\"}}, \"colorscale\": {\"diverging\": [[0, \"#8e0152\"], [0.1, \"#c51b7d\"], [0.2, \"#de77ae\"], [0.3, \"#f1b6da\"], [0.4, \"#fde0ef\"], [0.5, \"#f7f7f7\"], [0.6, \"#e6f5d0\"], [0.7, \"#b8e186\"], [0.8, \"#7fbc41\"], [0.9, \"#4d9221\"], [1, \"#276419\"]], \"sequential\": [[0.0, \"#0d0887\"], [0.1111111111111111, \"#46039f\"], [0.2222222222222222, \"#7201a8\"], [0.3333333333333333, \"#9c179e\"], [0.4444444444444444, \"#bd3786\"], [0.5555555555555556, \"#d8576b\"], [0.6666666666666666, \"#ed7953\"], [0.7777777777777778, \"#fb9f3a\"], [0.8888888888888888, \"#fdca26\"], [1.0, \"#f0f921\"]], \"sequentialminus\": [[0.0, \"#0d0887\"], [0.1111111111111111, \"#46039f\"], [0.2222222222222222, \"#7201a8\"], [0.3333333333333333, \"#9c179e\"], [0.4444444444444444, \"#bd3786\"], [0.5555555555555556, \"#d8576b\"], [0.6666666666666666, \"#ed7953\"], [0.7777777777777778, \"#fb9f3a\"], [0.8888888888888888, \"#fdca26\"], [1.0, \"#f0f921\"]]}, \"colorway\": [\"#636efa\", \"#EF553B\", \"#00cc96\", \"#ab63fa\", \"#FFA15A\", \"#19d3f3\", \"#FF6692\", \"#B6E880\", \"#FF97FF\", \"#FECB52\"], \"font\": {\"color\": \"#2a3f5f\"}, \"geo\": {\"bgcolor\": \"white\", \"lakecolor\": \"white\", \"landcolor\": \"#E5ECF6\", \"showlakes\": true, \"showland\": true, \"subunitcolor\": \"white\"}, \"hoverlabel\": {\"align\": \"left\"}, \"hovermode\": \"closest\", \"mapbox\": {\"style\": \"light\"}, \"paper_bgcolor\": \"white\", \"plot_bgcolor\": \"#E5ECF6\", \"polar\": {\"angularaxis\": {\"gridcolor\": \"white\", \"linecolor\": \"white\", \"ticks\": \"\"}, \"bgcolor\": \"#E5ECF6\", \"radialaxis\": {\"gridcolor\": \"white\", \"linecolor\": \"white\", \"ticks\": \"\"}}, \"scene\": {\"xaxis\": {\"backgroundcolor\": \"#E5ECF6\", \"gridcolor\": \"white\", \"gridwidth\": 2, \"linecolor\": \"white\", \"showbackground\": true, \"ticks\": \"\", \"zerolinecolor\": \"white\"}, \"yaxis\": {\"backgroundcolor\": \"#E5ECF6\", \"gridcolor\": \"white\", \"gridwidth\": 2, \"linecolor\": \"white\", \"showbackground\": true, \"ticks\": \"\", \"zerolinecolor\": \"white\"}, \"zaxis\": {\"backgroundcolor\": \"#E5ECF6\", \"gridcolor\": \"white\", \"gridwidth\": 2, \"linecolor\": \"white\", \"showbackground\": true, \"ticks\": \"\", \"zerolinecolor\": \"white\"}}, \"shapedefaults\": {\"line\": {\"color\": \"#2a3f5f\"}}, \"ternary\": {\"aaxis\": {\"gridcolor\": \"white\", \"linecolor\": \"white\", \"ticks\": \"\"}, \"baxis\": {\"gridcolor\": \"white\", \"linecolor\": \"white\", \"ticks\": \"\"}, \"bgcolor\": \"#E5ECF6\", \"caxis\": {\"gridcolor\": \"white\", \"linecolor\": \"white\", \"ticks\": \"\"}}, \"title\": {\"x\": 0.05}, \"xaxis\": {\"automargin\": true, \"gridcolor\": \"white\", \"linecolor\": \"white\", \"ticks\": \"\", \"title\": {\"standoff\": 15}, \"zerolinecolor\": \"white\", \"zerolinewidth\": 2}, \"yaxis\": {\"automargin\": true, \"gridcolor\": \"white\", \"linecolor\": \"white\", \"ticks\": \"\", \"title\": {\"standoff\": 15}, \"zerolinecolor\": \"white\", \"zerolinewidth\": 2}}}, \"title\": {\"font\": {\"color\": \"#4D5663\"}}, \"xaxis\": {\"gridcolor\": \"#E1E5ED\", \"showgrid\": true, \"tickfont\": {\"color\": \"#4D5663\"}, \"title\": {\"font\": {\"color\": \"#4D5663\"}, \"text\": \"\"}, \"zerolinecolor\": \"#E1E5ED\"}, \"yaxis\": {\"gridcolor\": \"#E1E5ED\", \"showgrid\": true, \"tickfont\": {\"color\": \"#4D5663\"}, \"title\": {\"font\": {\"color\": \"#4D5663\"}, \"text\": \"\"}, \"zerolinecolor\": \"#E1E5ED\"}},\n",
       "                        {\"showLink\": true, \"linkText\": \"Export to plot.ly\", \"plotlyServerURL\": \"https://plot.ly\", \"responsive\": true}\n",
       "                    ).then(function(){\n",
       "                            \n",
       "var gd = document.getElementById('1ce9f930-cb79-43c4-b2eb-62b2a1353a15');\n",
       "var x = new MutationObserver(function (mutations, observer) {{\n",
       "        var display = window.getComputedStyle(gd).display;\n",
       "        if (!display || display === 'none') {{\n",
       "            console.log([gd, 'removed!']);\n",
       "            Plotly.purge(gd);\n",
       "            observer.disconnect();\n",
       "        }}\n",
       "}});\n",
       "\n",
       "// Listen for the removal of the full notebook cells\n",
       "var notebookContainer = gd.closest('#notebook-container');\n",
       "if (notebookContainer) {{\n",
       "    x.observe(notebookContainer, {childList: true});\n",
       "}}\n",
       "\n",
       "// Listen for the clearing of the current output cell\n",
       "var outputEl = gd.closest('.output');\n",
       "if (outputEl) {{\n",
       "    x.observe(outputEl, {childList: true});\n",
       "}}\n",
       "\n",
       "                        })\n",
       "                };\n",
       "                });\n",
       "            </script>\n",
       "        </div>"
      ]
     },
     "metadata": {},
     "output_type": "display_data"
    }
   ],
   "source": [
    "df.iplot(kind='box')"
   ]
  },
  {
   "cell_type": "markdown",
   "metadata": {},
   "source": [
    "### 3D Surface Plot"
   ]
  },
  {
   "cell_type": "code",
   "execution_count": 28,
   "metadata": {},
   "outputs": [],
   "source": [
    "df3 = pd.DataFrame({'x':[1,2,3,4,5], 'y':[10,20,30,20,10], 'z':[500,400,300,200,100]})"
   ]
  },
  {
   "cell_type": "code",
   "execution_count": 29,
   "metadata": {},
   "outputs": [
    {
     "data": {
      "text/html": [
       "<div>\n",
       "<style scoped>\n",
       "    .dataframe tbody tr th:only-of-type {\n",
       "        vertical-align: middle;\n",
       "    }\n",
       "\n",
       "    .dataframe tbody tr th {\n",
       "        vertical-align: top;\n",
       "    }\n",
       "\n",
       "    .dataframe thead th {\n",
       "        text-align: right;\n",
       "    }\n",
       "</style>\n",
       "<table border=\"1\" class=\"dataframe\">\n",
       "  <thead>\n",
       "    <tr style=\"text-align: right;\">\n",
       "      <th></th>\n",
       "      <th>x</th>\n",
       "      <th>y</th>\n",
       "      <th>z</th>\n",
       "    </tr>\n",
       "  </thead>\n",
       "  <tbody>\n",
       "    <tr>\n",
       "      <th>0</th>\n",
       "      <td>1</td>\n",
       "      <td>10</td>\n",
       "      <td>500</td>\n",
       "    </tr>\n",
       "    <tr>\n",
       "      <th>1</th>\n",
       "      <td>2</td>\n",
       "      <td>20</td>\n",
       "      <td>400</td>\n",
       "    </tr>\n",
       "    <tr>\n",
       "      <th>2</th>\n",
       "      <td>3</td>\n",
       "      <td>30</td>\n",
       "      <td>300</td>\n",
       "    </tr>\n",
       "    <tr>\n",
       "      <th>3</th>\n",
       "      <td>4</td>\n",
       "      <td>20</td>\n",
       "      <td>200</td>\n",
       "    </tr>\n",
       "    <tr>\n",
       "      <th>4</th>\n",
       "      <td>5</td>\n",
       "      <td>10</td>\n",
       "      <td>100</td>\n",
       "    </tr>\n",
       "  </tbody>\n",
       "</table>\n",
       "</div>"
      ],
      "text/plain": [
       "   x   y    z\n",
       "0  1  10  500\n",
       "1  2  20  400\n",
       "2  3  30  300\n",
       "3  4  20  200\n",
       "4  5  10  100"
      ]
     },
     "execution_count": 29,
     "metadata": {},
     "output_type": "execute_result"
    }
   ],
   "source": [
    "df3"
   ]
  },
  {
   "cell_type": "code",
   "execution_count": 30,
   "metadata": {},
   "outputs": [
    {
     "data": {
      "application/vnd.plotly.v1+json": {
       "config": {
        "linkText": "Export to plot.ly",
        "plotlyServerURL": "https://plot.ly",
        "showLink": true
       },
       "data": [
        {
         "colorscale": [
          [
           0,
           "rgb(255, 153, 51)"
          ],
          [
           0.1111111111111111,
           "rgb(55, 128, 191)"
          ],
          [
           0.2222222222222222,
           "rgb(50, 171, 96)"
          ],
          [
           0.3333333333333333,
           "rgb(128, 0, 128)"
          ],
          [
           0.4444444444444444,
           "rgb(219, 64, 82)"
          ],
          [
           0.5555555555555556,
           "rgb(0, 128, 128)"
          ],
          [
           0.6666666666666666,
           "rgb(255, 255, 51)"
          ],
          [
           0.7777777777777778,
           "rgb(128, 128, 0)"
          ],
          [
           0.8888888888888888,
           "rgb(251, 128, 114)"
          ],
          [
           1,
           "rgb(128, 177, 211)"
          ]
         ],
         "type": "surface",
         "x": [
          0,
          1,
          2,
          3,
          4
         ],
         "y": [
          "x",
          "y",
          "z"
         ],
         "z": [
          [
           1,
           2,
           3,
           4,
           5
          ],
          [
           10,
           20,
           30,
           20,
           10
          ],
          [
           500,
           400,
           300,
           200,
           100
          ]
         ]
        }
       ],
       "layout": {
        "legend": {
         "bgcolor": "#F5F6F9",
         "font": {
          "color": "#4D5663"
         }
        },
        "paper_bgcolor": "#F5F6F9",
        "plot_bgcolor": "#F5F6F9",
        "template": {
         "data": {
          "bar": [
           {
            "error_x": {
             "color": "#2a3f5f"
            },
            "error_y": {
             "color": "#2a3f5f"
            },
            "marker": {
             "line": {
              "color": "#E5ECF6",
              "width": 0.5
             }
            },
            "type": "bar"
           }
          ],
          "barpolar": [
           {
            "marker": {
             "line": {
              "color": "#E5ECF6",
              "width": 0.5
             }
            },
            "type": "barpolar"
           }
          ],
          "carpet": [
           {
            "aaxis": {
             "endlinecolor": "#2a3f5f",
             "gridcolor": "white",
             "linecolor": "white",
             "minorgridcolor": "white",
             "startlinecolor": "#2a3f5f"
            },
            "baxis": {
             "endlinecolor": "#2a3f5f",
             "gridcolor": "white",
             "linecolor": "white",
             "minorgridcolor": "white",
             "startlinecolor": "#2a3f5f"
            },
            "type": "carpet"
           }
          ],
          "choropleth": [
           {
            "colorbar": {
             "outlinewidth": 0,
             "ticks": ""
            },
            "type": "choropleth"
           }
          ],
          "contour": [
           {
            "colorbar": {
             "outlinewidth": 0,
             "ticks": ""
            },
            "colorscale": [
             [
              0,
              "#0d0887"
             ],
             [
              0.1111111111111111,
              "#46039f"
             ],
             [
              0.2222222222222222,
              "#7201a8"
             ],
             [
              0.3333333333333333,
              "#9c179e"
             ],
             [
              0.4444444444444444,
              "#bd3786"
             ],
             [
              0.5555555555555556,
              "#d8576b"
             ],
             [
              0.6666666666666666,
              "#ed7953"
             ],
             [
              0.7777777777777778,
              "#fb9f3a"
             ],
             [
              0.8888888888888888,
              "#fdca26"
             ],
             [
              1,
              "#f0f921"
             ]
            ],
            "type": "contour"
           }
          ],
          "contourcarpet": [
           {
            "colorbar": {
             "outlinewidth": 0,
             "ticks": ""
            },
            "type": "contourcarpet"
           }
          ],
          "heatmap": [
           {
            "colorbar": {
             "outlinewidth": 0,
             "ticks": ""
            },
            "colorscale": [
             [
              0,
              "#0d0887"
             ],
             [
              0.1111111111111111,
              "#46039f"
             ],
             [
              0.2222222222222222,
              "#7201a8"
             ],
             [
              0.3333333333333333,
              "#9c179e"
             ],
             [
              0.4444444444444444,
              "#bd3786"
             ],
             [
              0.5555555555555556,
              "#d8576b"
             ],
             [
              0.6666666666666666,
              "#ed7953"
             ],
             [
              0.7777777777777778,
              "#fb9f3a"
             ],
             [
              0.8888888888888888,
              "#fdca26"
             ],
             [
              1,
              "#f0f921"
             ]
            ],
            "type": "heatmap"
           }
          ],
          "heatmapgl": [
           {
            "colorbar": {
             "outlinewidth": 0,
             "ticks": ""
            },
            "colorscale": [
             [
              0,
              "#0d0887"
             ],
             [
              0.1111111111111111,
              "#46039f"
             ],
             [
              0.2222222222222222,
              "#7201a8"
             ],
             [
              0.3333333333333333,
              "#9c179e"
             ],
             [
              0.4444444444444444,
              "#bd3786"
             ],
             [
              0.5555555555555556,
              "#d8576b"
             ],
             [
              0.6666666666666666,
              "#ed7953"
             ],
             [
              0.7777777777777778,
              "#fb9f3a"
             ],
             [
              0.8888888888888888,
              "#fdca26"
             ],
             [
              1,
              "#f0f921"
             ]
            ],
            "type": "heatmapgl"
           }
          ],
          "histogram": [
           {
            "marker": {
             "colorbar": {
              "outlinewidth": 0,
              "ticks": ""
             }
            },
            "type": "histogram"
           }
          ],
          "histogram2d": [
           {
            "colorbar": {
             "outlinewidth": 0,
             "ticks": ""
            },
            "colorscale": [
             [
              0,
              "#0d0887"
             ],
             [
              0.1111111111111111,
              "#46039f"
             ],
             [
              0.2222222222222222,
              "#7201a8"
             ],
             [
              0.3333333333333333,
              "#9c179e"
             ],
             [
              0.4444444444444444,
              "#bd3786"
             ],
             [
              0.5555555555555556,
              "#d8576b"
             ],
             [
              0.6666666666666666,
              "#ed7953"
             ],
             [
              0.7777777777777778,
              "#fb9f3a"
             ],
             [
              0.8888888888888888,
              "#fdca26"
             ],
             [
              1,
              "#f0f921"
             ]
            ],
            "type": "histogram2d"
           }
          ],
          "histogram2dcontour": [
           {
            "colorbar": {
             "outlinewidth": 0,
             "ticks": ""
            },
            "colorscale": [
             [
              0,
              "#0d0887"
             ],
             [
              0.1111111111111111,
              "#46039f"
             ],
             [
              0.2222222222222222,
              "#7201a8"
             ],
             [
              0.3333333333333333,
              "#9c179e"
             ],
             [
              0.4444444444444444,
              "#bd3786"
             ],
             [
              0.5555555555555556,
              "#d8576b"
             ],
             [
              0.6666666666666666,
              "#ed7953"
             ],
             [
              0.7777777777777778,
              "#fb9f3a"
             ],
             [
              0.8888888888888888,
              "#fdca26"
             ],
             [
              1,
              "#f0f921"
             ]
            ],
            "type": "histogram2dcontour"
           }
          ],
          "mesh3d": [
           {
            "colorbar": {
             "outlinewidth": 0,
             "ticks": ""
            },
            "type": "mesh3d"
           }
          ],
          "parcoords": [
           {
            "line": {
             "colorbar": {
              "outlinewidth": 0,
              "ticks": ""
             }
            },
            "type": "parcoords"
           }
          ],
          "pie": [
           {
            "automargin": true,
            "type": "pie"
           }
          ],
          "scatter": [
           {
            "marker": {
             "colorbar": {
              "outlinewidth": 0,
              "ticks": ""
             }
            },
            "type": "scatter"
           }
          ],
          "scatter3d": [
           {
            "line": {
             "colorbar": {
              "outlinewidth": 0,
              "ticks": ""
             }
            },
            "marker": {
             "colorbar": {
              "outlinewidth": 0,
              "ticks": ""
             }
            },
            "type": "scatter3d"
           }
          ],
          "scattercarpet": [
           {
            "marker": {
             "colorbar": {
              "outlinewidth": 0,
              "ticks": ""
             }
            },
            "type": "scattercarpet"
           }
          ],
          "scattergeo": [
           {
            "marker": {
             "colorbar": {
              "outlinewidth": 0,
              "ticks": ""
             }
            },
            "type": "scattergeo"
           }
          ],
          "scattergl": [
           {
            "marker": {
             "colorbar": {
              "outlinewidth": 0,
              "ticks": ""
             }
            },
            "type": "scattergl"
           }
          ],
          "scattermapbox": [
           {
            "marker": {
             "colorbar": {
              "outlinewidth": 0,
              "ticks": ""
             }
            },
            "type": "scattermapbox"
           }
          ],
          "scatterpolar": [
           {
            "marker": {
             "colorbar": {
              "outlinewidth": 0,
              "ticks": ""
             }
            },
            "type": "scatterpolar"
           }
          ],
          "scatterpolargl": [
           {
            "marker": {
             "colorbar": {
              "outlinewidth": 0,
              "ticks": ""
             }
            },
            "type": "scatterpolargl"
           }
          ],
          "scatterternary": [
           {
            "marker": {
             "colorbar": {
              "outlinewidth": 0,
              "ticks": ""
             }
            },
            "type": "scatterternary"
           }
          ],
          "surface": [
           {
            "colorbar": {
             "outlinewidth": 0,
             "ticks": ""
            },
            "colorscale": [
             [
              0,
              "#0d0887"
             ],
             [
              0.1111111111111111,
              "#46039f"
             ],
             [
              0.2222222222222222,
              "#7201a8"
             ],
             [
              0.3333333333333333,
              "#9c179e"
             ],
             [
              0.4444444444444444,
              "#bd3786"
             ],
             [
              0.5555555555555556,
              "#d8576b"
             ],
             [
              0.6666666666666666,
              "#ed7953"
             ],
             [
              0.7777777777777778,
              "#fb9f3a"
             ],
             [
              0.8888888888888888,
              "#fdca26"
             ],
             [
              1,
              "#f0f921"
             ]
            ],
            "type": "surface"
           }
          ],
          "table": [
           {
            "cells": {
             "fill": {
              "color": "#EBF0F8"
             },
             "line": {
              "color": "white"
             }
            },
            "header": {
             "fill": {
              "color": "#C8D4E3"
             },
             "line": {
              "color": "white"
             }
            },
            "type": "table"
           }
          ]
         },
         "layout": {
          "annotationdefaults": {
           "arrowcolor": "#2a3f5f",
           "arrowhead": 0,
           "arrowwidth": 1
          },
          "coloraxis": {
           "colorbar": {
            "outlinewidth": 0,
            "ticks": ""
           }
          },
          "colorscale": {
           "diverging": [
            [
             0,
             "#8e0152"
            ],
            [
             0.1,
             "#c51b7d"
            ],
            [
             0.2,
             "#de77ae"
            ],
            [
             0.3,
             "#f1b6da"
            ],
            [
             0.4,
             "#fde0ef"
            ],
            [
             0.5,
             "#f7f7f7"
            ],
            [
             0.6,
             "#e6f5d0"
            ],
            [
             0.7,
             "#b8e186"
            ],
            [
             0.8,
             "#7fbc41"
            ],
            [
             0.9,
             "#4d9221"
            ],
            [
             1,
             "#276419"
            ]
           ],
           "sequential": [
            [
             0,
             "#0d0887"
            ],
            [
             0.1111111111111111,
             "#46039f"
            ],
            [
             0.2222222222222222,
             "#7201a8"
            ],
            [
             0.3333333333333333,
             "#9c179e"
            ],
            [
             0.4444444444444444,
             "#bd3786"
            ],
            [
             0.5555555555555556,
             "#d8576b"
            ],
            [
             0.6666666666666666,
             "#ed7953"
            ],
            [
             0.7777777777777778,
             "#fb9f3a"
            ],
            [
             0.8888888888888888,
             "#fdca26"
            ],
            [
             1,
             "#f0f921"
            ]
           ],
           "sequentialminus": [
            [
             0,
             "#0d0887"
            ],
            [
             0.1111111111111111,
             "#46039f"
            ],
            [
             0.2222222222222222,
             "#7201a8"
            ],
            [
             0.3333333333333333,
             "#9c179e"
            ],
            [
             0.4444444444444444,
             "#bd3786"
            ],
            [
             0.5555555555555556,
             "#d8576b"
            ],
            [
             0.6666666666666666,
             "#ed7953"
            ],
            [
             0.7777777777777778,
             "#fb9f3a"
            ],
            [
             0.8888888888888888,
             "#fdca26"
            ],
            [
             1,
             "#f0f921"
            ]
           ]
          },
          "colorway": [
           "#636efa",
           "#EF553B",
           "#00cc96",
           "#ab63fa",
           "#FFA15A",
           "#19d3f3",
           "#FF6692",
           "#B6E880",
           "#FF97FF",
           "#FECB52"
          ],
          "font": {
           "color": "#2a3f5f"
          },
          "geo": {
           "bgcolor": "white",
           "lakecolor": "white",
           "landcolor": "#E5ECF6",
           "showlakes": true,
           "showland": true,
           "subunitcolor": "white"
          },
          "hoverlabel": {
           "align": "left"
          },
          "hovermode": "closest",
          "mapbox": {
           "style": "light"
          },
          "paper_bgcolor": "white",
          "plot_bgcolor": "#E5ECF6",
          "polar": {
           "angularaxis": {
            "gridcolor": "white",
            "linecolor": "white",
            "ticks": ""
           },
           "bgcolor": "#E5ECF6",
           "radialaxis": {
            "gridcolor": "white",
            "linecolor": "white",
            "ticks": ""
           }
          },
          "scene": {
           "xaxis": {
            "backgroundcolor": "#E5ECF6",
            "gridcolor": "white",
            "gridwidth": 2,
            "linecolor": "white",
            "showbackground": true,
            "ticks": "",
            "zerolinecolor": "white"
           },
           "yaxis": {
            "backgroundcolor": "#E5ECF6",
            "gridcolor": "white",
            "gridwidth": 2,
            "linecolor": "white",
            "showbackground": true,
            "ticks": "",
            "zerolinecolor": "white"
           },
           "zaxis": {
            "backgroundcolor": "#E5ECF6",
            "gridcolor": "white",
            "gridwidth": 2,
            "linecolor": "white",
            "showbackground": true,
            "ticks": "",
            "zerolinecolor": "white"
           }
          },
          "shapedefaults": {
           "line": {
            "color": "#2a3f5f"
           }
          },
          "ternary": {
           "aaxis": {
            "gridcolor": "white",
            "linecolor": "white",
            "ticks": ""
           },
           "baxis": {
            "gridcolor": "white",
            "linecolor": "white",
            "ticks": ""
           },
           "bgcolor": "#E5ECF6",
           "caxis": {
            "gridcolor": "white",
            "linecolor": "white",
            "ticks": ""
           }
          },
          "title": {
           "x": 0.05
          },
          "xaxis": {
           "automargin": true,
           "gridcolor": "white",
           "linecolor": "white",
           "ticks": "",
           "title": {
            "standoff": 15
           },
           "zerolinecolor": "white",
           "zerolinewidth": 2
          },
          "yaxis": {
           "automargin": true,
           "gridcolor": "white",
           "linecolor": "white",
           "ticks": "",
           "title": {
            "standoff": 15
           },
           "zerolinecolor": "white",
           "zerolinewidth": 2
          }
         }
        },
        "title": {
         "font": {
          "color": "#4D5663"
         }
        },
        "xaxis": {
         "gridcolor": "#E1E5ED",
         "showgrid": true,
         "tickfont": {
          "color": "#4D5663"
         },
         "title": {
          "font": {
           "color": "#4D5663"
          },
          "text": ""
         },
         "zerolinecolor": "#E1E5ED"
        },
        "yaxis": {
         "gridcolor": "#E1E5ED",
         "showgrid": true,
         "tickfont": {
          "color": "#4D5663"
         },
         "title": {
          "font": {
           "color": "#4D5663"
          },
          "text": ""
         },
         "zerolinecolor": "#E1E5ED"
        }
       }
      },
      "text/html": [
       "<div>\n",
       "        \n",
       "        \n",
       "            <div id=\"2e61ef63-0227-4e6d-a21d-a7e0ea2b881e\" class=\"plotly-graph-div\" style=\"height:525px; width:100%;\"></div>\n",
       "            <script type=\"text/javascript\">\n",
       "                require([\"plotly\"], function(Plotly) {\n",
       "                    window.PLOTLYENV=window.PLOTLYENV || {};\n",
       "                    window.PLOTLYENV.BASE_URL='https://plot.ly';\n",
       "                    \n",
       "                if (document.getElementById(\"2e61ef63-0227-4e6d-a21d-a7e0ea2b881e\")) {\n",
       "                    Plotly.newPlot(\n",
       "                        '2e61ef63-0227-4e6d-a21d-a7e0ea2b881e',\n",
       "                        [{\"colorscale\": [[0.0, \"rgb(255, 153, 51)\"], [0.1111111111111111, \"rgb(55, 128, 191)\"], [0.2222222222222222, \"rgb(50, 171, 96)\"], [0.3333333333333333, \"rgb(128, 0, 128)\"], [0.4444444444444444, \"rgb(219, 64, 82)\"], [0.5555555555555556, \"rgb(0, 128, 128)\"], [0.6666666666666666, \"rgb(255, 255, 51)\"], [0.7777777777777778, \"rgb(128, 128, 0)\"], [0.8888888888888888, \"rgb(251, 128, 114)\"], [1.0, \"rgb(128, 177, 211)\"]], \"type\": \"surface\", \"x\": [0, 1, 2, 3, 4], \"y\": [\"x\", \"y\", \"z\"], \"z\": [[1, 2, 3, 4, 5], [10, 20, 30, 20, 10], [500, 400, 300, 200, 100]]}],\n",
       "                        {\"legend\": {\"bgcolor\": \"#F5F6F9\", \"font\": {\"color\": \"#4D5663\"}}, \"paper_bgcolor\": \"#F5F6F9\", \"plot_bgcolor\": \"#F5F6F9\", \"template\": {\"data\": {\"bar\": [{\"error_x\": {\"color\": \"#2a3f5f\"}, \"error_y\": {\"color\": \"#2a3f5f\"}, \"marker\": {\"line\": {\"color\": \"#E5ECF6\", \"width\": 0.5}}, \"type\": \"bar\"}], \"barpolar\": [{\"marker\": {\"line\": {\"color\": \"#E5ECF6\", \"width\": 0.5}}, \"type\": \"barpolar\"}], \"carpet\": [{\"aaxis\": {\"endlinecolor\": \"#2a3f5f\", \"gridcolor\": \"white\", \"linecolor\": \"white\", \"minorgridcolor\": \"white\", \"startlinecolor\": \"#2a3f5f\"}, \"baxis\": {\"endlinecolor\": \"#2a3f5f\", \"gridcolor\": \"white\", \"linecolor\": \"white\", \"minorgridcolor\": \"white\", \"startlinecolor\": \"#2a3f5f\"}, \"type\": \"carpet\"}], \"choropleth\": [{\"colorbar\": {\"outlinewidth\": 0, \"ticks\": \"\"}, \"type\": \"choropleth\"}], \"contour\": [{\"colorbar\": {\"outlinewidth\": 0, \"ticks\": \"\"}, \"colorscale\": [[0.0, \"#0d0887\"], [0.1111111111111111, \"#46039f\"], [0.2222222222222222, \"#7201a8\"], [0.3333333333333333, \"#9c179e\"], [0.4444444444444444, \"#bd3786\"], [0.5555555555555556, \"#d8576b\"], [0.6666666666666666, \"#ed7953\"], [0.7777777777777778, \"#fb9f3a\"], [0.8888888888888888, \"#fdca26\"], [1.0, \"#f0f921\"]], \"type\": \"contour\"}], \"contourcarpet\": [{\"colorbar\": {\"outlinewidth\": 0, \"ticks\": \"\"}, \"type\": \"contourcarpet\"}], \"heatmap\": [{\"colorbar\": {\"outlinewidth\": 0, \"ticks\": \"\"}, \"colorscale\": [[0.0, \"#0d0887\"], [0.1111111111111111, \"#46039f\"], [0.2222222222222222, \"#7201a8\"], [0.3333333333333333, \"#9c179e\"], [0.4444444444444444, \"#bd3786\"], [0.5555555555555556, \"#d8576b\"], [0.6666666666666666, \"#ed7953\"], [0.7777777777777778, \"#fb9f3a\"], [0.8888888888888888, \"#fdca26\"], [1.0, \"#f0f921\"]], \"type\": \"heatmap\"}], \"heatmapgl\": [{\"colorbar\": {\"outlinewidth\": 0, \"ticks\": \"\"}, \"colorscale\": [[0.0, \"#0d0887\"], [0.1111111111111111, \"#46039f\"], [0.2222222222222222, \"#7201a8\"], [0.3333333333333333, \"#9c179e\"], [0.4444444444444444, \"#bd3786\"], [0.5555555555555556, \"#d8576b\"], [0.6666666666666666, \"#ed7953\"], [0.7777777777777778, \"#fb9f3a\"], [0.8888888888888888, \"#fdca26\"], [1.0, \"#f0f921\"]], \"type\": \"heatmapgl\"}], \"histogram\": [{\"marker\": {\"colorbar\": {\"outlinewidth\": 0, \"ticks\": \"\"}}, \"type\": \"histogram\"}], \"histogram2d\": [{\"colorbar\": {\"outlinewidth\": 0, \"ticks\": \"\"}, \"colorscale\": [[0.0, \"#0d0887\"], [0.1111111111111111, \"#46039f\"], [0.2222222222222222, \"#7201a8\"], [0.3333333333333333, \"#9c179e\"], [0.4444444444444444, \"#bd3786\"], [0.5555555555555556, \"#d8576b\"], [0.6666666666666666, \"#ed7953\"], [0.7777777777777778, \"#fb9f3a\"], [0.8888888888888888, \"#fdca26\"], [1.0, \"#f0f921\"]], \"type\": \"histogram2d\"}], \"histogram2dcontour\": [{\"colorbar\": {\"outlinewidth\": 0, \"ticks\": \"\"}, \"colorscale\": [[0.0, \"#0d0887\"], [0.1111111111111111, \"#46039f\"], [0.2222222222222222, \"#7201a8\"], [0.3333333333333333, \"#9c179e\"], [0.4444444444444444, \"#bd3786\"], [0.5555555555555556, \"#d8576b\"], [0.6666666666666666, \"#ed7953\"], [0.7777777777777778, \"#fb9f3a\"], [0.8888888888888888, \"#fdca26\"], [1.0, \"#f0f921\"]], \"type\": \"histogram2dcontour\"}], \"mesh3d\": [{\"colorbar\": {\"outlinewidth\": 0, \"ticks\": \"\"}, \"type\": \"mesh3d\"}], \"parcoords\": [{\"line\": {\"colorbar\": {\"outlinewidth\": 0, \"ticks\": \"\"}}, \"type\": \"parcoords\"}], \"pie\": [{\"automargin\": true, \"type\": \"pie\"}], \"scatter\": [{\"marker\": {\"colorbar\": {\"outlinewidth\": 0, \"ticks\": \"\"}}, \"type\": \"scatter\"}], \"scatter3d\": [{\"line\": {\"colorbar\": {\"outlinewidth\": 0, \"ticks\": \"\"}}, \"marker\": {\"colorbar\": {\"outlinewidth\": 0, \"ticks\": \"\"}}, \"type\": \"scatter3d\"}], \"scattercarpet\": [{\"marker\": {\"colorbar\": {\"outlinewidth\": 0, \"ticks\": \"\"}}, \"type\": \"scattercarpet\"}], \"scattergeo\": [{\"marker\": {\"colorbar\": {\"outlinewidth\": 0, \"ticks\": \"\"}}, \"type\": \"scattergeo\"}], \"scattergl\": [{\"marker\": {\"colorbar\": {\"outlinewidth\": 0, \"ticks\": \"\"}}, \"type\": \"scattergl\"}], \"scattermapbox\": [{\"marker\": {\"colorbar\": {\"outlinewidth\": 0, \"ticks\": \"\"}}, \"type\": \"scattermapbox\"}], \"scatterpolar\": [{\"marker\": {\"colorbar\": {\"outlinewidth\": 0, \"ticks\": \"\"}}, \"type\": \"scatterpolar\"}], \"scatterpolargl\": [{\"marker\": {\"colorbar\": {\"outlinewidth\": 0, \"ticks\": \"\"}}, \"type\": \"scatterpolargl\"}], \"scatterternary\": [{\"marker\": {\"colorbar\": {\"outlinewidth\": 0, \"ticks\": \"\"}}, \"type\": \"scatterternary\"}], \"surface\": [{\"colorbar\": {\"outlinewidth\": 0, \"ticks\": \"\"}, \"colorscale\": [[0.0, \"#0d0887\"], [0.1111111111111111, \"#46039f\"], [0.2222222222222222, \"#7201a8\"], [0.3333333333333333, \"#9c179e\"], [0.4444444444444444, \"#bd3786\"], [0.5555555555555556, \"#d8576b\"], [0.6666666666666666, \"#ed7953\"], [0.7777777777777778, \"#fb9f3a\"], [0.8888888888888888, \"#fdca26\"], [1.0, \"#f0f921\"]], \"type\": \"surface\"}], \"table\": [{\"cells\": {\"fill\": {\"color\": \"#EBF0F8\"}, \"line\": {\"color\": \"white\"}}, \"header\": {\"fill\": {\"color\": \"#C8D4E3\"}, \"line\": {\"color\": \"white\"}}, \"type\": \"table\"}]}, \"layout\": {\"annotationdefaults\": {\"arrowcolor\": \"#2a3f5f\", \"arrowhead\": 0, \"arrowwidth\": 1}, \"coloraxis\": {\"colorbar\": {\"outlinewidth\": 0, \"ticks\": \"\"}}, \"colorscale\": {\"diverging\": [[0, \"#8e0152\"], [0.1, \"#c51b7d\"], [0.2, \"#de77ae\"], [0.3, \"#f1b6da\"], [0.4, \"#fde0ef\"], [0.5, \"#f7f7f7\"], [0.6, \"#e6f5d0\"], [0.7, \"#b8e186\"], [0.8, \"#7fbc41\"], [0.9, \"#4d9221\"], [1, \"#276419\"]], \"sequential\": [[0.0, \"#0d0887\"], [0.1111111111111111, \"#46039f\"], [0.2222222222222222, \"#7201a8\"], [0.3333333333333333, \"#9c179e\"], [0.4444444444444444, \"#bd3786\"], [0.5555555555555556, \"#d8576b\"], [0.6666666666666666, \"#ed7953\"], [0.7777777777777778, \"#fb9f3a\"], [0.8888888888888888, \"#fdca26\"], [1.0, \"#f0f921\"]], \"sequentialminus\": [[0.0, \"#0d0887\"], [0.1111111111111111, \"#46039f\"], [0.2222222222222222, \"#7201a8\"], [0.3333333333333333, \"#9c179e\"], [0.4444444444444444, \"#bd3786\"], [0.5555555555555556, \"#d8576b\"], [0.6666666666666666, \"#ed7953\"], [0.7777777777777778, \"#fb9f3a\"], [0.8888888888888888, \"#fdca26\"], [1.0, \"#f0f921\"]]}, \"colorway\": [\"#636efa\", \"#EF553B\", \"#00cc96\", \"#ab63fa\", \"#FFA15A\", \"#19d3f3\", \"#FF6692\", \"#B6E880\", \"#FF97FF\", \"#FECB52\"], \"font\": {\"color\": \"#2a3f5f\"}, \"geo\": {\"bgcolor\": \"white\", \"lakecolor\": \"white\", \"landcolor\": \"#E5ECF6\", \"showlakes\": true, \"showland\": true, \"subunitcolor\": \"white\"}, \"hoverlabel\": {\"align\": \"left\"}, \"hovermode\": \"closest\", \"mapbox\": {\"style\": \"light\"}, \"paper_bgcolor\": \"white\", \"plot_bgcolor\": \"#E5ECF6\", \"polar\": {\"angularaxis\": {\"gridcolor\": \"white\", \"linecolor\": \"white\", \"ticks\": \"\"}, \"bgcolor\": \"#E5ECF6\", \"radialaxis\": {\"gridcolor\": \"white\", \"linecolor\": \"white\", \"ticks\": \"\"}}, \"scene\": {\"xaxis\": {\"backgroundcolor\": \"#E5ECF6\", \"gridcolor\": \"white\", \"gridwidth\": 2, \"linecolor\": \"white\", \"showbackground\": true, \"ticks\": \"\", \"zerolinecolor\": \"white\"}, \"yaxis\": {\"backgroundcolor\": \"#E5ECF6\", \"gridcolor\": \"white\", \"gridwidth\": 2, \"linecolor\": \"white\", \"showbackground\": true, \"ticks\": \"\", \"zerolinecolor\": \"white\"}, \"zaxis\": {\"backgroundcolor\": \"#E5ECF6\", \"gridcolor\": \"white\", \"gridwidth\": 2, \"linecolor\": \"white\", \"showbackground\": true, \"ticks\": \"\", \"zerolinecolor\": \"white\"}}, \"shapedefaults\": {\"line\": {\"color\": \"#2a3f5f\"}}, \"ternary\": {\"aaxis\": {\"gridcolor\": \"white\", \"linecolor\": \"white\", \"ticks\": \"\"}, \"baxis\": {\"gridcolor\": \"white\", \"linecolor\": \"white\", \"ticks\": \"\"}, \"bgcolor\": \"#E5ECF6\", \"caxis\": {\"gridcolor\": \"white\", \"linecolor\": \"white\", \"ticks\": \"\"}}, \"title\": {\"x\": 0.05}, \"xaxis\": {\"automargin\": true, \"gridcolor\": \"white\", \"linecolor\": \"white\", \"ticks\": \"\", \"title\": {\"standoff\": 15}, \"zerolinecolor\": \"white\", \"zerolinewidth\": 2}, \"yaxis\": {\"automargin\": true, \"gridcolor\": \"white\", \"linecolor\": \"white\", \"ticks\": \"\", \"title\": {\"standoff\": 15}, \"zerolinecolor\": \"white\", \"zerolinewidth\": 2}}}, \"title\": {\"font\": {\"color\": \"#4D5663\"}}, \"xaxis\": {\"gridcolor\": \"#E1E5ED\", \"showgrid\": true, \"tickfont\": {\"color\": \"#4D5663\"}, \"title\": {\"font\": {\"color\": \"#4D5663\"}, \"text\": \"\"}, \"zerolinecolor\": \"#E1E5ED\"}, \"yaxis\": {\"gridcolor\": \"#E1E5ED\", \"showgrid\": true, \"tickfont\": {\"color\": \"#4D5663\"}, \"title\": {\"font\": {\"color\": \"#4D5663\"}, \"text\": \"\"}, \"zerolinecolor\": \"#E1E5ED\"}},\n",
       "                        {\"showLink\": true, \"linkText\": \"Export to plot.ly\", \"plotlyServerURL\": \"https://plot.ly\", \"responsive\": true}\n",
       "                    ).then(function(){\n",
       "                            \n",
       "var gd = document.getElementById('2e61ef63-0227-4e6d-a21d-a7e0ea2b881e');\n",
       "var x = new MutationObserver(function (mutations, observer) {{\n",
       "        var display = window.getComputedStyle(gd).display;\n",
       "        if (!display || display === 'none') {{\n",
       "            console.log([gd, 'removed!']);\n",
       "            Plotly.purge(gd);\n",
       "            observer.disconnect();\n",
       "        }}\n",
       "}});\n",
       "\n",
       "// Listen for the removal of the full notebook cells\n",
       "var notebookContainer = gd.closest('#notebook-container');\n",
       "if (notebookContainer) {{\n",
       "    x.observe(notebookContainer, {childList: true});\n",
       "}}\n",
       "\n",
       "// Listen for the clearing of the current output cell\n",
       "var outputEl = gd.closest('.output');\n",
       "if (outputEl) {{\n",
       "    x.observe(outputEl, {childList: true});\n",
       "}}\n",
       "\n",
       "                        })\n",
       "                };\n",
       "                });\n",
       "            </script>\n",
       "        </div>"
      ]
     },
     "metadata": {},
     "output_type": "display_data"
    }
   ],
   "source": [
    "df3.iplot(kind='surface')"
   ]
  },
  {
   "cell_type": "code",
   "execution_count": 31,
   "metadata": {},
   "outputs": [
    {
     "data": {
      "application/vnd.plotly.v1+json": {
       "config": {
        "linkText": "Export to plot.ly",
        "plotlyServerURL": "https://plot.ly",
        "showLink": true
       },
       "data": [
        {
         "colorscale": [
          [
           0,
           "rgb(255, 153, 51)"
          ],
          [
           0.1111111111111111,
           "rgb(55, 128, 191)"
          ],
          [
           0.2222222222222222,
           "rgb(50, 171, 96)"
          ],
          [
           0.3333333333333333,
           "rgb(128, 0, 128)"
          ],
          [
           0.4444444444444444,
           "rgb(219, 64, 82)"
          ],
          [
           0.5555555555555556,
           "rgb(0, 128, 128)"
          ],
          [
           0.6666666666666666,
           "rgb(255, 255, 51)"
          ],
          [
           0.7777777777777778,
           "rgb(128, 128, 0)"
          ],
          [
           0.8888888888888888,
           "rgb(251, 128, 114)"
          ],
          [
           1,
           "rgb(128, 177, 211)"
          ]
         ],
         "type": "surface",
         "x": [
          0,
          1,
          2,
          3,
          4
         ],
         "y": [
          "x",
          "y",
          "z"
         ],
         "z": [
          [
           1,
           2,
           3,
           4,
           5
          ],
          [
           10,
           20,
           30,
           20,
           10
          ],
          [
           5,
           4,
           3,
           2,
           1
          ]
         ]
        }
       ],
       "layout": {
        "legend": {
         "bgcolor": "#F5F6F9",
         "font": {
          "color": "#4D5663"
         }
        },
        "paper_bgcolor": "#F5F6F9",
        "plot_bgcolor": "#F5F6F9",
        "template": {
         "data": {
          "bar": [
           {
            "error_x": {
             "color": "#2a3f5f"
            },
            "error_y": {
             "color": "#2a3f5f"
            },
            "marker": {
             "line": {
              "color": "#E5ECF6",
              "width": 0.5
             }
            },
            "type": "bar"
           }
          ],
          "barpolar": [
           {
            "marker": {
             "line": {
              "color": "#E5ECF6",
              "width": 0.5
             }
            },
            "type": "barpolar"
           }
          ],
          "carpet": [
           {
            "aaxis": {
             "endlinecolor": "#2a3f5f",
             "gridcolor": "white",
             "linecolor": "white",
             "minorgridcolor": "white",
             "startlinecolor": "#2a3f5f"
            },
            "baxis": {
             "endlinecolor": "#2a3f5f",
             "gridcolor": "white",
             "linecolor": "white",
             "minorgridcolor": "white",
             "startlinecolor": "#2a3f5f"
            },
            "type": "carpet"
           }
          ],
          "choropleth": [
           {
            "colorbar": {
             "outlinewidth": 0,
             "ticks": ""
            },
            "type": "choropleth"
           }
          ],
          "contour": [
           {
            "colorbar": {
             "outlinewidth": 0,
             "ticks": ""
            },
            "colorscale": [
             [
              0,
              "#0d0887"
             ],
             [
              0.1111111111111111,
              "#46039f"
             ],
             [
              0.2222222222222222,
              "#7201a8"
             ],
             [
              0.3333333333333333,
              "#9c179e"
             ],
             [
              0.4444444444444444,
              "#bd3786"
             ],
             [
              0.5555555555555556,
              "#d8576b"
             ],
             [
              0.6666666666666666,
              "#ed7953"
             ],
             [
              0.7777777777777778,
              "#fb9f3a"
             ],
             [
              0.8888888888888888,
              "#fdca26"
             ],
             [
              1,
              "#f0f921"
             ]
            ],
            "type": "contour"
           }
          ],
          "contourcarpet": [
           {
            "colorbar": {
             "outlinewidth": 0,
             "ticks": ""
            },
            "type": "contourcarpet"
           }
          ],
          "heatmap": [
           {
            "colorbar": {
             "outlinewidth": 0,
             "ticks": ""
            },
            "colorscale": [
             [
              0,
              "#0d0887"
             ],
             [
              0.1111111111111111,
              "#46039f"
             ],
             [
              0.2222222222222222,
              "#7201a8"
             ],
             [
              0.3333333333333333,
              "#9c179e"
             ],
             [
              0.4444444444444444,
              "#bd3786"
             ],
             [
              0.5555555555555556,
              "#d8576b"
             ],
             [
              0.6666666666666666,
              "#ed7953"
             ],
             [
              0.7777777777777778,
              "#fb9f3a"
             ],
             [
              0.8888888888888888,
              "#fdca26"
             ],
             [
              1,
              "#f0f921"
             ]
            ],
            "type": "heatmap"
           }
          ],
          "heatmapgl": [
           {
            "colorbar": {
             "outlinewidth": 0,
             "ticks": ""
            },
            "colorscale": [
             [
              0,
              "#0d0887"
             ],
             [
              0.1111111111111111,
              "#46039f"
             ],
             [
              0.2222222222222222,
              "#7201a8"
             ],
             [
              0.3333333333333333,
              "#9c179e"
             ],
             [
              0.4444444444444444,
              "#bd3786"
             ],
             [
              0.5555555555555556,
              "#d8576b"
             ],
             [
              0.6666666666666666,
              "#ed7953"
             ],
             [
              0.7777777777777778,
              "#fb9f3a"
             ],
             [
              0.8888888888888888,
              "#fdca26"
             ],
             [
              1,
              "#f0f921"
             ]
            ],
            "type": "heatmapgl"
           }
          ],
          "histogram": [
           {
            "marker": {
             "colorbar": {
              "outlinewidth": 0,
              "ticks": ""
             }
            },
            "type": "histogram"
           }
          ],
          "histogram2d": [
           {
            "colorbar": {
             "outlinewidth": 0,
             "ticks": ""
            },
            "colorscale": [
             [
              0,
              "#0d0887"
             ],
             [
              0.1111111111111111,
              "#46039f"
             ],
             [
              0.2222222222222222,
              "#7201a8"
             ],
             [
              0.3333333333333333,
              "#9c179e"
             ],
             [
              0.4444444444444444,
              "#bd3786"
             ],
             [
              0.5555555555555556,
              "#d8576b"
             ],
             [
              0.6666666666666666,
              "#ed7953"
             ],
             [
              0.7777777777777778,
              "#fb9f3a"
             ],
             [
              0.8888888888888888,
              "#fdca26"
             ],
             [
              1,
              "#f0f921"
             ]
            ],
            "type": "histogram2d"
           }
          ],
          "histogram2dcontour": [
           {
            "colorbar": {
             "outlinewidth": 0,
             "ticks": ""
            },
            "colorscale": [
             [
              0,
              "#0d0887"
             ],
             [
              0.1111111111111111,
              "#46039f"
             ],
             [
              0.2222222222222222,
              "#7201a8"
             ],
             [
              0.3333333333333333,
              "#9c179e"
             ],
             [
              0.4444444444444444,
              "#bd3786"
             ],
             [
              0.5555555555555556,
              "#d8576b"
             ],
             [
              0.6666666666666666,
              "#ed7953"
             ],
             [
              0.7777777777777778,
              "#fb9f3a"
             ],
             [
              0.8888888888888888,
              "#fdca26"
             ],
             [
              1,
              "#f0f921"
             ]
            ],
            "type": "histogram2dcontour"
           }
          ],
          "mesh3d": [
           {
            "colorbar": {
             "outlinewidth": 0,
             "ticks": ""
            },
            "type": "mesh3d"
           }
          ],
          "parcoords": [
           {
            "line": {
             "colorbar": {
              "outlinewidth": 0,
              "ticks": ""
             }
            },
            "type": "parcoords"
           }
          ],
          "pie": [
           {
            "automargin": true,
            "type": "pie"
           }
          ],
          "scatter": [
           {
            "marker": {
             "colorbar": {
              "outlinewidth": 0,
              "ticks": ""
             }
            },
            "type": "scatter"
           }
          ],
          "scatter3d": [
           {
            "line": {
             "colorbar": {
              "outlinewidth": 0,
              "ticks": ""
             }
            },
            "marker": {
             "colorbar": {
              "outlinewidth": 0,
              "ticks": ""
             }
            },
            "type": "scatter3d"
           }
          ],
          "scattercarpet": [
           {
            "marker": {
             "colorbar": {
              "outlinewidth": 0,
              "ticks": ""
             }
            },
            "type": "scattercarpet"
           }
          ],
          "scattergeo": [
           {
            "marker": {
             "colorbar": {
              "outlinewidth": 0,
              "ticks": ""
             }
            },
            "type": "scattergeo"
           }
          ],
          "scattergl": [
           {
            "marker": {
             "colorbar": {
              "outlinewidth": 0,
              "ticks": ""
             }
            },
            "type": "scattergl"
           }
          ],
          "scattermapbox": [
           {
            "marker": {
             "colorbar": {
              "outlinewidth": 0,
              "ticks": ""
             }
            },
            "type": "scattermapbox"
           }
          ],
          "scatterpolar": [
           {
            "marker": {
             "colorbar": {
              "outlinewidth": 0,
              "ticks": ""
             }
            },
            "type": "scatterpolar"
           }
          ],
          "scatterpolargl": [
           {
            "marker": {
             "colorbar": {
              "outlinewidth": 0,
              "ticks": ""
             }
            },
            "type": "scatterpolargl"
           }
          ],
          "scatterternary": [
           {
            "marker": {
             "colorbar": {
              "outlinewidth": 0,
              "ticks": ""
             }
            },
            "type": "scatterternary"
           }
          ],
          "surface": [
           {
            "colorbar": {
             "outlinewidth": 0,
             "ticks": ""
            },
            "colorscale": [
             [
              0,
              "#0d0887"
             ],
             [
              0.1111111111111111,
              "#46039f"
             ],
             [
              0.2222222222222222,
              "#7201a8"
             ],
             [
              0.3333333333333333,
              "#9c179e"
             ],
             [
              0.4444444444444444,
              "#bd3786"
             ],
             [
              0.5555555555555556,
              "#d8576b"
             ],
             [
              0.6666666666666666,
              "#ed7953"
             ],
             [
              0.7777777777777778,
              "#fb9f3a"
             ],
             [
              0.8888888888888888,
              "#fdca26"
             ],
             [
              1,
              "#f0f921"
             ]
            ],
            "type": "surface"
           }
          ],
          "table": [
           {
            "cells": {
             "fill": {
              "color": "#EBF0F8"
             },
             "line": {
              "color": "white"
             }
            },
            "header": {
             "fill": {
              "color": "#C8D4E3"
             },
             "line": {
              "color": "white"
             }
            },
            "type": "table"
           }
          ]
         },
         "layout": {
          "annotationdefaults": {
           "arrowcolor": "#2a3f5f",
           "arrowhead": 0,
           "arrowwidth": 1
          },
          "coloraxis": {
           "colorbar": {
            "outlinewidth": 0,
            "ticks": ""
           }
          },
          "colorscale": {
           "diverging": [
            [
             0,
             "#8e0152"
            ],
            [
             0.1,
             "#c51b7d"
            ],
            [
             0.2,
             "#de77ae"
            ],
            [
             0.3,
             "#f1b6da"
            ],
            [
             0.4,
             "#fde0ef"
            ],
            [
             0.5,
             "#f7f7f7"
            ],
            [
             0.6,
             "#e6f5d0"
            ],
            [
             0.7,
             "#b8e186"
            ],
            [
             0.8,
             "#7fbc41"
            ],
            [
             0.9,
             "#4d9221"
            ],
            [
             1,
             "#276419"
            ]
           ],
           "sequential": [
            [
             0,
             "#0d0887"
            ],
            [
             0.1111111111111111,
             "#46039f"
            ],
            [
             0.2222222222222222,
             "#7201a8"
            ],
            [
             0.3333333333333333,
             "#9c179e"
            ],
            [
             0.4444444444444444,
             "#bd3786"
            ],
            [
             0.5555555555555556,
             "#d8576b"
            ],
            [
             0.6666666666666666,
             "#ed7953"
            ],
            [
             0.7777777777777778,
             "#fb9f3a"
            ],
            [
             0.8888888888888888,
             "#fdca26"
            ],
            [
             1,
             "#f0f921"
            ]
           ],
           "sequentialminus": [
            [
             0,
             "#0d0887"
            ],
            [
             0.1111111111111111,
             "#46039f"
            ],
            [
             0.2222222222222222,
             "#7201a8"
            ],
            [
             0.3333333333333333,
             "#9c179e"
            ],
            [
             0.4444444444444444,
             "#bd3786"
            ],
            [
             0.5555555555555556,
             "#d8576b"
            ],
            [
             0.6666666666666666,
             "#ed7953"
            ],
            [
             0.7777777777777778,
             "#fb9f3a"
            ],
            [
             0.8888888888888888,
             "#fdca26"
            ],
            [
             1,
             "#f0f921"
            ]
           ]
          },
          "colorway": [
           "#636efa",
           "#EF553B",
           "#00cc96",
           "#ab63fa",
           "#FFA15A",
           "#19d3f3",
           "#FF6692",
           "#B6E880",
           "#FF97FF",
           "#FECB52"
          ],
          "font": {
           "color": "#2a3f5f"
          },
          "geo": {
           "bgcolor": "white",
           "lakecolor": "white",
           "landcolor": "#E5ECF6",
           "showlakes": true,
           "showland": true,
           "subunitcolor": "white"
          },
          "hoverlabel": {
           "align": "left"
          },
          "hovermode": "closest",
          "mapbox": {
           "style": "light"
          },
          "paper_bgcolor": "white",
          "plot_bgcolor": "#E5ECF6",
          "polar": {
           "angularaxis": {
            "gridcolor": "white",
            "linecolor": "white",
            "ticks": ""
           },
           "bgcolor": "#E5ECF6",
           "radialaxis": {
            "gridcolor": "white",
            "linecolor": "white",
            "ticks": ""
           }
          },
          "scene": {
           "xaxis": {
            "backgroundcolor": "#E5ECF6",
            "gridcolor": "white",
            "gridwidth": 2,
            "linecolor": "white",
            "showbackground": true,
            "ticks": "",
            "zerolinecolor": "white"
           },
           "yaxis": {
            "backgroundcolor": "#E5ECF6",
            "gridcolor": "white",
            "gridwidth": 2,
            "linecolor": "white",
            "showbackground": true,
            "ticks": "",
            "zerolinecolor": "white"
           },
           "zaxis": {
            "backgroundcolor": "#E5ECF6",
            "gridcolor": "white",
            "gridwidth": 2,
            "linecolor": "white",
            "showbackground": true,
            "ticks": "",
            "zerolinecolor": "white"
           }
          },
          "shapedefaults": {
           "line": {
            "color": "#2a3f5f"
           }
          },
          "ternary": {
           "aaxis": {
            "gridcolor": "white",
            "linecolor": "white",
            "ticks": ""
           },
           "baxis": {
            "gridcolor": "white",
            "linecolor": "white",
            "ticks": ""
           },
           "bgcolor": "#E5ECF6",
           "caxis": {
            "gridcolor": "white",
            "linecolor": "white",
            "ticks": ""
           }
          },
          "title": {
           "x": 0.05
          },
          "xaxis": {
           "automargin": true,
           "gridcolor": "white",
           "linecolor": "white",
           "ticks": "",
           "title": {
            "standoff": 15
           },
           "zerolinecolor": "white",
           "zerolinewidth": 2
          },
          "yaxis": {
           "automargin": true,
           "gridcolor": "white",
           "linecolor": "white",
           "ticks": "",
           "title": {
            "standoff": 15
           },
           "zerolinecolor": "white",
           "zerolinewidth": 2
          }
         }
        },
        "title": {
         "font": {
          "color": "#4D5663"
         }
        },
        "xaxis": {
         "gridcolor": "#E1E5ED",
         "showgrid": true,
         "tickfont": {
          "color": "#4D5663"
         },
         "title": {
          "font": {
           "color": "#4D5663"
          },
          "text": ""
         },
         "zerolinecolor": "#E1E5ED"
        },
        "yaxis": {
         "gridcolor": "#E1E5ED",
         "showgrid": true,
         "tickfont": {
          "color": "#4D5663"
         },
         "title": {
          "font": {
           "color": "#4D5663"
          },
          "text": ""
         },
         "zerolinecolor": "#E1E5ED"
        }
       }
      },
      "text/html": [
       "<div>\n",
       "        \n",
       "        \n",
       "            <div id=\"90ff8f1c-db72-41cd-aed1-fe3219f9446e\" class=\"plotly-graph-div\" style=\"height:525px; width:100%;\"></div>\n",
       "            <script type=\"text/javascript\">\n",
       "                require([\"plotly\"], function(Plotly) {\n",
       "                    window.PLOTLYENV=window.PLOTLYENV || {};\n",
       "                    window.PLOTLYENV.BASE_URL='https://plot.ly';\n",
       "                    \n",
       "                if (document.getElementById(\"90ff8f1c-db72-41cd-aed1-fe3219f9446e\")) {\n",
       "                    Plotly.newPlot(\n",
       "                        '90ff8f1c-db72-41cd-aed1-fe3219f9446e',\n",
       "                        [{\"colorscale\": [[0.0, \"rgb(255, 153, 51)\"], [0.1111111111111111, \"rgb(55, 128, 191)\"], [0.2222222222222222, \"rgb(50, 171, 96)\"], [0.3333333333333333, \"rgb(128, 0, 128)\"], [0.4444444444444444, \"rgb(219, 64, 82)\"], [0.5555555555555556, \"rgb(0, 128, 128)\"], [0.6666666666666666, \"rgb(255, 255, 51)\"], [0.7777777777777778, \"rgb(128, 128, 0)\"], [0.8888888888888888, \"rgb(251, 128, 114)\"], [1.0, \"rgb(128, 177, 211)\"]], \"type\": \"surface\", \"x\": [0, 1, 2, 3, 4], \"y\": [\"x\", \"y\", \"z\"], \"z\": [[1, 2, 3, 4, 5], [10, 20, 30, 20, 10], [5, 4, 3, 2, 1]]}],\n",
       "                        {\"legend\": {\"bgcolor\": \"#F5F6F9\", \"font\": {\"color\": \"#4D5663\"}}, \"paper_bgcolor\": \"#F5F6F9\", \"plot_bgcolor\": \"#F5F6F9\", \"template\": {\"data\": {\"bar\": [{\"error_x\": {\"color\": \"#2a3f5f\"}, \"error_y\": {\"color\": \"#2a3f5f\"}, \"marker\": {\"line\": {\"color\": \"#E5ECF6\", \"width\": 0.5}}, \"type\": \"bar\"}], \"barpolar\": [{\"marker\": {\"line\": {\"color\": \"#E5ECF6\", \"width\": 0.5}}, \"type\": \"barpolar\"}], \"carpet\": [{\"aaxis\": {\"endlinecolor\": \"#2a3f5f\", \"gridcolor\": \"white\", \"linecolor\": \"white\", \"minorgridcolor\": \"white\", \"startlinecolor\": \"#2a3f5f\"}, \"baxis\": {\"endlinecolor\": \"#2a3f5f\", \"gridcolor\": \"white\", \"linecolor\": \"white\", \"minorgridcolor\": \"white\", \"startlinecolor\": \"#2a3f5f\"}, \"type\": \"carpet\"}], \"choropleth\": [{\"colorbar\": {\"outlinewidth\": 0, \"ticks\": \"\"}, \"type\": \"choropleth\"}], \"contour\": [{\"colorbar\": {\"outlinewidth\": 0, \"ticks\": \"\"}, \"colorscale\": [[0.0, \"#0d0887\"], [0.1111111111111111, \"#46039f\"], [0.2222222222222222, \"#7201a8\"], [0.3333333333333333, \"#9c179e\"], [0.4444444444444444, \"#bd3786\"], [0.5555555555555556, \"#d8576b\"], [0.6666666666666666, \"#ed7953\"], [0.7777777777777778, \"#fb9f3a\"], [0.8888888888888888, \"#fdca26\"], [1.0, \"#f0f921\"]], \"type\": \"contour\"}], \"contourcarpet\": [{\"colorbar\": {\"outlinewidth\": 0, \"ticks\": \"\"}, \"type\": \"contourcarpet\"}], \"heatmap\": [{\"colorbar\": {\"outlinewidth\": 0, \"ticks\": \"\"}, \"colorscale\": [[0.0, \"#0d0887\"], [0.1111111111111111, \"#46039f\"], [0.2222222222222222, \"#7201a8\"], [0.3333333333333333, \"#9c179e\"], [0.4444444444444444, \"#bd3786\"], [0.5555555555555556, \"#d8576b\"], [0.6666666666666666, \"#ed7953\"], [0.7777777777777778, \"#fb9f3a\"], [0.8888888888888888, \"#fdca26\"], [1.0, \"#f0f921\"]], \"type\": \"heatmap\"}], \"heatmapgl\": [{\"colorbar\": {\"outlinewidth\": 0, \"ticks\": \"\"}, \"colorscale\": [[0.0, \"#0d0887\"], [0.1111111111111111, \"#46039f\"], [0.2222222222222222, \"#7201a8\"], [0.3333333333333333, \"#9c179e\"], [0.4444444444444444, \"#bd3786\"], [0.5555555555555556, \"#d8576b\"], [0.6666666666666666, \"#ed7953\"], [0.7777777777777778, \"#fb9f3a\"], [0.8888888888888888, \"#fdca26\"], [1.0, \"#f0f921\"]], \"type\": \"heatmapgl\"}], \"histogram\": [{\"marker\": {\"colorbar\": {\"outlinewidth\": 0, \"ticks\": \"\"}}, \"type\": \"histogram\"}], \"histogram2d\": [{\"colorbar\": {\"outlinewidth\": 0, \"ticks\": \"\"}, \"colorscale\": [[0.0, \"#0d0887\"], [0.1111111111111111, \"#46039f\"], [0.2222222222222222, \"#7201a8\"], [0.3333333333333333, \"#9c179e\"], [0.4444444444444444, \"#bd3786\"], [0.5555555555555556, \"#d8576b\"], [0.6666666666666666, \"#ed7953\"], [0.7777777777777778, \"#fb9f3a\"], [0.8888888888888888, \"#fdca26\"], [1.0, \"#f0f921\"]], \"type\": \"histogram2d\"}], \"histogram2dcontour\": [{\"colorbar\": {\"outlinewidth\": 0, \"ticks\": \"\"}, \"colorscale\": [[0.0, \"#0d0887\"], [0.1111111111111111, \"#46039f\"], [0.2222222222222222, \"#7201a8\"], [0.3333333333333333, \"#9c179e\"], [0.4444444444444444, \"#bd3786\"], [0.5555555555555556, \"#d8576b\"], [0.6666666666666666, \"#ed7953\"], [0.7777777777777778, \"#fb9f3a\"], [0.8888888888888888, \"#fdca26\"], [1.0, \"#f0f921\"]], \"type\": \"histogram2dcontour\"}], \"mesh3d\": [{\"colorbar\": {\"outlinewidth\": 0, \"ticks\": \"\"}, \"type\": \"mesh3d\"}], \"parcoords\": [{\"line\": {\"colorbar\": {\"outlinewidth\": 0, \"ticks\": \"\"}}, \"type\": \"parcoords\"}], \"pie\": [{\"automargin\": true, \"type\": \"pie\"}], \"scatter\": [{\"marker\": {\"colorbar\": {\"outlinewidth\": 0, \"ticks\": \"\"}}, \"type\": \"scatter\"}], \"scatter3d\": [{\"line\": {\"colorbar\": {\"outlinewidth\": 0, \"ticks\": \"\"}}, \"marker\": {\"colorbar\": {\"outlinewidth\": 0, \"ticks\": \"\"}}, \"type\": \"scatter3d\"}], \"scattercarpet\": [{\"marker\": {\"colorbar\": {\"outlinewidth\": 0, \"ticks\": \"\"}}, \"type\": \"scattercarpet\"}], \"scattergeo\": [{\"marker\": {\"colorbar\": {\"outlinewidth\": 0, \"ticks\": \"\"}}, \"type\": \"scattergeo\"}], \"scattergl\": [{\"marker\": {\"colorbar\": {\"outlinewidth\": 0, \"ticks\": \"\"}}, \"type\": \"scattergl\"}], \"scattermapbox\": [{\"marker\": {\"colorbar\": {\"outlinewidth\": 0, \"ticks\": \"\"}}, \"type\": \"scattermapbox\"}], \"scatterpolar\": [{\"marker\": {\"colorbar\": {\"outlinewidth\": 0, \"ticks\": \"\"}}, \"type\": \"scatterpolar\"}], \"scatterpolargl\": [{\"marker\": {\"colorbar\": {\"outlinewidth\": 0, \"ticks\": \"\"}}, \"type\": \"scatterpolargl\"}], \"scatterternary\": [{\"marker\": {\"colorbar\": {\"outlinewidth\": 0, \"ticks\": \"\"}}, \"type\": \"scatterternary\"}], \"surface\": [{\"colorbar\": {\"outlinewidth\": 0, \"ticks\": \"\"}, \"colorscale\": [[0.0, \"#0d0887\"], [0.1111111111111111, \"#46039f\"], [0.2222222222222222, \"#7201a8\"], [0.3333333333333333, \"#9c179e\"], [0.4444444444444444, \"#bd3786\"], [0.5555555555555556, \"#d8576b\"], [0.6666666666666666, \"#ed7953\"], [0.7777777777777778, \"#fb9f3a\"], [0.8888888888888888, \"#fdca26\"], [1.0, \"#f0f921\"]], \"type\": \"surface\"}], \"table\": [{\"cells\": {\"fill\": {\"color\": \"#EBF0F8\"}, \"line\": {\"color\": \"white\"}}, \"header\": {\"fill\": {\"color\": \"#C8D4E3\"}, \"line\": {\"color\": \"white\"}}, \"type\": \"table\"}]}, \"layout\": {\"annotationdefaults\": {\"arrowcolor\": \"#2a3f5f\", \"arrowhead\": 0, \"arrowwidth\": 1}, \"coloraxis\": {\"colorbar\": {\"outlinewidth\": 0, \"ticks\": \"\"}}, \"colorscale\": {\"diverging\": [[0, \"#8e0152\"], [0.1, \"#c51b7d\"], [0.2, \"#de77ae\"], [0.3, \"#f1b6da\"], [0.4, \"#fde0ef\"], [0.5, \"#f7f7f7\"], [0.6, \"#e6f5d0\"], [0.7, \"#b8e186\"], [0.8, \"#7fbc41\"], [0.9, \"#4d9221\"], [1, \"#276419\"]], \"sequential\": [[0.0, \"#0d0887\"], [0.1111111111111111, \"#46039f\"], [0.2222222222222222, \"#7201a8\"], [0.3333333333333333, \"#9c179e\"], [0.4444444444444444, \"#bd3786\"], [0.5555555555555556, \"#d8576b\"], [0.6666666666666666, \"#ed7953\"], [0.7777777777777778, \"#fb9f3a\"], [0.8888888888888888, \"#fdca26\"], [1.0, \"#f0f921\"]], \"sequentialminus\": [[0.0, \"#0d0887\"], [0.1111111111111111, \"#46039f\"], [0.2222222222222222, \"#7201a8\"], [0.3333333333333333, \"#9c179e\"], [0.4444444444444444, \"#bd3786\"], [0.5555555555555556, \"#d8576b\"], [0.6666666666666666, \"#ed7953\"], [0.7777777777777778, \"#fb9f3a\"], [0.8888888888888888, \"#fdca26\"], [1.0, \"#f0f921\"]]}, \"colorway\": [\"#636efa\", \"#EF553B\", \"#00cc96\", \"#ab63fa\", \"#FFA15A\", \"#19d3f3\", \"#FF6692\", \"#B6E880\", \"#FF97FF\", \"#FECB52\"], \"font\": {\"color\": \"#2a3f5f\"}, \"geo\": {\"bgcolor\": \"white\", \"lakecolor\": \"white\", \"landcolor\": \"#E5ECF6\", \"showlakes\": true, \"showland\": true, \"subunitcolor\": \"white\"}, \"hoverlabel\": {\"align\": \"left\"}, \"hovermode\": \"closest\", \"mapbox\": {\"style\": \"light\"}, \"paper_bgcolor\": \"white\", \"plot_bgcolor\": \"#E5ECF6\", \"polar\": {\"angularaxis\": {\"gridcolor\": \"white\", \"linecolor\": \"white\", \"ticks\": \"\"}, \"bgcolor\": \"#E5ECF6\", \"radialaxis\": {\"gridcolor\": \"white\", \"linecolor\": \"white\", \"ticks\": \"\"}}, \"scene\": {\"xaxis\": {\"backgroundcolor\": \"#E5ECF6\", \"gridcolor\": \"white\", \"gridwidth\": 2, \"linecolor\": \"white\", \"showbackground\": true, \"ticks\": \"\", \"zerolinecolor\": \"white\"}, \"yaxis\": {\"backgroundcolor\": \"#E5ECF6\", \"gridcolor\": \"white\", \"gridwidth\": 2, \"linecolor\": \"white\", \"showbackground\": true, \"ticks\": \"\", \"zerolinecolor\": \"white\"}, \"zaxis\": {\"backgroundcolor\": \"#E5ECF6\", \"gridcolor\": \"white\", \"gridwidth\": 2, \"linecolor\": \"white\", \"showbackground\": true, \"ticks\": \"\", \"zerolinecolor\": \"white\"}}, \"shapedefaults\": {\"line\": {\"color\": \"#2a3f5f\"}}, \"ternary\": {\"aaxis\": {\"gridcolor\": \"white\", \"linecolor\": \"white\", \"ticks\": \"\"}, \"baxis\": {\"gridcolor\": \"white\", \"linecolor\": \"white\", \"ticks\": \"\"}, \"bgcolor\": \"#E5ECF6\", \"caxis\": {\"gridcolor\": \"white\", \"linecolor\": \"white\", \"ticks\": \"\"}}, \"title\": {\"x\": 0.05}, \"xaxis\": {\"automargin\": true, \"gridcolor\": \"white\", \"linecolor\": \"white\", \"ticks\": \"\", \"title\": {\"standoff\": 15}, \"zerolinecolor\": \"white\", \"zerolinewidth\": 2}, \"yaxis\": {\"automargin\": true, \"gridcolor\": \"white\", \"linecolor\": \"white\", \"ticks\": \"\", \"title\": {\"standoff\": 15}, \"zerolinecolor\": \"white\", \"zerolinewidth\": 2}}}, \"title\": {\"font\": {\"color\": \"#4D5663\"}}, \"xaxis\": {\"gridcolor\": \"#E1E5ED\", \"showgrid\": true, \"tickfont\": {\"color\": \"#4D5663\"}, \"title\": {\"font\": {\"color\": \"#4D5663\"}, \"text\": \"\"}, \"zerolinecolor\": \"#E1E5ED\"}, \"yaxis\": {\"gridcolor\": \"#E1E5ED\", \"showgrid\": true, \"tickfont\": {\"color\": \"#4D5663\"}, \"title\": {\"font\": {\"color\": \"#4D5663\"}, \"text\": \"\"}, \"zerolinecolor\": \"#E1E5ED\"}},\n",
       "                        {\"showLink\": true, \"linkText\": \"Export to plot.ly\", \"plotlyServerURL\": \"https://plot.ly\", \"responsive\": true}\n",
       "                    ).then(function(){\n",
       "                            \n",
       "var gd = document.getElementById('90ff8f1c-db72-41cd-aed1-fe3219f9446e');\n",
       "var x = new MutationObserver(function (mutations, observer) {{\n",
       "        var display = window.getComputedStyle(gd).display;\n",
       "        if (!display || display === 'none') {{\n",
       "            console.log([gd, 'removed!']);\n",
       "            Plotly.purge(gd);\n",
       "            observer.disconnect();\n",
       "        }}\n",
       "}});\n",
       "\n",
       "// Listen for the removal of the full notebook cells\n",
       "var notebookContainer = gd.closest('#notebook-container');\n",
       "if (notebookContainer) {{\n",
       "    x.observe(notebookContainer, {childList: true});\n",
       "}}\n",
       "\n",
       "// Listen for the clearing of the current output cell\n",
       "var outputEl = gd.closest('.output');\n",
       "if (outputEl) {{\n",
       "    x.observe(outputEl, {childList: true});\n",
       "}}\n",
       "\n",
       "                        })\n",
       "                };\n",
       "                });\n",
       "            </script>\n",
       "        </div>"
      ]
     },
     "metadata": {},
     "output_type": "display_data"
    }
   ],
   "source": [
    "df3 = pd.DataFrame({'x':[1,2,3,4,5], 'y':[10,20,30,20,10], 'z':[5,4,3,2,1]})\n",
    "df3.iplot(kind='surface')"
   ]
  },
  {
   "cell_type": "code",
   "execution_count": 32,
   "metadata": {},
   "outputs": [
    {
     "data": {
      "application/vnd.plotly.v1+json": {
       "config": {
        "linkText": "Export to plot.ly",
        "plotlyServerURL": "https://plot.ly",
        "showLink": true
       },
       "data": [
        {
         "colorscale": [
          [
           0,
           "rgb(165,0,38)"
          ],
          [
           0.1,
           "rgb(215,48,39)"
          ],
          [
           0.2,
           "rgb(244,109,67)"
          ],
          [
           0.3,
           "rgb(253,174,97)"
          ],
          [
           0.4,
           "rgb(254,224,144)"
          ],
          [
           0.5,
           "rgb(255,255,191)"
          ],
          [
           0.6,
           "rgb(224,243,248)"
          ],
          [
           0.7,
           "rgb(171,217,233)"
          ],
          [
           0.8,
           "rgb(116,173,209)"
          ],
          [
           0.9,
           "rgb(69,117,180)"
          ],
          [
           1,
           "rgb(49,54,149)"
          ]
         ],
         "type": "surface",
         "x": [
          0,
          1,
          2,
          3,
          4
         ],
         "y": [
          "x",
          "y",
          "z"
         ],
         "z": [
          [
           1,
           2,
           3,
           4,
           5
          ],
          [
           10,
           20,
           30,
           20,
           10
          ],
          [
           5,
           4,
           3,
           2,
           1
          ]
         ]
        }
       ],
       "layout": {
        "legend": {
         "bgcolor": "#F5F6F9",
         "font": {
          "color": "#4D5663"
         }
        },
        "paper_bgcolor": "#F5F6F9",
        "plot_bgcolor": "#F5F6F9",
        "template": {
         "data": {
          "bar": [
           {
            "error_x": {
             "color": "#2a3f5f"
            },
            "error_y": {
             "color": "#2a3f5f"
            },
            "marker": {
             "line": {
              "color": "#E5ECF6",
              "width": 0.5
             }
            },
            "type": "bar"
           }
          ],
          "barpolar": [
           {
            "marker": {
             "line": {
              "color": "#E5ECF6",
              "width": 0.5
             }
            },
            "type": "barpolar"
           }
          ],
          "carpet": [
           {
            "aaxis": {
             "endlinecolor": "#2a3f5f",
             "gridcolor": "white",
             "linecolor": "white",
             "minorgridcolor": "white",
             "startlinecolor": "#2a3f5f"
            },
            "baxis": {
             "endlinecolor": "#2a3f5f",
             "gridcolor": "white",
             "linecolor": "white",
             "minorgridcolor": "white",
             "startlinecolor": "#2a3f5f"
            },
            "type": "carpet"
           }
          ],
          "choropleth": [
           {
            "colorbar": {
             "outlinewidth": 0,
             "ticks": ""
            },
            "type": "choropleth"
           }
          ],
          "contour": [
           {
            "colorbar": {
             "outlinewidth": 0,
             "ticks": ""
            },
            "colorscale": [
             [
              0,
              "#0d0887"
             ],
             [
              0.1111111111111111,
              "#46039f"
             ],
             [
              0.2222222222222222,
              "#7201a8"
             ],
             [
              0.3333333333333333,
              "#9c179e"
             ],
             [
              0.4444444444444444,
              "#bd3786"
             ],
             [
              0.5555555555555556,
              "#d8576b"
             ],
             [
              0.6666666666666666,
              "#ed7953"
             ],
             [
              0.7777777777777778,
              "#fb9f3a"
             ],
             [
              0.8888888888888888,
              "#fdca26"
             ],
             [
              1,
              "#f0f921"
             ]
            ],
            "type": "contour"
           }
          ],
          "contourcarpet": [
           {
            "colorbar": {
             "outlinewidth": 0,
             "ticks": ""
            },
            "type": "contourcarpet"
           }
          ],
          "heatmap": [
           {
            "colorbar": {
             "outlinewidth": 0,
             "ticks": ""
            },
            "colorscale": [
             [
              0,
              "#0d0887"
             ],
             [
              0.1111111111111111,
              "#46039f"
             ],
             [
              0.2222222222222222,
              "#7201a8"
             ],
             [
              0.3333333333333333,
              "#9c179e"
             ],
             [
              0.4444444444444444,
              "#bd3786"
             ],
             [
              0.5555555555555556,
              "#d8576b"
             ],
             [
              0.6666666666666666,
              "#ed7953"
             ],
             [
              0.7777777777777778,
              "#fb9f3a"
             ],
             [
              0.8888888888888888,
              "#fdca26"
             ],
             [
              1,
              "#f0f921"
             ]
            ],
            "type": "heatmap"
           }
          ],
          "heatmapgl": [
           {
            "colorbar": {
             "outlinewidth": 0,
             "ticks": ""
            },
            "colorscale": [
             [
              0,
              "#0d0887"
             ],
             [
              0.1111111111111111,
              "#46039f"
             ],
             [
              0.2222222222222222,
              "#7201a8"
             ],
             [
              0.3333333333333333,
              "#9c179e"
             ],
             [
              0.4444444444444444,
              "#bd3786"
             ],
             [
              0.5555555555555556,
              "#d8576b"
             ],
             [
              0.6666666666666666,
              "#ed7953"
             ],
             [
              0.7777777777777778,
              "#fb9f3a"
             ],
             [
              0.8888888888888888,
              "#fdca26"
             ],
             [
              1,
              "#f0f921"
             ]
            ],
            "type": "heatmapgl"
           }
          ],
          "histogram": [
           {
            "marker": {
             "colorbar": {
              "outlinewidth": 0,
              "ticks": ""
             }
            },
            "type": "histogram"
           }
          ],
          "histogram2d": [
           {
            "colorbar": {
             "outlinewidth": 0,
             "ticks": ""
            },
            "colorscale": [
             [
              0,
              "#0d0887"
             ],
             [
              0.1111111111111111,
              "#46039f"
             ],
             [
              0.2222222222222222,
              "#7201a8"
             ],
             [
              0.3333333333333333,
              "#9c179e"
             ],
             [
              0.4444444444444444,
              "#bd3786"
             ],
             [
              0.5555555555555556,
              "#d8576b"
             ],
             [
              0.6666666666666666,
              "#ed7953"
             ],
             [
              0.7777777777777778,
              "#fb9f3a"
             ],
             [
              0.8888888888888888,
              "#fdca26"
             ],
             [
              1,
              "#f0f921"
             ]
            ],
            "type": "histogram2d"
           }
          ],
          "histogram2dcontour": [
           {
            "colorbar": {
             "outlinewidth": 0,
             "ticks": ""
            },
            "colorscale": [
             [
              0,
              "#0d0887"
             ],
             [
              0.1111111111111111,
              "#46039f"
             ],
             [
              0.2222222222222222,
              "#7201a8"
             ],
             [
              0.3333333333333333,
              "#9c179e"
             ],
             [
              0.4444444444444444,
              "#bd3786"
             ],
             [
              0.5555555555555556,
              "#d8576b"
             ],
             [
              0.6666666666666666,
              "#ed7953"
             ],
             [
              0.7777777777777778,
              "#fb9f3a"
             ],
             [
              0.8888888888888888,
              "#fdca26"
             ],
             [
              1,
              "#f0f921"
             ]
            ],
            "type": "histogram2dcontour"
           }
          ],
          "mesh3d": [
           {
            "colorbar": {
             "outlinewidth": 0,
             "ticks": ""
            },
            "type": "mesh3d"
           }
          ],
          "parcoords": [
           {
            "line": {
             "colorbar": {
              "outlinewidth": 0,
              "ticks": ""
             }
            },
            "type": "parcoords"
           }
          ],
          "pie": [
           {
            "automargin": true,
            "type": "pie"
           }
          ],
          "scatter": [
           {
            "marker": {
             "colorbar": {
              "outlinewidth": 0,
              "ticks": ""
             }
            },
            "type": "scatter"
           }
          ],
          "scatter3d": [
           {
            "line": {
             "colorbar": {
              "outlinewidth": 0,
              "ticks": ""
             }
            },
            "marker": {
             "colorbar": {
              "outlinewidth": 0,
              "ticks": ""
             }
            },
            "type": "scatter3d"
           }
          ],
          "scattercarpet": [
           {
            "marker": {
             "colorbar": {
              "outlinewidth": 0,
              "ticks": ""
             }
            },
            "type": "scattercarpet"
           }
          ],
          "scattergeo": [
           {
            "marker": {
             "colorbar": {
              "outlinewidth": 0,
              "ticks": ""
             }
            },
            "type": "scattergeo"
           }
          ],
          "scattergl": [
           {
            "marker": {
             "colorbar": {
              "outlinewidth": 0,
              "ticks": ""
             }
            },
            "type": "scattergl"
           }
          ],
          "scattermapbox": [
           {
            "marker": {
             "colorbar": {
              "outlinewidth": 0,
              "ticks": ""
             }
            },
            "type": "scattermapbox"
           }
          ],
          "scatterpolar": [
           {
            "marker": {
             "colorbar": {
              "outlinewidth": 0,
              "ticks": ""
             }
            },
            "type": "scatterpolar"
           }
          ],
          "scatterpolargl": [
           {
            "marker": {
             "colorbar": {
              "outlinewidth": 0,
              "ticks": ""
             }
            },
            "type": "scatterpolargl"
           }
          ],
          "scatterternary": [
           {
            "marker": {
             "colorbar": {
              "outlinewidth": 0,
              "ticks": ""
             }
            },
            "type": "scatterternary"
           }
          ],
          "surface": [
           {
            "colorbar": {
             "outlinewidth": 0,
             "ticks": ""
            },
            "colorscale": [
             [
              0,
              "#0d0887"
             ],
             [
              0.1111111111111111,
              "#46039f"
             ],
             [
              0.2222222222222222,
              "#7201a8"
             ],
             [
              0.3333333333333333,
              "#9c179e"
             ],
             [
              0.4444444444444444,
              "#bd3786"
             ],
             [
              0.5555555555555556,
              "#d8576b"
             ],
             [
              0.6666666666666666,
              "#ed7953"
             ],
             [
              0.7777777777777778,
              "#fb9f3a"
             ],
             [
              0.8888888888888888,
              "#fdca26"
             ],
             [
              1,
              "#f0f921"
             ]
            ],
            "type": "surface"
           }
          ],
          "table": [
           {
            "cells": {
             "fill": {
              "color": "#EBF0F8"
             },
             "line": {
              "color": "white"
             }
            },
            "header": {
             "fill": {
              "color": "#C8D4E3"
             },
             "line": {
              "color": "white"
             }
            },
            "type": "table"
           }
          ]
         },
         "layout": {
          "annotationdefaults": {
           "arrowcolor": "#2a3f5f",
           "arrowhead": 0,
           "arrowwidth": 1
          },
          "coloraxis": {
           "colorbar": {
            "outlinewidth": 0,
            "ticks": ""
           }
          },
          "colorscale": {
           "diverging": [
            [
             0,
             "#8e0152"
            ],
            [
             0.1,
             "#c51b7d"
            ],
            [
             0.2,
             "#de77ae"
            ],
            [
             0.3,
             "#f1b6da"
            ],
            [
             0.4,
             "#fde0ef"
            ],
            [
             0.5,
             "#f7f7f7"
            ],
            [
             0.6,
             "#e6f5d0"
            ],
            [
             0.7,
             "#b8e186"
            ],
            [
             0.8,
             "#7fbc41"
            ],
            [
             0.9,
             "#4d9221"
            ],
            [
             1,
             "#276419"
            ]
           ],
           "sequential": [
            [
             0,
             "#0d0887"
            ],
            [
             0.1111111111111111,
             "#46039f"
            ],
            [
             0.2222222222222222,
             "#7201a8"
            ],
            [
             0.3333333333333333,
             "#9c179e"
            ],
            [
             0.4444444444444444,
             "#bd3786"
            ],
            [
             0.5555555555555556,
             "#d8576b"
            ],
            [
             0.6666666666666666,
             "#ed7953"
            ],
            [
             0.7777777777777778,
             "#fb9f3a"
            ],
            [
             0.8888888888888888,
             "#fdca26"
            ],
            [
             1,
             "#f0f921"
            ]
           ],
           "sequentialminus": [
            [
             0,
             "#0d0887"
            ],
            [
             0.1111111111111111,
             "#46039f"
            ],
            [
             0.2222222222222222,
             "#7201a8"
            ],
            [
             0.3333333333333333,
             "#9c179e"
            ],
            [
             0.4444444444444444,
             "#bd3786"
            ],
            [
             0.5555555555555556,
             "#d8576b"
            ],
            [
             0.6666666666666666,
             "#ed7953"
            ],
            [
             0.7777777777777778,
             "#fb9f3a"
            ],
            [
             0.8888888888888888,
             "#fdca26"
            ],
            [
             1,
             "#f0f921"
            ]
           ]
          },
          "colorway": [
           "#636efa",
           "#EF553B",
           "#00cc96",
           "#ab63fa",
           "#FFA15A",
           "#19d3f3",
           "#FF6692",
           "#B6E880",
           "#FF97FF",
           "#FECB52"
          ],
          "font": {
           "color": "#2a3f5f"
          },
          "geo": {
           "bgcolor": "white",
           "lakecolor": "white",
           "landcolor": "#E5ECF6",
           "showlakes": true,
           "showland": true,
           "subunitcolor": "white"
          },
          "hoverlabel": {
           "align": "left"
          },
          "hovermode": "closest",
          "mapbox": {
           "style": "light"
          },
          "paper_bgcolor": "white",
          "plot_bgcolor": "#E5ECF6",
          "polar": {
           "angularaxis": {
            "gridcolor": "white",
            "linecolor": "white",
            "ticks": ""
           },
           "bgcolor": "#E5ECF6",
           "radialaxis": {
            "gridcolor": "white",
            "linecolor": "white",
            "ticks": ""
           }
          },
          "scene": {
           "xaxis": {
            "backgroundcolor": "#E5ECF6",
            "gridcolor": "white",
            "gridwidth": 2,
            "linecolor": "white",
            "showbackground": true,
            "ticks": "",
            "zerolinecolor": "white"
           },
           "yaxis": {
            "backgroundcolor": "#E5ECF6",
            "gridcolor": "white",
            "gridwidth": 2,
            "linecolor": "white",
            "showbackground": true,
            "ticks": "",
            "zerolinecolor": "white"
           },
           "zaxis": {
            "backgroundcolor": "#E5ECF6",
            "gridcolor": "white",
            "gridwidth": 2,
            "linecolor": "white",
            "showbackground": true,
            "ticks": "",
            "zerolinecolor": "white"
           }
          },
          "shapedefaults": {
           "line": {
            "color": "#2a3f5f"
           }
          },
          "ternary": {
           "aaxis": {
            "gridcolor": "white",
            "linecolor": "white",
            "ticks": ""
           },
           "baxis": {
            "gridcolor": "white",
            "linecolor": "white",
            "ticks": ""
           },
           "bgcolor": "#E5ECF6",
           "caxis": {
            "gridcolor": "white",
            "linecolor": "white",
            "ticks": ""
           }
          },
          "title": {
           "x": 0.05
          },
          "xaxis": {
           "automargin": true,
           "gridcolor": "white",
           "linecolor": "white",
           "ticks": "",
           "title": {
            "standoff": 15
           },
           "zerolinecolor": "white",
           "zerolinewidth": 2
          },
          "yaxis": {
           "automargin": true,
           "gridcolor": "white",
           "linecolor": "white",
           "ticks": "",
           "title": {
            "standoff": 15
           },
           "zerolinecolor": "white",
           "zerolinewidth": 2
          }
         }
        },
        "title": {
         "font": {
          "color": "#4D5663"
         }
        },
        "xaxis": {
         "gridcolor": "#E1E5ED",
         "showgrid": true,
         "tickfont": {
          "color": "#4D5663"
         },
         "title": {
          "font": {
           "color": "#4D5663"
          },
          "text": ""
         },
         "zerolinecolor": "#E1E5ED"
        },
        "yaxis": {
         "gridcolor": "#E1E5ED",
         "showgrid": true,
         "tickfont": {
          "color": "#4D5663"
         },
         "title": {
          "font": {
           "color": "#4D5663"
          },
          "text": ""
         },
         "zerolinecolor": "#E1E5ED"
        }
       }
      },
      "text/html": [
       "<div>\n",
       "        \n",
       "        \n",
       "            <div id=\"ed7fb387-92d4-4e58-8a06-50432c1c56c7\" class=\"plotly-graph-div\" style=\"height:525px; width:100%;\"></div>\n",
       "            <script type=\"text/javascript\">\n",
       "                require([\"plotly\"], function(Plotly) {\n",
       "                    window.PLOTLYENV=window.PLOTLYENV || {};\n",
       "                    window.PLOTLYENV.BASE_URL='https://plot.ly';\n",
       "                    \n",
       "                if (document.getElementById(\"ed7fb387-92d4-4e58-8a06-50432c1c56c7\")) {\n",
       "                    Plotly.newPlot(\n",
       "                        'ed7fb387-92d4-4e58-8a06-50432c1c56c7',\n",
       "                        [{\"colorscale\": [[0.0, \"rgb(165,0,38)\"], [0.1, \"rgb(215,48,39)\"], [0.2, \"rgb(244,109,67)\"], [0.3, \"rgb(253,174,97)\"], [0.4, \"rgb(254,224,144)\"], [0.5, \"rgb(255,255,191)\"], [0.6, \"rgb(224,243,248)\"], [0.7, \"rgb(171,217,233)\"], [0.8, \"rgb(116,173,209)\"], [0.9, \"rgb(69,117,180)\"], [1.0, \"rgb(49,54,149)\"]], \"type\": \"surface\", \"x\": [0, 1, 2, 3, 4], \"y\": [\"x\", \"y\", \"z\"], \"z\": [[1, 2, 3, 4, 5], [10, 20, 30, 20, 10], [5, 4, 3, 2, 1]]}],\n",
       "                        {\"legend\": {\"bgcolor\": \"#F5F6F9\", \"font\": {\"color\": \"#4D5663\"}}, \"paper_bgcolor\": \"#F5F6F9\", \"plot_bgcolor\": \"#F5F6F9\", \"template\": {\"data\": {\"bar\": [{\"error_x\": {\"color\": \"#2a3f5f\"}, \"error_y\": {\"color\": \"#2a3f5f\"}, \"marker\": {\"line\": {\"color\": \"#E5ECF6\", \"width\": 0.5}}, \"type\": \"bar\"}], \"barpolar\": [{\"marker\": {\"line\": {\"color\": \"#E5ECF6\", \"width\": 0.5}}, \"type\": \"barpolar\"}], \"carpet\": [{\"aaxis\": {\"endlinecolor\": \"#2a3f5f\", \"gridcolor\": \"white\", \"linecolor\": \"white\", \"minorgridcolor\": \"white\", \"startlinecolor\": \"#2a3f5f\"}, \"baxis\": {\"endlinecolor\": \"#2a3f5f\", \"gridcolor\": \"white\", \"linecolor\": \"white\", \"minorgridcolor\": \"white\", \"startlinecolor\": \"#2a3f5f\"}, \"type\": \"carpet\"}], \"choropleth\": [{\"colorbar\": {\"outlinewidth\": 0, \"ticks\": \"\"}, \"type\": \"choropleth\"}], \"contour\": [{\"colorbar\": {\"outlinewidth\": 0, \"ticks\": \"\"}, \"colorscale\": [[0.0, \"#0d0887\"], [0.1111111111111111, \"#46039f\"], [0.2222222222222222, \"#7201a8\"], [0.3333333333333333, \"#9c179e\"], [0.4444444444444444, \"#bd3786\"], [0.5555555555555556, \"#d8576b\"], [0.6666666666666666, \"#ed7953\"], [0.7777777777777778, \"#fb9f3a\"], [0.8888888888888888, \"#fdca26\"], [1.0, \"#f0f921\"]], \"type\": \"contour\"}], \"contourcarpet\": [{\"colorbar\": {\"outlinewidth\": 0, \"ticks\": \"\"}, \"type\": \"contourcarpet\"}], \"heatmap\": [{\"colorbar\": {\"outlinewidth\": 0, \"ticks\": \"\"}, \"colorscale\": [[0.0, \"#0d0887\"], [0.1111111111111111, \"#46039f\"], [0.2222222222222222, \"#7201a8\"], [0.3333333333333333, \"#9c179e\"], [0.4444444444444444, \"#bd3786\"], [0.5555555555555556, \"#d8576b\"], [0.6666666666666666, \"#ed7953\"], [0.7777777777777778, \"#fb9f3a\"], [0.8888888888888888, \"#fdca26\"], [1.0, \"#f0f921\"]], \"type\": \"heatmap\"}], \"heatmapgl\": [{\"colorbar\": {\"outlinewidth\": 0, \"ticks\": \"\"}, \"colorscale\": [[0.0, \"#0d0887\"], [0.1111111111111111, \"#46039f\"], [0.2222222222222222, \"#7201a8\"], [0.3333333333333333, \"#9c179e\"], [0.4444444444444444, \"#bd3786\"], [0.5555555555555556, \"#d8576b\"], [0.6666666666666666, \"#ed7953\"], [0.7777777777777778, \"#fb9f3a\"], [0.8888888888888888, \"#fdca26\"], [1.0, \"#f0f921\"]], \"type\": \"heatmapgl\"}], \"histogram\": [{\"marker\": {\"colorbar\": {\"outlinewidth\": 0, \"ticks\": \"\"}}, \"type\": \"histogram\"}], \"histogram2d\": [{\"colorbar\": {\"outlinewidth\": 0, \"ticks\": \"\"}, \"colorscale\": [[0.0, \"#0d0887\"], [0.1111111111111111, \"#46039f\"], [0.2222222222222222, \"#7201a8\"], [0.3333333333333333, \"#9c179e\"], [0.4444444444444444, \"#bd3786\"], [0.5555555555555556, \"#d8576b\"], [0.6666666666666666, \"#ed7953\"], [0.7777777777777778, \"#fb9f3a\"], [0.8888888888888888, \"#fdca26\"], [1.0, \"#f0f921\"]], \"type\": \"histogram2d\"}], \"histogram2dcontour\": [{\"colorbar\": {\"outlinewidth\": 0, \"ticks\": \"\"}, \"colorscale\": [[0.0, \"#0d0887\"], [0.1111111111111111, \"#46039f\"], [0.2222222222222222, \"#7201a8\"], [0.3333333333333333, \"#9c179e\"], [0.4444444444444444, \"#bd3786\"], [0.5555555555555556, \"#d8576b\"], [0.6666666666666666, \"#ed7953\"], [0.7777777777777778, \"#fb9f3a\"], [0.8888888888888888, \"#fdca26\"], [1.0, \"#f0f921\"]], \"type\": \"histogram2dcontour\"}], \"mesh3d\": [{\"colorbar\": {\"outlinewidth\": 0, \"ticks\": \"\"}, \"type\": \"mesh3d\"}], \"parcoords\": [{\"line\": {\"colorbar\": {\"outlinewidth\": 0, \"ticks\": \"\"}}, \"type\": \"parcoords\"}], \"pie\": [{\"automargin\": true, \"type\": \"pie\"}], \"scatter\": [{\"marker\": {\"colorbar\": {\"outlinewidth\": 0, \"ticks\": \"\"}}, \"type\": \"scatter\"}], \"scatter3d\": [{\"line\": {\"colorbar\": {\"outlinewidth\": 0, \"ticks\": \"\"}}, \"marker\": {\"colorbar\": {\"outlinewidth\": 0, \"ticks\": \"\"}}, \"type\": \"scatter3d\"}], \"scattercarpet\": [{\"marker\": {\"colorbar\": {\"outlinewidth\": 0, \"ticks\": \"\"}}, \"type\": \"scattercarpet\"}], \"scattergeo\": [{\"marker\": {\"colorbar\": {\"outlinewidth\": 0, \"ticks\": \"\"}}, \"type\": \"scattergeo\"}], \"scattergl\": [{\"marker\": {\"colorbar\": {\"outlinewidth\": 0, \"ticks\": \"\"}}, \"type\": \"scattergl\"}], \"scattermapbox\": [{\"marker\": {\"colorbar\": {\"outlinewidth\": 0, \"ticks\": \"\"}}, \"type\": \"scattermapbox\"}], \"scatterpolar\": [{\"marker\": {\"colorbar\": {\"outlinewidth\": 0, \"ticks\": \"\"}}, \"type\": \"scatterpolar\"}], \"scatterpolargl\": [{\"marker\": {\"colorbar\": {\"outlinewidth\": 0, \"ticks\": \"\"}}, \"type\": \"scatterpolargl\"}], \"scatterternary\": [{\"marker\": {\"colorbar\": {\"outlinewidth\": 0, \"ticks\": \"\"}}, \"type\": \"scatterternary\"}], \"surface\": [{\"colorbar\": {\"outlinewidth\": 0, \"ticks\": \"\"}, \"colorscale\": [[0.0, \"#0d0887\"], [0.1111111111111111, \"#46039f\"], [0.2222222222222222, \"#7201a8\"], [0.3333333333333333, \"#9c179e\"], [0.4444444444444444, \"#bd3786\"], [0.5555555555555556, \"#d8576b\"], [0.6666666666666666, \"#ed7953\"], [0.7777777777777778, \"#fb9f3a\"], [0.8888888888888888, \"#fdca26\"], [1.0, \"#f0f921\"]], \"type\": \"surface\"}], \"table\": [{\"cells\": {\"fill\": {\"color\": \"#EBF0F8\"}, \"line\": {\"color\": \"white\"}}, \"header\": {\"fill\": {\"color\": \"#C8D4E3\"}, \"line\": {\"color\": \"white\"}}, \"type\": \"table\"}]}, \"layout\": {\"annotationdefaults\": {\"arrowcolor\": \"#2a3f5f\", \"arrowhead\": 0, \"arrowwidth\": 1}, \"coloraxis\": {\"colorbar\": {\"outlinewidth\": 0, \"ticks\": \"\"}}, \"colorscale\": {\"diverging\": [[0, \"#8e0152\"], [0.1, \"#c51b7d\"], [0.2, \"#de77ae\"], [0.3, \"#f1b6da\"], [0.4, \"#fde0ef\"], [0.5, \"#f7f7f7\"], [0.6, \"#e6f5d0\"], [0.7, \"#b8e186\"], [0.8, \"#7fbc41\"], [0.9, \"#4d9221\"], [1, \"#276419\"]], \"sequential\": [[0.0, \"#0d0887\"], [0.1111111111111111, \"#46039f\"], [0.2222222222222222, \"#7201a8\"], [0.3333333333333333, \"#9c179e\"], [0.4444444444444444, \"#bd3786\"], [0.5555555555555556, \"#d8576b\"], [0.6666666666666666, \"#ed7953\"], [0.7777777777777778, \"#fb9f3a\"], [0.8888888888888888, \"#fdca26\"], [1.0, \"#f0f921\"]], \"sequentialminus\": [[0.0, \"#0d0887\"], [0.1111111111111111, \"#46039f\"], [0.2222222222222222, \"#7201a8\"], [0.3333333333333333, \"#9c179e\"], [0.4444444444444444, \"#bd3786\"], [0.5555555555555556, \"#d8576b\"], [0.6666666666666666, \"#ed7953\"], [0.7777777777777778, \"#fb9f3a\"], [0.8888888888888888, \"#fdca26\"], [1.0, \"#f0f921\"]]}, \"colorway\": [\"#636efa\", \"#EF553B\", \"#00cc96\", \"#ab63fa\", \"#FFA15A\", \"#19d3f3\", \"#FF6692\", \"#B6E880\", \"#FF97FF\", \"#FECB52\"], \"font\": {\"color\": \"#2a3f5f\"}, \"geo\": {\"bgcolor\": \"white\", \"lakecolor\": \"white\", \"landcolor\": \"#E5ECF6\", \"showlakes\": true, \"showland\": true, \"subunitcolor\": \"white\"}, \"hoverlabel\": {\"align\": \"left\"}, \"hovermode\": \"closest\", \"mapbox\": {\"style\": \"light\"}, \"paper_bgcolor\": \"white\", \"plot_bgcolor\": \"#E5ECF6\", \"polar\": {\"angularaxis\": {\"gridcolor\": \"white\", \"linecolor\": \"white\", \"ticks\": \"\"}, \"bgcolor\": \"#E5ECF6\", \"radialaxis\": {\"gridcolor\": \"white\", \"linecolor\": \"white\", \"ticks\": \"\"}}, \"scene\": {\"xaxis\": {\"backgroundcolor\": \"#E5ECF6\", \"gridcolor\": \"white\", \"gridwidth\": 2, \"linecolor\": \"white\", \"showbackground\": true, \"ticks\": \"\", \"zerolinecolor\": \"white\"}, \"yaxis\": {\"backgroundcolor\": \"#E5ECF6\", \"gridcolor\": \"white\", \"gridwidth\": 2, \"linecolor\": \"white\", \"showbackground\": true, \"ticks\": \"\", \"zerolinecolor\": \"white\"}, \"zaxis\": {\"backgroundcolor\": \"#E5ECF6\", \"gridcolor\": \"white\", \"gridwidth\": 2, \"linecolor\": \"white\", \"showbackground\": true, \"ticks\": \"\", \"zerolinecolor\": \"white\"}}, \"shapedefaults\": {\"line\": {\"color\": \"#2a3f5f\"}}, \"ternary\": {\"aaxis\": {\"gridcolor\": \"white\", \"linecolor\": \"white\", \"ticks\": \"\"}, \"baxis\": {\"gridcolor\": \"white\", \"linecolor\": \"white\", \"ticks\": \"\"}, \"bgcolor\": \"#E5ECF6\", \"caxis\": {\"gridcolor\": \"white\", \"linecolor\": \"white\", \"ticks\": \"\"}}, \"title\": {\"x\": 0.05}, \"xaxis\": {\"automargin\": true, \"gridcolor\": \"white\", \"linecolor\": \"white\", \"ticks\": \"\", \"title\": {\"standoff\": 15}, \"zerolinecolor\": \"white\", \"zerolinewidth\": 2}, \"yaxis\": {\"automargin\": true, \"gridcolor\": \"white\", \"linecolor\": \"white\", \"ticks\": \"\", \"title\": {\"standoff\": 15}, \"zerolinecolor\": \"white\", \"zerolinewidth\": 2}}}, \"title\": {\"font\": {\"color\": \"#4D5663\"}}, \"xaxis\": {\"gridcolor\": \"#E1E5ED\", \"showgrid\": true, \"tickfont\": {\"color\": \"#4D5663\"}, \"title\": {\"font\": {\"color\": \"#4D5663\"}, \"text\": \"\"}, \"zerolinecolor\": \"#E1E5ED\"}, \"yaxis\": {\"gridcolor\": \"#E1E5ED\", \"showgrid\": true, \"tickfont\": {\"color\": \"#4D5663\"}, \"title\": {\"font\": {\"color\": \"#4D5663\"}, \"text\": \"\"}, \"zerolinecolor\": \"#E1E5ED\"}},\n",
       "                        {\"showLink\": true, \"linkText\": \"Export to plot.ly\", \"plotlyServerURL\": \"https://plot.ly\", \"responsive\": true}\n",
       "                    ).then(function(){\n",
       "                            \n",
       "var gd = document.getElementById('ed7fb387-92d4-4e58-8a06-50432c1c56c7');\n",
       "var x = new MutationObserver(function (mutations, observer) {{\n",
       "        var display = window.getComputedStyle(gd).display;\n",
       "        if (!display || display === 'none') {{\n",
       "            console.log([gd, 'removed!']);\n",
       "            Plotly.purge(gd);\n",
       "            observer.disconnect();\n",
       "        }}\n",
       "}});\n",
       "\n",
       "// Listen for the removal of the full notebook cells\n",
       "var notebookContainer = gd.closest('#notebook-container');\n",
       "if (notebookContainer) {{\n",
       "    x.observe(notebookContainer, {childList: true});\n",
       "}}\n",
       "\n",
       "// Listen for the clearing of the current output cell\n",
       "var outputEl = gd.closest('.output');\n",
       "if (outputEl) {{\n",
       "    x.observe(outputEl, {childList: true});\n",
       "}}\n",
       "\n",
       "                        })\n",
       "                };\n",
       "                });\n",
       "            </script>\n",
       "        </div>"
      ]
     },
     "metadata": {},
     "output_type": "display_data"
    }
   ],
   "source": [
    "df3.iplot(kind='surface',colorscale='rdylbu')"
   ]
  },
  {
   "cell_type": "code",
   "execution_count": 33,
   "metadata": {},
   "outputs": [
    {
     "data": {
      "application/vnd.plotly.v1+json": {
       "config": {
        "linkText": "Export to plot.ly",
        "plotlyServerURL": "https://plot.ly",
        "showLink": true
       },
       "data": [
        {
         "histfunc": "count",
         "histnorm": "",
         "marker": {
          "color": "rgba(255, 153, 51, 1.0)",
          "line": {
           "color": "#4D5663",
           "width": 1.3
          }
         },
         "name": "A",
         "nbinsx": 25,
         "opacity": 0.8,
         "orientation": "v",
         "type": "histogram",
         "x": [
          -0.13332898728486217,
          0.6049162173562118,
          -0.16177503105113158,
          0.2904262389514051,
          1.1562838099089574,
          -1.1848532417977728,
          0.8982273761327372,
          0.028278257948029965,
          -0.9868512173336761,
          0.6840821635822759,
          -0.7608168905347923,
          -0.4849772912292263,
          1.4103246726026462,
          -0.8217680536926046,
          -0.10584387485756273,
          0.0915326999720717,
          1.5868812487818433,
          1.4610332716855279,
          -0.296010479607427,
          -1.636326733107384,
          -0.494075647778116,
          1.254407911954291,
          -1.3259794161261163,
          0.46662695049174047,
          0.9930619033922193,
          -0.5176556953346497,
          0.4923565746528598,
          -0.30148014268246154,
          -0.4809887648149414,
          0.4820761832548575,
          0.9795666811263533,
          0.2290842534017007,
          0.36752354492950984,
          0.6168940590624284,
          0.4114722975292953,
          -0.20855183114206602,
          1.132181985806202,
          0.9935469114025697,
          0.016836190438973112,
          0.961885915997291,
          -1.783903976137237,
          -0.9587206963745689,
          -1.5379896533002744,
          -0.7128492071354146,
          -0.42738557738685895,
          0.4026918235878419,
          1.1185123034948807,
          1.1653431112356398,
          0.5260806281991431,
          0.2603131849043691,
          1.1467886882959684,
          -0.40965228755670074,
          0.7133917959352619,
          1.1250831270878798,
          0.817216553655222,
          1.4917512529186387,
          -0.5125131549706918,
          0.14776577406804275,
          0.21713674429031635,
          0.5477373667964758,
          -0.08254668451697868,
          -0.750904913226693,
          -0.48210838498018804,
          0.9105294888876799,
          0.8690776970323018,
          -0.95756608003841,
          -0.6806140558632705,
          -0.5565517022643965,
          -0.14106813094953835,
          0.17396554387381946,
          -2.041059568986403,
          -0.06075202622890458,
          -1.2553721922271923,
          0.740004930068497,
          0.6323495961138877,
          0.3758072565623964,
          0.3121515525987599,
          1.2167344648060452,
          -0.8148129555263465,
          -1.0423994099522742,
          -1.053758446029795,
          1.0591205959040673,
          0.624547701537553,
          0.4113627954704313,
          1.1811178417779826,
          1.0245574869849703,
          -0.09182695658014851,
          0.12237334974580312,
          -0.8312689468801848,
          0.31971330737792997,
          0.3882652757412495,
          -0.24487556089373985,
          1.211015675419331,
          0.2265724142315915,
          -0.6340086051558401,
          0.789035760998447,
          -0.428508620713086,
          -1.2083999122326243,
          -2.442220579365496,
          0.6181020168836062
         ]
        }
       ],
       "layout": {
        "barmode": "overlay",
        "legend": {
         "bgcolor": "#F5F6F9",
         "font": {
          "color": "#4D5663"
         }
        },
        "paper_bgcolor": "#F5F6F9",
        "plot_bgcolor": "#F5F6F9",
        "template": {
         "data": {
          "bar": [
           {
            "error_x": {
             "color": "#2a3f5f"
            },
            "error_y": {
             "color": "#2a3f5f"
            },
            "marker": {
             "line": {
              "color": "#E5ECF6",
              "width": 0.5
             }
            },
            "type": "bar"
           }
          ],
          "barpolar": [
           {
            "marker": {
             "line": {
              "color": "#E5ECF6",
              "width": 0.5
             }
            },
            "type": "barpolar"
           }
          ],
          "carpet": [
           {
            "aaxis": {
             "endlinecolor": "#2a3f5f",
             "gridcolor": "white",
             "linecolor": "white",
             "minorgridcolor": "white",
             "startlinecolor": "#2a3f5f"
            },
            "baxis": {
             "endlinecolor": "#2a3f5f",
             "gridcolor": "white",
             "linecolor": "white",
             "minorgridcolor": "white",
             "startlinecolor": "#2a3f5f"
            },
            "type": "carpet"
           }
          ],
          "choropleth": [
           {
            "colorbar": {
             "outlinewidth": 0,
             "ticks": ""
            },
            "type": "choropleth"
           }
          ],
          "contour": [
           {
            "colorbar": {
             "outlinewidth": 0,
             "ticks": ""
            },
            "colorscale": [
             [
              0,
              "#0d0887"
             ],
             [
              0.1111111111111111,
              "#46039f"
             ],
             [
              0.2222222222222222,
              "#7201a8"
             ],
             [
              0.3333333333333333,
              "#9c179e"
             ],
             [
              0.4444444444444444,
              "#bd3786"
             ],
             [
              0.5555555555555556,
              "#d8576b"
             ],
             [
              0.6666666666666666,
              "#ed7953"
             ],
             [
              0.7777777777777778,
              "#fb9f3a"
             ],
             [
              0.8888888888888888,
              "#fdca26"
             ],
             [
              1,
              "#f0f921"
             ]
            ],
            "type": "contour"
           }
          ],
          "contourcarpet": [
           {
            "colorbar": {
             "outlinewidth": 0,
             "ticks": ""
            },
            "type": "contourcarpet"
           }
          ],
          "heatmap": [
           {
            "colorbar": {
             "outlinewidth": 0,
             "ticks": ""
            },
            "colorscale": [
             [
              0,
              "#0d0887"
             ],
             [
              0.1111111111111111,
              "#46039f"
             ],
             [
              0.2222222222222222,
              "#7201a8"
             ],
             [
              0.3333333333333333,
              "#9c179e"
             ],
             [
              0.4444444444444444,
              "#bd3786"
             ],
             [
              0.5555555555555556,
              "#d8576b"
             ],
             [
              0.6666666666666666,
              "#ed7953"
             ],
             [
              0.7777777777777778,
              "#fb9f3a"
             ],
             [
              0.8888888888888888,
              "#fdca26"
             ],
             [
              1,
              "#f0f921"
             ]
            ],
            "type": "heatmap"
           }
          ],
          "heatmapgl": [
           {
            "colorbar": {
             "outlinewidth": 0,
             "ticks": ""
            },
            "colorscale": [
             [
              0,
              "#0d0887"
             ],
             [
              0.1111111111111111,
              "#46039f"
             ],
             [
              0.2222222222222222,
              "#7201a8"
             ],
             [
              0.3333333333333333,
              "#9c179e"
             ],
             [
              0.4444444444444444,
              "#bd3786"
             ],
             [
              0.5555555555555556,
              "#d8576b"
             ],
             [
              0.6666666666666666,
              "#ed7953"
             ],
             [
              0.7777777777777778,
              "#fb9f3a"
             ],
             [
              0.8888888888888888,
              "#fdca26"
             ],
             [
              1,
              "#f0f921"
             ]
            ],
            "type": "heatmapgl"
           }
          ],
          "histogram": [
           {
            "marker": {
             "colorbar": {
              "outlinewidth": 0,
              "ticks": ""
             }
            },
            "type": "histogram"
           }
          ],
          "histogram2d": [
           {
            "colorbar": {
             "outlinewidth": 0,
             "ticks": ""
            },
            "colorscale": [
             [
              0,
              "#0d0887"
             ],
             [
              0.1111111111111111,
              "#46039f"
             ],
             [
              0.2222222222222222,
              "#7201a8"
             ],
             [
              0.3333333333333333,
              "#9c179e"
             ],
             [
              0.4444444444444444,
              "#bd3786"
             ],
             [
              0.5555555555555556,
              "#d8576b"
             ],
             [
              0.6666666666666666,
              "#ed7953"
             ],
             [
              0.7777777777777778,
              "#fb9f3a"
             ],
             [
              0.8888888888888888,
              "#fdca26"
             ],
             [
              1,
              "#f0f921"
             ]
            ],
            "type": "histogram2d"
           }
          ],
          "histogram2dcontour": [
           {
            "colorbar": {
             "outlinewidth": 0,
             "ticks": ""
            },
            "colorscale": [
             [
              0,
              "#0d0887"
             ],
             [
              0.1111111111111111,
              "#46039f"
             ],
             [
              0.2222222222222222,
              "#7201a8"
             ],
             [
              0.3333333333333333,
              "#9c179e"
             ],
             [
              0.4444444444444444,
              "#bd3786"
             ],
             [
              0.5555555555555556,
              "#d8576b"
             ],
             [
              0.6666666666666666,
              "#ed7953"
             ],
             [
              0.7777777777777778,
              "#fb9f3a"
             ],
             [
              0.8888888888888888,
              "#fdca26"
             ],
             [
              1,
              "#f0f921"
             ]
            ],
            "type": "histogram2dcontour"
           }
          ],
          "mesh3d": [
           {
            "colorbar": {
             "outlinewidth": 0,
             "ticks": ""
            },
            "type": "mesh3d"
           }
          ],
          "parcoords": [
           {
            "line": {
             "colorbar": {
              "outlinewidth": 0,
              "ticks": ""
             }
            },
            "type": "parcoords"
           }
          ],
          "pie": [
           {
            "automargin": true,
            "type": "pie"
           }
          ],
          "scatter": [
           {
            "marker": {
             "colorbar": {
              "outlinewidth": 0,
              "ticks": ""
             }
            },
            "type": "scatter"
           }
          ],
          "scatter3d": [
           {
            "line": {
             "colorbar": {
              "outlinewidth": 0,
              "ticks": ""
             }
            },
            "marker": {
             "colorbar": {
              "outlinewidth": 0,
              "ticks": ""
             }
            },
            "type": "scatter3d"
           }
          ],
          "scattercarpet": [
           {
            "marker": {
             "colorbar": {
              "outlinewidth": 0,
              "ticks": ""
             }
            },
            "type": "scattercarpet"
           }
          ],
          "scattergeo": [
           {
            "marker": {
             "colorbar": {
              "outlinewidth": 0,
              "ticks": ""
             }
            },
            "type": "scattergeo"
           }
          ],
          "scattergl": [
           {
            "marker": {
             "colorbar": {
              "outlinewidth": 0,
              "ticks": ""
             }
            },
            "type": "scattergl"
           }
          ],
          "scattermapbox": [
           {
            "marker": {
             "colorbar": {
              "outlinewidth": 0,
              "ticks": ""
             }
            },
            "type": "scattermapbox"
           }
          ],
          "scatterpolar": [
           {
            "marker": {
             "colorbar": {
              "outlinewidth": 0,
              "ticks": ""
             }
            },
            "type": "scatterpolar"
           }
          ],
          "scatterpolargl": [
           {
            "marker": {
             "colorbar": {
              "outlinewidth": 0,
              "ticks": ""
             }
            },
            "type": "scatterpolargl"
           }
          ],
          "scatterternary": [
           {
            "marker": {
             "colorbar": {
              "outlinewidth": 0,
              "ticks": ""
             }
            },
            "type": "scatterternary"
           }
          ],
          "surface": [
           {
            "colorbar": {
             "outlinewidth": 0,
             "ticks": ""
            },
            "colorscale": [
             [
              0,
              "#0d0887"
             ],
             [
              0.1111111111111111,
              "#46039f"
             ],
             [
              0.2222222222222222,
              "#7201a8"
             ],
             [
              0.3333333333333333,
              "#9c179e"
             ],
             [
              0.4444444444444444,
              "#bd3786"
             ],
             [
              0.5555555555555556,
              "#d8576b"
             ],
             [
              0.6666666666666666,
              "#ed7953"
             ],
             [
              0.7777777777777778,
              "#fb9f3a"
             ],
             [
              0.8888888888888888,
              "#fdca26"
             ],
             [
              1,
              "#f0f921"
             ]
            ],
            "type": "surface"
           }
          ],
          "table": [
           {
            "cells": {
             "fill": {
              "color": "#EBF0F8"
             },
             "line": {
              "color": "white"
             }
            },
            "header": {
             "fill": {
              "color": "#C8D4E3"
             },
             "line": {
              "color": "white"
             }
            },
            "type": "table"
           }
          ]
         },
         "layout": {
          "annotationdefaults": {
           "arrowcolor": "#2a3f5f",
           "arrowhead": 0,
           "arrowwidth": 1
          },
          "coloraxis": {
           "colorbar": {
            "outlinewidth": 0,
            "ticks": ""
           }
          },
          "colorscale": {
           "diverging": [
            [
             0,
             "#8e0152"
            ],
            [
             0.1,
             "#c51b7d"
            ],
            [
             0.2,
             "#de77ae"
            ],
            [
             0.3,
             "#f1b6da"
            ],
            [
             0.4,
             "#fde0ef"
            ],
            [
             0.5,
             "#f7f7f7"
            ],
            [
             0.6,
             "#e6f5d0"
            ],
            [
             0.7,
             "#b8e186"
            ],
            [
             0.8,
             "#7fbc41"
            ],
            [
             0.9,
             "#4d9221"
            ],
            [
             1,
             "#276419"
            ]
           ],
           "sequential": [
            [
             0,
             "#0d0887"
            ],
            [
             0.1111111111111111,
             "#46039f"
            ],
            [
             0.2222222222222222,
             "#7201a8"
            ],
            [
             0.3333333333333333,
             "#9c179e"
            ],
            [
             0.4444444444444444,
             "#bd3786"
            ],
            [
             0.5555555555555556,
             "#d8576b"
            ],
            [
             0.6666666666666666,
             "#ed7953"
            ],
            [
             0.7777777777777778,
             "#fb9f3a"
            ],
            [
             0.8888888888888888,
             "#fdca26"
            ],
            [
             1,
             "#f0f921"
            ]
           ],
           "sequentialminus": [
            [
             0,
             "#0d0887"
            ],
            [
             0.1111111111111111,
             "#46039f"
            ],
            [
             0.2222222222222222,
             "#7201a8"
            ],
            [
             0.3333333333333333,
             "#9c179e"
            ],
            [
             0.4444444444444444,
             "#bd3786"
            ],
            [
             0.5555555555555556,
             "#d8576b"
            ],
            [
             0.6666666666666666,
             "#ed7953"
            ],
            [
             0.7777777777777778,
             "#fb9f3a"
            ],
            [
             0.8888888888888888,
             "#fdca26"
            ],
            [
             1,
             "#f0f921"
            ]
           ]
          },
          "colorway": [
           "#636efa",
           "#EF553B",
           "#00cc96",
           "#ab63fa",
           "#FFA15A",
           "#19d3f3",
           "#FF6692",
           "#B6E880",
           "#FF97FF",
           "#FECB52"
          ],
          "font": {
           "color": "#2a3f5f"
          },
          "geo": {
           "bgcolor": "white",
           "lakecolor": "white",
           "landcolor": "#E5ECF6",
           "showlakes": true,
           "showland": true,
           "subunitcolor": "white"
          },
          "hoverlabel": {
           "align": "left"
          },
          "hovermode": "closest",
          "mapbox": {
           "style": "light"
          },
          "paper_bgcolor": "white",
          "plot_bgcolor": "#E5ECF6",
          "polar": {
           "angularaxis": {
            "gridcolor": "white",
            "linecolor": "white",
            "ticks": ""
           },
           "bgcolor": "#E5ECF6",
           "radialaxis": {
            "gridcolor": "white",
            "linecolor": "white",
            "ticks": ""
           }
          },
          "scene": {
           "xaxis": {
            "backgroundcolor": "#E5ECF6",
            "gridcolor": "white",
            "gridwidth": 2,
            "linecolor": "white",
            "showbackground": true,
            "ticks": "",
            "zerolinecolor": "white"
           },
           "yaxis": {
            "backgroundcolor": "#E5ECF6",
            "gridcolor": "white",
            "gridwidth": 2,
            "linecolor": "white",
            "showbackground": true,
            "ticks": "",
            "zerolinecolor": "white"
           },
           "zaxis": {
            "backgroundcolor": "#E5ECF6",
            "gridcolor": "white",
            "gridwidth": 2,
            "linecolor": "white",
            "showbackground": true,
            "ticks": "",
            "zerolinecolor": "white"
           }
          },
          "shapedefaults": {
           "line": {
            "color": "#2a3f5f"
           }
          },
          "ternary": {
           "aaxis": {
            "gridcolor": "white",
            "linecolor": "white",
            "ticks": ""
           },
           "baxis": {
            "gridcolor": "white",
            "linecolor": "white",
            "ticks": ""
           },
           "bgcolor": "#E5ECF6",
           "caxis": {
            "gridcolor": "white",
            "linecolor": "white",
            "ticks": ""
           }
          },
          "title": {
           "x": 0.05
          },
          "xaxis": {
           "automargin": true,
           "gridcolor": "white",
           "linecolor": "white",
           "ticks": "",
           "title": {
            "standoff": 15
           },
           "zerolinecolor": "white",
           "zerolinewidth": 2
          },
          "yaxis": {
           "automargin": true,
           "gridcolor": "white",
           "linecolor": "white",
           "ticks": "",
           "title": {
            "standoff": 15
           },
           "zerolinecolor": "white",
           "zerolinewidth": 2
          }
         }
        },
        "title": {
         "font": {
          "color": "#4D5663"
         }
        },
        "xaxis": {
         "gridcolor": "#E1E5ED",
         "showgrid": true,
         "tickfont": {
          "color": "#4D5663"
         },
         "title": {
          "font": {
           "color": "#4D5663"
          },
          "text": ""
         },
         "zerolinecolor": "#E1E5ED"
        },
        "yaxis": {
         "gridcolor": "#E1E5ED",
         "showgrid": true,
         "tickfont": {
          "color": "#4D5663"
         },
         "title": {
          "font": {
           "color": "#4D5663"
          },
          "text": ""
         },
         "zerolinecolor": "#E1E5ED"
        }
       }
      },
      "text/html": [
       "<div>\n",
       "        \n",
       "        \n",
       "            <div id=\"92270a51-6f60-4fc0-9bfa-b2cc9ebe948a\" class=\"plotly-graph-div\" style=\"height:525px; width:100%;\"></div>\n",
       "            <script type=\"text/javascript\">\n",
       "                require([\"plotly\"], function(Plotly) {\n",
       "                    window.PLOTLYENV=window.PLOTLYENV || {};\n",
       "                    window.PLOTLYENV.BASE_URL='https://plot.ly';\n",
       "                    \n",
       "                if (document.getElementById(\"92270a51-6f60-4fc0-9bfa-b2cc9ebe948a\")) {\n",
       "                    Plotly.newPlot(\n",
       "                        '92270a51-6f60-4fc0-9bfa-b2cc9ebe948a',\n",
       "                        [{\"histfunc\": \"count\", \"histnorm\": \"\", \"marker\": {\"color\": \"rgba(255, 153, 51, 1.0)\", \"line\": {\"color\": \"#4D5663\", \"width\": 1.3}}, \"name\": \"A\", \"nbinsx\": 25, \"opacity\": 0.8, \"orientation\": \"v\", \"type\": \"histogram\", \"x\": [-0.13332898728486217, 0.6049162173562118, -0.16177503105113158, 0.2904262389514051, 1.1562838099089574, -1.1848532417977728, 0.8982273761327372, 0.028278257948029965, -0.9868512173336761, 0.6840821635822759, -0.7608168905347923, -0.4849772912292263, 1.4103246726026462, -0.8217680536926046, -0.10584387485756273, 0.0915326999720717, 1.5868812487818433, 1.4610332716855279, -0.296010479607427, -1.636326733107384, -0.494075647778116, 1.254407911954291, -1.3259794161261163, 0.46662695049174047, 0.9930619033922193, -0.5176556953346497, 0.4923565746528598, -0.30148014268246154, -0.4809887648149414, 0.4820761832548575, 0.9795666811263533, 0.2290842534017007, 0.36752354492950984, 0.6168940590624284, 0.4114722975292953, -0.20855183114206602, 1.132181985806202, 0.9935469114025697, 0.016836190438973112, 0.961885915997291, -1.783903976137237, -0.9587206963745689, -1.5379896533002744, -0.7128492071354146, -0.42738557738685895, 0.4026918235878419, 1.1185123034948807, 1.1653431112356398, 0.5260806281991431, 0.2603131849043691, 1.1467886882959684, -0.40965228755670074, 0.7133917959352619, 1.1250831270878798, 0.817216553655222, 1.4917512529186387, -0.5125131549706918, 0.14776577406804275, 0.21713674429031635, 0.5477373667964758, -0.08254668451697868, -0.750904913226693, -0.48210838498018804, 0.9105294888876799, 0.8690776970323018, -0.95756608003841, -0.6806140558632705, -0.5565517022643965, -0.14106813094953835, 0.17396554387381946, -2.041059568986403, -0.06075202622890458, -1.2553721922271923, 0.740004930068497, 0.6323495961138877, 0.3758072565623964, 0.3121515525987599, 1.2167344648060452, -0.8148129555263465, -1.0423994099522742, -1.053758446029795, 1.0591205959040673, 0.624547701537553, 0.4113627954704313, 1.1811178417779826, 1.0245574869849703, -0.09182695658014851, 0.12237334974580312, -0.8312689468801848, 0.31971330737792997, 0.3882652757412495, -0.24487556089373985, 1.211015675419331, 0.2265724142315915, -0.6340086051558401, 0.789035760998447, -0.428508620713086, -1.2083999122326243, -2.442220579365496, 0.6181020168836062]}],\n",
       "                        {\"barmode\": \"overlay\", \"legend\": {\"bgcolor\": \"#F5F6F9\", \"font\": {\"color\": \"#4D5663\"}}, \"paper_bgcolor\": \"#F5F6F9\", \"plot_bgcolor\": \"#F5F6F9\", \"template\": {\"data\": {\"bar\": [{\"error_x\": {\"color\": \"#2a3f5f\"}, \"error_y\": {\"color\": \"#2a3f5f\"}, \"marker\": {\"line\": {\"color\": \"#E5ECF6\", \"width\": 0.5}}, \"type\": \"bar\"}], \"barpolar\": [{\"marker\": {\"line\": {\"color\": \"#E5ECF6\", \"width\": 0.5}}, \"type\": \"barpolar\"}], \"carpet\": [{\"aaxis\": {\"endlinecolor\": \"#2a3f5f\", \"gridcolor\": \"white\", \"linecolor\": \"white\", \"minorgridcolor\": \"white\", \"startlinecolor\": \"#2a3f5f\"}, \"baxis\": {\"endlinecolor\": \"#2a3f5f\", \"gridcolor\": \"white\", \"linecolor\": \"white\", \"minorgridcolor\": \"white\", \"startlinecolor\": \"#2a3f5f\"}, \"type\": \"carpet\"}], \"choropleth\": [{\"colorbar\": {\"outlinewidth\": 0, \"ticks\": \"\"}, \"type\": \"choropleth\"}], \"contour\": [{\"colorbar\": {\"outlinewidth\": 0, \"ticks\": \"\"}, \"colorscale\": [[0.0, \"#0d0887\"], [0.1111111111111111, \"#46039f\"], [0.2222222222222222, \"#7201a8\"], [0.3333333333333333, \"#9c179e\"], [0.4444444444444444, \"#bd3786\"], [0.5555555555555556, \"#d8576b\"], [0.6666666666666666, \"#ed7953\"], [0.7777777777777778, \"#fb9f3a\"], [0.8888888888888888, \"#fdca26\"], [1.0, \"#f0f921\"]], \"type\": \"contour\"}], \"contourcarpet\": [{\"colorbar\": {\"outlinewidth\": 0, \"ticks\": \"\"}, \"type\": \"contourcarpet\"}], \"heatmap\": [{\"colorbar\": {\"outlinewidth\": 0, \"ticks\": \"\"}, \"colorscale\": [[0.0, \"#0d0887\"], [0.1111111111111111, \"#46039f\"], [0.2222222222222222, \"#7201a8\"], [0.3333333333333333, \"#9c179e\"], [0.4444444444444444, \"#bd3786\"], [0.5555555555555556, \"#d8576b\"], [0.6666666666666666, \"#ed7953\"], [0.7777777777777778, \"#fb9f3a\"], [0.8888888888888888, \"#fdca26\"], [1.0, \"#f0f921\"]], \"type\": \"heatmap\"}], \"heatmapgl\": [{\"colorbar\": {\"outlinewidth\": 0, \"ticks\": \"\"}, \"colorscale\": [[0.0, \"#0d0887\"], [0.1111111111111111, \"#46039f\"], [0.2222222222222222, \"#7201a8\"], [0.3333333333333333, \"#9c179e\"], [0.4444444444444444, \"#bd3786\"], [0.5555555555555556, \"#d8576b\"], [0.6666666666666666, \"#ed7953\"], [0.7777777777777778, \"#fb9f3a\"], [0.8888888888888888, \"#fdca26\"], [1.0, \"#f0f921\"]], \"type\": \"heatmapgl\"}], \"histogram\": [{\"marker\": {\"colorbar\": {\"outlinewidth\": 0, \"ticks\": \"\"}}, \"type\": \"histogram\"}], \"histogram2d\": [{\"colorbar\": {\"outlinewidth\": 0, \"ticks\": \"\"}, \"colorscale\": [[0.0, \"#0d0887\"], [0.1111111111111111, \"#46039f\"], [0.2222222222222222, \"#7201a8\"], [0.3333333333333333, \"#9c179e\"], [0.4444444444444444, \"#bd3786\"], [0.5555555555555556, \"#d8576b\"], [0.6666666666666666, \"#ed7953\"], [0.7777777777777778, \"#fb9f3a\"], [0.8888888888888888, \"#fdca26\"], [1.0, \"#f0f921\"]], \"type\": \"histogram2d\"}], \"histogram2dcontour\": [{\"colorbar\": {\"outlinewidth\": 0, \"ticks\": \"\"}, \"colorscale\": [[0.0, \"#0d0887\"], [0.1111111111111111, \"#46039f\"], [0.2222222222222222, \"#7201a8\"], [0.3333333333333333, \"#9c179e\"], [0.4444444444444444, \"#bd3786\"], [0.5555555555555556, \"#d8576b\"], [0.6666666666666666, \"#ed7953\"], [0.7777777777777778, \"#fb9f3a\"], [0.8888888888888888, \"#fdca26\"], [1.0, \"#f0f921\"]], \"type\": \"histogram2dcontour\"}], \"mesh3d\": [{\"colorbar\": {\"outlinewidth\": 0, \"ticks\": \"\"}, \"type\": \"mesh3d\"}], \"parcoords\": [{\"line\": {\"colorbar\": {\"outlinewidth\": 0, \"ticks\": \"\"}}, \"type\": \"parcoords\"}], \"pie\": [{\"automargin\": true, \"type\": \"pie\"}], \"scatter\": [{\"marker\": {\"colorbar\": {\"outlinewidth\": 0, \"ticks\": \"\"}}, \"type\": \"scatter\"}], \"scatter3d\": [{\"line\": {\"colorbar\": {\"outlinewidth\": 0, \"ticks\": \"\"}}, \"marker\": {\"colorbar\": {\"outlinewidth\": 0, \"ticks\": \"\"}}, \"type\": \"scatter3d\"}], \"scattercarpet\": [{\"marker\": {\"colorbar\": {\"outlinewidth\": 0, \"ticks\": \"\"}}, \"type\": \"scattercarpet\"}], \"scattergeo\": [{\"marker\": {\"colorbar\": {\"outlinewidth\": 0, \"ticks\": \"\"}}, \"type\": \"scattergeo\"}], \"scattergl\": [{\"marker\": {\"colorbar\": {\"outlinewidth\": 0, \"ticks\": \"\"}}, \"type\": \"scattergl\"}], \"scattermapbox\": [{\"marker\": {\"colorbar\": {\"outlinewidth\": 0, \"ticks\": \"\"}}, \"type\": \"scattermapbox\"}], \"scatterpolar\": [{\"marker\": {\"colorbar\": {\"outlinewidth\": 0, \"ticks\": \"\"}}, \"type\": \"scatterpolar\"}], \"scatterpolargl\": [{\"marker\": {\"colorbar\": {\"outlinewidth\": 0, \"ticks\": \"\"}}, \"type\": \"scatterpolargl\"}], \"scatterternary\": [{\"marker\": {\"colorbar\": {\"outlinewidth\": 0, \"ticks\": \"\"}}, \"type\": \"scatterternary\"}], \"surface\": [{\"colorbar\": {\"outlinewidth\": 0, \"ticks\": \"\"}, \"colorscale\": [[0.0, \"#0d0887\"], [0.1111111111111111, \"#46039f\"], [0.2222222222222222, \"#7201a8\"], [0.3333333333333333, \"#9c179e\"], [0.4444444444444444, \"#bd3786\"], [0.5555555555555556, \"#d8576b\"], [0.6666666666666666, \"#ed7953\"], [0.7777777777777778, \"#fb9f3a\"], [0.8888888888888888, \"#fdca26\"], [1.0, \"#f0f921\"]], \"type\": \"surface\"}], \"table\": [{\"cells\": {\"fill\": {\"color\": \"#EBF0F8\"}, \"line\": {\"color\": \"white\"}}, \"header\": {\"fill\": {\"color\": \"#C8D4E3\"}, \"line\": {\"color\": \"white\"}}, \"type\": \"table\"}]}, \"layout\": {\"annotationdefaults\": {\"arrowcolor\": \"#2a3f5f\", \"arrowhead\": 0, \"arrowwidth\": 1}, \"coloraxis\": {\"colorbar\": {\"outlinewidth\": 0, \"ticks\": \"\"}}, \"colorscale\": {\"diverging\": [[0, \"#8e0152\"], [0.1, \"#c51b7d\"], [0.2, \"#de77ae\"], [0.3, \"#f1b6da\"], [0.4, \"#fde0ef\"], [0.5, \"#f7f7f7\"], [0.6, \"#e6f5d0\"], [0.7, \"#b8e186\"], [0.8, \"#7fbc41\"], [0.9, \"#4d9221\"], [1, \"#276419\"]], \"sequential\": [[0.0, \"#0d0887\"], [0.1111111111111111, \"#46039f\"], [0.2222222222222222, \"#7201a8\"], [0.3333333333333333, \"#9c179e\"], [0.4444444444444444, \"#bd3786\"], [0.5555555555555556, \"#d8576b\"], [0.6666666666666666, \"#ed7953\"], [0.7777777777777778, \"#fb9f3a\"], [0.8888888888888888, \"#fdca26\"], [1.0, \"#f0f921\"]], \"sequentialminus\": [[0.0, \"#0d0887\"], [0.1111111111111111, \"#46039f\"], [0.2222222222222222, \"#7201a8\"], [0.3333333333333333, \"#9c179e\"], [0.4444444444444444, \"#bd3786\"], [0.5555555555555556, \"#d8576b\"], [0.6666666666666666, \"#ed7953\"], [0.7777777777777778, \"#fb9f3a\"], [0.8888888888888888, \"#fdca26\"], [1.0, \"#f0f921\"]]}, \"colorway\": [\"#636efa\", \"#EF553B\", \"#00cc96\", \"#ab63fa\", \"#FFA15A\", \"#19d3f3\", \"#FF6692\", \"#B6E880\", \"#FF97FF\", \"#FECB52\"], \"font\": {\"color\": \"#2a3f5f\"}, \"geo\": {\"bgcolor\": \"white\", \"lakecolor\": \"white\", \"landcolor\": \"#E5ECF6\", \"showlakes\": true, \"showland\": true, \"subunitcolor\": \"white\"}, \"hoverlabel\": {\"align\": \"left\"}, \"hovermode\": \"closest\", \"mapbox\": {\"style\": \"light\"}, \"paper_bgcolor\": \"white\", \"plot_bgcolor\": \"#E5ECF6\", \"polar\": {\"angularaxis\": {\"gridcolor\": \"white\", \"linecolor\": \"white\", \"ticks\": \"\"}, \"bgcolor\": \"#E5ECF6\", \"radialaxis\": {\"gridcolor\": \"white\", \"linecolor\": \"white\", \"ticks\": \"\"}}, \"scene\": {\"xaxis\": {\"backgroundcolor\": \"#E5ECF6\", \"gridcolor\": \"white\", \"gridwidth\": 2, \"linecolor\": \"white\", \"showbackground\": true, \"ticks\": \"\", \"zerolinecolor\": \"white\"}, \"yaxis\": {\"backgroundcolor\": \"#E5ECF6\", \"gridcolor\": \"white\", \"gridwidth\": 2, \"linecolor\": \"white\", \"showbackground\": true, \"ticks\": \"\", \"zerolinecolor\": \"white\"}, \"zaxis\": {\"backgroundcolor\": \"#E5ECF6\", \"gridcolor\": \"white\", \"gridwidth\": 2, \"linecolor\": \"white\", \"showbackground\": true, \"ticks\": \"\", \"zerolinecolor\": \"white\"}}, \"shapedefaults\": {\"line\": {\"color\": \"#2a3f5f\"}}, \"ternary\": {\"aaxis\": {\"gridcolor\": \"white\", \"linecolor\": \"white\", \"ticks\": \"\"}, \"baxis\": {\"gridcolor\": \"white\", \"linecolor\": \"white\", \"ticks\": \"\"}, \"bgcolor\": \"#E5ECF6\", \"caxis\": {\"gridcolor\": \"white\", \"linecolor\": \"white\", \"ticks\": \"\"}}, \"title\": {\"x\": 0.05}, \"xaxis\": {\"automargin\": true, \"gridcolor\": \"white\", \"linecolor\": \"white\", \"ticks\": \"\", \"title\": {\"standoff\": 15}, \"zerolinecolor\": \"white\", \"zerolinewidth\": 2}, \"yaxis\": {\"automargin\": true, \"gridcolor\": \"white\", \"linecolor\": \"white\", \"ticks\": \"\", \"title\": {\"standoff\": 15}, \"zerolinecolor\": \"white\", \"zerolinewidth\": 2}}}, \"title\": {\"font\": {\"color\": \"#4D5663\"}}, \"xaxis\": {\"gridcolor\": \"#E1E5ED\", \"showgrid\": true, \"tickfont\": {\"color\": \"#4D5663\"}, \"title\": {\"font\": {\"color\": \"#4D5663\"}, \"text\": \"\"}, \"zerolinecolor\": \"#E1E5ED\"}, \"yaxis\": {\"gridcolor\": \"#E1E5ED\", \"showgrid\": true, \"tickfont\": {\"color\": \"#4D5663\"}, \"title\": {\"font\": {\"color\": \"#4D5663\"}, \"text\": \"\"}, \"zerolinecolor\": \"#E1E5ED\"}},\n",
       "                        {\"showLink\": true, \"linkText\": \"Export to plot.ly\", \"plotlyServerURL\": \"https://plot.ly\", \"responsive\": true}\n",
       "                    ).then(function(){\n",
       "                            \n",
       "var gd = document.getElementById('92270a51-6f60-4fc0-9bfa-b2cc9ebe948a');\n",
       "var x = new MutationObserver(function (mutations, observer) {{\n",
       "        var display = window.getComputedStyle(gd).display;\n",
       "        if (!display || display === 'none') {{\n",
       "            console.log([gd, 'removed!']);\n",
       "            Plotly.purge(gd);\n",
       "            observer.disconnect();\n",
       "        }}\n",
       "}});\n",
       "\n",
       "// Listen for the removal of the full notebook cells\n",
       "var notebookContainer = gd.closest('#notebook-container');\n",
       "if (notebookContainer) {{\n",
       "    x.observe(notebookContainer, {childList: true});\n",
       "}}\n",
       "\n",
       "// Listen for the clearing of the current output cell\n",
       "var outputEl = gd.closest('.output');\n",
       "if (outputEl) {{\n",
       "    x.observe(outputEl, {childList: true});\n",
       "}}\n",
       "\n",
       "                        })\n",
       "                };\n",
       "                });\n",
       "            </script>\n",
       "        </div>"
      ]
     },
     "metadata": {},
     "output_type": "display_data"
    }
   ],
   "source": [
    "df['A'].iplot(kind='hist', bins=25)"
   ]
  },
  {
   "cell_type": "code",
   "execution_count": 34,
   "metadata": {},
   "outputs": [
    {
     "data": {
      "application/vnd.plotly.v1+json": {
       "config": {
        "linkText": "Export to plot.ly",
        "plotlyServerURL": "https://plot.ly",
        "showLink": true
       },
       "data": [
        {
         "histfunc": "count",
         "histnorm": "",
         "marker": {
          "color": "rgba(255, 153, 51, 1.0)",
          "line": {
           "color": "#4D5663",
           "width": 1.3
          }
         },
         "name": "A",
         "opacity": 0.8,
         "orientation": "v",
         "type": "histogram",
         "x": [
          -0.13332898728486217,
          0.6049162173562118,
          -0.16177503105113158,
          0.2904262389514051,
          1.1562838099089574,
          -1.1848532417977728,
          0.8982273761327372,
          0.028278257948029965,
          -0.9868512173336761,
          0.6840821635822759,
          -0.7608168905347923,
          -0.4849772912292263,
          1.4103246726026462,
          -0.8217680536926046,
          -0.10584387485756273,
          0.0915326999720717,
          1.5868812487818433,
          1.4610332716855279,
          -0.296010479607427,
          -1.636326733107384,
          -0.494075647778116,
          1.254407911954291,
          -1.3259794161261163,
          0.46662695049174047,
          0.9930619033922193,
          -0.5176556953346497,
          0.4923565746528598,
          -0.30148014268246154,
          -0.4809887648149414,
          0.4820761832548575,
          0.9795666811263533,
          0.2290842534017007,
          0.36752354492950984,
          0.6168940590624284,
          0.4114722975292953,
          -0.20855183114206602,
          1.132181985806202,
          0.9935469114025697,
          0.016836190438973112,
          0.961885915997291,
          -1.783903976137237,
          -0.9587206963745689,
          -1.5379896533002744,
          -0.7128492071354146,
          -0.42738557738685895,
          0.4026918235878419,
          1.1185123034948807,
          1.1653431112356398,
          0.5260806281991431,
          0.2603131849043691,
          1.1467886882959684,
          -0.40965228755670074,
          0.7133917959352619,
          1.1250831270878798,
          0.817216553655222,
          1.4917512529186387,
          -0.5125131549706918,
          0.14776577406804275,
          0.21713674429031635,
          0.5477373667964758,
          -0.08254668451697868,
          -0.750904913226693,
          -0.48210838498018804,
          0.9105294888876799,
          0.8690776970323018,
          -0.95756608003841,
          -0.6806140558632705,
          -0.5565517022643965,
          -0.14106813094953835,
          0.17396554387381946,
          -2.041059568986403,
          -0.06075202622890458,
          -1.2553721922271923,
          0.740004930068497,
          0.6323495961138877,
          0.3758072565623964,
          0.3121515525987599,
          1.2167344648060452,
          -0.8148129555263465,
          -1.0423994099522742,
          -1.053758446029795,
          1.0591205959040673,
          0.624547701537553,
          0.4113627954704313,
          1.1811178417779826,
          1.0245574869849703,
          -0.09182695658014851,
          0.12237334974580312,
          -0.8312689468801848,
          0.31971330737792997,
          0.3882652757412495,
          -0.24487556089373985,
          1.211015675419331,
          0.2265724142315915,
          -0.6340086051558401,
          0.789035760998447,
          -0.428508620713086,
          -1.2083999122326243,
          -2.442220579365496,
          0.6181020168836062
         ]
        },
        {
         "histfunc": "count",
         "histnorm": "",
         "marker": {
          "color": "rgba(55, 128, 191, 1.0)",
          "line": {
           "color": "#4D5663",
           "width": 1.3
          }
         },
         "name": "B",
         "opacity": 0.8,
         "orientation": "v",
         "type": "histogram",
         "x": [
          0.877873119201991,
          -0.8871864835711982,
          -0.8779365085710115,
          0.16707982521148182,
          0.9770570964405164,
          -1.0210807539641042,
          -0.21179137664286418,
          -0.025274265344616083,
          -1.1092078640172551,
          -1.1521829664006475,
          -1.0678537312032441,
          0.881399073284442,
          -1.5472658310039031,
          0.42894438694587583,
          -0.5847667949359995,
          0.5861364661033456,
          -0.04141568970211862,
          1.6330695985806374,
          0.9136833206359156,
          2.0233395926138007,
          1.101142592370221,
          -0.5682038376230117,
          0.042882304288209314,
          -0.4047854558570145,
          -0.20925108081337035,
          0.7529358997543051,
          0.7407450265436628,
          -1.3607933912602541,
          0.3411301947962091,
          1.3151839384818036,
          0.3575314753592644,
          -1.3118340501498933,
          1.4279165133867213,
          -0.2559157130428562,
          0.4464527395079081,
          0.6658948694956442,
          0.7259355144620822,
          0.8235263881423511,
          -0.08484654956607927,
          1.8343974103662948,
          -0.4713263219195928,
          -0.8960723024860888,
          -0.30064987887889344,
          -0.4316502480055467,
          0.2857158451321729,
          -0.5736274210697178,
          2.5697362447985554,
          0.6277843390429633,
          -0.49445184097626804,
          0.8499163415546525,
          1.5785939994794886,
          -0.9821279273371802,
          -0.4739870836956822,
          -1.3416687809494725,
          0.984719136622916,
          -0.2741650591388619,
          1.4972102529508924,
          0.17436161357051014,
          -0.7460530393643999,
          0.4081345878441793,
          0.7508643479924706,
          0.007458631298474343,
          -2.356211944871521,
          1.2434124482978255,
          -0.9764707565302257,
          -0.9003187532037691,
          -0.6552946312368383,
          1.01863556348232,
          2.5093706224495755,
          -0.04773433274440632,
          1.0449119076216544,
          0.408730882028547,
          -0.11919913738978115,
          0.38587853161043395,
          -1.1517321753523175,
          1.6165054269845633,
          2.320370989305167,
          -0.97030489009854,
          0.03428818309439457,
          -0.567194415289803,
          -1.6004626492305494,
          0.7941768603034315,
          0.7850386433665631,
          1.5710577492336988,
          0.5925013415374528,
          1.3388239018740202,
          -1.493035583334954,
          0.8131093233548212,
          -0.06253088379133223,
          1.0761370002087423,
          1.6009510396615159,
          1.0372091416050686,
          0.24796801351280354,
          1.1619363392738358,
          -0.3941704306660358,
          -0.7976663790741948,
          1.7838229422786538,
          -1.6143395792946713,
          0.2445066278672296,
          -0.19001794744455636
         ]
        },
        {
         "histfunc": "count",
         "histnorm": "",
         "marker": {
          "color": "rgba(50, 171, 96, 1.0)",
          "line": {
           "color": "#4D5663",
           "width": 1.3
          }
         },
         "name": "C",
         "opacity": 0.8,
         "orientation": "v",
         "type": "histogram",
         "x": [
          -0.1949333377808265,
          1.2874718857137506,
          1.034828960634043,
          -1.250205626820457,
          -2.3140814312960223,
          0.4672105757577219,
          0.9336583380187081,
          -0.899465178637077,
          -0.23100800292281237,
          -0.4233280963663838,
          -0.8789825347499383,
          -0.23272103414254033,
          -0.687275448055291,
          -1.351898514290019,
          -0.29152858366285617,
          -0.5384074094042292,
          1.0899255578983433,
          0.3632462942202497,
          -0.31347150317497907,
          -0.6239556756762389,
          -0.5039547444225779,
          0.7470989284312591,
          0.5669270767827191,
          0.4053962663362149,
          0.7470319881233176,
          -0.7121268908435755,
          1.3781094180709663,
          0.4374773497359336,
          0.4200860244282493,
          0.7053171544932973,
          -0.6008008456387155,
          1.114826092770562,
          0.5183437897032463,
          -1.6875410078176634,
          -0.14119371767260377,
          -1.2318315718081576,
          1.094246490855967,
          -0.9357325966232735,
          -1.687124220557086,
          0.02834226044932334,
          -0.43635878228827285,
          0.19203209266547921,
          1.5017344421595056,
          -0.758789965263754,
          -0.48496529798553106,
          0.9112791466103329,
          -0.9065257161127248,
          0.15779465541686052,
          0.32598660502669086,
          -0.7494680676971873,
          0.8369842300027271,
          -0.1852978110964879,
          -0.8537190052680307,
          -1.328453836121312,
          0.8883999662666356,
          0.6745108463283488,
          -0.039512731797237334,
          -0.15152265482386013,
          -0.4053422246549689,
          1.091898283200699,
          0.3523894167516524,
          -0.8234261540482228,
          -0.3877115538256855,
          2.334372769081094,
          -1.2790254406427777,
          -0.05124559254107892,
          1.6034395642054087,
          -0.9702203612312997,
          -2.986537403890035,
          0.8768333360508807,
          -1.0955398315132059,
          -1.3184810057926308,
          0.4811947683684202,
          -0.9413875287749689,
          -0.09428344821563733,
          0.24313378679796052,
          -0.8705367986795014,
          0.33500633048508377,
          -0.23050141623667522,
          -0.4987736876364225,
          1.7595674249869988,
          -1.371365312362017,
          1.5153198832203851,
          -2.136172527562396,
          0.13909291969410825,
          -0.6749023176385337,
          0.280617133701145,
          -1.8513701473257176,
          -0.6285511875260519,
          1.0104658535811069,
          -0.005853284057386029,
          0.1096869174311675,
          -0.9210250890711749,
          1.7413864500446388,
          0.660042296473798,
          -1.3547562182632082,
          -0.9333532783173327,
          -0.1645621664866537,
          0.08988391435312298,
          -0.3005702765173331
         ]
        },
        {
         "histfunc": "count",
         "histnorm": "",
         "marker": {
          "color": "rgba(128, 0, 128, 1.0)",
          "line": {
           "color": "#4D5663",
           "width": 1.3
          }
         },
         "name": "D",
         "opacity": 0.8,
         "orientation": "v",
         "type": "histogram",
         "x": [
          -0.08270575823628525,
          0.5721288881350668,
          1.0693127747928544,
          1.5534994107776754,
          0.19406633148953562,
          -0.26233500689833983,
          1.5655280754438046,
          -0.18114075584586906,
          -0.009619968905033204,
          -0.9027686346935858,
          -0.214812512368609,
          -0.7364379842187003,
          -0.19198476000138007,
          0.18702643707197159,
          0.0433781027486577,
          -0.29137810972437495,
          -1.1978306132083452,
          0.41923085497089585,
          -0.31918684064943975,
          1.128602606672595,
          -1.7825520771222159,
          0.6030731735378128,
          -0.3564898191817619,
          -1.7844575714167668,
          -1.5335276217022513,
          -0.23179194788496277,
          1.0021641098970262,
          -0.6909673306044203,
          -1.6223983671173798,
          0.9163321161767722,
          -0.16823263095738714,
          -0.08943816895035614,
          0.29775873555054044,
          0.12574099999810487,
          -0.09456630256447097,
          -0.6611620609872069,
          0.21652645180452904,
          0.7244403439630475,
          0.6954520634005963,
          -1.5499491574713065,
          0.11562111541713081,
          -1.1221872789710325,
          1.6563204328441237,
          0.2952248151470929,
          -1.5686691986603534,
          -0.013048810598643025,
          -0.0742857139038019,
          0.7150980179301154,
          -0.7395795234598608,
          0.5989185284645229,
          -0.3093583703760894,
          -0.5115294388754472,
          -0.2561361894198458,
          -1.4477826014600563,
          0.5220337678598486,
          -2.0151186397299794,
          0.5886751789306843,
          -0.2327764475170766,
          0.5212684750945968,
          -0.3863966203198103,
          1.104088962904185,
          1.7129532254736584,
          0.44128179880332474,
          0.14979679828882936,
          -0.2519819766582173,
          0.6073456327874504,
          0.5990539129529934,
          0.41172165954198053,
          -0.93461312400278,
          1.6191205319381616,
          -0.7132980745026403,
          -0.6055073499449021,
          0.43331854221063015,
          1.312027745736751,
          0.22528511601214957,
          1.6434145615909932,
          0.3924455136917064,
          -0.44644815502010077,
          0.3990194329299282,
          0.3291683995399519,
          -0.9125345281980742,
          0.3008990483570197,
          0.10284225567393888,
          0.45990273680458116,
          0.5490036543010519,
          -0.5263979924439908,
          -0.9350994613038845,
          1.418678192436831,
          -0.3039213118658567,
          -1.3956681081474906,
          0.3520550174745357,
          -0.9795833300527587,
          0.7951530232992107,
          -1.1695000184850353,
          -1.9272619586717148,
          -0.7952510560311679,
          -1.146988594289629,
          -0.18338757979591955,
          -0.3083681940970879,
          -0.23394117014428933
         ]
        }
       ],
       "layout": {
        "barmode": "overlay",
        "legend": {
         "bgcolor": "#F5F6F9",
         "font": {
          "color": "#4D5663"
         }
        },
        "paper_bgcolor": "#F5F6F9",
        "plot_bgcolor": "#F5F6F9",
        "template": {
         "data": {
          "bar": [
           {
            "error_x": {
             "color": "#2a3f5f"
            },
            "error_y": {
             "color": "#2a3f5f"
            },
            "marker": {
             "line": {
              "color": "#E5ECF6",
              "width": 0.5
             }
            },
            "type": "bar"
           }
          ],
          "barpolar": [
           {
            "marker": {
             "line": {
              "color": "#E5ECF6",
              "width": 0.5
             }
            },
            "type": "barpolar"
           }
          ],
          "carpet": [
           {
            "aaxis": {
             "endlinecolor": "#2a3f5f",
             "gridcolor": "white",
             "linecolor": "white",
             "minorgridcolor": "white",
             "startlinecolor": "#2a3f5f"
            },
            "baxis": {
             "endlinecolor": "#2a3f5f",
             "gridcolor": "white",
             "linecolor": "white",
             "minorgridcolor": "white",
             "startlinecolor": "#2a3f5f"
            },
            "type": "carpet"
           }
          ],
          "choropleth": [
           {
            "colorbar": {
             "outlinewidth": 0,
             "ticks": ""
            },
            "type": "choropleth"
           }
          ],
          "contour": [
           {
            "colorbar": {
             "outlinewidth": 0,
             "ticks": ""
            },
            "colorscale": [
             [
              0,
              "#0d0887"
             ],
             [
              0.1111111111111111,
              "#46039f"
             ],
             [
              0.2222222222222222,
              "#7201a8"
             ],
             [
              0.3333333333333333,
              "#9c179e"
             ],
             [
              0.4444444444444444,
              "#bd3786"
             ],
             [
              0.5555555555555556,
              "#d8576b"
             ],
             [
              0.6666666666666666,
              "#ed7953"
             ],
             [
              0.7777777777777778,
              "#fb9f3a"
             ],
             [
              0.8888888888888888,
              "#fdca26"
             ],
             [
              1,
              "#f0f921"
             ]
            ],
            "type": "contour"
           }
          ],
          "contourcarpet": [
           {
            "colorbar": {
             "outlinewidth": 0,
             "ticks": ""
            },
            "type": "contourcarpet"
           }
          ],
          "heatmap": [
           {
            "colorbar": {
             "outlinewidth": 0,
             "ticks": ""
            },
            "colorscale": [
             [
              0,
              "#0d0887"
             ],
             [
              0.1111111111111111,
              "#46039f"
             ],
             [
              0.2222222222222222,
              "#7201a8"
             ],
             [
              0.3333333333333333,
              "#9c179e"
             ],
             [
              0.4444444444444444,
              "#bd3786"
             ],
             [
              0.5555555555555556,
              "#d8576b"
             ],
             [
              0.6666666666666666,
              "#ed7953"
             ],
             [
              0.7777777777777778,
              "#fb9f3a"
             ],
             [
              0.8888888888888888,
              "#fdca26"
             ],
             [
              1,
              "#f0f921"
             ]
            ],
            "type": "heatmap"
           }
          ],
          "heatmapgl": [
           {
            "colorbar": {
             "outlinewidth": 0,
             "ticks": ""
            },
            "colorscale": [
             [
              0,
              "#0d0887"
             ],
             [
              0.1111111111111111,
              "#46039f"
             ],
             [
              0.2222222222222222,
              "#7201a8"
             ],
             [
              0.3333333333333333,
              "#9c179e"
             ],
             [
              0.4444444444444444,
              "#bd3786"
             ],
             [
              0.5555555555555556,
              "#d8576b"
             ],
             [
              0.6666666666666666,
              "#ed7953"
             ],
             [
              0.7777777777777778,
              "#fb9f3a"
             ],
             [
              0.8888888888888888,
              "#fdca26"
             ],
             [
              1,
              "#f0f921"
             ]
            ],
            "type": "heatmapgl"
           }
          ],
          "histogram": [
           {
            "marker": {
             "colorbar": {
              "outlinewidth": 0,
              "ticks": ""
             }
            },
            "type": "histogram"
           }
          ],
          "histogram2d": [
           {
            "colorbar": {
             "outlinewidth": 0,
             "ticks": ""
            },
            "colorscale": [
             [
              0,
              "#0d0887"
             ],
             [
              0.1111111111111111,
              "#46039f"
             ],
             [
              0.2222222222222222,
              "#7201a8"
             ],
             [
              0.3333333333333333,
              "#9c179e"
             ],
             [
              0.4444444444444444,
              "#bd3786"
             ],
             [
              0.5555555555555556,
              "#d8576b"
             ],
             [
              0.6666666666666666,
              "#ed7953"
             ],
             [
              0.7777777777777778,
              "#fb9f3a"
             ],
             [
              0.8888888888888888,
              "#fdca26"
             ],
             [
              1,
              "#f0f921"
             ]
            ],
            "type": "histogram2d"
           }
          ],
          "histogram2dcontour": [
           {
            "colorbar": {
             "outlinewidth": 0,
             "ticks": ""
            },
            "colorscale": [
             [
              0,
              "#0d0887"
             ],
             [
              0.1111111111111111,
              "#46039f"
             ],
             [
              0.2222222222222222,
              "#7201a8"
             ],
             [
              0.3333333333333333,
              "#9c179e"
             ],
             [
              0.4444444444444444,
              "#bd3786"
             ],
             [
              0.5555555555555556,
              "#d8576b"
             ],
             [
              0.6666666666666666,
              "#ed7953"
             ],
             [
              0.7777777777777778,
              "#fb9f3a"
             ],
             [
              0.8888888888888888,
              "#fdca26"
             ],
             [
              1,
              "#f0f921"
             ]
            ],
            "type": "histogram2dcontour"
           }
          ],
          "mesh3d": [
           {
            "colorbar": {
             "outlinewidth": 0,
             "ticks": ""
            },
            "type": "mesh3d"
           }
          ],
          "parcoords": [
           {
            "line": {
             "colorbar": {
              "outlinewidth": 0,
              "ticks": ""
             }
            },
            "type": "parcoords"
           }
          ],
          "pie": [
           {
            "automargin": true,
            "type": "pie"
           }
          ],
          "scatter": [
           {
            "marker": {
             "colorbar": {
              "outlinewidth": 0,
              "ticks": ""
             }
            },
            "type": "scatter"
           }
          ],
          "scatter3d": [
           {
            "line": {
             "colorbar": {
              "outlinewidth": 0,
              "ticks": ""
             }
            },
            "marker": {
             "colorbar": {
              "outlinewidth": 0,
              "ticks": ""
             }
            },
            "type": "scatter3d"
           }
          ],
          "scattercarpet": [
           {
            "marker": {
             "colorbar": {
              "outlinewidth": 0,
              "ticks": ""
             }
            },
            "type": "scattercarpet"
           }
          ],
          "scattergeo": [
           {
            "marker": {
             "colorbar": {
              "outlinewidth": 0,
              "ticks": ""
             }
            },
            "type": "scattergeo"
           }
          ],
          "scattergl": [
           {
            "marker": {
             "colorbar": {
              "outlinewidth": 0,
              "ticks": ""
             }
            },
            "type": "scattergl"
           }
          ],
          "scattermapbox": [
           {
            "marker": {
             "colorbar": {
              "outlinewidth": 0,
              "ticks": ""
             }
            },
            "type": "scattermapbox"
           }
          ],
          "scatterpolar": [
           {
            "marker": {
             "colorbar": {
              "outlinewidth": 0,
              "ticks": ""
             }
            },
            "type": "scatterpolar"
           }
          ],
          "scatterpolargl": [
           {
            "marker": {
             "colorbar": {
              "outlinewidth": 0,
              "ticks": ""
             }
            },
            "type": "scatterpolargl"
           }
          ],
          "scatterternary": [
           {
            "marker": {
             "colorbar": {
              "outlinewidth": 0,
              "ticks": ""
             }
            },
            "type": "scatterternary"
           }
          ],
          "surface": [
           {
            "colorbar": {
             "outlinewidth": 0,
             "ticks": ""
            },
            "colorscale": [
             [
              0,
              "#0d0887"
             ],
             [
              0.1111111111111111,
              "#46039f"
             ],
             [
              0.2222222222222222,
              "#7201a8"
             ],
             [
              0.3333333333333333,
              "#9c179e"
             ],
             [
              0.4444444444444444,
              "#bd3786"
             ],
             [
              0.5555555555555556,
              "#d8576b"
             ],
             [
              0.6666666666666666,
              "#ed7953"
             ],
             [
              0.7777777777777778,
              "#fb9f3a"
             ],
             [
              0.8888888888888888,
              "#fdca26"
             ],
             [
              1,
              "#f0f921"
             ]
            ],
            "type": "surface"
           }
          ],
          "table": [
           {
            "cells": {
             "fill": {
              "color": "#EBF0F8"
             },
             "line": {
              "color": "white"
             }
            },
            "header": {
             "fill": {
              "color": "#C8D4E3"
             },
             "line": {
              "color": "white"
             }
            },
            "type": "table"
           }
          ]
         },
         "layout": {
          "annotationdefaults": {
           "arrowcolor": "#2a3f5f",
           "arrowhead": 0,
           "arrowwidth": 1
          },
          "coloraxis": {
           "colorbar": {
            "outlinewidth": 0,
            "ticks": ""
           }
          },
          "colorscale": {
           "diverging": [
            [
             0,
             "#8e0152"
            ],
            [
             0.1,
             "#c51b7d"
            ],
            [
             0.2,
             "#de77ae"
            ],
            [
             0.3,
             "#f1b6da"
            ],
            [
             0.4,
             "#fde0ef"
            ],
            [
             0.5,
             "#f7f7f7"
            ],
            [
             0.6,
             "#e6f5d0"
            ],
            [
             0.7,
             "#b8e186"
            ],
            [
             0.8,
             "#7fbc41"
            ],
            [
             0.9,
             "#4d9221"
            ],
            [
             1,
             "#276419"
            ]
           ],
           "sequential": [
            [
             0,
             "#0d0887"
            ],
            [
             0.1111111111111111,
             "#46039f"
            ],
            [
             0.2222222222222222,
             "#7201a8"
            ],
            [
             0.3333333333333333,
             "#9c179e"
            ],
            [
             0.4444444444444444,
             "#bd3786"
            ],
            [
             0.5555555555555556,
             "#d8576b"
            ],
            [
             0.6666666666666666,
             "#ed7953"
            ],
            [
             0.7777777777777778,
             "#fb9f3a"
            ],
            [
             0.8888888888888888,
             "#fdca26"
            ],
            [
             1,
             "#f0f921"
            ]
           ],
           "sequentialminus": [
            [
             0,
             "#0d0887"
            ],
            [
             0.1111111111111111,
             "#46039f"
            ],
            [
             0.2222222222222222,
             "#7201a8"
            ],
            [
             0.3333333333333333,
             "#9c179e"
            ],
            [
             0.4444444444444444,
             "#bd3786"
            ],
            [
             0.5555555555555556,
             "#d8576b"
            ],
            [
             0.6666666666666666,
             "#ed7953"
            ],
            [
             0.7777777777777778,
             "#fb9f3a"
            ],
            [
             0.8888888888888888,
             "#fdca26"
            ],
            [
             1,
             "#f0f921"
            ]
           ]
          },
          "colorway": [
           "#636efa",
           "#EF553B",
           "#00cc96",
           "#ab63fa",
           "#FFA15A",
           "#19d3f3",
           "#FF6692",
           "#B6E880",
           "#FF97FF",
           "#FECB52"
          ],
          "font": {
           "color": "#2a3f5f"
          },
          "geo": {
           "bgcolor": "white",
           "lakecolor": "white",
           "landcolor": "#E5ECF6",
           "showlakes": true,
           "showland": true,
           "subunitcolor": "white"
          },
          "hoverlabel": {
           "align": "left"
          },
          "hovermode": "closest",
          "mapbox": {
           "style": "light"
          },
          "paper_bgcolor": "white",
          "plot_bgcolor": "#E5ECF6",
          "polar": {
           "angularaxis": {
            "gridcolor": "white",
            "linecolor": "white",
            "ticks": ""
           },
           "bgcolor": "#E5ECF6",
           "radialaxis": {
            "gridcolor": "white",
            "linecolor": "white",
            "ticks": ""
           }
          },
          "scene": {
           "xaxis": {
            "backgroundcolor": "#E5ECF6",
            "gridcolor": "white",
            "gridwidth": 2,
            "linecolor": "white",
            "showbackground": true,
            "ticks": "",
            "zerolinecolor": "white"
           },
           "yaxis": {
            "backgroundcolor": "#E5ECF6",
            "gridcolor": "white",
            "gridwidth": 2,
            "linecolor": "white",
            "showbackground": true,
            "ticks": "",
            "zerolinecolor": "white"
           },
           "zaxis": {
            "backgroundcolor": "#E5ECF6",
            "gridcolor": "white",
            "gridwidth": 2,
            "linecolor": "white",
            "showbackground": true,
            "ticks": "",
            "zerolinecolor": "white"
           }
          },
          "shapedefaults": {
           "line": {
            "color": "#2a3f5f"
           }
          },
          "ternary": {
           "aaxis": {
            "gridcolor": "white",
            "linecolor": "white",
            "ticks": ""
           },
           "baxis": {
            "gridcolor": "white",
            "linecolor": "white",
            "ticks": ""
           },
           "bgcolor": "#E5ECF6",
           "caxis": {
            "gridcolor": "white",
            "linecolor": "white",
            "ticks": ""
           }
          },
          "title": {
           "x": 0.05
          },
          "xaxis": {
           "automargin": true,
           "gridcolor": "white",
           "linecolor": "white",
           "ticks": "",
           "title": {
            "standoff": 15
           },
           "zerolinecolor": "white",
           "zerolinewidth": 2
          },
          "yaxis": {
           "automargin": true,
           "gridcolor": "white",
           "linecolor": "white",
           "ticks": "",
           "title": {
            "standoff": 15
           },
           "zerolinecolor": "white",
           "zerolinewidth": 2
          }
         }
        },
        "title": {
         "font": {
          "color": "#4D5663"
         }
        },
        "xaxis": {
         "gridcolor": "#E1E5ED",
         "showgrid": true,
         "tickfont": {
          "color": "#4D5663"
         },
         "title": {
          "font": {
           "color": "#4D5663"
          },
          "text": ""
         },
         "zerolinecolor": "#E1E5ED"
        },
        "yaxis": {
         "gridcolor": "#E1E5ED",
         "showgrid": true,
         "tickfont": {
          "color": "#4D5663"
         },
         "title": {
          "font": {
           "color": "#4D5663"
          },
          "text": ""
         },
         "zerolinecolor": "#E1E5ED"
        }
       }
      },
      "text/html": [
       "<div>\n",
       "        \n",
       "        \n",
       "            <div id=\"f9206a59-707d-45de-abb7-632579e3f852\" class=\"plotly-graph-div\" style=\"height:525px; width:100%;\"></div>\n",
       "            <script type=\"text/javascript\">\n",
       "                require([\"plotly\"], function(Plotly) {\n",
       "                    window.PLOTLYENV=window.PLOTLYENV || {};\n",
       "                    window.PLOTLYENV.BASE_URL='https://plot.ly';\n",
       "                    \n",
       "                if (document.getElementById(\"f9206a59-707d-45de-abb7-632579e3f852\")) {\n",
       "                    Plotly.newPlot(\n",
       "                        'f9206a59-707d-45de-abb7-632579e3f852',\n",
       "                        [{\"histfunc\": \"count\", \"histnorm\": \"\", \"marker\": {\"color\": \"rgba(255, 153, 51, 1.0)\", \"line\": {\"color\": \"#4D5663\", \"width\": 1.3}}, \"name\": \"A\", \"opacity\": 0.8, \"orientation\": \"v\", \"type\": \"histogram\", \"x\": [-0.13332898728486217, 0.6049162173562118, -0.16177503105113158, 0.2904262389514051, 1.1562838099089574, -1.1848532417977728, 0.8982273761327372, 0.028278257948029965, -0.9868512173336761, 0.6840821635822759, -0.7608168905347923, -0.4849772912292263, 1.4103246726026462, -0.8217680536926046, -0.10584387485756273, 0.0915326999720717, 1.5868812487818433, 1.4610332716855279, -0.296010479607427, -1.636326733107384, -0.494075647778116, 1.254407911954291, -1.3259794161261163, 0.46662695049174047, 0.9930619033922193, -0.5176556953346497, 0.4923565746528598, -0.30148014268246154, -0.4809887648149414, 0.4820761832548575, 0.9795666811263533, 0.2290842534017007, 0.36752354492950984, 0.6168940590624284, 0.4114722975292953, -0.20855183114206602, 1.132181985806202, 0.9935469114025697, 0.016836190438973112, 0.961885915997291, -1.783903976137237, -0.9587206963745689, -1.5379896533002744, -0.7128492071354146, -0.42738557738685895, 0.4026918235878419, 1.1185123034948807, 1.1653431112356398, 0.5260806281991431, 0.2603131849043691, 1.1467886882959684, -0.40965228755670074, 0.7133917959352619, 1.1250831270878798, 0.817216553655222, 1.4917512529186387, -0.5125131549706918, 0.14776577406804275, 0.21713674429031635, 0.5477373667964758, -0.08254668451697868, -0.750904913226693, -0.48210838498018804, 0.9105294888876799, 0.8690776970323018, -0.95756608003841, -0.6806140558632705, -0.5565517022643965, -0.14106813094953835, 0.17396554387381946, -2.041059568986403, -0.06075202622890458, -1.2553721922271923, 0.740004930068497, 0.6323495961138877, 0.3758072565623964, 0.3121515525987599, 1.2167344648060452, -0.8148129555263465, -1.0423994099522742, -1.053758446029795, 1.0591205959040673, 0.624547701537553, 0.4113627954704313, 1.1811178417779826, 1.0245574869849703, -0.09182695658014851, 0.12237334974580312, -0.8312689468801848, 0.31971330737792997, 0.3882652757412495, -0.24487556089373985, 1.211015675419331, 0.2265724142315915, -0.6340086051558401, 0.789035760998447, -0.428508620713086, -1.2083999122326243, -2.442220579365496, 0.6181020168836062]}, {\"histfunc\": \"count\", \"histnorm\": \"\", \"marker\": {\"color\": \"rgba(55, 128, 191, 1.0)\", \"line\": {\"color\": \"#4D5663\", \"width\": 1.3}}, \"name\": \"B\", \"opacity\": 0.8, \"orientation\": \"v\", \"type\": \"histogram\", \"x\": [0.877873119201991, -0.8871864835711982, -0.8779365085710115, 0.16707982521148182, 0.9770570964405164, -1.0210807539641042, -0.21179137664286418, -0.025274265344616083, -1.1092078640172551, -1.1521829664006475, -1.0678537312032441, 0.881399073284442, -1.5472658310039031, 0.42894438694587583, -0.5847667949359995, 0.5861364661033456, -0.04141568970211862, 1.6330695985806374, 0.9136833206359156, 2.0233395926138007, 1.101142592370221, -0.5682038376230117, 0.042882304288209314, -0.4047854558570145, -0.20925108081337035, 0.7529358997543051, 0.7407450265436628, -1.3607933912602541, 0.3411301947962091, 1.3151839384818036, 0.3575314753592644, -1.3118340501498933, 1.4279165133867213, -0.2559157130428562, 0.4464527395079081, 0.6658948694956442, 0.7259355144620822, 0.8235263881423511, -0.08484654956607927, 1.8343974103662948, -0.4713263219195928, -0.8960723024860888, -0.30064987887889344, -0.4316502480055467, 0.2857158451321729, -0.5736274210697178, 2.5697362447985554, 0.6277843390429633, -0.49445184097626804, 0.8499163415546525, 1.5785939994794886, -0.9821279273371802, -0.4739870836956822, -1.3416687809494725, 0.984719136622916, -0.2741650591388619, 1.4972102529508924, 0.17436161357051014, -0.7460530393643999, 0.4081345878441793, 0.7508643479924706, 0.007458631298474343, -2.356211944871521, 1.2434124482978255, -0.9764707565302257, -0.9003187532037691, -0.6552946312368383, 1.01863556348232, 2.5093706224495755, -0.04773433274440632, 1.0449119076216544, 0.408730882028547, -0.11919913738978115, 0.38587853161043395, -1.1517321753523175, 1.6165054269845633, 2.320370989305167, -0.97030489009854, 0.03428818309439457, -0.567194415289803, -1.6004626492305494, 0.7941768603034315, 0.7850386433665631, 1.5710577492336988, 0.5925013415374528, 1.3388239018740202, -1.493035583334954, 0.8131093233548212, -0.06253088379133223, 1.0761370002087423, 1.6009510396615159, 1.0372091416050686, 0.24796801351280354, 1.1619363392738358, -0.3941704306660358, -0.7976663790741948, 1.7838229422786538, -1.6143395792946713, 0.2445066278672296, -0.19001794744455636]}, {\"histfunc\": \"count\", \"histnorm\": \"\", \"marker\": {\"color\": \"rgba(50, 171, 96, 1.0)\", \"line\": {\"color\": \"#4D5663\", \"width\": 1.3}}, \"name\": \"C\", \"opacity\": 0.8, \"orientation\": \"v\", \"type\": \"histogram\", \"x\": [-0.1949333377808265, 1.2874718857137506, 1.034828960634043, -1.250205626820457, -2.3140814312960223, 0.4672105757577219, 0.9336583380187081, -0.899465178637077, -0.23100800292281237, -0.4233280963663838, -0.8789825347499383, -0.23272103414254033, -0.687275448055291, -1.351898514290019, -0.29152858366285617, -0.5384074094042292, 1.0899255578983433, 0.3632462942202497, -0.31347150317497907, -0.6239556756762389, -0.5039547444225779, 0.7470989284312591, 0.5669270767827191, 0.4053962663362149, 0.7470319881233176, -0.7121268908435755, 1.3781094180709663, 0.4374773497359336, 0.4200860244282493, 0.7053171544932973, -0.6008008456387155, 1.114826092770562, 0.5183437897032463, -1.6875410078176634, -0.14119371767260377, -1.2318315718081576, 1.094246490855967, -0.9357325966232735, -1.687124220557086, 0.02834226044932334, -0.43635878228827285, 0.19203209266547921, 1.5017344421595056, -0.758789965263754, -0.48496529798553106, 0.9112791466103329, -0.9065257161127248, 0.15779465541686052, 0.32598660502669086, -0.7494680676971873, 0.8369842300027271, -0.1852978110964879, -0.8537190052680307, -1.328453836121312, 0.8883999662666356, 0.6745108463283488, -0.039512731797237334, -0.15152265482386013, -0.4053422246549689, 1.091898283200699, 0.3523894167516524, -0.8234261540482228, -0.3877115538256855, 2.334372769081094, -1.2790254406427777, -0.05124559254107892, 1.6034395642054087, -0.9702203612312997, -2.986537403890035, 0.8768333360508807, -1.0955398315132059, -1.3184810057926308, 0.4811947683684202, -0.9413875287749689, -0.09428344821563733, 0.24313378679796052, -0.8705367986795014, 0.33500633048508377, -0.23050141623667522, -0.4987736876364225, 1.7595674249869988, -1.371365312362017, 1.5153198832203851, -2.136172527562396, 0.13909291969410825, -0.6749023176385337, 0.280617133701145, -1.8513701473257176, -0.6285511875260519, 1.0104658535811069, -0.005853284057386029, 0.1096869174311675, -0.9210250890711749, 1.7413864500446388, 0.660042296473798, -1.3547562182632082, -0.9333532783173327, -0.1645621664866537, 0.08988391435312298, -0.3005702765173331]}, {\"histfunc\": \"count\", \"histnorm\": \"\", \"marker\": {\"color\": \"rgba(128, 0, 128, 1.0)\", \"line\": {\"color\": \"#4D5663\", \"width\": 1.3}}, \"name\": \"D\", \"opacity\": 0.8, \"orientation\": \"v\", \"type\": \"histogram\", \"x\": [-0.08270575823628525, 0.5721288881350668, 1.0693127747928544, 1.5534994107776754, 0.19406633148953562, -0.26233500689833983, 1.5655280754438046, -0.18114075584586906, -0.009619968905033204, -0.9027686346935858, -0.214812512368609, -0.7364379842187003, -0.19198476000138007, 0.18702643707197159, 0.0433781027486577, -0.29137810972437495, -1.1978306132083452, 0.41923085497089585, -0.31918684064943975, 1.128602606672595, -1.7825520771222159, 0.6030731735378128, -0.3564898191817619, -1.7844575714167668, -1.5335276217022513, -0.23179194788496277, 1.0021641098970262, -0.6909673306044203, -1.6223983671173798, 0.9163321161767722, -0.16823263095738714, -0.08943816895035614, 0.29775873555054044, 0.12574099999810487, -0.09456630256447097, -0.6611620609872069, 0.21652645180452904, 0.7244403439630475, 0.6954520634005963, -1.5499491574713065, 0.11562111541713081, -1.1221872789710325, 1.6563204328441237, 0.2952248151470929, -1.5686691986603534, -0.013048810598643025, -0.0742857139038019, 0.7150980179301154, -0.7395795234598608, 0.5989185284645229, -0.3093583703760894, -0.5115294388754472, -0.2561361894198458, -1.4477826014600563, 0.5220337678598486, -2.0151186397299794, 0.5886751789306843, -0.2327764475170766, 0.5212684750945968, -0.3863966203198103, 1.104088962904185, 1.7129532254736584, 0.44128179880332474, 0.14979679828882936, -0.2519819766582173, 0.6073456327874504, 0.5990539129529934, 0.41172165954198053, -0.93461312400278, 1.6191205319381616, -0.7132980745026403, -0.6055073499449021, 0.43331854221063015, 1.312027745736751, 0.22528511601214957, 1.6434145615909932, 0.3924455136917064, -0.44644815502010077, 0.3990194329299282, 0.3291683995399519, -0.9125345281980742, 0.3008990483570197, 0.10284225567393888, 0.45990273680458116, 0.5490036543010519, -0.5263979924439908, -0.9350994613038845, 1.418678192436831, -0.3039213118658567, -1.3956681081474906, 0.3520550174745357, -0.9795833300527587, 0.7951530232992107, -1.1695000184850353, -1.9272619586717148, -0.7952510560311679, -1.146988594289629, -0.18338757979591955, -0.3083681940970879, -0.23394117014428933]}],\n",
       "                        {\"barmode\": \"overlay\", \"legend\": {\"bgcolor\": \"#F5F6F9\", \"font\": {\"color\": \"#4D5663\"}}, \"paper_bgcolor\": \"#F5F6F9\", \"plot_bgcolor\": \"#F5F6F9\", \"template\": {\"data\": {\"bar\": [{\"error_x\": {\"color\": \"#2a3f5f\"}, \"error_y\": {\"color\": \"#2a3f5f\"}, \"marker\": {\"line\": {\"color\": \"#E5ECF6\", \"width\": 0.5}}, \"type\": \"bar\"}], \"barpolar\": [{\"marker\": {\"line\": {\"color\": \"#E5ECF6\", \"width\": 0.5}}, \"type\": \"barpolar\"}], \"carpet\": [{\"aaxis\": {\"endlinecolor\": \"#2a3f5f\", \"gridcolor\": \"white\", \"linecolor\": \"white\", \"minorgridcolor\": \"white\", \"startlinecolor\": \"#2a3f5f\"}, \"baxis\": {\"endlinecolor\": \"#2a3f5f\", \"gridcolor\": \"white\", \"linecolor\": \"white\", \"minorgridcolor\": \"white\", \"startlinecolor\": \"#2a3f5f\"}, \"type\": \"carpet\"}], \"choropleth\": [{\"colorbar\": {\"outlinewidth\": 0, \"ticks\": \"\"}, \"type\": \"choropleth\"}], \"contour\": [{\"colorbar\": {\"outlinewidth\": 0, \"ticks\": \"\"}, \"colorscale\": [[0.0, \"#0d0887\"], [0.1111111111111111, \"#46039f\"], [0.2222222222222222, \"#7201a8\"], [0.3333333333333333, \"#9c179e\"], [0.4444444444444444, \"#bd3786\"], [0.5555555555555556, \"#d8576b\"], [0.6666666666666666, \"#ed7953\"], [0.7777777777777778, \"#fb9f3a\"], [0.8888888888888888, \"#fdca26\"], [1.0, \"#f0f921\"]], \"type\": \"contour\"}], \"contourcarpet\": [{\"colorbar\": {\"outlinewidth\": 0, \"ticks\": \"\"}, \"type\": \"contourcarpet\"}], \"heatmap\": [{\"colorbar\": {\"outlinewidth\": 0, \"ticks\": \"\"}, \"colorscale\": [[0.0, \"#0d0887\"], [0.1111111111111111, \"#46039f\"], [0.2222222222222222, \"#7201a8\"], [0.3333333333333333, \"#9c179e\"], [0.4444444444444444, \"#bd3786\"], [0.5555555555555556, \"#d8576b\"], [0.6666666666666666, \"#ed7953\"], [0.7777777777777778, \"#fb9f3a\"], [0.8888888888888888, \"#fdca26\"], [1.0, \"#f0f921\"]], \"type\": \"heatmap\"}], \"heatmapgl\": [{\"colorbar\": {\"outlinewidth\": 0, \"ticks\": \"\"}, \"colorscale\": [[0.0, \"#0d0887\"], [0.1111111111111111, \"#46039f\"], [0.2222222222222222, \"#7201a8\"], [0.3333333333333333, \"#9c179e\"], [0.4444444444444444, \"#bd3786\"], [0.5555555555555556, \"#d8576b\"], [0.6666666666666666, \"#ed7953\"], [0.7777777777777778, \"#fb9f3a\"], [0.8888888888888888, \"#fdca26\"], [1.0, \"#f0f921\"]], \"type\": \"heatmapgl\"}], \"histogram\": [{\"marker\": {\"colorbar\": {\"outlinewidth\": 0, \"ticks\": \"\"}}, \"type\": \"histogram\"}], \"histogram2d\": [{\"colorbar\": {\"outlinewidth\": 0, \"ticks\": \"\"}, \"colorscale\": [[0.0, \"#0d0887\"], [0.1111111111111111, \"#46039f\"], [0.2222222222222222, \"#7201a8\"], [0.3333333333333333, \"#9c179e\"], [0.4444444444444444, \"#bd3786\"], [0.5555555555555556, \"#d8576b\"], [0.6666666666666666, \"#ed7953\"], [0.7777777777777778, \"#fb9f3a\"], [0.8888888888888888, \"#fdca26\"], [1.0, \"#f0f921\"]], \"type\": \"histogram2d\"}], \"histogram2dcontour\": [{\"colorbar\": {\"outlinewidth\": 0, \"ticks\": \"\"}, \"colorscale\": [[0.0, \"#0d0887\"], [0.1111111111111111, \"#46039f\"], [0.2222222222222222, \"#7201a8\"], [0.3333333333333333, \"#9c179e\"], [0.4444444444444444, \"#bd3786\"], [0.5555555555555556, \"#d8576b\"], [0.6666666666666666, \"#ed7953\"], [0.7777777777777778, \"#fb9f3a\"], [0.8888888888888888, \"#fdca26\"], [1.0, \"#f0f921\"]], \"type\": \"histogram2dcontour\"}], \"mesh3d\": [{\"colorbar\": {\"outlinewidth\": 0, \"ticks\": \"\"}, \"type\": \"mesh3d\"}], \"parcoords\": [{\"line\": {\"colorbar\": {\"outlinewidth\": 0, \"ticks\": \"\"}}, \"type\": \"parcoords\"}], \"pie\": [{\"automargin\": true, \"type\": \"pie\"}], \"scatter\": [{\"marker\": {\"colorbar\": {\"outlinewidth\": 0, \"ticks\": \"\"}}, \"type\": \"scatter\"}], \"scatter3d\": [{\"line\": {\"colorbar\": {\"outlinewidth\": 0, \"ticks\": \"\"}}, \"marker\": {\"colorbar\": {\"outlinewidth\": 0, \"ticks\": \"\"}}, \"type\": \"scatter3d\"}], \"scattercarpet\": [{\"marker\": {\"colorbar\": {\"outlinewidth\": 0, \"ticks\": \"\"}}, \"type\": \"scattercarpet\"}], \"scattergeo\": [{\"marker\": {\"colorbar\": {\"outlinewidth\": 0, \"ticks\": \"\"}}, \"type\": \"scattergeo\"}], \"scattergl\": [{\"marker\": {\"colorbar\": {\"outlinewidth\": 0, \"ticks\": \"\"}}, \"type\": \"scattergl\"}], \"scattermapbox\": [{\"marker\": {\"colorbar\": {\"outlinewidth\": 0, \"ticks\": \"\"}}, \"type\": \"scattermapbox\"}], \"scatterpolar\": [{\"marker\": {\"colorbar\": {\"outlinewidth\": 0, \"ticks\": \"\"}}, \"type\": \"scatterpolar\"}], \"scatterpolargl\": [{\"marker\": {\"colorbar\": {\"outlinewidth\": 0, \"ticks\": \"\"}}, \"type\": \"scatterpolargl\"}], \"scatterternary\": [{\"marker\": {\"colorbar\": {\"outlinewidth\": 0, \"ticks\": \"\"}}, \"type\": \"scatterternary\"}], \"surface\": [{\"colorbar\": {\"outlinewidth\": 0, \"ticks\": \"\"}, \"colorscale\": [[0.0, \"#0d0887\"], [0.1111111111111111, \"#46039f\"], [0.2222222222222222, \"#7201a8\"], [0.3333333333333333, \"#9c179e\"], [0.4444444444444444, \"#bd3786\"], [0.5555555555555556, \"#d8576b\"], [0.6666666666666666, \"#ed7953\"], [0.7777777777777778, \"#fb9f3a\"], [0.8888888888888888, \"#fdca26\"], [1.0, \"#f0f921\"]], \"type\": \"surface\"}], \"table\": [{\"cells\": {\"fill\": {\"color\": \"#EBF0F8\"}, \"line\": {\"color\": \"white\"}}, \"header\": {\"fill\": {\"color\": \"#C8D4E3\"}, \"line\": {\"color\": \"white\"}}, \"type\": \"table\"}]}, \"layout\": {\"annotationdefaults\": {\"arrowcolor\": \"#2a3f5f\", \"arrowhead\": 0, \"arrowwidth\": 1}, \"coloraxis\": {\"colorbar\": {\"outlinewidth\": 0, \"ticks\": \"\"}}, \"colorscale\": {\"diverging\": [[0, \"#8e0152\"], [0.1, \"#c51b7d\"], [0.2, \"#de77ae\"], [0.3, \"#f1b6da\"], [0.4, \"#fde0ef\"], [0.5, \"#f7f7f7\"], [0.6, \"#e6f5d0\"], [0.7, \"#b8e186\"], [0.8, \"#7fbc41\"], [0.9, \"#4d9221\"], [1, \"#276419\"]], \"sequential\": [[0.0, \"#0d0887\"], [0.1111111111111111, \"#46039f\"], [0.2222222222222222, \"#7201a8\"], [0.3333333333333333, \"#9c179e\"], [0.4444444444444444, \"#bd3786\"], [0.5555555555555556, \"#d8576b\"], [0.6666666666666666, \"#ed7953\"], [0.7777777777777778, \"#fb9f3a\"], [0.8888888888888888, \"#fdca26\"], [1.0, \"#f0f921\"]], \"sequentialminus\": [[0.0, \"#0d0887\"], [0.1111111111111111, \"#46039f\"], [0.2222222222222222, \"#7201a8\"], [0.3333333333333333, \"#9c179e\"], [0.4444444444444444, \"#bd3786\"], [0.5555555555555556, \"#d8576b\"], [0.6666666666666666, \"#ed7953\"], [0.7777777777777778, \"#fb9f3a\"], [0.8888888888888888, \"#fdca26\"], [1.0, \"#f0f921\"]]}, \"colorway\": [\"#636efa\", \"#EF553B\", \"#00cc96\", \"#ab63fa\", \"#FFA15A\", \"#19d3f3\", \"#FF6692\", \"#B6E880\", \"#FF97FF\", \"#FECB52\"], \"font\": {\"color\": \"#2a3f5f\"}, \"geo\": {\"bgcolor\": \"white\", \"lakecolor\": \"white\", \"landcolor\": \"#E5ECF6\", \"showlakes\": true, \"showland\": true, \"subunitcolor\": \"white\"}, \"hoverlabel\": {\"align\": \"left\"}, \"hovermode\": \"closest\", \"mapbox\": {\"style\": \"light\"}, \"paper_bgcolor\": \"white\", \"plot_bgcolor\": \"#E5ECF6\", \"polar\": {\"angularaxis\": {\"gridcolor\": \"white\", \"linecolor\": \"white\", \"ticks\": \"\"}, \"bgcolor\": \"#E5ECF6\", \"radialaxis\": {\"gridcolor\": \"white\", \"linecolor\": \"white\", \"ticks\": \"\"}}, \"scene\": {\"xaxis\": {\"backgroundcolor\": \"#E5ECF6\", \"gridcolor\": \"white\", \"gridwidth\": 2, \"linecolor\": \"white\", \"showbackground\": true, \"ticks\": \"\", \"zerolinecolor\": \"white\"}, \"yaxis\": {\"backgroundcolor\": \"#E5ECF6\", \"gridcolor\": \"white\", \"gridwidth\": 2, \"linecolor\": \"white\", \"showbackground\": true, \"ticks\": \"\", \"zerolinecolor\": \"white\"}, \"zaxis\": {\"backgroundcolor\": \"#E5ECF6\", \"gridcolor\": \"white\", \"gridwidth\": 2, \"linecolor\": \"white\", \"showbackground\": true, \"ticks\": \"\", \"zerolinecolor\": \"white\"}}, \"shapedefaults\": {\"line\": {\"color\": \"#2a3f5f\"}}, \"ternary\": {\"aaxis\": {\"gridcolor\": \"white\", \"linecolor\": \"white\", \"ticks\": \"\"}, \"baxis\": {\"gridcolor\": \"white\", \"linecolor\": \"white\", \"ticks\": \"\"}, \"bgcolor\": \"#E5ECF6\", \"caxis\": {\"gridcolor\": \"white\", \"linecolor\": \"white\", \"ticks\": \"\"}}, \"title\": {\"x\": 0.05}, \"xaxis\": {\"automargin\": true, \"gridcolor\": \"white\", \"linecolor\": \"white\", \"ticks\": \"\", \"title\": {\"standoff\": 15}, \"zerolinecolor\": \"white\", \"zerolinewidth\": 2}, \"yaxis\": {\"automargin\": true, \"gridcolor\": \"white\", \"linecolor\": \"white\", \"ticks\": \"\", \"title\": {\"standoff\": 15}, \"zerolinecolor\": \"white\", \"zerolinewidth\": 2}}}, \"title\": {\"font\": {\"color\": \"#4D5663\"}}, \"xaxis\": {\"gridcolor\": \"#E1E5ED\", \"showgrid\": true, \"tickfont\": {\"color\": \"#4D5663\"}, \"title\": {\"font\": {\"color\": \"#4D5663\"}, \"text\": \"\"}, \"zerolinecolor\": \"#E1E5ED\"}, \"yaxis\": {\"gridcolor\": \"#E1E5ED\", \"showgrid\": true, \"tickfont\": {\"color\": \"#4D5663\"}, \"title\": {\"font\": {\"color\": \"#4D5663\"}, \"text\": \"\"}, \"zerolinecolor\": \"#E1E5ED\"}},\n",
       "                        {\"showLink\": true, \"linkText\": \"Export to plot.ly\", \"plotlyServerURL\": \"https://plot.ly\", \"responsive\": true}\n",
       "                    ).then(function(){\n",
       "                            \n",
       "var gd = document.getElementById('f9206a59-707d-45de-abb7-632579e3f852');\n",
       "var x = new MutationObserver(function (mutations, observer) {{\n",
       "        var display = window.getComputedStyle(gd).display;\n",
       "        if (!display || display === 'none') {{\n",
       "            console.log([gd, 'removed!']);\n",
       "            Plotly.purge(gd);\n",
       "            observer.disconnect();\n",
       "        }}\n",
       "}});\n",
       "\n",
       "// Listen for the removal of the full notebook cells\n",
       "var notebookContainer = gd.closest('#notebook-container');\n",
       "if (notebookContainer) {{\n",
       "    x.observe(notebookContainer, {childList: true});\n",
       "}}\n",
       "\n",
       "// Listen for the clearing of the current output cell\n",
       "var outputEl = gd.closest('.output');\n",
       "if (outputEl) {{\n",
       "    x.observe(outputEl, {childList: true});\n",
       "}}\n",
       "\n",
       "                        })\n",
       "                };\n",
       "                });\n",
       "            </script>\n",
       "        </div>"
      ]
     },
     "metadata": {},
     "output_type": "display_data"
    }
   ],
   "source": [
    "df.iplot(kind='hist')"
   ]
  },
  {
   "cell_type": "code",
   "execution_count": 35,
   "metadata": {},
   "outputs": [
    {
     "name": "stderr",
     "output_type": "stream",
     "text": [
      "/Users/sahil/opt/anaconda3/lib/python3.7/site-packages/cufflinks/plotlytools.py:849: FutureWarning:\n",
      "\n",
      "The pandas.np module is deprecated and will be removed from pandas in a future version. Import numpy directly instead\n",
      "\n",
      "/Users/sahil/opt/anaconda3/lib/python3.7/site-packages/cufflinks/plotlytools.py:850: FutureWarning:\n",
      "\n",
      "The pandas.np module is deprecated and will be removed from pandas in a future version. Import numpy directly instead\n",
      "\n"
     ]
    },
    {
     "data": {
      "application/vnd.plotly.v1+json": {
       "config": {
        "linkText": "Export to plot.ly",
        "plotlyServerURL": "https://plot.ly",
        "showLink": true
       },
       "data": [
        {
         "line": {
          "color": "rgba(255, 153, 51, 1.0)",
          "dash": "solid",
          "shape": "linear",
          "width": 1.3
         },
         "mode": "lines",
         "name": "A",
         "text": "",
         "type": "scatter",
         "x": [
          0,
          1,
          2,
          3,
          4,
          5,
          6,
          7,
          8,
          9,
          10,
          11,
          12,
          13,
          14,
          15,
          16,
          17,
          18,
          19,
          20,
          21,
          22,
          23,
          24,
          25,
          26,
          27,
          28,
          29,
          30,
          31,
          32,
          33,
          34,
          35,
          36,
          37,
          38,
          39,
          40,
          41,
          42,
          43,
          44,
          45,
          46,
          47,
          48,
          49,
          50,
          51,
          52,
          53,
          54,
          55,
          56,
          57,
          58,
          59,
          60,
          61,
          62,
          63,
          64,
          65,
          66,
          67,
          68,
          69,
          70,
          71,
          72,
          73,
          74,
          75,
          76,
          77,
          78,
          79,
          80,
          81,
          82,
          83,
          84,
          85,
          86,
          87,
          88,
          89,
          90,
          91,
          92,
          93,
          94,
          95,
          96,
          97,
          98,
          99
         ],
         "y": [
          -0.13332898728486217,
          0.6049162173562118,
          -0.16177503105113158,
          0.2904262389514051,
          1.1562838099089574,
          -1.1848532417977728,
          0.8982273761327372,
          0.028278257948029965,
          -0.9868512173336761,
          0.6840821635822759,
          -0.7608168905347923,
          -0.4849772912292263,
          1.4103246726026462,
          -0.8217680536926046,
          -0.10584387485756273,
          0.0915326999720717,
          1.5868812487818433,
          1.4610332716855279,
          -0.296010479607427,
          -1.636326733107384,
          -0.494075647778116,
          1.254407911954291,
          -1.3259794161261163,
          0.46662695049174047,
          0.9930619033922193,
          -0.5176556953346497,
          0.4923565746528598,
          -0.30148014268246154,
          -0.4809887648149414,
          0.4820761832548575,
          0.9795666811263533,
          0.2290842534017007,
          0.36752354492950984,
          0.6168940590624284,
          0.4114722975292953,
          -0.20855183114206602,
          1.132181985806202,
          0.9935469114025697,
          0.016836190438973112,
          0.961885915997291,
          -1.783903976137237,
          -0.9587206963745689,
          -1.5379896533002744,
          -0.7128492071354146,
          -0.42738557738685895,
          0.4026918235878419,
          1.1185123034948807,
          1.1653431112356398,
          0.5260806281991431,
          0.2603131849043691,
          1.1467886882959684,
          -0.40965228755670074,
          0.7133917959352619,
          1.1250831270878798,
          0.817216553655222,
          1.4917512529186387,
          -0.5125131549706918,
          0.14776577406804275,
          0.21713674429031635,
          0.5477373667964758,
          -0.08254668451697868,
          -0.750904913226693,
          -0.48210838498018804,
          0.9105294888876799,
          0.8690776970323018,
          -0.95756608003841,
          -0.6806140558632705,
          -0.5565517022643965,
          -0.14106813094953835,
          0.17396554387381946,
          -2.041059568986403,
          -0.06075202622890458,
          -1.2553721922271923,
          0.740004930068497,
          0.6323495961138877,
          0.3758072565623964,
          0.3121515525987599,
          1.2167344648060452,
          -0.8148129555263465,
          -1.0423994099522742,
          -1.053758446029795,
          1.0591205959040673,
          0.624547701537553,
          0.4113627954704313,
          1.1811178417779826,
          1.0245574869849703,
          -0.09182695658014851,
          0.12237334974580312,
          -0.8312689468801848,
          0.31971330737792997,
          0.3882652757412495,
          -0.24487556089373985,
          1.211015675419331,
          0.2265724142315915,
          -0.6340086051558401,
          0.789035760998447,
          -0.428508620713086,
          -1.2083999122326243,
          -2.442220579365496,
          0.6181020168836062
         ]
        },
        {
         "line": {
          "color": "rgba(55, 128, 191, 1.0)",
          "dash": "solid",
          "shape": "linear",
          "width": 1.3
         },
         "mode": "lines",
         "name": "B",
         "text": "",
         "type": "scatter",
         "x": [
          0,
          1,
          2,
          3,
          4,
          5,
          6,
          7,
          8,
          9,
          10,
          11,
          12,
          13,
          14,
          15,
          16,
          17,
          18,
          19,
          20,
          21,
          22,
          23,
          24,
          25,
          26,
          27,
          28,
          29,
          30,
          31,
          32,
          33,
          34,
          35,
          36,
          37,
          38,
          39,
          40,
          41,
          42,
          43,
          44,
          45,
          46,
          47,
          48,
          49,
          50,
          51,
          52,
          53,
          54,
          55,
          56,
          57,
          58,
          59,
          60,
          61,
          62,
          63,
          64,
          65,
          66,
          67,
          68,
          69,
          70,
          71,
          72,
          73,
          74,
          75,
          76,
          77,
          78,
          79,
          80,
          81,
          82,
          83,
          84,
          85,
          86,
          87,
          88,
          89,
          90,
          91,
          92,
          93,
          94,
          95,
          96,
          97,
          98,
          99
         ],
         "y": [
          0.877873119201991,
          -0.8871864835711982,
          -0.8779365085710115,
          0.16707982521148182,
          0.9770570964405164,
          -1.0210807539641042,
          -0.21179137664286418,
          -0.025274265344616083,
          -1.1092078640172551,
          -1.1521829664006475,
          -1.0678537312032441,
          0.881399073284442,
          -1.5472658310039031,
          0.42894438694587583,
          -0.5847667949359995,
          0.5861364661033456,
          -0.04141568970211862,
          1.6330695985806374,
          0.9136833206359156,
          2.0233395926138007,
          1.101142592370221,
          -0.5682038376230117,
          0.042882304288209314,
          -0.4047854558570145,
          -0.20925108081337035,
          0.7529358997543051,
          0.7407450265436628,
          -1.3607933912602541,
          0.3411301947962091,
          1.3151839384818036,
          0.3575314753592644,
          -1.3118340501498933,
          1.4279165133867213,
          -0.2559157130428562,
          0.4464527395079081,
          0.6658948694956442,
          0.7259355144620822,
          0.8235263881423511,
          -0.08484654956607927,
          1.8343974103662948,
          -0.4713263219195928,
          -0.8960723024860888,
          -0.30064987887889344,
          -0.4316502480055467,
          0.2857158451321729,
          -0.5736274210697178,
          2.5697362447985554,
          0.6277843390429633,
          -0.49445184097626804,
          0.8499163415546525,
          1.5785939994794886,
          -0.9821279273371802,
          -0.4739870836956822,
          -1.3416687809494725,
          0.984719136622916,
          -0.2741650591388619,
          1.4972102529508924,
          0.17436161357051014,
          -0.7460530393643999,
          0.4081345878441793,
          0.7508643479924706,
          0.007458631298474343,
          -2.356211944871521,
          1.2434124482978255,
          -0.9764707565302257,
          -0.9003187532037691,
          -0.6552946312368383,
          1.01863556348232,
          2.5093706224495755,
          -0.04773433274440632,
          1.0449119076216544,
          0.408730882028547,
          -0.11919913738978115,
          0.38587853161043395,
          -1.1517321753523175,
          1.6165054269845633,
          2.320370989305167,
          -0.97030489009854,
          0.03428818309439457,
          -0.567194415289803,
          -1.6004626492305494,
          0.7941768603034315,
          0.7850386433665631,
          1.5710577492336988,
          0.5925013415374528,
          1.3388239018740202,
          -1.493035583334954,
          0.8131093233548212,
          -0.06253088379133223,
          1.0761370002087423,
          1.6009510396615159,
          1.0372091416050686,
          0.24796801351280354,
          1.1619363392738358,
          -0.3941704306660358,
          -0.7976663790741948,
          1.7838229422786538,
          -1.6143395792946713,
          0.2445066278672296,
          -0.19001794744455636
         ]
        },
        {
         "connectgaps": false,
         "fill": "tozeroy",
         "line": {
          "color": "green",
          "dash": "solid",
          "shape": "linear",
          "width": 0.5
         },
         "mode": "lines",
         "name": "Spread",
         "showlegend": false,
         "type": "scatter",
         "x": [
          0,
          1,
          2,
          3,
          4,
          5,
          6,
          7,
          8,
          9,
          10,
          11,
          12,
          13,
          14,
          15,
          16,
          17,
          18,
          19,
          20,
          21,
          22,
          23,
          24,
          25,
          26,
          27,
          28,
          29,
          30,
          31,
          32,
          33,
          34,
          35,
          36,
          37,
          38,
          39,
          40,
          41,
          42,
          43,
          44,
          45,
          46,
          47,
          48,
          49,
          50,
          51,
          52,
          53,
          54,
          55,
          56,
          57,
          58,
          59,
          60,
          61,
          62,
          63,
          64,
          65,
          66,
          67,
          68,
          69,
          70,
          71,
          72,
          73,
          74,
          75,
          76,
          77,
          78,
          79,
          80,
          81,
          82,
          83,
          84,
          85,
          86,
          87,
          88,
          89,
          90,
          91,
          92,
          93,
          94,
          95,
          96,
          97,
          98,
          99
         ],
         "xaxis": "x2",
         "y": [
          "",
          1.49210270092741,
          0.7161614775198799,
          0.1233464137399233,
          0.179226713468441,
          "",
          1.1100187527756014,
          0.05355252329264605,
          0.12235664668357904,
          1.8362651299829236,
          0.3070368406684518,
          "",
          2.957590503606549,
          "",
          0.47892292007843673,
          "",
          1.6282969384839618,
          "",
          "",
          "",
          "",
          1.8226117495773027,
          "",
          0.8714124063487549,
          1.2023129842055897,
          "",
          "",
          1.0593132485777925,
          "",
          "",
          0.6220352057670888,
          1.540918303551594,
          "",
          0.8728097721052847,
          "",
          "",
          0.40624647134411995,
          0.17002052326021855,
          0.10168274000505238,
          "",
          "",
          "",
          "",
          "",
          "",
          0.9763192446575597,
          "",
          0.5375587721926766,
          1.0205324691754112,
          "",
          "",
          0.5724756397804796,
          1.1873788796309441,
          2.4667519080373523,
          "",
          1.7659163120575005,
          "",
          "",
          0.9631897836547163,
          0.1396027789522965,
          "",
          "",
          1.8741035598913331,
          "",
          1.8455484535625275,
          "",
          "",
          "",
          "",
          0.22169987661822577,
          "",
          "",
          "",
          0.35412639845806304,
          1.7840817714662052,
          "",
          "",
          2.1870393549045852,
          "",
          "",
          0.5467042032007543,
          0.2649437356006358,
          "",
          "",
          0.5886165002405298,
          "",
          1.4012086267548054,
          "",
          "",
          "",
          "",
          "",
          0.9630476619065276,
          "",
          "",
          1.5867021400726418,
          "",
          0.405939667062047,
          "",
          0.8081199643281626
         ],
         "yaxis": "y2"
        },
        {
         "connectgaps": false,
         "fill": "tozeroy",
         "line": {
          "color": "red",
          "dash": "solid",
          "shape": "linear",
          "width": 0.5
         },
         "mode": "lines",
         "name": "Spread",
         "showlegend": false,
         "type": "scatter",
         "x": [
          0,
          1,
          2,
          3,
          4,
          5,
          6,
          7,
          8,
          9,
          10,
          11,
          12,
          13,
          14,
          15,
          16,
          17,
          18,
          19,
          20,
          21,
          22,
          23,
          24,
          25,
          26,
          27,
          28,
          29,
          30,
          31,
          32,
          33,
          34,
          35,
          36,
          37,
          38,
          39,
          40,
          41,
          42,
          43,
          44,
          45,
          46,
          47,
          48,
          49,
          50,
          51,
          52,
          53,
          54,
          55,
          56,
          57,
          58,
          59,
          60,
          61,
          62,
          63,
          64,
          65,
          66,
          67,
          68,
          69,
          70,
          71,
          72,
          73,
          74,
          75,
          76,
          77,
          78,
          79,
          80,
          81,
          82,
          83,
          84,
          85,
          86,
          87,
          88,
          89,
          90,
          91,
          92,
          93,
          94,
          95,
          96,
          97,
          98,
          99
         ],
         "xaxis": "x2",
         "y": [
          -1.011202106486853,
          "",
          "",
          "",
          "",
          -0.1637724878336686,
          "",
          "",
          "",
          "",
          "",
          -1.3663763645136684,
          "",
          -1.2507124406384804,
          "",
          -0.4946037661312739,
          "",
          -0.1720363268951095,
          -1.2096938002433426,
          -3.6596663257211848,
          -1.595218240148337,
          "",
          -1.3688617204143256,
          "",
          "",
          -1.2705915950889548,
          -0.248388451890803,
          "",
          -0.8221189596111504,
          -0.8331077552269461,
          "",
          "",
          -1.0603929684572115,
          "",
          -0.034980441978612775,
          -0.8744467006377102,
          "",
          "",
          "",
          -0.8725114943690038,
          -1.3125776542176442,
          -0.06264839388848009,
          -1.237339774421381,
          -0.28119895912986786,
          -0.7131014225190319,
          "",
          -1.4512239413036747,
          "",
          "",
          -0.5896031566502833,
          -0.4318053111835203,
          "",
          "",
          "",
          -0.16750258296769394,
          "",
          -2.009723407921584,
          -0.026595839502467383,
          "",
          "",
          -0.8334110325094493,
          -0.7583635445251673,
          "",
          -0.33288295941014556,
          "",
          -0.057247326834640955,
          -0.02531942462643222,
          -1.5751872657467167,
          -2.650438753399114,
          "",
          -3.0859714766080577,
          -0.4694829082574516,
          -1.1361730548374112,
          "",
          "",
          -1.240698170422167,
          -2.0082194367064075,
          "",
          -0.849101138620741,
          -0.47520499466247124,
          "",
          "",
          -0.16049094182901014,
          -1.1596949537632675,
          "",
          -0.31426641488904994,
          "",
          -0.6907359736090181,
          -0.7687380630888526,
          -0.7564236928308123,
          -1.2126857639202664,
          -1.2820847024988085,
          "",
          -0.9353639250422443,
          -0.23983817448980432,
          "",
          -2.2123315629917397,
          "",
          -2.6867272072327255,
          ""
         ],
         "yaxis": "y2"
        }
       ],
       "layout": {
        "hovermode": "x",
        "legend": {
         "bgcolor": "#F5F6F9",
         "font": {
          "color": "#4D5663"
         }
        },
        "paper_bgcolor": "#F5F6F9",
        "plot_bgcolor": "#F5F6F9",
        "template": {
         "data": {
          "bar": [
           {
            "error_x": {
             "color": "#2a3f5f"
            },
            "error_y": {
             "color": "#2a3f5f"
            },
            "marker": {
             "line": {
              "color": "#E5ECF6",
              "width": 0.5
             }
            },
            "type": "bar"
           }
          ],
          "barpolar": [
           {
            "marker": {
             "line": {
              "color": "#E5ECF6",
              "width": 0.5
             }
            },
            "type": "barpolar"
           }
          ],
          "carpet": [
           {
            "aaxis": {
             "endlinecolor": "#2a3f5f",
             "gridcolor": "white",
             "linecolor": "white",
             "minorgridcolor": "white",
             "startlinecolor": "#2a3f5f"
            },
            "baxis": {
             "endlinecolor": "#2a3f5f",
             "gridcolor": "white",
             "linecolor": "white",
             "minorgridcolor": "white",
             "startlinecolor": "#2a3f5f"
            },
            "type": "carpet"
           }
          ],
          "choropleth": [
           {
            "colorbar": {
             "outlinewidth": 0,
             "ticks": ""
            },
            "type": "choropleth"
           }
          ],
          "contour": [
           {
            "colorbar": {
             "outlinewidth": 0,
             "ticks": ""
            },
            "colorscale": [
             [
              0,
              "#0d0887"
             ],
             [
              0.1111111111111111,
              "#46039f"
             ],
             [
              0.2222222222222222,
              "#7201a8"
             ],
             [
              0.3333333333333333,
              "#9c179e"
             ],
             [
              0.4444444444444444,
              "#bd3786"
             ],
             [
              0.5555555555555556,
              "#d8576b"
             ],
             [
              0.6666666666666666,
              "#ed7953"
             ],
             [
              0.7777777777777778,
              "#fb9f3a"
             ],
             [
              0.8888888888888888,
              "#fdca26"
             ],
             [
              1,
              "#f0f921"
             ]
            ],
            "type": "contour"
           }
          ],
          "contourcarpet": [
           {
            "colorbar": {
             "outlinewidth": 0,
             "ticks": ""
            },
            "type": "contourcarpet"
           }
          ],
          "heatmap": [
           {
            "colorbar": {
             "outlinewidth": 0,
             "ticks": ""
            },
            "colorscale": [
             [
              0,
              "#0d0887"
             ],
             [
              0.1111111111111111,
              "#46039f"
             ],
             [
              0.2222222222222222,
              "#7201a8"
             ],
             [
              0.3333333333333333,
              "#9c179e"
             ],
             [
              0.4444444444444444,
              "#bd3786"
             ],
             [
              0.5555555555555556,
              "#d8576b"
             ],
             [
              0.6666666666666666,
              "#ed7953"
             ],
             [
              0.7777777777777778,
              "#fb9f3a"
             ],
             [
              0.8888888888888888,
              "#fdca26"
             ],
             [
              1,
              "#f0f921"
             ]
            ],
            "type": "heatmap"
           }
          ],
          "heatmapgl": [
           {
            "colorbar": {
             "outlinewidth": 0,
             "ticks": ""
            },
            "colorscale": [
             [
              0,
              "#0d0887"
             ],
             [
              0.1111111111111111,
              "#46039f"
             ],
             [
              0.2222222222222222,
              "#7201a8"
             ],
             [
              0.3333333333333333,
              "#9c179e"
             ],
             [
              0.4444444444444444,
              "#bd3786"
             ],
             [
              0.5555555555555556,
              "#d8576b"
             ],
             [
              0.6666666666666666,
              "#ed7953"
             ],
             [
              0.7777777777777778,
              "#fb9f3a"
             ],
             [
              0.8888888888888888,
              "#fdca26"
             ],
             [
              1,
              "#f0f921"
             ]
            ],
            "type": "heatmapgl"
           }
          ],
          "histogram": [
           {
            "marker": {
             "colorbar": {
              "outlinewidth": 0,
              "ticks": ""
             }
            },
            "type": "histogram"
           }
          ],
          "histogram2d": [
           {
            "colorbar": {
             "outlinewidth": 0,
             "ticks": ""
            },
            "colorscale": [
             [
              0,
              "#0d0887"
             ],
             [
              0.1111111111111111,
              "#46039f"
             ],
             [
              0.2222222222222222,
              "#7201a8"
             ],
             [
              0.3333333333333333,
              "#9c179e"
             ],
             [
              0.4444444444444444,
              "#bd3786"
             ],
             [
              0.5555555555555556,
              "#d8576b"
             ],
             [
              0.6666666666666666,
              "#ed7953"
             ],
             [
              0.7777777777777778,
              "#fb9f3a"
             ],
             [
              0.8888888888888888,
              "#fdca26"
             ],
             [
              1,
              "#f0f921"
             ]
            ],
            "type": "histogram2d"
           }
          ],
          "histogram2dcontour": [
           {
            "colorbar": {
             "outlinewidth": 0,
             "ticks": ""
            },
            "colorscale": [
             [
              0,
              "#0d0887"
             ],
             [
              0.1111111111111111,
              "#46039f"
             ],
             [
              0.2222222222222222,
              "#7201a8"
             ],
             [
              0.3333333333333333,
              "#9c179e"
             ],
             [
              0.4444444444444444,
              "#bd3786"
             ],
             [
              0.5555555555555556,
              "#d8576b"
             ],
             [
              0.6666666666666666,
              "#ed7953"
             ],
             [
              0.7777777777777778,
              "#fb9f3a"
             ],
             [
              0.8888888888888888,
              "#fdca26"
             ],
             [
              1,
              "#f0f921"
             ]
            ],
            "type": "histogram2dcontour"
           }
          ],
          "mesh3d": [
           {
            "colorbar": {
             "outlinewidth": 0,
             "ticks": ""
            },
            "type": "mesh3d"
           }
          ],
          "parcoords": [
           {
            "line": {
             "colorbar": {
              "outlinewidth": 0,
              "ticks": ""
             }
            },
            "type": "parcoords"
           }
          ],
          "pie": [
           {
            "automargin": true,
            "type": "pie"
           }
          ],
          "scatter": [
           {
            "marker": {
             "colorbar": {
              "outlinewidth": 0,
              "ticks": ""
             }
            },
            "type": "scatter"
           }
          ],
          "scatter3d": [
           {
            "line": {
             "colorbar": {
              "outlinewidth": 0,
              "ticks": ""
             }
            },
            "marker": {
             "colorbar": {
              "outlinewidth": 0,
              "ticks": ""
             }
            },
            "type": "scatter3d"
           }
          ],
          "scattercarpet": [
           {
            "marker": {
             "colorbar": {
              "outlinewidth": 0,
              "ticks": ""
             }
            },
            "type": "scattercarpet"
           }
          ],
          "scattergeo": [
           {
            "marker": {
             "colorbar": {
              "outlinewidth": 0,
              "ticks": ""
             }
            },
            "type": "scattergeo"
           }
          ],
          "scattergl": [
           {
            "marker": {
             "colorbar": {
              "outlinewidth": 0,
              "ticks": ""
             }
            },
            "type": "scattergl"
           }
          ],
          "scattermapbox": [
           {
            "marker": {
             "colorbar": {
              "outlinewidth": 0,
              "ticks": ""
             }
            },
            "type": "scattermapbox"
           }
          ],
          "scatterpolar": [
           {
            "marker": {
             "colorbar": {
              "outlinewidth": 0,
              "ticks": ""
             }
            },
            "type": "scatterpolar"
           }
          ],
          "scatterpolargl": [
           {
            "marker": {
             "colorbar": {
              "outlinewidth": 0,
              "ticks": ""
             }
            },
            "type": "scatterpolargl"
           }
          ],
          "scatterternary": [
           {
            "marker": {
             "colorbar": {
              "outlinewidth": 0,
              "ticks": ""
             }
            },
            "type": "scatterternary"
           }
          ],
          "surface": [
           {
            "colorbar": {
             "outlinewidth": 0,
             "ticks": ""
            },
            "colorscale": [
             [
              0,
              "#0d0887"
             ],
             [
              0.1111111111111111,
              "#46039f"
             ],
             [
              0.2222222222222222,
              "#7201a8"
             ],
             [
              0.3333333333333333,
              "#9c179e"
             ],
             [
              0.4444444444444444,
              "#bd3786"
             ],
             [
              0.5555555555555556,
              "#d8576b"
             ],
             [
              0.6666666666666666,
              "#ed7953"
             ],
             [
              0.7777777777777778,
              "#fb9f3a"
             ],
             [
              0.8888888888888888,
              "#fdca26"
             ],
             [
              1,
              "#f0f921"
             ]
            ],
            "type": "surface"
           }
          ],
          "table": [
           {
            "cells": {
             "fill": {
              "color": "#EBF0F8"
             },
             "line": {
              "color": "white"
             }
            },
            "header": {
             "fill": {
              "color": "#C8D4E3"
             },
             "line": {
              "color": "white"
             }
            },
            "type": "table"
           }
          ]
         },
         "layout": {
          "annotationdefaults": {
           "arrowcolor": "#2a3f5f",
           "arrowhead": 0,
           "arrowwidth": 1
          },
          "coloraxis": {
           "colorbar": {
            "outlinewidth": 0,
            "ticks": ""
           }
          },
          "colorscale": {
           "diverging": [
            [
             0,
             "#8e0152"
            ],
            [
             0.1,
             "#c51b7d"
            ],
            [
             0.2,
             "#de77ae"
            ],
            [
             0.3,
             "#f1b6da"
            ],
            [
             0.4,
             "#fde0ef"
            ],
            [
             0.5,
             "#f7f7f7"
            ],
            [
             0.6,
             "#e6f5d0"
            ],
            [
             0.7,
             "#b8e186"
            ],
            [
             0.8,
             "#7fbc41"
            ],
            [
             0.9,
             "#4d9221"
            ],
            [
             1,
             "#276419"
            ]
           ],
           "sequential": [
            [
             0,
             "#0d0887"
            ],
            [
             0.1111111111111111,
             "#46039f"
            ],
            [
             0.2222222222222222,
             "#7201a8"
            ],
            [
             0.3333333333333333,
             "#9c179e"
            ],
            [
             0.4444444444444444,
             "#bd3786"
            ],
            [
             0.5555555555555556,
             "#d8576b"
            ],
            [
             0.6666666666666666,
             "#ed7953"
            ],
            [
             0.7777777777777778,
             "#fb9f3a"
            ],
            [
             0.8888888888888888,
             "#fdca26"
            ],
            [
             1,
             "#f0f921"
            ]
           ],
           "sequentialminus": [
            [
             0,
             "#0d0887"
            ],
            [
             0.1111111111111111,
             "#46039f"
            ],
            [
             0.2222222222222222,
             "#7201a8"
            ],
            [
             0.3333333333333333,
             "#9c179e"
            ],
            [
             0.4444444444444444,
             "#bd3786"
            ],
            [
             0.5555555555555556,
             "#d8576b"
            ],
            [
             0.6666666666666666,
             "#ed7953"
            ],
            [
             0.7777777777777778,
             "#fb9f3a"
            ],
            [
             0.8888888888888888,
             "#fdca26"
            ],
            [
             1,
             "#f0f921"
            ]
           ]
          },
          "colorway": [
           "#636efa",
           "#EF553B",
           "#00cc96",
           "#ab63fa",
           "#FFA15A",
           "#19d3f3",
           "#FF6692",
           "#B6E880",
           "#FF97FF",
           "#FECB52"
          ],
          "font": {
           "color": "#2a3f5f"
          },
          "geo": {
           "bgcolor": "white",
           "lakecolor": "white",
           "landcolor": "#E5ECF6",
           "showlakes": true,
           "showland": true,
           "subunitcolor": "white"
          },
          "hoverlabel": {
           "align": "left"
          },
          "hovermode": "closest",
          "mapbox": {
           "style": "light"
          },
          "paper_bgcolor": "white",
          "plot_bgcolor": "#E5ECF6",
          "polar": {
           "angularaxis": {
            "gridcolor": "white",
            "linecolor": "white",
            "ticks": ""
           },
           "bgcolor": "#E5ECF6",
           "radialaxis": {
            "gridcolor": "white",
            "linecolor": "white",
            "ticks": ""
           }
          },
          "scene": {
           "xaxis": {
            "backgroundcolor": "#E5ECF6",
            "gridcolor": "white",
            "gridwidth": 2,
            "linecolor": "white",
            "showbackground": true,
            "ticks": "",
            "zerolinecolor": "white"
           },
           "yaxis": {
            "backgroundcolor": "#E5ECF6",
            "gridcolor": "white",
            "gridwidth": 2,
            "linecolor": "white",
            "showbackground": true,
            "ticks": "",
            "zerolinecolor": "white"
           },
           "zaxis": {
            "backgroundcolor": "#E5ECF6",
            "gridcolor": "white",
            "gridwidth": 2,
            "linecolor": "white",
            "showbackground": true,
            "ticks": "",
            "zerolinecolor": "white"
           }
          },
          "shapedefaults": {
           "line": {
            "color": "#2a3f5f"
           }
          },
          "ternary": {
           "aaxis": {
            "gridcolor": "white",
            "linecolor": "white",
            "ticks": ""
           },
           "baxis": {
            "gridcolor": "white",
            "linecolor": "white",
            "ticks": ""
           },
           "bgcolor": "#E5ECF6",
           "caxis": {
            "gridcolor": "white",
            "linecolor": "white",
            "ticks": ""
           }
          },
          "title": {
           "x": 0.05
          },
          "xaxis": {
           "automargin": true,
           "gridcolor": "white",
           "linecolor": "white",
           "ticks": "",
           "title": {
            "standoff": 15
           },
           "zerolinecolor": "white",
           "zerolinewidth": 2
          },
          "yaxis": {
           "automargin": true,
           "gridcolor": "white",
           "linecolor": "white",
           "ticks": "",
           "title": {
            "standoff": 15
           },
           "zerolinecolor": "white",
           "zerolinewidth": 2
          }
         }
        },
        "title": {
         "font": {
          "color": "#4D5663"
         }
        },
        "xaxis": {
         "gridcolor": "#E1E5ED",
         "showgrid": true,
         "tickfont": {
          "color": "#4D5663"
         },
         "title": {
          "font": {
           "color": "#4D5663"
          },
          "text": ""
         },
         "zerolinecolor": "#E1E5ED"
        },
        "xaxis2": {
         "anchor": "y2",
         "gridcolor": "#E1E5ED",
         "showgrid": true,
         "showticklabels": false,
         "tickfont": {
          "color": "#4D5663"
         },
         "title": {
          "font": {
           "color": "#4D5663"
          },
          "text": ""
         },
         "zerolinecolor": "#E1E5ED"
        },
        "yaxis": {
         "domain": [
          0.3,
          1
         ],
         "gridcolor": "#E1E5ED",
         "showgrid": true,
         "tickfont": {
          "color": "#4D5663"
         },
         "title": {
          "font": {
           "color": "#4D5663"
          },
          "text": ""
         },
         "zerolinecolor": "#E1E5ED"
        },
        "yaxis2": {
         "domain": [
          0,
          0.25
         ],
         "gridcolor": "#E1E5ED",
         "showgrid": true,
         "tickfont": {
          "color": "#4D5663"
         },
         "title": {
          "font": {
           "color": "#4D5663"
          },
          "text": "Spread"
         },
         "zerolinecolor": "#E1E5ED"
        }
       }
      },
      "text/html": [
       "<div>\n",
       "        \n",
       "        \n",
       "            <div id=\"c89be296-2412-49ba-b737-b027ae488443\" class=\"plotly-graph-div\" style=\"height:525px; width:100%;\"></div>\n",
       "            <script type=\"text/javascript\">\n",
       "                require([\"plotly\"], function(Plotly) {\n",
       "                    window.PLOTLYENV=window.PLOTLYENV || {};\n",
       "                    window.PLOTLYENV.BASE_URL='https://plot.ly';\n",
       "                    \n",
       "                if (document.getElementById(\"c89be296-2412-49ba-b737-b027ae488443\")) {\n",
       "                    Plotly.newPlot(\n",
       "                        'c89be296-2412-49ba-b737-b027ae488443',\n",
       "                        [{\"line\": {\"color\": \"rgba(255, 153, 51, 1.0)\", \"dash\": \"solid\", \"shape\": \"linear\", \"width\": 1.3}, \"mode\": \"lines\", \"name\": \"A\", \"text\": \"\", \"type\": \"scatter\", \"x\": [0, 1, 2, 3, 4, 5, 6, 7, 8, 9, 10, 11, 12, 13, 14, 15, 16, 17, 18, 19, 20, 21, 22, 23, 24, 25, 26, 27, 28, 29, 30, 31, 32, 33, 34, 35, 36, 37, 38, 39, 40, 41, 42, 43, 44, 45, 46, 47, 48, 49, 50, 51, 52, 53, 54, 55, 56, 57, 58, 59, 60, 61, 62, 63, 64, 65, 66, 67, 68, 69, 70, 71, 72, 73, 74, 75, 76, 77, 78, 79, 80, 81, 82, 83, 84, 85, 86, 87, 88, 89, 90, 91, 92, 93, 94, 95, 96, 97, 98, 99], \"y\": [-0.13332898728486217, 0.6049162173562118, -0.16177503105113158, 0.2904262389514051, 1.1562838099089574, -1.1848532417977728, 0.8982273761327372, 0.028278257948029965, -0.9868512173336761, 0.6840821635822759, -0.7608168905347923, -0.4849772912292263, 1.4103246726026462, -0.8217680536926046, -0.10584387485756273, 0.0915326999720717, 1.5868812487818433, 1.4610332716855279, -0.296010479607427, -1.636326733107384, -0.494075647778116, 1.254407911954291, -1.3259794161261163, 0.46662695049174047, 0.9930619033922193, -0.5176556953346497, 0.4923565746528598, -0.30148014268246154, -0.4809887648149414, 0.4820761832548575, 0.9795666811263533, 0.2290842534017007, 0.36752354492950984, 0.6168940590624284, 0.4114722975292953, -0.20855183114206602, 1.132181985806202, 0.9935469114025697, 0.016836190438973112, 0.961885915997291, -1.783903976137237, -0.9587206963745689, -1.5379896533002744, -0.7128492071354146, -0.42738557738685895, 0.4026918235878419, 1.1185123034948807, 1.1653431112356398, 0.5260806281991431, 0.2603131849043691, 1.1467886882959684, -0.40965228755670074, 0.7133917959352619, 1.1250831270878798, 0.817216553655222, 1.4917512529186387, -0.5125131549706918, 0.14776577406804275, 0.21713674429031635, 0.5477373667964758, -0.08254668451697868, -0.750904913226693, -0.48210838498018804, 0.9105294888876799, 0.8690776970323018, -0.95756608003841, -0.6806140558632705, -0.5565517022643965, -0.14106813094953835, 0.17396554387381946, -2.041059568986403, -0.06075202622890458, -1.2553721922271923, 0.740004930068497, 0.6323495961138877, 0.3758072565623964, 0.3121515525987599, 1.2167344648060452, -0.8148129555263465, -1.0423994099522742, -1.053758446029795, 1.0591205959040673, 0.624547701537553, 0.4113627954704313, 1.1811178417779826, 1.0245574869849703, -0.09182695658014851, 0.12237334974580312, -0.8312689468801848, 0.31971330737792997, 0.3882652757412495, -0.24487556089373985, 1.211015675419331, 0.2265724142315915, -0.6340086051558401, 0.789035760998447, -0.428508620713086, -1.2083999122326243, -2.442220579365496, 0.6181020168836062]}, {\"line\": {\"color\": \"rgba(55, 128, 191, 1.0)\", \"dash\": \"solid\", \"shape\": \"linear\", \"width\": 1.3}, \"mode\": \"lines\", \"name\": \"B\", \"text\": \"\", \"type\": \"scatter\", \"x\": [0, 1, 2, 3, 4, 5, 6, 7, 8, 9, 10, 11, 12, 13, 14, 15, 16, 17, 18, 19, 20, 21, 22, 23, 24, 25, 26, 27, 28, 29, 30, 31, 32, 33, 34, 35, 36, 37, 38, 39, 40, 41, 42, 43, 44, 45, 46, 47, 48, 49, 50, 51, 52, 53, 54, 55, 56, 57, 58, 59, 60, 61, 62, 63, 64, 65, 66, 67, 68, 69, 70, 71, 72, 73, 74, 75, 76, 77, 78, 79, 80, 81, 82, 83, 84, 85, 86, 87, 88, 89, 90, 91, 92, 93, 94, 95, 96, 97, 98, 99], \"y\": [0.877873119201991, -0.8871864835711982, -0.8779365085710115, 0.16707982521148182, 0.9770570964405164, -1.0210807539641042, -0.21179137664286418, -0.025274265344616083, -1.1092078640172551, -1.1521829664006475, -1.0678537312032441, 0.881399073284442, -1.5472658310039031, 0.42894438694587583, -0.5847667949359995, 0.5861364661033456, -0.04141568970211862, 1.6330695985806374, 0.9136833206359156, 2.0233395926138007, 1.101142592370221, -0.5682038376230117, 0.042882304288209314, -0.4047854558570145, -0.20925108081337035, 0.7529358997543051, 0.7407450265436628, -1.3607933912602541, 0.3411301947962091, 1.3151839384818036, 0.3575314753592644, -1.3118340501498933, 1.4279165133867213, -0.2559157130428562, 0.4464527395079081, 0.6658948694956442, 0.7259355144620822, 0.8235263881423511, -0.08484654956607927, 1.8343974103662948, -0.4713263219195928, -0.8960723024860888, -0.30064987887889344, -0.4316502480055467, 0.2857158451321729, -0.5736274210697178, 2.5697362447985554, 0.6277843390429633, -0.49445184097626804, 0.8499163415546525, 1.5785939994794886, -0.9821279273371802, -0.4739870836956822, -1.3416687809494725, 0.984719136622916, -0.2741650591388619, 1.4972102529508924, 0.17436161357051014, -0.7460530393643999, 0.4081345878441793, 0.7508643479924706, 0.007458631298474343, -2.356211944871521, 1.2434124482978255, -0.9764707565302257, -0.9003187532037691, -0.6552946312368383, 1.01863556348232, 2.5093706224495755, -0.04773433274440632, 1.0449119076216544, 0.408730882028547, -0.11919913738978115, 0.38587853161043395, -1.1517321753523175, 1.6165054269845633, 2.320370989305167, -0.97030489009854, 0.03428818309439457, -0.567194415289803, -1.6004626492305494, 0.7941768603034315, 0.7850386433665631, 1.5710577492336988, 0.5925013415374528, 1.3388239018740202, -1.493035583334954, 0.8131093233548212, -0.06253088379133223, 1.0761370002087423, 1.6009510396615159, 1.0372091416050686, 0.24796801351280354, 1.1619363392738358, -0.3941704306660358, -0.7976663790741948, 1.7838229422786538, -1.6143395792946713, 0.2445066278672296, -0.19001794744455636]}, {\"connectgaps\": false, \"fill\": \"tozeroy\", \"line\": {\"color\": \"green\", \"dash\": \"solid\", \"shape\": \"linear\", \"width\": 0.5}, \"mode\": \"lines\", \"name\": \"Spread\", \"showlegend\": false, \"type\": \"scatter\", \"x\": [0, 1, 2, 3, 4, 5, 6, 7, 8, 9, 10, 11, 12, 13, 14, 15, 16, 17, 18, 19, 20, 21, 22, 23, 24, 25, 26, 27, 28, 29, 30, 31, 32, 33, 34, 35, 36, 37, 38, 39, 40, 41, 42, 43, 44, 45, 46, 47, 48, 49, 50, 51, 52, 53, 54, 55, 56, 57, 58, 59, 60, 61, 62, 63, 64, 65, 66, 67, 68, 69, 70, 71, 72, 73, 74, 75, 76, 77, 78, 79, 80, 81, 82, 83, 84, 85, 86, 87, 88, 89, 90, 91, 92, 93, 94, 95, 96, 97, 98, 99], \"xaxis\": \"x2\", \"y\": [\"\", 1.49210270092741, 0.7161614775198799, 0.1233464137399233, 0.179226713468441, \"\", 1.1100187527756014, 0.05355252329264605, 0.12235664668357904, 1.8362651299829236, 0.3070368406684518, \"\", 2.957590503606549, \"\", 0.47892292007843673, \"\", 1.6282969384839618, \"\", \"\", \"\", \"\", 1.8226117495773027, \"\", 0.8714124063487549, 1.2023129842055897, \"\", \"\", 1.0593132485777925, \"\", \"\", 0.6220352057670888, 1.540918303551594, \"\", 0.8728097721052847, \"\", \"\", 0.40624647134411995, 0.17002052326021855, 0.10168274000505238, \"\", \"\", \"\", \"\", \"\", \"\", 0.9763192446575597, \"\", 0.5375587721926766, 1.0205324691754112, \"\", \"\", 0.5724756397804796, 1.1873788796309441, 2.4667519080373523, \"\", 1.7659163120575005, \"\", \"\", 0.9631897836547163, 0.1396027789522965, \"\", \"\", 1.8741035598913331, \"\", 1.8455484535625275, \"\", \"\", \"\", \"\", 0.22169987661822577, \"\", \"\", \"\", 0.35412639845806304, 1.7840817714662052, \"\", \"\", 2.1870393549045852, \"\", \"\", 0.5467042032007543, 0.2649437356006358, \"\", \"\", 0.5886165002405298, \"\", 1.4012086267548054, \"\", \"\", \"\", \"\", \"\", 0.9630476619065276, \"\", \"\", 1.5867021400726418, \"\", 0.405939667062047, \"\", 0.8081199643281626], \"yaxis\": \"y2\"}, {\"connectgaps\": false, \"fill\": \"tozeroy\", \"line\": {\"color\": \"red\", \"dash\": \"solid\", \"shape\": \"linear\", \"width\": 0.5}, \"mode\": \"lines\", \"name\": \"Spread\", \"showlegend\": false, \"type\": \"scatter\", \"x\": [0, 1, 2, 3, 4, 5, 6, 7, 8, 9, 10, 11, 12, 13, 14, 15, 16, 17, 18, 19, 20, 21, 22, 23, 24, 25, 26, 27, 28, 29, 30, 31, 32, 33, 34, 35, 36, 37, 38, 39, 40, 41, 42, 43, 44, 45, 46, 47, 48, 49, 50, 51, 52, 53, 54, 55, 56, 57, 58, 59, 60, 61, 62, 63, 64, 65, 66, 67, 68, 69, 70, 71, 72, 73, 74, 75, 76, 77, 78, 79, 80, 81, 82, 83, 84, 85, 86, 87, 88, 89, 90, 91, 92, 93, 94, 95, 96, 97, 98, 99], \"xaxis\": \"x2\", \"y\": [-1.011202106486853, \"\", \"\", \"\", \"\", -0.1637724878336686, \"\", \"\", \"\", \"\", \"\", -1.3663763645136684, \"\", -1.2507124406384804, \"\", -0.4946037661312739, \"\", -0.1720363268951095, -1.2096938002433426, -3.6596663257211848, -1.595218240148337, \"\", -1.3688617204143256, \"\", \"\", -1.2705915950889548, -0.248388451890803, \"\", -0.8221189596111504, -0.8331077552269461, \"\", \"\", -1.0603929684572115, \"\", -0.034980441978612775, -0.8744467006377102, \"\", \"\", \"\", -0.8725114943690038, -1.3125776542176442, -0.06264839388848009, -1.237339774421381, -0.28119895912986786, -0.7131014225190319, \"\", -1.4512239413036747, \"\", \"\", -0.5896031566502833, -0.4318053111835203, \"\", \"\", \"\", -0.16750258296769394, \"\", -2.009723407921584, -0.026595839502467383, \"\", \"\", -0.8334110325094493, -0.7583635445251673, \"\", -0.33288295941014556, \"\", -0.057247326834640955, -0.02531942462643222, -1.5751872657467167, -2.650438753399114, \"\", -3.0859714766080577, -0.4694829082574516, -1.1361730548374112, \"\", \"\", -1.240698170422167, -2.0082194367064075, \"\", -0.849101138620741, -0.47520499466247124, \"\", \"\", -0.16049094182901014, -1.1596949537632675, \"\", -0.31426641488904994, \"\", -0.6907359736090181, -0.7687380630888526, -0.7564236928308123, -1.2126857639202664, -1.2820847024988085, \"\", -0.9353639250422443, -0.23983817448980432, \"\", -2.2123315629917397, \"\", -2.6867272072327255, \"\"], \"yaxis\": \"y2\"}],\n",
       "                        {\"hovermode\": \"x\", \"legend\": {\"bgcolor\": \"#F5F6F9\", \"font\": {\"color\": \"#4D5663\"}}, \"paper_bgcolor\": \"#F5F6F9\", \"plot_bgcolor\": \"#F5F6F9\", \"template\": {\"data\": {\"bar\": [{\"error_x\": {\"color\": \"#2a3f5f\"}, \"error_y\": {\"color\": \"#2a3f5f\"}, \"marker\": {\"line\": {\"color\": \"#E5ECF6\", \"width\": 0.5}}, \"type\": \"bar\"}], \"barpolar\": [{\"marker\": {\"line\": {\"color\": \"#E5ECF6\", \"width\": 0.5}}, \"type\": \"barpolar\"}], \"carpet\": [{\"aaxis\": {\"endlinecolor\": \"#2a3f5f\", \"gridcolor\": \"white\", \"linecolor\": \"white\", \"minorgridcolor\": \"white\", \"startlinecolor\": \"#2a3f5f\"}, \"baxis\": {\"endlinecolor\": \"#2a3f5f\", \"gridcolor\": \"white\", \"linecolor\": \"white\", \"minorgridcolor\": \"white\", \"startlinecolor\": \"#2a3f5f\"}, \"type\": \"carpet\"}], \"choropleth\": [{\"colorbar\": {\"outlinewidth\": 0, \"ticks\": \"\"}, \"type\": \"choropleth\"}], \"contour\": [{\"colorbar\": {\"outlinewidth\": 0, \"ticks\": \"\"}, \"colorscale\": [[0.0, \"#0d0887\"], [0.1111111111111111, \"#46039f\"], [0.2222222222222222, \"#7201a8\"], [0.3333333333333333, \"#9c179e\"], [0.4444444444444444, \"#bd3786\"], [0.5555555555555556, \"#d8576b\"], [0.6666666666666666, \"#ed7953\"], [0.7777777777777778, \"#fb9f3a\"], [0.8888888888888888, \"#fdca26\"], [1.0, \"#f0f921\"]], \"type\": \"contour\"}], \"contourcarpet\": [{\"colorbar\": {\"outlinewidth\": 0, \"ticks\": \"\"}, \"type\": \"contourcarpet\"}], \"heatmap\": [{\"colorbar\": {\"outlinewidth\": 0, \"ticks\": \"\"}, \"colorscale\": [[0.0, \"#0d0887\"], [0.1111111111111111, \"#46039f\"], [0.2222222222222222, \"#7201a8\"], [0.3333333333333333, \"#9c179e\"], [0.4444444444444444, \"#bd3786\"], [0.5555555555555556, \"#d8576b\"], [0.6666666666666666, \"#ed7953\"], [0.7777777777777778, \"#fb9f3a\"], [0.8888888888888888, \"#fdca26\"], [1.0, \"#f0f921\"]], \"type\": \"heatmap\"}], \"heatmapgl\": [{\"colorbar\": {\"outlinewidth\": 0, \"ticks\": \"\"}, \"colorscale\": [[0.0, \"#0d0887\"], [0.1111111111111111, \"#46039f\"], [0.2222222222222222, \"#7201a8\"], [0.3333333333333333, \"#9c179e\"], [0.4444444444444444, \"#bd3786\"], [0.5555555555555556, \"#d8576b\"], [0.6666666666666666, \"#ed7953\"], [0.7777777777777778, \"#fb9f3a\"], [0.8888888888888888, \"#fdca26\"], [1.0, \"#f0f921\"]], \"type\": \"heatmapgl\"}], \"histogram\": [{\"marker\": {\"colorbar\": {\"outlinewidth\": 0, \"ticks\": \"\"}}, \"type\": \"histogram\"}], \"histogram2d\": [{\"colorbar\": {\"outlinewidth\": 0, \"ticks\": \"\"}, \"colorscale\": [[0.0, \"#0d0887\"], [0.1111111111111111, \"#46039f\"], [0.2222222222222222, \"#7201a8\"], [0.3333333333333333, \"#9c179e\"], [0.4444444444444444, \"#bd3786\"], [0.5555555555555556, \"#d8576b\"], [0.6666666666666666, \"#ed7953\"], [0.7777777777777778, \"#fb9f3a\"], [0.8888888888888888, \"#fdca26\"], [1.0, \"#f0f921\"]], \"type\": \"histogram2d\"}], \"histogram2dcontour\": [{\"colorbar\": {\"outlinewidth\": 0, \"ticks\": \"\"}, \"colorscale\": [[0.0, \"#0d0887\"], [0.1111111111111111, \"#46039f\"], [0.2222222222222222, \"#7201a8\"], [0.3333333333333333, \"#9c179e\"], [0.4444444444444444, \"#bd3786\"], [0.5555555555555556, \"#d8576b\"], [0.6666666666666666, \"#ed7953\"], [0.7777777777777778, \"#fb9f3a\"], [0.8888888888888888, \"#fdca26\"], [1.0, \"#f0f921\"]], \"type\": \"histogram2dcontour\"}], \"mesh3d\": [{\"colorbar\": {\"outlinewidth\": 0, \"ticks\": \"\"}, \"type\": \"mesh3d\"}], \"parcoords\": [{\"line\": {\"colorbar\": {\"outlinewidth\": 0, \"ticks\": \"\"}}, \"type\": \"parcoords\"}], \"pie\": [{\"automargin\": true, \"type\": \"pie\"}], \"scatter\": [{\"marker\": {\"colorbar\": {\"outlinewidth\": 0, \"ticks\": \"\"}}, \"type\": \"scatter\"}], \"scatter3d\": [{\"line\": {\"colorbar\": {\"outlinewidth\": 0, \"ticks\": \"\"}}, \"marker\": {\"colorbar\": {\"outlinewidth\": 0, \"ticks\": \"\"}}, \"type\": \"scatter3d\"}], \"scattercarpet\": [{\"marker\": {\"colorbar\": {\"outlinewidth\": 0, \"ticks\": \"\"}}, \"type\": \"scattercarpet\"}], \"scattergeo\": [{\"marker\": {\"colorbar\": {\"outlinewidth\": 0, \"ticks\": \"\"}}, \"type\": \"scattergeo\"}], \"scattergl\": [{\"marker\": {\"colorbar\": {\"outlinewidth\": 0, \"ticks\": \"\"}}, \"type\": \"scattergl\"}], \"scattermapbox\": [{\"marker\": {\"colorbar\": {\"outlinewidth\": 0, \"ticks\": \"\"}}, \"type\": \"scattermapbox\"}], \"scatterpolar\": [{\"marker\": {\"colorbar\": {\"outlinewidth\": 0, \"ticks\": \"\"}}, \"type\": \"scatterpolar\"}], \"scatterpolargl\": [{\"marker\": {\"colorbar\": {\"outlinewidth\": 0, \"ticks\": \"\"}}, \"type\": \"scatterpolargl\"}], \"scatterternary\": [{\"marker\": {\"colorbar\": {\"outlinewidth\": 0, \"ticks\": \"\"}}, \"type\": \"scatterternary\"}], \"surface\": [{\"colorbar\": {\"outlinewidth\": 0, \"ticks\": \"\"}, \"colorscale\": [[0.0, \"#0d0887\"], [0.1111111111111111, \"#46039f\"], [0.2222222222222222, \"#7201a8\"], [0.3333333333333333, \"#9c179e\"], [0.4444444444444444, \"#bd3786\"], [0.5555555555555556, \"#d8576b\"], [0.6666666666666666, \"#ed7953\"], [0.7777777777777778, \"#fb9f3a\"], [0.8888888888888888, \"#fdca26\"], [1.0, \"#f0f921\"]], \"type\": \"surface\"}], \"table\": [{\"cells\": {\"fill\": {\"color\": \"#EBF0F8\"}, \"line\": {\"color\": \"white\"}}, \"header\": {\"fill\": {\"color\": \"#C8D4E3\"}, \"line\": {\"color\": \"white\"}}, \"type\": \"table\"}]}, \"layout\": {\"annotationdefaults\": {\"arrowcolor\": \"#2a3f5f\", \"arrowhead\": 0, \"arrowwidth\": 1}, \"coloraxis\": {\"colorbar\": {\"outlinewidth\": 0, \"ticks\": \"\"}}, \"colorscale\": {\"diverging\": [[0, \"#8e0152\"], [0.1, \"#c51b7d\"], [0.2, \"#de77ae\"], [0.3, \"#f1b6da\"], [0.4, \"#fde0ef\"], [0.5, \"#f7f7f7\"], [0.6, \"#e6f5d0\"], [0.7, \"#b8e186\"], [0.8, \"#7fbc41\"], [0.9, \"#4d9221\"], [1, \"#276419\"]], \"sequential\": [[0.0, \"#0d0887\"], [0.1111111111111111, \"#46039f\"], [0.2222222222222222, \"#7201a8\"], [0.3333333333333333, \"#9c179e\"], [0.4444444444444444, \"#bd3786\"], [0.5555555555555556, \"#d8576b\"], [0.6666666666666666, \"#ed7953\"], [0.7777777777777778, \"#fb9f3a\"], [0.8888888888888888, \"#fdca26\"], [1.0, \"#f0f921\"]], \"sequentialminus\": [[0.0, \"#0d0887\"], [0.1111111111111111, \"#46039f\"], [0.2222222222222222, \"#7201a8\"], [0.3333333333333333, \"#9c179e\"], [0.4444444444444444, \"#bd3786\"], [0.5555555555555556, \"#d8576b\"], [0.6666666666666666, \"#ed7953\"], [0.7777777777777778, \"#fb9f3a\"], [0.8888888888888888, \"#fdca26\"], [1.0, \"#f0f921\"]]}, \"colorway\": [\"#636efa\", \"#EF553B\", \"#00cc96\", \"#ab63fa\", \"#FFA15A\", \"#19d3f3\", \"#FF6692\", \"#B6E880\", \"#FF97FF\", \"#FECB52\"], \"font\": {\"color\": \"#2a3f5f\"}, \"geo\": {\"bgcolor\": \"white\", \"lakecolor\": \"white\", \"landcolor\": \"#E5ECF6\", \"showlakes\": true, \"showland\": true, \"subunitcolor\": \"white\"}, \"hoverlabel\": {\"align\": \"left\"}, \"hovermode\": \"closest\", \"mapbox\": {\"style\": \"light\"}, \"paper_bgcolor\": \"white\", \"plot_bgcolor\": \"#E5ECF6\", \"polar\": {\"angularaxis\": {\"gridcolor\": \"white\", \"linecolor\": \"white\", \"ticks\": \"\"}, \"bgcolor\": \"#E5ECF6\", \"radialaxis\": {\"gridcolor\": \"white\", \"linecolor\": \"white\", \"ticks\": \"\"}}, \"scene\": {\"xaxis\": {\"backgroundcolor\": \"#E5ECF6\", \"gridcolor\": \"white\", \"gridwidth\": 2, \"linecolor\": \"white\", \"showbackground\": true, \"ticks\": \"\", \"zerolinecolor\": \"white\"}, \"yaxis\": {\"backgroundcolor\": \"#E5ECF6\", \"gridcolor\": \"white\", \"gridwidth\": 2, \"linecolor\": \"white\", \"showbackground\": true, \"ticks\": \"\", \"zerolinecolor\": \"white\"}, \"zaxis\": {\"backgroundcolor\": \"#E5ECF6\", \"gridcolor\": \"white\", \"gridwidth\": 2, \"linecolor\": \"white\", \"showbackground\": true, \"ticks\": \"\", \"zerolinecolor\": \"white\"}}, \"shapedefaults\": {\"line\": {\"color\": \"#2a3f5f\"}}, \"ternary\": {\"aaxis\": {\"gridcolor\": \"white\", \"linecolor\": \"white\", \"ticks\": \"\"}, \"baxis\": {\"gridcolor\": \"white\", \"linecolor\": \"white\", \"ticks\": \"\"}, \"bgcolor\": \"#E5ECF6\", \"caxis\": {\"gridcolor\": \"white\", \"linecolor\": \"white\", \"ticks\": \"\"}}, \"title\": {\"x\": 0.05}, \"xaxis\": {\"automargin\": true, \"gridcolor\": \"white\", \"linecolor\": \"white\", \"ticks\": \"\", \"title\": {\"standoff\": 15}, \"zerolinecolor\": \"white\", \"zerolinewidth\": 2}, \"yaxis\": {\"automargin\": true, \"gridcolor\": \"white\", \"linecolor\": \"white\", \"ticks\": \"\", \"title\": {\"standoff\": 15}, \"zerolinecolor\": \"white\", \"zerolinewidth\": 2}}}, \"title\": {\"font\": {\"color\": \"#4D5663\"}}, \"xaxis\": {\"gridcolor\": \"#E1E5ED\", \"showgrid\": true, \"tickfont\": {\"color\": \"#4D5663\"}, \"title\": {\"font\": {\"color\": \"#4D5663\"}, \"text\": \"\"}, \"zerolinecolor\": \"#E1E5ED\"}, \"xaxis2\": {\"anchor\": \"y2\", \"gridcolor\": \"#E1E5ED\", \"showgrid\": true, \"showticklabels\": false, \"tickfont\": {\"color\": \"#4D5663\"}, \"title\": {\"font\": {\"color\": \"#4D5663\"}, \"text\": \"\"}, \"zerolinecolor\": \"#E1E5ED\"}, \"yaxis\": {\"domain\": [0.3, 1], \"gridcolor\": \"#E1E5ED\", \"showgrid\": true, \"tickfont\": {\"color\": \"#4D5663\"}, \"title\": {\"font\": {\"color\": \"#4D5663\"}, \"text\": \"\"}, \"zerolinecolor\": \"#E1E5ED\"}, \"yaxis2\": {\"domain\": [0, 0.25], \"gridcolor\": \"#E1E5ED\", \"showgrid\": true, \"tickfont\": {\"color\": \"#4D5663\"}, \"title\": {\"font\": {\"color\": \"#4D5663\"}, \"text\": \"Spread\"}, \"zerolinecolor\": \"#E1E5ED\"}},\n",
       "                        {\"showLink\": true, \"linkText\": \"Export to plot.ly\", \"plotlyServerURL\": \"https://plot.ly\", \"responsive\": true}\n",
       "                    ).then(function(){\n",
       "                            \n",
       "var gd = document.getElementById('c89be296-2412-49ba-b737-b027ae488443');\n",
       "var x = new MutationObserver(function (mutations, observer) {{\n",
       "        var display = window.getComputedStyle(gd).display;\n",
       "        if (!display || display === 'none') {{\n",
       "            console.log([gd, 'removed!']);\n",
       "            Plotly.purge(gd);\n",
       "            observer.disconnect();\n",
       "        }}\n",
       "}});\n",
       "\n",
       "// Listen for the removal of the full notebook cells\n",
       "var notebookContainer = gd.closest('#notebook-container');\n",
       "if (notebookContainer) {{\n",
       "    x.observe(notebookContainer, {childList: true});\n",
       "}}\n",
       "\n",
       "// Listen for the clearing of the current output cell\n",
       "var outputEl = gd.closest('.output');\n",
       "if (outputEl) {{\n",
       "    x.observe(outputEl, {childList: true});\n",
       "}}\n",
       "\n",
       "                        })\n",
       "                };\n",
       "                });\n",
       "            </script>\n",
       "        </div>"
      ]
     },
     "metadata": {},
     "output_type": "display_data"
    }
   ],
   "source": [
    "df[['A','B']].iplot(kind='spread')"
   ]
  },
  {
   "cell_type": "code",
   "execution_count": 40,
   "metadata": {},
   "outputs": [
    {
     "data": {
      "application/vnd.plotly.v1+json": {
       "config": {
        "linkText": "Export to plot.ly",
        "plotlyServerURL": "https://plot.ly",
        "showLink": true
       },
       "data": [
        {
         "marker": {
          "color": [
           "rgb(255, 153, 51)",
           "rgb(55, 128, 191)",
           "rgb(50, 171, 96)",
           "rgb(128, 0, 128)",
           "rgb(219, 64, 82)",
           "rgb(0, 128, 128)",
           "rgb(255, 255, 51)",
           "rgb(128, 128, 0)",
           "rgb(251, 128, 114)",
           "rgb(128, 177, 211)"
          ],
          "line": {
           "width": 1.3
          },
          "size": [
           64,
           92,
           87,
           44,
           24,
           76,
           85,
           51,
           63,
           60,
           51,
           63,
           55,
           42,
           62,
           58,
           88,
           74,
           62,
           56,
           58,
           82,
           78,
           75,
           82,
           54,
           94,
           76,
           76,
           81,
           56,
           89,
           77,
           36,
           65,
           44,
           88,
           50,
           36,
           68,
           59,
           71,
           96,
           53,
           59,
           85,
           51,
           71,
           74,
           54,
           83,
           64,
           52,
           43,
           84,
           80,
           67,
           65,
           60,
           88,
           74,
           52,
           60,
           112,
           44,
           67,
           98,
           49,
           12,
           84,
           47,
           43,
           77,
           50,
           66,
           72,
           51,
           74,
           63,
           58,
           101,
           42,
           96,
           27,
           70,
           55,
           73,
           33,
           56,
           87,
           68,
           70,
           50,
           100,
           80,
           42,
           50,
           65,
           69,
           62
          ],
          "symbol": "circle"
         },
         "mode": "markers",
         "text": "",
         "type": "scatter",
         "x": [
          -0.13332898728486217,
          0.6049162173562118,
          -0.16177503105113158,
          0.2904262389514051,
          1.1562838099089574,
          -1.1848532417977728,
          0.8982273761327372,
          0.028278257948029965,
          -0.9868512173336761,
          0.6840821635822759,
          -0.7608168905347923,
          -0.4849772912292263,
          1.4103246726026462,
          -0.8217680536926046,
          -0.10584387485756273,
          0.0915326999720717,
          1.5868812487818433,
          1.4610332716855279,
          -0.296010479607427,
          -1.636326733107384,
          -0.494075647778116,
          1.254407911954291,
          -1.3259794161261163,
          0.46662695049174047,
          0.9930619033922193,
          -0.5176556953346497,
          0.4923565746528598,
          -0.30148014268246154,
          -0.4809887648149414,
          0.4820761832548575,
          0.9795666811263533,
          0.2290842534017007,
          0.36752354492950984,
          0.6168940590624284,
          0.4114722975292953,
          -0.20855183114206602,
          1.132181985806202,
          0.9935469114025697,
          0.016836190438973112,
          0.961885915997291,
          -1.783903976137237,
          -0.9587206963745689,
          -1.5379896533002744,
          -0.7128492071354146,
          -0.42738557738685895,
          0.4026918235878419,
          1.1185123034948807,
          1.1653431112356398,
          0.5260806281991431,
          0.2603131849043691,
          1.1467886882959684,
          -0.40965228755670074,
          0.7133917959352619,
          1.1250831270878798,
          0.817216553655222,
          1.4917512529186387,
          -0.5125131549706918,
          0.14776577406804275,
          0.21713674429031635,
          0.5477373667964758,
          -0.08254668451697868,
          -0.750904913226693,
          -0.48210838498018804,
          0.9105294888876799,
          0.8690776970323018,
          -0.95756608003841,
          -0.6806140558632705,
          -0.5565517022643965,
          -0.14106813094953835,
          0.17396554387381946,
          -2.041059568986403,
          -0.06075202622890458,
          -1.2553721922271923,
          0.740004930068497,
          0.6323495961138877,
          0.3758072565623964,
          0.3121515525987599,
          1.2167344648060452,
          -0.8148129555263465,
          -1.0423994099522742,
          -1.053758446029795,
          1.0591205959040673,
          0.624547701537553,
          0.4113627954704313,
          1.1811178417779826,
          1.0245574869849703,
          -0.09182695658014851,
          0.12237334974580312,
          -0.8312689468801848,
          0.31971330737792997,
          0.3882652757412495,
          -0.24487556089373985,
          1.211015675419331,
          0.2265724142315915,
          -0.6340086051558401,
          0.789035760998447,
          -0.428508620713086,
          -1.2083999122326243,
          -2.442220579365496,
          0.6181020168836062
         ],
         "y": [
          0.877873119201991,
          -0.8871864835711982,
          -0.8779365085710115,
          0.16707982521148182,
          0.9770570964405164,
          -1.0210807539641042,
          -0.21179137664286418,
          -0.025274265344616083,
          -1.1092078640172551,
          -1.1521829664006475,
          -1.0678537312032441,
          0.881399073284442,
          -1.5472658310039031,
          0.42894438694587583,
          -0.5847667949359995,
          0.5861364661033456,
          -0.04141568970211862,
          1.6330695985806374,
          0.9136833206359156,
          2.0233395926138007,
          1.101142592370221,
          -0.5682038376230117,
          0.042882304288209314,
          -0.4047854558570145,
          -0.20925108081337035,
          0.7529358997543051,
          0.7407450265436628,
          -1.3607933912602541,
          0.3411301947962091,
          1.3151839384818036,
          0.3575314753592644,
          -1.3118340501498933,
          1.4279165133867213,
          -0.2559157130428562,
          0.4464527395079081,
          0.6658948694956442,
          0.7259355144620822,
          0.8235263881423511,
          -0.08484654956607927,
          1.8343974103662948,
          -0.4713263219195928,
          -0.8960723024860888,
          -0.30064987887889344,
          -0.4316502480055467,
          0.2857158451321729,
          -0.5736274210697178,
          2.5697362447985554,
          0.6277843390429633,
          -0.49445184097626804,
          0.8499163415546525,
          1.5785939994794886,
          -0.9821279273371802,
          -0.4739870836956822,
          -1.3416687809494725,
          0.984719136622916,
          -0.2741650591388619,
          1.4972102529508924,
          0.17436161357051014,
          -0.7460530393643999,
          0.4081345878441793,
          0.7508643479924706,
          0.007458631298474343,
          -2.356211944871521,
          1.2434124482978255,
          -0.9764707565302257,
          -0.9003187532037691,
          -0.6552946312368383,
          1.01863556348232,
          2.5093706224495755,
          -0.04773433274440632,
          1.0449119076216544,
          0.408730882028547,
          -0.11919913738978115,
          0.38587853161043395,
          -1.1517321753523175,
          1.6165054269845633,
          2.320370989305167,
          -0.97030489009854,
          0.03428818309439457,
          -0.567194415289803,
          -1.6004626492305494,
          0.7941768603034315,
          0.7850386433665631,
          1.5710577492336988,
          0.5925013415374528,
          1.3388239018740202,
          -1.493035583334954,
          0.8131093233548212,
          -0.06253088379133223,
          1.0761370002087423,
          1.6009510396615159,
          1.0372091416050686,
          0.24796801351280354,
          1.1619363392738358,
          -0.3941704306660358,
          -0.7976663790741948,
          1.7838229422786538,
          -1.6143395792946713,
          0.2445066278672296,
          -0.19001794744455636
         ]
        }
       ],
       "layout": {
        "legend": {
         "bgcolor": "#F5F6F9",
         "font": {
          "color": "#4D5663"
         }
        },
        "paper_bgcolor": "#F5F6F9",
        "plot_bgcolor": "#F5F6F9",
        "template": {
         "data": {
          "bar": [
           {
            "error_x": {
             "color": "#2a3f5f"
            },
            "error_y": {
             "color": "#2a3f5f"
            },
            "marker": {
             "line": {
              "color": "#E5ECF6",
              "width": 0.5
             }
            },
            "type": "bar"
           }
          ],
          "barpolar": [
           {
            "marker": {
             "line": {
              "color": "#E5ECF6",
              "width": 0.5
             }
            },
            "type": "barpolar"
           }
          ],
          "carpet": [
           {
            "aaxis": {
             "endlinecolor": "#2a3f5f",
             "gridcolor": "white",
             "linecolor": "white",
             "minorgridcolor": "white",
             "startlinecolor": "#2a3f5f"
            },
            "baxis": {
             "endlinecolor": "#2a3f5f",
             "gridcolor": "white",
             "linecolor": "white",
             "minorgridcolor": "white",
             "startlinecolor": "#2a3f5f"
            },
            "type": "carpet"
           }
          ],
          "choropleth": [
           {
            "colorbar": {
             "outlinewidth": 0,
             "ticks": ""
            },
            "type": "choropleth"
           }
          ],
          "contour": [
           {
            "colorbar": {
             "outlinewidth": 0,
             "ticks": ""
            },
            "colorscale": [
             [
              0,
              "#0d0887"
             ],
             [
              0.1111111111111111,
              "#46039f"
             ],
             [
              0.2222222222222222,
              "#7201a8"
             ],
             [
              0.3333333333333333,
              "#9c179e"
             ],
             [
              0.4444444444444444,
              "#bd3786"
             ],
             [
              0.5555555555555556,
              "#d8576b"
             ],
             [
              0.6666666666666666,
              "#ed7953"
             ],
             [
              0.7777777777777778,
              "#fb9f3a"
             ],
             [
              0.8888888888888888,
              "#fdca26"
             ],
             [
              1,
              "#f0f921"
             ]
            ],
            "type": "contour"
           }
          ],
          "contourcarpet": [
           {
            "colorbar": {
             "outlinewidth": 0,
             "ticks": ""
            },
            "type": "contourcarpet"
           }
          ],
          "heatmap": [
           {
            "colorbar": {
             "outlinewidth": 0,
             "ticks": ""
            },
            "colorscale": [
             [
              0,
              "#0d0887"
             ],
             [
              0.1111111111111111,
              "#46039f"
             ],
             [
              0.2222222222222222,
              "#7201a8"
             ],
             [
              0.3333333333333333,
              "#9c179e"
             ],
             [
              0.4444444444444444,
              "#bd3786"
             ],
             [
              0.5555555555555556,
              "#d8576b"
             ],
             [
              0.6666666666666666,
              "#ed7953"
             ],
             [
              0.7777777777777778,
              "#fb9f3a"
             ],
             [
              0.8888888888888888,
              "#fdca26"
             ],
             [
              1,
              "#f0f921"
             ]
            ],
            "type": "heatmap"
           }
          ],
          "heatmapgl": [
           {
            "colorbar": {
             "outlinewidth": 0,
             "ticks": ""
            },
            "colorscale": [
             [
              0,
              "#0d0887"
             ],
             [
              0.1111111111111111,
              "#46039f"
             ],
             [
              0.2222222222222222,
              "#7201a8"
             ],
             [
              0.3333333333333333,
              "#9c179e"
             ],
             [
              0.4444444444444444,
              "#bd3786"
             ],
             [
              0.5555555555555556,
              "#d8576b"
             ],
             [
              0.6666666666666666,
              "#ed7953"
             ],
             [
              0.7777777777777778,
              "#fb9f3a"
             ],
             [
              0.8888888888888888,
              "#fdca26"
             ],
             [
              1,
              "#f0f921"
             ]
            ],
            "type": "heatmapgl"
           }
          ],
          "histogram": [
           {
            "marker": {
             "colorbar": {
              "outlinewidth": 0,
              "ticks": ""
             }
            },
            "type": "histogram"
           }
          ],
          "histogram2d": [
           {
            "colorbar": {
             "outlinewidth": 0,
             "ticks": ""
            },
            "colorscale": [
             [
              0,
              "#0d0887"
             ],
             [
              0.1111111111111111,
              "#46039f"
             ],
             [
              0.2222222222222222,
              "#7201a8"
             ],
             [
              0.3333333333333333,
              "#9c179e"
             ],
             [
              0.4444444444444444,
              "#bd3786"
             ],
             [
              0.5555555555555556,
              "#d8576b"
             ],
             [
              0.6666666666666666,
              "#ed7953"
             ],
             [
              0.7777777777777778,
              "#fb9f3a"
             ],
             [
              0.8888888888888888,
              "#fdca26"
             ],
             [
              1,
              "#f0f921"
             ]
            ],
            "type": "histogram2d"
           }
          ],
          "histogram2dcontour": [
           {
            "colorbar": {
             "outlinewidth": 0,
             "ticks": ""
            },
            "colorscale": [
             [
              0,
              "#0d0887"
             ],
             [
              0.1111111111111111,
              "#46039f"
             ],
             [
              0.2222222222222222,
              "#7201a8"
             ],
             [
              0.3333333333333333,
              "#9c179e"
             ],
             [
              0.4444444444444444,
              "#bd3786"
             ],
             [
              0.5555555555555556,
              "#d8576b"
             ],
             [
              0.6666666666666666,
              "#ed7953"
             ],
             [
              0.7777777777777778,
              "#fb9f3a"
             ],
             [
              0.8888888888888888,
              "#fdca26"
             ],
             [
              1,
              "#f0f921"
             ]
            ],
            "type": "histogram2dcontour"
           }
          ],
          "mesh3d": [
           {
            "colorbar": {
             "outlinewidth": 0,
             "ticks": ""
            },
            "type": "mesh3d"
           }
          ],
          "parcoords": [
           {
            "line": {
             "colorbar": {
              "outlinewidth": 0,
              "ticks": ""
             }
            },
            "type": "parcoords"
           }
          ],
          "pie": [
           {
            "automargin": true,
            "type": "pie"
           }
          ],
          "scatter": [
           {
            "marker": {
             "colorbar": {
              "outlinewidth": 0,
              "ticks": ""
             }
            },
            "type": "scatter"
           }
          ],
          "scatter3d": [
           {
            "line": {
             "colorbar": {
              "outlinewidth": 0,
              "ticks": ""
             }
            },
            "marker": {
             "colorbar": {
              "outlinewidth": 0,
              "ticks": ""
             }
            },
            "type": "scatter3d"
           }
          ],
          "scattercarpet": [
           {
            "marker": {
             "colorbar": {
              "outlinewidth": 0,
              "ticks": ""
             }
            },
            "type": "scattercarpet"
           }
          ],
          "scattergeo": [
           {
            "marker": {
             "colorbar": {
              "outlinewidth": 0,
              "ticks": ""
             }
            },
            "type": "scattergeo"
           }
          ],
          "scattergl": [
           {
            "marker": {
             "colorbar": {
              "outlinewidth": 0,
              "ticks": ""
             }
            },
            "type": "scattergl"
           }
          ],
          "scattermapbox": [
           {
            "marker": {
             "colorbar": {
              "outlinewidth": 0,
              "ticks": ""
             }
            },
            "type": "scattermapbox"
           }
          ],
          "scatterpolar": [
           {
            "marker": {
             "colorbar": {
              "outlinewidth": 0,
              "ticks": ""
             }
            },
            "type": "scatterpolar"
           }
          ],
          "scatterpolargl": [
           {
            "marker": {
             "colorbar": {
              "outlinewidth": 0,
              "ticks": ""
             }
            },
            "type": "scatterpolargl"
           }
          ],
          "scatterternary": [
           {
            "marker": {
             "colorbar": {
              "outlinewidth": 0,
              "ticks": ""
             }
            },
            "type": "scatterternary"
           }
          ],
          "surface": [
           {
            "colorbar": {
             "outlinewidth": 0,
             "ticks": ""
            },
            "colorscale": [
             [
              0,
              "#0d0887"
             ],
             [
              0.1111111111111111,
              "#46039f"
             ],
             [
              0.2222222222222222,
              "#7201a8"
             ],
             [
              0.3333333333333333,
              "#9c179e"
             ],
             [
              0.4444444444444444,
              "#bd3786"
             ],
             [
              0.5555555555555556,
              "#d8576b"
             ],
             [
              0.6666666666666666,
              "#ed7953"
             ],
             [
              0.7777777777777778,
              "#fb9f3a"
             ],
             [
              0.8888888888888888,
              "#fdca26"
             ],
             [
              1,
              "#f0f921"
             ]
            ],
            "type": "surface"
           }
          ],
          "table": [
           {
            "cells": {
             "fill": {
              "color": "#EBF0F8"
             },
             "line": {
              "color": "white"
             }
            },
            "header": {
             "fill": {
              "color": "#C8D4E3"
             },
             "line": {
              "color": "white"
             }
            },
            "type": "table"
           }
          ]
         },
         "layout": {
          "annotationdefaults": {
           "arrowcolor": "#2a3f5f",
           "arrowhead": 0,
           "arrowwidth": 1
          },
          "coloraxis": {
           "colorbar": {
            "outlinewidth": 0,
            "ticks": ""
           }
          },
          "colorscale": {
           "diverging": [
            [
             0,
             "#8e0152"
            ],
            [
             0.1,
             "#c51b7d"
            ],
            [
             0.2,
             "#de77ae"
            ],
            [
             0.3,
             "#f1b6da"
            ],
            [
             0.4,
             "#fde0ef"
            ],
            [
             0.5,
             "#f7f7f7"
            ],
            [
             0.6,
             "#e6f5d0"
            ],
            [
             0.7,
             "#b8e186"
            ],
            [
             0.8,
             "#7fbc41"
            ],
            [
             0.9,
             "#4d9221"
            ],
            [
             1,
             "#276419"
            ]
           ],
           "sequential": [
            [
             0,
             "#0d0887"
            ],
            [
             0.1111111111111111,
             "#46039f"
            ],
            [
             0.2222222222222222,
             "#7201a8"
            ],
            [
             0.3333333333333333,
             "#9c179e"
            ],
            [
             0.4444444444444444,
             "#bd3786"
            ],
            [
             0.5555555555555556,
             "#d8576b"
            ],
            [
             0.6666666666666666,
             "#ed7953"
            ],
            [
             0.7777777777777778,
             "#fb9f3a"
            ],
            [
             0.8888888888888888,
             "#fdca26"
            ],
            [
             1,
             "#f0f921"
            ]
           ],
           "sequentialminus": [
            [
             0,
             "#0d0887"
            ],
            [
             0.1111111111111111,
             "#46039f"
            ],
            [
             0.2222222222222222,
             "#7201a8"
            ],
            [
             0.3333333333333333,
             "#9c179e"
            ],
            [
             0.4444444444444444,
             "#bd3786"
            ],
            [
             0.5555555555555556,
             "#d8576b"
            ],
            [
             0.6666666666666666,
             "#ed7953"
            ],
            [
             0.7777777777777778,
             "#fb9f3a"
            ],
            [
             0.8888888888888888,
             "#fdca26"
            ],
            [
             1,
             "#f0f921"
            ]
           ]
          },
          "colorway": [
           "#636efa",
           "#EF553B",
           "#00cc96",
           "#ab63fa",
           "#FFA15A",
           "#19d3f3",
           "#FF6692",
           "#B6E880",
           "#FF97FF",
           "#FECB52"
          ],
          "font": {
           "color": "#2a3f5f"
          },
          "geo": {
           "bgcolor": "white",
           "lakecolor": "white",
           "landcolor": "#E5ECF6",
           "showlakes": true,
           "showland": true,
           "subunitcolor": "white"
          },
          "hoverlabel": {
           "align": "left"
          },
          "hovermode": "closest",
          "mapbox": {
           "style": "light"
          },
          "paper_bgcolor": "white",
          "plot_bgcolor": "#E5ECF6",
          "polar": {
           "angularaxis": {
            "gridcolor": "white",
            "linecolor": "white",
            "ticks": ""
           },
           "bgcolor": "#E5ECF6",
           "radialaxis": {
            "gridcolor": "white",
            "linecolor": "white",
            "ticks": ""
           }
          },
          "scene": {
           "xaxis": {
            "backgroundcolor": "#E5ECF6",
            "gridcolor": "white",
            "gridwidth": 2,
            "linecolor": "white",
            "showbackground": true,
            "ticks": "",
            "zerolinecolor": "white"
           },
           "yaxis": {
            "backgroundcolor": "#E5ECF6",
            "gridcolor": "white",
            "gridwidth": 2,
            "linecolor": "white",
            "showbackground": true,
            "ticks": "",
            "zerolinecolor": "white"
           },
           "zaxis": {
            "backgroundcolor": "#E5ECF6",
            "gridcolor": "white",
            "gridwidth": 2,
            "linecolor": "white",
            "showbackground": true,
            "ticks": "",
            "zerolinecolor": "white"
           }
          },
          "shapedefaults": {
           "line": {
            "color": "#2a3f5f"
           }
          },
          "ternary": {
           "aaxis": {
            "gridcolor": "white",
            "linecolor": "white",
            "ticks": ""
           },
           "baxis": {
            "gridcolor": "white",
            "linecolor": "white",
            "ticks": ""
           },
           "bgcolor": "#E5ECF6",
           "caxis": {
            "gridcolor": "white",
            "linecolor": "white",
            "ticks": ""
           }
          },
          "title": {
           "x": 0.05
          },
          "xaxis": {
           "automargin": true,
           "gridcolor": "white",
           "linecolor": "white",
           "ticks": "",
           "title": {
            "standoff": 15
           },
           "zerolinecolor": "white",
           "zerolinewidth": 2
          },
          "yaxis": {
           "automargin": true,
           "gridcolor": "white",
           "linecolor": "white",
           "ticks": "",
           "title": {
            "standoff": 15
           },
           "zerolinecolor": "white",
           "zerolinewidth": 2
          }
         }
        },
        "title": {
         "font": {
          "color": "#4D5663"
         }
        },
        "xaxis": {
         "gridcolor": "#E1E5ED",
         "showgrid": true,
         "tickfont": {
          "color": "#4D5663"
         },
         "title": {
          "font": {
           "color": "#4D5663"
          },
          "text": ""
         },
         "zerolinecolor": "#E1E5ED"
        },
        "yaxis": {
         "gridcolor": "#E1E5ED",
         "showgrid": true,
         "tickfont": {
          "color": "#4D5663"
         },
         "title": {
          "font": {
           "color": "#4D5663"
          },
          "text": ""
         },
         "zerolinecolor": "#E1E5ED"
        }
       }
      },
      "text/html": [
       "<div>\n",
       "        \n",
       "        \n",
       "            <div id=\"5a577f76-cba0-4fb6-bcd4-c88ebab28783\" class=\"plotly-graph-div\" style=\"height:525px; width:100%;\"></div>\n",
       "            <script type=\"text/javascript\">\n",
       "                require([\"plotly\"], function(Plotly) {\n",
       "                    window.PLOTLYENV=window.PLOTLYENV || {};\n",
       "                    window.PLOTLYENV.BASE_URL='https://plot.ly';\n",
       "                    \n",
       "                if (document.getElementById(\"5a577f76-cba0-4fb6-bcd4-c88ebab28783\")) {\n",
       "                    Plotly.newPlot(\n",
       "                        '5a577f76-cba0-4fb6-bcd4-c88ebab28783',\n",
       "                        [{\"marker\": {\"color\": [\"rgb(255, 153, 51)\", \"rgb(55, 128, 191)\", \"rgb(50, 171, 96)\", \"rgb(128, 0, 128)\", \"rgb(219, 64, 82)\", \"rgb(0, 128, 128)\", \"rgb(255, 255, 51)\", \"rgb(128, 128, 0)\", \"rgb(251, 128, 114)\", \"rgb(128, 177, 211)\"], \"line\": {\"width\": 1.3}, \"size\": [64, 92, 87, 44, 24, 76, 85, 51, 63, 60, 51, 63, 55, 42, 62, 58, 88, 74, 62, 56, 58, 82, 78, 75, 82, 54, 94, 76, 76, 81, 56, 89, 77, 36, 65, 44, 88, 50, 36, 68, 59, 71, 96, 53, 59, 85, 51, 71, 74, 54, 83, 64, 52, 43, 84, 80, 67, 65, 60, 88, 74, 52, 60, 112, 44, 67, 98, 49, 12, 84, 47, 43, 77, 50, 66, 72, 51, 74, 63, 58, 101, 42, 96, 27, 70, 55, 73, 33, 56, 87, 68, 70, 50, 100, 80, 42, 50, 65, 69, 62], \"symbol\": \"circle\"}, \"mode\": \"markers\", \"text\": \"\", \"type\": \"scatter\", \"x\": [-0.13332898728486217, 0.6049162173562118, -0.16177503105113158, 0.2904262389514051, 1.1562838099089574, -1.1848532417977728, 0.8982273761327372, 0.028278257948029965, -0.9868512173336761, 0.6840821635822759, -0.7608168905347923, -0.4849772912292263, 1.4103246726026462, -0.8217680536926046, -0.10584387485756273, 0.0915326999720717, 1.5868812487818433, 1.4610332716855279, -0.296010479607427, -1.636326733107384, -0.494075647778116, 1.254407911954291, -1.3259794161261163, 0.46662695049174047, 0.9930619033922193, -0.5176556953346497, 0.4923565746528598, -0.30148014268246154, -0.4809887648149414, 0.4820761832548575, 0.9795666811263533, 0.2290842534017007, 0.36752354492950984, 0.6168940590624284, 0.4114722975292953, -0.20855183114206602, 1.132181985806202, 0.9935469114025697, 0.016836190438973112, 0.961885915997291, -1.783903976137237, -0.9587206963745689, -1.5379896533002744, -0.7128492071354146, -0.42738557738685895, 0.4026918235878419, 1.1185123034948807, 1.1653431112356398, 0.5260806281991431, 0.2603131849043691, 1.1467886882959684, -0.40965228755670074, 0.7133917959352619, 1.1250831270878798, 0.817216553655222, 1.4917512529186387, -0.5125131549706918, 0.14776577406804275, 0.21713674429031635, 0.5477373667964758, -0.08254668451697868, -0.750904913226693, -0.48210838498018804, 0.9105294888876799, 0.8690776970323018, -0.95756608003841, -0.6806140558632705, -0.5565517022643965, -0.14106813094953835, 0.17396554387381946, -2.041059568986403, -0.06075202622890458, -1.2553721922271923, 0.740004930068497, 0.6323495961138877, 0.3758072565623964, 0.3121515525987599, 1.2167344648060452, -0.8148129555263465, -1.0423994099522742, -1.053758446029795, 1.0591205959040673, 0.624547701537553, 0.4113627954704313, 1.1811178417779826, 1.0245574869849703, -0.09182695658014851, 0.12237334974580312, -0.8312689468801848, 0.31971330737792997, 0.3882652757412495, -0.24487556089373985, 1.211015675419331, 0.2265724142315915, -0.6340086051558401, 0.789035760998447, -0.428508620713086, -1.2083999122326243, -2.442220579365496, 0.6181020168836062], \"y\": [0.877873119201991, -0.8871864835711982, -0.8779365085710115, 0.16707982521148182, 0.9770570964405164, -1.0210807539641042, -0.21179137664286418, -0.025274265344616083, -1.1092078640172551, -1.1521829664006475, -1.0678537312032441, 0.881399073284442, -1.5472658310039031, 0.42894438694587583, -0.5847667949359995, 0.5861364661033456, -0.04141568970211862, 1.6330695985806374, 0.9136833206359156, 2.0233395926138007, 1.101142592370221, -0.5682038376230117, 0.042882304288209314, -0.4047854558570145, -0.20925108081337035, 0.7529358997543051, 0.7407450265436628, -1.3607933912602541, 0.3411301947962091, 1.3151839384818036, 0.3575314753592644, -1.3118340501498933, 1.4279165133867213, -0.2559157130428562, 0.4464527395079081, 0.6658948694956442, 0.7259355144620822, 0.8235263881423511, -0.08484654956607927, 1.8343974103662948, -0.4713263219195928, -0.8960723024860888, -0.30064987887889344, -0.4316502480055467, 0.2857158451321729, -0.5736274210697178, 2.5697362447985554, 0.6277843390429633, -0.49445184097626804, 0.8499163415546525, 1.5785939994794886, -0.9821279273371802, -0.4739870836956822, -1.3416687809494725, 0.984719136622916, -0.2741650591388619, 1.4972102529508924, 0.17436161357051014, -0.7460530393643999, 0.4081345878441793, 0.7508643479924706, 0.007458631298474343, -2.356211944871521, 1.2434124482978255, -0.9764707565302257, -0.9003187532037691, -0.6552946312368383, 1.01863556348232, 2.5093706224495755, -0.04773433274440632, 1.0449119076216544, 0.408730882028547, -0.11919913738978115, 0.38587853161043395, -1.1517321753523175, 1.6165054269845633, 2.320370989305167, -0.97030489009854, 0.03428818309439457, -0.567194415289803, -1.6004626492305494, 0.7941768603034315, 0.7850386433665631, 1.5710577492336988, 0.5925013415374528, 1.3388239018740202, -1.493035583334954, 0.8131093233548212, -0.06253088379133223, 1.0761370002087423, 1.6009510396615159, 1.0372091416050686, 0.24796801351280354, 1.1619363392738358, -0.3941704306660358, -0.7976663790741948, 1.7838229422786538, -1.6143395792946713, 0.2445066278672296, -0.19001794744455636]}],\n",
       "                        {\"legend\": {\"bgcolor\": \"#F5F6F9\", \"font\": {\"color\": \"#4D5663\"}}, \"paper_bgcolor\": \"#F5F6F9\", \"plot_bgcolor\": \"#F5F6F9\", \"template\": {\"data\": {\"bar\": [{\"error_x\": {\"color\": \"#2a3f5f\"}, \"error_y\": {\"color\": \"#2a3f5f\"}, \"marker\": {\"line\": {\"color\": \"#E5ECF6\", \"width\": 0.5}}, \"type\": \"bar\"}], \"barpolar\": [{\"marker\": {\"line\": {\"color\": \"#E5ECF6\", \"width\": 0.5}}, \"type\": \"barpolar\"}], \"carpet\": [{\"aaxis\": {\"endlinecolor\": \"#2a3f5f\", \"gridcolor\": \"white\", \"linecolor\": \"white\", \"minorgridcolor\": \"white\", \"startlinecolor\": \"#2a3f5f\"}, \"baxis\": {\"endlinecolor\": \"#2a3f5f\", \"gridcolor\": \"white\", \"linecolor\": \"white\", \"minorgridcolor\": \"white\", \"startlinecolor\": \"#2a3f5f\"}, \"type\": \"carpet\"}], \"choropleth\": [{\"colorbar\": {\"outlinewidth\": 0, \"ticks\": \"\"}, \"type\": \"choropleth\"}], \"contour\": [{\"colorbar\": {\"outlinewidth\": 0, \"ticks\": \"\"}, \"colorscale\": [[0.0, \"#0d0887\"], [0.1111111111111111, \"#46039f\"], [0.2222222222222222, \"#7201a8\"], [0.3333333333333333, \"#9c179e\"], [0.4444444444444444, \"#bd3786\"], [0.5555555555555556, \"#d8576b\"], [0.6666666666666666, \"#ed7953\"], [0.7777777777777778, \"#fb9f3a\"], [0.8888888888888888, \"#fdca26\"], [1.0, \"#f0f921\"]], \"type\": \"contour\"}], \"contourcarpet\": [{\"colorbar\": {\"outlinewidth\": 0, \"ticks\": \"\"}, \"type\": \"contourcarpet\"}], \"heatmap\": [{\"colorbar\": {\"outlinewidth\": 0, \"ticks\": \"\"}, \"colorscale\": [[0.0, \"#0d0887\"], [0.1111111111111111, \"#46039f\"], [0.2222222222222222, \"#7201a8\"], [0.3333333333333333, \"#9c179e\"], [0.4444444444444444, \"#bd3786\"], [0.5555555555555556, \"#d8576b\"], [0.6666666666666666, \"#ed7953\"], [0.7777777777777778, \"#fb9f3a\"], [0.8888888888888888, \"#fdca26\"], [1.0, \"#f0f921\"]], \"type\": \"heatmap\"}], \"heatmapgl\": [{\"colorbar\": {\"outlinewidth\": 0, \"ticks\": \"\"}, \"colorscale\": [[0.0, \"#0d0887\"], [0.1111111111111111, \"#46039f\"], [0.2222222222222222, \"#7201a8\"], [0.3333333333333333, \"#9c179e\"], [0.4444444444444444, \"#bd3786\"], [0.5555555555555556, \"#d8576b\"], [0.6666666666666666, \"#ed7953\"], [0.7777777777777778, \"#fb9f3a\"], [0.8888888888888888, \"#fdca26\"], [1.0, \"#f0f921\"]], \"type\": \"heatmapgl\"}], \"histogram\": [{\"marker\": {\"colorbar\": {\"outlinewidth\": 0, \"ticks\": \"\"}}, \"type\": \"histogram\"}], \"histogram2d\": [{\"colorbar\": {\"outlinewidth\": 0, \"ticks\": \"\"}, \"colorscale\": [[0.0, \"#0d0887\"], [0.1111111111111111, \"#46039f\"], [0.2222222222222222, \"#7201a8\"], [0.3333333333333333, \"#9c179e\"], [0.4444444444444444, \"#bd3786\"], [0.5555555555555556, \"#d8576b\"], [0.6666666666666666, \"#ed7953\"], [0.7777777777777778, \"#fb9f3a\"], [0.8888888888888888, \"#fdca26\"], [1.0, \"#f0f921\"]], \"type\": \"histogram2d\"}], \"histogram2dcontour\": [{\"colorbar\": {\"outlinewidth\": 0, \"ticks\": \"\"}, \"colorscale\": [[0.0, \"#0d0887\"], [0.1111111111111111, \"#46039f\"], [0.2222222222222222, \"#7201a8\"], [0.3333333333333333, \"#9c179e\"], [0.4444444444444444, \"#bd3786\"], [0.5555555555555556, \"#d8576b\"], [0.6666666666666666, \"#ed7953\"], [0.7777777777777778, \"#fb9f3a\"], [0.8888888888888888, \"#fdca26\"], [1.0, \"#f0f921\"]], \"type\": \"histogram2dcontour\"}], \"mesh3d\": [{\"colorbar\": {\"outlinewidth\": 0, \"ticks\": \"\"}, \"type\": \"mesh3d\"}], \"parcoords\": [{\"line\": {\"colorbar\": {\"outlinewidth\": 0, \"ticks\": \"\"}}, \"type\": \"parcoords\"}], \"pie\": [{\"automargin\": true, \"type\": \"pie\"}], \"scatter\": [{\"marker\": {\"colorbar\": {\"outlinewidth\": 0, \"ticks\": \"\"}}, \"type\": \"scatter\"}], \"scatter3d\": [{\"line\": {\"colorbar\": {\"outlinewidth\": 0, \"ticks\": \"\"}}, \"marker\": {\"colorbar\": {\"outlinewidth\": 0, \"ticks\": \"\"}}, \"type\": \"scatter3d\"}], \"scattercarpet\": [{\"marker\": {\"colorbar\": {\"outlinewidth\": 0, \"ticks\": \"\"}}, \"type\": \"scattercarpet\"}], \"scattergeo\": [{\"marker\": {\"colorbar\": {\"outlinewidth\": 0, \"ticks\": \"\"}}, \"type\": \"scattergeo\"}], \"scattergl\": [{\"marker\": {\"colorbar\": {\"outlinewidth\": 0, \"ticks\": \"\"}}, \"type\": \"scattergl\"}], \"scattermapbox\": [{\"marker\": {\"colorbar\": {\"outlinewidth\": 0, \"ticks\": \"\"}}, \"type\": \"scattermapbox\"}], \"scatterpolar\": [{\"marker\": {\"colorbar\": {\"outlinewidth\": 0, \"ticks\": \"\"}}, \"type\": \"scatterpolar\"}], \"scatterpolargl\": [{\"marker\": {\"colorbar\": {\"outlinewidth\": 0, \"ticks\": \"\"}}, \"type\": \"scatterpolargl\"}], \"scatterternary\": [{\"marker\": {\"colorbar\": {\"outlinewidth\": 0, \"ticks\": \"\"}}, \"type\": \"scatterternary\"}], \"surface\": [{\"colorbar\": {\"outlinewidth\": 0, \"ticks\": \"\"}, \"colorscale\": [[0.0, \"#0d0887\"], [0.1111111111111111, \"#46039f\"], [0.2222222222222222, \"#7201a8\"], [0.3333333333333333, \"#9c179e\"], [0.4444444444444444, \"#bd3786\"], [0.5555555555555556, \"#d8576b\"], [0.6666666666666666, \"#ed7953\"], [0.7777777777777778, \"#fb9f3a\"], [0.8888888888888888, \"#fdca26\"], [1.0, \"#f0f921\"]], \"type\": \"surface\"}], \"table\": [{\"cells\": {\"fill\": {\"color\": \"#EBF0F8\"}, \"line\": {\"color\": \"white\"}}, \"header\": {\"fill\": {\"color\": \"#C8D4E3\"}, \"line\": {\"color\": \"white\"}}, \"type\": \"table\"}]}, \"layout\": {\"annotationdefaults\": {\"arrowcolor\": \"#2a3f5f\", \"arrowhead\": 0, \"arrowwidth\": 1}, \"coloraxis\": {\"colorbar\": {\"outlinewidth\": 0, \"ticks\": \"\"}}, \"colorscale\": {\"diverging\": [[0, \"#8e0152\"], [0.1, \"#c51b7d\"], [0.2, \"#de77ae\"], [0.3, \"#f1b6da\"], [0.4, \"#fde0ef\"], [0.5, \"#f7f7f7\"], [0.6, \"#e6f5d0\"], [0.7, \"#b8e186\"], [0.8, \"#7fbc41\"], [0.9, \"#4d9221\"], [1, \"#276419\"]], \"sequential\": [[0.0, \"#0d0887\"], [0.1111111111111111, \"#46039f\"], [0.2222222222222222, \"#7201a8\"], [0.3333333333333333, \"#9c179e\"], [0.4444444444444444, \"#bd3786\"], [0.5555555555555556, \"#d8576b\"], [0.6666666666666666, \"#ed7953\"], [0.7777777777777778, \"#fb9f3a\"], [0.8888888888888888, \"#fdca26\"], [1.0, \"#f0f921\"]], \"sequentialminus\": [[0.0, \"#0d0887\"], [0.1111111111111111, \"#46039f\"], [0.2222222222222222, \"#7201a8\"], [0.3333333333333333, \"#9c179e\"], [0.4444444444444444, \"#bd3786\"], [0.5555555555555556, \"#d8576b\"], [0.6666666666666666, \"#ed7953\"], [0.7777777777777778, \"#fb9f3a\"], [0.8888888888888888, \"#fdca26\"], [1.0, \"#f0f921\"]]}, \"colorway\": [\"#636efa\", \"#EF553B\", \"#00cc96\", \"#ab63fa\", \"#FFA15A\", \"#19d3f3\", \"#FF6692\", \"#B6E880\", \"#FF97FF\", \"#FECB52\"], \"font\": {\"color\": \"#2a3f5f\"}, \"geo\": {\"bgcolor\": \"white\", \"lakecolor\": \"white\", \"landcolor\": \"#E5ECF6\", \"showlakes\": true, \"showland\": true, \"subunitcolor\": \"white\"}, \"hoverlabel\": {\"align\": \"left\"}, \"hovermode\": \"closest\", \"mapbox\": {\"style\": \"light\"}, \"paper_bgcolor\": \"white\", \"plot_bgcolor\": \"#E5ECF6\", \"polar\": {\"angularaxis\": {\"gridcolor\": \"white\", \"linecolor\": \"white\", \"ticks\": \"\"}, \"bgcolor\": \"#E5ECF6\", \"radialaxis\": {\"gridcolor\": \"white\", \"linecolor\": \"white\", \"ticks\": \"\"}}, \"scene\": {\"xaxis\": {\"backgroundcolor\": \"#E5ECF6\", \"gridcolor\": \"white\", \"gridwidth\": 2, \"linecolor\": \"white\", \"showbackground\": true, \"ticks\": \"\", \"zerolinecolor\": \"white\"}, \"yaxis\": {\"backgroundcolor\": \"#E5ECF6\", \"gridcolor\": \"white\", \"gridwidth\": 2, \"linecolor\": \"white\", \"showbackground\": true, \"ticks\": \"\", \"zerolinecolor\": \"white\"}, \"zaxis\": {\"backgroundcolor\": \"#E5ECF6\", \"gridcolor\": \"white\", \"gridwidth\": 2, \"linecolor\": \"white\", \"showbackground\": true, \"ticks\": \"\", \"zerolinecolor\": \"white\"}}, \"shapedefaults\": {\"line\": {\"color\": \"#2a3f5f\"}}, \"ternary\": {\"aaxis\": {\"gridcolor\": \"white\", \"linecolor\": \"white\", \"ticks\": \"\"}, \"baxis\": {\"gridcolor\": \"white\", \"linecolor\": \"white\", \"ticks\": \"\"}, \"bgcolor\": \"#E5ECF6\", \"caxis\": {\"gridcolor\": \"white\", \"linecolor\": \"white\", \"ticks\": \"\"}}, \"title\": {\"x\": 0.05}, \"xaxis\": {\"automargin\": true, \"gridcolor\": \"white\", \"linecolor\": \"white\", \"ticks\": \"\", \"title\": {\"standoff\": 15}, \"zerolinecolor\": \"white\", \"zerolinewidth\": 2}, \"yaxis\": {\"automargin\": true, \"gridcolor\": \"white\", \"linecolor\": \"white\", \"ticks\": \"\", \"title\": {\"standoff\": 15}, \"zerolinecolor\": \"white\", \"zerolinewidth\": 2}}}, \"title\": {\"font\": {\"color\": \"#4D5663\"}}, \"xaxis\": {\"gridcolor\": \"#E1E5ED\", \"showgrid\": true, \"tickfont\": {\"color\": \"#4D5663\"}, \"title\": {\"font\": {\"color\": \"#4D5663\"}, \"text\": \"\"}, \"zerolinecolor\": \"#E1E5ED\"}, \"yaxis\": {\"gridcolor\": \"#E1E5ED\", \"showgrid\": true, \"tickfont\": {\"color\": \"#4D5663\"}, \"title\": {\"font\": {\"color\": \"#4D5663\"}, \"text\": \"\"}, \"zerolinecolor\": \"#E1E5ED\"}},\n",
       "                        {\"showLink\": true, \"linkText\": \"Export to plot.ly\", \"plotlyServerURL\": \"https://plot.ly\", \"responsive\": true}\n",
       "                    ).then(function(){\n",
       "                            \n",
       "var gd = document.getElementById('5a577f76-cba0-4fb6-bcd4-c88ebab28783');\n",
       "var x = new MutationObserver(function (mutations, observer) {{\n",
       "        var display = window.getComputedStyle(gd).display;\n",
       "        if (!display || display === 'none') {{\n",
       "            console.log([gd, 'removed!']);\n",
       "            Plotly.purge(gd);\n",
       "            observer.disconnect();\n",
       "        }}\n",
       "}});\n",
       "\n",
       "// Listen for the removal of the full notebook cells\n",
       "var notebookContainer = gd.closest('#notebook-container');\n",
       "if (notebookContainer) {{\n",
       "    x.observe(notebookContainer, {childList: true});\n",
       "}}\n",
       "\n",
       "// Listen for the clearing of the current output cell\n",
       "var outputEl = gd.closest('.output');\n",
       "if (outputEl) {{\n",
       "    x.observe(outputEl, {childList: true});\n",
       "}}\n",
       "\n",
       "                        })\n",
       "                };\n",
       "                });\n",
       "            </script>\n",
       "        </div>"
      ]
     },
     "metadata": {},
     "output_type": "display_data"
    }
   ],
   "source": [
    "df.iplot(kind='bubble',x='A',y='B',size='C')"
   ]
  },
  {
   "cell_type": "code",
   "execution_count": 41,
   "metadata": {},
   "outputs": [
    {
     "data": {
      "application/vnd.plotly.v1+json": {
       "config": {
        "linkText": "Export to plot.ly",
        "plotlyServerURL": "https://plot.ly",
        "showLink": true
       },
       "data": [
        {
         "histfunc": "count",
         "histnorm": "",
         "marker": {
          "color": "rgba(255, 153, 51, 1.0)",
          "line": {
           "color": "#4D5663",
           "width": 1.3
          }
         },
         "name": "A",
         "nbinsx": 10,
         "opacity": 0.8,
         "orientation": "v",
         "type": "histogram",
         "x": [
          -0.13332898728486217,
          0.6049162173562118,
          -0.16177503105113158,
          0.2904262389514051,
          1.1562838099089574,
          -1.1848532417977728,
          0.8982273761327372,
          0.028278257948029965,
          -0.9868512173336761,
          0.6840821635822759,
          -0.7608168905347923,
          -0.4849772912292263,
          1.4103246726026462,
          -0.8217680536926046,
          -0.10584387485756273,
          0.0915326999720717,
          1.5868812487818433,
          1.4610332716855279,
          -0.296010479607427,
          -1.636326733107384,
          -0.494075647778116,
          1.254407911954291,
          -1.3259794161261163,
          0.46662695049174047,
          0.9930619033922193,
          -0.5176556953346497,
          0.4923565746528598,
          -0.30148014268246154,
          -0.4809887648149414,
          0.4820761832548575,
          0.9795666811263533,
          0.2290842534017007,
          0.36752354492950984,
          0.6168940590624284,
          0.4114722975292953,
          -0.20855183114206602,
          1.132181985806202,
          0.9935469114025697,
          0.016836190438973112,
          0.961885915997291,
          -1.783903976137237,
          -0.9587206963745689,
          -1.5379896533002744,
          -0.7128492071354146,
          -0.42738557738685895,
          0.4026918235878419,
          1.1185123034948807,
          1.1653431112356398,
          0.5260806281991431,
          0.2603131849043691,
          1.1467886882959684,
          -0.40965228755670074,
          0.7133917959352619,
          1.1250831270878798,
          0.817216553655222,
          1.4917512529186387,
          -0.5125131549706918,
          0.14776577406804275,
          0.21713674429031635,
          0.5477373667964758,
          -0.08254668451697868,
          -0.750904913226693,
          -0.48210838498018804,
          0.9105294888876799,
          0.8690776970323018,
          -0.95756608003841,
          -0.6806140558632705,
          -0.5565517022643965,
          -0.14106813094953835,
          0.17396554387381946,
          -2.041059568986403,
          -0.06075202622890458,
          -1.2553721922271923,
          0.740004930068497,
          0.6323495961138877,
          0.3758072565623964,
          0.3121515525987599,
          1.2167344648060452,
          -0.8148129555263465,
          -1.0423994099522742,
          -1.053758446029795,
          1.0591205959040673,
          0.624547701537553,
          0.4113627954704313,
          1.1811178417779826,
          1.0245574869849703,
          -0.09182695658014851,
          0.12237334974580312,
          -0.8312689468801848,
          0.31971330737792997,
          0.3882652757412495,
          -0.24487556089373985,
          1.211015675419331,
          0.2265724142315915,
          -0.6340086051558401,
          0.789035760998447,
          -0.428508620713086,
          -1.2083999122326243,
          -2.442220579365496,
          0.6181020168836062
         ],
         "xaxis": "x",
         "yaxis": "y"
        },
        {
         "line": {
          "color": "rgba(128, 128, 128, 1.0)",
          "dash": "solid",
          "shape": "linear",
          "width": 1.3
         },
         "marker": {
          "size": 2,
          "symbol": "circle"
         },
         "mode": "markers",
         "name": "A",
         "text": "",
         "type": "scatter",
         "x": [
          0.877873119201991,
          -0.8871864835711982,
          -0.8779365085710115,
          0.16707982521148182,
          0.9770570964405164,
          -1.0210807539641042,
          -0.21179137664286418,
          -0.025274265344616083,
          -1.1092078640172551,
          -1.1521829664006475,
          -1.0678537312032441,
          0.881399073284442,
          -1.5472658310039031,
          0.42894438694587583,
          -0.5847667949359995,
          0.5861364661033456,
          -0.04141568970211862,
          1.6330695985806374,
          0.9136833206359156,
          2.0233395926138007,
          1.101142592370221,
          -0.5682038376230117,
          0.042882304288209314,
          -0.4047854558570145,
          -0.20925108081337035,
          0.7529358997543051,
          0.7407450265436628,
          -1.3607933912602541,
          0.3411301947962091,
          1.3151839384818036,
          0.3575314753592644,
          -1.3118340501498933,
          1.4279165133867213,
          -0.2559157130428562,
          0.4464527395079081,
          0.6658948694956442,
          0.7259355144620822,
          0.8235263881423511,
          -0.08484654956607927,
          1.8343974103662948,
          -0.4713263219195928,
          -0.8960723024860888,
          -0.30064987887889344,
          -0.4316502480055467,
          0.2857158451321729,
          -0.5736274210697178,
          2.5697362447985554,
          0.6277843390429633,
          -0.49445184097626804,
          0.8499163415546525,
          1.5785939994794886,
          -0.9821279273371802,
          -0.4739870836956822,
          -1.3416687809494725,
          0.984719136622916,
          -0.2741650591388619,
          1.4972102529508924,
          0.17436161357051014,
          -0.7460530393643999,
          0.4081345878441793,
          0.7508643479924706,
          0.007458631298474343,
          -2.356211944871521,
          1.2434124482978255,
          -0.9764707565302257,
          -0.9003187532037691,
          -0.6552946312368383,
          1.01863556348232,
          2.5093706224495755,
          -0.04773433274440632,
          1.0449119076216544,
          0.408730882028547,
          -0.11919913738978115,
          0.38587853161043395,
          -1.1517321753523175,
          1.6165054269845633,
          2.320370989305167,
          -0.97030489009854,
          0.03428818309439457,
          -0.567194415289803,
          -1.6004626492305494,
          0.7941768603034315,
          0.7850386433665631,
          1.5710577492336988,
          0.5925013415374528,
          1.3388239018740202,
          -1.493035583334954,
          0.8131093233548212,
          -0.06253088379133223,
          1.0761370002087423,
          1.6009510396615159,
          1.0372091416050686,
          0.24796801351280354,
          1.1619363392738358,
          -0.3941704306660358,
          -0.7976663790741948,
          1.7838229422786538,
          -1.6143395792946713,
          0.2445066278672296,
          -0.19001794744455636
         ],
         "xaxis": "x2",
         "y": [
          -0.13332898728486217,
          0.6049162173562118,
          -0.16177503105113158,
          0.2904262389514051,
          1.1562838099089574,
          -1.1848532417977728,
          0.8982273761327372,
          0.028278257948029965,
          -0.9868512173336761,
          0.6840821635822759,
          -0.7608168905347923,
          -0.4849772912292263,
          1.4103246726026462,
          -0.8217680536926046,
          -0.10584387485756273,
          0.0915326999720717,
          1.5868812487818433,
          1.4610332716855279,
          -0.296010479607427,
          -1.636326733107384,
          -0.494075647778116,
          1.254407911954291,
          -1.3259794161261163,
          0.46662695049174047,
          0.9930619033922193,
          -0.5176556953346497,
          0.4923565746528598,
          -0.30148014268246154,
          -0.4809887648149414,
          0.4820761832548575,
          0.9795666811263533,
          0.2290842534017007,
          0.36752354492950984,
          0.6168940590624284,
          0.4114722975292953,
          -0.20855183114206602,
          1.132181985806202,
          0.9935469114025697,
          0.016836190438973112,
          0.961885915997291,
          -1.783903976137237,
          -0.9587206963745689,
          -1.5379896533002744,
          -0.7128492071354146,
          -0.42738557738685895,
          0.4026918235878419,
          1.1185123034948807,
          1.1653431112356398,
          0.5260806281991431,
          0.2603131849043691,
          1.1467886882959684,
          -0.40965228755670074,
          0.7133917959352619,
          1.1250831270878798,
          0.817216553655222,
          1.4917512529186387,
          -0.5125131549706918,
          0.14776577406804275,
          0.21713674429031635,
          0.5477373667964758,
          -0.08254668451697868,
          -0.750904913226693,
          -0.48210838498018804,
          0.9105294888876799,
          0.8690776970323018,
          -0.95756608003841,
          -0.6806140558632705,
          -0.5565517022643965,
          -0.14106813094953835,
          0.17396554387381946,
          -2.041059568986403,
          -0.06075202622890458,
          -1.2553721922271923,
          0.740004930068497,
          0.6323495961138877,
          0.3758072565623964,
          0.3121515525987599,
          1.2167344648060452,
          -0.8148129555263465,
          -1.0423994099522742,
          -1.053758446029795,
          1.0591205959040673,
          0.624547701537553,
          0.4113627954704313,
          1.1811178417779826,
          1.0245574869849703,
          -0.09182695658014851,
          0.12237334974580312,
          -0.8312689468801848,
          0.31971330737792997,
          0.3882652757412495,
          -0.24487556089373985,
          1.211015675419331,
          0.2265724142315915,
          -0.6340086051558401,
          0.789035760998447,
          -0.428508620713086,
          -1.2083999122326243,
          -2.442220579365496,
          0.6181020168836062
         ],
         "yaxis": "y2"
        },
        {
         "line": {
          "color": "rgba(128, 128, 128, 1.0)",
          "dash": "solid",
          "shape": "linear",
          "width": 1.3
         },
         "marker": {
          "size": 2,
          "symbol": "circle"
         },
         "mode": "markers",
         "name": "A",
         "text": "",
         "type": "scatter",
         "x": [
          -0.1949333377808265,
          1.2874718857137506,
          1.034828960634043,
          -1.250205626820457,
          -2.3140814312960223,
          0.4672105757577219,
          0.9336583380187081,
          -0.899465178637077,
          -0.23100800292281237,
          -0.4233280963663838,
          -0.8789825347499383,
          -0.23272103414254033,
          -0.687275448055291,
          -1.351898514290019,
          -0.29152858366285617,
          -0.5384074094042292,
          1.0899255578983433,
          0.3632462942202497,
          -0.31347150317497907,
          -0.6239556756762389,
          -0.5039547444225779,
          0.7470989284312591,
          0.5669270767827191,
          0.4053962663362149,
          0.7470319881233176,
          -0.7121268908435755,
          1.3781094180709663,
          0.4374773497359336,
          0.4200860244282493,
          0.7053171544932973,
          -0.6008008456387155,
          1.114826092770562,
          0.5183437897032463,
          -1.6875410078176634,
          -0.14119371767260377,
          -1.2318315718081576,
          1.094246490855967,
          -0.9357325966232735,
          -1.687124220557086,
          0.02834226044932334,
          -0.43635878228827285,
          0.19203209266547921,
          1.5017344421595056,
          -0.758789965263754,
          -0.48496529798553106,
          0.9112791466103329,
          -0.9065257161127248,
          0.15779465541686052,
          0.32598660502669086,
          -0.7494680676971873,
          0.8369842300027271,
          -0.1852978110964879,
          -0.8537190052680307,
          -1.328453836121312,
          0.8883999662666356,
          0.6745108463283488,
          -0.039512731797237334,
          -0.15152265482386013,
          -0.4053422246549689,
          1.091898283200699,
          0.3523894167516524,
          -0.8234261540482228,
          -0.3877115538256855,
          2.334372769081094,
          -1.2790254406427777,
          -0.05124559254107892,
          1.6034395642054087,
          -0.9702203612312997,
          -2.986537403890035,
          0.8768333360508807,
          -1.0955398315132059,
          -1.3184810057926308,
          0.4811947683684202,
          -0.9413875287749689,
          -0.09428344821563733,
          0.24313378679796052,
          -0.8705367986795014,
          0.33500633048508377,
          -0.23050141623667522,
          -0.4987736876364225,
          1.7595674249869988,
          -1.371365312362017,
          1.5153198832203851,
          -2.136172527562396,
          0.13909291969410825,
          -0.6749023176385337,
          0.280617133701145,
          -1.8513701473257176,
          -0.6285511875260519,
          1.0104658535811069,
          -0.005853284057386029,
          0.1096869174311675,
          -0.9210250890711749,
          1.7413864500446388,
          0.660042296473798,
          -1.3547562182632082,
          -0.9333532783173327,
          -0.1645621664866537,
          0.08988391435312298,
          -0.3005702765173331
         ],
         "xaxis": "x3",
         "y": [
          -0.13332898728486217,
          0.6049162173562118,
          -0.16177503105113158,
          0.2904262389514051,
          1.1562838099089574,
          -1.1848532417977728,
          0.8982273761327372,
          0.028278257948029965,
          -0.9868512173336761,
          0.6840821635822759,
          -0.7608168905347923,
          -0.4849772912292263,
          1.4103246726026462,
          -0.8217680536926046,
          -0.10584387485756273,
          0.0915326999720717,
          1.5868812487818433,
          1.4610332716855279,
          -0.296010479607427,
          -1.636326733107384,
          -0.494075647778116,
          1.254407911954291,
          -1.3259794161261163,
          0.46662695049174047,
          0.9930619033922193,
          -0.5176556953346497,
          0.4923565746528598,
          -0.30148014268246154,
          -0.4809887648149414,
          0.4820761832548575,
          0.9795666811263533,
          0.2290842534017007,
          0.36752354492950984,
          0.6168940590624284,
          0.4114722975292953,
          -0.20855183114206602,
          1.132181985806202,
          0.9935469114025697,
          0.016836190438973112,
          0.961885915997291,
          -1.783903976137237,
          -0.9587206963745689,
          -1.5379896533002744,
          -0.7128492071354146,
          -0.42738557738685895,
          0.4026918235878419,
          1.1185123034948807,
          1.1653431112356398,
          0.5260806281991431,
          0.2603131849043691,
          1.1467886882959684,
          -0.40965228755670074,
          0.7133917959352619,
          1.1250831270878798,
          0.817216553655222,
          1.4917512529186387,
          -0.5125131549706918,
          0.14776577406804275,
          0.21713674429031635,
          0.5477373667964758,
          -0.08254668451697868,
          -0.750904913226693,
          -0.48210838498018804,
          0.9105294888876799,
          0.8690776970323018,
          -0.95756608003841,
          -0.6806140558632705,
          -0.5565517022643965,
          -0.14106813094953835,
          0.17396554387381946,
          -2.041059568986403,
          -0.06075202622890458,
          -1.2553721922271923,
          0.740004930068497,
          0.6323495961138877,
          0.3758072565623964,
          0.3121515525987599,
          1.2167344648060452,
          -0.8148129555263465,
          -1.0423994099522742,
          -1.053758446029795,
          1.0591205959040673,
          0.624547701537553,
          0.4113627954704313,
          1.1811178417779826,
          1.0245574869849703,
          -0.09182695658014851,
          0.12237334974580312,
          -0.8312689468801848,
          0.31971330737792997,
          0.3882652757412495,
          -0.24487556089373985,
          1.211015675419331,
          0.2265724142315915,
          -0.6340086051558401,
          0.789035760998447,
          -0.428508620713086,
          -1.2083999122326243,
          -2.442220579365496,
          0.6181020168836062
         ],
         "yaxis": "y3"
        },
        {
         "line": {
          "color": "rgba(128, 128, 128, 1.0)",
          "dash": "solid",
          "shape": "linear",
          "width": 1.3
         },
         "marker": {
          "size": 2,
          "symbol": "circle"
         },
         "mode": "markers",
         "name": "A",
         "text": "",
         "type": "scatter",
         "x": [
          -0.08270575823628525,
          0.5721288881350668,
          1.0693127747928544,
          1.5534994107776754,
          0.19406633148953562,
          -0.26233500689833983,
          1.5655280754438046,
          -0.18114075584586906,
          -0.009619968905033204,
          -0.9027686346935858,
          -0.214812512368609,
          -0.7364379842187003,
          -0.19198476000138007,
          0.18702643707197159,
          0.0433781027486577,
          -0.29137810972437495,
          -1.1978306132083452,
          0.41923085497089585,
          -0.31918684064943975,
          1.128602606672595,
          -1.7825520771222159,
          0.6030731735378128,
          -0.3564898191817619,
          -1.7844575714167668,
          -1.5335276217022513,
          -0.23179194788496277,
          1.0021641098970262,
          -0.6909673306044203,
          -1.6223983671173798,
          0.9163321161767722,
          -0.16823263095738714,
          -0.08943816895035614,
          0.29775873555054044,
          0.12574099999810487,
          -0.09456630256447097,
          -0.6611620609872069,
          0.21652645180452904,
          0.7244403439630475,
          0.6954520634005963,
          -1.5499491574713065,
          0.11562111541713081,
          -1.1221872789710325,
          1.6563204328441237,
          0.2952248151470929,
          -1.5686691986603534,
          -0.013048810598643025,
          -0.0742857139038019,
          0.7150980179301154,
          -0.7395795234598608,
          0.5989185284645229,
          -0.3093583703760894,
          -0.5115294388754472,
          -0.2561361894198458,
          -1.4477826014600563,
          0.5220337678598486,
          -2.0151186397299794,
          0.5886751789306843,
          -0.2327764475170766,
          0.5212684750945968,
          -0.3863966203198103,
          1.104088962904185,
          1.7129532254736584,
          0.44128179880332474,
          0.14979679828882936,
          -0.2519819766582173,
          0.6073456327874504,
          0.5990539129529934,
          0.41172165954198053,
          -0.93461312400278,
          1.6191205319381616,
          -0.7132980745026403,
          -0.6055073499449021,
          0.43331854221063015,
          1.312027745736751,
          0.22528511601214957,
          1.6434145615909932,
          0.3924455136917064,
          -0.44644815502010077,
          0.3990194329299282,
          0.3291683995399519,
          -0.9125345281980742,
          0.3008990483570197,
          0.10284225567393888,
          0.45990273680458116,
          0.5490036543010519,
          -0.5263979924439908,
          -0.9350994613038845,
          1.418678192436831,
          -0.3039213118658567,
          -1.3956681081474906,
          0.3520550174745357,
          -0.9795833300527587,
          0.7951530232992107,
          -1.1695000184850353,
          -1.9272619586717148,
          -0.7952510560311679,
          -1.146988594289629,
          -0.18338757979591955,
          -0.3083681940970879,
          -0.23394117014428933
         ],
         "xaxis": "x4",
         "y": [
          -0.13332898728486217,
          0.6049162173562118,
          -0.16177503105113158,
          0.2904262389514051,
          1.1562838099089574,
          -1.1848532417977728,
          0.8982273761327372,
          0.028278257948029965,
          -0.9868512173336761,
          0.6840821635822759,
          -0.7608168905347923,
          -0.4849772912292263,
          1.4103246726026462,
          -0.8217680536926046,
          -0.10584387485756273,
          0.0915326999720717,
          1.5868812487818433,
          1.4610332716855279,
          -0.296010479607427,
          -1.636326733107384,
          -0.494075647778116,
          1.254407911954291,
          -1.3259794161261163,
          0.46662695049174047,
          0.9930619033922193,
          -0.5176556953346497,
          0.4923565746528598,
          -0.30148014268246154,
          -0.4809887648149414,
          0.4820761832548575,
          0.9795666811263533,
          0.2290842534017007,
          0.36752354492950984,
          0.6168940590624284,
          0.4114722975292953,
          -0.20855183114206602,
          1.132181985806202,
          0.9935469114025697,
          0.016836190438973112,
          0.961885915997291,
          -1.783903976137237,
          -0.9587206963745689,
          -1.5379896533002744,
          -0.7128492071354146,
          -0.42738557738685895,
          0.4026918235878419,
          1.1185123034948807,
          1.1653431112356398,
          0.5260806281991431,
          0.2603131849043691,
          1.1467886882959684,
          -0.40965228755670074,
          0.7133917959352619,
          1.1250831270878798,
          0.817216553655222,
          1.4917512529186387,
          -0.5125131549706918,
          0.14776577406804275,
          0.21713674429031635,
          0.5477373667964758,
          -0.08254668451697868,
          -0.750904913226693,
          -0.48210838498018804,
          0.9105294888876799,
          0.8690776970323018,
          -0.95756608003841,
          -0.6806140558632705,
          -0.5565517022643965,
          -0.14106813094953835,
          0.17396554387381946,
          -2.041059568986403,
          -0.06075202622890458,
          -1.2553721922271923,
          0.740004930068497,
          0.6323495961138877,
          0.3758072565623964,
          0.3121515525987599,
          1.2167344648060452,
          -0.8148129555263465,
          -1.0423994099522742,
          -1.053758446029795,
          1.0591205959040673,
          0.624547701537553,
          0.4113627954704313,
          1.1811178417779826,
          1.0245574869849703,
          -0.09182695658014851,
          0.12237334974580312,
          -0.8312689468801848,
          0.31971330737792997,
          0.3882652757412495,
          -0.24487556089373985,
          1.211015675419331,
          0.2265724142315915,
          -0.6340086051558401,
          0.789035760998447,
          -0.428508620713086,
          -1.2083999122326243,
          -2.442220579365496,
          0.6181020168836062
         ],
         "yaxis": "y4"
        },
        {
         "line": {
          "color": "rgba(128, 128, 128, 1.0)",
          "dash": "solid",
          "shape": "linear",
          "width": 1.3
         },
         "marker": {
          "size": 2,
          "symbol": "circle"
         },
         "mode": "markers",
         "name": "B",
         "text": "",
         "type": "scatter",
         "x": [
          -0.13332898728486217,
          0.6049162173562118,
          -0.16177503105113158,
          0.2904262389514051,
          1.1562838099089574,
          -1.1848532417977728,
          0.8982273761327372,
          0.028278257948029965,
          -0.9868512173336761,
          0.6840821635822759,
          -0.7608168905347923,
          -0.4849772912292263,
          1.4103246726026462,
          -0.8217680536926046,
          -0.10584387485756273,
          0.0915326999720717,
          1.5868812487818433,
          1.4610332716855279,
          -0.296010479607427,
          -1.636326733107384,
          -0.494075647778116,
          1.254407911954291,
          -1.3259794161261163,
          0.46662695049174047,
          0.9930619033922193,
          -0.5176556953346497,
          0.4923565746528598,
          -0.30148014268246154,
          -0.4809887648149414,
          0.4820761832548575,
          0.9795666811263533,
          0.2290842534017007,
          0.36752354492950984,
          0.6168940590624284,
          0.4114722975292953,
          -0.20855183114206602,
          1.132181985806202,
          0.9935469114025697,
          0.016836190438973112,
          0.961885915997291,
          -1.783903976137237,
          -0.9587206963745689,
          -1.5379896533002744,
          -0.7128492071354146,
          -0.42738557738685895,
          0.4026918235878419,
          1.1185123034948807,
          1.1653431112356398,
          0.5260806281991431,
          0.2603131849043691,
          1.1467886882959684,
          -0.40965228755670074,
          0.7133917959352619,
          1.1250831270878798,
          0.817216553655222,
          1.4917512529186387,
          -0.5125131549706918,
          0.14776577406804275,
          0.21713674429031635,
          0.5477373667964758,
          -0.08254668451697868,
          -0.750904913226693,
          -0.48210838498018804,
          0.9105294888876799,
          0.8690776970323018,
          -0.95756608003841,
          -0.6806140558632705,
          -0.5565517022643965,
          -0.14106813094953835,
          0.17396554387381946,
          -2.041059568986403,
          -0.06075202622890458,
          -1.2553721922271923,
          0.740004930068497,
          0.6323495961138877,
          0.3758072565623964,
          0.3121515525987599,
          1.2167344648060452,
          -0.8148129555263465,
          -1.0423994099522742,
          -1.053758446029795,
          1.0591205959040673,
          0.624547701537553,
          0.4113627954704313,
          1.1811178417779826,
          1.0245574869849703,
          -0.09182695658014851,
          0.12237334974580312,
          -0.8312689468801848,
          0.31971330737792997,
          0.3882652757412495,
          -0.24487556089373985,
          1.211015675419331,
          0.2265724142315915,
          -0.6340086051558401,
          0.789035760998447,
          -0.428508620713086,
          -1.2083999122326243,
          -2.442220579365496,
          0.6181020168836062
         ],
         "xaxis": "x5",
         "y": [
          0.877873119201991,
          -0.8871864835711982,
          -0.8779365085710115,
          0.16707982521148182,
          0.9770570964405164,
          -1.0210807539641042,
          -0.21179137664286418,
          -0.025274265344616083,
          -1.1092078640172551,
          -1.1521829664006475,
          -1.0678537312032441,
          0.881399073284442,
          -1.5472658310039031,
          0.42894438694587583,
          -0.5847667949359995,
          0.5861364661033456,
          -0.04141568970211862,
          1.6330695985806374,
          0.9136833206359156,
          2.0233395926138007,
          1.101142592370221,
          -0.5682038376230117,
          0.042882304288209314,
          -0.4047854558570145,
          -0.20925108081337035,
          0.7529358997543051,
          0.7407450265436628,
          -1.3607933912602541,
          0.3411301947962091,
          1.3151839384818036,
          0.3575314753592644,
          -1.3118340501498933,
          1.4279165133867213,
          -0.2559157130428562,
          0.4464527395079081,
          0.6658948694956442,
          0.7259355144620822,
          0.8235263881423511,
          -0.08484654956607927,
          1.8343974103662948,
          -0.4713263219195928,
          -0.8960723024860888,
          -0.30064987887889344,
          -0.4316502480055467,
          0.2857158451321729,
          -0.5736274210697178,
          2.5697362447985554,
          0.6277843390429633,
          -0.49445184097626804,
          0.8499163415546525,
          1.5785939994794886,
          -0.9821279273371802,
          -0.4739870836956822,
          -1.3416687809494725,
          0.984719136622916,
          -0.2741650591388619,
          1.4972102529508924,
          0.17436161357051014,
          -0.7460530393643999,
          0.4081345878441793,
          0.7508643479924706,
          0.007458631298474343,
          -2.356211944871521,
          1.2434124482978255,
          -0.9764707565302257,
          -0.9003187532037691,
          -0.6552946312368383,
          1.01863556348232,
          2.5093706224495755,
          -0.04773433274440632,
          1.0449119076216544,
          0.408730882028547,
          -0.11919913738978115,
          0.38587853161043395,
          -1.1517321753523175,
          1.6165054269845633,
          2.320370989305167,
          -0.97030489009854,
          0.03428818309439457,
          -0.567194415289803,
          -1.6004626492305494,
          0.7941768603034315,
          0.7850386433665631,
          1.5710577492336988,
          0.5925013415374528,
          1.3388239018740202,
          -1.493035583334954,
          0.8131093233548212,
          -0.06253088379133223,
          1.0761370002087423,
          1.6009510396615159,
          1.0372091416050686,
          0.24796801351280354,
          1.1619363392738358,
          -0.3941704306660358,
          -0.7976663790741948,
          1.7838229422786538,
          -1.6143395792946713,
          0.2445066278672296,
          -0.19001794744455636
         ],
         "yaxis": "y5"
        },
        {
         "histfunc": "count",
         "histnorm": "",
         "marker": {
          "color": "rgba(55, 128, 191, 1.0)",
          "line": {
           "color": "#4D5663",
           "width": 1.3
          }
         },
         "name": "B",
         "nbinsx": 10,
         "opacity": 0.8,
         "orientation": "v",
         "type": "histogram",
         "x": [
          0.877873119201991,
          -0.8871864835711982,
          -0.8779365085710115,
          0.16707982521148182,
          0.9770570964405164,
          -1.0210807539641042,
          -0.21179137664286418,
          -0.025274265344616083,
          -1.1092078640172551,
          -1.1521829664006475,
          -1.0678537312032441,
          0.881399073284442,
          -1.5472658310039031,
          0.42894438694587583,
          -0.5847667949359995,
          0.5861364661033456,
          -0.04141568970211862,
          1.6330695985806374,
          0.9136833206359156,
          2.0233395926138007,
          1.101142592370221,
          -0.5682038376230117,
          0.042882304288209314,
          -0.4047854558570145,
          -0.20925108081337035,
          0.7529358997543051,
          0.7407450265436628,
          -1.3607933912602541,
          0.3411301947962091,
          1.3151839384818036,
          0.3575314753592644,
          -1.3118340501498933,
          1.4279165133867213,
          -0.2559157130428562,
          0.4464527395079081,
          0.6658948694956442,
          0.7259355144620822,
          0.8235263881423511,
          -0.08484654956607927,
          1.8343974103662948,
          -0.4713263219195928,
          -0.8960723024860888,
          -0.30064987887889344,
          -0.4316502480055467,
          0.2857158451321729,
          -0.5736274210697178,
          2.5697362447985554,
          0.6277843390429633,
          -0.49445184097626804,
          0.8499163415546525,
          1.5785939994794886,
          -0.9821279273371802,
          -0.4739870836956822,
          -1.3416687809494725,
          0.984719136622916,
          -0.2741650591388619,
          1.4972102529508924,
          0.17436161357051014,
          -0.7460530393643999,
          0.4081345878441793,
          0.7508643479924706,
          0.007458631298474343,
          -2.356211944871521,
          1.2434124482978255,
          -0.9764707565302257,
          -0.9003187532037691,
          -0.6552946312368383,
          1.01863556348232,
          2.5093706224495755,
          -0.04773433274440632,
          1.0449119076216544,
          0.408730882028547,
          -0.11919913738978115,
          0.38587853161043395,
          -1.1517321753523175,
          1.6165054269845633,
          2.320370989305167,
          -0.97030489009854,
          0.03428818309439457,
          -0.567194415289803,
          -1.6004626492305494,
          0.7941768603034315,
          0.7850386433665631,
          1.5710577492336988,
          0.5925013415374528,
          1.3388239018740202,
          -1.493035583334954,
          0.8131093233548212,
          -0.06253088379133223,
          1.0761370002087423,
          1.6009510396615159,
          1.0372091416050686,
          0.24796801351280354,
          1.1619363392738358,
          -0.3941704306660358,
          -0.7976663790741948,
          1.7838229422786538,
          -1.6143395792946713,
          0.2445066278672296,
          -0.19001794744455636
         ],
         "xaxis": "x6",
         "yaxis": "y6"
        },
        {
         "line": {
          "color": "rgba(128, 128, 128, 1.0)",
          "dash": "solid",
          "shape": "linear",
          "width": 1.3
         },
         "marker": {
          "size": 2,
          "symbol": "circle"
         },
         "mode": "markers",
         "name": "B",
         "text": "",
         "type": "scatter",
         "x": [
          -0.1949333377808265,
          1.2874718857137506,
          1.034828960634043,
          -1.250205626820457,
          -2.3140814312960223,
          0.4672105757577219,
          0.9336583380187081,
          -0.899465178637077,
          -0.23100800292281237,
          -0.4233280963663838,
          -0.8789825347499383,
          -0.23272103414254033,
          -0.687275448055291,
          -1.351898514290019,
          -0.29152858366285617,
          -0.5384074094042292,
          1.0899255578983433,
          0.3632462942202497,
          -0.31347150317497907,
          -0.6239556756762389,
          -0.5039547444225779,
          0.7470989284312591,
          0.5669270767827191,
          0.4053962663362149,
          0.7470319881233176,
          -0.7121268908435755,
          1.3781094180709663,
          0.4374773497359336,
          0.4200860244282493,
          0.7053171544932973,
          -0.6008008456387155,
          1.114826092770562,
          0.5183437897032463,
          -1.6875410078176634,
          -0.14119371767260377,
          -1.2318315718081576,
          1.094246490855967,
          -0.9357325966232735,
          -1.687124220557086,
          0.02834226044932334,
          -0.43635878228827285,
          0.19203209266547921,
          1.5017344421595056,
          -0.758789965263754,
          -0.48496529798553106,
          0.9112791466103329,
          -0.9065257161127248,
          0.15779465541686052,
          0.32598660502669086,
          -0.7494680676971873,
          0.8369842300027271,
          -0.1852978110964879,
          -0.8537190052680307,
          -1.328453836121312,
          0.8883999662666356,
          0.6745108463283488,
          -0.039512731797237334,
          -0.15152265482386013,
          -0.4053422246549689,
          1.091898283200699,
          0.3523894167516524,
          -0.8234261540482228,
          -0.3877115538256855,
          2.334372769081094,
          -1.2790254406427777,
          -0.05124559254107892,
          1.6034395642054087,
          -0.9702203612312997,
          -2.986537403890035,
          0.8768333360508807,
          -1.0955398315132059,
          -1.3184810057926308,
          0.4811947683684202,
          -0.9413875287749689,
          -0.09428344821563733,
          0.24313378679796052,
          -0.8705367986795014,
          0.33500633048508377,
          -0.23050141623667522,
          -0.4987736876364225,
          1.7595674249869988,
          -1.371365312362017,
          1.5153198832203851,
          -2.136172527562396,
          0.13909291969410825,
          -0.6749023176385337,
          0.280617133701145,
          -1.8513701473257176,
          -0.6285511875260519,
          1.0104658535811069,
          -0.005853284057386029,
          0.1096869174311675,
          -0.9210250890711749,
          1.7413864500446388,
          0.660042296473798,
          -1.3547562182632082,
          -0.9333532783173327,
          -0.1645621664866537,
          0.08988391435312298,
          -0.3005702765173331
         ],
         "xaxis": "x7",
         "y": [
          0.877873119201991,
          -0.8871864835711982,
          -0.8779365085710115,
          0.16707982521148182,
          0.9770570964405164,
          -1.0210807539641042,
          -0.21179137664286418,
          -0.025274265344616083,
          -1.1092078640172551,
          -1.1521829664006475,
          -1.0678537312032441,
          0.881399073284442,
          -1.5472658310039031,
          0.42894438694587583,
          -0.5847667949359995,
          0.5861364661033456,
          -0.04141568970211862,
          1.6330695985806374,
          0.9136833206359156,
          2.0233395926138007,
          1.101142592370221,
          -0.5682038376230117,
          0.042882304288209314,
          -0.4047854558570145,
          -0.20925108081337035,
          0.7529358997543051,
          0.7407450265436628,
          -1.3607933912602541,
          0.3411301947962091,
          1.3151839384818036,
          0.3575314753592644,
          -1.3118340501498933,
          1.4279165133867213,
          -0.2559157130428562,
          0.4464527395079081,
          0.6658948694956442,
          0.7259355144620822,
          0.8235263881423511,
          -0.08484654956607927,
          1.8343974103662948,
          -0.4713263219195928,
          -0.8960723024860888,
          -0.30064987887889344,
          -0.4316502480055467,
          0.2857158451321729,
          -0.5736274210697178,
          2.5697362447985554,
          0.6277843390429633,
          -0.49445184097626804,
          0.8499163415546525,
          1.5785939994794886,
          -0.9821279273371802,
          -0.4739870836956822,
          -1.3416687809494725,
          0.984719136622916,
          -0.2741650591388619,
          1.4972102529508924,
          0.17436161357051014,
          -0.7460530393643999,
          0.4081345878441793,
          0.7508643479924706,
          0.007458631298474343,
          -2.356211944871521,
          1.2434124482978255,
          -0.9764707565302257,
          -0.9003187532037691,
          -0.6552946312368383,
          1.01863556348232,
          2.5093706224495755,
          -0.04773433274440632,
          1.0449119076216544,
          0.408730882028547,
          -0.11919913738978115,
          0.38587853161043395,
          -1.1517321753523175,
          1.6165054269845633,
          2.320370989305167,
          -0.97030489009854,
          0.03428818309439457,
          -0.567194415289803,
          -1.6004626492305494,
          0.7941768603034315,
          0.7850386433665631,
          1.5710577492336988,
          0.5925013415374528,
          1.3388239018740202,
          -1.493035583334954,
          0.8131093233548212,
          -0.06253088379133223,
          1.0761370002087423,
          1.6009510396615159,
          1.0372091416050686,
          0.24796801351280354,
          1.1619363392738358,
          -0.3941704306660358,
          -0.7976663790741948,
          1.7838229422786538,
          -1.6143395792946713,
          0.2445066278672296,
          -0.19001794744455636
         ],
         "yaxis": "y7"
        },
        {
         "line": {
          "color": "rgba(128, 128, 128, 1.0)",
          "dash": "solid",
          "shape": "linear",
          "width": 1.3
         },
         "marker": {
          "size": 2,
          "symbol": "circle"
         },
         "mode": "markers",
         "name": "B",
         "text": "",
         "type": "scatter",
         "x": [
          -0.08270575823628525,
          0.5721288881350668,
          1.0693127747928544,
          1.5534994107776754,
          0.19406633148953562,
          -0.26233500689833983,
          1.5655280754438046,
          -0.18114075584586906,
          -0.009619968905033204,
          -0.9027686346935858,
          -0.214812512368609,
          -0.7364379842187003,
          -0.19198476000138007,
          0.18702643707197159,
          0.0433781027486577,
          -0.29137810972437495,
          -1.1978306132083452,
          0.41923085497089585,
          -0.31918684064943975,
          1.128602606672595,
          -1.7825520771222159,
          0.6030731735378128,
          -0.3564898191817619,
          -1.7844575714167668,
          -1.5335276217022513,
          -0.23179194788496277,
          1.0021641098970262,
          -0.6909673306044203,
          -1.6223983671173798,
          0.9163321161767722,
          -0.16823263095738714,
          -0.08943816895035614,
          0.29775873555054044,
          0.12574099999810487,
          -0.09456630256447097,
          -0.6611620609872069,
          0.21652645180452904,
          0.7244403439630475,
          0.6954520634005963,
          -1.5499491574713065,
          0.11562111541713081,
          -1.1221872789710325,
          1.6563204328441237,
          0.2952248151470929,
          -1.5686691986603534,
          -0.013048810598643025,
          -0.0742857139038019,
          0.7150980179301154,
          -0.7395795234598608,
          0.5989185284645229,
          -0.3093583703760894,
          -0.5115294388754472,
          -0.2561361894198458,
          -1.4477826014600563,
          0.5220337678598486,
          -2.0151186397299794,
          0.5886751789306843,
          -0.2327764475170766,
          0.5212684750945968,
          -0.3863966203198103,
          1.104088962904185,
          1.7129532254736584,
          0.44128179880332474,
          0.14979679828882936,
          -0.2519819766582173,
          0.6073456327874504,
          0.5990539129529934,
          0.41172165954198053,
          -0.93461312400278,
          1.6191205319381616,
          -0.7132980745026403,
          -0.6055073499449021,
          0.43331854221063015,
          1.312027745736751,
          0.22528511601214957,
          1.6434145615909932,
          0.3924455136917064,
          -0.44644815502010077,
          0.3990194329299282,
          0.3291683995399519,
          -0.9125345281980742,
          0.3008990483570197,
          0.10284225567393888,
          0.45990273680458116,
          0.5490036543010519,
          -0.5263979924439908,
          -0.9350994613038845,
          1.418678192436831,
          -0.3039213118658567,
          -1.3956681081474906,
          0.3520550174745357,
          -0.9795833300527587,
          0.7951530232992107,
          -1.1695000184850353,
          -1.9272619586717148,
          -0.7952510560311679,
          -1.146988594289629,
          -0.18338757979591955,
          -0.3083681940970879,
          -0.23394117014428933
         ],
         "xaxis": "x8",
         "y": [
          0.877873119201991,
          -0.8871864835711982,
          -0.8779365085710115,
          0.16707982521148182,
          0.9770570964405164,
          -1.0210807539641042,
          -0.21179137664286418,
          -0.025274265344616083,
          -1.1092078640172551,
          -1.1521829664006475,
          -1.0678537312032441,
          0.881399073284442,
          -1.5472658310039031,
          0.42894438694587583,
          -0.5847667949359995,
          0.5861364661033456,
          -0.04141568970211862,
          1.6330695985806374,
          0.9136833206359156,
          2.0233395926138007,
          1.101142592370221,
          -0.5682038376230117,
          0.042882304288209314,
          -0.4047854558570145,
          -0.20925108081337035,
          0.7529358997543051,
          0.7407450265436628,
          -1.3607933912602541,
          0.3411301947962091,
          1.3151839384818036,
          0.3575314753592644,
          -1.3118340501498933,
          1.4279165133867213,
          -0.2559157130428562,
          0.4464527395079081,
          0.6658948694956442,
          0.7259355144620822,
          0.8235263881423511,
          -0.08484654956607927,
          1.8343974103662948,
          -0.4713263219195928,
          -0.8960723024860888,
          -0.30064987887889344,
          -0.4316502480055467,
          0.2857158451321729,
          -0.5736274210697178,
          2.5697362447985554,
          0.6277843390429633,
          -0.49445184097626804,
          0.8499163415546525,
          1.5785939994794886,
          -0.9821279273371802,
          -0.4739870836956822,
          -1.3416687809494725,
          0.984719136622916,
          -0.2741650591388619,
          1.4972102529508924,
          0.17436161357051014,
          -0.7460530393643999,
          0.4081345878441793,
          0.7508643479924706,
          0.007458631298474343,
          -2.356211944871521,
          1.2434124482978255,
          -0.9764707565302257,
          -0.9003187532037691,
          -0.6552946312368383,
          1.01863556348232,
          2.5093706224495755,
          -0.04773433274440632,
          1.0449119076216544,
          0.408730882028547,
          -0.11919913738978115,
          0.38587853161043395,
          -1.1517321753523175,
          1.6165054269845633,
          2.320370989305167,
          -0.97030489009854,
          0.03428818309439457,
          -0.567194415289803,
          -1.6004626492305494,
          0.7941768603034315,
          0.7850386433665631,
          1.5710577492336988,
          0.5925013415374528,
          1.3388239018740202,
          -1.493035583334954,
          0.8131093233548212,
          -0.06253088379133223,
          1.0761370002087423,
          1.6009510396615159,
          1.0372091416050686,
          0.24796801351280354,
          1.1619363392738358,
          -0.3941704306660358,
          -0.7976663790741948,
          1.7838229422786538,
          -1.6143395792946713,
          0.2445066278672296,
          -0.19001794744455636
         ],
         "yaxis": "y8"
        },
        {
         "line": {
          "color": "rgba(128, 128, 128, 1.0)",
          "dash": "solid",
          "shape": "linear",
          "width": 1.3
         },
         "marker": {
          "size": 2,
          "symbol": "circle"
         },
         "mode": "markers",
         "name": "C",
         "text": "",
         "type": "scatter",
         "x": [
          -0.13332898728486217,
          0.6049162173562118,
          -0.16177503105113158,
          0.2904262389514051,
          1.1562838099089574,
          -1.1848532417977728,
          0.8982273761327372,
          0.028278257948029965,
          -0.9868512173336761,
          0.6840821635822759,
          -0.7608168905347923,
          -0.4849772912292263,
          1.4103246726026462,
          -0.8217680536926046,
          -0.10584387485756273,
          0.0915326999720717,
          1.5868812487818433,
          1.4610332716855279,
          -0.296010479607427,
          -1.636326733107384,
          -0.494075647778116,
          1.254407911954291,
          -1.3259794161261163,
          0.46662695049174047,
          0.9930619033922193,
          -0.5176556953346497,
          0.4923565746528598,
          -0.30148014268246154,
          -0.4809887648149414,
          0.4820761832548575,
          0.9795666811263533,
          0.2290842534017007,
          0.36752354492950984,
          0.6168940590624284,
          0.4114722975292953,
          -0.20855183114206602,
          1.132181985806202,
          0.9935469114025697,
          0.016836190438973112,
          0.961885915997291,
          -1.783903976137237,
          -0.9587206963745689,
          -1.5379896533002744,
          -0.7128492071354146,
          -0.42738557738685895,
          0.4026918235878419,
          1.1185123034948807,
          1.1653431112356398,
          0.5260806281991431,
          0.2603131849043691,
          1.1467886882959684,
          -0.40965228755670074,
          0.7133917959352619,
          1.1250831270878798,
          0.817216553655222,
          1.4917512529186387,
          -0.5125131549706918,
          0.14776577406804275,
          0.21713674429031635,
          0.5477373667964758,
          -0.08254668451697868,
          -0.750904913226693,
          -0.48210838498018804,
          0.9105294888876799,
          0.8690776970323018,
          -0.95756608003841,
          -0.6806140558632705,
          -0.5565517022643965,
          -0.14106813094953835,
          0.17396554387381946,
          -2.041059568986403,
          -0.06075202622890458,
          -1.2553721922271923,
          0.740004930068497,
          0.6323495961138877,
          0.3758072565623964,
          0.3121515525987599,
          1.2167344648060452,
          -0.8148129555263465,
          -1.0423994099522742,
          -1.053758446029795,
          1.0591205959040673,
          0.624547701537553,
          0.4113627954704313,
          1.1811178417779826,
          1.0245574869849703,
          -0.09182695658014851,
          0.12237334974580312,
          -0.8312689468801848,
          0.31971330737792997,
          0.3882652757412495,
          -0.24487556089373985,
          1.211015675419331,
          0.2265724142315915,
          -0.6340086051558401,
          0.789035760998447,
          -0.428508620713086,
          -1.2083999122326243,
          -2.442220579365496,
          0.6181020168836062
         ],
         "xaxis": "x9",
         "y": [
          -0.1949333377808265,
          1.2874718857137506,
          1.034828960634043,
          -1.250205626820457,
          -2.3140814312960223,
          0.4672105757577219,
          0.9336583380187081,
          -0.899465178637077,
          -0.23100800292281237,
          -0.4233280963663838,
          -0.8789825347499383,
          -0.23272103414254033,
          -0.687275448055291,
          -1.351898514290019,
          -0.29152858366285617,
          -0.5384074094042292,
          1.0899255578983433,
          0.3632462942202497,
          -0.31347150317497907,
          -0.6239556756762389,
          -0.5039547444225779,
          0.7470989284312591,
          0.5669270767827191,
          0.4053962663362149,
          0.7470319881233176,
          -0.7121268908435755,
          1.3781094180709663,
          0.4374773497359336,
          0.4200860244282493,
          0.7053171544932973,
          -0.6008008456387155,
          1.114826092770562,
          0.5183437897032463,
          -1.6875410078176634,
          -0.14119371767260377,
          -1.2318315718081576,
          1.094246490855967,
          -0.9357325966232735,
          -1.687124220557086,
          0.02834226044932334,
          -0.43635878228827285,
          0.19203209266547921,
          1.5017344421595056,
          -0.758789965263754,
          -0.48496529798553106,
          0.9112791466103329,
          -0.9065257161127248,
          0.15779465541686052,
          0.32598660502669086,
          -0.7494680676971873,
          0.8369842300027271,
          -0.1852978110964879,
          -0.8537190052680307,
          -1.328453836121312,
          0.8883999662666356,
          0.6745108463283488,
          -0.039512731797237334,
          -0.15152265482386013,
          -0.4053422246549689,
          1.091898283200699,
          0.3523894167516524,
          -0.8234261540482228,
          -0.3877115538256855,
          2.334372769081094,
          -1.2790254406427777,
          -0.05124559254107892,
          1.6034395642054087,
          -0.9702203612312997,
          -2.986537403890035,
          0.8768333360508807,
          -1.0955398315132059,
          -1.3184810057926308,
          0.4811947683684202,
          -0.9413875287749689,
          -0.09428344821563733,
          0.24313378679796052,
          -0.8705367986795014,
          0.33500633048508377,
          -0.23050141623667522,
          -0.4987736876364225,
          1.7595674249869988,
          -1.371365312362017,
          1.5153198832203851,
          -2.136172527562396,
          0.13909291969410825,
          -0.6749023176385337,
          0.280617133701145,
          -1.8513701473257176,
          -0.6285511875260519,
          1.0104658535811069,
          -0.005853284057386029,
          0.1096869174311675,
          -0.9210250890711749,
          1.7413864500446388,
          0.660042296473798,
          -1.3547562182632082,
          -0.9333532783173327,
          -0.1645621664866537,
          0.08988391435312298,
          -0.3005702765173331
         ],
         "yaxis": "y9"
        },
        {
         "line": {
          "color": "rgba(128, 128, 128, 1.0)",
          "dash": "solid",
          "shape": "linear",
          "width": 1.3
         },
         "marker": {
          "size": 2,
          "symbol": "circle"
         },
         "mode": "markers",
         "name": "C",
         "text": "",
         "type": "scatter",
         "x": [
          0.877873119201991,
          -0.8871864835711982,
          -0.8779365085710115,
          0.16707982521148182,
          0.9770570964405164,
          -1.0210807539641042,
          -0.21179137664286418,
          -0.025274265344616083,
          -1.1092078640172551,
          -1.1521829664006475,
          -1.0678537312032441,
          0.881399073284442,
          -1.5472658310039031,
          0.42894438694587583,
          -0.5847667949359995,
          0.5861364661033456,
          -0.04141568970211862,
          1.6330695985806374,
          0.9136833206359156,
          2.0233395926138007,
          1.101142592370221,
          -0.5682038376230117,
          0.042882304288209314,
          -0.4047854558570145,
          -0.20925108081337035,
          0.7529358997543051,
          0.7407450265436628,
          -1.3607933912602541,
          0.3411301947962091,
          1.3151839384818036,
          0.3575314753592644,
          -1.3118340501498933,
          1.4279165133867213,
          -0.2559157130428562,
          0.4464527395079081,
          0.6658948694956442,
          0.7259355144620822,
          0.8235263881423511,
          -0.08484654956607927,
          1.8343974103662948,
          -0.4713263219195928,
          -0.8960723024860888,
          -0.30064987887889344,
          -0.4316502480055467,
          0.2857158451321729,
          -0.5736274210697178,
          2.5697362447985554,
          0.6277843390429633,
          -0.49445184097626804,
          0.8499163415546525,
          1.5785939994794886,
          -0.9821279273371802,
          -0.4739870836956822,
          -1.3416687809494725,
          0.984719136622916,
          -0.2741650591388619,
          1.4972102529508924,
          0.17436161357051014,
          -0.7460530393643999,
          0.4081345878441793,
          0.7508643479924706,
          0.007458631298474343,
          -2.356211944871521,
          1.2434124482978255,
          -0.9764707565302257,
          -0.9003187532037691,
          -0.6552946312368383,
          1.01863556348232,
          2.5093706224495755,
          -0.04773433274440632,
          1.0449119076216544,
          0.408730882028547,
          -0.11919913738978115,
          0.38587853161043395,
          -1.1517321753523175,
          1.6165054269845633,
          2.320370989305167,
          -0.97030489009854,
          0.03428818309439457,
          -0.567194415289803,
          -1.6004626492305494,
          0.7941768603034315,
          0.7850386433665631,
          1.5710577492336988,
          0.5925013415374528,
          1.3388239018740202,
          -1.493035583334954,
          0.8131093233548212,
          -0.06253088379133223,
          1.0761370002087423,
          1.6009510396615159,
          1.0372091416050686,
          0.24796801351280354,
          1.1619363392738358,
          -0.3941704306660358,
          -0.7976663790741948,
          1.7838229422786538,
          -1.6143395792946713,
          0.2445066278672296,
          -0.19001794744455636
         ],
         "xaxis": "x10",
         "y": [
          -0.1949333377808265,
          1.2874718857137506,
          1.034828960634043,
          -1.250205626820457,
          -2.3140814312960223,
          0.4672105757577219,
          0.9336583380187081,
          -0.899465178637077,
          -0.23100800292281237,
          -0.4233280963663838,
          -0.8789825347499383,
          -0.23272103414254033,
          -0.687275448055291,
          -1.351898514290019,
          -0.29152858366285617,
          -0.5384074094042292,
          1.0899255578983433,
          0.3632462942202497,
          -0.31347150317497907,
          -0.6239556756762389,
          -0.5039547444225779,
          0.7470989284312591,
          0.5669270767827191,
          0.4053962663362149,
          0.7470319881233176,
          -0.7121268908435755,
          1.3781094180709663,
          0.4374773497359336,
          0.4200860244282493,
          0.7053171544932973,
          -0.6008008456387155,
          1.114826092770562,
          0.5183437897032463,
          -1.6875410078176634,
          -0.14119371767260377,
          -1.2318315718081576,
          1.094246490855967,
          -0.9357325966232735,
          -1.687124220557086,
          0.02834226044932334,
          -0.43635878228827285,
          0.19203209266547921,
          1.5017344421595056,
          -0.758789965263754,
          -0.48496529798553106,
          0.9112791466103329,
          -0.9065257161127248,
          0.15779465541686052,
          0.32598660502669086,
          -0.7494680676971873,
          0.8369842300027271,
          -0.1852978110964879,
          -0.8537190052680307,
          -1.328453836121312,
          0.8883999662666356,
          0.6745108463283488,
          -0.039512731797237334,
          -0.15152265482386013,
          -0.4053422246549689,
          1.091898283200699,
          0.3523894167516524,
          -0.8234261540482228,
          -0.3877115538256855,
          2.334372769081094,
          -1.2790254406427777,
          -0.05124559254107892,
          1.6034395642054087,
          -0.9702203612312997,
          -2.986537403890035,
          0.8768333360508807,
          -1.0955398315132059,
          -1.3184810057926308,
          0.4811947683684202,
          -0.9413875287749689,
          -0.09428344821563733,
          0.24313378679796052,
          -0.8705367986795014,
          0.33500633048508377,
          -0.23050141623667522,
          -0.4987736876364225,
          1.7595674249869988,
          -1.371365312362017,
          1.5153198832203851,
          -2.136172527562396,
          0.13909291969410825,
          -0.6749023176385337,
          0.280617133701145,
          -1.8513701473257176,
          -0.6285511875260519,
          1.0104658535811069,
          -0.005853284057386029,
          0.1096869174311675,
          -0.9210250890711749,
          1.7413864500446388,
          0.660042296473798,
          -1.3547562182632082,
          -0.9333532783173327,
          -0.1645621664866537,
          0.08988391435312298,
          -0.3005702765173331
         ],
         "yaxis": "y10"
        },
        {
         "histfunc": "count",
         "histnorm": "",
         "marker": {
          "color": "rgba(50, 171, 96, 1.0)",
          "line": {
           "color": "#4D5663",
           "width": 1.3
          }
         },
         "name": "C",
         "nbinsx": 10,
         "opacity": 0.8,
         "orientation": "v",
         "type": "histogram",
         "x": [
          -0.1949333377808265,
          1.2874718857137506,
          1.034828960634043,
          -1.250205626820457,
          -2.3140814312960223,
          0.4672105757577219,
          0.9336583380187081,
          -0.899465178637077,
          -0.23100800292281237,
          -0.4233280963663838,
          -0.8789825347499383,
          -0.23272103414254033,
          -0.687275448055291,
          -1.351898514290019,
          -0.29152858366285617,
          -0.5384074094042292,
          1.0899255578983433,
          0.3632462942202497,
          -0.31347150317497907,
          -0.6239556756762389,
          -0.5039547444225779,
          0.7470989284312591,
          0.5669270767827191,
          0.4053962663362149,
          0.7470319881233176,
          -0.7121268908435755,
          1.3781094180709663,
          0.4374773497359336,
          0.4200860244282493,
          0.7053171544932973,
          -0.6008008456387155,
          1.114826092770562,
          0.5183437897032463,
          -1.6875410078176634,
          -0.14119371767260377,
          -1.2318315718081576,
          1.094246490855967,
          -0.9357325966232735,
          -1.687124220557086,
          0.02834226044932334,
          -0.43635878228827285,
          0.19203209266547921,
          1.5017344421595056,
          -0.758789965263754,
          -0.48496529798553106,
          0.9112791466103329,
          -0.9065257161127248,
          0.15779465541686052,
          0.32598660502669086,
          -0.7494680676971873,
          0.8369842300027271,
          -0.1852978110964879,
          -0.8537190052680307,
          -1.328453836121312,
          0.8883999662666356,
          0.6745108463283488,
          -0.039512731797237334,
          -0.15152265482386013,
          -0.4053422246549689,
          1.091898283200699,
          0.3523894167516524,
          -0.8234261540482228,
          -0.3877115538256855,
          2.334372769081094,
          -1.2790254406427777,
          -0.05124559254107892,
          1.6034395642054087,
          -0.9702203612312997,
          -2.986537403890035,
          0.8768333360508807,
          -1.0955398315132059,
          -1.3184810057926308,
          0.4811947683684202,
          -0.9413875287749689,
          -0.09428344821563733,
          0.24313378679796052,
          -0.8705367986795014,
          0.33500633048508377,
          -0.23050141623667522,
          -0.4987736876364225,
          1.7595674249869988,
          -1.371365312362017,
          1.5153198832203851,
          -2.136172527562396,
          0.13909291969410825,
          -0.6749023176385337,
          0.280617133701145,
          -1.8513701473257176,
          -0.6285511875260519,
          1.0104658535811069,
          -0.005853284057386029,
          0.1096869174311675,
          -0.9210250890711749,
          1.7413864500446388,
          0.660042296473798,
          -1.3547562182632082,
          -0.9333532783173327,
          -0.1645621664866537,
          0.08988391435312298,
          -0.3005702765173331
         ],
         "xaxis": "x11",
         "yaxis": "y11"
        },
        {
         "line": {
          "color": "rgba(128, 128, 128, 1.0)",
          "dash": "solid",
          "shape": "linear",
          "width": 1.3
         },
         "marker": {
          "size": 2,
          "symbol": "circle"
         },
         "mode": "markers",
         "name": "C",
         "text": "",
         "type": "scatter",
         "x": [
          -0.08270575823628525,
          0.5721288881350668,
          1.0693127747928544,
          1.5534994107776754,
          0.19406633148953562,
          -0.26233500689833983,
          1.5655280754438046,
          -0.18114075584586906,
          -0.009619968905033204,
          -0.9027686346935858,
          -0.214812512368609,
          -0.7364379842187003,
          -0.19198476000138007,
          0.18702643707197159,
          0.0433781027486577,
          -0.29137810972437495,
          -1.1978306132083452,
          0.41923085497089585,
          -0.31918684064943975,
          1.128602606672595,
          -1.7825520771222159,
          0.6030731735378128,
          -0.3564898191817619,
          -1.7844575714167668,
          -1.5335276217022513,
          -0.23179194788496277,
          1.0021641098970262,
          -0.6909673306044203,
          -1.6223983671173798,
          0.9163321161767722,
          -0.16823263095738714,
          -0.08943816895035614,
          0.29775873555054044,
          0.12574099999810487,
          -0.09456630256447097,
          -0.6611620609872069,
          0.21652645180452904,
          0.7244403439630475,
          0.6954520634005963,
          -1.5499491574713065,
          0.11562111541713081,
          -1.1221872789710325,
          1.6563204328441237,
          0.2952248151470929,
          -1.5686691986603534,
          -0.013048810598643025,
          -0.0742857139038019,
          0.7150980179301154,
          -0.7395795234598608,
          0.5989185284645229,
          -0.3093583703760894,
          -0.5115294388754472,
          -0.2561361894198458,
          -1.4477826014600563,
          0.5220337678598486,
          -2.0151186397299794,
          0.5886751789306843,
          -0.2327764475170766,
          0.5212684750945968,
          -0.3863966203198103,
          1.104088962904185,
          1.7129532254736584,
          0.44128179880332474,
          0.14979679828882936,
          -0.2519819766582173,
          0.6073456327874504,
          0.5990539129529934,
          0.41172165954198053,
          -0.93461312400278,
          1.6191205319381616,
          -0.7132980745026403,
          -0.6055073499449021,
          0.43331854221063015,
          1.312027745736751,
          0.22528511601214957,
          1.6434145615909932,
          0.3924455136917064,
          -0.44644815502010077,
          0.3990194329299282,
          0.3291683995399519,
          -0.9125345281980742,
          0.3008990483570197,
          0.10284225567393888,
          0.45990273680458116,
          0.5490036543010519,
          -0.5263979924439908,
          -0.9350994613038845,
          1.418678192436831,
          -0.3039213118658567,
          -1.3956681081474906,
          0.3520550174745357,
          -0.9795833300527587,
          0.7951530232992107,
          -1.1695000184850353,
          -1.9272619586717148,
          -0.7952510560311679,
          -1.146988594289629,
          -0.18338757979591955,
          -0.3083681940970879,
          -0.23394117014428933
         ],
         "xaxis": "x12",
         "y": [
          -0.1949333377808265,
          1.2874718857137506,
          1.034828960634043,
          -1.250205626820457,
          -2.3140814312960223,
          0.4672105757577219,
          0.9336583380187081,
          -0.899465178637077,
          -0.23100800292281237,
          -0.4233280963663838,
          -0.8789825347499383,
          -0.23272103414254033,
          -0.687275448055291,
          -1.351898514290019,
          -0.29152858366285617,
          -0.5384074094042292,
          1.0899255578983433,
          0.3632462942202497,
          -0.31347150317497907,
          -0.6239556756762389,
          -0.5039547444225779,
          0.7470989284312591,
          0.5669270767827191,
          0.4053962663362149,
          0.7470319881233176,
          -0.7121268908435755,
          1.3781094180709663,
          0.4374773497359336,
          0.4200860244282493,
          0.7053171544932973,
          -0.6008008456387155,
          1.114826092770562,
          0.5183437897032463,
          -1.6875410078176634,
          -0.14119371767260377,
          -1.2318315718081576,
          1.094246490855967,
          -0.9357325966232735,
          -1.687124220557086,
          0.02834226044932334,
          -0.43635878228827285,
          0.19203209266547921,
          1.5017344421595056,
          -0.758789965263754,
          -0.48496529798553106,
          0.9112791466103329,
          -0.9065257161127248,
          0.15779465541686052,
          0.32598660502669086,
          -0.7494680676971873,
          0.8369842300027271,
          -0.1852978110964879,
          -0.8537190052680307,
          -1.328453836121312,
          0.8883999662666356,
          0.6745108463283488,
          -0.039512731797237334,
          -0.15152265482386013,
          -0.4053422246549689,
          1.091898283200699,
          0.3523894167516524,
          -0.8234261540482228,
          -0.3877115538256855,
          2.334372769081094,
          -1.2790254406427777,
          -0.05124559254107892,
          1.6034395642054087,
          -0.9702203612312997,
          -2.986537403890035,
          0.8768333360508807,
          -1.0955398315132059,
          -1.3184810057926308,
          0.4811947683684202,
          -0.9413875287749689,
          -0.09428344821563733,
          0.24313378679796052,
          -0.8705367986795014,
          0.33500633048508377,
          -0.23050141623667522,
          -0.4987736876364225,
          1.7595674249869988,
          -1.371365312362017,
          1.5153198832203851,
          -2.136172527562396,
          0.13909291969410825,
          -0.6749023176385337,
          0.280617133701145,
          -1.8513701473257176,
          -0.6285511875260519,
          1.0104658535811069,
          -0.005853284057386029,
          0.1096869174311675,
          -0.9210250890711749,
          1.7413864500446388,
          0.660042296473798,
          -1.3547562182632082,
          -0.9333532783173327,
          -0.1645621664866537,
          0.08988391435312298,
          -0.3005702765173331
         ],
         "yaxis": "y12"
        },
        {
         "line": {
          "color": "rgba(128, 128, 128, 1.0)",
          "dash": "solid",
          "shape": "linear",
          "width": 1.3
         },
         "marker": {
          "size": 2,
          "symbol": "circle"
         },
         "mode": "markers",
         "name": "D",
         "text": "",
         "type": "scatter",
         "x": [
          -0.13332898728486217,
          0.6049162173562118,
          -0.16177503105113158,
          0.2904262389514051,
          1.1562838099089574,
          -1.1848532417977728,
          0.8982273761327372,
          0.028278257948029965,
          -0.9868512173336761,
          0.6840821635822759,
          -0.7608168905347923,
          -0.4849772912292263,
          1.4103246726026462,
          -0.8217680536926046,
          -0.10584387485756273,
          0.0915326999720717,
          1.5868812487818433,
          1.4610332716855279,
          -0.296010479607427,
          -1.636326733107384,
          -0.494075647778116,
          1.254407911954291,
          -1.3259794161261163,
          0.46662695049174047,
          0.9930619033922193,
          -0.5176556953346497,
          0.4923565746528598,
          -0.30148014268246154,
          -0.4809887648149414,
          0.4820761832548575,
          0.9795666811263533,
          0.2290842534017007,
          0.36752354492950984,
          0.6168940590624284,
          0.4114722975292953,
          -0.20855183114206602,
          1.132181985806202,
          0.9935469114025697,
          0.016836190438973112,
          0.961885915997291,
          -1.783903976137237,
          -0.9587206963745689,
          -1.5379896533002744,
          -0.7128492071354146,
          -0.42738557738685895,
          0.4026918235878419,
          1.1185123034948807,
          1.1653431112356398,
          0.5260806281991431,
          0.2603131849043691,
          1.1467886882959684,
          -0.40965228755670074,
          0.7133917959352619,
          1.1250831270878798,
          0.817216553655222,
          1.4917512529186387,
          -0.5125131549706918,
          0.14776577406804275,
          0.21713674429031635,
          0.5477373667964758,
          -0.08254668451697868,
          -0.750904913226693,
          -0.48210838498018804,
          0.9105294888876799,
          0.8690776970323018,
          -0.95756608003841,
          -0.6806140558632705,
          -0.5565517022643965,
          -0.14106813094953835,
          0.17396554387381946,
          -2.041059568986403,
          -0.06075202622890458,
          -1.2553721922271923,
          0.740004930068497,
          0.6323495961138877,
          0.3758072565623964,
          0.3121515525987599,
          1.2167344648060452,
          -0.8148129555263465,
          -1.0423994099522742,
          -1.053758446029795,
          1.0591205959040673,
          0.624547701537553,
          0.4113627954704313,
          1.1811178417779826,
          1.0245574869849703,
          -0.09182695658014851,
          0.12237334974580312,
          -0.8312689468801848,
          0.31971330737792997,
          0.3882652757412495,
          -0.24487556089373985,
          1.211015675419331,
          0.2265724142315915,
          -0.6340086051558401,
          0.789035760998447,
          -0.428508620713086,
          -1.2083999122326243,
          -2.442220579365496,
          0.6181020168836062
         ],
         "xaxis": "x13",
         "y": [
          -0.08270575823628525,
          0.5721288881350668,
          1.0693127747928544,
          1.5534994107776754,
          0.19406633148953562,
          -0.26233500689833983,
          1.5655280754438046,
          -0.18114075584586906,
          -0.009619968905033204,
          -0.9027686346935858,
          -0.214812512368609,
          -0.7364379842187003,
          -0.19198476000138007,
          0.18702643707197159,
          0.0433781027486577,
          -0.29137810972437495,
          -1.1978306132083452,
          0.41923085497089585,
          -0.31918684064943975,
          1.128602606672595,
          -1.7825520771222159,
          0.6030731735378128,
          -0.3564898191817619,
          -1.7844575714167668,
          -1.5335276217022513,
          -0.23179194788496277,
          1.0021641098970262,
          -0.6909673306044203,
          -1.6223983671173798,
          0.9163321161767722,
          -0.16823263095738714,
          -0.08943816895035614,
          0.29775873555054044,
          0.12574099999810487,
          -0.09456630256447097,
          -0.6611620609872069,
          0.21652645180452904,
          0.7244403439630475,
          0.6954520634005963,
          -1.5499491574713065,
          0.11562111541713081,
          -1.1221872789710325,
          1.6563204328441237,
          0.2952248151470929,
          -1.5686691986603534,
          -0.013048810598643025,
          -0.0742857139038019,
          0.7150980179301154,
          -0.7395795234598608,
          0.5989185284645229,
          -0.3093583703760894,
          -0.5115294388754472,
          -0.2561361894198458,
          -1.4477826014600563,
          0.5220337678598486,
          -2.0151186397299794,
          0.5886751789306843,
          -0.2327764475170766,
          0.5212684750945968,
          -0.3863966203198103,
          1.104088962904185,
          1.7129532254736584,
          0.44128179880332474,
          0.14979679828882936,
          -0.2519819766582173,
          0.6073456327874504,
          0.5990539129529934,
          0.41172165954198053,
          -0.93461312400278,
          1.6191205319381616,
          -0.7132980745026403,
          -0.6055073499449021,
          0.43331854221063015,
          1.312027745736751,
          0.22528511601214957,
          1.6434145615909932,
          0.3924455136917064,
          -0.44644815502010077,
          0.3990194329299282,
          0.3291683995399519,
          -0.9125345281980742,
          0.3008990483570197,
          0.10284225567393888,
          0.45990273680458116,
          0.5490036543010519,
          -0.5263979924439908,
          -0.9350994613038845,
          1.418678192436831,
          -0.3039213118658567,
          -1.3956681081474906,
          0.3520550174745357,
          -0.9795833300527587,
          0.7951530232992107,
          -1.1695000184850353,
          -1.9272619586717148,
          -0.7952510560311679,
          -1.146988594289629,
          -0.18338757979591955,
          -0.3083681940970879,
          -0.23394117014428933
         ],
         "yaxis": "y13"
        },
        {
         "line": {
          "color": "rgba(128, 128, 128, 1.0)",
          "dash": "solid",
          "shape": "linear",
          "width": 1.3
         },
         "marker": {
          "size": 2,
          "symbol": "circle"
         },
         "mode": "markers",
         "name": "D",
         "text": "",
         "type": "scatter",
         "x": [
          0.877873119201991,
          -0.8871864835711982,
          -0.8779365085710115,
          0.16707982521148182,
          0.9770570964405164,
          -1.0210807539641042,
          -0.21179137664286418,
          -0.025274265344616083,
          -1.1092078640172551,
          -1.1521829664006475,
          -1.0678537312032441,
          0.881399073284442,
          -1.5472658310039031,
          0.42894438694587583,
          -0.5847667949359995,
          0.5861364661033456,
          -0.04141568970211862,
          1.6330695985806374,
          0.9136833206359156,
          2.0233395926138007,
          1.101142592370221,
          -0.5682038376230117,
          0.042882304288209314,
          -0.4047854558570145,
          -0.20925108081337035,
          0.7529358997543051,
          0.7407450265436628,
          -1.3607933912602541,
          0.3411301947962091,
          1.3151839384818036,
          0.3575314753592644,
          -1.3118340501498933,
          1.4279165133867213,
          -0.2559157130428562,
          0.4464527395079081,
          0.6658948694956442,
          0.7259355144620822,
          0.8235263881423511,
          -0.08484654956607927,
          1.8343974103662948,
          -0.4713263219195928,
          -0.8960723024860888,
          -0.30064987887889344,
          -0.4316502480055467,
          0.2857158451321729,
          -0.5736274210697178,
          2.5697362447985554,
          0.6277843390429633,
          -0.49445184097626804,
          0.8499163415546525,
          1.5785939994794886,
          -0.9821279273371802,
          -0.4739870836956822,
          -1.3416687809494725,
          0.984719136622916,
          -0.2741650591388619,
          1.4972102529508924,
          0.17436161357051014,
          -0.7460530393643999,
          0.4081345878441793,
          0.7508643479924706,
          0.007458631298474343,
          -2.356211944871521,
          1.2434124482978255,
          -0.9764707565302257,
          -0.9003187532037691,
          -0.6552946312368383,
          1.01863556348232,
          2.5093706224495755,
          -0.04773433274440632,
          1.0449119076216544,
          0.408730882028547,
          -0.11919913738978115,
          0.38587853161043395,
          -1.1517321753523175,
          1.6165054269845633,
          2.320370989305167,
          -0.97030489009854,
          0.03428818309439457,
          -0.567194415289803,
          -1.6004626492305494,
          0.7941768603034315,
          0.7850386433665631,
          1.5710577492336988,
          0.5925013415374528,
          1.3388239018740202,
          -1.493035583334954,
          0.8131093233548212,
          -0.06253088379133223,
          1.0761370002087423,
          1.6009510396615159,
          1.0372091416050686,
          0.24796801351280354,
          1.1619363392738358,
          -0.3941704306660358,
          -0.7976663790741948,
          1.7838229422786538,
          -1.6143395792946713,
          0.2445066278672296,
          -0.19001794744455636
         ],
         "xaxis": "x14",
         "y": [
          -0.08270575823628525,
          0.5721288881350668,
          1.0693127747928544,
          1.5534994107776754,
          0.19406633148953562,
          -0.26233500689833983,
          1.5655280754438046,
          -0.18114075584586906,
          -0.009619968905033204,
          -0.9027686346935858,
          -0.214812512368609,
          -0.7364379842187003,
          -0.19198476000138007,
          0.18702643707197159,
          0.0433781027486577,
          -0.29137810972437495,
          -1.1978306132083452,
          0.41923085497089585,
          -0.31918684064943975,
          1.128602606672595,
          -1.7825520771222159,
          0.6030731735378128,
          -0.3564898191817619,
          -1.7844575714167668,
          -1.5335276217022513,
          -0.23179194788496277,
          1.0021641098970262,
          -0.6909673306044203,
          -1.6223983671173798,
          0.9163321161767722,
          -0.16823263095738714,
          -0.08943816895035614,
          0.29775873555054044,
          0.12574099999810487,
          -0.09456630256447097,
          -0.6611620609872069,
          0.21652645180452904,
          0.7244403439630475,
          0.6954520634005963,
          -1.5499491574713065,
          0.11562111541713081,
          -1.1221872789710325,
          1.6563204328441237,
          0.2952248151470929,
          -1.5686691986603534,
          -0.013048810598643025,
          -0.0742857139038019,
          0.7150980179301154,
          -0.7395795234598608,
          0.5989185284645229,
          -0.3093583703760894,
          -0.5115294388754472,
          -0.2561361894198458,
          -1.4477826014600563,
          0.5220337678598486,
          -2.0151186397299794,
          0.5886751789306843,
          -0.2327764475170766,
          0.5212684750945968,
          -0.3863966203198103,
          1.104088962904185,
          1.7129532254736584,
          0.44128179880332474,
          0.14979679828882936,
          -0.2519819766582173,
          0.6073456327874504,
          0.5990539129529934,
          0.41172165954198053,
          -0.93461312400278,
          1.6191205319381616,
          -0.7132980745026403,
          -0.6055073499449021,
          0.43331854221063015,
          1.312027745736751,
          0.22528511601214957,
          1.6434145615909932,
          0.3924455136917064,
          -0.44644815502010077,
          0.3990194329299282,
          0.3291683995399519,
          -0.9125345281980742,
          0.3008990483570197,
          0.10284225567393888,
          0.45990273680458116,
          0.5490036543010519,
          -0.5263979924439908,
          -0.9350994613038845,
          1.418678192436831,
          -0.3039213118658567,
          -1.3956681081474906,
          0.3520550174745357,
          -0.9795833300527587,
          0.7951530232992107,
          -1.1695000184850353,
          -1.9272619586717148,
          -0.7952510560311679,
          -1.146988594289629,
          -0.18338757979591955,
          -0.3083681940970879,
          -0.23394117014428933
         ],
         "yaxis": "y14"
        },
        {
         "line": {
          "color": "rgba(128, 128, 128, 1.0)",
          "dash": "solid",
          "shape": "linear",
          "width": 1.3
         },
         "marker": {
          "size": 2,
          "symbol": "circle"
         },
         "mode": "markers",
         "name": "D",
         "text": "",
         "type": "scatter",
         "x": [
          -0.1949333377808265,
          1.2874718857137506,
          1.034828960634043,
          -1.250205626820457,
          -2.3140814312960223,
          0.4672105757577219,
          0.9336583380187081,
          -0.899465178637077,
          -0.23100800292281237,
          -0.4233280963663838,
          -0.8789825347499383,
          -0.23272103414254033,
          -0.687275448055291,
          -1.351898514290019,
          -0.29152858366285617,
          -0.5384074094042292,
          1.0899255578983433,
          0.3632462942202497,
          -0.31347150317497907,
          -0.6239556756762389,
          -0.5039547444225779,
          0.7470989284312591,
          0.5669270767827191,
          0.4053962663362149,
          0.7470319881233176,
          -0.7121268908435755,
          1.3781094180709663,
          0.4374773497359336,
          0.4200860244282493,
          0.7053171544932973,
          -0.6008008456387155,
          1.114826092770562,
          0.5183437897032463,
          -1.6875410078176634,
          -0.14119371767260377,
          -1.2318315718081576,
          1.094246490855967,
          -0.9357325966232735,
          -1.687124220557086,
          0.02834226044932334,
          -0.43635878228827285,
          0.19203209266547921,
          1.5017344421595056,
          -0.758789965263754,
          -0.48496529798553106,
          0.9112791466103329,
          -0.9065257161127248,
          0.15779465541686052,
          0.32598660502669086,
          -0.7494680676971873,
          0.8369842300027271,
          -0.1852978110964879,
          -0.8537190052680307,
          -1.328453836121312,
          0.8883999662666356,
          0.6745108463283488,
          -0.039512731797237334,
          -0.15152265482386013,
          -0.4053422246549689,
          1.091898283200699,
          0.3523894167516524,
          -0.8234261540482228,
          -0.3877115538256855,
          2.334372769081094,
          -1.2790254406427777,
          -0.05124559254107892,
          1.6034395642054087,
          -0.9702203612312997,
          -2.986537403890035,
          0.8768333360508807,
          -1.0955398315132059,
          -1.3184810057926308,
          0.4811947683684202,
          -0.9413875287749689,
          -0.09428344821563733,
          0.24313378679796052,
          -0.8705367986795014,
          0.33500633048508377,
          -0.23050141623667522,
          -0.4987736876364225,
          1.7595674249869988,
          -1.371365312362017,
          1.5153198832203851,
          -2.136172527562396,
          0.13909291969410825,
          -0.6749023176385337,
          0.280617133701145,
          -1.8513701473257176,
          -0.6285511875260519,
          1.0104658535811069,
          -0.005853284057386029,
          0.1096869174311675,
          -0.9210250890711749,
          1.7413864500446388,
          0.660042296473798,
          -1.3547562182632082,
          -0.9333532783173327,
          -0.1645621664866537,
          0.08988391435312298,
          -0.3005702765173331
         ],
         "xaxis": "x15",
         "y": [
          -0.08270575823628525,
          0.5721288881350668,
          1.0693127747928544,
          1.5534994107776754,
          0.19406633148953562,
          -0.26233500689833983,
          1.5655280754438046,
          -0.18114075584586906,
          -0.009619968905033204,
          -0.9027686346935858,
          -0.214812512368609,
          -0.7364379842187003,
          -0.19198476000138007,
          0.18702643707197159,
          0.0433781027486577,
          -0.29137810972437495,
          -1.1978306132083452,
          0.41923085497089585,
          -0.31918684064943975,
          1.128602606672595,
          -1.7825520771222159,
          0.6030731735378128,
          -0.3564898191817619,
          -1.7844575714167668,
          -1.5335276217022513,
          -0.23179194788496277,
          1.0021641098970262,
          -0.6909673306044203,
          -1.6223983671173798,
          0.9163321161767722,
          -0.16823263095738714,
          -0.08943816895035614,
          0.29775873555054044,
          0.12574099999810487,
          -0.09456630256447097,
          -0.6611620609872069,
          0.21652645180452904,
          0.7244403439630475,
          0.6954520634005963,
          -1.5499491574713065,
          0.11562111541713081,
          -1.1221872789710325,
          1.6563204328441237,
          0.2952248151470929,
          -1.5686691986603534,
          -0.013048810598643025,
          -0.0742857139038019,
          0.7150980179301154,
          -0.7395795234598608,
          0.5989185284645229,
          -0.3093583703760894,
          -0.5115294388754472,
          -0.2561361894198458,
          -1.4477826014600563,
          0.5220337678598486,
          -2.0151186397299794,
          0.5886751789306843,
          -0.2327764475170766,
          0.5212684750945968,
          -0.3863966203198103,
          1.104088962904185,
          1.7129532254736584,
          0.44128179880332474,
          0.14979679828882936,
          -0.2519819766582173,
          0.6073456327874504,
          0.5990539129529934,
          0.41172165954198053,
          -0.93461312400278,
          1.6191205319381616,
          -0.7132980745026403,
          -0.6055073499449021,
          0.43331854221063015,
          1.312027745736751,
          0.22528511601214957,
          1.6434145615909932,
          0.3924455136917064,
          -0.44644815502010077,
          0.3990194329299282,
          0.3291683995399519,
          -0.9125345281980742,
          0.3008990483570197,
          0.10284225567393888,
          0.45990273680458116,
          0.5490036543010519,
          -0.5263979924439908,
          -0.9350994613038845,
          1.418678192436831,
          -0.3039213118658567,
          -1.3956681081474906,
          0.3520550174745357,
          -0.9795833300527587,
          0.7951530232992107,
          -1.1695000184850353,
          -1.9272619586717148,
          -0.7952510560311679,
          -1.146988594289629,
          -0.18338757979591955,
          -0.3083681940970879,
          -0.23394117014428933
         ],
         "yaxis": "y15"
        },
        {
         "histfunc": "count",
         "histnorm": "",
         "marker": {
          "color": "rgba(128, 0, 128, 1.0)",
          "line": {
           "color": "#4D5663",
           "width": 1.3
          }
         },
         "name": "D",
         "nbinsx": 10,
         "opacity": 0.8,
         "orientation": "v",
         "type": "histogram",
         "x": [
          -0.08270575823628525,
          0.5721288881350668,
          1.0693127747928544,
          1.5534994107776754,
          0.19406633148953562,
          -0.26233500689833983,
          1.5655280754438046,
          -0.18114075584586906,
          -0.009619968905033204,
          -0.9027686346935858,
          -0.214812512368609,
          -0.7364379842187003,
          -0.19198476000138007,
          0.18702643707197159,
          0.0433781027486577,
          -0.29137810972437495,
          -1.1978306132083452,
          0.41923085497089585,
          -0.31918684064943975,
          1.128602606672595,
          -1.7825520771222159,
          0.6030731735378128,
          -0.3564898191817619,
          -1.7844575714167668,
          -1.5335276217022513,
          -0.23179194788496277,
          1.0021641098970262,
          -0.6909673306044203,
          -1.6223983671173798,
          0.9163321161767722,
          -0.16823263095738714,
          -0.08943816895035614,
          0.29775873555054044,
          0.12574099999810487,
          -0.09456630256447097,
          -0.6611620609872069,
          0.21652645180452904,
          0.7244403439630475,
          0.6954520634005963,
          -1.5499491574713065,
          0.11562111541713081,
          -1.1221872789710325,
          1.6563204328441237,
          0.2952248151470929,
          -1.5686691986603534,
          -0.013048810598643025,
          -0.0742857139038019,
          0.7150980179301154,
          -0.7395795234598608,
          0.5989185284645229,
          -0.3093583703760894,
          -0.5115294388754472,
          -0.2561361894198458,
          -1.4477826014600563,
          0.5220337678598486,
          -2.0151186397299794,
          0.5886751789306843,
          -0.2327764475170766,
          0.5212684750945968,
          -0.3863966203198103,
          1.104088962904185,
          1.7129532254736584,
          0.44128179880332474,
          0.14979679828882936,
          -0.2519819766582173,
          0.6073456327874504,
          0.5990539129529934,
          0.41172165954198053,
          -0.93461312400278,
          1.6191205319381616,
          -0.7132980745026403,
          -0.6055073499449021,
          0.43331854221063015,
          1.312027745736751,
          0.22528511601214957,
          1.6434145615909932,
          0.3924455136917064,
          -0.44644815502010077,
          0.3990194329299282,
          0.3291683995399519,
          -0.9125345281980742,
          0.3008990483570197,
          0.10284225567393888,
          0.45990273680458116,
          0.5490036543010519,
          -0.5263979924439908,
          -0.9350994613038845,
          1.418678192436831,
          -0.3039213118658567,
          -1.3956681081474906,
          0.3520550174745357,
          -0.9795833300527587,
          0.7951530232992107,
          -1.1695000184850353,
          -1.9272619586717148,
          -0.7952510560311679,
          -1.146988594289629,
          -0.18338757979591955,
          -0.3083681940970879,
          -0.23394117014428933
         ],
         "xaxis": "x16",
         "yaxis": "y16"
        }
       ],
       "layout": {
        "bargap": 0.02,
        "legend": {
         "bgcolor": "#F5F6F9",
         "font": {
          "color": "#4D5663"
         }
        },
        "paper_bgcolor": "#F5F6F9",
        "plot_bgcolor": "#F5F6F9",
        "showlegend": false,
        "template": {
         "data": {
          "bar": [
           {
            "error_x": {
             "color": "#2a3f5f"
            },
            "error_y": {
             "color": "#2a3f5f"
            },
            "marker": {
             "line": {
              "color": "#E5ECF6",
              "width": 0.5
             }
            },
            "type": "bar"
           }
          ],
          "barpolar": [
           {
            "marker": {
             "line": {
              "color": "#E5ECF6",
              "width": 0.5
             }
            },
            "type": "barpolar"
           }
          ],
          "carpet": [
           {
            "aaxis": {
             "endlinecolor": "#2a3f5f",
             "gridcolor": "white",
             "linecolor": "white",
             "minorgridcolor": "white",
             "startlinecolor": "#2a3f5f"
            },
            "baxis": {
             "endlinecolor": "#2a3f5f",
             "gridcolor": "white",
             "linecolor": "white",
             "minorgridcolor": "white",
             "startlinecolor": "#2a3f5f"
            },
            "type": "carpet"
           }
          ],
          "choropleth": [
           {
            "colorbar": {
             "outlinewidth": 0,
             "ticks": ""
            },
            "type": "choropleth"
           }
          ],
          "contour": [
           {
            "colorbar": {
             "outlinewidth": 0,
             "ticks": ""
            },
            "colorscale": [
             [
              0,
              "#0d0887"
             ],
             [
              0.1111111111111111,
              "#46039f"
             ],
             [
              0.2222222222222222,
              "#7201a8"
             ],
             [
              0.3333333333333333,
              "#9c179e"
             ],
             [
              0.4444444444444444,
              "#bd3786"
             ],
             [
              0.5555555555555556,
              "#d8576b"
             ],
             [
              0.6666666666666666,
              "#ed7953"
             ],
             [
              0.7777777777777778,
              "#fb9f3a"
             ],
             [
              0.8888888888888888,
              "#fdca26"
             ],
             [
              1,
              "#f0f921"
             ]
            ],
            "type": "contour"
           }
          ],
          "contourcarpet": [
           {
            "colorbar": {
             "outlinewidth": 0,
             "ticks": ""
            },
            "type": "contourcarpet"
           }
          ],
          "heatmap": [
           {
            "colorbar": {
             "outlinewidth": 0,
             "ticks": ""
            },
            "colorscale": [
             [
              0,
              "#0d0887"
             ],
             [
              0.1111111111111111,
              "#46039f"
             ],
             [
              0.2222222222222222,
              "#7201a8"
             ],
             [
              0.3333333333333333,
              "#9c179e"
             ],
             [
              0.4444444444444444,
              "#bd3786"
             ],
             [
              0.5555555555555556,
              "#d8576b"
             ],
             [
              0.6666666666666666,
              "#ed7953"
             ],
             [
              0.7777777777777778,
              "#fb9f3a"
             ],
             [
              0.8888888888888888,
              "#fdca26"
             ],
             [
              1,
              "#f0f921"
             ]
            ],
            "type": "heatmap"
           }
          ],
          "heatmapgl": [
           {
            "colorbar": {
             "outlinewidth": 0,
             "ticks": ""
            },
            "colorscale": [
             [
              0,
              "#0d0887"
             ],
             [
              0.1111111111111111,
              "#46039f"
             ],
             [
              0.2222222222222222,
              "#7201a8"
             ],
             [
              0.3333333333333333,
              "#9c179e"
             ],
             [
              0.4444444444444444,
              "#bd3786"
             ],
             [
              0.5555555555555556,
              "#d8576b"
             ],
             [
              0.6666666666666666,
              "#ed7953"
             ],
             [
              0.7777777777777778,
              "#fb9f3a"
             ],
             [
              0.8888888888888888,
              "#fdca26"
             ],
             [
              1,
              "#f0f921"
             ]
            ],
            "type": "heatmapgl"
           }
          ],
          "histogram": [
           {
            "marker": {
             "colorbar": {
              "outlinewidth": 0,
              "ticks": ""
             }
            },
            "type": "histogram"
           }
          ],
          "histogram2d": [
           {
            "colorbar": {
             "outlinewidth": 0,
             "ticks": ""
            },
            "colorscale": [
             [
              0,
              "#0d0887"
             ],
             [
              0.1111111111111111,
              "#46039f"
             ],
             [
              0.2222222222222222,
              "#7201a8"
             ],
             [
              0.3333333333333333,
              "#9c179e"
             ],
             [
              0.4444444444444444,
              "#bd3786"
             ],
             [
              0.5555555555555556,
              "#d8576b"
             ],
             [
              0.6666666666666666,
              "#ed7953"
             ],
             [
              0.7777777777777778,
              "#fb9f3a"
             ],
             [
              0.8888888888888888,
              "#fdca26"
             ],
             [
              1,
              "#f0f921"
             ]
            ],
            "type": "histogram2d"
           }
          ],
          "histogram2dcontour": [
           {
            "colorbar": {
             "outlinewidth": 0,
             "ticks": ""
            },
            "colorscale": [
             [
              0,
              "#0d0887"
             ],
             [
              0.1111111111111111,
              "#46039f"
             ],
             [
              0.2222222222222222,
              "#7201a8"
             ],
             [
              0.3333333333333333,
              "#9c179e"
             ],
             [
              0.4444444444444444,
              "#bd3786"
             ],
             [
              0.5555555555555556,
              "#d8576b"
             ],
             [
              0.6666666666666666,
              "#ed7953"
             ],
             [
              0.7777777777777778,
              "#fb9f3a"
             ],
             [
              0.8888888888888888,
              "#fdca26"
             ],
             [
              1,
              "#f0f921"
             ]
            ],
            "type": "histogram2dcontour"
           }
          ],
          "mesh3d": [
           {
            "colorbar": {
             "outlinewidth": 0,
             "ticks": ""
            },
            "type": "mesh3d"
           }
          ],
          "parcoords": [
           {
            "line": {
             "colorbar": {
              "outlinewidth": 0,
              "ticks": ""
             }
            },
            "type": "parcoords"
           }
          ],
          "pie": [
           {
            "automargin": true,
            "type": "pie"
           }
          ],
          "scatter": [
           {
            "marker": {
             "colorbar": {
              "outlinewidth": 0,
              "ticks": ""
             }
            },
            "type": "scatter"
           }
          ],
          "scatter3d": [
           {
            "line": {
             "colorbar": {
              "outlinewidth": 0,
              "ticks": ""
             }
            },
            "marker": {
             "colorbar": {
              "outlinewidth": 0,
              "ticks": ""
             }
            },
            "type": "scatter3d"
           }
          ],
          "scattercarpet": [
           {
            "marker": {
             "colorbar": {
              "outlinewidth": 0,
              "ticks": ""
             }
            },
            "type": "scattercarpet"
           }
          ],
          "scattergeo": [
           {
            "marker": {
             "colorbar": {
              "outlinewidth": 0,
              "ticks": ""
             }
            },
            "type": "scattergeo"
           }
          ],
          "scattergl": [
           {
            "marker": {
             "colorbar": {
              "outlinewidth": 0,
              "ticks": ""
             }
            },
            "type": "scattergl"
           }
          ],
          "scattermapbox": [
           {
            "marker": {
             "colorbar": {
              "outlinewidth": 0,
              "ticks": ""
             }
            },
            "type": "scattermapbox"
           }
          ],
          "scatterpolar": [
           {
            "marker": {
             "colorbar": {
              "outlinewidth": 0,
              "ticks": ""
             }
            },
            "type": "scatterpolar"
           }
          ],
          "scatterpolargl": [
           {
            "marker": {
             "colorbar": {
              "outlinewidth": 0,
              "ticks": ""
             }
            },
            "type": "scatterpolargl"
           }
          ],
          "scatterternary": [
           {
            "marker": {
             "colorbar": {
              "outlinewidth": 0,
              "ticks": ""
             }
            },
            "type": "scatterternary"
           }
          ],
          "surface": [
           {
            "colorbar": {
             "outlinewidth": 0,
             "ticks": ""
            },
            "colorscale": [
             [
              0,
              "#0d0887"
             ],
             [
              0.1111111111111111,
              "#46039f"
             ],
             [
              0.2222222222222222,
              "#7201a8"
             ],
             [
              0.3333333333333333,
              "#9c179e"
             ],
             [
              0.4444444444444444,
              "#bd3786"
             ],
             [
              0.5555555555555556,
              "#d8576b"
             ],
             [
              0.6666666666666666,
              "#ed7953"
             ],
             [
              0.7777777777777778,
              "#fb9f3a"
             ],
             [
              0.8888888888888888,
              "#fdca26"
             ],
             [
              1,
              "#f0f921"
             ]
            ],
            "type": "surface"
           }
          ],
          "table": [
           {
            "cells": {
             "fill": {
              "color": "#EBF0F8"
             },
             "line": {
              "color": "white"
             }
            },
            "header": {
             "fill": {
              "color": "#C8D4E3"
             },
             "line": {
              "color": "white"
             }
            },
            "type": "table"
           }
          ]
         },
         "layout": {
          "annotationdefaults": {
           "arrowcolor": "#2a3f5f",
           "arrowhead": 0,
           "arrowwidth": 1
          },
          "coloraxis": {
           "colorbar": {
            "outlinewidth": 0,
            "ticks": ""
           }
          },
          "colorscale": {
           "diverging": [
            [
             0,
             "#8e0152"
            ],
            [
             0.1,
             "#c51b7d"
            ],
            [
             0.2,
             "#de77ae"
            ],
            [
             0.3,
             "#f1b6da"
            ],
            [
             0.4,
             "#fde0ef"
            ],
            [
             0.5,
             "#f7f7f7"
            ],
            [
             0.6,
             "#e6f5d0"
            ],
            [
             0.7,
             "#b8e186"
            ],
            [
             0.8,
             "#7fbc41"
            ],
            [
             0.9,
             "#4d9221"
            ],
            [
             1,
             "#276419"
            ]
           ],
           "sequential": [
            [
             0,
             "#0d0887"
            ],
            [
             0.1111111111111111,
             "#46039f"
            ],
            [
             0.2222222222222222,
             "#7201a8"
            ],
            [
             0.3333333333333333,
             "#9c179e"
            ],
            [
             0.4444444444444444,
             "#bd3786"
            ],
            [
             0.5555555555555556,
             "#d8576b"
            ],
            [
             0.6666666666666666,
             "#ed7953"
            ],
            [
             0.7777777777777778,
             "#fb9f3a"
            ],
            [
             0.8888888888888888,
             "#fdca26"
            ],
            [
             1,
             "#f0f921"
            ]
           ],
           "sequentialminus": [
            [
             0,
             "#0d0887"
            ],
            [
             0.1111111111111111,
             "#46039f"
            ],
            [
             0.2222222222222222,
             "#7201a8"
            ],
            [
             0.3333333333333333,
             "#9c179e"
            ],
            [
             0.4444444444444444,
             "#bd3786"
            ],
            [
             0.5555555555555556,
             "#d8576b"
            ],
            [
             0.6666666666666666,
             "#ed7953"
            ],
            [
             0.7777777777777778,
             "#fb9f3a"
            ],
            [
             0.8888888888888888,
             "#fdca26"
            ],
            [
             1,
             "#f0f921"
            ]
           ]
          },
          "colorway": [
           "#636efa",
           "#EF553B",
           "#00cc96",
           "#ab63fa",
           "#FFA15A",
           "#19d3f3",
           "#FF6692",
           "#B6E880",
           "#FF97FF",
           "#FECB52"
          ],
          "font": {
           "color": "#2a3f5f"
          },
          "geo": {
           "bgcolor": "white",
           "lakecolor": "white",
           "landcolor": "#E5ECF6",
           "showlakes": true,
           "showland": true,
           "subunitcolor": "white"
          },
          "hoverlabel": {
           "align": "left"
          },
          "hovermode": "closest",
          "mapbox": {
           "style": "light"
          },
          "paper_bgcolor": "white",
          "plot_bgcolor": "#E5ECF6",
          "polar": {
           "angularaxis": {
            "gridcolor": "white",
            "linecolor": "white",
            "ticks": ""
           },
           "bgcolor": "#E5ECF6",
           "radialaxis": {
            "gridcolor": "white",
            "linecolor": "white",
            "ticks": ""
           }
          },
          "scene": {
           "xaxis": {
            "backgroundcolor": "#E5ECF6",
            "gridcolor": "white",
            "gridwidth": 2,
            "linecolor": "white",
            "showbackground": true,
            "ticks": "",
            "zerolinecolor": "white"
           },
           "yaxis": {
            "backgroundcolor": "#E5ECF6",
            "gridcolor": "white",
            "gridwidth": 2,
            "linecolor": "white",
            "showbackground": true,
            "ticks": "",
            "zerolinecolor": "white"
           },
           "zaxis": {
            "backgroundcolor": "#E5ECF6",
            "gridcolor": "white",
            "gridwidth": 2,
            "linecolor": "white",
            "showbackground": true,
            "ticks": "",
            "zerolinecolor": "white"
           }
          },
          "shapedefaults": {
           "line": {
            "color": "#2a3f5f"
           }
          },
          "ternary": {
           "aaxis": {
            "gridcolor": "white",
            "linecolor": "white",
            "ticks": ""
           },
           "baxis": {
            "gridcolor": "white",
            "linecolor": "white",
            "ticks": ""
           },
           "bgcolor": "#E5ECF6",
           "caxis": {
            "gridcolor": "white",
            "linecolor": "white",
            "ticks": ""
           }
          },
          "title": {
           "x": 0.05
          },
          "xaxis": {
           "automargin": true,
           "gridcolor": "white",
           "linecolor": "white",
           "ticks": "",
           "title": {
            "standoff": 15
           },
           "zerolinecolor": "white",
           "zerolinewidth": 2
          },
          "yaxis": {
           "automargin": true,
           "gridcolor": "white",
           "linecolor": "white",
           "ticks": "",
           "title": {
            "standoff": 15
           },
           "zerolinecolor": "white",
           "zerolinewidth": 2
          }
         }
        },
        "title": {
         "font": {
          "color": "#4D5663"
         }
        },
        "xaxis": {
         "anchor": "y",
         "domain": [
          0,
          0.2125
         ],
         "gridcolor": "#E1E5ED",
         "showgrid": false,
         "tickfont": {
          "color": "#4D5663"
         },
         "title": {
          "font": {
           "color": "#4D5663"
          },
          "text": ""
         },
         "zerolinecolor": "#E1E5ED"
        },
        "xaxis10": {
         "anchor": "y10",
         "domain": [
          0.2625,
          0.475
         ],
         "gridcolor": "#E1E5ED",
         "showgrid": false,
         "tickfont": {
          "color": "#4D5663"
         },
         "title": {
          "font": {
           "color": "#4D5663"
          },
          "text": ""
         },
         "zerolinecolor": "#E1E5ED"
        },
        "xaxis11": {
         "anchor": "y11",
         "domain": [
          0.525,
          0.7375
         ],
         "gridcolor": "#E1E5ED",
         "showgrid": false,
         "tickfont": {
          "color": "#4D5663"
         },
         "title": {
          "font": {
           "color": "#4D5663"
          },
          "text": ""
         },
         "zerolinecolor": "#E1E5ED"
        },
        "xaxis12": {
         "anchor": "y12",
         "domain": [
          0.7875,
          1
         ],
         "gridcolor": "#E1E5ED",
         "showgrid": false,
         "tickfont": {
          "color": "#4D5663"
         },
         "title": {
          "font": {
           "color": "#4D5663"
          },
          "text": ""
         },
         "zerolinecolor": "#E1E5ED"
        },
        "xaxis13": {
         "anchor": "y13",
         "domain": [
          0,
          0.2125
         ],
         "gridcolor": "#E1E5ED",
         "showgrid": false,
         "tickfont": {
          "color": "#4D5663"
         },
         "title": {
          "font": {
           "color": "#4D5663"
          },
          "text": ""
         },
         "zerolinecolor": "#E1E5ED"
        },
        "xaxis14": {
         "anchor": "y14",
         "domain": [
          0.2625,
          0.475
         ],
         "gridcolor": "#E1E5ED",
         "showgrid": false,
         "tickfont": {
          "color": "#4D5663"
         },
         "title": {
          "font": {
           "color": "#4D5663"
          },
          "text": ""
         },
         "zerolinecolor": "#E1E5ED"
        },
        "xaxis15": {
         "anchor": "y15",
         "domain": [
          0.525,
          0.7375
         ],
         "gridcolor": "#E1E5ED",
         "showgrid": false,
         "tickfont": {
          "color": "#4D5663"
         },
         "title": {
          "font": {
           "color": "#4D5663"
          },
          "text": ""
         },
         "zerolinecolor": "#E1E5ED"
        },
        "xaxis16": {
         "anchor": "y16",
         "domain": [
          0.7875,
          1
         ],
         "gridcolor": "#E1E5ED",
         "showgrid": false,
         "tickfont": {
          "color": "#4D5663"
         },
         "title": {
          "font": {
           "color": "#4D5663"
          },
          "text": ""
         },
         "zerolinecolor": "#E1E5ED"
        },
        "xaxis2": {
         "anchor": "y2",
         "domain": [
          0.2625,
          0.475
         ],
         "gridcolor": "#E1E5ED",
         "showgrid": false,
         "tickfont": {
          "color": "#4D5663"
         },
         "title": {
          "font": {
           "color": "#4D5663"
          },
          "text": ""
         },
         "zerolinecolor": "#E1E5ED"
        },
        "xaxis3": {
         "anchor": "y3",
         "domain": [
          0.525,
          0.7375
         ],
         "gridcolor": "#E1E5ED",
         "showgrid": false,
         "tickfont": {
          "color": "#4D5663"
         },
         "title": {
          "font": {
           "color": "#4D5663"
          },
          "text": ""
         },
         "zerolinecolor": "#E1E5ED"
        },
        "xaxis4": {
         "anchor": "y4",
         "domain": [
          0.7875,
          1
         ],
         "gridcolor": "#E1E5ED",
         "showgrid": false,
         "tickfont": {
          "color": "#4D5663"
         },
         "title": {
          "font": {
           "color": "#4D5663"
          },
          "text": ""
         },
         "zerolinecolor": "#E1E5ED"
        },
        "xaxis5": {
         "anchor": "y5",
         "domain": [
          0,
          0.2125
         ],
         "gridcolor": "#E1E5ED",
         "showgrid": false,
         "tickfont": {
          "color": "#4D5663"
         },
         "title": {
          "font": {
           "color": "#4D5663"
          },
          "text": ""
         },
         "zerolinecolor": "#E1E5ED"
        },
        "xaxis6": {
         "anchor": "y6",
         "domain": [
          0.2625,
          0.475
         ],
         "gridcolor": "#E1E5ED",
         "showgrid": false,
         "tickfont": {
          "color": "#4D5663"
         },
         "title": {
          "font": {
           "color": "#4D5663"
          },
          "text": ""
         },
         "zerolinecolor": "#E1E5ED"
        },
        "xaxis7": {
         "anchor": "y7",
         "domain": [
          0.525,
          0.7375
         ],
         "gridcolor": "#E1E5ED",
         "showgrid": false,
         "tickfont": {
          "color": "#4D5663"
         },
         "title": {
          "font": {
           "color": "#4D5663"
          },
          "text": ""
         },
         "zerolinecolor": "#E1E5ED"
        },
        "xaxis8": {
         "anchor": "y8",
         "domain": [
          0.7875,
          1
         ],
         "gridcolor": "#E1E5ED",
         "showgrid": false,
         "tickfont": {
          "color": "#4D5663"
         },
         "title": {
          "font": {
           "color": "#4D5663"
          },
          "text": ""
         },
         "zerolinecolor": "#E1E5ED"
        },
        "xaxis9": {
         "anchor": "y9",
         "domain": [
          0,
          0.2125
         ],
         "gridcolor": "#E1E5ED",
         "showgrid": false,
         "tickfont": {
          "color": "#4D5663"
         },
         "title": {
          "font": {
           "color": "#4D5663"
          },
          "text": ""
         },
         "zerolinecolor": "#E1E5ED"
        },
        "yaxis": {
         "anchor": "x",
         "domain": [
          0.8025,
          1
         ],
         "gridcolor": "#E1E5ED",
         "showgrid": false,
         "tickfont": {
          "color": "#4D5663"
         },
         "title": {
          "font": {
           "color": "#4D5663"
          },
          "text": ""
         },
         "zerolinecolor": "#E1E5ED"
        },
        "yaxis10": {
         "anchor": "x10",
         "domain": [
          0.2675,
          0.465
         ],
         "gridcolor": "#E1E5ED",
         "showgrid": false,
         "tickfont": {
          "color": "#4D5663"
         },
         "title": {
          "font": {
           "color": "#4D5663"
          },
          "text": ""
         },
         "zerolinecolor": "#E1E5ED"
        },
        "yaxis11": {
         "anchor": "x11",
         "domain": [
          0.2675,
          0.465
         ],
         "gridcolor": "#E1E5ED",
         "showgrid": false,
         "tickfont": {
          "color": "#4D5663"
         },
         "title": {
          "font": {
           "color": "#4D5663"
          },
          "text": ""
         },
         "zerolinecolor": "#E1E5ED"
        },
        "yaxis12": {
         "anchor": "x12",
         "domain": [
          0.2675,
          0.465
         ],
         "gridcolor": "#E1E5ED",
         "showgrid": false,
         "tickfont": {
          "color": "#4D5663"
         },
         "title": {
          "font": {
           "color": "#4D5663"
          },
          "text": ""
         },
         "zerolinecolor": "#E1E5ED"
        },
        "yaxis13": {
         "anchor": "x13",
         "domain": [
          0,
          0.1975
         ],
         "gridcolor": "#E1E5ED",
         "showgrid": false,
         "tickfont": {
          "color": "#4D5663"
         },
         "title": {
          "font": {
           "color": "#4D5663"
          },
          "text": ""
         },
         "zerolinecolor": "#E1E5ED"
        },
        "yaxis14": {
         "anchor": "x14",
         "domain": [
          0,
          0.1975
         ],
         "gridcolor": "#E1E5ED",
         "showgrid": false,
         "tickfont": {
          "color": "#4D5663"
         },
         "title": {
          "font": {
           "color": "#4D5663"
          },
          "text": ""
         },
         "zerolinecolor": "#E1E5ED"
        },
        "yaxis15": {
         "anchor": "x15",
         "domain": [
          0,
          0.1975
         ],
         "gridcolor": "#E1E5ED",
         "showgrid": false,
         "tickfont": {
          "color": "#4D5663"
         },
         "title": {
          "font": {
           "color": "#4D5663"
          },
          "text": ""
         },
         "zerolinecolor": "#E1E5ED"
        },
        "yaxis16": {
         "anchor": "x16",
         "domain": [
          0,
          0.1975
         ],
         "gridcolor": "#E1E5ED",
         "showgrid": false,
         "tickfont": {
          "color": "#4D5663"
         },
         "title": {
          "font": {
           "color": "#4D5663"
          },
          "text": ""
         },
         "zerolinecolor": "#E1E5ED"
        },
        "yaxis2": {
         "anchor": "x2",
         "domain": [
          0.8025,
          1
         ],
         "gridcolor": "#E1E5ED",
         "showgrid": false,
         "tickfont": {
          "color": "#4D5663"
         },
         "title": {
          "font": {
           "color": "#4D5663"
          },
          "text": ""
         },
         "zerolinecolor": "#E1E5ED"
        },
        "yaxis3": {
         "anchor": "x3",
         "domain": [
          0.8025,
          1
         ],
         "gridcolor": "#E1E5ED",
         "showgrid": false,
         "tickfont": {
          "color": "#4D5663"
         },
         "title": {
          "font": {
           "color": "#4D5663"
          },
          "text": ""
         },
         "zerolinecolor": "#E1E5ED"
        },
        "yaxis4": {
         "anchor": "x4",
         "domain": [
          0.8025,
          1
         ],
         "gridcolor": "#E1E5ED",
         "showgrid": false,
         "tickfont": {
          "color": "#4D5663"
         },
         "title": {
          "font": {
           "color": "#4D5663"
          },
          "text": ""
         },
         "zerolinecolor": "#E1E5ED"
        },
        "yaxis5": {
         "anchor": "x5",
         "domain": [
          0.535,
          0.7325
         ],
         "gridcolor": "#E1E5ED",
         "showgrid": false,
         "tickfont": {
          "color": "#4D5663"
         },
         "title": {
          "font": {
           "color": "#4D5663"
          },
          "text": ""
         },
         "zerolinecolor": "#E1E5ED"
        },
        "yaxis6": {
         "anchor": "x6",
         "domain": [
          0.535,
          0.7325
         ],
         "gridcolor": "#E1E5ED",
         "showgrid": false,
         "tickfont": {
          "color": "#4D5663"
         },
         "title": {
          "font": {
           "color": "#4D5663"
          },
          "text": ""
         },
         "zerolinecolor": "#E1E5ED"
        },
        "yaxis7": {
         "anchor": "x7",
         "domain": [
          0.535,
          0.7325
         ],
         "gridcolor": "#E1E5ED",
         "showgrid": false,
         "tickfont": {
          "color": "#4D5663"
         },
         "title": {
          "font": {
           "color": "#4D5663"
          },
          "text": ""
         },
         "zerolinecolor": "#E1E5ED"
        },
        "yaxis8": {
         "anchor": "x8",
         "domain": [
          0.535,
          0.7325
         ],
         "gridcolor": "#E1E5ED",
         "showgrid": false,
         "tickfont": {
          "color": "#4D5663"
         },
         "title": {
          "font": {
           "color": "#4D5663"
          },
          "text": ""
         },
         "zerolinecolor": "#E1E5ED"
        },
        "yaxis9": {
         "anchor": "x9",
         "domain": [
          0.2675,
          0.465
         ],
         "gridcolor": "#E1E5ED",
         "showgrid": false,
         "tickfont": {
          "color": "#4D5663"
         },
         "title": {
          "font": {
           "color": "#4D5663"
          },
          "text": ""
         },
         "zerolinecolor": "#E1E5ED"
        }
       }
      },
      "text/html": [
       "<div>\n",
       "        \n",
       "        \n",
       "            <div id=\"b3862a19-04ee-44a7-85e3-dac6d7dbde23\" class=\"plotly-graph-div\" style=\"height:525px; width:100%;\"></div>\n",
       "            <script type=\"text/javascript\">\n",
       "                require([\"plotly\"], function(Plotly) {\n",
       "                    window.PLOTLYENV=window.PLOTLYENV || {};\n",
       "                    window.PLOTLYENV.BASE_URL='https://plot.ly';\n",
       "                    \n",
       "                if (document.getElementById(\"b3862a19-04ee-44a7-85e3-dac6d7dbde23\")) {\n",
       "                    Plotly.newPlot(\n",
       "                        'b3862a19-04ee-44a7-85e3-dac6d7dbde23',\n",
       "                        [{\"histfunc\": \"count\", \"histnorm\": \"\", \"marker\": {\"color\": \"rgba(255, 153, 51, 1.0)\", \"line\": {\"color\": \"#4D5663\", \"width\": 1.3}}, \"name\": \"A\", \"nbinsx\": 10, \"opacity\": 0.8, \"orientation\": \"v\", \"type\": \"histogram\", \"x\": [-0.13332898728486217, 0.6049162173562118, -0.16177503105113158, 0.2904262389514051, 1.1562838099089574, -1.1848532417977728, 0.8982273761327372, 0.028278257948029965, -0.9868512173336761, 0.6840821635822759, -0.7608168905347923, -0.4849772912292263, 1.4103246726026462, -0.8217680536926046, -0.10584387485756273, 0.0915326999720717, 1.5868812487818433, 1.4610332716855279, -0.296010479607427, -1.636326733107384, -0.494075647778116, 1.254407911954291, -1.3259794161261163, 0.46662695049174047, 0.9930619033922193, -0.5176556953346497, 0.4923565746528598, -0.30148014268246154, -0.4809887648149414, 0.4820761832548575, 0.9795666811263533, 0.2290842534017007, 0.36752354492950984, 0.6168940590624284, 0.4114722975292953, -0.20855183114206602, 1.132181985806202, 0.9935469114025697, 0.016836190438973112, 0.961885915997291, -1.783903976137237, -0.9587206963745689, -1.5379896533002744, -0.7128492071354146, -0.42738557738685895, 0.4026918235878419, 1.1185123034948807, 1.1653431112356398, 0.5260806281991431, 0.2603131849043691, 1.1467886882959684, -0.40965228755670074, 0.7133917959352619, 1.1250831270878798, 0.817216553655222, 1.4917512529186387, -0.5125131549706918, 0.14776577406804275, 0.21713674429031635, 0.5477373667964758, -0.08254668451697868, -0.750904913226693, -0.48210838498018804, 0.9105294888876799, 0.8690776970323018, -0.95756608003841, -0.6806140558632705, -0.5565517022643965, -0.14106813094953835, 0.17396554387381946, -2.041059568986403, -0.06075202622890458, -1.2553721922271923, 0.740004930068497, 0.6323495961138877, 0.3758072565623964, 0.3121515525987599, 1.2167344648060452, -0.8148129555263465, -1.0423994099522742, -1.053758446029795, 1.0591205959040673, 0.624547701537553, 0.4113627954704313, 1.1811178417779826, 1.0245574869849703, -0.09182695658014851, 0.12237334974580312, -0.8312689468801848, 0.31971330737792997, 0.3882652757412495, -0.24487556089373985, 1.211015675419331, 0.2265724142315915, -0.6340086051558401, 0.789035760998447, -0.428508620713086, -1.2083999122326243, -2.442220579365496, 0.6181020168836062], \"xaxis\": \"x\", \"yaxis\": \"y\"}, {\"line\": {\"color\": \"rgba(128, 128, 128, 1.0)\", \"dash\": \"solid\", \"shape\": \"linear\", \"width\": 1.3}, \"marker\": {\"size\": 2, \"symbol\": \"circle\"}, \"mode\": \"markers\", \"name\": \"A\", \"text\": \"\", \"type\": \"scatter\", \"x\": [0.877873119201991, -0.8871864835711982, -0.8779365085710115, 0.16707982521148182, 0.9770570964405164, -1.0210807539641042, -0.21179137664286418, -0.025274265344616083, -1.1092078640172551, -1.1521829664006475, -1.0678537312032441, 0.881399073284442, -1.5472658310039031, 0.42894438694587583, -0.5847667949359995, 0.5861364661033456, -0.04141568970211862, 1.6330695985806374, 0.9136833206359156, 2.0233395926138007, 1.101142592370221, -0.5682038376230117, 0.042882304288209314, -0.4047854558570145, -0.20925108081337035, 0.7529358997543051, 0.7407450265436628, -1.3607933912602541, 0.3411301947962091, 1.3151839384818036, 0.3575314753592644, -1.3118340501498933, 1.4279165133867213, -0.2559157130428562, 0.4464527395079081, 0.6658948694956442, 0.7259355144620822, 0.8235263881423511, -0.08484654956607927, 1.8343974103662948, -0.4713263219195928, -0.8960723024860888, -0.30064987887889344, -0.4316502480055467, 0.2857158451321729, -0.5736274210697178, 2.5697362447985554, 0.6277843390429633, -0.49445184097626804, 0.8499163415546525, 1.5785939994794886, -0.9821279273371802, -0.4739870836956822, -1.3416687809494725, 0.984719136622916, -0.2741650591388619, 1.4972102529508924, 0.17436161357051014, -0.7460530393643999, 0.4081345878441793, 0.7508643479924706, 0.007458631298474343, -2.356211944871521, 1.2434124482978255, -0.9764707565302257, -0.9003187532037691, -0.6552946312368383, 1.01863556348232, 2.5093706224495755, -0.04773433274440632, 1.0449119076216544, 0.408730882028547, -0.11919913738978115, 0.38587853161043395, -1.1517321753523175, 1.6165054269845633, 2.320370989305167, -0.97030489009854, 0.03428818309439457, -0.567194415289803, -1.6004626492305494, 0.7941768603034315, 0.7850386433665631, 1.5710577492336988, 0.5925013415374528, 1.3388239018740202, -1.493035583334954, 0.8131093233548212, -0.06253088379133223, 1.0761370002087423, 1.6009510396615159, 1.0372091416050686, 0.24796801351280354, 1.1619363392738358, -0.3941704306660358, -0.7976663790741948, 1.7838229422786538, -1.6143395792946713, 0.2445066278672296, -0.19001794744455636], \"xaxis\": \"x2\", \"y\": [-0.13332898728486217, 0.6049162173562118, -0.16177503105113158, 0.2904262389514051, 1.1562838099089574, -1.1848532417977728, 0.8982273761327372, 0.028278257948029965, -0.9868512173336761, 0.6840821635822759, -0.7608168905347923, -0.4849772912292263, 1.4103246726026462, -0.8217680536926046, -0.10584387485756273, 0.0915326999720717, 1.5868812487818433, 1.4610332716855279, -0.296010479607427, -1.636326733107384, -0.494075647778116, 1.254407911954291, -1.3259794161261163, 0.46662695049174047, 0.9930619033922193, -0.5176556953346497, 0.4923565746528598, -0.30148014268246154, -0.4809887648149414, 0.4820761832548575, 0.9795666811263533, 0.2290842534017007, 0.36752354492950984, 0.6168940590624284, 0.4114722975292953, -0.20855183114206602, 1.132181985806202, 0.9935469114025697, 0.016836190438973112, 0.961885915997291, -1.783903976137237, -0.9587206963745689, -1.5379896533002744, -0.7128492071354146, -0.42738557738685895, 0.4026918235878419, 1.1185123034948807, 1.1653431112356398, 0.5260806281991431, 0.2603131849043691, 1.1467886882959684, -0.40965228755670074, 0.7133917959352619, 1.1250831270878798, 0.817216553655222, 1.4917512529186387, -0.5125131549706918, 0.14776577406804275, 0.21713674429031635, 0.5477373667964758, -0.08254668451697868, -0.750904913226693, -0.48210838498018804, 0.9105294888876799, 0.8690776970323018, -0.95756608003841, -0.6806140558632705, -0.5565517022643965, -0.14106813094953835, 0.17396554387381946, -2.041059568986403, -0.06075202622890458, -1.2553721922271923, 0.740004930068497, 0.6323495961138877, 0.3758072565623964, 0.3121515525987599, 1.2167344648060452, -0.8148129555263465, -1.0423994099522742, -1.053758446029795, 1.0591205959040673, 0.624547701537553, 0.4113627954704313, 1.1811178417779826, 1.0245574869849703, -0.09182695658014851, 0.12237334974580312, -0.8312689468801848, 0.31971330737792997, 0.3882652757412495, -0.24487556089373985, 1.211015675419331, 0.2265724142315915, -0.6340086051558401, 0.789035760998447, -0.428508620713086, -1.2083999122326243, -2.442220579365496, 0.6181020168836062], \"yaxis\": \"y2\"}, {\"line\": {\"color\": \"rgba(128, 128, 128, 1.0)\", \"dash\": \"solid\", \"shape\": \"linear\", \"width\": 1.3}, \"marker\": {\"size\": 2, \"symbol\": \"circle\"}, \"mode\": \"markers\", \"name\": \"A\", \"text\": \"\", \"type\": \"scatter\", \"x\": [-0.1949333377808265, 1.2874718857137506, 1.034828960634043, -1.250205626820457, -2.3140814312960223, 0.4672105757577219, 0.9336583380187081, -0.899465178637077, -0.23100800292281237, -0.4233280963663838, -0.8789825347499383, -0.23272103414254033, -0.687275448055291, -1.351898514290019, -0.29152858366285617, -0.5384074094042292, 1.0899255578983433, 0.3632462942202497, -0.31347150317497907, -0.6239556756762389, -0.5039547444225779, 0.7470989284312591, 0.5669270767827191, 0.4053962663362149, 0.7470319881233176, -0.7121268908435755, 1.3781094180709663, 0.4374773497359336, 0.4200860244282493, 0.7053171544932973, -0.6008008456387155, 1.114826092770562, 0.5183437897032463, -1.6875410078176634, -0.14119371767260377, -1.2318315718081576, 1.094246490855967, -0.9357325966232735, -1.687124220557086, 0.02834226044932334, -0.43635878228827285, 0.19203209266547921, 1.5017344421595056, -0.758789965263754, -0.48496529798553106, 0.9112791466103329, -0.9065257161127248, 0.15779465541686052, 0.32598660502669086, -0.7494680676971873, 0.8369842300027271, -0.1852978110964879, -0.8537190052680307, -1.328453836121312, 0.8883999662666356, 0.6745108463283488, -0.039512731797237334, -0.15152265482386013, -0.4053422246549689, 1.091898283200699, 0.3523894167516524, -0.8234261540482228, -0.3877115538256855, 2.334372769081094, -1.2790254406427777, -0.05124559254107892, 1.6034395642054087, -0.9702203612312997, -2.986537403890035, 0.8768333360508807, -1.0955398315132059, -1.3184810057926308, 0.4811947683684202, -0.9413875287749689, -0.09428344821563733, 0.24313378679796052, -0.8705367986795014, 0.33500633048508377, -0.23050141623667522, -0.4987736876364225, 1.7595674249869988, -1.371365312362017, 1.5153198832203851, -2.136172527562396, 0.13909291969410825, -0.6749023176385337, 0.280617133701145, -1.8513701473257176, -0.6285511875260519, 1.0104658535811069, -0.005853284057386029, 0.1096869174311675, -0.9210250890711749, 1.7413864500446388, 0.660042296473798, -1.3547562182632082, -0.9333532783173327, -0.1645621664866537, 0.08988391435312298, -0.3005702765173331], \"xaxis\": \"x3\", \"y\": [-0.13332898728486217, 0.6049162173562118, -0.16177503105113158, 0.2904262389514051, 1.1562838099089574, -1.1848532417977728, 0.8982273761327372, 0.028278257948029965, -0.9868512173336761, 0.6840821635822759, -0.7608168905347923, -0.4849772912292263, 1.4103246726026462, -0.8217680536926046, -0.10584387485756273, 0.0915326999720717, 1.5868812487818433, 1.4610332716855279, -0.296010479607427, -1.636326733107384, -0.494075647778116, 1.254407911954291, -1.3259794161261163, 0.46662695049174047, 0.9930619033922193, -0.5176556953346497, 0.4923565746528598, -0.30148014268246154, -0.4809887648149414, 0.4820761832548575, 0.9795666811263533, 0.2290842534017007, 0.36752354492950984, 0.6168940590624284, 0.4114722975292953, -0.20855183114206602, 1.132181985806202, 0.9935469114025697, 0.016836190438973112, 0.961885915997291, -1.783903976137237, -0.9587206963745689, -1.5379896533002744, -0.7128492071354146, -0.42738557738685895, 0.4026918235878419, 1.1185123034948807, 1.1653431112356398, 0.5260806281991431, 0.2603131849043691, 1.1467886882959684, -0.40965228755670074, 0.7133917959352619, 1.1250831270878798, 0.817216553655222, 1.4917512529186387, -0.5125131549706918, 0.14776577406804275, 0.21713674429031635, 0.5477373667964758, -0.08254668451697868, -0.750904913226693, -0.48210838498018804, 0.9105294888876799, 0.8690776970323018, -0.95756608003841, -0.6806140558632705, -0.5565517022643965, -0.14106813094953835, 0.17396554387381946, -2.041059568986403, -0.06075202622890458, -1.2553721922271923, 0.740004930068497, 0.6323495961138877, 0.3758072565623964, 0.3121515525987599, 1.2167344648060452, -0.8148129555263465, -1.0423994099522742, -1.053758446029795, 1.0591205959040673, 0.624547701537553, 0.4113627954704313, 1.1811178417779826, 1.0245574869849703, -0.09182695658014851, 0.12237334974580312, -0.8312689468801848, 0.31971330737792997, 0.3882652757412495, -0.24487556089373985, 1.211015675419331, 0.2265724142315915, -0.6340086051558401, 0.789035760998447, -0.428508620713086, -1.2083999122326243, -2.442220579365496, 0.6181020168836062], \"yaxis\": \"y3\"}, {\"line\": {\"color\": \"rgba(128, 128, 128, 1.0)\", \"dash\": \"solid\", \"shape\": \"linear\", \"width\": 1.3}, \"marker\": {\"size\": 2, \"symbol\": \"circle\"}, \"mode\": \"markers\", \"name\": \"A\", \"text\": \"\", \"type\": \"scatter\", \"x\": [-0.08270575823628525, 0.5721288881350668, 1.0693127747928544, 1.5534994107776754, 0.19406633148953562, -0.26233500689833983, 1.5655280754438046, -0.18114075584586906, -0.009619968905033204, -0.9027686346935858, -0.214812512368609, -0.7364379842187003, -0.19198476000138007, 0.18702643707197159, 0.0433781027486577, -0.29137810972437495, -1.1978306132083452, 0.41923085497089585, -0.31918684064943975, 1.128602606672595, -1.7825520771222159, 0.6030731735378128, -0.3564898191817619, -1.7844575714167668, -1.5335276217022513, -0.23179194788496277, 1.0021641098970262, -0.6909673306044203, -1.6223983671173798, 0.9163321161767722, -0.16823263095738714, -0.08943816895035614, 0.29775873555054044, 0.12574099999810487, -0.09456630256447097, -0.6611620609872069, 0.21652645180452904, 0.7244403439630475, 0.6954520634005963, -1.5499491574713065, 0.11562111541713081, -1.1221872789710325, 1.6563204328441237, 0.2952248151470929, -1.5686691986603534, -0.013048810598643025, -0.0742857139038019, 0.7150980179301154, -0.7395795234598608, 0.5989185284645229, -0.3093583703760894, -0.5115294388754472, -0.2561361894198458, -1.4477826014600563, 0.5220337678598486, -2.0151186397299794, 0.5886751789306843, -0.2327764475170766, 0.5212684750945968, -0.3863966203198103, 1.104088962904185, 1.7129532254736584, 0.44128179880332474, 0.14979679828882936, -0.2519819766582173, 0.6073456327874504, 0.5990539129529934, 0.41172165954198053, -0.93461312400278, 1.6191205319381616, -0.7132980745026403, -0.6055073499449021, 0.43331854221063015, 1.312027745736751, 0.22528511601214957, 1.6434145615909932, 0.3924455136917064, -0.44644815502010077, 0.3990194329299282, 0.3291683995399519, -0.9125345281980742, 0.3008990483570197, 0.10284225567393888, 0.45990273680458116, 0.5490036543010519, -0.5263979924439908, -0.9350994613038845, 1.418678192436831, -0.3039213118658567, -1.3956681081474906, 0.3520550174745357, -0.9795833300527587, 0.7951530232992107, -1.1695000184850353, -1.9272619586717148, -0.7952510560311679, -1.146988594289629, -0.18338757979591955, -0.3083681940970879, -0.23394117014428933], \"xaxis\": \"x4\", \"y\": [-0.13332898728486217, 0.6049162173562118, -0.16177503105113158, 0.2904262389514051, 1.1562838099089574, -1.1848532417977728, 0.8982273761327372, 0.028278257948029965, -0.9868512173336761, 0.6840821635822759, -0.7608168905347923, -0.4849772912292263, 1.4103246726026462, -0.8217680536926046, -0.10584387485756273, 0.0915326999720717, 1.5868812487818433, 1.4610332716855279, -0.296010479607427, -1.636326733107384, -0.494075647778116, 1.254407911954291, -1.3259794161261163, 0.46662695049174047, 0.9930619033922193, -0.5176556953346497, 0.4923565746528598, -0.30148014268246154, -0.4809887648149414, 0.4820761832548575, 0.9795666811263533, 0.2290842534017007, 0.36752354492950984, 0.6168940590624284, 0.4114722975292953, -0.20855183114206602, 1.132181985806202, 0.9935469114025697, 0.016836190438973112, 0.961885915997291, -1.783903976137237, -0.9587206963745689, -1.5379896533002744, -0.7128492071354146, -0.42738557738685895, 0.4026918235878419, 1.1185123034948807, 1.1653431112356398, 0.5260806281991431, 0.2603131849043691, 1.1467886882959684, -0.40965228755670074, 0.7133917959352619, 1.1250831270878798, 0.817216553655222, 1.4917512529186387, -0.5125131549706918, 0.14776577406804275, 0.21713674429031635, 0.5477373667964758, -0.08254668451697868, -0.750904913226693, -0.48210838498018804, 0.9105294888876799, 0.8690776970323018, -0.95756608003841, -0.6806140558632705, -0.5565517022643965, -0.14106813094953835, 0.17396554387381946, -2.041059568986403, -0.06075202622890458, -1.2553721922271923, 0.740004930068497, 0.6323495961138877, 0.3758072565623964, 0.3121515525987599, 1.2167344648060452, -0.8148129555263465, -1.0423994099522742, -1.053758446029795, 1.0591205959040673, 0.624547701537553, 0.4113627954704313, 1.1811178417779826, 1.0245574869849703, -0.09182695658014851, 0.12237334974580312, -0.8312689468801848, 0.31971330737792997, 0.3882652757412495, -0.24487556089373985, 1.211015675419331, 0.2265724142315915, -0.6340086051558401, 0.789035760998447, -0.428508620713086, -1.2083999122326243, -2.442220579365496, 0.6181020168836062], \"yaxis\": \"y4\"}, {\"line\": {\"color\": \"rgba(128, 128, 128, 1.0)\", \"dash\": \"solid\", \"shape\": \"linear\", \"width\": 1.3}, \"marker\": {\"size\": 2, \"symbol\": \"circle\"}, \"mode\": \"markers\", \"name\": \"B\", \"text\": \"\", \"type\": \"scatter\", \"x\": [-0.13332898728486217, 0.6049162173562118, -0.16177503105113158, 0.2904262389514051, 1.1562838099089574, -1.1848532417977728, 0.8982273761327372, 0.028278257948029965, -0.9868512173336761, 0.6840821635822759, -0.7608168905347923, -0.4849772912292263, 1.4103246726026462, -0.8217680536926046, -0.10584387485756273, 0.0915326999720717, 1.5868812487818433, 1.4610332716855279, -0.296010479607427, -1.636326733107384, -0.494075647778116, 1.254407911954291, -1.3259794161261163, 0.46662695049174047, 0.9930619033922193, -0.5176556953346497, 0.4923565746528598, -0.30148014268246154, -0.4809887648149414, 0.4820761832548575, 0.9795666811263533, 0.2290842534017007, 0.36752354492950984, 0.6168940590624284, 0.4114722975292953, -0.20855183114206602, 1.132181985806202, 0.9935469114025697, 0.016836190438973112, 0.961885915997291, -1.783903976137237, -0.9587206963745689, -1.5379896533002744, -0.7128492071354146, -0.42738557738685895, 0.4026918235878419, 1.1185123034948807, 1.1653431112356398, 0.5260806281991431, 0.2603131849043691, 1.1467886882959684, -0.40965228755670074, 0.7133917959352619, 1.1250831270878798, 0.817216553655222, 1.4917512529186387, -0.5125131549706918, 0.14776577406804275, 0.21713674429031635, 0.5477373667964758, -0.08254668451697868, -0.750904913226693, -0.48210838498018804, 0.9105294888876799, 0.8690776970323018, -0.95756608003841, -0.6806140558632705, -0.5565517022643965, -0.14106813094953835, 0.17396554387381946, -2.041059568986403, -0.06075202622890458, -1.2553721922271923, 0.740004930068497, 0.6323495961138877, 0.3758072565623964, 0.3121515525987599, 1.2167344648060452, -0.8148129555263465, -1.0423994099522742, -1.053758446029795, 1.0591205959040673, 0.624547701537553, 0.4113627954704313, 1.1811178417779826, 1.0245574869849703, -0.09182695658014851, 0.12237334974580312, -0.8312689468801848, 0.31971330737792997, 0.3882652757412495, -0.24487556089373985, 1.211015675419331, 0.2265724142315915, -0.6340086051558401, 0.789035760998447, -0.428508620713086, -1.2083999122326243, -2.442220579365496, 0.6181020168836062], \"xaxis\": \"x5\", \"y\": [0.877873119201991, -0.8871864835711982, -0.8779365085710115, 0.16707982521148182, 0.9770570964405164, -1.0210807539641042, -0.21179137664286418, -0.025274265344616083, -1.1092078640172551, -1.1521829664006475, -1.0678537312032441, 0.881399073284442, -1.5472658310039031, 0.42894438694587583, -0.5847667949359995, 0.5861364661033456, -0.04141568970211862, 1.6330695985806374, 0.9136833206359156, 2.0233395926138007, 1.101142592370221, -0.5682038376230117, 0.042882304288209314, -0.4047854558570145, -0.20925108081337035, 0.7529358997543051, 0.7407450265436628, -1.3607933912602541, 0.3411301947962091, 1.3151839384818036, 0.3575314753592644, -1.3118340501498933, 1.4279165133867213, -0.2559157130428562, 0.4464527395079081, 0.6658948694956442, 0.7259355144620822, 0.8235263881423511, -0.08484654956607927, 1.8343974103662948, -0.4713263219195928, -0.8960723024860888, -0.30064987887889344, -0.4316502480055467, 0.2857158451321729, -0.5736274210697178, 2.5697362447985554, 0.6277843390429633, -0.49445184097626804, 0.8499163415546525, 1.5785939994794886, -0.9821279273371802, -0.4739870836956822, -1.3416687809494725, 0.984719136622916, -0.2741650591388619, 1.4972102529508924, 0.17436161357051014, -0.7460530393643999, 0.4081345878441793, 0.7508643479924706, 0.007458631298474343, -2.356211944871521, 1.2434124482978255, -0.9764707565302257, -0.9003187532037691, -0.6552946312368383, 1.01863556348232, 2.5093706224495755, -0.04773433274440632, 1.0449119076216544, 0.408730882028547, -0.11919913738978115, 0.38587853161043395, -1.1517321753523175, 1.6165054269845633, 2.320370989305167, -0.97030489009854, 0.03428818309439457, -0.567194415289803, -1.6004626492305494, 0.7941768603034315, 0.7850386433665631, 1.5710577492336988, 0.5925013415374528, 1.3388239018740202, -1.493035583334954, 0.8131093233548212, -0.06253088379133223, 1.0761370002087423, 1.6009510396615159, 1.0372091416050686, 0.24796801351280354, 1.1619363392738358, -0.3941704306660358, -0.7976663790741948, 1.7838229422786538, -1.6143395792946713, 0.2445066278672296, -0.19001794744455636], \"yaxis\": \"y5\"}, {\"histfunc\": \"count\", \"histnorm\": \"\", \"marker\": {\"color\": \"rgba(55, 128, 191, 1.0)\", \"line\": {\"color\": \"#4D5663\", \"width\": 1.3}}, \"name\": \"B\", \"nbinsx\": 10, \"opacity\": 0.8, \"orientation\": \"v\", \"type\": \"histogram\", \"x\": [0.877873119201991, -0.8871864835711982, -0.8779365085710115, 0.16707982521148182, 0.9770570964405164, -1.0210807539641042, -0.21179137664286418, -0.025274265344616083, -1.1092078640172551, -1.1521829664006475, -1.0678537312032441, 0.881399073284442, -1.5472658310039031, 0.42894438694587583, -0.5847667949359995, 0.5861364661033456, -0.04141568970211862, 1.6330695985806374, 0.9136833206359156, 2.0233395926138007, 1.101142592370221, -0.5682038376230117, 0.042882304288209314, -0.4047854558570145, -0.20925108081337035, 0.7529358997543051, 0.7407450265436628, -1.3607933912602541, 0.3411301947962091, 1.3151839384818036, 0.3575314753592644, -1.3118340501498933, 1.4279165133867213, -0.2559157130428562, 0.4464527395079081, 0.6658948694956442, 0.7259355144620822, 0.8235263881423511, -0.08484654956607927, 1.8343974103662948, -0.4713263219195928, -0.8960723024860888, -0.30064987887889344, -0.4316502480055467, 0.2857158451321729, -0.5736274210697178, 2.5697362447985554, 0.6277843390429633, -0.49445184097626804, 0.8499163415546525, 1.5785939994794886, -0.9821279273371802, -0.4739870836956822, -1.3416687809494725, 0.984719136622916, -0.2741650591388619, 1.4972102529508924, 0.17436161357051014, -0.7460530393643999, 0.4081345878441793, 0.7508643479924706, 0.007458631298474343, -2.356211944871521, 1.2434124482978255, -0.9764707565302257, -0.9003187532037691, -0.6552946312368383, 1.01863556348232, 2.5093706224495755, -0.04773433274440632, 1.0449119076216544, 0.408730882028547, -0.11919913738978115, 0.38587853161043395, -1.1517321753523175, 1.6165054269845633, 2.320370989305167, -0.97030489009854, 0.03428818309439457, -0.567194415289803, -1.6004626492305494, 0.7941768603034315, 0.7850386433665631, 1.5710577492336988, 0.5925013415374528, 1.3388239018740202, -1.493035583334954, 0.8131093233548212, -0.06253088379133223, 1.0761370002087423, 1.6009510396615159, 1.0372091416050686, 0.24796801351280354, 1.1619363392738358, -0.3941704306660358, -0.7976663790741948, 1.7838229422786538, -1.6143395792946713, 0.2445066278672296, -0.19001794744455636], \"xaxis\": \"x6\", \"yaxis\": \"y6\"}, {\"line\": {\"color\": \"rgba(128, 128, 128, 1.0)\", \"dash\": \"solid\", \"shape\": \"linear\", \"width\": 1.3}, \"marker\": {\"size\": 2, \"symbol\": \"circle\"}, \"mode\": \"markers\", \"name\": \"B\", \"text\": \"\", \"type\": \"scatter\", \"x\": [-0.1949333377808265, 1.2874718857137506, 1.034828960634043, -1.250205626820457, -2.3140814312960223, 0.4672105757577219, 0.9336583380187081, -0.899465178637077, -0.23100800292281237, -0.4233280963663838, -0.8789825347499383, -0.23272103414254033, -0.687275448055291, -1.351898514290019, -0.29152858366285617, -0.5384074094042292, 1.0899255578983433, 0.3632462942202497, -0.31347150317497907, -0.6239556756762389, -0.5039547444225779, 0.7470989284312591, 0.5669270767827191, 0.4053962663362149, 0.7470319881233176, -0.7121268908435755, 1.3781094180709663, 0.4374773497359336, 0.4200860244282493, 0.7053171544932973, -0.6008008456387155, 1.114826092770562, 0.5183437897032463, -1.6875410078176634, -0.14119371767260377, -1.2318315718081576, 1.094246490855967, -0.9357325966232735, -1.687124220557086, 0.02834226044932334, -0.43635878228827285, 0.19203209266547921, 1.5017344421595056, -0.758789965263754, -0.48496529798553106, 0.9112791466103329, -0.9065257161127248, 0.15779465541686052, 0.32598660502669086, -0.7494680676971873, 0.8369842300027271, -0.1852978110964879, -0.8537190052680307, -1.328453836121312, 0.8883999662666356, 0.6745108463283488, -0.039512731797237334, -0.15152265482386013, -0.4053422246549689, 1.091898283200699, 0.3523894167516524, -0.8234261540482228, -0.3877115538256855, 2.334372769081094, -1.2790254406427777, -0.05124559254107892, 1.6034395642054087, -0.9702203612312997, -2.986537403890035, 0.8768333360508807, -1.0955398315132059, -1.3184810057926308, 0.4811947683684202, -0.9413875287749689, -0.09428344821563733, 0.24313378679796052, -0.8705367986795014, 0.33500633048508377, -0.23050141623667522, -0.4987736876364225, 1.7595674249869988, -1.371365312362017, 1.5153198832203851, -2.136172527562396, 0.13909291969410825, -0.6749023176385337, 0.280617133701145, -1.8513701473257176, -0.6285511875260519, 1.0104658535811069, -0.005853284057386029, 0.1096869174311675, -0.9210250890711749, 1.7413864500446388, 0.660042296473798, -1.3547562182632082, -0.9333532783173327, -0.1645621664866537, 0.08988391435312298, -0.3005702765173331], \"xaxis\": \"x7\", \"y\": [0.877873119201991, -0.8871864835711982, -0.8779365085710115, 0.16707982521148182, 0.9770570964405164, -1.0210807539641042, -0.21179137664286418, -0.025274265344616083, -1.1092078640172551, -1.1521829664006475, -1.0678537312032441, 0.881399073284442, -1.5472658310039031, 0.42894438694587583, -0.5847667949359995, 0.5861364661033456, -0.04141568970211862, 1.6330695985806374, 0.9136833206359156, 2.0233395926138007, 1.101142592370221, -0.5682038376230117, 0.042882304288209314, -0.4047854558570145, -0.20925108081337035, 0.7529358997543051, 0.7407450265436628, -1.3607933912602541, 0.3411301947962091, 1.3151839384818036, 0.3575314753592644, -1.3118340501498933, 1.4279165133867213, -0.2559157130428562, 0.4464527395079081, 0.6658948694956442, 0.7259355144620822, 0.8235263881423511, -0.08484654956607927, 1.8343974103662948, -0.4713263219195928, -0.8960723024860888, -0.30064987887889344, -0.4316502480055467, 0.2857158451321729, -0.5736274210697178, 2.5697362447985554, 0.6277843390429633, -0.49445184097626804, 0.8499163415546525, 1.5785939994794886, -0.9821279273371802, -0.4739870836956822, -1.3416687809494725, 0.984719136622916, -0.2741650591388619, 1.4972102529508924, 0.17436161357051014, -0.7460530393643999, 0.4081345878441793, 0.7508643479924706, 0.007458631298474343, -2.356211944871521, 1.2434124482978255, -0.9764707565302257, -0.9003187532037691, -0.6552946312368383, 1.01863556348232, 2.5093706224495755, -0.04773433274440632, 1.0449119076216544, 0.408730882028547, -0.11919913738978115, 0.38587853161043395, -1.1517321753523175, 1.6165054269845633, 2.320370989305167, -0.97030489009854, 0.03428818309439457, -0.567194415289803, -1.6004626492305494, 0.7941768603034315, 0.7850386433665631, 1.5710577492336988, 0.5925013415374528, 1.3388239018740202, -1.493035583334954, 0.8131093233548212, -0.06253088379133223, 1.0761370002087423, 1.6009510396615159, 1.0372091416050686, 0.24796801351280354, 1.1619363392738358, -0.3941704306660358, -0.7976663790741948, 1.7838229422786538, -1.6143395792946713, 0.2445066278672296, -0.19001794744455636], \"yaxis\": \"y7\"}, {\"line\": {\"color\": \"rgba(128, 128, 128, 1.0)\", \"dash\": \"solid\", \"shape\": \"linear\", \"width\": 1.3}, \"marker\": {\"size\": 2, \"symbol\": \"circle\"}, \"mode\": \"markers\", \"name\": \"B\", \"text\": \"\", \"type\": \"scatter\", \"x\": [-0.08270575823628525, 0.5721288881350668, 1.0693127747928544, 1.5534994107776754, 0.19406633148953562, -0.26233500689833983, 1.5655280754438046, -0.18114075584586906, -0.009619968905033204, -0.9027686346935858, -0.214812512368609, -0.7364379842187003, -0.19198476000138007, 0.18702643707197159, 0.0433781027486577, -0.29137810972437495, -1.1978306132083452, 0.41923085497089585, -0.31918684064943975, 1.128602606672595, -1.7825520771222159, 0.6030731735378128, -0.3564898191817619, -1.7844575714167668, -1.5335276217022513, -0.23179194788496277, 1.0021641098970262, -0.6909673306044203, -1.6223983671173798, 0.9163321161767722, -0.16823263095738714, -0.08943816895035614, 0.29775873555054044, 0.12574099999810487, -0.09456630256447097, -0.6611620609872069, 0.21652645180452904, 0.7244403439630475, 0.6954520634005963, -1.5499491574713065, 0.11562111541713081, -1.1221872789710325, 1.6563204328441237, 0.2952248151470929, -1.5686691986603534, -0.013048810598643025, -0.0742857139038019, 0.7150980179301154, -0.7395795234598608, 0.5989185284645229, -0.3093583703760894, -0.5115294388754472, -0.2561361894198458, -1.4477826014600563, 0.5220337678598486, -2.0151186397299794, 0.5886751789306843, -0.2327764475170766, 0.5212684750945968, -0.3863966203198103, 1.104088962904185, 1.7129532254736584, 0.44128179880332474, 0.14979679828882936, -0.2519819766582173, 0.6073456327874504, 0.5990539129529934, 0.41172165954198053, -0.93461312400278, 1.6191205319381616, -0.7132980745026403, -0.6055073499449021, 0.43331854221063015, 1.312027745736751, 0.22528511601214957, 1.6434145615909932, 0.3924455136917064, -0.44644815502010077, 0.3990194329299282, 0.3291683995399519, -0.9125345281980742, 0.3008990483570197, 0.10284225567393888, 0.45990273680458116, 0.5490036543010519, -0.5263979924439908, -0.9350994613038845, 1.418678192436831, -0.3039213118658567, -1.3956681081474906, 0.3520550174745357, -0.9795833300527587, 0.7951530232992107, -1.1695000184850353, -1.9272619586717148, -0.7952510560311679, -1.146988594289629, -0.18338757979591955, -0.3083681940970879, -0.23394117014428933], \"xaxis\": \"x8\", \"y\": [0.877873119201991, -0.8871864835711982, -0.8779365085710115, 0.16707982521148182, 0.9770570964405164, -1.0210807539641042, -0.21179137664286418, -0.025274265344616083, -1.1092078640172551, -1.1521829664006475, -1.0678537312032441, 0.881399073284442, -1.5472658310039031, 0.42894438694587583, -0.5847667949359995, 0.5861364661033456, -0.04141568970211862, 1.6330695985806374, 0.9136833206359156, 2.0233395926138007, 1.101142592370221, -0.5682038376230117, 0.042882304288209314, -0.4047854558570145, -0.20925108081337035, 0.7529358997543051, 0.7407450265436628, -1.3607933912602541, 0.3411301947962091, 1.3151839384818036, 0.3575314753592644, -1.3118340501498933, 1.4279165133867213, -0.2559157130428562, 0.4464527395079081, 0.6658948694956442, 0.7259355144620822, 0.8235263881423511, -0.08484654956607927, 1.8343974103662948, -0.4713263219195928, -0.8960723024860888, -0.30064987887889344, -0.4316502480055467, 0.2857158451321729, -0.5736274210697178, 2.5697362447985554, 0.6277843390429633, -0.49445184097626804, 0.8499163415546525, 1.5785939994794886, -0.9821279273371802, -0.4739870836956822, -1.3416687809494725, 0.984719136622916, -0.2741650591388619, 1.4972102529508924, 0.17436161357051014, -0.7460530393643999, 0.4081345878441793, 0.7508643479924706, 0.007458631298474343, -2.356211944871521, 1.2434124482978255, -0.9764707565302257, -0.9003187532037691, -0.6552946312368383, 1.01863556348232, 2.5093706224495755, -0.04773433274440632, 1.0449119076216544, 0.408730882028547, -0.11919913738978115, 0.38587853161043395, -1.1517321753523175, 1.6165054269845633, 2.320370989305167, -0.97030489009854, 0.03428818309439457, -0.567194415289803, -1.6004626492305494, 0.7941768603034315, 0.7850386433665631, 1.5710577492336988, 0.5925013415374528, 1.3388239018740202, -1.493035583334954, 0.8131093233548212, -0.06253088379133223, 1.0761370002087423, 1.6009510396615159, 1.0372091416050686, 0.24796801351280354, 1.1619363392738358, -0.3941704306660358, -0.7976663790741948, 1.7838229422786538, -1.6143395792946713, 0.2445066278672296, -0.19001794744455636], \"yaxis\": \"y8\"}, {\"line\": {\"color\": \"rgba(128, 128, 128, 1.0)\", \"dash\": \"solid\", \"shape\": \"linear\", \"width\": 1.3}, \"marker\": {\"size\": 2, \"symbol\": \"circle\"}, \"mode\": \"markers\", \"name\": \"C\", \"text\": \"\", \"type\": \"scatter\", \"x\": [-0.13332898728486217, 0.6049162173562118, -0.16177503105113158, 0.2904262389514051, 1.1562838099089574, -1.1848532417977728, 0.8982273761327372, 0.028278257948029965, -0.9868512173336761, 0.6840821635822759, -0.7608168905347923, -0.4849772912292263, 1.4103246726026462, -0.8217680536926046, -0.10584387485756273, 0.0915326999720717, 1.5868812487818433, 1.4610332716855279, -0.296010479607427, -1.636326733107384, -0.494075647778116, 1.254407911954291, -1.3259794161261163, 0.46662695049174047, 0.9930619033922193, -0.5176556953346497, 0.4923565746528598, -0.30148014268246154, -0.4809887648149414, 0.4820761832548575, 0.9795666811263533, 0.2290842534017007, 0.36752354492950984, 0.6168940590624284, 0.4114722975292953, -0.20855183114206602, 1.132181985806202, 0.9935469114025697, 0.016836190438973112, 0.961885915997291, -1.783903976137237, -0.9587206963745689, -1.5379896533002744, -0.7128492071354146, -0.42738557738685895, 0.4026918235878419, 1.1185123034948807, 1.1653431112356398, 0.5260806281991431, 0.2603131849043691, 1.1467886882959684, -0.40965228755670074, 0.7133917959352619, 1.1250831270878798, 0.817216553655222, 1.4917512529186387, -0.5125131549706918, 0.14776577406804275, 0.21713674429031635, 0.5477373667964758, -0.08254668451697868, -0.750904913226693, -0.48210838498018804, 0.9105294888876799, 0.8690776970323018, -0.95756608003841, -0.6806140558632705, -0.5565517022643965, -0.14106813094953835, 0.17396554387381946, -2.041059568986403, -0.06075202622890458, -1.2553721922271923, 0.740004930068497, 0.6323495961138877, 0.3758072565623964, 0.3121515525987599, 1.2167344648060452, -0.8148129555263465, -1.0423994099522742, -1.053758446029795, 1.0591205959040673, 0.624547701537553, 0.4113627954704313, 1.1811178417779826, 1.0245574869849703, -0.09182695658014851, 0.12237334974580312, -0.8312689468801848, 0.31971330737792997, 0.3882652757412495, -0.24487556089373985, 1.211015675419331, 0.2265724142315915, -0.6340086051558401, 0.789035760998447, -0.428508620713086, -1.2083999122326243, -2.442220579365496, 0.6181020168836062], \"xaxis\": \"x9\", \"y\": [-0.1949333377808265, 1.2874718857137506, 1.034828960634043, -1.250205626820457, -2.3140814312960223, 0.4672105757577219, 0.9336583380187081, -0.899465178637077, -0.23100800292281237, -0.4233280963663838, -0.8789825347499383, -0.23272103414254033, -0.687275448055291, -1.351898514290019, -0.29152858366285617, -0.5384074094042292, 1.0899255578983433, 0.3632462942202497, -0.31347150317497907, -0.6239556756762389, -0.5039547444225779, 0.7470989284312591, 0.5669270767827191, 0.4053962663362149, 0.7470319881233176, -0.7121268908435755, 1.3781094180709663, 0.4374773497359336, 0.4200860244282493, 0.7053171544932973, -0.6008008456387155, 1.114826092770562, 0.5183437897032463, -1.6875410078176634, -0.14119371767260377, -1.2318315718081576, 1.094246490855967, -0.9357325966232735, -1.687124220557086, 0.02834226044932334, -0.43635878228827285, 0.19203209266547921, 1.5017344421595056, -0.758789965263754, -0.48496529798553106, 0.9112791466103329, -0.9065257161127248, 0.15779465541686052, 0.32598660502669086, -0.7494680676971873, 0.8369842300027271, -0.1852978110964879, -0.8537190052680307, -1.328453836121312, 0.8883999662666356, 0.6745108463283488, -0.039512731797237334, -0.15152265482386013, -0.4053422246549689, 1.091898283200699, 0.3523894167516524, -0.8234261540482228, -0.3877115538256855, 2.334372769081094, -1.2790254406427777, -0.05124559254107892, 1.6034395642054087, -0.9702203612312997, -2.986537403890035, 0.8768333360508807, -1.0955398315132059, -1.3184810057926308, 0.4811947683684202, -0.9413875287749689, -0.09428344821563733, 0.24313378679796052, -0.8705367986795014, 0.33500633048508377, -0.23050141623667522, -0.4987736876364225, 1.7595674249869988, -1.371365312362017, 1.5153198832203851, -2.136172527562396, 0.13909291969410825, -0.6749023176385337, 0.280617133701145, -1.8513701473257176, -0.6285511875260519, 1.0104658535811069, -0.005853284057386029, 0.1096869174311675, -0.9210250890711749, 1.7413864500446388, 0.660042296473798, -1.3547562182632082, -0.9333532783173327, -0.1645621664866537, 0.08988391435312298, -0.3005702765173331], \"yaxis\": \"y9\"}, {\"line\": {\"color\": \"rgba(128, 128, 128, 1.0)\", \"dash\": \"solid\", \"shape\": \"linear\", \"width\": 1.3}, \"marker\": {\"size\": 2, \"symbol\": \"circle\"}, \"mode\": \"markers\", \"name\": \"C\", \"text\": \"\", \"type\": \"scatter\", \"x\": [0.877873119201991, -0.8871864835711982, -0.8779365085710115, 0.16707982521148182, 0.9770570964405164, -1.0210807539641042, -0.21179137664286418, -0.025274265344616083, -1.1092078640172551, -1.1521829664006475, -1.0678537312032441, 0.881399073284442, -1.5472658310039031, 0.42894438694587583, -0.5847667949359995, 0.5861364661033456, -0.04141568970211862, 1.6330695985806374, 0.9136833206359156, 2.0233395926138007, 1.101142592370221, -0.5682038376230117, 0.042882304288209314, -0.4047854558570145, -0.20925108081337035, 0.7529358997543051, 0.7407450265436628, -1.3607933912602541, 0.3411301947962091, 1.3151839384818036, 0.3575314753592644, -1.3118340501498933, 1.4279165133867213, -0.2559157130428562, 0.4464527395079081, 0.6658948694956442, 0.7259355144620822, 0.8235263881423511, -0.08484654956607927, 1.8343974103662948, -0.4713263219195928, -0.8960723024860888, -0.30064987887889344, -0.4316502480055467, 0.2857158451321729, -0.5736274210697178, 2.5697362447985554, 0.6277843390429633, -0.49445184097626804, 0.8499163415546525, 1.5785939994794886, -0.9821279273371802, -0.4739870836956822, -1.3416687809494725, 0.984719136622916, -0.2741650591388619, 1.4972102529508924, 0.17436161357051014, -0.7460530393643999, 0.4081345878441793, 0.7508643479924706, 0.007458631298474343, -2.356211944871521, 1.2434124482978255, -0.9764707565302257, -0.9003187532037691, -0.6552946312368383, 1.01863556348232, 2.5093706224495755, -0.04773433274440632, 1.0449119076216544, 0.408730882028547, -0.11919913738978115, 0.38587853161043395, -1.1517321753523175, 1.6165054269845633, 2.320370989305167, -0.97030489009854, 0.03428818309439457, -0.567194415289803, -1.6004626492305494, 0.7941768603034315, 0.7850386433665631, 1.5710577492336988, 0.5925013415374528, 1.3388239018740202, -1.493035583334954, 0.8131093233548212, -0.06253088379133223, 1.0761370002087423, 1.6009510396615159, 1.0372091416050686, 0.24796801351280354, 1.1619363392738358, -0.3941704306660358, -0.7976663790741948, 1.7838229422786538, -1.6143395792946713, 0.2445066278672296, -0.19001794744455636], \"xaxis\": \"x10\", \"y\": [-0.1949333377808265, 1.2874718857137506, 1.034828960634043, -1.250205626820457, -2.3140814312960223, 0.4672105757577219, 0.9336583380187081, -0.899465178637077, -0.23100800292281237, -0.4233280963663838, -0.8789825347499383, -0.23272103414254033, -0.687275448055291, -1.351898514290019, -0.29152858366285617, -0.5384074094042292, 1.0899255578983433, 0.3632462942202497, -0.31347150317497907, -0.6239556756762389, -0.5039547444225779, 0.7470989284312591, 0.5669270767827191, 0.4053962663362149, 0.7470319881233176, -0.7121268908435755, 1.3781094180709663, 0.4374773497359336, 0.4200860244282493, 0.7053171544932973, -0.6008008456387155, 1.114826092770562, 0.5183437897032463, -1.6875410078176634, -0.14119371767260377, -1.2318315718081576, 1.094246490855967, -0.9357325966232735, -1.687124220557086, 0.02834226044932334, -0.43635878228827285, 0.19203209266547921, 1.5017344421595056, -0.758789965263754, -0.48496529798553106, 0.9112791466103329, -0.9065257161127248, 0.15779465541686052, 0.32598660502669086, -0.7494680676971873, 0.8369842300027271, -0.1852978110964879, -0.8537190052680307, -1.328453836121312, 0.8883999662666356, 0.6745108463283488, -0.039512731797237334, -0.15152265482386013, -0.4053422246549689, 1.091898283200699, 0.3523894167516524, -0.8234261540482228, -0.3877115538256855, 2.334372769081094, -1.2790254406427777, -0.05124559254107892, 1.6034395642054087, -0.9702203612312997, -2.986537403890035, 0.8768333360508807, -1.0955398315132059, -1.3184810057926308, 0.4811947683684202, -0.9413875287749689, -0.09428344821563733, 0.24313378679796052, -0.8705367986795014, 0.33500633048508377, -0.23050141623667522, -0.4987736876364225, 1.7595674249869988, -1.371365312362017, 1.5153198832203851, -2.136172527562396, 0.13909291969410825, -0.6749023176385337, 0.280617133701145, -1.8513701473257176, -0.6285511875260519, 1.0104658535811069, -0.005853284057386029, 0.1096869174311675, -0.9210250890711749, 1.7413864500446388, 0.660042296473798, -1.3547562182632082, -0.9333532783173327, -0.1645621664866537, 0.08988391435312298, -0.3005702765173331], \"yaxis\": \"y10\"}, {\"histfunc\": \"count\", \"histnorm\": \"\", \"marker\": {\"color\": \"rgba(50, 171, 96, 1.0)\", \"line\": {\"color\": \"#4D5663\", \"width\": 1.3}}, \"name\": \"C\", \"nbinsx\": 10, \"opacity\": 0.8, \"orientation\": \"v\", \"type\": \"histogram\", \"x\": [-0.1949333377808265, 1.2874718857137506, 1.034828960634043, -1.250205626820457, -2.3140814312960223, 0.4672105757577219, 0.9336583380187081, -0.899465178637077, -0.23100800292281237, -0.4233280963663838, -0.8789825347499383, -0.23272103414254033, -0.687275448055291, -1.351898514290019, -0.29152858366285617, -0.5384074094042292, 1.0899255578983433, 0.3632462942202497, -0.31347150317497907, -0.6239556756762389, -0.5039547444225779, 0.7470989284312591, 0.5669270767827191, 0.4053962663362149, 0.7470319881233176, -0.7121268908435755, 1.3781094180709663, 0.4374773497359336, 0.4200860244282493, 0.7053171544932973, -0.6008008456387155, 1.114826092770562, 0.5183437897032463, -1.6875410078176634, -0.14119371767260377, -1.2318315718081576, 1.094246490855967, -0.9357325966232735, -1.687124220557086, 0.02834226044932334, -0.43635878228827285, 0.19203209266547921, 1.5017344421595056, -0.758789965263754, -0.48496529798553106, 0.9112791466103329, -0.9065257161127248, 0.15779465541686052, 0.32598660502669086, -0.7494680676971873, 0.8369842300027271, -0.1852978110964879, -0.8537190052680307, -1.328453836121312, 0.8883999662666356, 0.6745108463283488, -0.039512731797237334, -0.15152265482386013, -0.4053422246549689, 1.091898283200699, 0.3523894167516524, -0.8234261540482228, -0.3877115538256855, 2.334372769081094, -1.2790254406427777, -0.05124559254107892, 1.6034395642054087, -0.9702203612312997, -2.986537403890035, 0.8768333360508807, -1.0955398315132059, -1.3184810057926308, 0.4811947683684202, -0.9413875287749689, -0.09428344821563733, 0.24313378679796052, -0.8705367986795014, 0.33500633048508377, -0.23050141623667522, -0.4987736876364225, 1.7595674249869988, -1.371365312362017, 1.5153198832203851, -2.136172527562396, 0.13909291969410825, -0.6749023176385337, 0.280617133701145, -1.8513701473257176, -0.6285511875260519, 1.0104658535811069, -0.005853284057386029, 0.1096869174311675, -0.9210250890711749, 1.7413864500446388, 0.660042296473798, -1.3547562182632082, -0.9333532783173327, -0.1645621664866537, 0.08988391435312298, -0.3005702765173331], \"xaxis\": \"x11\", \"yaxis\": \"y11\"}, {\"line\": {\"color\": \"rgba(128, 128, 128, 1.0)\", \"dash\": \"solid\", \"shape\": \"linear\", \"width\": 1.3}, \"marker\": {\"size\": 2, \"symbol\": \"circle\"}, \"mode\": \"markers\", \"name\": \"C\", \"text\": \"\", \"type\": \"scatter\", \"x\": [-0.08270575823628525, 0.5721288881350668, 1.0693127747928544, 1.5534994107776754, 0.19406633148953562, -0.26233500689833983, 1.5655280754438046, -0.18114075584586906, -0.009619968905033204, -0.9027686346935858, -0.214812512368609, -0.7364379842187003, -0.19198476000138007, 0.18702643707197159, 0.0433781027486577, -0.29137810972437495, -1.1978306132083452, 0.41923085497089585, -0.31918684064943975, 1.128602606672595, -1.7825520771222159, 0.6030731735378128, -0.3564898191817619, -1.7844575714167668, -1.5335276217022513, -0.23179194788496277, 1.0021641098970262, -0.6909673306044203, -1.6223983671173798, 0.9163321161767722, -0.16823263095738714, -0.08943816895035614, 0.29775873555054044, 0.12574099999810487, -0.09456630256447097, -0.6611620609872069, 0.21652645180452904, 0.7244403439630475, 0.6954520634005963, -1.5499491574713065, 0.11562111541713081, -1.1221872789710325, 1.6563204328441237, 0.2952248151470929, -1.5686691986603534, -0.013048810598643025, -0.0742857139038019, 0.7150980179301154, -0.7395795234598608, 0.5989185284645229, -0.3093583703760894, -0.5115294388754472, -0.2561361894198458, -1.4477826014600563, 0.5220337678598486, -2.0151186397299794, 0.5886751789306843, -0.2327764475170766, 0.5212684750945968, -0.3863966203198103, 1.104088962904185, 1.7129532254736584, 0.44128179880332474, 0.14979679828882936, -0.2519819766582173, 0.6073456327874504, 0.5990539129529934, 0.41172165954198053, -0.93461312400278, 1.6191205319381616, -0.7132980745026403, -0.6055073499449021, 0.43331854221063015, 1.312027745736751, 0.22528511601214957, 1.6434145615909932, 0.3924455136917064, -0.44644815502010077, 0.3990194329299282, 0.3291683995399519, -0.9125345281980742, 0.3008990483570197, 0.10284225567393888, 0.45990273680458116, 0.5490036543010519, -0.5263979924439908, -0.9350994613038845, 1.418678192436831, -0.3039213118658567, -1.3956681081474906, 0.3520550174745357, -0.9795833300527587, 0.7951530232992107, -1.1695000184850353, -1.9272619586717148, -0.7952510560311679, -1.146988594289629, -0.18338757979591955, -0.3083681940970879, -0.23394117014428933], \"xaxis\": \"x12\", \"y\": [-0.1949333377808265, 1.2874718857137506, 1.034828960634043, -1.250205626820457, -2.3140814312960223, 0.4672105757577219, 0.9336583380187081, -0.899465178637077, -0.23100800292281237, -0.4233280963663838, -0.8789825347499383, -0.23272103414254033, -0.687275448055291, -1.351898514290019, -0.29152858366285617, -0.5384074094042292, 1.0899255578983433, 0.3632462942202497, -0.31347150317497907, -0.6239556756762389, -0.5039547444225779, 0.7470989284312591, 0.5669270767827191, 0.4053962663362149, 0.7470319881233176, -0.7121268908435755, 1.3781094180709663, 0.4374773497359336, 0.4200860244282493, 0.7053171544932973, -0.6008008456387155, 1.114826092770562, 0.5183437897032463, -1.6875410078176634, -0.14119371767260377, -1.2318315718081576, 1.094246490855967, -0.9357325966232735, -1.687124220557086, 0.02834226044932334, -0.43635878228827285, 0.19203209266547921, 1.5017344421595056, -0.758789965263754, -0.48496529798553106, 0.9112791466103329, -0.9065257161127248, 0.15779465541686052, 0.32598660502669086, -0.7494680676971873, 0.8369842300027271, -0.1852978110964879, -0.8537190052680307, -1.328453836121312, 0.8883999662666356, 0.6745108463283488, -0.039512731797237334, -0.15152265482386013, -0.4053422246549689, 1.091898283200699, 0.3523894167516524, -0.8234261540482228, -0.3877115538256855, 2.334372769081094, -1.2790254406427777, -0.05124559254107892, 1.6034395642054087, -0.9702203612312997, -2.986537403890035, 0.8768333360508807, -1.0955398315132059, -1.3184810057926308, 0.4811947683684202, -0.9413875287749689, -0.09428344821563733, 0.24313378679796052, -0.8705367986795014, 0.33500633048508377, -0.23050141623667522, -0.4987736876364225, 1.7595674249869988, -1.371365312362017, 1.5153198832203851, -2.136172527562396, 0.13909291969410825, -0.6749023176385337, 0.280617133701145, -1.8513701473257176, -0.6285511875260519, 1.0104658535811069, -0.005853284057386029, 0.1096869174311675, -0.9210250890711749, 1.7413864500446388, 0.660042296473798, -1.3547562182632082, -0.9333532783173327, -0.1645621664866537, 0.08988391435312298, -0.3005702765173331], \"yaxis\": \"y12\"}, {\"line\": {\"color\": \"rgba(128, 128, 128, 1.0)\", \"dash\": \"solid\", \"shape\": \"linear\", \"width\": 1.3}, \"marker\": {\"size\": 2, \"symbol\": \"circle\"}, \"mode\": \"markers\", \"name\": \"D\", \"text\": \"\", \"type\": \"scatter\", \"x\": [-0.13332898728486217, 0.6049162173562118, -0.16177503105113158, 0.2904262389514051, 1.1562838099089574, -1.1848532417977728, 0.8982273761327372, 0.028278257948029965, -0.9868512173336761, 0.6840821635822759, -0.7608168905347923, -0.4849772912292263, 1.4103246726026462, -0.8217680536926046, -0.10584387485756273, 0.0915326999720717, 1.5868812487818433, 1.4610332716855279, -0.296010479607427, -1.636326733107384, -0.494075647778116, 1.254407911954291, -1.3259794161261163, 0.46662695049174047, 0.9930619033922193, -0.5176556953346497, 0.4923565746528598, -0.30148014268246154, -0.4809887648149414, 0.4820761832548575, 0.9795666811263533, 0.2290842534017007, 0.36752354492950984, 0.6168940590624284, 0.4114722975292953, -0.20855183114206602, 1.132181985806202, 0.9935469114025697, 0.016836190438973112, 0.961885915997291, -1.783903976137237, -0.9587206963745689, -1.5379896533002744, -0.7128492071354146, -0.42738557738685895, 0.4026918235878419, 1.1185123034948807, 1.1653431112356398, 0.5260806281991431, 0.2603131849043691, 1.1467886882959684, -0.40965228755670074, 0.7133917959352619, 1.1250831270878798, 0.817216553655222, 1.4917512529186387, -0.5125131549706918, 0.14776577406804275, 0.21713674429031635, 0.5477373667964758, -0.08254668451697868, -0.750904913226693, -0.48210838498018804, 0.9105294888876799, 0.8690776970323018, -0.95756608003841, -0.6806140558632705, -0.5565517022643965, -0.14106813094953835, 0.17396554387381946, -2.041059568986403, -0.06075202622890458, -1.2553721922271923, 0.740004930068497, 0.6323495961138877, 0.3758072565623964, 0.3121515525987599, 1.2167344648060452, -0.8148129555263465, -1.0423994099522742, -1.053758446029795, 1.0591205959040673, 0.624547701537553, 0.4113627954704313, 1.1811178417779826, 1.0245574869849703, -0.09182695658014851, 0.12237334974580312, -0.8312689468801848, 0.31971330737792997, 0.3882652757412495, -0.24487556089373985, 1.211015675419331, 0.2265724142315915, -0.6340086051558401, 0.789035760998447, -0.428508620713086, -1.2083999122326243, -2.442220579365496, 0.6181020168836062], \"xaxis\": \"x13\", \"y\": [-0.08270575823628525, 0.5721288881350668, 1.0693127747928544, 1.5534994107776754, 0.19406633148953562, -0.26233500689833983, 1.5655280754438046, -0.18114075584586906, -0.009619968905033204, -0.9027686346935858, -0.214812512368609, -0.7364379842187003, -0.19198476000138007, 0.18702643707197159, 0.0433781027486577, -0.29137810972437495, -1.1978306132083452, 0.41923085497089585, -0.31918684064943975, 1.128602606672595, -1.7825520771222159, 0.6030731735378128, -0.3564898191817619, -1.7844575714167668, -1.5335276217022513, -0.23179194788496277, 1.0021641098970262, -0.6909673306044203, -1.6223983671173798, 0.9163321161767722, -0.16823263095738714, -0.08943816895035614, 0.29775873555054044, 0.12574099999810487, -0.09456630256447097, -0.6611620609872069, 0.21652645180452904, 0.7244403439630475, 0.6954520634005963, -1.5499491574713065, 0.11562111541713081, -1.1221872789710325, 1.6563204328441237, 0.2952248151470929, -1.5686691986603534, -0.013048810598643025, -0.0742857139038019, 0.7150980179301154, -0.7395795234598608, 0.5989185284645229, -0.3093583703760894, -0.5115294388754472, -0.2561361894198458, -1.4477826014600563, 0.5220337678598486, -2.0151186397299794, 0.5886751789306843, -0.2327764475170766, 0.5212684750945968, -0.3863966203198103, 1.104088962904185, 1.7129532254736584, 0.44128179880332474, 0.14979679828882936, -0.2519819766582173, 0.6073456327874504, 0.5990539129529934, 0.41172165954198053, -0.93461312400278, 1.6191205319381616, -0.7132980745026403, -0.6055073499449021, 0.43331854221063015, 1.312027745736751, 0.22528511601214957, 1.6434145615909932, 0.3924455136917064, -0.44644815502010077, 0.3990194329299282, 0.3291683995399519, -0.9125345281980742, 0.3008990483570197, 0.10284225567393888, 0.45990273680458116, 0.5490036543010519, -0.5263979924439908, -0.9350994613038845, 1.418678192436831, -0.3039213118658567, -1.3956681081474906, 0.3520550174745357, -0.9795833300527587, 0.7951530232992107, -1.1695000184850353, -1.9272619586717148, -0.7952510560311679, -1.146988594289629, -0.18338757979591955, -0.3083681940970879, -0.23394117014428933], \"yaxis\": \"y13\"}, {\"line\": {\"color\": \"rgba(128, 128, 128, 1.0)\", \"dash\": \"solid\", \"shape\": \"linear\", \"width\": 1.3}, \"marker\": {\"size\": 2, \"symbol\": \"circle\"}, \"mode\": \"markers\", \"name\": \"D\", \"text\": \"\", \"type\": \"scatter\", \"x\": [0.877873119201991, -0.8871864835711982, -0.8779365085710115, 0.16707982521148182, 0.9770570964405164, -1.0210807539641042, -0.21179137664286418, -0.025274265344616083, -1.1092078640172551, -1.1521829664006475, -1.0678537312032441, 0.881399073284442, -1.5472658310039031, 0.42894438694587583, -0.5847667949359995, 0.5861364661033456, -0.04141568970211862, 1.6330695985806374, 0.9136833206359156, 2.0233395926138007, 1.101142592370221, -0.5682038376230117, 0.042882304288209314, -0.4047854558570145, -0.20925108081337035, 0.7529358997543051, 0.7407450265436628, -1.3607933912602541, 0.3411301947962091, 1.3151839384818036, 0.3575314753592644, -1.3118340501498933, 1.4279165133867213, -0.2559157130428562, 0.4464527395079081, 0.6658948694956442, 0.7259355144620822, 0.8235263881423511, -0.08484654956607927, 1.8343974103662948, -0.4713263219195928, -0.8960723024860888, -0.30064987887889344, -0.4316502480055467, 0.2857158451321729, -0.5736274210697178, 2.5697362447985554, 0.6277843390429633, -0.49445184097626804, 0.8499163415546525, 1.5785939994794886, -0.9821279273371802, -0.4739870836956822, -1.3416687809494725, 0.984719136622916, -0.2741650591388619, 1.4972102529508924, 0.17436161357051014, -0.7460530393643999, 0.4081345878441793, 0.7508643479924706, 0.007458631298474343, -2.356211944871521, 1.2434124482978255, -0.9764707565302257, -0.9003187532037691, -0.6552946312368383, 1.01863556348232, 2.5093706224495755, -0.04773433274440632, 1.0449119076216544, 0.408730882028547, -0.11919913738978115, 0.38587853161043395, -1.1517321753523175, 1.6165054269845633, 2.320370989305167, -0.97030489009854, 0.03428818309439457, -0.567194415289803, -1.6004626492305494, 0.7941768603034315, 0.7850386433665631, 1.5710577492336988, 0.5925013415374528, 1.3388239018740202, -1.493035583334954, 0.8131093233548212, -0.06253088379133223, 1.0761370002087423, 1.6009510396615159, 1.0372091416050686, 0.24796801351280354, 1.1619363392738358, -0.3941704306660358, -0.7976663790741948, 1.7838229422786538, -1.6143395792946713, 0.2445066278672296, -0.19001794744455636], \"xaxis\": \"x14\", \"y\": [-0.08270575823628525, 0.5721288881350668, 1.0693127747928544, 1.5534994107776754, 0.19406633148953562, -0.26233500689833983, 1.5655280754438046, -0.18114075584586906, -0.009619968905033204, -0.9027686346935858, -0.214812512368609, -0.7364379842187003, -0.19198476000138007, 0.18702643707197159, 0.0433781027486577, -0.29137810972437495, -1.1978306132083452, 0.41923085497089585, -0.31918684064943975, 1.128602606672595, -1.7825520771222159, 0.6030731735378128, -0.3564898191817619, -1.7844575714167668, -1.5335276217022513, -0.23179194788496277, 1.0021641098970262, -0.6909673306044203, -1.6223983671173798, 0.9163321161767722, -0.16823263095738714, -0.08943816895035614, 0.29775873555054044, 0.12574099999810487, -0.09456630256447097, -0.6611620609872069, 0.21652645180452904, 0.7244403439630475, 0.6954520634005963, -1.5499491574713065, 0.11562111541713081, -1.1221872789710325, 1.6563204328441237, 0.2952248151470929, -1.5686691986603534, -0.013048810598643025, -0.0742857139038019, 0.7150980179301154, -0.7395795234598608, 0.5989185284645229, -0.3093583703760894, -0.5115294388754472, -0.2561361894198458, -1.4477826014600563, 0.5220337678598486, -2.0151186397299794, 0.5886751789306843, -0.2327764475170766, 0.5212684750945968, -0.3863966203198103, 1.104088962904185, 1.7129532254736584, 0.44128179880332474, 0.14979679828882936, -0.2519819766582173, 0.6073456327874504, 0.5990539129529934, 0.41172165954198053, -0.93461312400278, 1.6191205319381616, -0.7132980745026403, -0.6055073499449021, 0.43331854221063015, 1.312027745736751, 0.22528511601214957, 1.6434145615909932, 0.3924455136917064, -0.44644815502010077, 0.3990194329299282, 0.3291683995399519, -0.9125345281980742, 0.3008990483570197, 0.10284225567393888, 0.45990273680458116, 0.5490036543010519, -0.5263979924439908, -0.9350994613038845, 1.418678192436831, -0.3039213118658567, -1.3956681081474906, 0.3520550174745357, -0.9795833300527587, 0.7951530232992107, -1.1695000184850353, -1.9272619586717148, -0.7952510560311679, -1.146988594289629, -0.18338757979591955, -0.3083681940970879, -0.23394117014428933], \"yaxis\": \"y14\"}, {\"line\": {\"color\": \"rgba(128, 128, 128, 1.0)\", \"dash\": \"solid\", \"shape\": \"linear\", \"width\": 1.3}, \"marker\": {\"size\": 2, \"symbol\": \"circle\"}, \"mode\": \"markers\", \"name\": \"D\", \"text\": \"\", \"type\": \"scatter\", \"x\": [-0.1949333377808265, 1.2874718857137506, 1.034828960634043, -1.250205626820457, -2.3140814312960223, 0.4672105757577219, 0.9336583380187081, -0.899465178637077, -0.23100800292281237, -0.4233280963663838, -0.8789825347499383, -0.23272103414254033, -0.687275448055291, -1.351898514290019, -0.29152858366285617, -0.5384074094042292, 1.0899255578983433, 0.3632462942202497, -0.31347150317497907, -0.6239556756762389, -0.5039547444225779, 0.7470989284312591, 0.5669270767827191, 0.4053962663362149, 0.7470319881233176, -0.7121268908435755, 1.3781094180709663, 0.4374773497359336, 0.4200860244282493, 0.7053171544932973, -0.6008008456387155, 1.114826092770562, 0.5183437897032463, -1.6875410078176634, -0.14119371767260377, -1.2318315718081576, 1.094246490855967, -0.9357325966232735, -1.687124220557086, 0.02834226044932334, -0.43635878228827285, 0.19203209266547921, 1.5017344421595056, -0.758789965263754, -0.48496529798553106, 0.9112791466103329, -0.9065257161127248, 0.15779465541686052, 0.32598660502669086, -0.7494680676971873, 0.8369842300027271, -0.1852978110964879, -0.8537190052680307, -1.328453836121312, 0.8883999662666356, 0.6745108463283488, -0.039512731797237334, -0.15152265482386013, -0.4053422246549689, 1.091898283200699, 0.3523894167516524, -0.8234261540482228, -0.3877115538256855, 2.334372769081094, -1.2790254406427777, -0.05124559254107892, 1.6034395642054087, -0.9702203612312997, -2.986537403890035, 0.8768333360508807, -1.0955398315132059, -1.3184810057926308, 0.4811947683684202, -0.9413875287749689, -0.09428344821563733, 0.24313378679796052, -0.8705367986795014, 0.33500633048508377, -0.23050141623667522, -0.4987736876364225, 1.7595674249869988, -1.371365312362017, 1.5153198832203851, -2.136172527562396, 0.13909291969410825, -0.6749023176385337, 0.280617133701145, -1.8513701473257176, -0.6285511875260519, 1.0104658535811069, -0.005853284057386029, 0.1096869174311675, -0.9210250890711749, 1.7413864500446388, 0.660042296473798, -1.3547562182632082, -0.9333532783173327, -0.1645621664866537, 0.08988391435312298, -0.3005702765173331], \"xaxis\": \"x15\", \"y\": [-0.08270575823628525, 0.5721288881350668, 1.0693127747928544, 1.5534994107776754, 0.19406633148953562, -0.26233500689833983, 1.5655280754438046, -0.18114075584586906, -0.009619968905033204, -0.9027686346935858, -0.214812512368609, -0.7364379842187003, -0.19198476000138007, 0.18702643707197159, 0.0433781027486577, -0.29137810972437495, -1.1978306132083452, 0.41923085497089585, -0.31918684064943975, 1.128602606672595, -1.7825520771222159, 0.6030731735378128, -0.3564898191817619, -1.7844575714167668, -1.5335276217022513, -0.23179194788496277, 1.0021641098970262, -0.6909673306044203, -1.6223983671173798, 0.9163321161767722, -0.16823263095738714, -0.08943816895035614, 0.29775873555054044, 0.12574099999810487, -0.09456630256447097, -0.6611620609872069, 0.21652645180452904, 0.7244403439630475, 0.6954520634005963, -1.5499491574713065, 0.11562111541713081, -1.1221872789710325, 1.6563204328441237, 0.2952248151470929, -1.5686691986603534, -0.013048810598643025, -0.0742857139038019, 0.7150980179301154, -0.7395795234598608, 0.5989185284645229, -0.3093583703760894, -0.5115294388754472, -0.2561361894198458, -1.4477826014600563, 0.5220337678598486, -2.0151186397299794, 0.5886751789306843, -0.2327764475170766, 0.5212684750945968, -0.3863966203198103, 1.104088962904185, 1.7129532254736584, 0.44128179880332474, 0.14979679828882936, -0.2519819766582173, 0.6073456327874504, 0.5990539129529934, 0.41172165954198053, -0.93461312400278, 1.6191205319381616, -0.7132980745026403, -0.6055073499449021, 0.43331854221063015, 1.312027745736751, 0.22528511601214957, 1.6434145615909932, 0.3924455136917064, -0.44644815502010077, 0.3990194329299282, 0.3291683995399519, -0.9125345281980742, 0.3008990483570197, 0.10284225567393888, 0.45990273680458116, 0.5490036543010519, -0.5263979924439908, -0.9350994613038845, 1.418678192436831, -0.3039213118658567, -1.3956681081474906, 0.3520550174745357, -0.9795833300527587, 0.7951530232992107, -1.1695000184850353, -1.9272619586717148, -0.7952510560311679, -1.146988594289629, -0.18338757979591955, -0.3083681940970879, -0.23394117014428933], \"yaxis\": \"y15\"}, {\"histfunc\": \"count\", \"histnorm\": \"\", \"marker\": {\"color\": \"rgba(128, 0, 128, 1.0)\", \"line\": {\"color\": \"#4D5663\", \"width\": 1.3}}, \"name\": \"D\", \"nbinsx\": 10, \"opacity\": 0.8, \"orientation\": \"v\", \"type\": \"histogram\", \"x\": [-0.08270575823628525, 0.5721288881350668, 1.0693127747928544, 1.5534994107776754, 0.19406633148953562, -0.26233500689833983, 1.5655280754438046, -0.18114075584586906, -0.009619968905033204, -0.9027686346935858, -0.214812512368609, -0.7364379842187003, -0.19198476000138007, 0.18702643707197159, 0.0433781027486577, -0.29137810972437495, -1.1978306132083452, 0.41923085497089585, -0.31918684064943975, 1.128602606672595, -1.7825520771222159, 0.6030731735378128, -0.3564898191817619, -1.7844575714167668, -1.5335276217022513, -0.23179194788496277, 1.0021641098970262, -0.6909673306044203, -1.6223983671173798, 0.9163321161767722, -0.16823263095738714, -0.08943816895035614, 0.29775873555054044, 0.12574099999810487, -0.09456630256447097, -0.6611620609872069, 0.21652645180452904, 0.7244403439630475, 0.6954520634005963, -1.5499491574713065, 0.11562111541713081, -1.1221872789710325, 1.6563204328441237, 0.2952248151470929, -1.5686691986603534, -0.013048810598643025, -0.0742857139038019, 0.7150980179301154, -0.7395795234598608, 0.5989185284645229, -0.3093583703760894, -0.5115294388754472, -0.2561361894198458, -1.4477826014600563, 0.5220337678598486, -2.0151186397299794, 0.5886751789306843, -0.2327764475170766, 0.5212684750945968, -0.3863966203198103, 1.104088962904185, 1.7129532254736584, 0.44128179880332474, 0.14979679828882936, -0.2519819766582173, 0.6073456327874504, 0.5990539129529934, 0.41172165954198053, -0.93461312400278, 1.6191205319381616, -0.7132980745026403, -0.6055073499449021, 0.43331854221063015, 1.312027745736751, 0.22528511601214957, 1.6434145615909932, 0.3924455136917064, -0.44644815502010077, 0.3990194329299282, 0.3291683995399519, -0.9125345281980742, 0.3008990483570197, 0.10284225567393888, 0.45990273680458116, 0.5490036543010519, -0.5263979924439908, -0.9350994613038845, 1.418678192436831, -0.3039213118658567, -1.3956681081474906, 0.3520550174745357, -0.9795833300527587, 0.7951530232992107, -1.1695000184850353, -1.9272619586717148, -0.7952510560311679, -1.146988594289629, -0.18338757979591955, -0.3083681940970879, -0.23394117014428933], \"xaxis\": \"x16\", \"yaxis\": \"y16\"}],\n",
       "                        {\"bargap\": 0.02, \"legend\": {\"bgcolor\": \"#F5F6F9\", \"font\": {\"color\": \"#4D5663\"}}, \"paper_bgcolor\": \"#F5F6F9\", \"plot_bgcolor\": \"#F5F6F9\", \"showlegend\": false, \"template\": {\"data\": {\"bar\": [{\"error_x\": {\"color\": \"#2a3f5f\"}, \"error_y\": {\"color\": \"#2a3f5f\"}, \"marker\": {\"line\": {\"color\": \"#E5ECF6\", \"width\": 0.5}}, \"type\": \"bar\"}], \"barpolar\": [{\"marker\": {\"line\": {\"color\": \"#E5ECF6\", \"width\": 0.5}}, \"type\": \"barpolar\"}], \"carpet\": [{\"aaxis\": {\"endlinecolor\": \"#2a3f5f\", \"gridcolor\": \"white\", \"linecolor\": \"white\", \"minorgridcolor\": \"white\", \"startlinecolor\": \"#2a3f5f\"}, \"baxis\": {\"endlinecolor\": \"#2a3f5f\", \"gridcolor\": \"white\", \"linecolor\": \"white\", \"minorgridcolor\": \"white\", \"startlinecolor\": \"#2a3f5f\"}, \"type\": \"carpet\"}], \"choropleth\": [{\"colorbar\": {\"outlinewidth\": 0, \"ticks\": \"\"}, \"type\": \"choropleth\"}], \"contour\": [{\"colorbar\": {\"outlinewidth\": 0, \"ticks\": \"\"}, \"colorscale\": [[0.0, \"#0d0887\"], [0.1111111111111111, \"#46039f\"], [0.2222222222222222, \"#7201a8\"], [0.3333333333333333, \"#9c179e\"], [0.4444444444444444, \"#bd3786\"], [0.5555555555555556, \"#d8576b\"], [0.6666666666666666, \"#ed7953\"], [0.7777777777777778, \"#fb9f3a\"], [0.8888888888888888, \"#fdca26\"], [1.0, \"#f0f921\"]], \"type\": \"contour\"}], \"contourcarpet\": [{\"colorbar\": {\"outlinewidth\": 0, \"ticks\": \"\"}, \"type\": \"contourcarpet\"}], \"heatmap\": [{\"colorbar\": {\"outlinewidth\": 0, \"ticks\": \"\"}, \"colorscale\": [[0.0, \"#0d0887\"], [0.1111111111111111, \"#46039f\"], [0.2222222222222222, \"#7201a8\"], [0.3333333333333333, \"#9c179e\"], [0.4444444444444444, \"#bd3786\"], [0.5555555555555556, \"#d8576b\"], [0.6666666666666666, \"#ed7953\"], [0.7777777777777778, \"#fb9f3a\"], [0.8888888888888888, \"#fdca26\"], [1.0, \"#f0f921\"]], \"type\": \"heatmap\"}], \"heatmapgl\": [{\"colorbar\": {\"outlinewidth\": 0, \"ticks\": \"\"}, \"colorscale\": [[0.0, \"#0d0887\"], [0.1111111111111111, \"#46039f\"], [0.2222222222222222, \"#7201a8\"], [0.3333333333333333, \"#9c179e\"], [0.4444444444444444, \"#bd3786\"], [0.5555555555555556, \"#d8576b\"], [0.6666666666666666, \"#ed7953\"], [0.7777777777777778, \"#fb9f3a\"], [0.8888888888888888, \"#fdca26\"], [1.0, \"#f0f921\"]], \"type\": \"heatmapgl\"}], \"histogram\": [{\"marker\": {\"colorbar\": {\"outlinewidth\": 0, \"ticks\": \"\"}}, \"type\": \"histogram\"}], \"histogram2d\": [{\"colorbar\": {\"outlinewidth\": 0, \"ticks\": \"\"}, \"colorscale\": [[0.0, \"#0d0887\"], [0.1111111111111111, \"#46039f\"], [0.2222222222222222, \"#7201a8\"], [0.3333333333333333, \"#9c179e\"], [0.4444444444444444, \"#bd3786\"], [0.5555555555555556, \"#d8576b\"], [0.6666666666666666, \"#ed7953\"], [0.7777777777777778, \"#fb9f3a\"], [0.8888888888888888, \"#fdca26\"], [1.0, \"#f0f921\"]], \"type\": \"histogram2d\"}], \"histogram2dcontour\": [{\"colorbar\": {\"outlinewidth\": 0, \"ticks\": \"\"}, \"colorscale\": [[0.0, \"#0d0887\"], [0.1111111111111111, \"#46039f\"], [0.2222222222222222, \"#7201a8\"], [0.3333333333333333, \"#9c179e\"], [0.4444444444444444, \"#bd3786\"], [0.5555555555555556, \"#d8576b\"], [0.6666666666666666, \"#ed7953\"], [0.7777777777777778, \"#fb9f3a\"], [0.8888888888888888, \"#fdca26\"], [1.0, \"#f0f921\"]], \"type\": \"histogram2dcontour\"}], \"mesh3d\": [{\"colorbar\": {\"outlinewidth\": 0, \"ticks\": \"\"}, \"type\": \"mesh3d\"}], \"parcoords\": [{\"line\": {\"colorbar\": {\"outlinewidth\": 0, \"ticks\": \"\"}}, \"type\": \"parcoords\"}], \"pie\": [{\"automargin\": true, \"type\": \"pie\"}], \"scatter\": [{\"marker\": {\"colorbar\": {\"outlinewidth\": 0, \"ticks\": \"\"}}, \"type\": \"scatter\"}], \"scatter3d\": [{\"line\": {\"colorbar\": {\"outlinewidth\": 0, \"ticks\": \"\"}}, \"marker\": {\"colorbar\": {\"outlinewidth\": 0, \"ticks\": \"\"}}, \"type\": \"scatter3d\"}], \"scattercarpet\": [{\"marker\": {\"colorbar\": {\"outlinewidth\": 0, \"ticks\": \"\"}}, \"type\": \"scattercarpet\"}], \"scattergeo\": [{\"marker\": {\"colorbar\": {\"outlinewidth\": 0, \"ticks\": \"\"}}, \"type\": \"scattergeo\"}], \"scattergl\": [{\"marker\": {\"colorbar\": {\"outlinewidth\": 0, \"ticks\": \"\"}}, \"type\": \"scattergl\"}], \"scattermapbox\": [{\"marker\": {\"colorbar\": {\"outlinewidth\": 0, \"ticks\": \"\"}}, \"type\": \"scattermapbox\"}], \"scatterpolar\": [{\"marker\": {\"colorbar\": {\"outlinewidth\": 0, \"ticks\": \"\"}}, \"type\": \"scatterpolar\"}], \"scatterpolargl\": [{\"marker\": {\"colorbar\": {\"outlinewidth\": 0, \"ticks\": \"\"}}, \"type\": \"scatterpolargl\"}], \"scatterternary\": [{\"marker\": {\"colorbar\": {\"outlinewidth\": 0, \"ticks\": \"\"}}, \"type\": \"scatterternary\"}], \"surface\": [{\"colorbar\": {\"outlinewidth\": 0, \"ticks\": \"\"}, \"colorscale\": [[0.0, \"#0d0887\"], [0.1111111111111111, \"#46039f\"], [0.2222222222222222, \"#7201a8\"], [0.3333333333333333, \"#9c179e\"], [0.4444444444444444, \"#bd3786\"], [0.5555555555555556, \"#d8576b\"], [0.6666666666666666, \"#ed7953\"], [0.7777777777777778, \"#fb9f3a\"], [0.8888888888888888, \"#fdca26\"], [1.0, \"#f0f921\"]], \"type\": \"surface\"}], \"table\": [{\"cells\": {\"fill\": {\"color\": \"#EBF0F8\"}, \"line\": {\"color\": \"white\"}}, \"header\": {\"fill\": {\"color\": \"#C8D4E3\"}, \"line\": {\"color\": \"white\"}}, \"type\": \"table\"}]}, \"layout\": {\"annotationdefaults\": {\"arrowcolor\": \"#2a3f5f\", \"arrowhead\": 0, \"arrowwidth\": 1}, \"coloraxis\": {\"colorbar\": {\"outlinewidth\": 0, \"ticks\": \"\"}}, \"colorscale\": {\"diverging\": [[0, \"#8e0152\"], [0.1, \"#c51b7d\"], [0.2, \"#de77ae\"], [0.3, \"#f1b6da\"], [0.4, \"#fde0ef\"], [0.5, \"#f7f7f7\"], [0.6, \"#e6f5d0\"], [0.7, \"#b8e186\"], [0.8, \"#7fbc41\"], [0.9, \"#4d9221\"], [1, \"#276419\"]], \"sequential\": [[0.0, \"#0d0887\"], [0.1111111111111111, \"#46039f\"], [0.2222222222222222, \"#7201a8\"], [0.3333333333333333, \"#9c179e\"], [0.4444444444444444, \"#bd3786\"], [0.5555555555555556, \"#d8576b\"], [0.6666666666666666, \"#ed7953\"], [0.7777777777777778, \"#fb9f3a\"], [0.8888888888888888, \"#fdca26\"], [1.0, \"#f0f921\"]], \"sequentialminus\": [[0.0, \"#0d0887\"], [0.1111111111111111, \"#46039f\"], [0.2222222222222222, \"#7201a8\"], [0.3333333333333333, \"#9c179e\"], [0.4444444444444444, \"#bd3786\"], [0.5555555555555556, \"#d8576b\"], [0.6666666666666666, \"#ed7953\"], [0.7777777777777778, \"#fb9f3a\"], [0.8888888888888888, \"#fdca26\"], [1.0, \"#f0f921\"]]}, \"colorway\": [\"#636efa\", \"#EF553B\", \"#00cc96\", \"#ab63fa\", \"#FFA15A\", \"#19d3f3\", \"#FF6692\", \"#B6E880\", \"#FF97FF\", \"#FECB52\"], \"font\": {\"color\": \"#2a3f5f\"}, \"geo\": {\"bgcolor\": \"white\", \"lakecolor\": \"white\", \"landcolor\": \"#E5ECF6\", \"showlakes\": true, \"showland\": true, \"subunitcolor\": \"white\"}, \"hoverlabel\": {\"align\": \"left\"}, \"hovermode\": \"closest\", \"mapbox\": {\"style\": \"light\"}, \"paper_bgcolor\": \"white\", \"plot_bgcolor\": \"#E5ECF6\", \"polar\": {\"angularaxis\": {\"gridcolor\": \"white\", \"linecolor\": \"white\", \"ticks\": \"\"}, \"bgcolor\": \"#E5ECF6\", \"radialaxis\": {\"gridcolor\": \"white\", \"linecolor\": \"white\", \"ticks\": \"\"}}, \"scene\": {\"xaxis\": {\"backgroundcolor\": \"#E5ECF6\", \"gridcolor\": \"white\", \"gridwidth\": 2, \"linecolor\": \"white\", \"showbackground\": true, \"ticks\": \"\", \"zerolinecolor\": \"white\"}, \"yaxis\": {\"backgroundcolor\": \"#E5ECF6\", \"gridcolor\": \"white\", \"gridwidth\": 2, \"linecolor\": \"white\", \"showbackground\": true, \"ticks\": \"\", \"zerolinecolor\": \"white\"}, \"zaxis\": {\"backgroundcolor\": \"#E5ECF6\", \"gridcolor\": \"white\", \"gridwidth\": 2, \"linecolor\": \"white\", \"showbackground\": true, \"ticks\": \"\", \"zerolinecolor\": \"white\"}}, \"shapedefaults\": {\"line\": {\"color\": \"#2a3f5f\"}}, \"ternary\": {\"aaxis\": {\"gridcolor\": \"white\", \"linecolor\": \"white\", \"ticks\": \"\"}, \"baxis\": {\"gridcolor\": \"white\", \"linecolor\": \"white\", \"ticks\": \"\"}, \"bgcolor\": \"#E5ECF6\", \"caxis\": {\"gridcolor\": \"white\", \"linecolor\": \"white\", \"ticks\": \"\"}}, \"title\": {\"x\": 0.05}, \"xaxis\": {\"automargin\": true, \"gridcolor\": \"white\", \"linecolor\": \"white\", \"ticks\": \"\", \"title\": {\"standoff\": 15}, \"zerolinecolor\": \"white\", \"zerolinewidth\": 2}, \"yaxis\": {\"automargin\": true, \"gridcolor\": \"white\", \"linecolor\": \"white\", \"ticks\": \"\", \"title\": {\"standoff\": 15}, \"zerolinecolor\": \"white\", \"zerolinewidth\": 2}}}, \"title\": {\"font\": {\"color\": \"#4D5663\"}}, \"xaxis\": {\"anchor\": \"y\", \"domain\": [0.0, 0.2125], \"gridcolor\": \"#E1E5ED\", \"showgrid\": false, \"tickfont\": {\"color\": \"#4D5663\"}, \"title\": {\"font\": {\"color\": \"#4D5663\"}, \"text\": \"\"}, \"zerolinecolor\": \"#E1E5ED\"}, \"xaxis10\": {\"anchor\": \"y10\", \"domain\": [0.2625, 0.475], \"gridcolor\": \"#E1E5ED\", \"showgrid\": false, \"tickfont\": {\"color\": \"#4D5663\"}, \"title\": {\"font\": {\"color\": \"#4D5663\"}, \"text\": \"\"}, \"zerolinecolor\": \"#E1E5ED\"}, \"xaxis11\": {\"anchor\": \"y11\", \"domain\": [0.525, 0.7375], \"gridcolor\": \"#E1E5ED\", \"showgrid\": false, \"tickfont\": {\"color\": \"#4D5663\"}, \"title\": {\"font\": {\"color\": \"#4D5663\"}, \"text\": \"\"}, \"zerolinecolor\": \"#E1E5ED\"}, \"xaxis12\": {\"anchor\": \"y12\", \"domain\": [0.7875, 1.0], \"gridcolor\": \"#E1E5ED\", \"showgrid\": false, \"tickfont\": {\"color\": \"#4D5663\"}, \"title\": {\"font\": {\"color\": \"#4D5663\"}, \"text\": \"\"}, \"zerolinecolor\": \"#E1E5ED\"}, \"xaxis13\": {\"anchor\": \"y13\", \"domain\": [0.0, 0.2125], \"gridcolor\": \"#E1E5ED\", \"showgrid\": false, \"tickfont\": {\"color\": \"#4D5663\"}, \"title\": {\"font\": {\"color\": \"#4D5663\"}, \"text\": \"\"}, \"zerolinecolor\": \"#E1E5ED\"}, \"xaxis14\": {\"anchor\": \"y14\", \"domain\": [0.2625, 0.475], \"gridcolor\": \"#E1E5ED\", \"showgrid\": false, \"tickfont\": {\"color\": \"#4D5663\"}, \"title\": {\"font\": {\"color\": \"#4D5663\"}, \"text\": \"\"}, \"zerolinecolor\": \"#E1E5ED\"}, \"xaxis15\": {\"anchor\": \"y15\", \"domain\": [0.525, 0.7375], \"gridcolor\": \"#E1E5ED\", \"showgrid\": false, \"tickfont\": {\"color\": \"#4D5663\"}, \"title\": {\"font\": {\"color\": \"#4D5663\"}, \"text\": \"\"}, \"zerolinecolor\": \"#E1E5ED\"}, \"xaxis16\": {\"anchor\": \"y16\", \"domain\": [0.7875, 1.0], \"gridcolor\": \"#E1E5ED\", \"showgrid\": false, \"tickfont\": {\"color\": \"#4D5663\"}, \"title\": {\"font\": {\"color\": \"#4D5663\"}, \"text\": \"\"}, \"zerolinecolor\": \"#E1E5ED\"}, \"xaxis2\": {\"anchor\": \"y2\", \"domain\": [0.2625, 0.475], \"gridcolor\": \"#E1E5ED\", \"showgrid\": false, \"tickfont\": {\"color\": \"#4D5663\"}, \"title\": {\"font\": {\"color\": \"#4D5663\"}, \"text\": \"\"}, \"zerolinecolor\": \"#E1E5ED\"}, \"xaxis3\": {\"anchor\": \"y3\", \"domain\": [0.525, 0.7375], \"gridcolor\": \"#E1E5ED\", \"showgrid\": false, \"tickfont\": {\"color\": \"#4D5663\"}, \"title\": {\"font\": {\"color\": \"#4D5663\"}, \"text\": \"\"}, \"zerolinecolor\": \"#E1E5ED\"}, \"xaxis4\": {\"anchor\": \"y4\", \"domain\": [0.7875, 1.0], \"gridcolor\": \"#E1E5ED\", \"showgrid\": false, \"tickfont\": {\"color\": \"#4D5663\"}, \"title\": {\"font\": {\"color\": \"#4D5663\"}, \"text\": \"\"}, \"zerolinecolor\": \"#E1E5ED\"}, \"xaxis5\": {\"anchor\": \"y5\", \"domain\": [0.0, 0.2125], \"gridcolor\": \"#E1E5ED\", \"showgrid\": false, \"tickfont\": {\"color\": \"#4D5663\"}, \"title\": {\"font\": {\"color\": \"#4D5663\"}, \"text\": \"\"}, \"zerolinecolor\": \"#E1E5ED\"}, \"xaxis6\": {\"anchor\": \"y6\", \"domain\": [0.2625, 0.475], \"gridcolor\": \"#E1E5ED\", \"showgrid\": false, \"tickfont\": {\"color\": \"#4D5663\"}, \"title\": {\"font\": {\"color\": \"#4D5663\"}, \"text\": \"\"}, \"zerolinecolor\": \"#E1E5ED\"}, \"xaxis7\": {\"anchor\": \"y7\", \"domain\": [0.525, 0.7375], \"gridcolor\": \"#E1E5ED\", \"showgrid\": false, \"tickfont\": {\"color\": \"#4D5663\"}, \"title\": {\"font\": {\"color\": \"#4D5663\"}, \"text\": \"\"}, \"zerolinecolor\": \"#E1E5ED\"}, \"xaxis8\": {\"anchor\": \"y8\", \"domain\": [0.7875, 1.0], \"gridcolor\": \"#E1E5ED\", \"showgrid\": false, \"tickfont\": {\"color\": \"#4D5663\"}, \"title\": {\"font\": {\"color\": \"#4D5663\"}, \"text\": \"\"}, \"zerolinecolor\": \"#E1E5ED\"}, \"xaxis9\": {\"anchor\": \"y9\", \"domain\": [0.0, 0.2125], \"gridcolor\": \"#E1E5ED\", \"showgrid\": false, \"tickfont\": {\"color\": \"#4D5663\"}, \"title\": {\"font\": {\"color\": \"#4D5663\"}, \"text\": \"\"}, \"zerolinecolor\": \"#E1E5ED\"}, \"yaxis\": {\"anchor\": \"x\", \"domain\": [0.8025, 1.0], \"gridcolor\": \"#E1E5ED\", \"showgrid\": false, \"tickfont\": {\"color\": \"#4D5663\"}, \"title\": {\"font\": {\"color\": \"#4D5663\"}, \"text\": \"\"}, \"zerolinecolor\": \"#E1E5ED\"}, \"yaxis10\": {\"anchor\": \"x10\", \"domain\": [0.2675, 0.465], \"gridcolor\": \"#E1E5ED\", \"showgrid\": false, \"tickfont\": {\"color\": \"#4D5663\"}, \"title\": {\"font\": {\"color\": \"#4D5663\"}, \"text\": \"\"}, \"zerolinecolor\": \"#E1E5ED\"}, \"yaxis11\": {\"anchor\": \"x11\", \"domain\": [0.2675, 0.465], \"gridcolor\": \"#E1E5ED\", \"showgrid\": false, \"tickfont\": {\"color\": \"#4D5663\"}, \"title\": {\"font\": {\"color\": \"#4D5663\"}, \"text\": \"\"}, \"zerolinecolor\": \"#E1E5ED\"}, \"yaxis12\": {\"anchor\": \"x12\", \"domain\": [0.2675, 0.465], \"gridcolor\": \"#E1E5ED\", \"showgrid\": false, \"tickfont\": {\"color\": \"#4D5663\"}, \"title\": {\"font\": {\"color\": \"#4D5663\"}, \"text\": \"\"}, \"zerolinecolor\": \"#E1E5ED\"}, \"yaxis13\": {\"anchor\": \"x13\", \"domain\": [0.0, 0.1975], \"gridcolor\": \"#E1E5ED\", \"showgrid\": false, \"tickfont\": {\"color\": \"#4D5663\"}, \"title\": {\"font\": {\"color\": \"#4D5663\"}, \"text\": \"\"}, \"zerolinecolor\": \"#E1E5ED\"}, \"yaxis14\": {\"anchor\": \"x14\", \"domain\": [0.0, 0.1975], \"gridcolor\": \"#E1E5ED\", \"showgrid\": false, \"tickfont\": {\"color\": \"#4D5663\"}, \"title\": {\"font\": {\"color\": \"#4D5663\"}, \"text\": \"\"}, \"zerolinecolor\": \"#E1E5ED\"}, \"yaxis15\": {\"anchor\": \"x15\", \"domain\": [0.0, 0.1975], \"gridcolor\": \"#E1E5ED\", \"showgrid\": false, \"tickfont\": {\"color\": \"#4D5663\"}, \"title\": {\"font\": {\"color\": \"#4D5663\"}, \"text\": \"\"}, \"zerolinecolor\": \"#E1E5ED\"}, \"yaxis16\": {\"anchor\": \"x16\", \"domain\": [0.0, 0.1975], \"gridcolor\": \"#E1E5ED\", \"showgrid\": false, \"tickfont\": {\"color\": \"#4D5663\"}, \"title\": {\"font\": {\"color\": \"#4D5663\"}, \"text\": \"\"}, \"zerolinecolor\": \"#E1E5ED\"}, \"yaxis2\": {\"anchor\": \"x2\", \"domain\": [0.8025, 1.0], \"gridcolor\": \"#E1E5ED\", \"showgrid\": false, \"tickfont\": {\"color\": \"#4D5663\"}, \"title\": {\"font\": {\"color\": \"#4D5663\"}, \"text\": \"\"}, \"zerolinecolor\": \"#E1E5ED\"}, \"yaxis3\": {\"anchor\": \"x3\", \"domain\": [0.8025, 1.0], \"gridcolor\": \"#E1E5ED\", \"showgrid\": false, \"tickfont\": {\"color\": \"#4D5663\"}, \"title\": {\"font\": {\"color\": \"#4D5663\"}, \"text\": \"\"}, \"zerolinecolor\": \"#E1E5ED\"}, \"yaxis4\": {\"anchor\": \"x4\", \"domain\": [0.8025, 1.0], \"gridcolor\": \"#E1E5ED\", \"showgrid\": false, \"tickfont\": {\"color\": \"#4D5663\"}, \"title\": {\"font\": {\"color\": \"#4D5663\"}, \"text\": \"\"}, \"zerolinecolor\": \"#E1E5ED\"}, \"yaxis5\": {\"anchor\": \"x5\", \"domain\": [0.535, 0.7325], \"gridcolor\": \"#E1E5ED\", \"showgrid\": false, \"tickfont\": {\"color\": \"#4D5663\"}, \"title\": {\"font\": {\"color\": \"#4D5663\"}, \"text\": \"\"}, \"zerolinecolor\": \"#E1E5ED\"}, \"yaxis6\": {\"anchor\": \"x6\", \"domain\": [0.535, 0.7325], \"gridcolor\": \"#E1E5ED\", \"showgrid\": false, \"tickfont\": {\"color\": \"#4D5663\"}, \"title\": {\"font\": {\"color\": \"#4D5663\"}, \"text\": \"\"}, \"zerolinecolor\": \"#E1E5ED\"}, \"yaxis7\": {\"anchor\": \"x7\", \"domain\": [0.535, 0.7325], \"gridcolor\": \"#E1E5ED\", \"showgrid\": false, \"tickfont\": {\"color\": \"#4D5663\"}, \"title\": {\"font\": {\"color\": \"#4D5663\"}, \"text\": \"\"}, \"zerolinecolor\": \"#E1E5ED\"}, \"yaxis8\": {\"anchor\": \"x8\", \"domain\": [0.535, 0.7325], \"gridcolor\": \"#E1E5ED\", \"showgrid\": false, \"tickfont\": {\"color\": \"#4D5663\"}, \"title\": {\"font\": {\"color\": \"#4D5663\"}, \"text\": \"\"}, \"zerolinecolor\": \"#E1E5ED\"}, \"yaxis9\": {\"anchor\": \"x9\", \"domain\": [0.2675, 0.465], \"gridcolor\": \"#E1E5ED\", \"showgrid\": false, \"tickfont\": {\"color\": \"#4D5663\"}, \"title\": {\"font\": {\"color\": \"#4D5663\"}, \"text\": \"\"}, \"zerolinecolor\": \"#E1E5ED\"}},\n",
       "                        {\"showLink\": true, \"linkText\": \"Export to plot.ly\", \"plotlyServerURL\": \"https://plot.ly\", \"responsive\": true}\n",
       "                    ).then(function(){\n",
       "                            \n",
       "var gd = document.getElementById('b3862a19-04ee-44a7-85e3-dac6d7dbde23');\n",
       "var x = new MutationObserver(function (mutations, observer) {{\n",
       "        var display = window.getComputedStyle(gd).display;\n",
       "        if (!display || display === 'none') {{\n",
       "            console.log([gd, 'removed!']);\n",
       "            Plotly.purge(gd);\n",
       "            observer.disconnect();\n",
       "        }}\n",
       "}});\n",
       "\n",
       "// Listen for the removal of the full notebook cells\n",
       "var notebookContainer = gd.closest('#notebook-container');\n",
       "if (notebookContainer) {{\n",
       "    x.observe(notebookContainer, {childList: true});\n",
       "}}\n",
       "\n",
       "// Listen for the clearing of the current output cell\n",
       "var outputEl = gd.closest('.output');\n",
       "if (outputEl) {{\n",
       "    x.observe(outputEl, {childList: true});\n",
       "}}\n",
       "\n",
       "                        })\n",
       "                };\n",
       "                });\n",
       "            </script>\n",
       "        </div>"
      ]
     },
     "metadata": {},
     "output_type": "display_data"
    }
   ],
   "source": [
    "df.scatter_matrix()"
   ]
  },
  {
   "cell_type": "code",
   "execution_count": null,
   "metadata": {},
   "outputs": [],
   "source": []
  }
 ],
 "metadata": {
  "kernelspec": {
   "display_name": "Python 3",
   "language": "python",
   "name": "python3"
  },
  "language_info": {
   "codemirror_mode": {
    "name": "ipython",
    "version": 3
   },
   "file_extension": ".py",
   "mimetype": "text/x-python",
   "name": "python",
   "nbconvert_exporter": "python",
   "pygments_lexer": "ipython3",
   "version": "3.7.6"
  }
 },
 "nbformat": 4,
 "nbformat_minor": 4
}
